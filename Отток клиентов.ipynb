{
 "cells": [
  {
   "cell_type": "markdown",
   "metadata": {
    "toc": true
   },
   "source": [
    "<h1>Содержание<span class=\"tocSkip\"></span></h1>\n",
    "<div class=\"toc\"><ul class=\"toc-item\"><li><span><a href=\"#Подготовка-данных\" data-toc-modified-id=\"Подготовка-данных-1\"><span class=\"toc-item-num\">1&nbsp;&nbsp;</span>Подготовка данных</a></span></li><li><span><a href=\"#Исследование-задачи\" data-toc-modified-id=\"Исследование-задачи-2\"><span class=\"toc-item-num\">2&nbsp;&nbsp;</span>Исследование задачи</a></span></li><li><span><a href=\"#Борьба-с-дисбалансом\" data-toc-modified-id=\"Борьба-с-дисбалансом-3\"><span class=\"toc-item-num\">3&nbsp;&nbsp;</span>Борьба с дисбалансом</a></span></li><li><span><a href=\"#Тестирование-модели\" data-toc-modified-id=\"Тестирование-модели-4\"><span class=\"toc-item-num\">4&nbsp;&nbsp;</span>Тестирование модели</a></span></li><li><span><a href=\"#Вывод\" data-toc-modified-id=\"Вывод-5\"><span class=\"toc-item-num\">5&nbsp;&nbsp;</span>Вывод</a></span></li><li><span><a href=\"#Чек-лист-готовности-проекта\" data-toc-modified-id=\"Чек-лист-готовности-проекта-6\"><span class=\"toc-item-num\">6&nbsp;&nbsp;</span>Чек-лист готовности проекта</a></span></li></ul></div>"
   ]
  },
  {
   "cell_type": "markdown",
   "metadata": {},
   "source": [
    "# Отток клиентов"
   ]
  },
  {
   "cell_type": "markdown",
   "metadata": {},
   "source": [
    "Из «Бета-Банка» стали уходить клиенты. Каждый месяц. Немного, но заметно. Банковские маркетологи посчитали: сохранять текущих клиентов дешевле, чем привлекать новых.\n",
    "\n",
    "Нужно спрогнозировать, уйдёт клиент из банка в ближайшее время или нет. Вам предоставлены исторические данные о поведении клиентов и расторжении договоров с банком. \n",
    "\n",
    "Постройте модель с предельно большим значением *F1*-меры. Чтобы сдать проект успешно, нужно довести метрику до 0.59. Проверьте *F1*-меру на тестовой выборке самостоятельно.\n",
    "\n",
    "Дополнительно измеряйте *AUC-ROC*, сравнивайте её значение с *F1*-мерой.\n",
    "\n",
    "Источник данных: [https://www.kaggle.com/barelydedicated/bank-customer-churn-modeling](https://www.kaggle.com/barelydedicated/bank-customer-churn-modeling)"
   ]
  },
  {
   "cell_type": "markdown",
   "metadata": {},
   "source": [
    "## Подготовка данных"
   ]
  },
  {
   "cell_type": "code",
   "execution_count": 1,
   "metadata": {
    "scrolled": true
   },
   "outputs": [
    {
     "data": {
      "text/html": [
       "<div>\n",
       "<style scoped>\n",
       "    .dataframe tbody tr th:only-of-type {\n",
       "        vertical-align: middle;\n",
       "    }\n",
       "\n",
       "    .dataframe tbody tr th {\n",
       "        vertical-align: top;\n",
       "    }\n",
       "\n",
       "    .dataframe thead th {\n",
       "        text-align: right;\n",
       "    }\n",
       "</style>\n",
       "<table border=\"1\" class=\"dataframe\">\n",
       "  <thead>\n",
       "    <tr style=\"text-align: right;\">\n",
       "      <th></th>\n",
       "      <th>RowNumber</th>\n",
       "      <th>CustomerId</th>\n",
       "      <th>Surname</th>\n",
       "      <th>CreditScore</th>\n",
       "      <th>Geography</th>\n",
       "      <th>Gender</th>\n",
       "      <th>Age</th>\n",
       "      <th>Tenure</th>\n",
       "      <th>Balance</th>\n",
       "      <th>NumOfProducts</th>\n",
       "      <th>HasCrCard</th>\n",
       "      <th>IsActiveMember</th>\n",
       "      <th>EstimatedSalary</th>\n",
       "      <th>Exited</th>\n",
       "    </tr>\n",
       "  </thead>\n",
       "  <tbody>\n",
       "    <tr>\n",
       "      <th>0</th>\n",
       "      <td>1</td>\n",
       "      <td>15634602</td>\n",
       "      <td>Hargrave</td>\n",
       "      <td>619</td>\n",
       "      <td>France</td>\n",
       "      <td>Female</td>\n",
       "      <td>42</td>\n",
       "      <td>2.0</td>\n",
       "      <td>0.00</td>\n",
       "      <td>1</td>\n",
       "      <td>1</td>\n",
       "      <td>1</td>\n",
       "      <td>101348.88</td>\n",
       "      <td>1</td>\n",
       "    </tr>\n",
       "    <tr>\n",
       "      <th>1</th>\n",
       "      <td>2</td>\n",
       "      <td>15647311</td>\n",
       "      <td>Hill</td>\n",
       "      <td>608</td>\n",
       "      <td>Spain</td>\n",
       "      <td>Female</td>\n",
       "      <td>41</td>\n",
       "      <td>1.0</td>\n",
       "      <td>83807.86</td>\n",
       "      <td>1</td>\n",
       "      <td>0</td>\n",
       "      <td>1</td>\n",
       "      <td>112542.58</td>\n",
       "      <td>0</td>\n",
       "    </tr>\n",
       "    <tr>\n",
       "      <th>2</th>\n",
       "      <td>3</td>\n",
       "      <td>15619304</td>\n",
       "      <td>Onio</td>\n",
       "      <td>502</td>\n",
       "      <td>France</td>\n",
       "      <td>Female</td>\n",
       "      <td>42</td>\n",
       "      <td>8.0</td>\n",
       "      <td>159660.80</td>\n",
       "      <td>3</td>\n",
       "      <td>1</td>\n",
       "      <td>0</td>\n",
       "      <td>113931.57</td>\n",
       "      <td>1</td>\n",
       "    </tr>\n",
       "    <tr>\n",
       "      <th>3</th>\n",
       "      <td>4</td>\n",
       "      <td>15701354</td>\n",
       "      <td>Boni</td>\n",
       "      <td>699</td>\n",
       "      <td>France</td>\n",
       "      <td>Female</td>\n",
       "      <td>39</td>\n",
       "      <td>1.0</td>\n",
       "      <td>0.00</td>\n",
       "      <td>2</td>\n",
       "      <td>0</td>\n",
       "      <td>0</td>\n",
       "      <td>93826.63</td>\n",
       "      <td>0</td>\n",
       "    </tr>\n",
       "    <tr>\n",
       "      <th>4</th>\n",
       "      <td>5</td>\n",
       "      <td>15737888</td>\n",
       "      <td>Mitchell</td>\n",
       "      <td>850</td>\n",
       "      <td>Spain</td>\n",
       "      <td>Female</td>\n",
       "      <td>43</td>\n",
       "      <td>2.0</td>\n",
       "      <td>125510.82</td>\n",
       "      <td>1</td>\n",
       "      <td>1</td>\n",
       "      <td>1</td>\n",
       "      <td>79084.10</td>\n",
       "      <td>0</td>\n",
       "    </tr>\n",
       "  </tbody>\n",
       "</table>\n",
       "</div>"
      ],
      "text/plain": [
       "   RowNumber  CustomerId   Surname  CreditScore Geography  Gender  Age  \\\n",
       "0          1    15634602  Hargrave          619    France  Female   42   \n",
       "1          2    15647311      Hill          608     Spain  Female   41   \n",
       "2          3    15619304      Onio          502    France  Female   42   \n",
       "3          4    15701354      Boni          699    France  Female   39   \n",
       "4          5    15737888  Mitchell          850     Spain  Female   43   \n",
       "\n",
       "   Tenure    Balance  NumOfProducts  HasCrCard  IsActiveMember  \\\n",
       "0     2.0       0.00              1          1               1   \n",
       "1     1.0   83807.86              1          0               1   \n",
       "2     8.0  159660.80              3          1               0   \n",
       "3     1.0       0.00              2          0               0   \n",
       "4     2.0  125510.82              1          1               1   \n",
       "\n",
       "   EstimatedSalary  Exited  \n",
       "0        101348.88       1  \n",
       "1        112542.58       0  \n",
       "2        113931.57       1  \n",
       "3         93826.63       0  \n",
       "4         79084.10       0  "
      ]
     },
     "execution_count": 1,
     "metadata": {},
     "output_type": "execute_result"
    }
   ],
   "source": [
    "import pandas as pd\n",
    "import matplotlib.pyplot as plt\n",
    "import numpy as np\n",
    "from sklearn.model_selection import train_test_split\n",
    "from sklearn.preprocessing import StandardScaler\n",
    "from sklearn.utils import shuffle\n",
    "\n",
    "from sklearn.tree import DecisionTreeClassifier\n",
    "from sklearn.ensemble import RandomForestClassifier\n",
    "from sklearn.linear_model import LogisticRegression\n",
    "\n",
    "from sklearn.metrics import accuracy_score, confusion_matrix, recall_score, precision_score, f1_score, roc_auc_score, roc_curve\n",
    "\n",
    "data = pd.read_csv('/datasets/Churn.csv')\n",
    "data.head()"
   ]
  },
  {
   "cell_type": "code",
   "execution_count": 2,
   "metadata": {
    "scrolled": true
   },
   "outputs": [
    {
     "data": {
      "text/plain": [
       "RowNumber            0\n",
       "CustomerId           0\n",
       "Surname              0\n",
       "CreditScore          0\n",
       "Geography            0\n",
       "Gender               0\n",
       "Age                  0\n",
       "Tenure             909\n",
       "Balance              0\n",
       "NumOfProducts        0\n",
       "HasCrCard            0\n",
       "IsActiveMember       0\n",
       "EstimatedSalary      0\n",
       "Exited               0\n",
       "dtype: int64"
      ]
     },
     "execution_count": 2,
     "metadata": {},
     "output_type": "execute_result"
    }
   ],
   "source": [
    "data.isna().sum()\n",
    "#data['CustomerId'].duplicated().sum()\n"
   ]
  },
  {
   "cell_type": "code",
   "execution_count": 3,
   "metadata": {
    "scrolled": true
   },
   "outputs": [
    {
     "data": {
      "text/plain": [
       "RowNumber          0\n",
       "CustomerId         0\n",
       "Surname            0\n",
       "CreditScore        0\n",
       "Geography          0\n",
       "Gender             0\n",
       "Age                0\n",
       "Tenure             0\n",
       "Balance            0\n",
       "NumOfProducts      0\n",
       "HasCrCard          0\n",
       "IsActiveMember     0\n",
       "EstimatedSalary    0\n",
       "Exited             0\n",
       "dtype: int64"
      ]
     },
     "execution_count": 3,
     "metadata": {},
     "output_type": "execute_result"
    }
   ],
   "source": [
    "data['Tenure'] = data['Tenure'].fillna(0)\n",
    "data.isna().sum()"
   ]
  },
  {
   "cell_type": "markdown",
   "metadata": {},
   "source": [
    "Импортируем библиотеки и сохраним датасет в переменную data. Выведем первые 5 строк на экран. Проверим на наличие пропусков, в столбце Tenure 900 выявляются пропусков, заменим их на значение 0 (позже попробуем заменить на медиану). \n",
    "Первые три столбца можно смело удалить, т.к. качество модели они не улучшат. \n",
    "Столбцы Geograph и Gender преобразуем с помощью OHE для обучения ЛР, т.к. они относятся к категориальному типу данных.\n",
    "Столбец Exited с целевым признаком."
   ]
  },
  {
   "cell_type": "code",
   "execution_count": 4,
   "metadata": {
    "scrolled": true
   },
   "outputs": [
    {
     "data": {
      "text/html": [
       "<div>\n",
       "<style scoped>\n",
       "    .dataframe tbody tr th:only-of-type {\n",
       "        vertical-align: middle;\n",
       "    }\n",
       "\n",
       "    .dataframe tbody tr th {\n",
       "        vertical-align: top;\n",
       "    }\n",
       "\n",
       "    .dataframe thead th {\n",
       "        text-align: right;\n",
       "    }\n",
       "</style>\n",
       "<table border=\"1\" class=\"dataframe\">\n",
       "  <thead>\n",
       "    <tr style=\"text-align: right;\">\n",
       "      <th></th>\n",
       "      <th>CreditScore</th>\n",
       "      <th>Geography</th>\n",
       "      <th>Gender</th>\n",
       "      <th>Age</th>\n",
       "      <th>Tenure</th>\n",
       "      <th>Balance</th>\n",
       "      <th>NumOfProducts</th>\n",
       "      <th>HasCrCard</th>\n",
       "      <th>IsActiveMember</th>\n",
       "      <th>EstimatedSalary</th>\n",
       "      <th>Exited</th>\n",
       "    </tr>\n",
       "  </thead>\n",
       "  <tbody>\n",
       "    <tr>\n",
       "      <th>0</th>\n",
       "      <td>619</td>\n",
       "      <td>France</td>\n",
       "      <td>Female</td>\n",
       "      <td>42</td>\n",
       "      <td>2.0</td>\n",
       "      <td>0.00</td>\n",
       "      <td>1</td>\n",
       "      <td>1</td>\n",
       "      <td>1</td>\n",
       "      <td>101348.88</td>\n",
       "      <td>1</td>\n",
       "    </tr>\n",
       "    <tr>\n",
       "      <th>1</th>\n",
       "      <td>608</td>\n",
       "      <td>Spain</td>\n",
       "      <td>Female</td>\n",
       "      <td>41</td>\n",
       "      <td>1.0</td>\n",
       "      <td>83807.86</td>\n",
       "      <td>1</td>\n",
       "      <td>0</td>\n",
       "      <td>1</td>\n",
       "      <td>112542.58</td>\n",
       "      <td>0</td>\n",
       "    </tr>\n",
       "    <tr>\n",
       "      <th>2</th>\n",
       "      <td>502</td>\n",
       "      <td>France</td>\n",
       "      <td>Female</td>\n",
       "      <td>42</td>\n",
       "      <td>8.0</td>\n",
       "      <td>159660.80</td>\n",
       "      <td>3</td>\n",
       "      <td>1</td>\n",
       "      <td>0</td>\n",
       "      <td>113931.57</td>\n",
       "      <td>1</td>\n",
       "    </tr>\n",
       "    <tr>\n",
       "      <th>3</th>\n",
       "      <td>699</td>\n",
       "      <td>France</td>\n",
       "      <td>Female</td>\n",
       "      <td>39</td>\n",
       "      <td>1.0</td>\n",
       "      <td>0.00</td>\n",
       "      <td>2</td>\n",
       "      <td>0</td>\n",
       "      <td>0</td>\n",
       "      <td>93826.63</td>\n",
       "      <td>0</td>\n",
       "    </tr>\n",
       "    <tr>\n",
       "      <th>4</th>\n",
       "      <td>850</td>\n",
       "      <td>Spain</td>\n",
       "      <td>Female</td>\n",
       "      <td>43</td>\n",
       "      <td>2.0</td>\n",
       "      <td>125510.82</td>\n",
       "      <td>1</td>\n",
       "      <td>1</td>\n",
       "      <td>1</td>\n",
       "      <td>79084.10</td>\n",
       "      <td>0</td>\n",
       "    </tr>\n",
       "  </tbody>\n",
       "</table>\n",
       "</div>"
      ],
      "text/plain": [
       "   CreditScore Geography  Gender  Age  Tenure    Balance  NumOfProducts  \\\n",
       "0          619    France  Female   42     2.0       0.00              1   \n",
       "1          608     Spain  Female   41     1.0   83807.86              1   \n",
       "2          502    France  Female   42     8.0  159660.80              3   \n",
       "3          699    France  Female   39     1.0       0.00              2   \n",
       "4          850     Spain  Female   43     2.0  125510.82              1   \n",
       "\n",
       "   HasCrCard  IsActiveMember  EstimatedSalary  Exited  \n",
       "0          1               1        101348.88       1  \n",
       "1          0               1        112542.58       0  \n",
       "2          1               0        113931.57       1  \n",
       "3          0               0         93826.63       0  \n",
       "4          1               1         79084.10       0  "
      ]
     },
     "execution_count": 4,
     "metadata": {},
     "output_type": "execute_result"
    }
   ],
   "source": [
    "data = data.drop(['RowNumber', 'CustomerId', 'Surname'], axis=1)\n",
    "data.head()"
   ]
  },
  {
   "cell_type": "code",
   "execution_count": 5,
   "metadata": {
    "scrolled": true
   },
   "outputs": [
    {
     "data": {
      "text/html": [
       "<div>\n",
       "<style scoped>\n",
       "    .dataframe tbody tr th:only-of-type {\n",
       "        vertical-align: middle;\n",
       "    }\n",
       "\n",
       "    .dataframe tbody tr th {\n",
       "        vertical-align: top;\n",
       "    }\n",
       "\n",
       "    .dataframe thead th {\n",
       "        text-align: right;\n",
       "    }\n",
       "</style>\n",
       "<table border=\"1\" class=\"dataframe\">\n",
       "  <thead>\n",
       "    <tr style=\"text-align: right;\">\n",
       "      <th></th>\n",
       "      <th>CreditScore</th>\n",
       "      <th>Age</th>\n",
       "      <th>Tenure</th>\n",
       "      <th>Balance</th>\n",
       "      <th>NumOfProducts</th>\n",
       "      <th>HasCrCard</th>\n",
       "      <th>IsActiveMember</th>\n",
       "      <th>EstimatedSalary</th>\n",
       "      <th>Exited</th>\n",
       "      <th>Geography_Germany</th>\n",
       "      <th>Geography_Spain</th>\n",
       "      <th>Gender_Male</th>\n",
       "    </tr>\n",
       "  </thead>\n",
       "  <tbody>\n",
       "    <tr>\n",
       "      <th>0</th>\n",
       "      <td>619</td>\n",
       "      <td>42</td>\n",
       "      <td>2.0</td>\n",
       "      <td>0.00</td>\n",
       "      <td>1</td>\n",
       "      <td>1</td>\n",
       "      <td>1</td>\n",
       "      <td>101348.88</td>\n",
       "      <td>1</td>\n",
       "      <td>0</td>\n",
       "      <td>0</td>\n",
       "      <td>0</td>\n",
       "    </tr>\n",
       "    <tr>\n",
       "      <th>1</th>\n",
       "      <td>608</td>\n",
       "      <td>41</td>\n",
       "      <td>1.0</td>\n",
       "      <td>83807.86</td>\n",
       "      <td>1</td>\n",
       "      <td>0</td>\n",
       "      <td>1</td>\n",
       "      <td>112542.58</td>\n",
       "      <td>0</td>\n",
       "      <td>0</td>\n",
       "      <td>1</td>\n",
       "      <td>0</td>\n",
       "    </tr>\n",
       "    <tr>\n",
       "      <th>2</th>\n",
       "      <td>502</td>\n",
       "      <td>42</td>\n",
       "      <td>8.0</td>\n",
       "      <td>159660.80</td>\n",
       "      <td>3</td>\n",
       "      <td>1</td>\n",
       "      <td>0</td>\n",
       "      <td>113931.57</td>\n",
       "      <td>1</td>\n",
       "      <td>0</td>\n",
       "      <td>0</td>\n",
       "      <td>0</td>\n",
       "    </tr>\n",
       "    <tr>\n",
       "      <th>3</th>\n",
       "      <td>699</td>\n",
       "      <td>39</td>\n",
       "      <td>1.0</td>\n",
       "      <td>0.00</td>\n",
       "      <td>2</td>\n",
       "      <td>0</td>\n",
       "      <td>0</td>\n",
       "      <td>93826.63</td>\n",
       "      <td>0</td>\n",
       "      <td>0</td>\n",
       "      <td>0</td>\n",
       "      <td>0</td>\n",
       "    </tr>\n",
       "    <tr>\n",
       "      <th>4</th>\n",
       "      <td>850</td>\n",
       "      <td>43</td>\n",
       "      <td>2.0</td>\n",
       "      <td>125510.82</td>\n",
       "      <td>1</td>\n",
       "      <td>1</td>\n",
       "      <td>1</td>\n",
       "      <td>79084.10</td>\n",
       "      <td>0</td>\n",
       "      <td>0</td>\n",
       "      <td>1</td>\n",
       "      <td>0</td>\n",
       "    </tr>\n",
       "  </tbody>\n",
       "</table>\n",
       "</div>"
      ],
      "text/plain": [
       "   CreditScore  Age  Tenure    Balance  NumOfProducts  HasCrCard  \\\n",
       "0          619   42     2.0       0.00              1          1   \n",
       "1          608   41     1.0   83807.86              1          0   \n",
       "2          502   42     8.0  159660.80              3          1   \n",
       "3          699   39     1.0       0.00              2          0   \n",
       "4          850   43     2.0  125510.82              1          1   \n",
       "\n",
       "   IsActiveMember  EstimatedSalary  Exited  Geography_Germany  \\\n",
       "0               1        101348.88       1                  0   \n",
       "1               1        112542.58       0                  0   \n",
       "2               0        113931.57       1                  0   \n",
       "3               0         93826.63       0                  0   \n",
       "4               1         79084.10       0                  0   \n",
       "\n",
       "   Geography_Spain  Gender_Male  \n",
       "0                0            0  \n",
       "1                1            0  \n",
       "2                0            0  \n",
       "3                0            0  \n",
       "4                1            0  "
      ]
     },
     "execution_count": 5,
     "metadata": {},
     "output_type": "execute_result"
    }
   ],
   "source": [
    "data_dum = pd.get_dummies(data, drop_first=True)\n",
    "data_dum.head()"
   ]
  },
  {
   "cell_type": "markdown",
   "metadata": {},
   "source": [
    "Методом get_dummies обработали столбцы с категориальными признакамию. Далее разобьем датасет на обучающую, проверочную и тестовую выборки в соотношении 3:1 стратифицируя по целевому признаку."
   ]
  },
  {
   "cell_type": "code",
   "execution_count": 6,
   "metadata": {
    "scrolled": true
   },
   "outputs": [
    {
     "data": {
      "text/plain": [
       "(7500, 11)"
      ]
     },
     "metadata": {},
     "output_type": "display_data"
    },
    {
     "data": {
      "text/plain": [
       "(2500, 11)"
      ]
     },
     "metadata": {},
     "output_type": "display_data"
    },
    {
     "data": {
      "text/plain": [
       "(7500,)"
      ]
     },
     "metadata": {},
     "output_type": "display_data"
    },
    {
     "data": {
      "text/plain": [
       "(2500,)"
      ]
     },
     "metadata": {},
     "output_type": "display_data"
    },
    {
     "data": {
      "text/plain": [
       "(2250, 11)"
      ]
     },
     "metadata": {},
     "output_type": "display_data"
    },
    {
     "data": {
      "text/plain": [
       "(2250,)"
      ]
     },
     "metadata": {},
     "output_type": "display_data"
    }
   ],
   "source": [
    "target = data_dum['Exited']\n",
    "features = data_dum.drop('Exited', axis=1)\n",
    "\n",
    "features, features_test, target, target_test = train_test_split(\n",
    "    features, target, test_size=0.25, random_state=12345, stratify=target)\n",
    "features_train, features_valid, target_train, target_valid = train_test_split(\n",
    "    features, target, test_size=0.3, random_state=12345, stratify=target)\n",
    "\n",
    "display(features.shape)\n",
    "display(features_test.shape)\n",
    "display(target.shape)\n",
    "display(target_test.shape)\n",
    "display(features_valid.shape)\n",
    "display(target_valid.shape)"
   ]
  },
  {
   "cell_type": "markdown",
   "metadata": {},
   "source": [
    "Масштабируем столбцы c различающимся масштабом данных, уберем оповещение об ошибке методом pd.options.mode.chained_assignment"
   ]
  },
  {
   "cell_type": "code",
   "execution_count": 7,
   "metadata": {},
   "outputs": [
    {
     "data": {
      "text/html": [
       "<div>\n",
       "<style scoped>\n",
       "    .dataframe tbody tr th:only-of-type {\n",
       "        vertical-align: middle;\n",
       "    }\n",
       "\n",
       "    .dataframe tbody tr th {\n",
       "        vertical-align: top;\n",
       "    }\n",
       "\n",
       "    .dataframe thead th {\n",
       "        text-align: right;\n",
       "    }\n",
       "</style>\n",
       "<table border=\"1\" class=\"dataframe\">\n",
       "  <thead>\n",
       "    <tr style=\"text-align: right;\">\n",
       "      <th></th>\n",
       "      <th>CreditScore</th>\n",
       "      <th>Age</th>\n",
       "      <th>Tenure</th>\n",
       "      <th>Balance</th>\n",
       "      <th>NumOfProducts</th>\n",
       "      <th>HasCrCard</th>\n",
       "      <th>IsActiveMember</th>\n",
       "      <th>EstimatedSalary</th>\n",
       "      <th>Geography_Germany</th>\n",
       "      <th>Geography_Spain</th>\n",
       "      <th>Gender_Male</th>\n",
       "    </tr>\n",
       "  </thead>\n",
       "  <tbody>\n",
       "    <tr>\n",
       "      <th>7888</th>\n",
       "      <td>-0.590796</td>\n",
       "      <td>-0.771598</td>\n",
       "      <td>-1.458524</td>\n",
       "      <td>0.037375</td>\n",
       "      <td>-0.912868</td>\n",
       "      <td>1</td>\n",
       "      <td>0</td>\n",
       "      <td>-0.390593</td>\n",
       "      <td>0</td>\n",
       "      <td>0</td>\n",
       "      <td>0</td>\n",
       "    </tr>\n",
       "    <tr>\n",
       "      <th>1567</th>\n",
       "      <td>0.634146</td>\n",
       "      <td>1.360093</td>\n",
       "      <td>0.472362</td>\n",
       "      <td>0.609479</td>\n",
       "      <td>-0.912868</td>\n",
       "      <td>0</td>\n",
       "      <td>0</td>\n",
       "      <td>1.582280</td>\n",
       "      <td>0</td>\n",
       "      <td>0</td>\n",
       "      <td>1</td>\n",
       "    </tr>\n",
       "    <tr>\n",
       "      <th>8704</th>\n",
       "      <td>1.364994</td>\n",
       "      <td>0.294247</td>\n",
       "      <td>-0.814895</td>\n",
       "      <td>0.513659</td>\n",
       "      <td>0.799371</td>\n",
       "      <td>1</td>\n",
       "      <td>0</td>\n",
       "      <td>-1.642022</td>\n",
       "      <td>0</td>\n",
       "      <td>1</td>\n",
       "      <td>0</td>\n",
       "    </tr>\n",
       "    <tr>\n",
       "      <th>7244</th>\n",
       "      <td>-2.124547</td>\n",
       "      <td>-0.577808</td>\n",
       "      <td>0.794177</td>\n",
       "      <td>-1.234500</td>\n",
       "      <td>0.799371</td>\n",
       "      <td>1</td>\n",
       "      <td>0</td>\n",
       "      <td>0.382246</td>\n",
       "      <td>0</td>\n",
       "      <td>0</td>\n",
       "      <td>0</td>\n",
       "    </tr>\n",
       "    <tr>\n",
       "      <th>6466</th>\n",
       "      <td>0.273869</td>\n",
       "      <td>-0.674703</td>\n",
       "      <td>-0.171267</td>\n",
       "      <td>1.003775</td>\n",
       "      <td>-0.912868</td>\n",
       "      <td>1</td>\n",
       "      <td>1</td>\n",
       "      <td>0.305778</td>\n",
       "      <td>1</td>\n",
       "      <td>0</td>\n",
       "      <td>1</td>\n",
       "    </tr>\n",
       "  </tbody>\n",
       "</table>\n",
       "</div>"
      ],
      "text/plain": [
       "      CreditScore       Age    Tenure   Balance  NumOfProducts  HasCrCard  \\\n",
       "7888    -0.590796 -0.771598 -1.458524  0.037375      -0.912868          1   \n",
       "1567     0.634146  1.360093  0.472362  0.609479      -0.912868          0   \n",
       "8704     1.364994  0.294247 -0.814895  0.513659       0.799371          1   \n",
       "7244    -2.124547 -0.577808  0.794177 -1.234500       0.799371          1   \n",
       "6466     0.273869 -0.674703 -0.171267  1.003775      -0.912868          1   \n",
       "\n",
       "      IsActiveMember  EstimatedSalary  Geography_Germany  Geography_Spain  \\\n",
       "7888               0        -0.390593                  0                0   \n",
       "1567               0         1.582280                  0                0   \n",
       "8704               0        -1.642022                  0                1   \n",
       "7244               0         0.382246                  0                0   \n",
       "6466               1         0.305778                  1                0   \n",
       "\n",
       "      Gender_Male  \n",
       "7888            0  \n",
       "1567            1  \n",
       "8704            0  \n",
       "7244            0  \n",
       "6466            1  "
      ]
     },
     "metadata": {},
     "output_type": "display_data"
    },
    {
     "data": {
      "text/html": [
       "<div>\n",
       "<style scoped>\n",
       "    .dataframe tbody tr th:only-of-type {\n",
       "        vertical-align: middle;\n",
       "    }\n",
       "\n",
       "    .dataframe tbody tr th {\n",
       "        vertical-align: top;\n",
       "    }\n",
       "\n",
       "    .dataframe thead th {\n",
       "        text-align: right;\n",
       "    }\n",
       "</style>\n",
       "<table border=\"1\" class=\"dataframe\">\n",
       "  <thead>\n",
       "    <tr style=\"text-align: right;\">\n",
       "      <th></th>\n",
       "      <th>CreditScore</th>\n",
       "      <th>Age</th>\n",
       "      <th>Tenure</th>\n",
       "      <th>Balance</th>\n",
       "      <th>NumOfProducts</th>\n",
       "      <th>HasCrCard</th>\n",
       "      <th>IsActiveMember</th>\n",
       "      <th>EstimatedSalary</th>\n",
       "      <th>Geography_Germany</th>\n",
       "      <th>Geography_Spain</th>\n",
       "      <th>Gender_Male</th>\n",
       "    </tr>\n",
       "  </thead>\n",
       "  <tbody>\n",
       "    <tr>\n",
       "      <th>5411</th>\n",
       "      <td>-0.096701</td>\n",
       "      <td>0.100457</td>\n",
       "      <td>-1.458524</td>\n",
       "      <td>-1.234500</td>\n",
       "      <td>0.799371</td>\n",
       "      <td>1</td>\n",
       "      <td>0</td>\n",
       "      <td>-1.567067</td>\n",
       "      <td>0</td>\n",
       "      <td>0</td>\n",
       "      <td>0</td>\n",
       "    </tr>\n",
       "    <tr>\n",
       "      <th>7140</th>\n",
       "      <td>0.531210</td>\n",
       "      <td>0.003562</td>\n",
       "      <td>0.472362</td>\n",
       "      <td>1.213124</td>\n",
       "      <td>-0.912868</td>\n",
       "      <td>0</td>\n",
       "      <td>0</td>\n",
       "      <td>1.445283</td>\n",
       "      <td>0</td>\n",
       "      <td>1</td>\n",
       "      <td>1</td>\n",
       "    </tr>\n",
       "    <tr>\n",
       "      <th>2072</th>\n",
       "      <td>0.942955</td>\n",
       "      <td>-0.287123</td>\n",
       "      <td>-0.171267</td>\n",
       "      <td>-1.234500</td>\n",
       "      <td>0.799371</td>\n",
       "      <td>1</td>\n",
       "      <td>1</td>\n",
       "      <td>1.571650</td>\n",
       "      <td>0</td>\n",
       "      <td>0</td>\n",
       "      <td>1</td>\n",
       "    </tr>\n",
       "    <tr>\n",
       "      <th>3613</th>\n",
       "      <td>0.129759</td>\n",
       "      <td>-1.352969</td>\n",
       "      <td>0.472362</td>\n",
       "      <td>1.535775</td>\n",
       "      <td>0.799371</td>\n",
       "      <td>1</td>\n",
       "      <td>1</td>\n",
       "      <td>0.127645</td>\n",
       "      <td>1</td>\n",
       "      <td>0</td>\n",
       "      <td>1</td>\n",
       "    </tr>\n",
       "    <tr>\n",
       "      <th>9530</th>\n",
       "      <td>0.160639</td>\n",
       "      <td>0.197352</td>\n",
       "      <td>0.472362</td>\n",
       "      <td>-1.234500</td>\n",
       "      <td>0.799371</td>\n",
       "      <td>0</td>\n",
       "      <td>0</td>\n",
       "      <td>1.158330</td>\n",
       "      <td>0</td>\n",
       "      <td>0</td>\n",
       "      <td>1</td>\n",
       "    </tr>\n",
       "  </tbody>\n",
       "</table>\n",
       "</div>"
      ],
      "text/plain": [
       "      CreditScore       Age    Tenure   Balance  NumOfProducts  HasCrCard  \\\n",
       "5411    -0.096701  0.100457 -1.458524 -1.234500       0.799371          1   \n",
       "7140     0.531210  0.003562  0.472362  1.213124      -0.912868          0   \n",
       "2072     0.942955 -0.287123 -0.171267 -1.234500       0.799371          1   \n",
       "3613     0.129759 -1.352969  0.472362  1.535775       0.799371          1   \n",
       "9530     0.160639  0.197352  0.472362 -1.234500       0.799371          0   \n",
       "\n",
       "      IsActiveMember  EstimatedSalary  Geography_Germany  Geography_Spain  \\\n",
       "5411               0        -1.567067                  0                0   \n",
       "7140               0         1.445283                  0                1   \n",
       "2072               1         1.571650                  0                0   \n",
       "3613               1         0.127645                  1                0   \n",
       "9530               0         1.158330                  0                0   \n",
       "\n",
       "      Gender_Male  \n",
       "5411            0  \n",
       "7140            1  \n",
       "2072            1  \n",
       "3613            1  \n",
       "9530            1  "
      ]
     },
     "metadata": {},
     "output_type": "display_data"
    },
    {
     "data": {
      "text/html": [
       "<div>\n",
       "<style scoped>\n",
       "    .dataframe tbody tr th:only-of-type {\n",
       "        vertical-align: middle;\n",
       "    }\n",
       "\n",
       "    .dataframe tbody tr th {\n",
       "        vertical-align: top;\n",
       "    }\n",
       "\n",
       "    .dataframe thead th {\n",
       "        text-align: right;\n",
       "    }\n",
       "</style>\n",
       "<table border=\"1\" class=\"dataframe\">\n",
       "  <thead>\n",
       "    <tr style=\"text-align: right;\">\n",
       "      <th></th>\n",
       "      <th>CreditScore</th>\n",
       "      <th>Age</th>\n",
       "      <th>Tenure</th>\n",
       "      <th>Balance</th>\n",
       "      <th>NumOfProducts</th>\n",
       "      <th>HasCrCard</th>\n",
       "      <th>IsActiveMember</th>\n",
       "      <th>EstimatedSalary</th>\n",
       "      <th>Geography_Germany</th>\n",
       "      <th>Geography_Spain</th>\n",
       "      <th>Gender_Male</th>\n",
       "    </tr>\n",
       "  </thead>\n",
       "  <tbody>\n",
       "    <tr>\n",
       "      <th>956</th>\n",
       "      <td>1.601748</td>\n",
       "      <td>0.391142</td>\n",
       "      <td>-1.458524</td>\n",
       "      <td>-1.234500</td>\n",
       "      <td>0.799371</td>\n",
       "      <td>0</td>\n",
       "      <td>1</td>\n",
       "      <td>-0.264009</td>\n",
       "      <td>0</td>\n",
       "      <td>1</td>\n",
       "      <td>0</td>\n",
       "    </tr>\n",
       "    <tr>\n",
       "      <th>8541</th>\n",
       "      <td>-0.045233</td>\n",
       "      <td>0.778722</td>\n",
       "      <td>0.150548</td>\n",
       "      <td>0.458372</td>\n",
       "      <td>0.799371</td>\n",
       "      <td>1</td>\n",
       "      <td>1</td>\n",
       "      <td>0.987269</td>\n",
       "      <td>0</td>\n",
       "      <td>1</td>\n",
       "      <td>1</td>\n",
       "    </tr>\n",
       "    <tr>\n",
       "      <th>8846</th>\n",
       "      <td>-0.827549</td>\n",
       "      <td>1.360093</td>\n",
       "      <td>-0.814895</td>\n",
       "      <td>-1.234500</td>\n",
       "      <td>0.799371</td>\n",
       "      <td>1</td>\n",
       "      <td>0</td>\n",
       "      <td>-1.265160</td>\n",
       "      <td>0</td>\n",
       "      <td>0</td>\n",
       "      <td>0</td>\n",
       "    </tr>\n",
       "    <tr>\n",
       "      <th>1270</th>\n",
       "      <td>0.747376</td>\n",
       "      <td>-0.868493</td>\n",
       "      <td>0.794177</td>\n",
       "      <td>0.614058</td>\n",
       "      <td>-0.912868</td>\n",
       "      <td>1</td>\n",
       "      <td>0</td>\n",
       "      <td>-1.488621</td>\n",
       "      <td>1</td>\n",
       "      <td>0</td>\n",
       "      <td>1</td>\n",
       "    </tr>\n",
       "    <tr>\n",
       "      <th>3526</th>\n",
       "      <td>1.519399</td>\n",
       "      <td>-0.868493</td>\n",
       "      <td>1.437805</td>\n",
       "      <td>-1.234500</td>\n",
       "      <td>0.799371</td>\n",
       "      <td>1</td>\n",
       "      <td>0</td>\n",
       "      <td>0.629624</td>\n",
       "      <td>0</td>\n",
       "      <td>0</td>\n",
       "      <td>0</td>\n",
       "    </tr>\n",
       "  </tbody>\n",
       "</table>\n",
       "</div>"
      ],
      "text/plain": [
       "      CreditScore       Age    Tenure   Balance  NumOfProducts  HasCrCard  \\\n",
       "956      1.601748  0.391142 -1.458524 -1.234500       0.799371          0   \n",
       "8541    -0.045233  0.778722  0.150548  0.458372       0.799371          1   \n",
       "8846    -0.827549  1.360093 -0.814895 -1.234500       0.799371          1   \n",
       "1270     0.747376 -0.868493  0.794177  0.614058      -0.912868          1   \n",
       "3526     1.519399 -0.868493  1.437805 -1.234500       0.799371          1   \n",
       "\n",
       "      IsActiveMember  EstimatedSalary  Geography_Germany  Geography_Spain  \\\n",
       "956                1        -0.264009                  0                1   \n",
       "8541               1         0.987269                  0                1   \n",
       "8846               0        -1.265160                  0                0   \n",
       "1270               0        -1.488621                  1                0   \n",
       "3526               0         0.629624                  0                0   \n",
       "\n",
       "      Gender_Male  \n",
       "956             0  \n",
       "8541            1  \n",
       "8846            0  \n",
       "1270            1  \n",
       "3526            0  "
      ]
     },
     "metadata": {},
     "output_type": "display_data"
    }
   ],
   "source": [
    "pd.options.mode.chained_assignment = None\n",
    "\n",
    "numeric = ['CreditScore', 'Age', 'Tenure', 'Balance', 'NumOfProducts', 'EstimatedSalary']\n",
    "scaler = StandardScaler()\n",
    "scaler.fit(features_train[numeric])\n",
    "StandardScaler(copy=True, with_mean=True, with_std=True)\n",
    "features_train[numeric] = scaler.transform(features_train[numeric])\n",
    "features_valid[numeric] = scaler.transform(features_valid[numeric])\n",
    "features_test[numeric] = scaler.transform(features_test[numeric])\n",
    "display(features_test.head())\n",
    "display(features_valid.head())\n",
    "display(features_train.head())"
   ]
  },
  {
   "cell_type": "markdown",
   "metadata": {},
   "source": [
    "## Исследование задачи"
   ]
  },
  {
   "cell_type": "markdown",
   "metadata": {},
   "source": [
    "Попробуем обучить модели без учета взвешивания, начнем с обучающего дерева, далее обучающий лес и логистическая регрессия. Лучшие модели сохраним в переменных. Выведем Accuracy, Лучшую модель, соотношение ответов, матрицу ошибок, полноту, точность, f1_score для всех лучших моделей."
   ]
  },
  {
   "cell_type": "code",
   "execution_count": 8,
   "metadata": {},
   "outputs": [
    {
     "name": "stdout",
     "output_type": "stream",
     "text": [
      "Accuracy наилучшей модели на валидационной выборке: 0.8506666666666667\n",
      "Лучшая модель: DecisionTreeClassifier(max_depth=5, random_state=12345)\n",
      "Соотношение ответов: 0    0.909333\n",
      "1    0.090667\n",
      "dtype: float64\n",
      "Матрица ошибок [[1751   41]\n",
      " [ 295  163]]\n",
      "recall: 0.3558951965065502\n",
      "precision: 0.7990196078431373\n",
      "f1_score 0.49244712990936557\n"
     ]
    }
   ],
   "source": [
    "best_model = None\n",
    "best_result = 0\n",
    "\n",
    "for i in range(1,40):\n",
    "    model = DecisionTreeClassifier(random_state=12345, max_depth=i)\n",
    "    model.fit(features_train, target_train)\n",
    "    predictions_valid = model.predict(features_valid)\n",
    "    result = model.score(features_valid, target_valid) \n",
    "    if result > best_result:\n",
    "        best_model = model\n",
    "        best_result = model.score(features_valid, target_valid) \n",
    "print(\"Accuracy наилучшей модели на валидационной выборке:\", best_result)\n",
    "print('Лучшая модель:', best_model)\n",
    "print('Соотношение ответов:', pd.Series(best_model.predict(features_valid)).value_counts(normalize = 1))\n",
    "print('Матрица ошибок', confusion_matrix(target_valid, best_model.predict(features_valid)))\n",
    "print('recall:', recall_score(target_valid, best_model.predict(features_valid)))\n",
    "print('precision:', precision_score(target_valid, best_model.predict(features_valid)))\n",
    "print('f1_score', f1_score(target_valid, best_model.predict(features_valid)))"
   ]
  },
  {
   "cell_type": "code",
   "execution_count": 9,
   "metadata": {
    "scrolled": true
   },
   "outputs": [
    {
     "name": "stdout",
     "output_type": "stream",
     "text": [
      "Accuracy наилучшей модели на валидационной выборке: 0.8555555555555555 RandomForestClassifier(max_depth=9, n_estimators=19, random_state=12345)\n",
      "Соотношение ответов: 0    0.892889\n",
      "1    0.107111\n",
      "dtype: float64\n",
      "Матрица ошибок [[1738   54]\n",
      " [ 271  187]]\n",
      "recall: 0.40829694323144106\n",
      "precision: 0.7759336099585062\n",
      "f1_score 0.5350500715307582\n",
      "CPU times: user 25.1 s, sys: 224 ms, total: 25.4 s\n",
      "Wall time: 27.6 s\n"
     ]
    }
   ],
   "source": [
    "%%time\n",
    "best_model_forest = None\n",
    "best_result_forest = 0\n",
    "for est in range(1, 40):\n",
    "    for depth in range(1,10):\n",
    "        model = RandomForestClassifier(random_state=12345, n_estimators=est, max_depth=depth) \n",
    "        model.fit(features_train, target_train) \n",
    "        result = model.score(features_valid, target_valid) \n",
    "        if result > best_result_forest:\n",
    "            best_model_forest = model \n",
    "            best_result_forest = model.score(features_valid, target_valid)  \n",
    "\n",
    "print(\"Accuracy наилучшей модели на валидационной выборке:\", best_result_forest, best_model_forest)\n",
    "print('Соотношение ответов:', pd.Series(best_model_forest.predict(features_valid)).value_counts(normalize = 1))\n",
    "print('Матрица ошибок', confusion_matrix(target_valid, best_model_forest.predict(features_valid)))\n",
    "print('recall:', recall_score(target_valid, best_model_forest.predict(features_valid)))\n",
    "print('precision:', precision_score(target_valid, best_model_forest.predict(features_valid)))\n",
    "print('f1_score', f1_score(target_valid, best_model_forest.predict(features_valid)))"
   ]
  },
  {
   "cell_type": "code",
   "execution_count": 11,
   "metadata": {},
   "outputs": [
    {
     "name": "stdout",
     "output_type": "stream",
     "text": [
      "0.8106666666666666\n",
      "Соотношение ответов: 0    0.925333\n",
      "1    0.074667\n",
      "dtype: float64\n",
      "Матрица ошибок [[1724   68]\n",
      " [ 358  100]]\n",
      "recall: 0.2183406113537118\n",
      "precision: 0.5952380952380952\n",
      "f1_score 0.3194888178913738\n"
     ]
    }
   ],
   "source": [
    "model = LogisticRegression(random_state=12345, solver='lbfgs', max_iter=1000)\n",
    "model.fit(features_train, target_train)\n",
    "model.predict(features_valid)\n",
    "print(model.score(features_valid, target_valid))\n",
    "print('Соотношение ответов:', pd.Series(model.predict(features_valid)).value_counts(normalize = 1))\n",
    "print('Матрица ошибок', confusion_matrix(target_valid, model.predict(features_valid)))\n",
    "print('recall:', recall_score(target_valid, model.predict(features_valid)))\n",
    "print('precision:', precision_score(target_valid, model.predict(features_valid)))\n",
    "print('f1_score', f1_score(target_valid, model.predict(features_valid)))"
   ]
  },
  {
   "cell_type": "markdown",
   "metadata": {},
   "source": [
    "Accuracy  у всех моделей высокий, но низкий f1_score говорит о том, что точность и полнота у нас страдают. Все показатели выведены на экран для лучших моделей.\n",
    "Так же по матрицам ошибок видно, что модели стремятся давать ложнонегативные FN прогнозы(ошибки).\n",
    "Попробуем проверить модели на адекватность- посмотрим на дисбаланс классов и обучим константную модель:"
   ]
  },
  {
   "cell_type": "code",
   "execution_count": 12,
   "metadata": {},
   "outputs": [
    {
     "data": {
      "text/plain": [
       "0    0.796444\n",
       "1    0.203556\n",
       "Name: Exited, dtype: float64"
      ]
     },
     "execution_count": 12,
     "metadata": {},
     "output_type": "execute_result"
    }
   ],
   "source": [
    "target_valid.value_counts(normalize = 1)"
   ]
  },
  {
   "cell_type": "code",
   "execution_count": 13,
   "metadata": {},
   "outputs": [
    {
     "data": {
      "text/plain": [
       "0    0.79619\n",
       "1    0.20381\n",
       "Name: Exited, dtype: float64"
      ]
     },
     "execution_count": 13,
     "metadata": {},
     "output_type": "execute_result"
    }
   ],
   "source": [
    "target_train.value_counts(normalize = 1)"
   ]
  },
  {
   "cell_type": "code",
   "execution_count": 14,
   "metadata": {},
   "outputs": [
    {
     "name": "stdout",
     "output_type": "stream",
     "text": [
      "0.7962666666666667\n"
     ]
    }
   ],
   "source": [
    "target_pred_constant = pd.Series([0]*len(target))\n",
    "\n",
    "print(accuracy_score(target, target_pred_constant)) "
   ]
  },
  {
   "cell_type": "markdown",
   "metadata": {},
   "source": [
    "Accuracy константной модели близка к точности обученных раннее моделей."
   ]
  },
  {
   "cell_type": "markdown",
   "metadata": {},
   "source": [
    "## Борьба с дисбалансом"
   ]
  },
  {
   "cell_type": "markdown",
   "metadata": {},
   "source": [
    "Ранее мы видели, что соотношение классов в целевой выборке примерно 4к1. Попробуем сбалансировать данные путем увеличения выборки, попробовал увеличить в 4,5,6 раз, лучшие результаты при 5кратном увеличении. "
   ]
  },
  {
   "cell_type": "code",
   "execution_count": 15,
   "metadata": {
    "scrolled": true
   },
   "outputs": [
    {
     "name": "stdout",
     "output_type": "stream",
     "text": [
      "1    0.561385\n",
      "0    0.438615\n",
      "Name: Exited, dtype: float64\n"
     ]
    }
   ],
   "source": [
    "def upsample(features, target, repeat):\n",
    "    features_zeros = features[target == 0]\n",
    "    features_ones = features[target == 1]\n",
    "    target_zeros = target[target == 0]\n",
    "    target_ones = target[target == 1]\n",
    "\n",
    "    features_upsampled = pd.concat([features_zeros] + [features_ones] * repeat)\n",
    "    target_upsampled = pd.concat([target_zeros] + [target_ones] * repeat)\n",
    "    \n",
    "    features_upsampled, target_upsampled = shuffle(\n",
    "        features_upsampled, target_upsampled, random_state=12345)\n",
    "    \n",
    "    return features_upsampled, target_upsampled\n",
    "\n",
    "features_upsampled, target_upsampled = upsample(features_train, target_train, 5)\n",
    "\n",
    "print(target_upsampled.value_counts(normalize=1))"
   ]
  },
  {
   "cell_type": "markdown",
   "metadata": {},
   "source": [
    "Попробуем обучить модели на новой выборке."
   ]
  },
  {
   "cell_type": "code",
   "execution_count": 16,
   "metadata": {},
   "outputs": [
    {
     "name": "stdout",
     "output_type": "stream",
     "text": [
      "Accuracy наилучшей модели на валидационной выборке: 0.8026666666666666\n",
      "Лучшая модель: DecisionTreeClassifier(max_depth=17, random_state=12345)\n",
      "Соотношение ответов: 0    0.798222\n",
      "1    0.201778\n",
      "dtype: float64\n",
      "Матрица ошибок [[1572  220]\n",
      " [ 224  234]]\n",
      "recall: 0.5109170305676856\n",
      "precision: 0.5154185022026432\n",
      "f1_score 0.5131578947368421\n"
     ]
    }
   ],
   "source": [
    "best_model = None\n",
    "best_result = 0\n",
    "\n",
    "for i in range(1,40):\n",
    "    model = DecisionTreeClassifier(random_state=12345, max_depth=i)\n",
    "    model.fit(features_upsampled, target_upsampled)\n",
    "    predictions_valid = model.predict(features_valid)\n",
    "    result = model.score(features_valid, target_valid) \n",
    "    if result > best_result:\n",
    "        best_model = model\n",
    "        best_result = model.score(features_valid, target_valid) \n",
    "print(\"Accuracy наилучшей модели на валидационной выборке:\", best_result)\n",
    "print('Лучшая модель:', best_model)\n",
    "print('Соотношение ответов:', pd.Series(best_model.predict(features_valid)).value_counts(normalize = 1))\n",
    "print('Матрица ошибок', confusion_matrix(target_valid, best_model.predict(features_valid)))\n",
    "print('recall:', recall_score(target_valid, best_model.predict(features_valid)))\n",
    "print('precision:', precision_score(target_valid, best_model.predict(features_valid)))\n",
    "print('f1_score', f1_score(target_valid, best_model.predict(features_valid)))"
   ]
  },
  {
   "cell_type": "markdown",
   "metadata": {},
   "source": [
    "Показатели увеличились, но недостаточно"
   ]
  },
  {
   "cell_type": "code",
   "execution_count": 17,
   "metadata": {
    "scrolled": false
   },
   "outputs": [
    {
     "name": "stdout",
     "output_type": "stream",
     "text": [
      "Accuracy наилучшей модели на валидационной выборке: 0.8062222222222222 RandomForestClassifier(max_depth=9, n_estimators=30, random_state=12345)\n",
      "Соотношение ответов: 0    0.715556\n",
      "1    0.284444\n",
      "dtype: float64\n",
      "Матрица ошибок [[1483  309]\n",
      " [ 127  331]]\n",
      "recall: 0.722707423580786\n",
      "precision: 0.5171875\n",
      "f1_score 0.6029143897996356\n"
     ]
    }
   ],
   "source": [
    "\n",
    "best_model_forest = None\n",
    "best_result_forest = 0\n",
    "for est in range(1, 40):\n",
    "    for depth in range(1,10):\n",
    "        model = RandomForestClassifier(random_state=12345, n_estimators=est, max_depth=depth) \n",
    "        model.fit(features_upsampled, target_upsampled) \n",
    "        result = model.score(features_valid, target_valid) \n",
    "        if result > best_result_forest:\n",
    "            best_model_forest = model \n",
    "            best_result_forest = model.score(features_valid, target_valid)  \n",
    "\n",
    "print(\"Accuracy наилучшей модели на валидационной выборке:\", best_result_forest, best_model_forest)\n",
    "print('Соотношение ответов:', pd.Series(best_model_forest.predict(features_valid)).value_counts(normalize = 1))\n",
    "print('Матрица ошибок', confusion_matrix(target_valid, best_model_forest.predict(features_valid)))\n",
    "print('recall:', recall_score(target_valid, best_model_forest.predict(features_valid)))\n",
    "print('precision:', precision_score(target_valid, best_model_forest.predict(features_valid)))\n",
    "print('f1_score', f1_score(target_valid, best_model_forest.predict(features_valid)))"
   ]
  },
  {
   "cell_type": "markdown",
   "metadata": {},
   "source": [
    "У модели случайного леса мы добились хорошего результата, значительно увеличись точность и полнота, f1_score 0.60."
   ]
  },
  {
   "cell_type": "code",
   "execution_count": 18,
   "metadata": {},
   "outputs": [
    {
     "name": "stdout",
     "output_type": "stream",
     "text": [
      "0.6493333333333333\n",
      "Соотношение ответов: 0    0.542667\n",
      "1    0.457333\n",
      "dtype: float64\n",
      "Матрица ошибок [[1112  680]\n",
      " [ 109  349]]\n",
      "recall: 0.7620087336244541\n",
      "precision: 0.3391642371234208\n",
      "f1_score 0.4694014794889038\n"
     ]
    }
   ],
   "source": [
    "\n",
    "model = LogisticRegression(random_state=12345, solver='liblinear', max_iter=1000)\n",
    "model.fit(features_upsampled, target_upsampled)\n",
    "model.predict(features_valid)\n",
    "print(model.score(features_valid, target_valid))\n",
    "print('Соотношение ответов:', pd.Series(model.predict(features_valid)).value_counts(normalize = 1))\n",
    "print('Матрица ошибок', confusion_matrix(target_valid, model.predict(features_valid)))\n",
    "print('recall:', recall_score(target_valid, model.predict(features_valid)))\n",
    "print('precision:', precision_score(target_valid, model.predict(features_valid)))\n",
    "print('f1_score', f1_score(target_valid, model.predict(features_valid)))"
   ]
  },
  {
   "cell_type": "markdown",
   "metadata": {},
   "source": [
    "Логистическая регрессия показывает хорошие показатели полноты, но точность всего 0.3, что негативно влияет на показатель f1_score.\n",
    "Можно попробовать поиграть с порогом, но как я понял, мы добьемся увеличения точности и снижения полноты, что в итоге не приведет увеличению f1_score."
   ]
  },
  {
   "cell_type": "markdown",
   "metadata": {},
   "source": [
    "<div class=\"alert alert-info\">\n",
    "<b>Попробуем изменить порог:\n",
    " </b></font>\n",
    "</div>"
   ]
  },
  {
   "cell_type": "code",
   "execution_count": 19,
   "metadata": {},
   "outputs": [
    {
     "name": "stdout",
     "output_type": "stream",
     "text": [
      "Порог = 0.30 | Точность = 0.254, Полнота = 0.937, f1_score = 0.4694\n",
      "Порог = 0.32 | Точность = 0.259, Полнота = 0.924, f1_score = 0.4694\n",
      "Порог = 0.34 | Точность = 0.268, Полнота = 0.917, f1_score = 0.4694\n",
      "Порог = 0.36 | Точность = 0.274, Полнота = 0.893, f1_score = 0.4694\n",
      "Порог = 0.38 | Точность = 0.280, Полнота = 0.873, f1_score = 0.4694\n",
      "Порог = 0.40 | Точность = 0.288, Полнота = 0.860, f1_score = 0.4694\n",
      "Порог = 0.42 | Точность = 0.295, Полнота = 0.838, f1_score = 0.4694\n",
      "Порог = 0.44 | Точность = 0.304, Полнота = 0.825, f1_score = 0.4694\n",
      "Порог = 0.46 | Точность = 0.318, Полнота = 0.808, f1_score = 0.4694\n",
      "Порог = 0.48 | Точность = 0.325, Полнота = 0.784, f1_score = 0.4694\n",
      "Порог = 0.50 | Точность = 0.339, Полнота = 0.762, f1_score = 0.4694\n",
      "Порог = 0.52 | Точность = 0.349, Полнота = 0.729, f1_score = 0.4694\n",
      "Порог = 0.54 | Точность = 0.367, Полнота = 0.714, f1_score = 0.4694\n",
      "Порог = 0.56 | Точность = 0.368, Полнота = 0.672, f1_score = 0.4694\n",
      "Порог = 0.58 | Точность = 0.379, Полнота = 0.642, f1_score = 0.4694\n",
      "Порог = 0.60 | Точность = 0.394, Полнота = 0.611, f1_score = 0.4694\n",
      "Порог = 0.62 | Точность = 0.408, Полнота = 0.585, f1_score = 0.4694\n",
      "Порог = 0.64 | Точность = 0.420, Полнота = 0.552, f1_score = 0.4694\n",
      "Порог = 0.66 | Точность = 0.432, Полнота = 0.511, f1_score = 0.4694\n",
      "Порог = 0.68 | Точность = 0.457, Полнота = 0.493, f1_score = 0.4694\n"
     ]
    }
   ],
   "source": [
    "model = LogisticRegression(random_state=12345, solver='liblinear', max_iter=1000)\n",
    "model.fit(features_upsampled, target_upsampled)\n",
    "\n",
    "probabilities_valid = model.predict_proba(features_valid)\n",
    "probabilities_one_valid = probabilities_valid[:, 1]\n",
    "\n",
    "for threshold in np.arange(0.3, 0.7, 0.02):\n",
    "    predicted_valid = probabilities_one_valid > threshold \n",
    "    precision = precision_score(target_valid, predicted_valid)\n",
    "    recall = recall_score(target_valid, predicted_valid)\n",
    "    f1 = f1_score(target_valid, model.predict(features_valid))\n",
    "\n",
    "    print(\"Порог = {:.2f} | Точность = {:.3f}, Полнота = {:.3f}, f1_score = {:.4f}\".format(\n",
    "        threshold, precision, recall, f1))"
   ]
  },
  {
   "cell_type": "markdown",
   "metadata": {},
   "source": [
    "<div class=\"alert alert-info\">\n",
    "<b> f1 стоит на месте, полноста и точность обратно пропорционально изменяются\n",
    "    \n",
    "попробуем подобрать параметры через gridsearch\n",
    " </b></font>\n",
    "</div>"
   ]
  },
  {
   "cell_type": "code",
   "execution_count": 20,
   "metadata": {
    "scrolled": true
   },
   "outputs": [
    {
     "name": "stdout",
     "output_type": "stream",
     "text": [
      "              precision    recall  f1-score   support\n",
      "\n",
      "           0       0.91      0.62      0.74      1792\n",
      "           1       0.34      0.76      0.47       458\n",
      "\n",
      "    accuracy                           0.65      2250\n",
      "   macro avg       0.62      0.69      0.60      2250\n",
      "weighted avg       0.79      0.65      0.68      2250\n",
      "\n",
      "f1_score 0.4694014794889038\n"
     ]
    }
   ],
   "source": [
    "C = np.logspace(0, 4, 50)\n",
    "penalty = ['l1', 'l2']\n",
    "solver = ['liblinear', 'saga']\n",
    "hyperparameters = dict(C=C, penalty=penalty, solver=solver)\n",
    "logistic = LogisticRegression()\n",
    "gridsearch = GridSearchCV(logistic, hyperparameters, scoring='f1', cv=10)\n",
    "\n",
    "best_model_grid = gridsearch.fit(features_upsampled, target_upsampled)\n",
    "best_params = gridsearch.best_params_\n",
    "model = LogisticRegression(**best_params, max_iter=100)\n",
    "fit_lr = model.fit(features_upsampled, target_upsampled)\n",
    "pred = fit_lr.predict(features_valid)\n",
    "print(classification_report(target_valid, pred))\n",
    "print('f1_score', f1_score(target_valid, pred))"
   ]
  },
  {
   "cell_type": "markdown",
   "metadata": {},
   "source": [
    "## Тестирование модели"
   ]
  },
  {
   "cell_type": "markdown",
   "metadata": {},
   "source": [
    "Протестируем модель RandomForestClassifier(random_state=12345, n_estimators=30, max_depth=9)"
   ]
  },
  {
   "cell_type": "code",
   "execution_count": 21,
   "metadata": {},
   "outputs": [
    {
     "name": "stdout",
     "output_type": "stream",
     "text": [
      "Accuracy наилучшей модели на валидационной выборке: 0.8124\n",
      "Соотношение ответов: 0    0.7144\n",
      "1    0.2856\n",
      "dtype: float64\n",
      "Матрица ошибок [[1654  337]\n",
      " [ 132  377]]\n",
      "recall: 0.7406679764243614\n",
      "precision: 0.5280112044817927\n",
      "f1_score 0.616516762060507\n",
      "AUC-ROC финальной модели: 0.7857031494376956\n",
      "CPU times: user 321 ms, sys: 2.44 ms, total: 324 ms\n",
      "Wall time: 406 ms\n"
     ]
    }
   ],
   "source": [
    "%%time\n",
    "model = RandomForestClassifier(random_state=12345, n_estimators=30, max_depth=9) \n",
    "model.fit(features_upsampled, target_upsampled) \n",
    "result = model.score(features_test, target_test) \n",
    "\n",
    "\n",
    "print(\"Accuracy наилучшей модели на валидационной выборке:\", result)\n",
    "print('Соотношение ответов:', pd.Series(model.predict(features_test)).value_counts(normalize = 1))\n",
    "print('Матрица ошибок', confusion_matrix(target_test, model.predict(features_test)))\n",
    "print('recall:', recall_score(target_test, model.predict(features_test)))\n",
    "print('precision:', precision_score(target_test, model.predict(features_test)))\n",
    "print('f1_score', f1_score(target_test, model.predict(features_test)))\n",
    "print('AUC-ROC финальной модели:', roc_auc_score(target_test, model.predict(features_test)))"
   ]
  },
  {
   "cell_type": "code",
   "execution_count": 22,
   "metadata": {
    "scrolled": true
   },
   "outputs": [
    {
     "data": {
      "image/png": "[encoded data removed]",
      "text/plain": [
       "<Figure size 432x288 with 1 Axes>"
      ]
     },
     "metadata": {
      "needs_background": "light"
     },
     "output_type": "display_data"
    }
   ],
   "source": [
    "probabilities_valid = model.predict_proba(features_test)\n",
    "fpr, tpr, thresholds = roc_curve(target_test, probabilities_valid[:, 1])\n",
    "\n",
    "plt.figure()\n",
    "plt.plot(fpr, tpr)\n",
    "plt.xlim([0.0, 1.0])\n",
    "plt.ylim([0.0, 1.0])\n",
    "plt.xlabel('False Positive Rate')\n",
    "plt.ylabel('True Positive Rate')\n",
    "plt.title('ROC-кривая')\n",
    "plt.grid()\n",
    "plt.show() "
   ]
  },
  {
   "cell_type": "markdown",
   "metadata": {},
   "source": [
    "Благодаря увеличению целевой выборки в 5 раз (попробовал еще 3-4-5-6, примерно такие же результаты дала 3х кратно увеличенная выборка, немного меньше показатели, но сбалансировались ошибки, у настоящей модели склонность ошибаться в сторону ложнопозитивных предсказаний)мы добились хороших показателей f1_score, AUC-ROC, так же ROC-кривая говорит о хорошем качестве модели."
   ]
  },
  {
   "cell_type": "markdown",
   "metadata": {},
   "source": [
    "## Вывод"
   ]
  },
  {
   "cell_type": "markdown",
   "metadata": {},
   "source": [
    "При обучении моделей на несбалансированных данных, наши модели имели хороший показатель accurary, но низкий f1_score, также  стремились ошибаться в сторону ложнонегативных предсказаний. Выявлен дисбаланс класса 0.8 к 0.2 в целевой выборке. \n",
    "После увеличения целевой выборки в 5 раз соотношение классов стало примерно 1 к 1. (0.561385, 0.438615), после чего модели показали лучшие результаты f1_score, самый высокий показатель дала модель обучаеющего леса: Accuracy: 0.806, recall: 0.722, precision: 0.517, f1_score 0.602, что удовлетворяет наши цели. На тестовой выборке эта модель показала так же хорошие результаты: Accuracy: 0.812,recall: 0.740, precision: 0.528, f1_score 0.616, AUC-ROC финальной модели: 0.785. ROC- кривая так же говорит о хорошем качестве модели- прогнозы модели склоняются к истиннопозитивным, кривая сильно отклоняется от прямой константной модели."
   ]
  },
  {
   "cell_type": "code",
   "execution_count": null,
   "metadata": {},
   "outputs": [],
   "source": []
  }
 ],
 "metadata": {
  "ExecuteTimeLog": [
   {
    "duration": 383,
    "start_time": "2022-10-21T07:20:12.044Z"
   },
   {
    "duration": 53,
    "start_time": "2022-10-21T07:20:56.204Z"
   },
   {
    "duration": 42,
    "start_time": "2022-10-21T07:21:03.863Z"
   },
   {
    "duration": 47,
    "start_time": "2022-10-25T07:56:26.737Z"
   },
   {
    "duration": 514,
    "start_time": "2022-10-25T07:56:32.167Z"
   },
   {
    "duration": 7,
    "start_time": "2022-10-25T07:56:35.277Z"
   },
   {
    "duration": 34,
    "start_time": "2022-10-25T07:57:31.146Z"
   },
   {
    "duration": 15,
    "start_time": "2022-10-25T07:57:40.681Z"
   },
   {
    "duration": 12,
    "start_time": "2022-10-25T07:57:46.758Z"
   },
   {
    "duration": 7,
    "start_time": "2022-10-25T07:58:05.121Z"
   },
   {
    "duration": 10,
    "start_time": "2022-10-25T07:58:29.687Z"
   },
   {
    "duration": 7,
    "start_time": "2022-10-25T08:25:50.704Z"
   },
   {
    "duration": 7,
    "start_time": "2022-10-25T08:25:58.001Z"
   },
   {
    "duration": 7,
    "start_time": "2022-10-25T08:26:18.867Z"
   },
   {
    "duration": 823,
    "start_time": "2022-10-25T08:29:29.199Z"
   },
   {
    "duration": 1104,
    "start_time": "2022-10-25T08:30:16.912Z"
   },
   {
    "duration": 1248,
    "start_time": "2022-10-25T08:31:33.194Z"
   },
   {
    "duration": 122,
    "start_time": "2022-10-25T08:31:48.101Z"
   },
   {
    "duration": 185,
    "start_time": "2022-10-25T08:32:02.785Z"
   },
   {
    "duration": 1224,
    "start_time": "2022-10-25T08:32:15.608Z"
   },
   {
    "duration": 137,
    "start_time": "2022-10-25T08:32:25.079Z"
   },
   {
    "duration": 119,
    "start_time": "2022-10-25T08:32:52.268Z"
   },
   {
    "duration": 5,
    "start_time": "2022-10-25T09:03:48.792Z"
   },
   {
    "duration": 12,
    "start_time": "2022-10-25T09:11:18.442Z"
   },
   {
    "duration": 18,
    "start_time": "2022-10-25T09:13:36.292Z"
   },
   {
    "duration": 11,
    "start_time": "2022-10-25T09:26:35.763Z"
   },
   {
    "duration": 54,
    "start_time": "2022-10-25T11:46:43.830Z"
   },
   {
    "duration": 1219,
    "start_time": "2022-10-25T11:47:01.770Z"
   },
   {
    "duration": 10,
    "start_time": "2022-10-25T11:47:02.992Z"
   },
   {
    "duration": 28,
    "start_time": "2022-10-25T11:47:03.004Z"
   },
   {
    "duration": 18,
    "start_time": "2022-10-25T11:47:03.034Z"
   },
   {
    "duration": 41,
    "start_time": "2022-10-25T11:47:03.053Z"
   },
   {
    "duration": 15,
    "start_time": "2022-10-25T11:47:03.095Z"
   },
   {
    "duration": 81,
    "start_time": "2022-10-25T11:47:03.112Z"
   },
   {
    "duration": 12,
    "start_time": "2022-10-25T11:47:30.444Z"
   },
   {
    "duration": 15,
    "start_time": "2022-10-25T11:47:36.131Z"
   },
   {
    "duration": 18,
    "start_time": "2022-10-25T11:50:07.143Z"
   },
   {
    "duration": 17,
    "start_time": "2022-10-25T11:50:13.807Z"
   },
   {
    "duration": 16,
    "start_time": "2022-10-25T11:50:18.950Z"
   },
   {
    "duration": 15,
    "start_time": "2022-10-25T11:51:33.008Z"
   },
   {
    "duration": 15,
    "start_time": "2022-10-25T11:51:53.005Z"
   },
   {
    "duration": 23,
    "start_time": "2022-10-25T11:52:59.787Z"
   },
   {
    "duration": 22,
    "start_time": "2022-10-25T11:53:04.751Z"
   },
   {
    "duration": 20,
    "start_time": "2022-10-25T11:53:36.550Z"
   },
   {
    "duration": 31,
    "start_time": "2022-10-25T11:56:20.648Z"
   },
   {
    "duration": 28,
    "start_time": "2022-10-25T11:56:38.345Z"
   },
   {
    "duration": 750,
    "start_time": "2022-10-25T11:57:05.274Z"
   },
   {
    "duration": 398,
    "start_time": "2022-10-25T11:57:34.624Z"
   },
   {
    "duration": 950,
    "start_time": "2022-10-25T11:57:40.474Z"
   },
   {
    "duration": 26286,
    "start_time": "2022-10-25T11:58:16.910Z"
   },
   {
    "duration": 317,
    "start_time": "2022-10-25T11:59:11.423Z"
   },
   {
    "duration": 61,
    "start_time": "2022-10-25T12:13:17.124Z"
   },
   {
    "duration": 7,
    "start_time": "2022-10-25T12:16:45.874Z"
   },
   {
    "duration": 26029,
    "start_time": "2022-10-25T12:22:13.917Z"
   },
   {
    "duration": 243,
    "start_time": "2022-10-25T12:23:08.502Z"
   },
   {
    "duration": 26992,
    "start_time": "2022-10-25T12:23:50.150Z"
   },
   {
    "duration": 939,
    "start_time": "2022-10-25T12:26:21.353Z"
   },
   {
    "duration": 25855,
    "start_time": "2022-10-25T12:41:39.411Z"
   },
   {
    "duration": 967,
    "start_time": "2022-10-25T12:42:11.592Z"
   },
   {
    "duration": 592,
    "start_time": "2022-10-25T12:43:50.852Z"
   },
   {
    "duration": 51,
    "start_time": "2022-10-25T12:46:11.522Z"
   },
   {
    "duration": 946,
    "start_time": "2022-10-25T12:46:23.282Z"
   },
   {
    "duration": 857,
    "start_time": "2022-10-25T12:46:52.183Z"
   },
   {
    "duration": 50,
    "start_time": "2022-10-25T13:21:29.051Z"
   },
   {
    "duration": 964,
    "start_time": "2022-10-25T13:21:35.443Z"
   },
   {
    "duration": 26471,
    "start_time": "2022-10-25T13:22:01.792Z"
   },
   {
    "duration": 1155,
    "start_time": "2022-10-25T13:28:15.932Z"
   },
   {
    "duration": 8,
    "start_time": "2022-10-25T13:28:17.089Z"
   },
   {
    "duration": 9,
    "start_time": "2022-10-25T13:28:17.098Z"
   },
   {
    "duration": 14,
    "start_time": "2022-10-25T13:28:17.109Z"
   },
   {
    "duration": 22,
    "start_time": "2022-10-25T13:28:17.125Z"
   },
   {
    "duration": 28,
    "start_time": "2022-10-25T13:28:17.149Z"
   },
   {
    "duration": 1079,
    "start_time": "2022-10-25T13:28:17.179Z"
   },
   {
    "duration": 26094,
    "start_time": "2022-10-25T13:28:18.260Z"
   },
   {
    "duration": 785,
    "start_time": "2022-10-25T13:28:44.356Z"
   },
   {
    "duration": 5,
    "start_time": "2022-10-25T13:28:45.238Z"
   },
   {
    "duration": 126,
    "start_time": "2022-10-25T13:33:34.151Z"
   },
   {
    "duration": 52,
    "start_time": "2022-10-25T13:34:02.032Z"
   },
   {
    "duration": 50,
    "start_time": "2022-10-25T13:34:09.068Z"
   },
   {
    "duration": 7,
    "start_time": "2022-10-25T13:34:09.120Z"
   },
   {
    "duration": 9,
    "start_time": "2022-10-25T13:34:09.129Z"
   },
   {
    "duration": 12,
    "start_time": "2022-10-25T13:34:09.140Z"
   },
   {
    "duration": 19,
    "start_time": "2022-10-25T13:34:09.153Z"
   },
   {
    "duration": 21,
    "start_time": "2022-10-25T13:34:09.191Z"
   },
   {
    "duration": 53,
    "start_time": "2022-10-25T13:34:09.248Z"
   },
   {
    "duration": 990,
    "start_time": "2022-10-25T13:34:09.318Z"
   },
   {
    "duration": 26444,
    "start_time": "2022-10-25T13:34:10.311Z"
   },
   {
    "duration": 194,
    "start_time": "2022-10-25T13:34:36.756Z"
   },
   {
    "duration": 93,
    "start_time": "2022-10-25T13:34:36.953Z"
   },
   {
    "duration": 48,
    "start_time": "2022-10-25T13:34:48.888Z"
   },
   {
    "duration": 48,
    "start_time": "2022-10-25T13:37:48.368Z"
   },
   {
    "duration": 6,
    "start_time": "2022-10-25T13:54:43.104Z"
   },
   {
    "duration": 22,
    "start_time": "2022-10-25T13:55:28.341Z"
   },
   {
    "duration": 8,
    "start_time": "2022-10-25T13:55:46.733Z"
   },
   {
    "duration": 6,
    "start_time": "2022-10-25T13:55:52.391Z"
   },
   {
    "duration": 6,
    "start_time": "2022-10-25T13:56:20.071Z"
   },
   {
    "duration": 12,
    "start_time": "2022-10-25T14:28:23.560Z"
   },
   {
    "duration": 19,
    "start_time": "2022-10-25T14:28:29.530Z"
   },
   {
    "duration": 50,
    "start_time": "2022-10-25T14:29:26.660Z"
   },
   {
    "duration": 11,
    "start_time": "2022-10-25T14:29:35.090Z"
   },
   {
    "duration": 25,
    "start_time": "2022-10-25T14:29:37.980Z"
   },
   {
    "duration": 24,
    "start_time": "2022-10-25T14:38:55.253Z"
   },
   {
    "duration": 26,
    "start_time": "2022-10-25T14:43:21.657Z"
   },
   {
    "duration": 1170,
    "start_time": "2022-10-25T14:43:34.417Z"
   },
   {
    "duration": 43,
    "start_time": "2022-10-25T14:54:37.517Z"
   },
   {
    "duration": 24,
    "start_time": "2022-10-25T14:55:30.807Z"
   },
   {
    "duration": 28,
    "start_time": "2022-10-25T14:55:37.335Z"
   },
   {
    "duration": 22,
    "start_time": "2022-10-25T14:55:52.756Z"
   },
   {
    "duration": 32,
    "start_time": "2022-10-25T14:56:16.558Z"
   },
   {
    "duration": 69,
    "start_time": "2022-10-25T14:57:14.978Z"
   },
   {
    "duration": 56,
    "start_time": "2022-10-25T14:57:29.488Z"
   },
   {
    "duration": 55,
    "start_time": "2022-10-25T14:57:43.357Z"
   },
   {
    "duration": 1406,
    "start_time": "2022-10-26T06:34:22.005Z"
   },
   {
    "duration": 8,
    "start_time": "2022-10-26T06:34:23.413Z"
   },
   {
    "duration": 17,
    "start_time": "2022-10-26T06:34:23.423Z"
   },
   {
    "duration": 20,
    "start_time": "2022-10-26T06:34:23.444Z"
   },
   {
    "duration": 31,
    "start_time": "2022-10-26T06:34:23.466Z"
   },
   {
    "duration": 43,
    "start_time": "2022-10-26T06:34:23.498Z"
   },
   {
    "duration": 56,
    "start_time": "2022-10-26T06:34:23.547Z"
   },
   {
    "duration": 1122,
    "start_time": "2022-10-26T06:34:23.793Z"
   },
   {
    "duration": 29705,
    "start_time": "2022-10-26T06:34:24.917Z"
   },
   {
    "duration": 633,
    "start_time": "2022-10-26T06:34:54.623Z"
   },
   {
    "duration": 81,
    "start_time": "2022-10-26T06:34:55.350Z"
   },
   {
    "duration": 11,
    "start_time": "2022-10-26T06:34:55.445Z"
   },
   {
    "duration": 48,
    "start_time": "2022-10-26T06:34:55.458Z"
   },
   {
    "duration": 40,
    "start_time": "2022-10-26T06:34:55.508Z"
   },
   {
    "duration": 1474,
    "start_time": "2022-10-26T06:34:55.550Z"
   },
   {
    "duration": 195,
    "start_time": "2022-10-26T06:34:57.026Z"
   },
   {
    "duration": 41217,
    "start_time": "2022-10-26T06:40:59.322Z"
   },
   {
    "duration": 29,
    "start_time": "2022-10-26T06:42:48.101Z"
   },
   {
    "duration": 6,
    "start_time": "2022-10-26T06:42:58.522Z"
   },
   {
    "duration": 53,
    "start_time": "2022-10-26T06:43:48.646Z"
   },
   {
    "duration": 7,
    "start_time": "2022-10-26T06:43:48.701Z"
   },
   {
    "duration": 10,
    "start_time": "2022-10-26T06:43:48.710Z"
   },
   {
    "duration": 17,
    "start_time": "2022-10-26T06:43:48.722Z"
   },
   {
    "duration": 20,
    "start_time": "2022-10-26T06:43:48.745Z"
   },
   {
    "duration": 21,
    "start_time": "2022-10-26T06:43:48.766Z"
   },
   {
    "duration": 74,
    "start_time": "2022-10-26T06:43:48.789Z"
   },
   {
    "duration": 1083,
    "start_time": "2022-10-26T06:43:48.866Z"
   },
   {
    "duration": 29294,
    "start_time": "2022-10-26T06:43:49.951Z"
   },
   {
    "duration": 408,
    "start_time": "2022-10-26T06:44:19.247Z"
   },
   {
    "duration": 12,
    "start_time": "2022-10-26T06:44:19.730Z"
   },
   {
    "duration": 11,
    "start_time": "2022-10-26T06:44:19.745Z"
   },
   {
    "duration": 15,
    "start_time": "2022-10-26T06:44:19.830Z"
   },
   {
    "duration": 34,
    "start_time": "2022-10-26T06:44:19.848Z"
   },
   {
    "duration": 1398,
    "start_time": "2022-10-26T06:44:19.884Z"
   },
   {
    "duration": 39141,
    "start_time": "2022-10-26T06:44:21.284Z"
   },
   {
    "duration": 8,
    "start_time": "2022-10-26T06:45:00.429Z"
   },
   {
    "duration": 14,
    "start_time": "2022-10-26T06:46:19.981Z"
   },
   {
    "duration": 38569,
    "start_time": "2022-10-26T06:47:00.333Z"
   },
   {
    "duration": 15,
    "start_time": "2022-10-26T06:47:48.652Z"
   },
   {
    "duration": 42958,
    "start_time": "2022-10-26T06:47:53.192Z"
   },
   {
    "duration": 16,
    "start_time": "2022-10-26T06:48:51.184Z"
   },
   {
    "duration": 19,
    "start_time": "2022-10-26T06:49:05.155Z"
   },
   {
    "duration": 14,
    "start_time": "2022-10-26T06:49:09.674Z"
   },
   {
    "duration": 41648,
    "start_time": "2022-10-26T06:49:25.543Z"
   },
   {
    "duration": 355,
    "start_time": "2022-10-26T07:26:56.394Z"
   },
   {
    "duration": 362,
    "start_time": "2022-10-26T07:30:47.849Z"
   },
   {
    "duration": 356,
    "start_time": "2022-10-26T07:32:52.769Z"
   },
   {
    "duration": 333,
    "start_time": "2022-10-26T07:34:37.154Z"
   },
   {
    "duration": 450,
    "start_time": "2022-10-26T08:35:43.951Z"
   },
   {
    "duration": 18,
    "start_time": "2022-10-26T08:35:44.403Z"
   },
   {
    "duration": 21,
    "start_time": "2022-10-26T08:35:44.424Z"
   },
   {
    "duration": 22,
    "start_time": "2022-10-26T08:35:44.448Z"
   },
   {
    "duration": 58,
    "start_time": "2022-10-26T08:35:44.472Z"
   },
   {
    "duration": 34,
    "start_time": "2022-10-26T08:35:44.532Z"
   },
   {
    "duration": 78,
    "start_time": "2022-10-26T08:35:44.567Z"
   },
   {
    "duration": 1015,
    "start_time": "2022-10-26T08:35:44.648Z"
   },
   {
    "duration": 27480,
    "start_time": "2022-10-26T08:35:45.664Z"
   },
   {
    "duration": 588,
    "start_time": "2022-10-26T08:36:13.146Z"
   },
   {
    "duration": 93,
    "start_time": "2022-10-26T08:36:13.737Z"
   },
   {
    "duration": 8,
    "start_time": "2022-10-26T08:36:13.833Z"
   },
   {
    "duration": 88,
    "start_time": "2022-10-26T08:36:13.843Z"
   },
   {
    "duration": 15,
    "start_time": "2022-10-26T08:36:13.932Z"
   },
   {
    "duration": 1307,
    "start_time": "2022-10-26T08:36:13.949Z"
   },
   {
    "duration": 38377,
    "start_time": "2022-10-26T08:36:15.258Z"
   },
   {
    "duration": 493,
    "start_time": "2022-10-26T08:36:53.637Z"
   },
   {
    "duration": 475,
    "start_time": "2022-10-26T08:36:54.132Z"
   },
   {
    "duration": 167,
    "start_time": "2022-10-26T08:36:54.609Z"
   },
   {
    "duration": 38,
    "start_time": "2022-10-26T08:37:21.547Z"
   },
   {
    "duration": 145,
    "start_time": "2022-10-26T08:37:37.611Z"
   },
   {
    "duration": 1306,
    "start_time": "2022-10-26T08:43:26.170Z"
   },
   {
    "duration": 80,
    "start_time": "2022-10-26T08:43:46.850Z"
   },
   {
    "duration": 15,
    "start_time": "2022-10-26T09:02:59.460Z"
   },
   {
    "duration": 1271,
    "start_time": "2022-10-26T09:03:08.543Z"
   },
   {
    "duration": 38080,
    "start_time": "2022-10-26T09:03:21.046Z"
   },
   {
    "duration": 19,
    "start_time": "2022-10-26T09:18:13.747Z"
   },
   {
    "duration": 1523,
    "start_time": "2022-10-26T09:18:18.074Z"
   },
   {
    "duration": 35239,
    "start_time": "2022-10-26T09:18:24.551Z"
   },
   {
    "duration": 322,
    "start_time": "2022-10-26T09:19:40.300Z"
   },
   {
    "duration": 16,
    "start_time": "2022-10-26T09:20:52.650Z"
   },
   {
    "duration": 55,
    "start_time": "2022-10-26T09:21:09.801Z"
   },
   {
    "duration": 9,
    "start_time": "2022-10-26T09:21:09.859Z"
   },
   {
    "duration": 11,
    "start_time": "2022-10-26T09:21:09.870Z"
   },
   {
    "duration": 55,
    "start_time": "2022-10-26T09:21:09.884Z"
   },
   {
    "duration": 35,
    "start_time": "2022-10-26T09:21:09.941Z"
   },
   {
    "duration": 53,
    "start_time": "2022-10-26T09:21:09.978Z"
   },
   {
    "duration": 101,
    "start_time": "2022-10-26T09:21:10.033Z"
   },
   {
    "duration": 1097,
    "start_time": "2022-10-26T09:21:10.137Z"
   },
   {
    "duration": 30062,
    "start_time": "2022-10-26T09:21:11.236Z"
   },
   {
    "duration": 330,
    "start_time": "2022-10-26T09:21:41.300Z"
   },
   {
    "duration": 11,
    "start_time": "2022-10-26T09:21:41.632Z"
   },
   {
    "duration": 11,
    "start_time": "2022-10-26T09:21:41.730Z"
   },
   {
    "duration": 12,
    "start_time": "2022-10-26T09:21:41.744Z"
   },
   {
    "duration": 15,
    "start_time": "2022-10-26T09:21:41.759Z"
   },
   {
    "duration": 1375,
    "start_time": "2022-10-26T09:21:41.775Z"
   },
   {
    "duration": 40072,
    "start_time": "2022-10-26T09:21:43.152Z"
   },
   {
    "duration": 408,
    "start_time": "2022-10-26T09:22:23.226Z"
   },
   {
    "duration": 195,
    "start_time": "2022-10-26T09:22:23.636Z"
   },
   {
    "duration": 0,
    "start_time": "2022-10-26T09:22:23.833Z"
   },
   {
    "duration": 0,
    "start_time": "2022-10-26T09:22:23.835Z"
   },
   {
    "duration": 342,
    "start_time": "2022-10-26T09:24:02.932Z"
   },
   {
    "duration": 173,
    "start_time": "2022-10-26T09:24:28.280Z"
   },
   {
    "duration": 53,
    "start_time": "2022-10-26T09:48:52.610Z"
   },
   {
    "duration": 8,
    "start_time": "2022-10-26T09:48:52.664Z"
   },
   {
    "duration": 16,
    "start_time": "2022-10-26T09:48:52.673Z"
   },
   {
    "duration": 24,
    "start_time": "2022-10-26T09:48:52.691Z"
   },
   {
    "duration": 30,
    "start_time": "2022-10-26T09:48:52.716Z"
   },
   {
    "duration": 22,
    "start_time": "2022-10-26T09:48:52.747Z"
   },
   {
    "duration": 82,
    "start_time": "2022-10-26T09:48:52.771Z"
   },
   {
    "duration": 1038,
    "start_time": "2022-10-26T09:48:52.855Z"
   },
   {
    "duration": 27916,
    "start_time": "2022-10-26T09:48:53.896Z"
   },
   {
    "duration": 520,
    "start_time": "2022-10-26T09:49:21.814Z"
   },
   {
    "duration": 98,
    "start_time": "2022-10-26T09:49:22.336Z"
   },
   {
    "duration": 97,
    "start_time": "2022-10-26T09:49:22.436Z"
   },
   {
    "duration": 7,
    "start_time": "2022-10-26T09:49:22.535Z"
   },
   {
    "duration": 14,
    "start_time": "2022-10-26T09:49:22.545Z"
   },
   {
    "duration": 1326,
    "start_time": "2022-10-26T09:49:22.560Z"
   },
   {
    "duration": 39778,
    "start_time": "2022-10-26T09:49:23.888Z"
   },
   {
    "duration": 571,
    "start_time": "2022-10-26T09:50:03.667Z"
   },
   {
    "duration": 525,
    "start_time": "2022-10-26T09:50:04.240Z"
   },
   {
    "duration": 145,
    "start_time": "2022-10-26T09:50:04.767Z"
   },
   {
    "duration": 1621,
    "start_time": "2022-10-27T05:58:27.178Z"
   },
   {
    "duration": 122,
    "start_time": "2022-10-27T06:04:18.302Z"
   },
   {
    "duration": 53,
    "start_time": "2022-10-27T06:04:26.420Z"
   },
   {
    "duration": 8,
    "start_time": "2022-10-27T06:04:26.475Z"
   },
   {
    "duration": 26,
    "start_time": "2022-10-27T06:04:26.484Z"
   },
   {
    "duration": 12,
    "start_time": "2022-10-27T06:04:26.512Z"
   },
   {
    "duration": 24,
    "start_time": "2022-10-27T06:04:26.526Z"
   },
   {
    "duration": 26,
    "start_time": "2022-10-27T06:04:26.552Z"
   },
   {
    "duration": 2,
    "start_time": "2022-10-27T06:04:26.580Z"
   },
   {
    "duration": 1101,
    "start_time": "2022-10-27T06:04:26.610Z"
   },
   {
    "duration": 51,
    "start_time": "2022-10-27T06:05:38.275Z"
   },
   {
    "duration": 8,
    "start_time": "2022-10-27T06:05:38.328Z"
   },
   {
    "duration": 13,
    "start_time": "2022-10-27T06:05:38.337Z"
   },
   {
    "duration": 12,
    "start_time": "2022-10-27T06:05:38.352Z"
   },
   {
    "duration": 88,
    "start_time": "2022-10-27T06:05:38.366Z"
   },
   {
    "duration": 19,
    "start_time": "2022-10-27T06:05:38.456Z"
   },
   {
    "duration": 12,
    "start_time": "2022-10-27T06:05:38.476Z"
   },
   {
    "duration": 1097,
    "start_time": "2022-10-27T06:05:38.489Z"
   },
   {
    "duration": 27444,
    "start_time": "2022-10-27T06:05:39.588Z"
   },
   {
    "duration": 384,
    "start_time": "2022-10-27T06:06:07.033Z"
   },
   {
    "duration": 93,
    "start_time": "2022-10-27T06:06:07.419Z"
   },
   {
    "duration": 99,
    "start_time": "2022-10-27T06:06:07.514Z"
   },
   {
    "duration": 8,
    "start_time": "2022-10-27T06:06:07.614Z"
   },
   {
    "duration": 14,
    "start_time": "2022-10-27T06:06:07.624Z"
   },
   {
    "duration": 1359,
    "start_time": "2022-10-27T06:06:07.640Z"
   },
   {
    "duration": 39017,
    "start_time": "2022-10-27T06:06:09.000Z"
   },
   {
    "duration": 896,
    "start_time": "2022-10-27T06:06:48.019Z"
   },
   {
    "duration": 485,
    "start_time": "2022-10-27T06:06:48.917Z"
   },
   {
    "duration": 121,
    "start_time": "2022-10-27T06:06:49.409Z"
   },
   {
    "duration": 51,
    "start_time": "2022-10-27T07:27:21.274Z"
   },
   {
    "duration": 1779,
    "start_time": "2022-10-27T07:27:25.946Z"
   },
   {
    "duration": 7,
    "start_time": "2022-10-27T07:27:27.727Z"
   },
   {
    "duration": 7,
    "start_time": "2022-10-27T07:27:27.736Z"
   },
   {
    "duration": 12,
    "start_time": "2022-10-27T07:27:27.745Z"
   },
   {
    "duration": 21,
    "start_time": "2022-10-27T07:27:27.758Z"
   },
   {
    "duration": 21,
    "start_time": "2022-10-27T07:27:27.780Z"
   },
   {
    "duration": 49,
    "start_time": "2022-10-27T07:27:27.830Z"
   },
   {
    "duration": 1048,
    "start_time": "2022-10-27T07:27:27.881Z"
   },
   {
    "duration": 25930,
    "start_time": "2022-10-27T07:27:28.931Z"
   },
   {
    "duration": 178,
    "start_time": "2022-10-27T07:27:54.864Z"
   },
   {
    "duration": 88,
    "start_time": "2022-10-27T07:27:55.044Z"
   },
   {
    "duration": 109,
    "start_time": "2022-10-27T07:27:55.135Z"
   },
   {
    "duration": 58,
    "start_time": "2022-10-27T07:27:55.246Z"
   },
   {
    "duration": 28,
    "start_time": "2022-10-27T07:27:55.306Z"
   },
   {
    "duration": 1271,
    "start_time": "2022-10-27T07:27:55.336Z"
   },
   {
    "duration": 37322,
    "start_time": "2022-10-27T07:27:56.609Z"
   },
   {
    "duration": 500,
    "start_time": "2022-10-27T07:28:33.933Z"
   },
   {
    "duration": 428,
    "start_time": "2022-10-27T07:28:34.435Z"
   },
   {
    "duration": 138,
    "start_time": "2022-10-27T07:28:34.865Z"
   },
   {
    "duration": 74,
    "start_time": "2022-10-27T07:57:04.164Z"
   },
   {
    "duration": 70,
    "start_time": "2022-10-27T07:57:19.284Z"
   },
   {
    "duration": 5,
    "start_time": "2022-10-27T07:58:15.555Z"
   },
   {
    "duration": 5,
    "start_time": "2022-10-27T08:12:12.233Z"
   },
   {
    "duration": 81,
    "start_time": "2022-10-27T08:12:37.846Z"
   },
   {
    "duration": 1559,
    "start_time": "2022-10-27T08:17:43.040Z"
   },
   {
    "duration": 7,
    "start_time": "2022-10-27T08:17:44.601Z"
   },
   {
    "duration": 8,
    "start_time": "2022-10-27T08:17:44.610Z"
   },
   {
    "duration": 16,
    "start_time": "2022-10-27T08:17:44.621Z"
   },
   {
    "duration": 28,
    "start_time": "2022-10-27T08:17:44.639Z"
   },
   {
    "duration": 24,
    "start_time": "2022-10-27T08:17:44.669Z"
   },
   {
    "duration": 78,
    "start_time": "2022-10-27T08:17:44.695Z"
   },
   {
    "duration": 1081,
    "start_time": "2022-10-27T08:17:44.774Z"
   },
   {
    "duration": 29110,
    "start_time": "2022-10-27T08:17:45.857Z"
   },
   {
    "duration": 90,
    "start_time": "2022-10-27T08:18:14.970Z"
   },
   {
    "duration": 0,
    "start_time": "2022-10-27T08:18:15.061Z"
   },
   {
    "duration": 0,
    "start_time": "2022-10-27T08:18:15.063Z"
   },
   {
    "duration": 0,
    "start_time": "2022-10-27T08:18:15.065Z"
   },
   {
    "duration": 0,
    "start_time": "2022-10-27T08:18:15.066Z"
   },
   {
    "duration": 0,
    "start_time": "2022-10-27T08:18:15.067Z"
   },
   {
    "duration": 0,
    "start_time": "2022-10-27T08:18:15.069Z"
   },
   {
    "duration": 0,
    "start_time": "2022-10-27T08:18:15.071Z"
   },
   {
    "duration": 0,
    "start_time": "2022-10-27T08:18:15.073Z"
   },
   {
    "duration": 0,
    "start_time": "2022-10-27T08:18:15.075Z"
   },
   {
    "duration": 0,
    "start_time": "2022-10-27T08:18:15.076Z"
   },
   {
    "duration": 1515,
    "start_time": "2022-10-27T08:19:39.817Z"
   },
   {
    "duration": 7,
    "start_time": "2022-10-27T08:19:41.334Z"
   },
   {
    "duration": 13,
    "start_time": "2022-10-27T08:19:41.342Z"
   },
   {
    "duration": 28,
    "start_time": "2022-10-27T08:19:41.357Z"
   },
   {
    "duration": 29,
    "start_time": "2022-10-27T08:19:41.386Z"
   },
   {
    "duration": 31,
    "start_time": "2022-10-27T08:19:41.416Z"
   },
   {
    "duration": 59,
    "start_time": "2022-10-27T08:19:41.449Z"
   },
   {
    "duration": 1041,
    "start_time": "2022-10-27T08:19:41.510Z"
   },
   {
    "duration": 26986,
    "start_time": "2022-10-27T08:19:42.553Z"
   },
   {
    "duration": 46573,
    "start_time": "2022-10-27T08:20:09.542Z"
   },
   {
    "duration": 513,
    "start_time": "2022-10-27T08:20:56.117Z"
   },
   {
    "duration": 8,
    "start_time": "2022-10-27T08:20:56.633Z"
   },
   {
    "duration": 93,
    "start_time": "2022-10-27T08:20:56.643Z"
   },
   {
    "duration": 23,
    "start_time": "2022-10-27T08:20:56.738Z"
   },
   {
    "duration": 30,
    "start_time": "2022-10-27T08:20:56.762Z"
   },
   {
    "duration": 1209,
    "start_time": "2022-10-27T08:20:56.794Z"
   },
   {
    "duration": 1433,
    "start_time": "2022-10-27T08:21:36.077Z"
   },
   {
    "duration": 8,
    "start_time": "2022-10-27T08:21:37.513Z"
   },
   {
    "duration": 7,
    "start_time": "2022-10-27T08:21:37.523Z"
   },
   {
    "duration": 12,
    "start_time": "2022-10-27T08:21:37.532Z"
   },
   {
    "duration": 20,
    "start_time": "2022-10-27T08:21:37.546Z"
   },
   {
    "duration": 22,
    "start_time": "2022-10-27T08:21:37.568Z"
   },
   {
    "duration": 81,
    "start_time": "2022-10-27T08:21:37.591Z"
   },
   {
    "duration": 1066,
    "start_time": "2022-10-27T08:21:37.674Z"
   },
   {
    "duration": 26258,
    "start_time": "2022-10-27T08:21:38.742Z"
   },
   {
    "duration": 46179,
    "start_time": "2022-10-27T08:22:05.002Z"
   },
   {
    "duration": 548,
    "start_time": "2022-10-27T08:22:51.182Z"
   },
   {
    "duration": 98,
    "start_time": "2022-10-27T08:22:51.733Z"
   },
   {
    "duration": 6,
    "start_time": "2022-10-27T08:22:51.833Z"
   },
   {
    "duration": 12,
    "start_time": "2022-10-27T08:22:51.841Z"
   },
   {
    "duration": 13,
    "start_time": "2022-10-27T08:22:51.855Z"
   },
   {
    "duration": 1247,
    "start_time": "2022-10-27T08:22:51.869Z"
   },
   {
    "duration": 37530,
    "start_time": "2022-10-27T08:22:53.118Z"
   },
   {
    "duration": 582,
    "start_time": "2022-10-27T08:23:30.649Z"
   },
   {
    "duration": 417,
    "start_time": "2022-10-27T08:23:31.236Z"
   },
   {
    "duration": 143,
    "start_time": "2022-10-27T08:23:31.655Z"
   },
   {
    "duration": 46158,
    "start_time": "2022-10-27T08:24:42.919Z"
   },
   {
    "duration": 47265,
    "start_time": "2022-10-27T08:29:04.013Z"
   },
   {
    "duration": 46922,
    "start_time": "2022-10-27T08:37:29.351Z"
   },
   {
    "duration": 120337,
    "start_time": "2022-10-27T08:41:24.130Z"
   },
   {
    "duration": 1457,
    "start_time": "2022-10-27T08:45:59.385Z"
   },
   {
    "duration": 8,
    "start_time": "2022-10-27T08:46:00.844Z"
   },
   {
    "duration": 18,
    "start_time": "2022-10-27T08:46:00.854Z"
   },
   {
    "duration": 15,
    "start_time": "2022-10-27T08:46:00.875Z"
   },
   {
    "duration": 38,
    "start_time": "2022-10-27T08:46:00.892Z"
   },
   {
    "duration": 26,
    "start_time": "2022-10-27T08:46:00.932Z"
   },
   {
    "duration": 82,
    "start_time": "2022-10-27T08:46:00.960Z"
   },
   {
    "duration": 1061,
    "start_time": "2022-10-27T08:46:01.045Z"
   },
   {
    "duration": 27915,
    "start_time": "2022-10-27T08:46:02.108Z"
   },
   {
    "duration": 26,
    "start_time": "2022-10-27T08:46:30.029Z"
   },
   {
    "duration": 0,
    "start_time": "2022-10-27T08:46:30.057Z"
   },
   {
    "duration": 0,
    "start_time": "2022-10-27T08:46:30.059Z"
   },
   {
    "duration": 0,
    "start_time": "2022-10-27T08:46:30.060Z"
   },
   {
    "duration": 0,
    "start_time": "2022-10-27T08:46:30.061Z"
   },
   {
    "duration": 0,
    "start_time": "2022-10-27T08:46:30.063Z"
   },
   {
    "duration": 0,
    "start_time": "2022-10-27T08:46:30.064Z"
   },
   {
    "duration": 0,
    "start_time": "2022-10-27T08:46:30.065Z"
   },
   {
    "duration": 0,
    "start_time": "2022-10-27T08:46:30.066Z"
   },
   {
    "duration": 0,
    "start_time": "2022-10-27T08:46:30.067Z"
   },
   {
    "duration": 0,
    "start_time": "2022-10-27T08:46:30.069Z"
   },
   {
    "duration": 122158,
    "start_time": "2022-10-27T08:47:17.314Z"
   },
   {
    "duration": 121179,
    "start_time": "2022-10-27T08:50:08.397Z"
   },
   {
    "duration": 122881,
    "start_time": "2022-10-27T08:53:29.798Z"
   },
   {
    "duration": 121062,
    "start_time": "2022-10-27T08:56:25.523Z"
   },
   {
    "duration": 1213,
    "start_time": "2022-10-27T09:20:58.623Z"
   },
   {
    "duration": 6,
    "start_time": "2022-10-27T09:22:13.791Z"
   },
   {
    "duration": 6,
    "start_time": "2022-10-27T09:22:15.466Z"
   },
   {
    "duration": 7,
    "start_time": "2022-10-27T09:22:17.289Z"
   },
   {
    "duration": 17,
    "start_time": "2022-10-27T09:49:34.335Z"
   },
   {
    "duration": 15,
    "start_time": "2022-10-27T09:49:45.845Z"
   },
   {
    "duration": 1319,
    "start_time": "2022-10-27T09:49:50.864Z"
   },
   {
    "duration": 39355,
    "start_time": "2022-10-27T09:49:56.904Z"
   },
   {
    "duration": 992,
    "start_time": "2022-10-27T09:51:14.538Z"
   },
   {
    "duration": 11,
    "start_time": "2022-10-27T09:51:29.629Z"
   },
   {
    "duration": 8485,
    "start_time": "2022-10-27T09:51:42.845Z"
   },
   {
    "duration": 503,
    "start_time": "2022-10-27T10:05:37.836Z"
   },
   {
    "duration": 39012,
    "start_time": "2022-10-27T10:05:49.996Z"
   },
   {
    "duration": 40005,
    "start_time": "2022-10-27T10:07:02.488Z"
   },
   {
    "duration": 81,
    "start_time": "2022-10-27T10:09:13.786Z"
   },
   {
    "duration": 1554,
    "start_time": "2022-10-27T10:15:12.099Z"
   },
   {
    "duration": 8,
    "start_time": "2022-10-27T10:15:13.655Z"
   },
   {
    "duration": 9,
    "start_time": "2022-10-27T10:15:13.665Z"
   },
   {
    "duration": 14,
    "start_time": "2022-10-27T10:15:13.675Z"
   },
   {
    "duration": 42,
    "start_time": "2022-10-27T10:15:13.691Z"
   },
   {
    "duration": 23,
    "start_time": "2022-10-27T10:15:13.736Z"
   },
   {
    "duration": 86,
    "start_time": "2022-10-27T10:15:13.760Z"
   },
   {
    "duration": 1084,
    "start_time": "2022-10-27T10:15:13.848Z"
   },
   {
    "duration": 28380,
    "start_time": "2022-10-27T10:15:14.934Z"
   },
   {
    "duration": 120764,
    "start_time": "2022-10-27T10:15:43.316Z"
   },
   {
    "duration": 552,
    "start_time": "2022-10-27T10:17:44.082Z"
   },
   {
    "duration": 98,
    "start_time": "2022-10-27T10:17:44.636Z"
   },
   {
    "duration": 11,
    "start_time": "2022-10-27T10:17:44.736Z"
   },
   {
    "duration": 9,
    "start_time": "2022-10-27T10:17:44.749Z"
   },
   {
    "duration": 15,
    "start_time": "2022-10-27T10:17:44.759Z"
   },
   {
    "duration": 1305,
    "start_time": "2022-10-27T10:17:44.776Z"
   },
   {
    "duration": 125,
    "start_time": "2022-10-27T10:17:46.082Z"
   },
   {
    "duration": 0,
    "start_time": "2022-10-27T10:17:46.209Z"
   },
   {
    "duration": 0,
    "start_time": "2022-10-27T10:17:46.212Z"
   },
   {
    "duration": 0,
    "start_time": "2022-10-27T10:17:46.213Z"
   },
   {
    "duration": 40212,
    "start_time": "2022-10-27T10:21:43.863Z"
   },
   {
    "duration": 746,
    "start_time": "2022-10-27T10:23:17.884Z"
   },
   {
    "duration": 573,
    "start_time": "2022-10-27T10:27:21.194Z"
   },
   {
    "duration": 441,
    "start_time": "2022-10-27T10:27:35.454Z"
   },
   {
    "duration": 557,
    "start_time": "2022-10-27T10:27:58.024Z"
   },
   {
    "duration": 330,
    "start_time": "2022-10-27T10:30:37.204Z"
   },
   {
    "duration": 357,
    "start_time": "2022-10-27T10:31:06.477Z"
   },
   {
    "duration": 1846,
    "start_time": "2022-10-27T10:31:53.185Z"
   },
   {
    "duration": 510,
    "start_time": "2022-10-27T10:33:07.727Z"
   },
   {
    "duration": 2239,
    "start_time": "2022-10-27T10:34:12.098Z"
   },
   {
    "duration": 12,
    "start_time": "2022-10-27T10:39:28.960Z"
   },
   {
    "duration": 34583,
    "start_time": "2022-10-27T10:40:17.560Z"
   },
   {
    "duration": 1834,
    "start_time": "2022-10-27T10:41:21.801Z"
   },
   {
    "duration": 399,
    "start_time": "2022-10-27T10:41:39.731Z"
   },
   {
    "duration": 332,
    "start_time": "2022-10-27T11:04:43.604Z"
   },
   {
    "duration": 13,
    "start_time": "2022-10-27T11:07:52.745Z"
   },
   {
    "duration": 34107,
    "start_time": "2022-10-27T11:09:22.734Z"
   },
   {
    "duration": 17,
    "start_time": "2022-10-27T11:10:18.046Z"
   },
   {
    "duration": 33732,
    "start_time": "2022-10-27T11:13:13.400Z"
   },
   {
    "duration": 33770,
    "start_time": "2022-10-27T11:33:47.661Z"
   },
   {
    "duration": 32905,
    "start_time": "2022-10-27T11:35:11.728Z"
   },
   {
    "duration": 92,
    "start_time": "2022-10-27T12:07:53.813Z"
   },
   {
    "duration": 33841,
    "start_time": "2022-10-27T12:10:23.003Z"
   },
   {
    "duration": 363,
    "start_time": "2022-10-27T12:17:40.461Z"
   },
   {
    "duration": 7382,
    "start_time": "2022-10-27T12:18:08.253Z"
   },
   {
    "duration": 7170,
    "start_time": "2022-10-27T12:24:18.954Z"
   },
   {
    "duration": 7733,
    "start_time": "2022-10-27T12:24:45.205Z"
   },
   {
    "duration": 13,
    "start_time": "2022-10-27T12:42:07.411Z"
   },
   {
    "duration": 13,
    "start_time": "2022-10-27T12:43:16.830Z"
   },
   {
    "duration": 12,
    "start_time": "2022-10-27T13:09:04.341Z"
   },
   {
    "duration": 7983,
    "start_time": "2022-10-27T13:13:43.446Z"
   },
   {
    "duration": 7906,
    "start_time": "2022-10-27T13:14:22.030Z"
   },
   {
    "duration": 7166,
    "start_time": "2022-10-27T13:15:01.272Z"
   },
   {
    "duration": 314,
    "start_time": "2022-10-27T13:17:19.032Z"
   },
   {
    "duration": 303,
    "start_time": "2022-10-27T13:17:35.032Z"
   },
   {
    "duration": 303,
    "start_time": "2022-10-27T13:17:44.603Z"
   },
   {
    "duration": 345,
    "start_time": "2022-10-27T13:17:47.822Z"
   },
   {
    "duration": 200,
    "start_time": "2022-10-27T13:26:36.332Z"
   },
   {
    "duration": 16,
    "start_time": "2022-10-27T13:40:08.396Z"
   },
   {
    "duration": 17,
    "start_time": "2022-10-27T13:40:27.907Z"
   },
   {
    "duration": 77391,
    "start_time": "2022-10-27T13:40:33.646Z"
   },
   {
    "duration": 77112,
    "start_time": "2022-10-27T13:42:51.716Z"
   },
   {
    "duration": 77343,
    "start_time": "2022-10-27T13:51:57.887Z"
   },
   {
    "duration": 79690,
    "start_time": "2022-10-27T13:55:27.940Z"
   },
   {
    "duration": 1536,
    "start_time": "2022-10-27T14:11:21.159Z"
   },
   {
    "duration": 9,
    "start_time": "2022-10-27T14:11:22.697Z"
   },
   {
    "duration": 10,
    "start_time": "2022-10-27T14:11:22.708Z"
   },
   {
    "duration": 19,
    "start_time": "2022-10-27T14:11:22.720Z"
   },
   {
    "duration": 22,
    "start_time": "2022-10-27T14:11:22.741Z"
   },
   {
    "duration": 27,
    "start_time": "2022-10-27T14:11:22.765Z"
   },
   {
    "duration": 107,
    "start_time": "2022-10-27T14:11:22.794Z"
   },
   {
    "duration": 1221,
    "start_time": "2022-10-27T14:11:22.903Z"
   },
   {
    "duration": 29795,
    "start_time": "2022-10-27T14:11:24.126Z"
   },
   {
    "duration": 122662,
    "start_time": "2022-10-27T14:11:53.928Z"
   },
   {
    "duration": 253,
    "start_time": "2022-10-27T14:13:56.592Z"
   },
   {
    "duration": 6,
    "start_time": "2022-10-27T14:13:56.929Z"
   },
   {
    "duration": 92,
    "start_time": "2022-10-27T14:13:56.937Z"
   },
   {
    "duration": 8,
    "start_time": "2022-10-27T14:13:57.031Z"
   },
   {
    "duration": 14,
    "start_time": "2022-10-27T14:13:57.041Z"
   },
   {
    "duration": 1343,
    "start_time": "2022-10-27T14:13:57.057Z"
   },
   {
    "duration": 40483,
    "start_time": "2022-10-27T14:13:58.402Z"
   },
   {
    "duration": 348,
    "start_time": "2022-10-27T14:14:38.887Z"
   },
   {
    "duration": 1998,
    "start_time": "2022-10-27T14:14:39.237Z"
   },
   {
    "duration": 386293,
    "start_time": "2022-10-27T14:14:41.238Z"
   },
   {
    "duration": 340,
    "start_time": "2022-10-27T14:21:07.534Z"
   },
   {
    "duration": 147,
    "start_time": "2022-10-27T14:21:07.876Z"
   },
   {
    "duration": 391498,
    "start_time": "2022-10-27T14:21:37.942Z"
   },
   {
    "duration": 1583,
    "start_time": "2022-11-18T08:40:16.074Z"
   },
   {
    "duration": 6,
    "start_time": "2022-11-18T08:40:17.659Z"
   },
   {
    "duration": 9,
    "start_time": "2022-11-18T08:40:17.666Z"
   },
   {
    "duration": 11,
    "start_time": "2022-11-18T08:40:17.676Z"
   },
   {
    "duration": 22,
    "start_time": "2022-11-18T08:40:17.689Z"
   },
   {
    "duration": 45,
    "start_time": "2022-11-18T08:40:17.712Z"
   },
   {
    "duration": 49,
    "start_time": "2022-11-18T08:40:17.758Z"
   },
   {
    "duration": 926,
    "start_time": "2022-11-18T08:40:17.809Z"
   },
   {
    "duration": 27594,
    "start_time": "2022-11-18T08:40:18.737Z"
   },
   {
    "duration": 107663,
    "start_time": "2022-11-18T08:40:46.333Z"
   },
   {
    "duration": 357,
    "start_time": "2022-11-18T08:42:33.999Z"
   },
   {
    "duration": 99,
    "start_time": "2022-11-18T08:42:34.358Z"
   },
   {
    "duration": 12,
    "start_time": "2022-11-18T08:42:34.459Z"
   },
   {
    "duration": 8,
    "start_time": "2022-11-18T08:42:34.554Z"
   },
   {
    "duration": 19,
    "start_time": "2022-11-18T08:42:34.564Z"
   },
   {
    "duration": 1167,
    "start_time": "2022-11-18T08:42:34.585Z"
   },
   {
    "duration": 34581,
    "start_time": "2022-11-18T08:42:35.754Z"
   },
   {
    "duration": 215,
    "start_time": "2022-11-18T08:43:10.337Z"
   },
   {
    "duration": 1306,
    "start_time": "2022-11-18T08:43:10.554Z"
   },
   {
    "duration": 371999,
    "start_time": "2022-11-18T08:43:11.862Z"
   },
   {
    "duration": 413,
    "start_time": "2022-11-18T08:49:23.864Z"
   },
   {
    "duration": 205,
    "start_time": "2022-11-18T08:49:24.279Z"
   },
   {
    "duration": 6,
    "start_time": "2022-11-18T13:06:07.316Z"
   }
  ],
  "kernelspec": {
   "display_name": "Python 3 (ipykernel)",
   "language": "python",
   "name": "python3"
  },
  "language_info": {
   "codemirror_mode": {
    "name": "ipython",
    "version": 3
   },
   "file_extension": ".py",
   "mimetype": "text/x-python",
   "name": "python",
   "nbconvert_exporter": "python",
   "pygments_lexer": "ipython3",
   "version": "3.9.5"
  },
  "toc": {
   "base_numbering": 1,
   "nav_menu": {},
   "number_sections": true,
   "sideBar": true,
   "skip_h1_title": true,
   "title_cell": "Содержание",
   "title_sidebar": "Contents",
   "toc_cell": true,
   "toc_position": {
    "height": "calc(100% - 180px)",
    "left": "10px",
    "top": "150px",
    "width": "165px"
   },
   "toc_section_display": true,
   "toc_window_display": false
  }
 },
 "nbformat": 4,
 "nbformat_minor": 2
}
