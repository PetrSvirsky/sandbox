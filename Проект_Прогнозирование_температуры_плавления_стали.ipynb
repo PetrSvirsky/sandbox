{
 "cells": [
  {
   "cell_type": "markdown",
   "metadata": {},
   "source": [
    "# Проект \"Прогнозирование температуры плавления стали\""
   ]
  },
  {
   "cell_type": "markdown",
   "metadata": {},
   "source": [
    "# Условие задачи"
   ]
  },
  {
   "cell_type": "markdown",
   "metadata": {},
   "source": [
    "Чтобы оптимизировать производственные расходы, металлургический комбинат ООО «Так закаляем сталь» решил уменьшить потребление электроэнергии на этапе обработки стали. Вам предстоит построить модель, которая предскажет температуру стали."
   ]
  },
  {
   "cell_type": "markdown",
   "metadata": {},
   "source": [
    "# Описание этапа обработки"
   ]
  },
  {
   "cell_type": "markdown",
   "metadata": {},
   "source": [
    "Сталь обрабатывают в металлическом ковше вместимостью около 100 тонн. Чтобы ковш выдерживал высокие температуры, изнутри его облицовывают огнеупорным кирпичом. Расплавленную сталь заливают в ковш и подогревают до нужной температуры графитовыми электродами. Они установлены в крышке ковша.\n",
    "\n",
    "Из сплава выводится сера (десульфурация), добавлением примесей корректируется химический состав и отбираются пробы. Сталь легируют — изменяют её состав — подавая куски сплава из бункера для сыпучих материалов или проволоку через специальный трайб-аппарат (англ. tribe, «масса»).\n",
    "\n",
    "Перед тем как первый раз ввести легирующие добавки, измеряют температуру стали и производят её химический анализ. Потом температуру на несколько минут повышают, добавляют легирующие материалы и продувают сплав инертным газом. Затем его перемешивают и снова проводят измерения. Такой цикл повторяется до достижения целевого химического состава и оптимальной температуры плавки.\n",
    "\n",
    "Тогда расплавленная сталь отправляется на доводку металла или поступает в машину непрерывной разливки. Оттуда готовый продукт выходит в виде заготовок-слябов (англ. slab, «плита»)."
   ]
  },
  {
   "cell_type": "markdown",
   "metadata": {},
   "source": [
    "# Описание данных"
   ]
  },
  {
   "cell_type": "raw",
   "metadata": {},
   "source": [
    "Данные состоят из файлов, полученных из разных источников:\n",
    "data_arc.csv — данные об электродах;\n",
    "data_bulk.csv — данные о подаче сыпучих материалов (объём);\n",
    "data_bulk_time.csv — данные о подаче сыпучих материалов (время);\n",
    "data_gas.csv — данные о продувке сплава газом;\n",
    "data_temp.csv — результаты измерения температуры;\n",
    "data_wire.csv — данные о проволочных материалах (объём);\n",
    "data_wire_time.csv — данные о проволочных материалах (время).\n",
    "Во всех файлах столбец key содержит номер партии. В файлах может быть несколько строк с одинаковым значением key: они соответствуют разным итерациям обработки."
   ]
  },
  {
   "cell_type": "markdown",
   "metadata": {},
   "source": [
    "# План работы"
   ]
  },
  {
   "cell_type": "markdown",
   "metadata": {},
   "source": [
    "-*Подготовить данные. Изменить типы данных; определить и использовать номера партий, у которых есть замеры по температуре.*\n",
    "-*Подготовка признаков. Составление единой таблицы со всеми данными для модели. Выделение целевого признака как последний замер в серии замеров. Поиск выбросов и их удаление. Проверка на наличие мультиколлинеарности. Разделение на features и target со смешиванием данных.*\n",
    "\n",
    "Выбор моделей. Использование и обучение регрессионных моделей, например, CatBoostRegressor, LGBMRegressor и т.д.\n",
    "\n",
    "Оценка эффективности моделей на тестовой выборке."
   ]
  },
  {
   "cell_type": "raw",
   "metadata": {},
   "source": [
    "## План проекта\n",
    "**1. Проведение обзора данных (EDA)**\n",
    "\n",
    "**Подготовка данных:** \n",
    "* Импорт необходимых библиотек;\n",
    "* Чтение файлов и сохранение полученных данных в переменные;\n",
    "* Получение общей информации о таблицах (head, info, describe);\n",
    "* Корректировка наименований столбцов (при необходимости).\n",
    "* Выводы\n",
    "\n",
    "**Анализ данных:**\n",
    "* Графическое представление данных из таблиц;\n",
    "* Проверка данных на аномалии.\n",
    "* Выводы\n",
    "\n",
    "**Предобработка данных:**\n",
    "* Корректировка типов данных (при необходимости);\n",
    "* Заполнение пропусков / удаление дубликатов (при наличии);\n",
    "* Выделение признаков и таргета;\n",
    "* Соединение таблиц.\n",
    "* Выводы\n",
    "\n",
    "**Исследование итоговой таблицы с данными:**\n",
    "* Аналитический анализ\n",
    "* графический анализ\n",
    "* корреляционный анализ\n",
    "* выводы\n",
    "\n",
    "**2. Построение модели машинного обучения**\n",
    "\n",
    "**Обучение модели:**\n",
    "* Разделение данных на обучающую и тестовую выборки;\n",
    "* Масштабирование данных;\n",
    "* Обучение модели линейной регрессии;\n",
    "* Обучение модели градиентного бустинга с перебором гиперпараметров;\n",
    "* Константная модели.\n",
    "* Выбор лучшей модели\n",
    "\n",
    "**Проверка моделей:**\n",
    "* Тестирование лучшей модели на тестовой выборке;\n",
    "* Если MAE на тестовых данных > 6.8 - доработка модели.\n",
    "* Анализ важности факторов\n",
    "\n",
    "**3. Общий вывод**"
   ]
  },
  {
   "cell_type": "markdown",
   "metadata": {},
   "source": [
    "# Загрузим необходимые библиотеки:"
   ]
  },
  {
   "cell_type": "code",
   "execution_count": 1,
   "metadata": {},
   "outputs": [],
   "source": [
    "import pandas as pd\n",
    "import numpy as np\n",
    "import warnings\n",
    "import matplotlib.pyplot as plt\n",
    "\n",
    "from scipy import stats as st\n",
    "from sklearn.model_selection import train_test_split\n",
    "from sklearn.metrics import mean_absolute_error\n",
    "from sklearn.model_selection import cross_val_score\n",
    "from sklearn.model_selection import GridSearchCV\n",
    "from pyod.models.knn import KNN\n",
    "from sklearn.linear_model import LinearRegression\n",
    "from sklearn.ensemble import RandomForestRegressor\n",
    "from catboost import CatBoostRegressor\n",
    "from lightgbm import LGBMRegressor\n",
    "from xgboost import XGBRegressor\n",
    "\n",
    "warnings.filterwarnings('ignore')"
   ]
  },
  {
   "cell_type": "markdown",
   "metadata": {},
   "source": [
    "## Изучение данных"
   ]
  },
  {
   "cell_type": "markdown",
   "metadata": {},
   "source": [
    "Используем функцию для просмотра значений внутри столбцов."
   ]
  },
  {
   "cell_type": "code",
   "execution_count": 2,
   "metadata": {},
   "outputs": [],
   "source": [
    "def show_rows(data_frame):\n",
    "    for column in data_frame.columns:\n",
    "        print('Уникальные значения столбца', column)\n",
    "        print(data_frame[column].sort_values().unique())"
   ]
  },
  {
   "cell_type": "markdown",
   "metadata": {},
   "source": [
    "Пройдемся по каждой таблице для анализа данных."
   ]
  },
  {
   "cell_type": "markdown",
   "metadata": {},
   "source": [
    "### Данные об электродах"
   ]
  },
  {
   "cell_type": "code",
   "execution_count": 3,
   "metadata": {},
   "outputs": [
    {
     "name": "stdout",
     "output_type": "stream",
     "text": [
      "<class 'pandas.core.frame.DataFrame'>\n",
      "RangeIndex: 14876 entries, 0 to 14875\n",
      "Data columns (total 5 columns):\n",
      " #   Column                Non-Null Count  Dtype  \n",
      "---  ------                --------------  -----  \n",
      " 0   key                   14876 non-null  int64  \n",
      " 1   Начало нагрева дугой  14876 non-null  object \n",
      " 2   Конец нагрева дугой   14876 non-null  object \n",
      " 3   Активная мощность     14876 non-null  float64\n",
      " 4   Реактивная мощность   14876 non-null  float64\n",
      "dtypes: float64(2), int64(1), object(2)\n",
      "memory usage: 581.2+ KB\n"
     ]
    }
   ],
   "source": [
    "data_arc = pd.read_csv('/datasets/final_steel/data_arc.csv')\n",
    "data_arc.info()"
   ]
  },
  {
   "cell_type": "code",
   "execution_count": 4,
   "metadata": {},
   "outputs": [
    {
     "name": "stdout",
     "output_type": "stream",
     "text": [
      "Уникальные значения столбца key\n",
      "[   1    2    3 ... 3239 3240 3241]\n",
      "Уникальные значения столбца Начало нагрева дугой\n",
      "['2019-05-03 11:02:14' '2019-05-03 11:07:28' '2019-05-03 11:11:44' ...\n",
      " '2019-09-01 04:16:41' '2019-09-01 04:31:51' '2019-09-01 04:34:47']\n",
      "Уникальные значения столбца Конец нагрева дугой\n",
      "['2019-05-03 11:06:02' '2019-05-03 11:10:33' '2019-05-03 11:14:36' ...\n",
      " '2019-09-01 04:19:45' '2019-09-01 04:32:48' '2019-09-01 04:36:08']\n",
      "Уникальные значения столбца Активная мощность\n",
      "[0.03000194 0.03018816 0.0301905  ... 3.15076178 3.15627646 3.73159611]\n",
      "Уникальные значения столбца Реактивная мощность\n",
      "[-7.15504924e+02  2.08063126e-02  2.11541653e-02 ...  2.45995915e+00\n",
      "  2.50420606e+00  2.67638755e+00]\n"
     ]
    }
   ],
   "source": [
    "show_rows(data_arc)"
   ]
  },
  {
   "cell_type": "code",
   "execution_count": 5,
   "metadata": {},
   "outputs": [
    {
     "data": {
      "text/plain": [
       "3214"
      ]
     },
     "execution_count": 5,
     "metadata": {},
     "output_type": "execute_result"
    }
   ],
   "source": [
    "len(data_arc['key'].unique())"
   ]
  },
  {
   "cell_type": "code",
   "execution_count": 6,
   "metadata": {},
   "outputs": [
    {
     "data": {
      "text/plain": [
       "2108    16\n",
       "1689    15\n",
       "1513    15\n",
       "2567    14\n",
       "46      13\n",
       "        ..\n",
       "977      1\n",
       "247      1\n",
       "2582     1\n",
       "248      1\n",
       "530      1\n",
       "Name: key, Length: 3214, dtype: int64"
      ]
     },
     "execution_count": 6,
     "metadata": {},
     "output_type": "execute_result"
    }
   ],
   "source": [
    "data_arc['key'].value_counts()"
   ]
  },
  {
   "cell_type": "code",
   "execution_count": 7,
   "metadata": {},
   "outputs": [
    {
     "data": {
      "text/plain": [
       "count    14876.000000\n",
       "mean         0.670441\n",
       "std          0.408159\n",
       "min          0.030002\n",
       "25%          0.395297\n",
       "50%          0.555517\n",
       "75%          0.857034\n",
       "max          3.731596\n",
       "Name: Активная мощность, dtype: float64"
      ]
     },
     "metadata": {},
     "output_type": "display_data"
    },
    {
     "data": {
      "text/plain": [
       "<AxesSubplot:>"
      ]
     },
     "execution_count": 7,
     "metadata": {},
     "output_type": "execute_result"
    },
    {
     "data": {
      "image/png": "[encoded data removed]",
      "text/plain": [
       "<Figure size 1152x720 with 1 Axes>"
      ]
     },
     "metadata": {
      "needs_background": "light"
     },
     "output_type": "display_data"
    }
   ],
   "source": [
    "display(data_arc['Активная мощность'].describe())\n",
    "data_arc['Активная мощность'].hist(bins=100, figsize=(16,10))"
   ]
  },
  {
   "cell_type": "code",
   "execution_count": 8,
   "metadata": {},
   "outputs": [
    {
     "data": {
      "text/plain": [
       "count    14876.000000\n",
       "mean         0.452592\n",
       "std          5.878702\n",
       "min       -715.504924\n",
       "25%          0.290991\n",
       "50%          0.415962\n",
       "75%          0.637371\n",
       "max          2.676388\n",
       "Name: Реактивная мощность, dtype: float64"
      ]
     },
     "metadata": {},
     "output_type": "display_data"
    },
    {
     "data": {
      "text/plain": [
       "count    14875.000000\n",
       "mean         0.500723\n",
       "std          0.310880\n",
       "min          0.020806\n",
       "25%          0.291003\n",
       "50%          0.415984\n",
       "75%          0.637403\n",
       "max          2.676388\n",
       "Name: Реактивная мощность, dtype: float64"
      ]
     },
     "metadata": {},
     "output_type": "display_data"
    },
    {
     "data": {
      "text/plain": [
       "<AxesSubplot:>"
      ]
     },
     "execution_count": 8,
     "metadata": {},
     "output_type": "execute_result"
    },
    {
     "data": {
      "image/png": "[encoded data removed]",
      "text/plain": [
       "<Figure size 1152x720 with 1 Axes>"
      ]
     },
     "metadata": {
      "needs_background": "light"
     },
     "output_type": "display_data"
    }
   ],
   "source": [
    "display(data_arc['Реактивная мощность'].describe())\n",
    "display(data_arc[data_arc['Реактивная мощность'] > 0]['Реактивная мощность'].describe())\n",
    "data_arc[data_arc['Реактивная мощность'] > 0]['Реактивная мощность'].hist(bins=100, figsize=(16,10))"
   ]
  },
  {
   "cell_type": "markdown",
   "metadata": {},
   "source": [
    "### Данные о подаче сыпучих материалов (объём)"
   ]
  },
  {
   "cell_type": "code",
   "execution_count": 9,
   "metadata": {},
   "outputs": [
    {
     "name": "stdout",
     "output_type": "stream",
     "text": [
      "<class 'pandas.core.frame.DataFrame'>\n",
      "RangeIndex: 3129 entries, 0 to 3128\n",
      "Data columns (total 16 columns):\n",
      " #   Column   Non-Null Count  Dtype  \n",
      "---  ------   --------------  -----  \n",
      " 0   key      3129 non-null   int64  \n",
      " 1   Bulk 1   252 non-null    float64\n",
      " 2   Bulk 2   22 non-null     float64\n",
      " 3   Bulk 3   1298 non-null   float64\n",
      " 4   Bulk 4   1014 non-null   float64\n",
      " 5   Bulk 5   77 non-null     float64\n",
      " 6   Bulk 6   576 non-null    float64\n",
      " 7   Bulk 7   25 non-null     float64\n",
      " 8   Bulk 8   1 non-null      float64\n",
      " 9   Bulk 9   19 non-null     float64\n",
      " 10  Bulk 10  176 non-null    float64\n",
      " 11  Bulk 11  177 non-null    float64\n",
      " 12  Bulk 12  2450 non-null   float64\n",
      " 13  Bulk 13  18 non-null     float64\n",
      " 14  Bulk 14  2806 non-null   float64\n",
      " 15  Bulk 15  2248 non-null   float64\n",
      "dtypes: float64(15), int64(1)\n",
      "memory usage: 391.2 KB\n"
     ]
    }
   ],
   "source": [
    "data_bulk = pd.read_csv('/datasets/final_steel/data_bulk.csv')\n",
    "data_bulk.info()"
   ]
  },
  {
   "cell_type": "code",
   "execution_count": 10,
   "metadata": {},
   "outputs": [
    {
     "name": "stdout",
     "output_type": "stream",
     "text": [
      "Уникальные значения столбца key\n",
      "[   1    2    3 ... 3239 3240 3241]\n",
      "Уникальные значения столбца Bulk 1\n",
      "[ 10.  16.  19.  21.  22.  24.  26.  27.  28.  29.  30.  31.  32.  33.\n",
      "  34.  36.  37.  38.  39.  41.  43.  44.  46.  47.  48.  50.  51.  52.\n",
      "  54.  58.  60.  62.  63.  65.  67.  69.  73.  74.  75.  78.  83.  90.\n",
      "  92.  94. 104. 118. 185.  nan]\n",
      "Уникальные значения столбца Bulk 2\n",
      "[228. 232. 233. 236. 242. 246. 247. 248. 249. 254. 257. 258. 270. 282.\n",
      " 325.  nan]\n",
      "Уникальные значения столбца Bulk 3\n",
      "[  6.  17.  18.  19.  20.  21.  22.  23.  24.  25.  26.  27.  28.  29.\n",
      "  30.  31.  32.  34.  36.  37.  38.  39.  40.  41.  42.  43.  44.  45.\n",
      "  46.  47.  48.  49.  50.  51.  52.  53.  54.  55.  56.  57.  58.  59.\n",
      "  60.  61.  62.  63.  64.  65.  66.  67.  68.  69.  70.  71.  72.  73.\n",
      "  74.  75.  76.  77.  78.  79.  80.  81.  82.  83.  84.  85.  86.  87.\n",
      "  88.  89.  90.  91.  92.  93.  94.  95.  96.  97.  98.  99. 100. 101.\n",
      " 102. 103. 104. 105. 106. 107. 108. 109. 110. 111. 112. 113. 114. 115.\n",
      " 116. 117. 118. 119. 120. 121. 122. 123. 124. 125. 126. 127. 128. 129.\n",
      " 130. 131. 132. 133. 134. 135. 136. 137. 138. 139. 140. 141. 142. 143.\n",
      " 144. 145. 146. 147. 148. 149. 150. 151. 152. 153. 154. 155. 156. 157.\n",
      " 158. 159. 162. 163. 164. 165. 166. 167. 168. 169. 170. 171. 172. 173.\n",
      " 174. 175. 176. 177. 178. 180. 181. 182. 183. 184. 185. 186. 187. 188.\n",
      " 189. 190. 191. 193. 194. 196. 197. 198. 199. 200. 201. 202. 203. 204.\n",
      " 206. 207. 208. 209. 210. 211. 212. 213. 214. 215. 220. 221. 222. 224.\n",
      " 225. 226. 227. 230. 231. 232. 234. 235. 236. 237. 239. 240. 242. 243.\n",
      " 244. 245. 246. 248. 249. 250. 251. 252. 255. 256. 258. 259. 260. 261.\n",
      " 262. 263. 264. 265. 266. 267. 268. 269. 270. 272. 278. 280. 282. 284.\n",
      " 285. 286. 289. 290. 291. 292. 294. 295. 297. 298. 300. 301. 302. 303.\n",
      " 304. 305. 308. 310. 315. 316. 323. 324. 334. 335. 341. 342. 343. 349.\n",
      " 352. 353. 354. 356. 358. 372. 379. 395. 405. 421. 445. 454.  nan]\n",
      "Уникальные значения столбца Bulk 4\n",
      "[ 12.  13.  16.  17.  19.  20.  21.  22.  23.  24.  25.  26.  27.  28.\n",
      "  30.  31.  32.  33.  34.  36.  37.  38.  39.  40.  41.  42.  43.  44.\n",
      "  45.  46.  47.  48.  49.  50.  51.  52.  53.  54.  55.  56.  57.  58.\n",
      "  59.  60.  61.  62.  63.  64.  65.  66.  67.  68.  69.  70.  71.  72.\n",
      "  73.  74.  75.  76.  77.  78.  79.  80.  81.  82.  83.  84.  85.  86.\n",
      "  87.  88.  89.  90.  91.  92.  93.  94.  95.  96.  97.  98.  99. 100.\n",
      " 101. 102. 103. 104. 105. 106. 107. 108. 109. 110. 111. 112. 113. 114.\n",
      " 115. 116. 117. 118. 119. 120. 121. 122. 123. 124. 125. 126. 127. 128.\n",
      " 129. 130. 131. 132. 133. 134. 135. 136. 137. 138. 139. 140. 141. 142.\n",
      " 143. 144. 145. 146. 147. 148. 149. 150. 151. 152. 153. 154. 155. 156.\n",
      " 157. 158. 159. 160. 161. 162. 163. 164. 165. 166. 167. 168. 170. 171.\n",
      " 172. 174. 175. 176. 177. 179. 180. 181. 182. 184. 185. 186. 188. 189.\n",
      " 190. 192. 193. 194. 195. 196. 198. 199. 200. 201. 202. 203. 205. 206.\n",
      " 208. 212. 214. 218. 220. 221. 222. 223. 224. 228. 231. 233. 238. 239.\n",
      " 241. 242. 243. 255. 256. 258. 265. 271. 276. 281.  nan]\n",
      "Уникальные значения столбца Bulk 5\n",
      "[ 11.  18.  19.  22.  23.  28.  31.  33.  34.  42.  43.  50.  54.  61.\n",
      "  62.  70.  72.  73.  74.  77.  78.  79.  82.  83.  84.  86.  88.  90.\n",
      "  94. 102. 103. 104. 112. 120. 121. 122. 124. 128. 132. 136. 142. 144.\n",
      " 146. 148. 160. 180. 182. 184. 189. 197. 234. 242. 256. 293. 603.  nan]\n",
      "Уникальные значения столбца Bulk 6\n",
      "[ 17.  23.  24.  25.  26.  27.  28.  30.  32.  34.  36.  37.  38.  40.\n",
      "  42.  43.  44.  45.  46.  47.  48.  49.  50.  51.  53.  54.  55.  56.\n",
      "  57.  58.  59.  60.  61.  62.  63.  64.  65.  66.  67.  68.  69.  70.\n",
      "  71.  72.  73.  74.  75.  76.  77.  78.  79.  80.  81.  82.  83.  84.\n",
      "  85.  86.  87.  88.  89.  90.  91.  92.  93.  94.  95.  96.  97.  98.\n",
      "  99. 100. 101. 102. 103. 104. 105. 106. 107. 108. 109. 110. 111. 112.\n",
      " 114. 115. 116. 117. 118. 120. 121. 123. 124. 125. 126. 127. 128. 130.\n",
      " 131. 132. 134. 135. 136. 137. 138. 139. 140. 141. 142. 143. 144. 145.\n",
      " 146. 149. 150. 151. 152. 153. 155. 156. 157. 158. 159. 160. 162. 163.\n",
      " 164. 165. 166. 167. 168. 170. 172. 173. 174. 175. 176. 177. 178. 179.\n",
      " 180. 181. 182. 184. 185. 186. 187. 189. 190. 193. 194. 195. 196. 198.\n",
      " 202. 203. 204. 206. 208. 211. 212. 215. 218. 219. 220. 224. 226. 230.\n",
      " 231. 232. 234. 236. 240. 247. 250. 252. 254. 255. 261. 262. 264. 265.\n",
      " 266. 271. 272. 278. 280. 283. 284. 285. 288. 294. 295. 297. 321. 325.\n",
      " 326. 330. 350. 357. 359. 407. 414. 498. 503.  nan]\n",
      "Уникальные значения столбца Bulk 7\n",
      "[ 47.  50.  54.  75.  92. 108. 155. 178. 208. 250. 252. 296. 298. 306.\n",
      " 340. 352. 392. 405. 406. 462. 506. 507. 553. 576. 772.  nan]\n",
      "Уникальные значения столбца Bulk 8\n",
      "[49. nan]\n",
      "Уникальные значения столбца Bulk 9\n",
      "[ 63.  65.  66.  68.  70.  71.  74. 108. 111. 147.  nan]\n",
      "Уникальные значения столбца Bulk 10\n",
      "[ 24.  26.  28.  30.  32.  34.  36.  38.  45.  46.  47.  49.  50.  52.\n",
      "  54.  55.  56.  57.  58.  59.  61.  62.  63.  64.  65.  67.  68.  70.\n",
      "  72.  73.  75.  76.  77.  79.  80.  81.  82.  83.  84.  85.  86.  87.\n",
      "  88.  89.  90.  91.  92.  93.  95.  96.  97.  98.  99. 100. 101. 102.\n",
      " 103. 104. 105. 106. 107. 108. 110. 111. 113. 114. 115. 117. 118. 122.\n",
      " 124. 125. 126. 128. 147. 154. 159.  nan]\n",
      "Уникальные значения столбца Bulk 11\n",
      "[  8.  14.  16.  17.  18.  19.  20.  21.  22.  23.  24.  25.  26.  28.\n",
      "  29.  31.  32.  34.  37.  38.  39.  40.  41.  42.  43.  46.  47.  48.\n",
      "  49.  50.  51.  53.  54.  56.  58.  62.  64.  66.  67.  68.  69.  71.\n",
      "  72.  74.  76.  81.  82.  83.  84.  87.  88.  89.  90.  91.  93.  94.\n",
      "  95.  96.  97.  98. 100. 102. 103. 104. 106. 107. 114. 120. 124. 126.\n",
      " 128. 131. 133. 136. 139. 140. 144. 146. 148. 151. 152. 154. 156. 158.\n",
      " 162. 172. 174. 176. 178. 185. 188. 198. 200. 204. 205. 206. 211. 225.\n",
      " 226. 242. 313.  nan]\n",
      "Уникальные значения столбца Bulk 12\n",
      "[  53.   54.   55.   56.   58.   88.  102.  103.  104.  105.  106.  107.\n",
      "  108.  109.  110.  111.  115.  116.  123.  124.  125.  126.  127.  128.\n",
      "  129.  135.  136.  137.  138.  139.  143.  145.  152.  153.  154.  155.\n",
      "  156.  157.  158.  159.  160.  162.  165.  166.  167.  168.  170.  173.\n",
      "  174.  175.  176.  177.  178.  180.  181.  182.  183.  184.  185.  186.\n",
      "  187.  188.  189.  191.  192.  195.  201.  202.  203.  204.  205.  206.\n",
      "  207.  208.  209.  210.  211.  212.  213.  214.  215.  216.  217.  219.\n",
      "  220.  221.  222.  223.  224.  225.  226.  227.  228.  229.  230.  232.\n",
      "  233.  234.  235.  236.  238.  239.  240.  242.  244.  247.  248.  250.\n",
      "  252.  253.  254.  255.  256.  257.  258.  259.  260.  261.  262.  263.\n",
      "  264.  265.  266.  267.  268.  270.  271.  272.  273.  274.  275.  276.\n",
      "  277.  279.  280.  281.  282.  283.  284.  285.  286.  289.  290.  291.\n",
      "  296.  301.  302.  303.  304.  305.  306.  307.  308.  309.  310.  311.\n",
      "  312.  313.  314.  316.  319.  321.  322.  325.  329.  330.  331.  332.\n",
      "  333.  334.  335.  337.  338.  340.  342.  343.  345.  346.  349.  351.\n",
      "  352.  356.  358.  359.  360.  361.  362.  363.  364.  366.  368.  369.\n",
      "  370.  371.  372.  373.  375.  377.  378.  379.  380.  381.  382.  383.\n",
      "  385.  387.  388.  390.  391.  392.  393.  394.  395.  397.  399.  401.\n",
      "  402.  404.  406.  407.  408.  409.  410.  411.  412.  413.  414.  415.\n",
      "  416.  417.  418.  419.  420.  421.  422.  423.  424.  425.  428.  430.\n",
      "  431.  432.  433.  434.  435.  436.  437.  439.  440.  441.  443.  444.\n",
      "  445.  446.  447.  452.  453.  456.  457.  458.  459.  460.  461.  462.\n",
      "  463.  464.  465.  466.  467.  468.  469.  470.  473.  474.  475.  478.\n",
      "  479.  481.  483.  484.  496.  501.  507.  508.  509.  510.  511.  512.\n",
      "  513.  514.  515.  516.  517.  518.  519.  520.  521.  522.  528.  542.\n",
      "  550.  558.  561.  562.  563.  564.  567.  570.  572.  583.  586.  597.\n",
      "  609.  616.  618.  620.  622.  624.  647.  666.  667.  668.  669.  671.\n",
      "  685.  733.  774.  775.  833.  853. 1849.   nan]\n",
      "Уникальные значения столбца Bulk 13\n",
      "[151. 152. 153. 154. 155. 156. 157. 159. 202. 204. 206. 214. 278. 305.\n",
      "  nan]\n",
      "Уникальные значения столбца Bulk 14\n",
      "[ 16.  18.  24.  29.  48.  52.  64.  68.  69.  72.  76.  78.  80.  82.\n",
      "  83.  84.  85.  86.  88.  89.  90.  91.  92.  93.  94.  95.  96.  97.\n",
      "  98.  99. 100. 101. 102. 103. 104. 105. 106. 107. 108. 109. 110. 111.\n",
      " 112. 113. 114. 115. 116. 117. 118. 119. 120. 121. 122. 123. 124. 125.\n",
      " 126. 127. 128. 129. 130. 131. 132. 133. 134. 135. 136. 137. 138. 139.\n",
      " 140. 141. 142. 143. 144. 145. 146. 147. 148. 149. 150. 151. 152. 153.\n",
      " 154. 155. 156. 157. 158. 159. 160. 161. 162. 163. 164. 165. 166. 167.\n",
      " 168. 169. 170. 171. 173. 174. 176. 177. 178. 179. 180. 181. 182. 183.\n",
      " 184. 185. 186. 187. 188. 189. 190. 191. 192. 193. 194. 195. 196. 197.\n",
      " 198. 199. 200. 201. 202. 203. 204. 205. 206. 207. 208. 209. 210. 211.\n",
      " 212. 213. 214. 215. 216. 217. 218. 219. 220. 221. 222. 223. 224. 225.\n",
      " 226. 227. 228. 229. 230. 231. 232. 233. 234. 235. 236. 237. 238. 239.\n",
      " 240. 241. 242. 243. 244. 245. 246. 247. 248. 249. 250. 251. 252. 253.\n",
      " 254. 255. 256. 257. 258. 259. 260. 261. 262. 263. 264. 265. 266. 267.\n",
      " 268. 269. 270. 271. 272. 274. 275. 276. 277. 278. 279. 280. 281. 282.\n",
      " 283. 284. 286. 288. 289. 290. 291. 292. 294. 295. 296. 297. 298. 299.\n",
      " 300. 301. 302. 303. 304. 305. 306. 307. 308. 309. 310. 311. 312. 313.\n",
      " 315. 316. 317. 320. 321. 324. 325. 327. 330. 333. 336. 337. 342. 347.\n",
      " 348. 349. 351. 352. 353. 354. 356. 366. 371. 375. 376. 379. 385. 389.\n",
      " 390. 398. 400. 401. 402. 403. 405. 406. 407. 417. 428. 446. 450. 452.\n",
      " 504. 552. 601. 636.  nan]\n",
      "Уникальные значения столбца Bulk 15\n",
      "[  1.  10.  44.  50.  51.  52.  53.  54.  55.  56.  58.  59.  63.  64.\n",
      "  65.  69.  70.  72.  73.  74.  75.  85.  86.  87.  88.  99. 100. 101.\n",
      " 102. 103. 104. 105. 106. 107. 108. 109. 110. 111. 112. 113. 114. 115.\n",
      " 116. 117. 118. 123. 124. 125. 126. 127. 128. 134. 136. 137. 145. 147.\n",
      " 148. 149. 150. 151. 152. 153. 154. 155. 156. 157. 158. 159. 160. 161.\n",
      " 163. 164. 166. 167. 168. 169. 170. 171. 172. 174. 175. 176. 177. 178.\n",
      " 179. 181. 183. 185. 186. 187. 188. 189. 190. 191. 192. 193. 194. 196.\n",
      " 197. 198. 199. 200. 201. 202. 203. 204. 205. 206. 207. 208. 209. 210.\n",
      " 211. 212. 213. 214. 215. 216. 217. 218. 219. 220. 221. 222. 223. 224.\n",
      " 225. 226. 227. 228. 229. 230. 231. 232. 233. 234. 235. 236. 237. 238.\n",
      " 239. 240. 246. 251. 258. 260. 261. 262. 264. 266. 290. 295. 320. 322.\n",
      " 337. 405.  nan]\n"
     ]
    }
   ],
   "source": [
    "show_rows(data_bulk)\n"
   ]
  },
  {
   "cell_type": "code",
   "execution_count": 11,
   "metadata": {},
   "outputs": [
    {
     "data": {
      "text/plain": [
       "3129"
      ]
     },
     "execution_count": 11,
     "metadata": {},
     "output_type": "execute_result"
    }
   ],
   "source": [
    "len(data_bulk['key'].unique())"
   ]
  },
  {
   "cell_type": "code",
   "execution_count": 12,
   "metadata": {},
   "outputs": [
    {
     "data": {
      "text/plain": [
       "2049    1\n",
       "2612    1\n",
       "2588    1\n",
       "541     1\n",
       "2590    1\n",
       "       ..\n",
       "1090    1\n",
       "3139    1\n",
       "1092    1\n",
       "3141    1\n",
       "2047    1\n",
       "Name: key, Length: 3129, dtype: int64"
      ]
     },
     "execution_count": 12,
     "metadata": {},
     "output_type": "execute_result"
    }
   ],
   "source": [
    "data_bulk['key'].value_counts()"
   ]
  },
  {
   "cell_type": "code",
   "execution_count": 13,
   "metadata": {},
   "outputs": [
    {
     "name": "stdout",
     "output_type": "stream",
     "text": [
      "Bulk 1\n"
     ]
    },
    {
     "data": {
      "text/plain": [
       "count    252.000000\n",
       "mean      39.242063\n",
       "std       18.277654\n",
       "min       10.000000\n",
       "25%       27.000000\n",
       "50%       31.000000\n",
       "75%       46.000000\n",
       "max      185.000000\n",
       "Name: Bulk 1, dtype: float64"
      ]
     },
     "metadata": {},
     "output_type": "display_data"
    },
    {
     "name": "stdout",
     "output_type": "stream",
     "text": [
      "Bulk 2\n"
     ]
    },
    {
     "data": {
      "text/plain": [
       "count     22.000000\n",
       "mean     253.045455\n",
       "std       21.180578\n",
       "min      228.000000\n",
       "25%      242.000000\n",
       "50%      251.500000\n",
       "75%      257.750000\n",
       "max      325.000000\n",
       "Name: Bulk 2, dtype: float64"
      ]
     },
     "metadata": {},
     "output_type": "display_data"
    },
    {
     "name": "stdout",
     "output_type": "stream",
     "text": [
      "Bulk 3\n"
     ]
    },
    {
     "data": {
      "text/plain": [
       "count    1298.000000\n",
       "mean      113.879045\n",
       "std        75.483494\n",
       "min         6.000000\n",
       "25%        58.000000\n",
       "50%        97.500000\n",
       "75%       152.000000\n",
       "max       454.000000\n",
       "Name: Bulk 3, dtype: float64"
      ]
     },
     "metadata": {},
     "output_type": "display_data"
    },
    {
     "name": "stdout",
     "output_type": "stream",
     "text": [
      "Bulk 4\n"
     ]
    },
    {
     "data": {
      "text/plain": [
       "count    1014.000000\n",
       "mean      104.394477\n",
       "std        48.184126\n",
       "min        12.000000\n",
       "25%        72.000000\n",
       "50%       102.000000\n",
       "75%       133.000000\n",
       "max       281.000000\n",
       "Name: Bulk 4, dtype: float64"
      ]
     },
     "metadata": {},
     "output_type": "display_data"
    },
    {
     "name": "stdout",
     "output_type": "stream",
     "text": [
      "Bulk 5\n"
     ]
    },
    {
     "data": {
      "text/plain": [
       "count     77.000000\n",
       "mean     107.025974\n",
       "std       81.790646\n",
       "min       11.000000\n",
       "25%       70.000000\n",
       "50%       86.000000\n",
       "75%      132.000000\n",
       "max      603.000000\n",
       "Name: Bulk 5, dtype: float64"
      ]
     },
     "metadata": {},
     "output_type": "display_data"
    },
    {
     "name": "stdout",
     "output_type": "stream",
     "text": [
      "Bulk 6\n"
     ]
    },
    {
     "data": {
      "text/plain": [
       "count    576.000000\n",
       "mean     118.925347\n",
       "std       72.057776\n",
       "min       17.000000\n",
       "25%       69.750000\n",
       "50%      100.000000\n",
       "75%      157.000000\n",
       "max      503.000000\n",
       "Name: Bulk 6, dtype: float64"
      ]
     },
     "metadata": {},
     "output_type": "display_data"
    },
    {
     "name": "stdout",
     "output_type": "stream",
     "text": [
      "Bulk 7\n"
     ]
    },
    {
     "data": {
      "text/plain": [
       "count     25.000000\n",
       "mean     305.600000\n",
       "std      191.022904\n",
       "min       47.000000\n",
       "25%      155.000000\n",
       "50%      298.000000\n",
       "75%      406.000000\n",
       "max      772.000000\n",
       "Name: Bulk 7, dtype: float64"
      ]
     },
     "metadata": {},
     "output_type": "display_data"
    },
    {
     "name": "stdout",
     "output_type": "stream",
     "text": [
      "Bulk 8\n"
     ]
    },
    {
     "data": {
      "text/plain": [
       "count     1.0\n",
       "mean     49.0\n",
       "std       NaN\n",
       "min      49.0\n",
       "25%      49.0\n",
       "50%      49.0\n",
       "75%      49.0\n",
       "max      49.0\n",
       "Name: Bulk 8, dtype: float64"
      ]
     },
     "metadata": {},
     "output_type": "display_data"
    },
    {
     "name": "stdout",
     "output_type": "stream",
     "text": [
      "Bulk 9\n"
     ]
    },
    {
     "data": {
      "text/plain": [
       "count     19.000000\n",
       "mean      76.315789\n",
       "std       21.720581\n",
       "min       63.000000\n",
       "25%       66.000000\n",
       "50%       68.000000\n",
       "75%       70.500000\n",
       "max      147.000000\n",
       "Name: Bulk 9, dtype: float64"
      ]
     },
     "metadata": {},
     "output_type": "display_data"
    },
    {
     "name": "stdout",
     "output_type": "stream",
     "text": [
      "Bulk 10\n"
     ]
    },
    {
     "data": {
      "text/plain": [
       "count    176.000000\n",
       "mean      83.284091\n",
       "std       26.060347\n",
       "min       24.000000\n",
       "25%       64.000000\n",
       "50%       86.500000\n",
       "75%      102.000000\n",
       "max      159.000000\n",
       "Name: Bulk 10, dtype: float64"
      ]
     },
     "metadata": {},
     "output_type": "display_data"
    },
    {
     "name": "stdout",
     "output_type": "stream",
     "text": [
      "Bulk 11\n"
     ]
    },
    {
     "data": {
      "text/plain": [
       "count    177.000000\n",
       "mean      76.819209\n",
       "std       59.655365\n",
       "min        8.000000\n",
       "25%       25.000000\n",
       "50%       64.000000\n",
       "75%      106.000000\n",
       "max      313.000000\n",
       "Name: Bulk 11, dtype: float64"
      ]
     },
     "metadata": {},
     "output_type": "display_data"
    },
    {
     "name": "stdout",
     "output_type": "stream",
     "text": [
      "Bulk 12\n"
     ]
    },
    {
     "data": {
      "text/plain": [
       "count    2450.000000\n",
       "mean      260.471020\n",
       "std       120.649269\n",
       "min        53.000000\n",
       "25%       204.000000\n",
       "50%       208.000000\n",
       "75%       316.000000\n",
       "max      1849.000000\n",
       "Name: Bulk 12, dtype: float64"
      ]
     },
     "metadata": {},
     "output_type": "display_data"
    },
    {
     "name": "stdout",
     "output_type": "stream",
     "text": [
      "Bulk 13\n"
     ]
    },
    {
     "data": {
      "text/plain": [
       "count     18.000000\n",
       "mean     181.111111\n",
       "std       46.088009\n",
       "min      151.000000\n",
       "25%      153.250000\n",
       "50%      155.500000\n",
       "75%      203.500000\n",
       "max      305.000000\n",
       "Name: Bulk 13, dtype: float64"
      ]
     },
     "metadata": {},
     "output_type": "display_data"
    },
    {
     "name": "stdout",
     "output_type": "stream",
     "text": [
      "Bulk 14\n"
     ]
    },
    {
     "data": {
      "text/plain": [
       "count    2806.000000\n",
       "mean      170.284747\n",
       "std        65.868652\n",
       "min        16.000000\n",
       "25%       119.000000\n",
       "50%       151.000000\n",
       "75%       205.750000\n",
       "max       636.000000\n",
       "Name: Bulk 14, dtype: float64"
      ]
     },
     "metadata": {},
     "output_type": "display_data"
    },
    {
     "name": "stdout",
     "output_type": "stream",
     "text": [
      "Bulk 15\n"
     ]
    },
    {
     "data": {
      "text/plain": [
       "count    2248.000000\n",
       "mean      160.513345\n",
       "std        51.765319\n",
       "min         1.000000\n",
       "25%       105.000000\n",
       "50%       160.000000\n",
       "75%       205.000000\n",
       "max       405.000000\n",
       "Name: Bulk 15, dtype: float64"
      ]
     },
     "metadata": {},
     "output_type": "display_data"
    },
    {
     "data": {
      "image/png": "[encoded data removed]",
      "text/plain": [
       "<Figure size 1152x720 with 1 Axes>"
      ]
     },
     "metadata": {
      "needs_background": "light"
     },
     "output_type": "display_data"
    }
   ],
   "source": [
    "for column in data_bulk.columns:\n",
    "    if column[0] == 'B':\n",
    "        print(column)\n",
    "        display(data_bulk[column].describe())\n",
    "        data_bulk[column].hist(bins=100, figsize=(16,10), alpha=0.3)"
   ]
  },
  {
   "cell_type": "markdown",
   "metadata": {},
   "source": [
    "### Данные о подаче сыпучих материалов (время)"
   ]
  },
  {
   "cell_type": "code",
   "execution_count": 14,
   "metadata": {},
   "outputs": [
    {
     "name": "stdout",
     "output_type": "stream",
     "text": [
      "<class 'pandas.core.frame.DataFrame'>\n",
      "RangeIndex: 3129 entries, 0 to 3128\n",
      "Data columns (total 16 columns):\n",
      " #   Column   Non-Null Count  Dtype \n",
      "---  ------   --------------  ----- \n",
      " 0   key      3129 non-null   int64 \n",
      " 1   Bulk 1   252 non-null    object\n",
      " 2   Bulk 2   22 non-null     object\n",
      " 3   Bulk 3   1298 non-null   object\n",
      " 4   Bulk 4   1014 non-null   object\n",
      " 5   Bulk 5   77 non-null     object\n",
      " 6   Bulk 6   576 non-null    object\n",
      " 7   Bulk 7   25 non-null     object\n",
      " 8   Bulk 8   1 non-null      object\n",
      " 9   Bulk 9   19 non-null     object\n",
      " 10  Bulk 10  176 non-null    object\n",
      " 11  Bulk 11  177 non-null    object\n",
      " 12  Bulk 12  2450 non-null   object\n",
      " 13  Bulk 13  18 non-null     object\n",
      " 14  Bulk 14  2806 non-null   object\n",
      " 15  Bulk 15  2248 non-null   object\n",
      "dtypes: int64(1), object(15)\n",
      "memory usage: 391.2+ KB\n"
     ]
    }
   ],
   "source": [
    "data_bulk_time = pd.read_csv('/datasets/final_steel/data_bulk_time.csv')\n",
    "data_bulk_time.info()"
   ]
  },
  {
   "cell_type": "code",
   "execution_count": 15,
   "metadata": {},
   "outputs": [
    {
     "name": "stdout",
     "output_type": "stream",
     "text": [
      "Уникальные значения столбца key\n",
      "[   1    2    3 ... 3239 3240 3241]\n",
      "Уникальные значения столбца Bulk 1\n",
      "['2019-05-03 17:50:19' '2019-05-05 10:09:13' '2019-05-05 11:01:42'\n",
      " '2019-05-05 11:59:23' '2019-05-05 13:13:45' '2019-05-05 14:17:04'\n",
      " '2019-05-05 15:03:54' '2019-05-05 16:00:33' '2019-05-05 20:49:32'\n",
      " '2019-05-07 11:24:41' '2019-05-07 15:37:52' '2019-05-07 16:15:34'\n",
      " '2019-05-07 17:35:13' '2019-05-08 01:00:11' '2019-05-08 05:26:23'\n",
      " '2019-05-08 10:05:03' '2019-05-08 10:39:56' '2019-05-08 11:33:17'\n",
      " '2019-05-08 15:14:16' '2019-05-09 04:35:17' '2019-05-10 16:46:26'\n",
      " '2019-05-10 17:16:52' '2019-05-10 18:41:05' '2019-05-10 20:05:32'\n",
      " '2019-05-11 10:46:17' '2019-05-11 12:15:55' '2019-05-11 17:50:54'\n",
      " '2019-05-12 15:36:08' '2019-05-12 16:43:26' '2019-05-12 21:33:11'\n",
      " '2019-05-13 13:14:48' '2019-05-13 14:36:57' '2019-05-14 12:01:34'\n",
      " '2019-05-14 14:09:52' '2019-05-14 16:24:02' '2019-05-14 21:58:07'\n",
      " '2019-05-15 09:27:40' '2019-05-15 15:05:04' '2019-05-15 21:42:31'\n",
      " '2019-05-15 23:52:57' '2019-05-16 01:41:04' '2019-05-16 02:24:02'\n",
      " '2019-05-16 15:12:05' '2019-05-17 02:40:29' '2019-05-17 04:47:27'\n",
      " '2019-05-18 01:18:32' '2019-05-18 02:06:39' '2019-05-18 05:09:07'\n",
      " '2019-05-18 17:02:16' '2019-05-19 18:40:49' '2019-05-20 03:14:34'\n",
      " '2019-05-20 04:02:44' '2019-05-20 04:41:37' '2019-05-21 11:39:25'\n",
      " '2019-05-21 12:35:48' '2019-05-21 16:57:34' '2019-05-22 00:21:02'\n",
      " '2019-05-23 01:38:59' '2019-05-23 15:30:11' '2019-05-27 04:48:20'\n",
      " '2019-05-27 05:33:00' '2019-05-27 12:21:27' '2019-05-27 22:43:35'\n",
      " '2019-05-28 03:53:36' '2019-05-28 21:32:08' '2019-05-28 22:23:16'\n",
      " '2019-06-01 14:12:45' '2019-06-01 15:18:37' '2019-06-02 19:05:37'\n",
      " '2019-06-02 23:36:17' '2019-06-03 16:56:36' '2019-06-04 02:06:13'\n",
      " '2019-06-04 21:27:53' '2019-06-04 23:36:14' '2019-06-05 00:31:20'\n",
      " '2019-06-05 01:06:06' '2019-06-05 01:48:22' '2019-06-05 03:54:54'\n",
      " '2019-06-06 11:36:54' '2019-06-07 01:29:04' '2019-06-07 09:07:27'\n",
      " '2019-06-07 13:15:30' '2019-06-07 13:54:21' '2019-06-08 05:05:11'\n",
      " '2019-06-08 05:37:19' '2019-06-09 03:00:48' '2019-06-09 03:54:52'\n",
      " '2019-06-09 06:08:03' '2019-06-09 08:08:46' '2019-06-09 09:34:48'\n",
      " '2019-06-09 10:20:35' '2019-06-09 11:39:43' '2019-06-09 14:52:53'\n",
      " '2019-06-10 20:44:47' '2019-06-11 08:08:12' '2019-06-11 09:09:34'\n",
      " '2019-06-11 16:45:19' '2019-06-11 21:37:51' '2019-06-12 11:37:19'\n",
      " '2019-06-13 12:47:35' '2019-06-13 13:35:57' '2019-06-13 20:11:19'\n",
      " '2019-06-14 06:45:17' '2019-06-15 16:02:39' '2019-06-16 12:54:17'\n",
      " '2019-06-16 14:26:41' '2019-06-17 02:02:36' '2019-06-17 02:34:38'\n",
      " '2019-06-17 06:12:53' '2019-06-17 17:50:43' '2019-06-17 18:27:52'\n",
      " '2019-06-18 16:53:59' '2019-06-18 21:44:37' '2019-06-18 22:26:17'\n",
      " '2019-06-19 04:19:23' '2019-06-19 05:01:32' '2019-06-20 02:45:32'\n",
      " '2019-06-20 03:38:22' '2019-06-20 06:34:51' '2019-06-21 17:06:32'\n",
      " '2019-06-21 17:54:57' '2019-06-21 21:21:51' '2019-06-21 23:10:43'\n",
      " '2019-06-22 02:07:55' '2019-06-22 11:45:50' '2019-06-23 02:00:57'\n",
      " '2019-06-23 03:02:34' '2019-06-23 07:55:28' '2019-06-23 10:32:21'\n",
      " '2019-06-23 12:23:06' '2019-06-25 06:18:12' '2019-06-25 07:05:55'\n",
      " '2019-06-25 08:34:20' '2019-06-25 09:52:22' '2019-06-25 12:22:10'\n",
      " '2019-06-25 13:40:06' '2019-06-26 10:54:23' '2019-06-26 23:51:04'\n",
      " '2019-06-27 16:22:25' '2019-06-27 17:22:15' '2019-06-27 18:13:42'\n",
      " '2019-06-28 09:26:12' '2019-06-30 09:18:10' '2019-06-30 12:27:16'\n",
      " '2019-07-01 05:32:06' '2019-07-01 08:55:05' '2019-07-01 15:48:42'\n",
      " '2019-07-01 16:19:45' '2019-07-01 18:26:49' '2019-07-02 20:11:07'\n",
      " '2019-07-02 22:31:41' '2019-07-02 23:01:01' '2019-07-03 04:32:06'\n",
      " '2019-07-03 06:50:55' '2019-07-03 11:46:46' '2019-07-03 13:55:20'\n",
      " '2019-07-03 15:20:24' '2019-07-03 16:00:57' '2019-07-03 17:29:33'\n",
      " '2019-07-03 18:14:30' '2019-07-03 21:23:34' '2019-07-04 23:39:32'\n",
      " '2019-07-06 04:34:46' '2019-07-06 21:44:23' '2019-07-06 22:24:47'\n",
      " '2019-07-07 02:05:35' '2019-07-07 15:49:53' '2019-07-08 14:05:52'\n",
      " '2019-07-08 14:52:58' '2019-07-09 11:58:57' '2019-07-09 12:40:58'\n",
      " '2019-07-09 13:36:02' '2019-07-09 20:30:16' '2019-07-09 21:05:27'\n",
      " '2019-07-19 10:53:29' '2019-07-19 18:07:06' '2019-07-19 19:05:31'\n",
      " '2019-07-23 03:00:44' '2019-07-23 08:38:38' '2019-07-23 10:10:15'\n",
      " '2019-07-23 11:07:27' '2019-07-23 11:49:52' '2019-07-23 14:35:55'\n",
      " '2019-07-23 15:37:44' '2019-07-23 18:01:50' '2019-07-24 12:11:09'\n",
      " '2019-07-25 11:41:55' '2019-07-26 14:25:20' '2019-07-26 16:45:23'\n",
      " '2019-07-28 00:18:04' '2019-07-29 16:53:56' '2019-07-29 22:15:23'\n",
      " '2019-07-30 18:08:20' '2019-07-31 21:06:07' '2019-08-01 03:31:31'\n",
      " '2019-08-04 13:19:14' '2019-08-04 13:53:04' '2019-08-05 04:50:32'\n",
      " '2019-08-05 06:17:28' '2019-08-06 15:20:59' '2019-08-08 04:30:02'\n",
      " '2019-08-08 08:44:52' '2019-08-08 09:34:53' '2019-08-08 10:16:41'\n",
      " '2019-08-08 11:08:58' '2019-08-08 11:51:23' '2019-08-08 14:33:22'\n",
      " '2019-08-08 15:21:12' '2019-08-08 16:12:17' '2019-08-08 17:16:39'\n",
      " '2019-08-09 10:21:56' '2019-08-09 13:03:28' '2019-08-09 15:17:06'\n",
      " '2019-08-09 21:34:10' '2019-08-09 22:29:33' '2019-08-10 00:20:44'\n",
      " '2019-08-14 07:37:08' '2019-08-15 16:17:10' '2019-08-15 21:06:24'\n",
      " '2019-08-16 19:40:51' '2019-08-18 22:05:13' '2019-08-19 20:33:35'\n",
      " '2019-08-20 04:06:08' '2019-08-20 22:27:31' '2019-08-21 19:37:56'\n",
      " '2019-08-21 20:29:42' '2019-08-21 21:33:23' '2019-08-21 23:54:24'\n",
      " '2019-08-22 11:13:33' '2019-08-22 11:51:27' '2019-08-22 15:43:56'\n",
      " '2019-08-23 05:41:49' '2019-08-23 06:50:00' '2019-08-24 11:48:15'\n",
      " '2019-08-25 08:28:47' '2019-08-26 14:02:33' '2019-08-26 14:49:02'\n",
      " '2019-08-27 12:25:04' '2019-08-27 13:19:35' '2019-08-27 14:04:20'\n",
      " '2019-08-28 07:48:04' '2019-08-28 13:23:30' '2019-08-29 00:00:13'\n",
      " '2019-08-29 19:54:32' '2019-08-30 05:12:42' '2019-08-30 09:17:06'\n",
      " '2019-08-30 10:15:46' '2019-08-30 10:54:00' '2019-08-30 15:39:35'\n",
      " '2019-08-30 16:20:30' '2019-08-30 19:23:57' '2019-08-30 23:01:32' nan]\n",
      "Уникальные значения столбца Bulk 2\n",
      "['2019-05-07 08:36:19' '2019-05-07 10:05:35' '2019-05-07 11:37:42'\n",
      " '2019-05-07 15:45:34' '2019-05-07 16:27:56' '2019-05-07 17:38:50'\n",
      " '2019-07-23 08:42:23' '2019-07-23 10:13:13' '2019-07-23 11:10:20'\n",
      " '2019-07-23 11:52:43' '2019-07-23 14:35:55' '2019-07-23 15:37:44'\n",
      " '2019-07-23 18:01:50' '2019-08-08 08:44:52' '2019-08-08 09:34:53'\n",
      " '2019-08-08 10:16:41' '2019-08-08 11:08:58' '2019-08-08 11:51:23'\n",
      " '2019-08-08 14:33:22' '2019-08-08 15:21:12' '2019-08-08 16:12:17'\n",
      " '2019-08-08 17:34:38' nan]\n",
      "Уникальные значения столбца Bulk 3\n",
      "['2019-05-03 20:13:36' '2019-05-04 03:47:10' '2019-05-04 04:29:57' ...\n",
      " '2019-08-31 22:51:28' '2019-08-31 23:39:11' nan]\n",
      "Уникальные значения столбца Bulk 4\n",
      "['2019-05-03 11:21:30' '2019-05-03 11:46:38' '2019-05-03 12:31:06' ...\n",
      " '2019-08-30 16:59:23' '2019-08-30 17:36:30' nan]\n",
      "Уникальные значения столбца Bulk 5\n",
      "['2019-05-07 08:36:19' '2019-05-07 10:05:35' '2019-05-07 11:37:42'\n",
      " '2019-05-07 15:45:34' '2019-05-07 16:27:56' '2019-05-07 17:38:50'\n",
      " '2019-05-09 06:47:16' '2019-05-11 21:33:53' '2019-05-11 22:17:50'\n",
      " '2019-05-11 23:16:30' '2019-05-12 00:01:33' '2019-05-12 00:42:20'\n",
      " '2019-05-12 01:19:42' '2019-05-12 03:17:38' '2019-05-16 14:29:07'\n",
      " '2019-05-22 05:41:37' '2019-06-07 10:43:07' '2019-06-13 23:19:08'\n",
      " '2019-06-17 19:01:49' '2019-06-17 19:42:11' '2019-07-01 20:44:03'\n",
      " '2019-07-01 21:19:05' '2019-07-01 22:19:07' '2019-07-01 22:57:26'\n",
      " '2019-07-01 23:42:34' '2019-07-02 01:31:20' '2019-07-02 03:00:23'\n",
      " '2019-07-02 03:18:29' '2019-07-02 04:11:13' '2019-07-04 19:41:57'\n",
      " '2019-07-04 20:45:38' '2019-07-04 22:02:33' '2019-07-05 00:07:30'\n",
      " '2019-07-06 15:06:36' '2019-07-07 03:40:08' '2019-07-07 04:27:53'\n",
      " '2019-07-21 21:46:09' '2019-07-21 22:41:03' '2019-07-21 23:25:54'\n",
      " '2019-07-22 00:17:37' '2019-07-22 01:04:19' '2019-07-22 01:58:01'\n",
      " '2019-07-22 03:08:06' '2019-07-23 08:42:23' '2019-07-23 10:13:13'\n",
      " '2019-07-23 11:10:20' '2019-07-23 11:52:43' '2019-07-23 14:35:55'\n",
      " '2019-07-23 15:37:44' '2019-07-23 18:01:50' '2019-07-29 13:11:44'\n",
      " '2019-07-29 13:59:26' '2019-07-29 14:57:30' '2019-08-08 08:44:52'\n",
      " '2019-08-08 09:34:53' '2019-08-08 10:16:41' '2019-08-08 11:08:58'\n",
      " '2019-08-08 11:51:23' '2019-08-08 15:21:12' '2019-08-08 16:12:17'\n",
      " '2019-08-08 18:02:03' '2019-08-12 10:09:10' '2019-08-12 11:11:12'\n",
      " '2019-08-12 11:31:20' '2019-08-19 18:58:29' '2019-08-27 03:15:03'\n",
      " '2019-08-27 03:56:20' '2019-08-27 04:41:19' '2019-08-28 01:33:02'\n",
      " '2019-08-28 02:11:29' '2019-08-28 02:46:22' '2019-08-28 04:27:52'\n",
      " '2019-08-28 05:34:33' '2019-08-28 07:17:38' '2019-08-28 07:51:52'\n",
      " '2019-08-28 08:23:07' '2019-08-28 09:01:08' nan]\n",
      "Уникальные значения столбца Bulk 6\n",
      "['2019-05-03 18:52:57' '2019-05-03 21:15:20' '2019-05-03 23:53:11'\n",
      " '2019-05-04 00:53:02' '2019-05-04 06:44:51' '2019-05-04 22:33:48'\n",
      " '2019-05-04 23:17:36' '2019-05-05 00:51:48' '2019-05-05 01:24:18'\n",
      " '2019-05-05 01:48:53' '2019-05-05 04:04:30' '2019-05-05 05:03:01'\n",
      " '2019-05-05 10:25:10' '2019-05-05 11:05:20' '2019-05-05 12:14:19'\n",
      " '2019-05-05 13:18:53' '2019-05-05 14:20:57' '2019-05-05 15:08:59'\n",
      " '2019-05-05 16:02:20' '2019-05-05 16:45:05' '2019-05-05 18:52:46'\n",
      " '2019-05-06 02:28:27' '2019-05-06 03:15:07' '2019-05-06 09:33:35'\n",
      " '2019-05-06 10:32:48' '2019-05-06 11:39:00' '2019-05-06 12:09:16'\n",
      " '2019-05-06 13:54:11' '2019-05-06 14:40:36' '2019-05-06 15:22:32'\n",
      " '2019-05-06 15:46:23' '2019-05-06 16:26:00' '2019-05-06 17:23:13'\n",
      " '2019-05-07 03:28:06' '2019-05-08 06:34:30' '2019-05-08 08:30:11'\n",
      " '2019-05-08 23:40:46' '2019-05-09 00:56:53' '2019-05-09 02:28:20'\n",
      " '2019-05-09 04:38:12' '2019-05-09 07:32:31' '2019-05-09 11:05:30'\n",
      " '2019-05-09 12:02:55' '2019-05-09 14:14:18' '2019-05-09 15:15:36'\n",
      " '2019-05-09 17:05:35' '2019-05-09 18:06:25' '2019-05-09 18:55:20'\n",
      " '2019-05-09 19:29:54' '2019-05-09 20:16:36' '2019-05-09 21:00:21'\n",
      " '2019-05-09 21:31:41' '2019-05-10 04:45:41' '2019-05-10 05:30:27'\n",
      " '2019-05-10 08:25:11' '2019-05-10 09:37:08' '2019-05-10 11:00:40'\n",
      " '2019-05-10 18:00:40' '2019-05-11 19:58:40' '2019-05-12 05:45:07'\n",
      " '2019-05-12 12:05:28' '2019-05-13 01:43:13' '2019-05-13 03:01:52'\n",
      " '2019-05-13 15:57:45' '2019-05-13 19:45:38' '2019-05-13 20:57:35'\n",
      " '2019-05-13 23:03:37' '2019-05-14 05:44:15' '2019-05-14 20:59:27'\n",
      " '2019-05-14 22:07:18' '2019-05-14 23:25:54' '2019-05-15 04:42:46'\n",
      " '2019-05-15 06:42:54' '2019-05-15 07:53:16' '2019-05-15 22:37:41'\n",
      " '2019-05-16 00:26:25' '2019-05-16 06:57:08' '2019-05-16 07:35:49'\n",
      " '2019-05-16 07:58:12' '2019-05-16 08:42:22' '2019-05-16 15:19:33'\n",
      " '2019-05-16 16:21:39' '2019-05-16 17:17:17' '2019-05-16 22:29:37'\n",
      " '2019-05-18 09:35:04' '2019-05-18 10:09:34' '2019-05-21 00:56:17'\n",
      " '2019-05-21 01:56:44' '2019-05-22 00:40:22' '2019-05-22 02:16:06'\n",
      " '2019-05-22 11:24:59' '2019-05-22 12:16:20' '2019-05-22 17:10:59'\n",
      " '2019-05-22 19:14:40' '2019-05-22 21:20:46' '2019-05-22 21:44:34'\n",
      " '2019-05-23 11:26:21' '2019-05-23 15:32:55' '2019-05-23 16:14:48'\n",
      " '2019-05-23 16:57:39' '2019-05-23 17:57:40' '2019-05-23 18:39:58'\n",
      " '2019-05-23 19:42:49' '2019-05-23 20:55:42' '2019-05-23 21:22:11'\n",
      " '2019-05-24 12:12:58' '2019-05-24 12:39:23' '2019-05-24 14:04:20'\n",
      " '2019-05-24 21:12:13' '2019-05-25 15:36:02' '2019-05-25 16:49:24'\n",
      " '2019-05-26 09:44:20' '2019-05-26 10:37:49' '2019-05-26 13:19:20'\n",
      " '2019-05-26 14:38:27' '2019-05-26 15:40:07' '2019-05-26 16:12:22'\n",
      " '2019-05-27 06:35:27' '2019-05-27 13:20:01' '2019-05-28 20:27:56'\n",
      " '2019-05-28 21:35:04' '2019-05-28 22:28:13' '2019-05-28 23:35:21'\n",
      " '2019-05-29 11:06:01' '2019-05-29 12:04:20' '2019-05-29 12:59:53'\n",
      " '2019-05-29 14:06:53' '2019-05-29 14:55:29' '2019-06-01 16:45:14'\n",
      " '2019-06-01 20:32:29' '2019-06-02 02:23:15' '2019-06-02 10:14:44'\n",
      " '2019-06-02 13:10:58' '2019-06-02 14:06:39' '2019-06-02 15:18:46'\n",
      " '2019-06-02 17:27:55' '2019-06-02 18:15:46' '2019-06-03 18:35:07'\n",
      " '2019-06-04 03:17:48' '2019-06-04 04:58:00' '2019-06-04 06:19:15'\n",
      " '2019-06-04 07:13:11' '2019-06-04 09:28:19' '2019-06-04 17:50:25'\n",
      " '2019-06-05 08:16:41' '2019-06-05 14:35:41' '2019-06-05 19:27:05'\n",
      " '2019-06-05 20:09:42' '2019-06-05 21:27:23' '2019-06-05 22:08:12'\n",
      " '2019-06-05 22:56:17' '2019-06-06 00:12:43' '2019-06-06 02:44:40'\n",
      " '2019-06-06 04:25:29' '2019-06-06 05:22:30' '2019-06-06 06:35:21'\n",
      " '2019-06-06 17:26:01' '2019-06-07 00:26:07' '2019-06-07 09:10:23'\n",
      " '2019-06-07 10:04:36' '2019-06-07 12:23:55' '2019-06-07 12:42:07'\n",
      " '2019-06-07 13:19:05' '2019-06-07 14:01:14' '2019-06-09 07:27:53'\n",
      " '2019-06-09 08:18:26' '2019-06-09 09:10:34' '2019-06-09 09:38:43'\n",
      " '2019-06-09 10:25:59' '2019-06-09 11:42:09' '2019-06-09 12:47:24'\n",
      " '2019-06-09 14:56:08' '2019-06-09 15:28:53' '2019-06-09 16:25:32'\n",
      " '2019-06-09 18:40:03' '2019-06-09 19:24:25' '2019-06-09 20:09:17'\n",
      " '2019-06-09 20:55:09' '2019-06-09 22:01:17' '2019-06-09 22:50:22'\n",
      " '2019-06-09 23:36:06' '2019-06-10 00:11:25' '2019-06-10 05:09:09'\n",
      " '2019-06-10 06:37:49' '2019-06-10 15:56:32' '2019-06-10 16:30:55'\n",
      " '2019-06-10 17:29:54' '2019-06-10 18:41:29' '2019-06-10 19:27:11'\n",
      " '2019-06-10 20:44:47' '2019-06-12 09:08:14' '2019-06-12 10:09:38'\n",
      " '2019-06-12 11:05:25' '2019-06-12 11:42:35' '2019-06-12 12:17:10'\n",
      " '2019-06-12 12:42:08' '2019-06-12 14:10:59' '2019-06-12 19:12:02'\n",
      " '2019-06-13 11:25:34' '2019-06-15 00:42:38' '2019-06-15 01:19:19'\n",
      " '2019-06-15 02:02:53' '2019-06-15 02:34:25' '2019-06-15 03:24:25'\n",
      " '2019-06-15 04:26:08' '2019-06-15 05:25:35' '2019-06-15 06:29:37'\n",
      " '2019-06-15 07:43:52' '2019-06-15 08:40:35' '2019-06-15 09:02:53'\n",
      " '2019-06-16 09:30:24' '2019-06-16 17:11:52' '2019-06-18 06:54:29'\n",
      " '2019-06-19 05:04:25' '2019-06-20 11:45:50' '2019-06-20 18:28:10'\n",
      " '2019-06-20 20:09:34' '2019-06-21 02:39:06' '2019-06-21 15:19:30'\n",
      " '2019-06-21 15:55:10' '2019-06-21 16:28:10' '2019-06-21 17:21:24'\n",
      " '2019-06-21 18:04:06' '2019-06-21 19:42:47' '2019-06-21 20:15:39'\n",
      " '2019-06-21 21:26:12' '2019-06-22 04:29:15' '2019-06-22 17:46:24'\n",
      " '2019-06-23 05:09:50' '2019-06-23 07:12:22' '2019-06-23 07:59:02'\n",
      " '2019-06-23 09:26:00' '2019-06-23 10:08:13' '2019-06-23 10:36:40'\n",
      " '2019-06-23 23:17:53' '2019-06-26 12:11:19' '2019-06-26 14:17:30'\n",
      " '2019-06-26 15:32:34' '2019-06-26 15:58:46' '2019-06-26 16:41:42'\n",
      " '2019-06-26 17:06:12' '2019-06-26 17:44:24' '2019-06-26 18:47:42'\n",
      " '2019-06-26 19:30:51' '2019-06-26 20:10:33' '2019-06-27 17:26:28'\n",
      " '2019-06-28 20:30:13' '2019-06-29 09:42:07' '2019-06-29 10:02:57'\n",
      " '2019-06-29 10:44:23' '2019-06-29 19:49:07' '2019-06-29 20:29:00'\n",
      " '2019-06-29 20:57:10' '2019-06-29 21:43:36' '2019-06-29 23:29:27'\n",
      " '2019-06-30 00:18:07' '2019-06-30 00:57:58' '2019-06-30 01:45:44'\n",
      " '2019-06-30 02:26:59' '2019-06-30 03:15:39' '2019-06-30 04:24:10'\n",
      " '2019-06-30 04:48:17' '2019-06-30 05:21:03' '2019-06-30 05:51:04'\n",
      " '2019-06-30 06:34:45' '2019-06-30 06:57:15' '2019-07-01 19:17:54'\n",
      " '2019-07-01 20:44:03' '2019-07-01 21:19:05' '2019-07-01 22:19:07'\n",
      " '2019-07-01 22:57:26' '2019-07-01 23:42:34' '2019-07-02 00:29:05'\n",
      " '2019-07-02 02:09:11' '2019-07-02 02:44:48' '2019-07-02 03:18:29'\n",
      " '2019-07-02 04:05:19' '2019-07-02 15:45:57' '2019-07-02 17:14:49'\n",
      " '2019-07-02 17:58:15' '2019-07-02 18:37:09' '2019-07-02 23:20:28'\n",
      " '2019-07-03 00:12:47' '2019-07-04 19:21:08' '2019-07-04 20:45:38'\n",
      " '2019-07-04 22:02:33' '2019-07-04 23:43:00' '2019-07-06 02:36:26'\n",
      " '2019-07-06 05:16:31' '2019-07-07 07:44:17' '2019-07-07 08:58:42'\n",
      " '2019-07-07 10:41:08' '2019-07-08 12:49:35' '2019-07-09 01:41:30'\n",
      " '2019-07-09 03:17:36' '2019-07-09 06:06:02' '2019-07-09 07:21:47'\n",
      " '2019-07-09 16:28:49' '2019-07-09 23:31:39' '2019-07-10 01:04:57'\n",
      " '2019-07-15 03:12:25' '2019-07-15 23:31:37' '2019-07-16 00:41:21'\n",
      " '2019-07-16 01:54:11' '2019-07-16 04:13:12' '2019-07-16 04:48:27'\n",
      " '2019-07-16 06:20:47' '2019-07-16 07:19:47' '2019-07-16 08:42:23'\n",
      " '2019-07-16 09:58:56' '2019-07-16 10:36:08' '2019-07-16 11:11:23'\n",
      " '2019-07-16 12:07:15' '2019-07-16 13:10:20' '2019-07-16 14:01:16'\n",
      " '2019-07-16 17:04:59' '2019-07-16 19:27:06' '2019-07-16 20:50:30'\n",
      " '2019-07-16 22:36:44' '2019-07-17 05:03:27' '2019-07-17 06:01:39'\n",
      " '2019-07-17 08:06:35' '2019-07-17 12:12:17' '2019-07-17 21:32:27'\n",
      " '2019-07-18 08:02:46' '2019-07-18 13:38:54' '2019-07-18 15:04:39'\n",
      " '2019-07-18 15:26:33' '2019-07-18 16:05:12' '2019-07-19 01:04:08'\n",
      " '2019-07-19 13:13:08' '2019-07-19 22:57:57' '2019-07-20 14:00:15'\n",
      " '2019-07-20 15:00:16' '2019-07-20 15:49:50' '2019-07-20 16:15:37'\n",
      " '2019-07-20 16:52:32' '2019-07-20 17:30:01' '2019-07-20 18:08:09'\n",
      " '2019-07-20 18:49:49' '2019-07-20 19:51:09' '2019-07-20 20:30:34'\n",
      " '2019-07-20 22:12:45' '2019-07-20 23:21:23' '2019-07-21 00:27:22'\n",
      " '2019-07-21 01:50:04' '2019-07-21 03:08:03' '2019-07-21 03:42:18'\n",
      " '2019-07-21 04:22:22' '2019-07-21 04:48:37' '2019-07-21 05:27:37'\n",
      " '2019-07-21 06:04:02' '2019-07-21 06:41:29' '2019-07-21 07:59:04'\n",
      " '2019-07-21 21:46:09' '2019-07-22 15:22:04' '2019-07-23 01:18:31'\n",
      " '2019-07-23 02:05:09' '2019-07-23 04:33:55' '2019-07-23 05:07:10'\n",
      " '2019-07-23 05:40:43' '2019-07-23 06:09:58' '2019-07-23 07:26:23'\n",
      " '2019-07-23 22:25:41' '2019-07-24 00:15:51' '2019-07-24 00:39:50'\n",
      " '2019-07-24 01:43:29' '2019-07-24 02:30:27' '2019-07-24 03:53:06'\n",
      " '2019-07-24 04:36:00' '2019-07-24 19:30:58' '2019-07-24 23:21:47'\n",
      " '2019-07-24 23:56:15' '2019-07-25 00:30:12' '2019-07-25 01:09:26'\n",
      " '2019-07-25 03:11:48' '2019-07-26 00:15:59' '2019-07-26 09:08:49'\n",
      " '2019-07-26 17:38:41' '2019-07-26 18:26:01' '2019-07-26 19:23:03'\n",
      " '2019-07-26 20:12:32' '2019-07-26 21:26:36' '2019-07-26 22:30:37'\n",
      " '2019-07-26 23:18:38' '2019-07-27 00:33:00' '2019-07-27 08:26:29'\n",
      " '2019-07-27 20:02:16' '2019-07-27 20:48:35' '2019-07-27 21:50:02'\n",
      " '2019-07-27 23:43:27' '2019-07-28 00:23:47' '2019-07-28 01:02:24'\n",
      " '2019-07-28 01:45:15' '2019-07-28 21:34:37' '2019-07-28 22:15:22'\n",
      " '2019-07-28 22:46:28' '2019-07-29 13:11:44' '2019-07-29 20:50:31'\n",
      " '2019-07-29 22:19:49' '2019-07-29 23:25:28' '2019-07-31 08:38:23'\n",
      " '2019-07-31 11:40:55' '2019-07-31 23:36:56' '2019-08-01 00:38:49'\n",
      " '2019-08-01 01:40:43' '2019-08-01 02:50:11' '2019-08-01 03:31:31'\n",
      " '2019-08-01 04:12:21' '2019-08-01 04:37:18' '2019-08-01 06:26:35'\n",
      " '2019-08-01 20:02:49' '2019-08-01 20:59:10' '2019-08-01 22:15:58'\n",
      " '2019-08-01 23:28:26' '2019-08-02 00:01:25' '2019-08-02 00:53:26'\n",
      " '2019-08-02 01:47:28' '2019-08-02 02:36:55' '2019-08-02 03:14:31'\n",
      " '2019-08-02 03:48:03' '2019-08-02 04:23:10' '2019-08-02 05:11:24'\n",
      " '2019-08-02 05:58:33' '2019-08-02 07:01:01' '2019-08-02 20:56:32'\n",
      " '2019-08-03 05:49:07' '2019-08-03 06:44:55' '2019-08-03 07:11:05'\n",
      " '2019-08-03 07:46:01' '2019-08-03 08:23:38' '2019-08-03 08:55:29'\n",
      " '2019-08-03 09:24:16' '2019-08-03 11:03:08' '2019-08-03 11:31:36'\n",
      " '2019-08-03 12:09:33' '2019-08-03 12:40:48' '2019-08-03 13:10:49'\n",
      " '2019-08-03 15:42:55' '2019-08-03 19:49:38' '2019-08-04 03:09:14'\n",
      " '2019-08-04 09:52:28' '2019-08-05 15:28:05' '2019-08-05 20:43:06'\n",
      " '2019-08-06 10:51:02' '2019-08-06 11:33:45' '2019-08-06 12:10:11'\n",
      " '2019-08-06 12:55:00' '2019-08-06 13:21:38' '2019-08-06 14:10:53'\n",
      " '2019-08-06 15:15:09' '2019-08-06 15:44:40' '2019-08-06 16:41:36'\n",
      " '2019-08-06 17:22:18' '2019-08-06 18:01:34' '2019-08-06 18:40:30'\n",
      " '2019-08-06 19:32:35' '2019-08-06 20:12:55' '2019-08-06 23:03:59'\n",
      " '2019-08-07 04:57:12' '2019-08-07 05:32:36' '2019-08-07 05:53:06'\n",
      " '2019-08-07 06:26:20' '2019-08-07 07:05:06' '2019-08-07 10:54:09'\n",
      " '2019-08-07 11:18:49' '2019-08-07 11:57:51' '2019-08-07 15:52:16'\n",
      " '2019-08-07 18:07:49' '2019-08-07 19:20:45' '2019-08-08 19:29:01'\n",
      " '2019-08-08 20:29:05' '2019-08-08 23:47:00' '2019-08-09 04:38:26'\n",
      " '2019-08-09 10:27:02' '2019-08-09 11:25:41' '2019-08-09 13:06:09'\n",
      " '2019-08-09 13:58:06' '2019-08-09 14:39:52' '2019-08-09 15:18:53'\n",
      " '2019-08-09 15:55:07' '2019-08-09 20:23:44' '2019-08-09 21:36:06'\n",
      " '2019-08-10 00:28:29' '2019-08-10 09:21:32' '2019-08-10 10:53:15'\n",
      " '2019-08-10 17:21:47' '2019-08-10 19:05:05' '2019-08-10 20:10:21'\n",
      " '2019-08-10 21:06:15' '2019-08-10 21:51:40' '2019-08-10 22:31:40'\n",
      " '2019-08-10 23:28:12' '2019-08-11 16:35:59' '2019-08-11 17:37:39'\n",
      " '2019-08-11 18:39:13' '2019-08-11 20:50:47' '2019-08-11 21:57:27'\n",
      " '2019-08-12 00:59:44' '2019-08-12 01:53:24' '2019-08-12 02:33:17'\n",
      " '2019-08-12 03:08:46' '2019-08-12 03:33:09' '2019-08-12 03:59:17'\n",
      " '2019-08-12 04:35:33' '2019-08-12 05:01:41' '2019-08-12 05:49:49'\n",
      " '2019-08-12 06:44:47' '2019-08-12 07:23:29' '2019-08-12 08:08:12'\n",
      " '2019-08-12 09:16:13' '2019-08-12 12:41:54' '2019-08-13 14:15:16'\n",
      " '2019-08-15 06:47:01' '2019-08-15 08:17:25' '2019-08-15 09:27:48'\n",
      " '2019-08-15 10:28:10' '2019-08-15 11:20:59' '2019-08-15 12:37:33'\n",
      " '2019-08-16 06:01:11' '2019-08-16 07:38:43' '2019-08-16 09:30:10'\n",
      " '2019-08-16 10:33:25' '2019-08-16 11:41:20' '2019-08-16 12:14:46'\n",
      " '2019-08-16 21:37:45' '2019-08-17 04:44:35' '2019-08-17 22:18:36'\n",
      " '2019-08-17 23:51:39' '2019-08-18 01:16:33' '2019-08-18 12:46:23'\n",
      " '2019-08-18 13:24:08' '2019-08-18 14:57:29' '2019-08-19 03:39:01'\n",
      " '2019-08-19 04:49:59' '2019-08-19 05:47:10' '2019-08-19 06:44:11'\n",
      " '2019-08-19 07:43:27' '2019-08-19 08:51:08' '2019-08-19 10:49:26'\n",
      " '2019-08-19 11:51:45' '2019-08-19 18:58:28' '2019-08-19 20:49:03'\n",
      " '2019-08-19 21:43:59' '2019-08-20 02:54:47' '2019-08-20 04:11:08'\n",
      " '2019-08-20 06:50:17' '2019-08-21 07:34:27' '2019-08-21 15:37:35'\n",
      " '2019-08-21 22:25:12' '2019-08-25 06:26:24' '2019-08-25 08:33:09'\n",
      " '2019-08-25 17:38:55' '2019-08-25 18:12:03' '2019-08-25 19:51:03'\n",
      " '2019-08-25 20:26:17' '2019-08-25 21:31:42' '2019-08-26 10:51:24'\n",
      " '2019-08-26 11:37:54' '2019-08-26 12:14:35' '2019-08-28 01:33:02'\n",
      " '2019-08-28 02:11:27' '2019-08-28 02:46:22' '2019-08-28 04:27:52'\n",
      " '2019-08-28 05:34:33' '2019-08-28 07:17:38' '2019-08-28 07:51:52'\n",
      " '2019-08-28 08:23:07' '2019-08-28 09:01:08' '2019-08-29 18:12:16'\n",
      " '2019-08-31 12:12:40' '2019-08-31 13:50:34' '2019-08-31 15:01:05'\n",
      " '2019-08-31 16:00:49' '2019-09-01 01:51:58' '2019-09-01 03:12:40' nan]\n",
      "Уникальные значения столбца Bulk 7\n",
      "['2019-05-07 11:37:42' '2019-05-15 09:35:53' '2019-06-15 00:42:38'\n",
      " '2019-06-21 14:05:53' '2019-07-17 07:14:04' '2019-07-17 10:30:04'\n",
      " '2019-07-17 11:25:12' '2019-07-23 08:42:23' '2019-07-23 10:13:13'\n",
      " '2019-07-23 11:10:20' '2019-07-23 11:52:43' '2019-07-23 14:35:55'\n",
      " '2019-07-23 15:37:44' '2019-07-23 18:01:50' '2019-08-08 08:46:28'\n",
      " '2019-08-08 09:38:06' '2019-08-08 10:27:58' '2019-08-08 11:21:17'\n",
      " '2019-08-08 12:03:38' '2019-08-08 14:45:03' '2019-08-08 16:25:14'\n",
      " '2019-08-08 17:34:38' '2019-08-31 06:20:47' '2019-08-31 06:55:58'\n",
      " '2019-08-31 07:22:25' nan]\n",
      "Уникальные значения столбца Bulk 8\n",
      "['2019-07-05 17:46:11' nan]\n",
      "Уникальные значения столбца Bulk 9\n",
      "['2019-05-14 00:04:56' '2019-05-14 00:37:47' '2019-05-14 01:09:57'\n",
      " '2019-05-14 01:45:42' '2019-05-14 02:23:06' '2019-05-14 02:51:41'\n",
      " '2019-05-14 03:30:41' '2019-05-14 04:01:02' '2019-05-14 04:38:14'\n",
      " '2019-05-14 05:15:06' '2019-07-05 17:44:46' '2019-07-18 17:35:46'\n",
      " '2019-07-18 18:58:01' '2019-08-11 11:12:43' '2019-08-11 12:13:43'\n",
      " '2019-08-11 13:20:19' '2019-08-11 13:54:18' '2019-08-11 14:33:19'\n",
      " '2019-08-11 15:09:33' nan]\n",
      "Уникальные значения столбца Bulk 10\n",
      "['2019-05-06 01:36:24' '2019-05-06 18:04:52' '2019-05-06 19:03:57'\n",
      " '2019-05-06 20:19:14' '2019-05-06 20:55:50' '2019-05-06 21:50:10'\n",
      " '2019-05-06 22:53:08' '2019-05-07 00:01:01' '2019-05-14 07:04:50'\n",
      " '2019-05-14 07:57:59' '2019-05-15 13:32:01' '2019-05-17 08:08:43'\n",
      " '2019-05-17 08:34:33' '2019-05-17 09:18:33' '2019-05-17 09:50:19'\n",
      " '2019-05-17 10:38:29' '2019-05-17 21:59:42' '2019-05-20 10:46:30'\n",
      " '2019-05-20 11:43:47' '2019-05-20 12:40:04' '2019-05-20 14:23:52'\n",
      " '2019-05-20 15:16:43' '2019-05-20 16:30:56' '2019-05-20 17:18:39'\n",
      " '2019-05-20 18:08:45' '2019-05-21 05:47:42' '2019-05-21 06:41:27'\n",
      " '2019-05-21 16:29:38' '2019-05-21 17:52:51' '2019-05-21 18:26:44'\n",
      " '2019-05-21 20:04:35' '2019-05-21 20:53:54' '2019-05-24 01:51:50'\n",
      " '2019-05-24 02:45:20' '2019-05-24 03:18:18' '2019-05-24 04:20:47'\n",
      " '2019-05-25 19:39:59' '2019-05-25 20:18:23' '2019-05-27 08:24:12'\n",
      " '2019-05-28 12:12:54' '2019-05-30 06:05:56' '2019-05-30 11:37:46'\n",
      " '2019-05-30 20:49:52' '2019-05-31 13:37:29' '2019-05-31 16:06:47'\n",
      " '2019-05-31 16:59:45' '2019-05-31 17:54:16' '2019-05-31 18:46:44'\n",
      " '2019-05-31 21:44:40' '2019-06-01 01:49:26' '2019-06-04 22:02:41'\n",
      " '2019-06-08 19:50:12' '2019-06-08 20:45:59' '2019-06-08 22:52:10'\n",
      " '2019-06-11 01:02:36' '2019-06-11 03:16:32' '2019-06-11 04:15:08'\n",
      " '2019-06-18 01:36:58' '2019-06-18 02:29:00' '2019-06-18 13:30:45'\n",
      " '2019-06-18 16:00:11' '2019-06-18 17:03:43' '2019-06-21 05:38:57'\n",
      " '2019-06-21 06:52:18' '2019-06-23 11:20:56' '2019-06-23 11:54:23'\n",
      " '2019-06-23 13:24:32' '2019-06-23 14:06:20' '2019-06-25 12:33:34'\n",
      " '2019-06-25 13:48:40' '2019-06-25 14:19:54' '2019-06-25 14:56:37'\n",
      " '2019-06-25 15:42:19' '2019-06-26 06:07:34' '2019-06-26 06:51:49'\n",
      " '2019-06-26 07:43:51' '2019-06-26 08:10:57' '2019-06-26 08:33:53'\n",
      " '2019-06-26 09:19:18' '2019-06-28 07:50:45' '2019-06-28 11:35:11'\n",
      " '2019-06-28 13:00:27' '2019-06-28 15:45:48' '2019-07-01 20:02:57'\n",
      " '2019-07-03 05:57:08' '2019-07-03 06:54:20' '2019-07-03 07:54:28'\n",
      " '2019-07-03 08:24:48' '2019-07-03 08:55:03' '2019-07-03 10:31:05'\n",
      " '2019-07-03 11:21:16' '2019-07-03 11:56:07' '2019-07-06 05:56:51'\n",
      " '2019-07-06 06:39:03' '2019-07-06 07:23:22' '2019-07-06 20:51:07'\n",
      " '2019-07-06 21:51:04' '2019-07-09 15:37:05' '2019-07-15 12:38:33'\n",
      " '2019-07-15 14:13:26' '2019-07-18 06:01:27' '2019-07-18 07:09:44'\n",
      " '2019-07-20 12:55:18' '2019-07-24 05:46:29' '2019-07-24 06:46:46'\n",
      " '2019-07-24 07:40:10' '2019-07-24 08:21:31' '2019-07-24 08:51:27'\n",
      " '2019-07-24 09:26:47' '2019-07-24 10:24:22' '2019-07-24 11:35:41'\n",
      " '2019-07-24 12:16:12' '2019-07-25 03:10:29' '2019-07-25 05:46:37'\n",
      " '2019-07-25 06:26:20' '2019-07-25 07:01:54' '2019-07-25 07:30:52'\n",
      " '2019-07-25 07:59:48' '2019-07-26 05:57:37' '2019-07-26 08:32:50'\n",
      " '2019-07-27 06:11:57' '2019-07-27 07:01:22' '2019-07-27 07:49:10'\n",
      " '2019-07-27 09:41:01' '2019-07-28 13:49:39' '2019-07-28 14:54:40'\n",
      " '2019-07-28 17:21:59' '2019-07-28 18:18:56' '2019-07-28 20:34:33'\n",
      " '2019-07-28 21:00:25' '2019-07-30 15:51:28' '2019-07-30 19:14:54'\n",
      " '2019-07-30 20:11:14' '2019-07-30 23:28:53' '2019-07-31 09:11:02'\n",
      " '2019-07-31 13:18:28' '2019-07-31 14:13:42' '2019-07-31 15:59:07'\n",
      " '2019-07-31 16:44:41' '2019-08-02 20:27:19' '2019-08-06 00:36:47'\n",
      " '2019-08-06 01:14:16' '2019-08-06 02:05:26' '2019-08-10 05:43:25'\n",
      " '2019-08-10 06:14:18' '2019-08-10 07:01:59' '2019-08-10 07:56:15'\n",
      " '2019-08-11 01:46:20' '2019-08-15 22:34:16' '2019-08-16 00:43:10'\n",
      " '2019-08-16 01:56:23' '2019-08-16 02:24:26' '2019-08-16 03:05:53'\n",
      " '2019-08-16 03:32:08' '2019-08-21 07:50:54' '2019-08-22 02:05:52'\n",
      " '2019-08-23 12:32:59' '2019-08-23 13:14:59' '2019-08-23 13:44:49'\n",
      " '2019-08-23 15:00:17' '2019-08-24 03:43:54' '2019-08-24 05:28:45'\n",
      " '2019-08-24 10:13:15' '2019-08-24 10:55:52' '2019-08-24 11:25:45'\n",
      " '2019-08-26 00:46:24' '2019-08-26 01:46:58' '2019-08-26 02:25:28'\n",
      " '2019-08-26 03:19:35' '2019-08-27 22:01:32' '2019-08-27 22:33:52'\n",
      " '2019-08-27 23:32:50' '2019-08-28 20:30:58' '2019-08-28 21:05:20'\n",
      " '2019-08-30 00:31:28' '2019-08-30 01:30:42' nan]\n",
      "Уникальные значения столбца Bulk 11\n",
      "['2019-05-05 16:45:05' '2019-05-06 09:33:35' '2019-05-06 17:23:13'\n",
      " '2019-05-07 03:28:06' '2019-05-07 11:37:42' '2019-05-08 06:34:30'\n",
      " '2019-05-08 23:40:46' '2019-05-09 04:38:12' '2019-05-09 21:40:37'\n",
      " '2019-05-10 04:45:41' '2019-05-10 08:25:11' '2019-05-10 11:00:40'\n",
      " '2019-05-16 17:17:17' '2019-05-16 22:31:11' '2019-05-18 09:35:04'\n",
      " '2019-05-18 10:09:34' '2019-05-21 01:56:44' '2019-05-22 11:24:59'\n",
      " '2019-05-22 19:14:40' '2019-05-23 16:57:39' '2019-05-24 14:04:20'\n",
      " '2019-05-24 21:24:56' '2019-05-26 14:38:27' '2019-06-02 10:14:44'\n",
      " '2019-06-02 12:03:21' '2019-06-03 18:35:07' '2019-06-04 05:13:31'\n",
      " '2019-06-04 17:50:25' '2019-06-05 14:35:41' '2019-06-05 20:45:35'\n",
      " '2019-06-06 05:22:30' '2019-06-09 07:14:59' '2019-06-09 18:54:42'\n",
      " '2019-06-09 22:50:22' '2019-06-10 01:07:30' '2019-06-10 01:59:20'\n",
      " '2019-06-10 05:09:09' '2019-06-10 16:42:00' '2019-06-10 17:29:54'\n",
      " '2019-06-10 19:27:11' '2019-06-10 20:44:47' '2019-06-11 13:49:16'\n",
      " '2019-06-12 01:47:51' '2019-06-12 12:17:10' '2019-06-12 19:24:37'\n",
      " '2019-06-13 11:25:34' '2019-06-13 15:54:23' '2019-06-15 06:29:37'\n",
      " '2019-06-15 08:40:35' '2019-06-19 17:57:55' '2019-06-23 07:12:22'\n",
      " '2019-06-23 10:21:19' '2019-06-25 02:04:53' '2019-06-26 22:35:27'\n",
      " '2019-06-27 02:10:00' '2019-06-29 10:44:23' '2019-07-01 19:17:54'\n",
      " '2019-07-02 17:58:15' '2019-07-02 18:37:09' '2019-07-04 09:07:54'\n",
      " '2019-07-06 05:16:31' '2019-07-07 05:10:26' '2019-07-08 05:34:08'\n",
      " '2019-07-08 08:14:23' '2019-07-09 01:41:30' '2019-07-09 06:06:02'\n",
      " '2019-07-09 07:21:47' '2019-07-09 23:31:39' '2019-07-15 23:31:37'\n",
      " '2019-07-16 07:49:01' '2019-07-16 09:46:26' '2019-07-16 11:57:24'\n",
      " '2019-07-16 14:01:16' '2019-07-16 17:04:59' '2019-07-16 19:27:06'\n",
      " '2019-07-17 00:47:35' '2019-07-17 06:01:39' '2019-07-17 12:12:17'\n",
      " '2019-07-18 09:04:14' '2019-07-18 09:50:10' '2019-07-18 11:27:31'\n",
      " '2019-07-18 12:10:21' '2019-07-19 01:04:08' '2019-07-19 13:13:08'\n",
      " '2019-07-20 14:00:15' '2019-07-20 15:00:16' '2019-07-20 16:15:37'\n",
      " '2019-07-20 17:30:01' '2019-07-20 18:08:09' '2019-07-20 18:38:54'\n",
      " '2019-07-20 19:39:09' '2019-07-20 20:30:34' '2019-07-20 22:12:45'\n",
      " '2019-07-21 03:42:18' '2019-07-21 06:04:02' '2019-07-21 06:41:29'\n",
      " '2019-07-22 06:18:45' '2019-07-23 01:18:31' '2019-07-23 05:07:10'\n",
      " '2019-07-24 01:43:29' '2019-07-24 04:36:00' '2019-07-24 23:56:15'\n",
      " '2019-07-25 18:04:48' '2019-07-26 09:08:49' '2019-07-26 17:38:41'\n",
      " '2019-07-26 22:18:21' '2019-07-26 23:18:38' '2019-07-26 23:53:27'\n",
      " '2019-07-27 00:33:00' '2019-07-27 08:26:29' '2019-07-27 20:02:16'\n",
      " '2019-07-28 22:15:22' '2019-07-29 20:50:31' '2019-07-30 04:49:12'\n",
      " '2019-07-30 06:00:56' '2019-07-30 06:57:26' '2019-07-31 11:40:55'\n",
      " '2019-08-01 03:31:31' '2019-08-01 04:37:18' '2019-08-03 07:57:38'\n",
      " '2019-08-03 09:06:24' '2019-08-03 13:22:32' '2019-08-03 13:42:19'\n",
      " '2019-08-03 15:42:55' '2019-08-04 03:09:14' '2019-08-04 11:34:42'\n",
      " '2019-08-04 16:00:02' '2019-08-05 05:13:09' '2019-08-05 15:28:05'\n",
      " '2019-08-05 20:43:06' '2019-08-06 15:44:40' '2019-08-06 17:20:14'\n",
      " '2019-08-06 18:01:34' '2019-08-06 18:40:30' '2019-08-07 05:32:36'\n",
      " '2019-08-07 11:18:49' '2019-08-07 15:52:16' '2019-08-07 18:07:49'\n",
      " '2019-08-07 19:20:45' '2019-08-07 22:47:05' '2019-08-08 20:43:02'\n",
      " '2019-08-08 23:47:00' '2019-08-09 02:10:02' '2019-08-09 03:08:05'\n",
      " '2019-08-09 03:55:11' '2019-08-09 04:38:26' '2019-08-09 14:39:52'\n",
      " '2019-08-09 20:23:44' '2019-08-10 00:28:29' '2019-08-10 09:34:24'\n",
      " '2019-08-10 10:53:15' '2019-08-11 17:25:23' '2019-08-11 18:39:13'\n",
      " '2019-08-12 03:59:17' '2019-08-12 05:01:41' '2019-08-12 06:44:47'\n",
      " '2019-08-12 07:21:46' '2019-08-12 09:29:10' '2019-08-12 12:41:54'\n",
      " '2019-08-13 10:42:43' '2019-08-16 09:30:11' '2019-08-16 11:10:04'\n",
      " '2019-08-16 11:41:20' '2019-08-17 04:44:35' '2019-08-17 23:10:57'\n",
      " '2019-08-17 23:51:39' '2019-08-19 10:13:53' '2019-08-19 10:49:26'\n",
      " '2019-08-19 11:51:45' '2019-08-19 20:49:03' '2019-08-25 19:19:41'\n",
      " '2019-08-25 20:26:17' '2019-08-25 21:31:42' '2019-08-31 12:12:40'\n",
      " '2019-08-31 13:50:34' '2019-08-31 15:01:05' '2019-08-31 16:00:49' nan]\n",
      "Уникальные значения столбца Bulk 12\n",
      "['2019-05-03 11:03:52' '2019-05-03 11:40:20' '2019-05-03 12:09:40' ...\n",
      " '2019-08-31 23:33:09' '2019-09-01 01:39:41' nan]\n",
      "Уникальные значения столбца Bulk 13\n",
      "['2019-05-05 00:39:35' '2019-05-10 16:46:26' '2019-05-10 21:16:38'\n",
      " '2019-05-15 17:09:56' '2019-05-26 20:42:03' '2019-05-31 04:40:34'\n",
      " '2019-06-07 12:36:20' '2019-06-19 13:06:49' '2019-06-28 01:03:50'\n",
      " '2019-06-29 19:39:20' '2019-07-02 18:49:35' '2019-07-08 02:53:15'\n",
      " '2019-07-24 23:34:05' '2019-08-02 20:51:12' '2019-08-17 18:32:34'\n",
      " '2019-08-21 07:35:23' '2019-08-24 11:33:10' '2019-08-26 20:31:16' nan]\n",
      "Уникальные значения столбца Bulk 14\n",
      "['2019-05-03 11:03:52' '2019-05-03 11:40:20' '2019-05-03 12:09:40' ...\n",
      " '2019-09-01 02:41:27' '2019-09-01 04:05:34' nan]\n",
      "Уникальные значения столбца Bulk 15\n",
      "['2019-05-03 11:03:52' '2019-05-03 11:40:20' '2019-05-03 12:09:40' ...\n",
      " '2019-09-01 02:41:27' '2019-09-01 04:05:34' nan]\n"
     ]
    }
   ],
   "source": [
    "show_rows(data_bulk_time)\n"
   ]
  },
  {
   "cell_type": "code",
   "execution_count": 16,
   "metadata": {},
   "outputs": [
    {
     "data": {
      "text/plain": [
       "3129"
      ]
     },
     "execution_count": 16,
     "metadata": {},
     "output_type": "execute_result"
    }
   ],
   "source": [
    "len(data_bulk_time['key'].unique())"
   ]
  },
  {
   "cell_type": "code",
   "execution_count": 17,
   "metadata": {},
   "outputs": [
    {
     "data": {
      "text/plain": [
       "2049    1\n",
       "2612    1\n",
       "2588    1\n",
       "541     1\n",
       "2590    1\n",
       "       ..\n",
       "1090    1\n",
       "3139    1\n",
       "1092    1\n",
       "3141    1\n",
       "2047    1\n",
       "Name: key, Length: 3129, dtype: int64"
      ]
     },
     "execution_count": 17,
     "metadata": {},
     "output_type": "execute_result"
    }
   ],
   "source": [
    "data_bulk_time['key'].value_counts()"
   ]
  },
  {
   "cell_type": "markdown",
   "metadata": {},
   "source": [
    "### Данные о продувке сплава газом"
   ]
  },
  {
   "cell_type": "code",
   "execution_count": 18,
   "metadata": {},
   "outputs": [
    {
     "name": "stdout",
     "output_type": "stream",
     "text": [
      "<class 'pandas.core.frame.DataFrame'>\n",
      "RangeIndex: 3239 entries, 0 to 3238\n",
      "Data columns (total 2 columns):\n",
      " #   Column  Non-Null Count  Dtype  \n",
      "---  ------  --------------  -----  \n",
      " 0   key     3239 non-null   int64  \n",
      " 1   Газ 1   3239 non-null   float64\n",
      "dtypes: float64(1), int64(1)\n",
      "memory usage: 50.7 KB\n"
     ]
    }
   ],
   "source": [
    "data_gas = pd.read_csv('/datasets/final_steel/data_gas.csv')\n",
    "data_gas.info()"
   ]
  },
  {
   "cell_type": "code",
   "execution_count": 19,
   "metadata": {},
   "outputs": [
    {
     "name": "stdout",
     "output_type": "stream",
     "text": [
      "Уникальные значения столбца key\n",
      "[   1    2    3 ... 3239 3240 3241]\n",
      "Уникальные значения столбца Газ 1\n",
      "[8.39852910e-03 1.66956024e-02 2.63028954e-01 ... 5.21423726e+01\n",
      " 6.09356892e+01 7.79950397e+01]\n"
     ]
    }
   ],
   "source": [
    "show_rows(data_gas)"
   ]
  },
  {
   "cell_type": "code",
   "execution_count": 20,
   "metadata": {},
   "outputs": [
    {
     "data": {
      "text/plain": [
       "3239"
      ]
     },
     "execution_count": 20,
     "metadata": {},
     "output_type": "execute_result"
    }
   ],
   "source": [
    "len(data_gas['key'].unique())"
   ]
  },
  {
   "cell_type": "code",
   "execution_count": 21,
   "metadata": {},
   "outputs": [
    {
     "data": {
      "text/plain": [
       "2049    1\n",
       "3135    1\n",
       "3115    1\n",
       "1070    1\n",
       "3119    1\n",
       "       ..\n",
       "2596    1\n",
       "549     1\n",
       "2600    1\n",
       "553     1\n",
       "2047    1\n",
       "Name: key, Length: 3239, dtype: int64"
      ]
     },
     "execution_count": 21,
     "metadata": {},
     "output_type": "execute_result"
    }
   ],
   "source": [
    "data_gas['key'].value_counts()"
   ]
  },
  {
   "cell_type": "code",
   "execution_count": 22,
   "metadata": {},
   "outputs": [
    {
     "data": {
      "text/plain": [
       "count    3239.000000\n",
       "mean       11.002062\n",
       "std         6.220327\n",
       "min         0.008399\n",
       "25%         7.043089\n",
       "50%         9.836267\n",
       "75%        13.769915\n",
       "max        77.995040\n",
       "Name: Газ 1, dtype: float64"
      ]
     },
     "metadata": {},
     "output_type": "display_data"
    },
    {
     "data": {
      "text/plain": [
       "<AxesSubplot:>"
      ]
     },
     "execution_count": 22,
     "metadata": {},
     "output_type": "execute_result"
    },
    {
     "data": {
      "image/png": "[encoded data removed]",
      "text/plain": [
       "<Figure size 1152x720 with 1 Axes>"
      ]
     },
     "metadata": {
      "needs_background": "light"
     },
     "output_type": "display_data"
    }
   ],
   "source": [
    "display(data_gas['Газ 1'].describe())\n",
    "data_gas['Газ 1'].hist(bins=100, figsize=(16,10))"
   ]
  },
  {
   "cell_type": "markdown",
   "metadata": {},
   "source": [
    "### Результаты измерения температуры"
   ]
  },
  {
   "cell_type": "code",
   "execution_count": 23,
   "metadata": {},
   "outputs": [
    {
     "name": "stdout",
     "output_type": "stream",
     "text": [
      "<class 'pandas.core.frame.DataFrame'>\n",
      "RangeIndex: 15907 entries, 0 to 15906\n",
      "Data columns (total 3 columns):\n",
      " #   Column        Non-Null Count  Dtype  \n",
      "---  ------        --------------  -----  \n",
      " 0   key           15907 non-null  int64  \n",
      " 1   Время замера  15907 non-null  object \n",
      " 2   Температура   13006 non-null  float64\n",
      "dtypes: float64(1), int64(1), object(1)\n",
      "memory usage: 372.9+ KB\n"
     ]
    }
   ],
   "source": [
    "data_temp = pd.read_csv('/datasets/final_steel/data_temp.csv')\n",
    "data_temp.info()"
   ]
  },
  {
   "cell_type": "code",
   "execution_count": 24,
   "metadata": {},
   "outputs": [
    {
     "name": "stdout",
     "output_type": "stream",
     "text": [
      "Уникальные значения столбца key\n",
      "[   1    2    3 ... 3239 3240 3241]\n",
      "Уникальные значения столбца Время замера\n",
      "['2019-05-03 11:16:18' '2019-05-03 11:25:53' '2019-05-03 11:29:11' ...\n",
      " '2019-09-01 04:22:39' '2019-09-01 04:33:42' '2019-09-01 04:38:08']\n",
      "Уникальные значения столбца Температура\n",
      "[1191. 1204. 1208. 1218. 1227. 1383. 1519. 1520. 1525. 1526. 1527. 1528.\n",
      " 1529. 1530. 1531. 1532. 1533. 1534. 1535. 1536. 1537. 1538. 1539. 1540.\n",
      " 1541. 1542. 1543. 1544. 1545. 1546. 1547. 1548. 1549. 1550. 1551. 1552.\n",
      " 1553. 1554. 1555. 1556. 1557. 1558. 1559. 1560. 1561. 1562. 1563. 1564.\n",
      " 1565. 1566. 1567. 1568. 1569. 1570. 1571. 1572. 1573. 1574. 1575. 1576.\n",
      " 1577. 1578. 1579. 1580. 1581. 1582. 1583. 1584. 1585. 1586. 1587. 1588.\n",
      " 1589. 1590. 1591. 1592. 1593. 1594. 1595. 1596. 1597. 1598. 1599. 1600.\n",
      " 1601. 1602. 1603. 1604. 1605. 1606. 1607. 1608. 1609. 1610. 1611. 1612.\n",
      " 1613. 1614. 1615. 1616. 1617. 1618. 1619. 1620. 1621. 1622. 1623. 1624.\n",
      " 1625. 1626. 1627. 1628. 1629. 1630. 1631. 1632. 1633. 1634. 1635. 1636.\n",
      " 1637. 1638. 1639. 1640. 1641. 1642. 1643. 1644. 1645. 1646. 1647. 1648.\n",
      " 1649. 1650. 1651. 1652. 1653. 1654. 1655. 1656. 1657. 1658. 1659. 1660.\n",
      " 1661. 1662. 1663. 1664. 1665. 1666. 1667. 1668. 1669. 1670. 1671. 1672.\n",
      " 1673. 1674. 1675. 1676. 1678. 1679. 1680. 1681. 1682. 1683. 1684. 1690.\n",
      " 1691. 1694. 1696. 1700. 1702. 1704. 1705.   nan]\n"
     ]
    }
   ],
   "source": [
    "show_rows(data_temp)"
   ]
  },
  {
   "cell_type": "code",
   "execution_count": 25,
   "metadata": {},
   "outputs": [
    {
     "data": {
      "text/plain": [
       "3216"
      ]
     },
     "execution_count": 25,
     "metadata": {},
     "output_type": "execute_result"
    }
   ],
   "source": [
    "len(data_temp['key'].unique())\n"
   ]
  },
  {
   "cell_type": "code",
   "execution_count": 26,
   "metadata": {},
   "outputs": [
    {
     "data": {
      "text/plain": [
       "46      16\n",
       "1214    16\n",
       "1513    16\n",
       "44      16\n",
       "1689    15\n",
       "        ..\n",
       "1415     2\n",
       "1836     2\n",
       "2456     2\n",
       "195      1\n",
       "279      1\n",
       "Name: key, Length: 3216, dtype: int64"
      ]
     },
     "execution_count": 26,
     "metadata": {},
     "output_type": "execute_result"
    }
   ],
   "source": [
    "data_temp['key'].value_counts()"
   ]
  },
  {
   "cell_type": "code",
   "execution_count": 27,
   "metadata": {},
   "outputs": [
    {
     "data": {
      "text/plain": [
       "count    13006.000000\n",
       "mean      1591.840920\n",
       "std         21.375851\n",
       "min       1191.000000\n",
       "25%       1581.000000\n",
       "50%       1591.000000\n",
       "75%       1601.000000\n",
       "max       1705.000000\n",
       "Name: Температура, dtype: float64"
      ]
     },
     "metadata": {},
     "output_type": "display_data"
    },
    {
     "data": {
      "text/plain": [
       "<AxesSubplot:>"
      ]
     },
     "execution_count": 27,
     "metadata": {},
     "output_type": "execute_result"
    },
    {
     "data": {
      "image/png": "[encoded data removed]",
      "text/plain": [
       "<Figure size 1152x720 with 1 Axes>"
      ]
     },
     "metadata": {
      "needs_background": "light"
     },
     "output_type": "display_data"
    }
   ],
   "source": [
    "display(data_temp['Температура'].describe())\n",
    "data_temp['Температура'].hist(bins=100, figsize=(16,10))"
   ]
  },
  {
   "cell_type": "markdown",
   "metadata": {},
   "source": [
    "### Данные о проволочных материалах (объём)"
   ]
  },
  {
   "cell_type": "code",
   "execution_count": 28,
   "metadata": {},
   "outputs": [
    {
     "name": "stdout",
     "output_type": "stream",
     "text": [
      "<class 'pandas.core.frame.DataFrame'>\n",
      "RangeIndex: 3081 entries, 0 to 3080\n",
      "Data columns (total 10 columns):\n",
      " #   Column  Non-Null Count  Dtype  \n",
      "---  ------  --------------  -----  \n",
      " 0   key     3081 non-null   int64  \n",
      " 1   Wire 1  3055 non-null   float64\n",
      " 2   Wire 2  1079 non-null   float64\n",
      " 3   Wire 3  63 non-null     float64\n",
      " 4   Wire 4  14 non-null     float64\n",
      " 5   Wire 5  1 non-null      float64\n",
      " 6   Wire 6  73 non-null     float64\n",
      " 7   Wire 7  11 non-null     float64\n",
      " 8   Wire 8  19 non-null     float64\n",
      " 9   Wire 9  29 non-null     float64\n",
      "dtypes: float64(9), int64(1)\n",
      "memory usage: 240.8 KB\n"
     ]
    }
   ],
   "source": [
    "data_wire = pd.read_csv('/datasets/final_steel/data_wire.csv')\n",
    "data_wire.info()"
   ]
  },
  {
   "cell_type": "code",
   "execution_count": 29,
   "metadata": {},
   "outputs": [
    {
     "name": "stdout",
     "output_type": "stream",
     "text": [
      "Уникальные значения столбца key\n",
      "[   1    2    3 ... 3239 3240 3241]\n",
      "Уникальные значения столбца Wire 1\n",
      "[  1.9188     2.09664    3.10128  ... 280.987214 330.314424        nan]\n",
      "Уникальные значения столбца Wire 2\n",
      "[3.01600000e-02 6.03200000e-02 9.04800000e-02 9.04800000e-02\n",
      " 1.74720000e-01 5.82400000e-01 1.17624000e+00 1.60160000e+00\n",
      " 2.74456000e+00 3.98112000e+00 4.10176000e+00 4.13192000e+00\n",
      " 5.12720000e+00 7.72096000e+00 8.08288000e+00 8.11304000e+00\n",
      " 8.17336000e+00 8.83688000e+00 9.01784000e+00 9.04800000e+00\n",
      " 9.07816000e+00 9.08544100e+00 9.10832000e+00 9.11456000e+00\n",
      " 9.13848000e+00 9.14368100e+00 9.16864000e+00 9.19880000e+00\n",
      " 9.22896000e+00 9.31944000e+00 9.68136000e+00 1.00432800e+01\n",
      " 1.00734400e+01 1.01036000e+01 1.01337590e+01 1.01337600e+01\n",
      " 1.01639190e+01 1.01940790e+01 1.02242400e+01 1.10385600e+01\n",
      " 1.10687200e+01 1.10988800e+01 1.11238400e+01 1.11290400e+01\n",
      " 1.11592000e+01 1.11893600e+01 1.12195200e+01 1.20338400e+01\n",
      " 1.20848000e+01 1.20941600e+01 1.21243200e+01 1.21430400e+01\n",
      " 1.21544800e+01 1.21721600e+01 1.21846410e+01 1.23760000e+01\n",
      " 1.30894400e+01 1.31196000e+01 1.31799200e+01 1.32100800e+01\n",
      " 1.40244000e+01 1.40358410e+01 1.40649600e+01 1.40847200e+01\n",
      " 1.41450400e+01 1.41752000e+01 1.42053590e+01 1.42355200e+01\n",
      " 1.50196790e+01 1.50259210e+01 1.50498400e+01 1.50800000e+01\n",
      " 1.50841610e+01 1.51101600e+01 1.51132800e+01 1.51403200e+01\n",
      " 1.51424010e+01 1.51704800e+01 1.52006400e+01 1.52308000e+01\n",
      " 1.52609600e+01 1.61033610e+01 1.61054400e+01 1.61355990e+01\n",
      " 1.61657600e+01 1.61959190e+01 1.62562390e+01 1.62864000e+01\n",
      " 1.70705600e+01 1.71007200e+01 1.71225610e+01 1.71308800e+01\n",
      " 1.71610390e+01 1.80356810e+01 1.80658400e+01 1.80960000e+01\n",
      " 1.80960010e+01 1.81126400e+01 1.81261600e+01 1.81417600e+01\n",
      " 1.81563210e+01 1.81708810e+01 1.82769600e+01 1.83071190e+01\n",
      " 1.83372800e+01 1.90309600e+01 1.90912800e+01 1.91214410e+01\n",
      " 1.91318420e+01 1.91516000e+01 1.91900810e+01 2.00865590e+01\n",
      " 2.00928000e+01 2.01167200e+01 2.01468790e+01 2.01510410e+01\n",
      " 2.01770400e+01 2.01770410e+01 2.01801610e+01 2.02071990e+01\n",
      " 2.02373590e+01 2.03548800e+01 2.05389600e+01 2.06294400e+01\n",
      " 2.07199190e+01 2.10818390e+01 2.11120000e+01 2.11421590e+01\n",
      " 2.11702400e+01 2.11723190e+01 2.12024780e+01 2.13231200e+01\n",
      " 2.15945600e+01 2.16548800e+01 2.19564780e+01 2.20771200e+01\n",
      " 2.21072810e+01 2.21374400e+01 2.22279210e+01 2.28612800e+01\n",
      " 2.30120810e+01 2.30339200e+01 2.31025600e+01 2.31327210e+01\n",
      " 2.31504000e+01 2.31628800e+01 2.31930390e+01 2.32232000e+01\n",
      " 2.34946400e+01 2.38263990e+01 2.40978390e+01 2.41280000e+01\n",
      " 2.41581590e+01 2.42184790e+01 2.43994390e+01 2.44296020e+01\n",
      " 2.46105590e+01 2.49724790e+01 2.50327990e+01 2.50432010e+01\n",
      " 2.50629600e+01 2.50931190e+01 2.51014400e+01 2.51232800e+01\n",
      " 2.51305600e+01 2.51534390e+01 2.52137580e+01 2.53344000e+01\n",
      " 2.54852010e+01 2.57264800e+01 2.60884000e+01 2.61185610e+01\n",
      " 2.61206400e+01 2.61487200e+01 2.61497590e+01 2.62090400e+01\n",
      " 2.64804790e+01 2.70233610e+01 2.70836790e+01 2.70836800e+01\n",
      " 2.71741600e+01 2.72646410e+01 2.75360790e+01 2.78075190e+01\n",
      " 2.80789580e+01 2.81008000e+01 2.81091190e+01 2.81299210e+01\n",
      " 2.81392800e+01 2.90908810e+01 2.91345600e+01 2.91647190e+01\n",
      " 2.92853600e+01 3.00092010e+01 3.00227200e+01 3.00393580e+01\n",
      " 3.00518420e+01 3.00695210e+01 3.00996800e+01 3.01100810e+01\n",
      " 3.01298400e+01 3.01298410e+01 3.01600000e+01 3.01901610e+01\n",
      " 3.02203200e+01 3.02504810e+01 3.02806390e+01 3.02806400e+01\n",
      " 3.03107990e+01 3.03108010e+01 3.03409600e+01 3.04314410e+01\n",
      " 3.04616010e+01 3.04917600e+01 3.10648000e+01 3.10949590e+01\n",
      " 3.11584000e+01 3.12155990e+01 3.12759210e+01 3.14267200e+01\n",
      " 3.20299220e+01 3.20600810e+01 3.20902400e+01 3.21484870e+01\n",
      " 3.21505620e+01 3.22711990e+01 3.22712020e+01 3.23315200e+01\n",
      " 3.23616790e+01 3.24979210e+01 3.27537580e+01 3.29045600e+01\n",
      " 3.31759990e+01 3.32363210e+01 3.41712800e+01 3.42617570e+01\n",
      " 3.42919190e+01 3.49252780e+01 3.50459180e+01 3.50604820e+01\n",
      " 3.50760800e+01 3.50760800e+01 3.51062390e+01 3.51187210e+01\n",
      " 3.51363980e+01 3.51478390e+01 3.51665570e+01 3.51967200e+01\n",
      " 3.52872010e+01 3.60713620e+01 3.61618390e+01 3.63428000e+01\n",
      " 3.64031180e+01 3.65237580e+01 3.70666390e+01 3.70967980e+01\n",
      " 3.71269610e+01 3.71571240e+01 3.71872830e+01 3.78268810e+01\n",
      " 3.80920790e+01 3.83219180e+01 3.83635180e+01 3.91476780e+01\n",
      " 3.91778410e+01 3.92381630e+01 3.93286400e+01 3.96604000e+01\n",
      " 3.97810400e+01 4.00223160e+01 4.00400010e+01 4.00524790e+01\n",
      " 4.00691220e+01 4.00826420e+01 4.01128010e+01 4.01429560e+01\n",
      " 4.01429630e+01 4.01731190e+01 4.02032810e+01 4.02032820e+01\n",
      " 4.02635970e+01 4.02635990e+01 4.10779230e+01 4.11080780e+01\n",
      " 4.11382410e+01 4.11684000e+01 4.12588810e+01 4.20732000e+01\n",
      " 4.21033590e+01 4.23144800e+01 4.23446380e+01 4.23747990e+01\n",
      " 4.24351190e+01 4.25256000e+01 4.30102420e+01 4.30975990e+01\n",
      " 4.31287990e+01 4.34304020e+01 4.36716770e+01 4.40637590e+01\n",
      " 4.40939220e+01 4.41240810e+01 4.43050380e+01 4.47875990e+01\n",
      " 4.49384000e+01 4.50590400e+01 4.50891990e+01 4.51068840e+01\n",
      " 4.51193580e+01 4.51359980e+01 4.51495210e+01 4.51796800e+01\n",
      " 4.52098390e+01 4.52399980e+01 4.52701610e+01 4.54812790e+01\n",
      " 4.59336770e+01 4.60543170e+01 4.61749570e+01 4.62051200e+01\n",
      " 4.62956040e+01 4.66793630e+01 4.71452830e+01 4.71702380e+01\n",
      " 4.71702390e+01 4.72004010e+01 4.73512000e+01 4.74115220e+01\n",
      " 4.79543980e+01 4.81353600e+01 4.81353610e+01 4.81655200e+01\n",
      " 4.82861590e+01 4.82861600e+01 4.90380820e+01 4.91004790e+01\n",
      " 5.00052800e+01 5.00052820e+01 5.00354420e+01 5.00655980e+01\n",
      " 5.00957600e+01 5.01259190e+01 5.01446380e+01 5.01560820e+01\n",
      " 5.01862370e+01 5.02164000e+01 5.02465590e+01 5.03193630e+01\n",
      " 5.03671950e+01 5.03672030e+01 5.07291220e+01 5.07561610e+01\n",
      " 5.10307200e+01 5.10910420e+01 5.12720030e+01 5.13021620e+01\n",
      " 5.13323170e+01 5.16640820e+01 5.18148770e+01 5.20561560e+01\n",
      " 5.20956800e+01 5.21466410e+01 5.21768000e+01 5.22069590e+01\n",
      " 5.23275990e+01 5.24160030e+01 5.31117590e+01 5.31720810e+01\n",
      " 5.31731180e+01 5.32022400e+01 5.33228830e+01 5.40467220e+01\n",
      " 5.41371990e+01 5.42276810e+01 5.50118370e+01 5.50721590e+01\n",
      " 5.51023220e+01 5.51241650e+01 5.51324770e+01 5.51626400e+01\n",
      " 5.51928020e+01 5.52832800e+01 5.53435970e+01 5.55848770e+01\n",
      " 5.61277620e+01 5.61579210e+01 5.65198360e+01 5.67912810e+01\n",
      " 5.70928800e+01 5.71230390e+01 5.72499200e+01 5.80579990e+01\n",
      " 5.81183200e+01 5.81484790e+01 5.82389570e+01 5.82389600e+01\n",
      " 5.84199150e+01 5.86611970e+01 5.90532770e+01 5.92040830e+01\n",
      " 5.92342410e+01 5.92643970e+01 5.98374410e+01 6.00485610e+01\n",
      " 6.00787160e+01 6.01036830e+01 6.01088790e+01 6.01390420e+01\n",
      " 6.01619220e+01 6.01691970e+01 6.01692010e+01 6.01993600e+01\n",
      " 6.02295190e+01 6.02492790e+01 6.02492830e+01 6.02596820e+01\n",
      " 6.02898410e+01 6.03200010e+01 6.03501590e+01 6.10740010e+01\n",
      " 6.12247980e+01 6.17978400e+01 6.21899190e+01 6.30947190e+01\n",
      " 6.31321600e+01 6.31852000e+01 6.32486420e+01 6.32756770e+01\n",
      " 6.33661580e+01 6.41503220e+01 6.41513570e+01 6.41804810e+01\n",
      " 6.42407990e+01 6.44519170e+01 6.45881570e+01 6.50249560e+01\n",
      " 6.50551200e+01 6.50551220e+01 6.50852810e+01 6.51154400e+01\n",
      " 6.51154410e+01 6.51455990e+01 6.51757560e+01 6.51757580e+01\n",
      " 6.51996840e+01 6.52059190e+01 6.52579190e+01 6.63821560e+01\n",
      " 6.71059990e+01 6.71215980e+01 6.71964800e+01 6.72380820e+01\n",
      " 6.76187210e+01 6.82520830e+01 6.83727190e+01 6.90965580e+01\n",
      " 6.92172010e+01 6.92172020e+01 6.92775190e+01 6.92775200e+01\n",
      " 6.93378380e+01 7.00616840e+01 7.00627210e+01 7.01220020e+01\n",
      " 7.01521610e+01 7.01823200e+01 7.02124790e+01 7.02426370e+01\n",
      " 7.02727960e+01 7.03331150e+01 7.06648790e+01 7.08458410e+01\n",
      " 7.11172790e+01 7.11474380e+01 7.20220790e+01 7.20823940e+01\n",
      " 7.21125560e+01 7.21427230e+01 7.21728820e+01 7.21884840e+01\n",
      " 7.22030410e+01 7.22332000e+01 7.22633590e+01 7.22758400e+01\n",
      " 7.27459180e+01 7.30776830e+01 7.31983180e+01 7.34094370e+01\n",
      " 7.38015210e+01 7.39221590e+01 7.44348760e+01 7.45555200e+01\n",
      " 7.50380790e+01 7.50682450e+01 7.50983960e+01 7.51285550e+01\n",
      " 7.51296000e+01 7.51587140e+01 7.51587150e+01 7.52491990e+01\n",
      " 7.53043220e+01 7.53095170e+01 7.53095250e+01 7.53396760e+01\n",
      " 7.53698350e+01 7.54000010e+01 7.54301600e+01 7.60936740e+01\n",
      " 7.61539990e+01 7.62361660e+01 7.81144030e+01 7.81747140e+01\n",
      " 7.82953560e+01 7.86874390e+01 8.00446320e+01 8.01049580e+01\n",
      " 8.01351170e+01 8.01652830e+01 8.01964870e+01 8.02557600e+01\n",
      " 8.02859270e+01 8.03160860e+01 8.03462430e+01 8.03764000e+01\n",
      " 8.04065630e+01 8.11605610e+01 8.13415220e+01 8.17034380e+01\n",
      " 8.20955200e+01 8.22057650e+01 8.23368000e+01 8.24876010e+01\n",
      " 8.32416000e+01 8.33123250e+01 8.42150420e+01 8.50012740e+01\n",
      " 8.51115190e+01 8.51416780e+01 8.52019960e+01 8.52623140e+01\n",
      " 8.53226390e+01 8.54131210e+01 8.55035940e+01 8.55639190e+01\n",
      " 8.57448760e+01 8.61068040e+01 8.65155250e+01 8.80370410e+01\n",
      " 8.80973590e+01 8.81275170e+01 8.94243920e+01 9.00577620e+01\n",
      " 9.00879190e+01 9.00879210e+01 9.01180800e+01 9.01264040e+01\n",
      " 9.01482380e+01 9.01482390e+01 9.01783980e+01 9.01846470e+01\n",
      " 9.02085570e+01 9.02387240e+01 9.02688750e+01 9.02720110e+01\n",
      " 9.03011170e+01 9.03302390e+01 9.03593520e+01 9.03895110e+01\n",
      " 9.04196780e+01 9.06308060e+01 9.18371960e+01 9.21086350e+01\n",
      " 9.21991190e+01 9.21991200e+01 9.23499150e+01 9.31340790e+01\n",
      " 9.32848740e+01 9.33150410e+01 9.40991970e+01 9.51547930e+01\n",
      " 9.51849670e+01 9.53056030e+01 9.53659210e+01 9.71151960e+01\n",
      " 9.79898330e+01 9.80501550e+01 9.83673630e+01 9.88343260e+01\n",
      " 9.92263950e+01 9.97089570e+01 9.99107210e+01 1.00040726e+02\n",
      " 1.00101036e+02 1.00251839e+02 1.00282005e+02 1.00289276e+02\n",
      " 1.00312157e+02 1.00312164e+02 1.00402641e+02 1.00674072e+02\n",
      " 1.00764565e+02 1.01156639e+02 1.01247119e+02 1.02182076e+02\n",
      " 1.02182083e+02 1.03177353e+02 1.03207520e+02 1.03358322e+02\n",
      " 1.05137756e+02 1.05167923e+02 1.05288566e+02 1.05318718e+02\n",
      " 1.06258888e+02 1.07460075e+02 1.08123596e+02 1.08153756e+02\n",
      " 1.08153763e+02 1.08244240e+02 1.08425198e+02 1.08515679e+02\n",
      " 1.08696634e+02 1.09360160e+02 1.09462082e+02 1.10084000e+02\n",
      " 1.10174484e+02 1.10295120e+02 1.10355438e+02 1.10385599e+02\n",
      " 1.11049118e+02 1.11296654e+02 1.11411034e+02 1.14879433e+02\n",
      " 1.14907524e+02 1.15090560e+02 1.15211197e+02 1.15301681e+02\n",
      " 1.15301682e+02 1.15331833e+02 1.17149767e+02 1.17322395e+02\n",
      " 1.17382725e+02 1.17835120e+02 1.18136719e+02 1.18257354e+02\n",
      " 1.18528805e+02 1.20097122e+02 1.20157432e+02 1.20187599e+02\n",
      " 1.20368553e+02 1.21213043e+02 1.23233764e+02 1.23233765e+02\n",
      " 1.24289360e+02 1.24741764e+02 1.25163997e+02 1.25194160e+02\n",
      " 1.25254471e+02 1.27908561e+02 1.28692722e+02 1.28903839e+02\n",
      " 1.28994324e+02 1.29326080e+02 1.30110245e+02 1.30200714e+02\n",
      " 1.31195999e+02 1.31346802e+02 1.31376957e+02 1.32100800e+02\n",
      " 1.33096076e+02 1.33277046e+02 1.33367524e+02 1.34242157e+02\n",
      " 1.35267593e+02 1.35267593e+02 1.35358078e+02 1.35388229e+02\n",
      " 1.36293045e+02 1.40213837e+02 1.40274154e+02 1.42958401e+02\n",
      " 1.44289596e+02 1.48176082e+02 1.48930079e+02 1.50106322e+02\n",
      " 1.50257128e+02 1.50287293e+02 1.50377756e+02 1.50407913e+02\n",
      " 1.53333448e+02 1.55293831e+02 1.56138321e+02 1.59063842e+02\n",
      " 1.59335282e+02 1.60330566e+02 1.60511520e+02 1.61356003e+02\n",
      " 1.70283356e+02 1.70886566e+02 1.71550073e+02 1.75501037e+02\n",
      " 1.78124955e+02 1.80236161e+02 1.85122086e+02 1.88228550e+02\n",
      " 1.88258724e+02 1.95225677e+02 1.98452789e+02 2.10245362e+02\n",
      " 2.15432892e+02 2.19866410e+02 2.20348953e+02 2.31568481e+02\n",
      " 2.82780152e+02            nan]\n",
      "Уникальные значения столбца Wire 3\n",
      "[1.44144000e-01 5.28528000e-01 9.60960000e-01 8.86485670e+01\n",
      " 9.01380540e+01 9.30689770e+01 9.31170270e+01 9.31650770e+01\n",
      " 9.32131270e+01 9.41260380e+01 9.49908980e+01 9.52791900e+01\n",
      " 9.53752820e+01 9.60479510e+01 9.60960010e+01 9.61921010e+01\n",
      " 9.62401500e+01 9.62881930e+01 9.70089110e+01 1.00180092e+02\n",
      " 1.98678491e+02 2.03627441e+02 2.31014801e+02 2.31110901e+02\n",
      " 2.31495285e+02 2.31591369e+02 2.35194977e+02 2.36972740e+02\n",
      " 2.40143906e+02 2.40240005e+02 2.44468246e+02 2.50041794e+02\n",
      " 2.50137894e+02 2.50185944e+02 2.54077850e+02 2.54462219e+02\n",
      " 2.60083832e+02 2.60131897e+02 2.60179932e+02 2.68348081e+02\n",
      " 2.76179963e+02 2.76324066e+02 2.77044769e+02 2.77092834e+02\n",
      " 2.78053802e+02 2.78101837e+02 2.79783508e+02 2.80215942e+02\n",
      " 2.82089813e+02 2.83242963e+02 2.85116821e+02 2.88432144e+02\n",
      " 2.93188919e+02 3.09381073e+02 3.27233753e+02 3.85008668e+02\n",
      "            nan]\n",
      "Уникальные значения столбца Wire 4\n",
      "[ 24.148801  25.132641  33.182243  40.069122  43.020641  43.065361\n",
      "  43.244242  47.224323  56.07888   58.046562  82.150638  92.570401\n",
      " 103.034882 113.231044        nan]\n",
      "Уникальные значения столбца Wire 5\n",
      "[15.132    nan]\n",
      "Уникальные значения столбца Wire 6\n",
      "[3.43200000e-02 1.37280000e-01 9.95280000e-01 3.02015700e+00\n",
      " 8.16816000e+00 9.19776100e+00 1.00557600e+01 1.30759210e+01\n",
      " 1.40712000e+01 1.50664820e+01 1.51694410e+01 1.80866410e+01\n",
      " 2.01458420e+01 2.02144810e+01 2.23080030e+01 2.50536000e+01\n",
      " 2.51565590e+01 2.61518420e+01 2.69755230e+01 2.81080820e+01\n",
      " 3.00643230e+01 3.01672820e+01 3.02016030e+01 3.21235240e+01\n",
      " 3.40111240e+01 3.51780010e+01 3.52123220e+01 3.81981620e+01\n",
      " 3.91591220e+01 4.00514410e+01 4.00857620e+01 4.03260010e+01\n",
      " 4.20763240e+01 4.31745610e+01 4.43071250e+01 4.51994440e+01\n",
      " 4.52337570e+01 5.00728840e+01 5.01072010e+01 5.12054410e+01\n",
      " 5.31960030e+01 5.41226430e+01 5.51865650e+01 5.52208820e+01\n",
      " 5.94765660e+01 6.00256840e+01 6.00943220e+01 6.01972810e+01\n",
      " 6.16387250e+01 6.30458450e+01 6.42127230e+01 6.50364000e+01\n",
      " 6.53109670e+01 6.74388000e+01 6.84340870e+01 7.03560110e+01\n",
      " 7.23122480e+01 7.31702470e+01 7.33075260e+01 7.36164070e+01\n",
      " 7.80780020e+01 8.11324920e+01 9.14284870e+01 9.82238470e+01\n",
      " 9.92191220e+01 1.20188644e+02 1.37142731e+02 1.45139283e+02\n",
      " 1.80454575e+02            nan]\n",
      "Уникальные значения столбца Wire 7\n",
      "[ 0.234208  1.053936  5.035472  8.49004   8.490041  9.017009  9.134113\n",
      " 11.417641 12.354473 32.847674       nan]\n",
      "Уникальные значения столбца Wire 8\n",
      "[ 45.076721  45.354401  46.002319  46.094879  46.187439  46.279999\n",
      "  48.001202  48.001203  48.089603  53.652562  68.494405  95.244248\n",
      " 102.762401        nan]\n",
      "Уникальные значения столбца Wire 9\n",
      "[ 4.6228    7.753203 10.01     10.0464   11.3568   15.0696   17.0352\n",
      " 22.058401 23.5508   25.1888   28.0644   30.030001 30.066399 30.1028\n",
      " 35.0168   35.0532   39.967201 42.0784   43.862003 48.193606 53.071201\n",
      " 55.000397 62.0256   63.0448   90.053604       nan]\n"
     ]
    }
   ],
   "source": [
    "show_rows(data_wire)"
   ]
  },
  {
   "cell_type": "code",
   "execution_count": 30,
   "metadata": {},
   "outputs": [
    {
     "data": {
      "text/plain": [
       "3081"
      ]
     },
     "execution_count": 30,
     "metadata": {},
     "output_type": "execute_result"
    }
   ],
   "source": [
    "len(data_wire['key'].unique())"
   ]
  },
  {
   "cell_type": "code",
   "execution_count": 31,
   "metadata": {},
   "outputs": [
    {
     "data": {
      "text/plain": [
       "2049    1\n",
       "2664    1\n",
       "2590    1\n",
       "543     1\n",
       "2592    1\n",
       "       ..\n",
       "1090    1\n",
       "3139    1\n",
       "1092    1\n",
       "3141    1\n",
       "2047    1\n",
       "Name: key, Length: 3081, dtype: int64"
      ]
     },
     "execution_count": 31,
     "metadata": {},
     "output_type": "execute_result"
    }
   ],
   "source": [
    "data_wire['key'].value_counts()"
   ]
  },
  {
   "cell_type": "code",
   "execution_count": 32,
   "metadata": {
    "scrolled": true
   },
   "outputs": [
    {
     "name": "stdout",
     "output_type": "stream",
     "text": [
      "Wire 1\n"
     ]
    },
    {
     "data": {
      "text/plain": [
       "count    3055.000000\n",
       "mean      100.895853\n",
       "std        42.012518\n",
       "min         1.918800\n",
       "25%        72.115684\n",
       "50%       100.158234\n",
       "75%       126.060483\n",
       "max       330.314424\n",
       "Name: Wire 1, dtype: float64"
      ]
     },
     "metadata": {},
     "output_type": "display_data"
    },
    {
     "name": "stdout",
     "output_type": "stream",
     "text": [
      "Wire 2\n"
     ]
    },
    {
     "data": {
      "text/plain": [
       "count    1079.000000\n",
       "mean       50.577323\n",
       "std        39.320216\n",
       "min         0.030160\n",
       "25%        20.193680\n",
       "50%        40.142956\n",
       "75%        70.227558\n",
       "max       282.780152\n",
       "Name: Wire 2, dtype: float64"
      ]
     },
     "metadata": {},
     "output_type": "display_data"
    },
    {
     "name": "stdout",
     "output_type": "stream",
     "text": [
      "Wire 3\n"
     ]
    },
    {
     "data": {
      "text/plain": [
       "count     63.000000\n",
       "mean     189.482681\n",
       "std       99.513444\n",
       "min        0.144144\n",
       "25%       95.135044\n",
       "50%      235.194977\n",
       "75%      276.252014\n",
       "max      385.008668\n",
       "Name: Wire 3, dtype: float64"
      ]
     },
     "metadata": {},
     "output_type": "display_data"
    },
    {
     "name": "stdout",
     "output_type": "stream",
     "text": [
      "Wire 4\n"
     ]
    },
    {
     "data": {
      "text/plain": [
       "count     14.000000\n",
       "mean      57.442841\n",
       "std       28.824667\n",
       "min       24.148801\n",
       "25%       40.807002\n",
       "50%       45.234282\n",
       "75%       76.124619\n",
       "max      113.231044\n",
       "Name: Wire 4, dtype: float64"
      ]
     },
     "metadata": {},
     "output_type": "display_data"
    },
    {
     "name": "stdout",
     "output_type": "stream",
     "text": [
      "Wire 5\n"
     ]
    },
    {
     "data": {
      "text/plain": [
       "count     1.000\n",
       "mean     15.132\n",
       "std         NaN\n",
       "min      15.132\n",
       "25%      15.132\n",
       "50%      15.132\n",
       "75%      15.132\n",
       "max      15.132\n",
       "Name: Wire 5, dtype: float64"
      ]
     },
     "metadata": {},
     "output_type": "display_data"
    },
    {
     "name": "stdout",
     "output_type": "stream",
     "text": [
      "Wire 6\n"
     ]
    },
    {
     "data": {
      "text/plain": [
       "count     73.000000\n",
       "mean      48.016974\n",
       "std       33.919845\n",
       "min        0.034320\n",
       "25%       25.053600\n",
       "50%       42.076324\n",
       "75%       64.212723\n",
       "max      180.454575\n",
       "Name: Wire 6, dtype: float64"
      ]
     },
     "metadata": {},
     "output_type": "display_data"
    },
    {
     "name": "stdout",
     "output_type": "stream",
     "text": [
      "Wire 7\n"
     ]
    },
    {
     "data": {
      "text/plain": [
       "count    11.000000\n",
       "mean     10.039007\n",
       "std       8.610584\n",
       "min       0.234208\n",
       "25%       6.762756\n",
       "50%       9.017009\n",
       "75%      11.886057\n",
       "max      32.847674\n",
       "Name: Wire 7, dtype: float64"
      ]
     },
     "metadata": {},
     "output_type": "display_data"
    },
    {
     "name": "stdout",
     "output_type": "stream",
     "text": [
      "Wire 8\n"
     ]
    },
    {
     "data": {
      "text/plain": [
       "count     19.000000\n",
       "mean      53.625193\n",
       "std       16.881728\n",
       "min       45.076721\n",
       "25%       46.094879\n",
       "50%       46.279999\n",
       "75%       48.089603\n",
       "max      102.762401\n",
       "Name: Wire 8, dtype: float64"
      ]
     },
     "metadata": {},
     "output_type": "display_data"
    },
    {
     "name": "stdout",
     "output_type": "stream",
     "text": [
      "Wire 9\n"
     ]
    },
    {
     "data": {
      "text/plain": [
       "count    29.000000\n",
       "mean     34.155752\n",
       "std      19.931616\n",
       "min       4.622800\n",
       "25%      22.058401\n",
       "50%      30.066399\n",
       "75%      43.862003\n",
       "max      90.053604\n",
       "Name: Wire 9, dtype: float64"
      ]
     },
     "metadata": {},
     "output_type": "display_data"
    },
    {
     "data": {
      "image/png": "[encoded data removed]",
      "text/plain": [
       "<Figure size 1152x720 with 1 Axes>"
      ]
     },
     "metadata": {
      "needs_background": "light"
     },
     "output_type": "display_data"
    }
   ],
   "source": [
    "for column in data_wire.columns:\n",
    "    if column[0] == 'W':\n",
    "        print(column)\n",
    "        display(data_wire[column].describe())\n",
    "        data_wire[column].hist(bins=100, figsize=(16,10), alpha=0.3)"
   ]
  },
  {
   "cell_type": "code",
   "execution_count": 33,
   "metadata": {},
   "outputs": [
    {
     "data": {
      "text/plain": [
       "array([[<AxesSubplot:title={'center':'key'}>,\n",
       "        <AxesSubplot:title={'center':'Wire 1'}>,\n",
       "        <AxesSubplot:title={'center':'Wire 2'}>],\n",
       "       [<AxesSubplot:title={'center':'Wire 3'}>,\n",
       "        <AxesSubplot:title={'center':'Wire 4'}>,\n",
       "        <AxesSubplot:title={'center':'Wire 5'}>],\n",
       "       [<AxesSubplot:title={'center':'Wire 6'}>,\n",
       "        <AxesSubplot:title={'center':'Wire 7'}>,\n",
       "        <AxesSubplot:title={'center':'Wire 8'}>],\n",
       "       [<AxesSubplot:title={'center':'Wire 9'}>, <AxesSubplot:>,\n",
       "        <AxesSubplot:>]], dtype=object)"
      ]
     },
     "execution_count": 33,
     "metadata": {},
     "output_type": "execute_result"
    },
    {
     "data": {
      "image/png": "[encoded data removed]",
      "text/plain": [
       "<Figure size 1152x720 with 12 Axes>"
      ]
     },
     "metadata": {
      "needs_background": "light"
     },
     "output_type": "display_data"
    }
   ],
   "source": [
    "data_wire.hist(bins=100, figsize=(16,10), alpha=0.3)"
   ]
  },
  {
   "cell_type": "markdown",
   "metadata": {},
   "source": [
    "### Данные о проволочных материалах (время)"
   ]
  },
  {
   "cell_type": "code",
   "execution_count": 34,
   "metadata": {},
   "outputs": [
    {
     "name": "stdout",
     "output_type": "stream",
     "text": [
      "<class 'pandas.core.frame.DataFrame'>\n",
      "RangeIndex: 3081 entries, 0 to 3080\n",
      "Data columns (total 10 columns):\n",
      " #   Column  Non-Null Count  Dtype \n",
      "---  ------  --------------  ----- \n",
      " 0   key     3081 non-null   int64 \n",
      " 1   Wire 1  3055 non-null   object\n",
      " 2   Wire 2  1079 non-null   object\n",
      " 3   Wire 3  63 non-null     object\n",
      " 4   Wire 4  14 non-null     object\n",
      " 5   Wire 5  1 non-null      object\n",
      " 6   Wire 6  73 non-null     object\n",
      " 7   Wire 7  11 non-null     object\n",
      " 8   Wire 8  19 non-null     object\n",
      " 9   Wire 9  29 non-null     object\n",
      "dtypes: int64(1), object(9)\n",
      "memory usage: 240.8+ KB\n"
     ]
    }
   ],
   "source": [
    "data_wire_time = pd.read_csv('/datasets/final_steel/data_wire_time.csv')\n",
    "data_wire_time.info()"
   ]
  },
  {
   "cell_type": "code",
   "execution_count": 35,
   "metadata": {},
   "outputs": [
    {
     "name": "stdout",
     "output_type": "stream",
     "text": [
      "Уникальные значения столбца key\n",
      "[   1    2    3 ... 3239 3240 3241]\n",
      "Уникальные значения столбца Wire 1\n",
      "['2019-05-03 11:11:41' '2019-05-03 11:46:10' '2019-05-03 12:13:47' ...\n",
      " '2019-09-01 03:12:02' '2019-09-01 04:16:01' nan]\n",
      "Уникальные значения столбца Wire 2\n",
      "['2019-05-03 13:32:06' '2019-05-03 13:59:54' '2019-05-03 15:58:12' ...\n",
      " '2019-08-31 13:14:22' '2019-08-31 18:50:15' nan]\n",
      "Уникальные значения столбца Wire 3\n",
      "['2019-05-04 04:47:53' '2019-05-04 05:40:08' '2019-05-07 08:50:29'\n",
      " '2019-05-07 10:17:14' '2019-05-07 15:50:31' '2019-05-07 16:34:12'\n",
      " '2019-05-07 17:43:23' '2019-05-07 21:58:49' '2019-05-07 22:40:07'\n",
      " '2019-05-07 23:27:46' '2019-05-18 13:04:48' '2019-05-18 13:41:36'\n",
      " '2019-05-18 20:52:18' '2019-05-18 21:49:12' '2019-06-02 20:37:44'\n",
      " '2019-06-08 16:23:31' '2019-06-10 13:19:54' '2019-06-10 14:05:33'\n",
      " '2019-06-10 14:25:42' '2019-06-12 01:29:02' '2019-06-12 20:11:25'\n",
      " '2019-06-12 21:27:01' '2019-07-07 18:33:17' '2019-07-07 19:25:35'\n",
      " '2019-07-07 20:16:17' '2019-07-08 17:20:59' '2019-07-08 18:12:51'\n",
      " '2019-07-15 20:37:37' '2019-07-15 22:01:36' '2019-07-15 22:46:29'\n",
      " '2019-07-17 16:25:00' '2019-07-17 21:35:47' '2019-07-23 08:50:46'\n",
      " '2019-07-23 10:14:46' '2019-07-23 11:25:12' '2019-07-23 11:58:58'\n",
      " '2019-07-23 14:43:41' '2019-07-23 15:42:20' '2019-07-23 18:07:01'\n",
      " '2019-08-06 04:29:47' '2019-08-06 05:10:36' '2019-08-06 08:44:03'\n",
      " '2019-08-06 09:26:10' '2019-08-06 10:25:40' '2019-08-06 16:53:33'\n",
      " '2019-08-08 08:53:54' '2019-08-08 09:44:29' '2019-08-08 10:23:01'\n",
      " '2019-08-08 11:15:53' '2019-08-08 11:58:25' '2019-08-08 14:40:37'\n",
      " '2019-08-08 15:27:54' '2019-08-08 16:21:38' '2019-08-12 15:42:12'\n",
      " '2019-08-12 16:21:14' '2019-08-12 17:07:44' '2019-08-21 02:35:54'\n",
      " '2019-08-21 03:56:27' '2019-08-21 05:05:13' '2019-08-21 05:33:09'\n",
      " '2019-08-27 07:52:00' '2019-08-27 08:50:52' '2019-08-28 02:11:18' nan]\n",
      "Уникальные значения столбца Wire 4\n",
      "['2019-05-07 08:48:23' '2019-05-07 10:14:55' '2019-05-07 16:09:18'\n",
      " '2019-07-17 07:15:28' '2019-07-17 11:25:32' '2019-07-23 08:44:49'\n",
      " '2019-07-23 10:16:15' '2019-07-23 11:12:30' '2019-07-23 11:52:57'\n",
      " '2019-07-23 14:40:29' '2019-07-23 15:42:50' '2019-07-23 18:09:32'\n",
      " '2019-08-08 09:00:26' '2019-08-08 12:03:12' nan]\n",
      "Уникальные значения столбца Wire 5\n",
      "['2019-08-08 16:01:07' nan]\n",
      "Уникальные значения столбца Wire 6\n",
      "['2019-05-07 08:37:20' '2019-05-07 10:06:35' '2019-05-07 11:38:44'\n",
      " '2019-05-07 15:48:13' '2019-05-07 16:29:11' '2019-05-07 17:39:18'\n",
      " '2019-05-07 21:41:02' '2019-05-07 22:26:31' '2019-05-07 23:00:40'\n",
      " '2019-05-08 00:23:48' '2019-05-08 05:41:30' '2019-05-08 06:32:57'\n",
      " '2019-05-08 08:30:38' '2019-05-08 09:20:22' '2019-05-08 10:04:54'\n",
      " '2019-05-08 10:45:26' '2019-05-08 11:36:29' '2019-05-08 12:31:36'\n",
      " '2019-05-08 13:11:38' '2019-05-08 14:12:27' '2019-05-08 15:18:20'\n",
      " '2019-05-08 15:54:38' '2019-05-08 18:10:03' '2019-05-08 18:52:53'\n",
      " '2019-05-08 20:57:55' '2019-07-23 07:26:22' '2019-07-23 08:44:02'\n",
      " '2019-07-23 10:14:47' '2019-07-23 11:12:06' '2019-07-23 11:53:52'\n",
      " '2019-07-23 14:38:11' '2019-07-23 15:37:45' '2019-07-23 18:02:33'\n",
      " '2019-07-23 21:40:34' '2019-07-23 23:44:52' '2019-07-24 00:16:25'\n",
      " '2019-07-24 03:28:47' '2019-07-24 08:52:15' '2019-07-24 13:49:32'\n",
      " '2019-07-24 14:21:38' '2019-07-24 14:53:47' '2019-07-24 17:15:54'\n",
      " '2019-07-25 03:12:12' '2019-07-26 14:29:00' '2019-07-26 17:40:48'\n",
      " '2019-08-08 08:46:56' '2019-08-08 09:35:19' '2019-08-08 10:16:47'\n",
      " '2019-08-08 11:08:50' '2019-08-08 12:03:43' '2019-08-08 14:33:59'\n",
      " '2019-08-08 16:12:14' '2019-08-08 18:02:16' '2019-08-08 19:30:11'\n",
      " '2019-08-08 20:28:45' '2019-08-08 22:02:01' '2019-08-08 22:44:43'\n",
      " '2019-08-08 23:47:40' '2019-08-09 01:06:57' '2019-08-09 03:55:27'\n",
      " '2019-08-09 04:58:12' '2019-08-09 05:37:32' '2019-08-09 10:26:39'\n",
      " '2019-08-09 11:27:25' '2019-08-13 18:02:42' '2019-08-13 19:20:22'\n",
      " '2019-08-13 19:57:19' '2019-08-13 20:30:31' '2019-08-13 21:20:38'\n",
      " '2019-08-13 21:47:52' '2019-08-13 22:42:00' '2019-08-14 00:04:33'\n",
      " '2019-08-14 00:59:11' nan]\n",
      "Уникальные значения столбца Wire 7\n",
      "['2019-07-23 12:08:44' '2019-07-23 12:42:00' '2019-07-23 19:16:46'\n",
      " '2019-07-23 19:46:16' '2019-08-08 10:01:56' '2019-08-08 10:43:30'\n",
      " '2019-08-08 11:23:43' '2019-08-08 12:21:19' '2019-08-08 13:05:02'\n",
      " '2019-08-08 16:45:44' '2019-08-08 18:27:34' nan]\n",
      "Уникальные значения столбца Wire 8\n",
      "['2019-05-14 00:03:32' '2019-05-14 00:36:39' '2019-05-14 01:08:35'\n",
      " '2019-05-14 01:44:34' '2019-05-14 02:21:43' '2019-05-14 02:50:24'\n",
      " '2019-05-14 03:29:28' '2019-05-14 03:59:47' '2019-05-14 04:37:08'\n",
      " '2019-05-14 05:14:25' '2019-07-05 17:34:22' '2019-07-18 17:36:23'\n",
      " '2019-07-18 18:58:07' '2019-08-11 11:12:56' '2019-08-11 12:13:47'\n",
      " '2019-08-11 13:20:31' '2019-08-11 13:54:30' '2019-08-11 14:33:40'\n",
      " '2019-08-11 15:09:29' nan]\n",
      "Уникальные значения столбца Wire 9\n",
      "['2019-05-04 16:09:11' '2019-06-01 02:25:26' '2019-06-01 04:57:26'\n",
      " '2019-06-01 05:45:01' '2019-06-01 07:26:42' '2019-06-01 09:54:01'\n",
      " '2019-06-07 14:29:39' '2019-06-07 20:28:19' '2019-06-07 21:03:47'\n",
      " '2019-06-07 21:42:24' '2019-06-07 22:47:35' '2019-06-07 23:25:28'\n",
      " '2019-06-07 23:59:16' '2019-06-09 08:20:14' '2019-06-09 10:26:00'\n",
      " '2019-07-02 05:22:29' '2019-07-02 06:41:51' '2019-07-02 08:17:45'\n",
      " '2019-07-02 12:29:04' '2019-07-02 13:04:13' '2019-08-04 19:49:15'\n",
      " '2019-08-04 20:48:59' '2019-08-04 22:04:50' '2019-08-04 23:15:18'\n",
      " '2019-08-05 00:21:11' '2019-08-05 01:13:57' '2019-08-05 02:48:39'\n",
      " '2019-08-05 04:16:10' '2019-08-29 03:51:31' nan]\n"
     ]
    }
   ],
   "source": [
    "show_rows(data_wire_time)"
   ]
  },
  {
   "cell_type": "code",
   "execution_count": 36,
   "metadata": {},
   "outputs": [
    {
     "data": {
      "text/plain": [
       "3081"
      ]
     },
     "execution_count": 36,
     "metadata": {},
     "output_type": "execute_result"
    }
   ],
   "source": [
    "len(data_wire_time['key'].unique())"
   ]
  },
  {
   "cell_type": "code",
   "execution_count": 37,
   "metadata": {},
   "outputs": [
    {
     "data": {
      "text/plain": [
       "2049    1\n",
       "2664    1\n",
       "2590    1\n",
       "543     1\n",
       "2592    1\n",
       "       ..\n",
       "1090    1\n",
       "3139    1\n",
       "1092    1\n",
       "3141    1\n",
       "2047    1\n",
       "Name: key, Length: 3081, dtype: int64"
      ]
     },
     "execution_count": 37,
     "metadata": {},
     "output_type": "execute_result"
    }
   ],
   "source": [
    "data_wire_time['key'].value_counts()"
   ]
  },
  {
   "cell_type": "markdown",
   "metadata": {},
   "source": [
    "# Выводы по пункту 1"
   ]
  },
  {
   "cell_type": "raw",
   "metadata": {},
   "source": [
    "Предоставленные данные имеют следующие аномалии:\n",
    "\n",
    "Пропуски значений в столбцах. Возможно это ошибка датчика, который не передал информацию или отсутствие действия/замера на этой стадии. Примечание: в таблицах data_bulk и data_wire указаны 15 и 9 столбцов о различных материалах. Это значит, что в каждую партию может идти определенный набор из них и только единицам требуется использование всех возможных материалов.\n",
    "В таблицах разное количество уникальных номеров партии key. Это может означать, что данные по партии могут быть утеряны или над ней не выполнялся технологический этап.\n",
    "Несоответсвующий тип данных. Есть столбцы, которые могут не использовать тип float, так как хранят только целые числа.\n",
    "Разноязычные названия столбцов. Имена столбцов нужно превести к английском языку прописными буквами и избавиться от пробелов.\n",
    "Хранение времени в строке. Необходим перевод времени в формат datetime.\n",
    "Таблицы data_arc и data_temp обладают записями с одинаковыми значениями key в разное время применения технологической операции. Количество записей у одной партии для каждой таблицы может различаться.\n",
    "Аномальное значение реактивной мощности в таблице data_arc. Явно ошибочное значение.\n",
    "Данные требуют предобработки и группировки по признаку key. Данные распределеные об активной и реактивной мощности распределены нормально со смещением влево, данные о температуре распределены нормально без смещения."
   ]
  },
  {
   "cell_type": "markdown",
   "metadata": {},
   "source": [
    "## Подготовка данных"
   ]
  },
  {
   "cell_type": "markdown",
   "metadata": {},
   "source": [
    "-Найдем суммы значений активной и реактивной мощности\n",
    "\n",
    "-Найдем все записи по температурам, где есть минимум два значения температуры и создадим новую таблицу из первого и последнего замера.\n",
    "\n",
    "-Значения столбца key переведем в индексы датафреймов.\n",
    "\n",
    "-Pаполним nan значения 0 для таблиц data_bulk и data_wire.\n",
    "\n",
    "-Приведем типы данных для ускорения работы.\n",
    "\n",
    "-Разобьем данные на train/test в соотношении 75/25.\n",
    "-Составим из таблицы data_arc сгрупированную таблицу data_arc_sum по key для дальнейшего объединения данных. \n",
    "\n",
    "По факту, чем больше энергии было затрачено на нагрев, тем больше должна быть температура."
   ]
  },
  {
   "cell_type": "code",
   "execution_count": 38,
   "metadata": {},
   "outputs": [
    {
     "data": {
      "text/html": [
       "<div>\n",
       "<style scoped>\n",
       "    .dataframe tbody tr th:only-of-type {\n",
       "        vertical-align: middle;\n",
       "    }\n",
       "\n",
       "    .dataframe tbody tr th {\n",
       "        vertical-align: top;\n",
       "    }\n",
       "\n",
       "    .dataframe thead th {\n",
       "        text-align: right;\n",
       "    }\n",
       "</style>\n",
       "<table border=\"1\" class=\"dataframe\">\n",
       "  <thead>\n",
       "    <tr style=\"text-align: right;\">\n",
       "      <th></th>\n",
       "      <th>sum_active_power</th>\n",
       "      <th>sum_reactive_power</th>\n",
       "    </tr>\n",
       "    <tr>\n",
       "      <th>key</th>\n",
       "      <th></th>\n",
       "      <th></th>\n",
       "    </tr>\n",
       "  </thead>\n",
       "  <tbody>\n",
       "    <tr>\n",
       "      <th>1</th>\n",
       "      <td>4.878147</td>\n",
       "      <td>3.183241</td>\n",
       "    </tr>\n",
       "    <tr>\n",
       "      <th>2</th>\n",
       "      <td>3.052598</td>\n",
       "      <td>1.998112</td>\n",
       "    </tr>\n",
       "    <tr>\n",
       "      <th>3</th>\n",
       "      <td>2.525882</td>\n",
       "      <td>1.599076</td>\n",
       "    </tr>\n",
       "    <tr>\n",
       "      <th>4</th>\n",
       "      <td>3.209250</td>\n",
       "      <td>2.060298</td>\n",
       "    </tr>\n",
       "    <tr>\n",
       "      <th>5</th>\n",
       "      <td>3.347173</td>\n",
       "      <td>2.252643</td>\n",
       "    </tr>\n",
       "  </tbody>\n",
       "</table>\n",
       "</div>"
      ],
      "text/plain": [
       "     sum_active_power  sum_reactive_power\n",
       "key                                      \n",
       "1            4.878147            3.183241\n",
       "2            3.052598            1.998112\n",
       "3            2.525882            1.599076\n",
       "4            3.209250            2.060298\n",
       "5            3.347173            2.252643"
      ]
     },
     "execution_count": 38,
     "metadata": {},
     "output_type": "execute_result"
    }
   ],
   "source": [
    "data_arc.columns = ['key', 'start_time','end_time', 'active_power', 'reactive_power']\n",
    "data_arc = data_arc.query('reactive_power > 0')\n",
    "data_arc_sum = pd.pivot_table(data_arc,\n",
    "                             values=['active_power','reactive_power'],\n",
    "                             index='key',\n",
    "                             aggfunc={'active_power': np.sum,\n",
    "                                      'reactive_power': np.sum})\n",
    "data_arc_sum.columns = ['sum_active_power','sum_reactive_power']\n",
    "data_arc_sum.head()"
   ]
  },
  {
   "cell_type": "markdown",
   "metadata": {},
   "source": [
    "Удалим из таблицы партии key, которые не подходят по следующим условиям:\n",
    "\n",
    "Нет финального замера. Когда температуру замеряли до окончания последней операции нагрева дугой\n",
    "Только один замер температуры"
   ]
  },
  {
   "cell_type": "code",
   "execution_count": 39,
   "metadata": {},
   "outputs": [
    {
     "name": "stdout",
     "output_type": "stream",
     "text": [
      "[11, 38, 43, 51, 64, 69, 73, 81, 177, 179, 180, 182, 185, 195, 213, 216, 220, 222, 267, 271, 279, 293, 296, 297, 321, 325, 326, 444, 445, 448, 453, 456, 470, 471, 472, 491, 535, 562, 586, 587, 588, 590, 592, 593, 596, 616, 638, 641, 704, 731, 733, 741, 757, 786, 869, 870, 874, 878, 928, 929, 932, 934, 997, 1057, 1060, 1152, 1153, 1161, 1232, 1313, 1316, 1341, 1371, 1381, 1402, 1433, 1458, 1461, 1464, 1493, 1505, 1558, 1578, 1618, 1622, 1623, 1624, 1639, 1657, 1683, 1685, 1712, 1713, 1720, 1724, 1811, 1813, 1837, 1872, 1873, 1876, 1946, 1949, 1964, 1966, 1987, 1989, 1990, 1992, 1993, 1994, 2053, 2078, 2138, 2140, 2142, 2143, 2152, 2211, 2221, 2261, 2263, 2265, 2300, 2303, 2389, 2390, 2393, 2398, 2425, 2427, 2451, 2457, 2522, 2540, 2543, 2544, 2572, 2601, 2604, 2606, 2667, 2670, 2671, 2695, 2698, 2736, 2743, 2787, 2808, 2809, 2814, 2838, 2842, 2843, 2862, 2898, 2951, 2960, 2988, 3044, 3047, 3146, 3153, 3156, 3187, 3204, 3209, 3211, 3212, 3216] 171\n"
     ]
    }
   ],
   "source": [
    "bad_keys = []\n",
    "for key in list(data_temp['key'].unique()):\n",
    "    try:\n",
    "        if ((data_temp[data_temp['key'] == key]['Время замера'].max() < \n",
    "            data_arc[data_arc['key'] == key]['end_time'].max()) or\n",
    "           (data_temp[data_temp['key'] == key]['Время замера'].max() == \n",
    "            data_temp[data_temp['key'] == key]['Время замера'].min())):\n",
    "            bad_keys.append(key)\n",
    "    except:\n",
    "        bad_keys.append(key)\n",
    "print(bad_keys, len(bad_keys))"
   ]
  },
  {
   "cell_type": "markdown",
   "metadata": {},
   "source": [
    "Удалим все строки с пропусками."
   ]
  },
  {
   "cell_type": "code",
   "execution_count": 40,
   "metadata": {},
   "outputs": [
    {
     "name": "stdout",
     "output_type": "stream",
     "text": [
      "<class 'pandas.core.frame.DataFrame'>\n",
      "Int64Index: 12381 entries, 0 to 15902\n",
      "Data columns (total 3 columns):\n",
      " #   Column        Non-Null Count  Dtype  \n",
      "---  ------        --------------  -----  \n",
      " 0   key           12381 non-null  int64  \n",
      " 1   Время замера  12381 non-null  object \n",
      " 2   Температура   12381 non-null  float64\n",
      "dtypes: float64(1), int64(1), object(1)\n",
      "memory usage: 386.9+ KB\n"
     ]
    }
   ],
   "source": [
    "data_temp = data_temp.query('key not in @bad_keys')\n",
    "data_temp = data_temp.dropna()\n",
    "data_temp.info()"
   ]
  },
  {
   "cell_type": "code",
   "execution_count": 41,
   "metadata": {},
   "outputs": [
    {
     "data": {
      "text/plain": [
       "1214    16\n",
       "1513    16\n",
       "46      16\n",
       "44      16\n",
       "2108    15\n",
       "        ..\n",
       "1801     2\n",
       "35       2\n",
       "1894     2\n",
       "2194     2\n",
       "800      2\n",
       "Name: key, Length: 2344, dtype: int64"
      ]
     },
     "execution_count": 41,
     "metadata": {},
     "output_type": "execute_result"
    }
   ],
   "source": [
    "count_of_bad_keys = (data_temp['key'].value_counts() < 2).sum() \n",
    "good_keys = list(data_temp['key'].value_counts().index[:-count_of_bad_keys])\n",
    "data_temp = data_temp.query('key in @good_keys')\n",
    "data_temp['key'].value_counts()"
   ]
  },
  {
   "cell_type": "code",
   "execution_count": 42,
   "metadata": {},
   "outputs": [
    {
     "data": {
      "text/html": [
       "<div>\n",
       "<style scoped>\n",
       "    .dataframe tbody tr th:only-of-type {\n",
       "        vertical-align: middle;\n",
       "    }\n",
       "\n",
       "    .dataframe tbody tr th {\n",
       "        vertical-align: top;\n",
       "    }\n",
       "\n",
       "    .dataframe thead th {\n",
       "        text-align: right;\n",
       "    }\n",
       "</style>\n",
       "<table border=\"1\" class=\"dataframe\">\n",
       "  <thead>\n",
       "    <tr style=\"text-align: right;\">\n",
       "      <th></th>\n",
       "      <th>amax</th>\n",
       "      <th>amin</th>\n",
       "    </tr>\n",
       "    <tr>\n",
       "      <th>key</th>\n",
       "      <th></th>\n",
       "      <th></th>\n",
       "    </tr>\n",
       "  </thead>\n",
       "  <tbody>\n",
       "    <tr>\n",
       "      <th>1</th>\n",
       "      <td>2019-05-03 11:30:39</td>\n",
       "      <td>2019-05-03 11:16:18</td>\n",
       "    </tr>\n",
       "    <tr>\n",
       "      <th>2</th>\n",
       "      <td>2019-05-03 11:59:12</td>\n",
       "      <td>2019-05-03 11:37:27</td>\n",
       "    </tr>\n",
       "    <tr>\n",
       "      <th>3</th>\n",
       "      <td>2019-05-03 12:34:57</td>\n",
       "      <td>2019-05-03 12:13:17</td>\n",
       "    </tr>\n",
       "    <tr>\n",
       "      <th>4</th>\n",
       "      <td>2019-05-03 12:59:25</td>\n",
       "      <td>2019-05-03 12:52:57</td>\n",
       "    </tr>\n",
       "    <tr>\n",
       "      <th>5</th>\n",
       "      <td>2019-05-03 13:36:01</td>\n",
       "      <td>2019-05-03 13:23:19</td>\n",
       "    </tr>\n",
       "    <tr>\n",
       "      <th>...</th>\n",
       "      <td>...</td>\n",
       "      <td>...</td>\n",
       "    </tr>\n",
       "    <tr>\n",
       "      <th>2495</th>\n",
       "      <td>2019-08-06 00:54:42</td>\n",
       "      <td>2019-08-06 00:35:45</td>\n",
       "    </tr>\n",
       "    <tr>\n",
       "      <th>2496</th>\n",
       "      <td>2019-08-06 01:29:52</td>\n",
       "      <td>2019-08-06 01:02:54</td>\n",
       "    </tr>\n",
       "    <tr>\n",
       "      <th>2497</th>\n",
       "      <td>2019-08-06 01:53:50</td>\n",
       "      <td>2019-08-06 01:41:53</td>\n",
       "    </tr>\n",
       "    <tr>\n",
       "      <th>2498</th>\n",
       "      <td>2019-08-06 02:25:31</td>\n",
       "      <td>2019-08-06 02:03:49</td>\n",
       "    </tr>\n",
       "    <tr>\n",
       "      <th>2499</th>\n",
       "      <td>2019-08-06 03:00:28</td>\n",
       "      <td>2019-08-06 02:40:25</td>\n",
       "    </tr>\n",
       "  </tbody>\n",
       "</table>\n",
       "<p>2344 rows × 2 columns</p>\n",
       "</div>"
      ],
      "text/plain": [
       "                     amax                 amin\n",
       "key                                           \n",
       "1     2019-05-03 11:30:39  2019-05-03 11:16:18\n",
       "2     2019-05-03 11:59:12  2019-05-03 11:37:27\n",
       "3     2019-05-03 12:34:57  2019-05-03 12:13:17\n",
       "4     2019-05-03 12:59:25  2019-05-03 12:52:57\n",
       "5     2019-05-03 13:36:01  2019-05-03 13:23:19\n",
       "...                   ...                  ...\n",
       "2495  2019-08-06 00:54:42  2019-08-06 00:35:45\n",
       "2496  2019-08-06 01:29:52  2019-08-06 01:02:54\n",
       "2497  2019-08-06 01:53:50  2019-08-06 01:41:53\n",
       "2498  2019-08-06 02:25:31  2019-08-06 02:03:49\n",
       "2499  2019-08-06 03:00:28  2019-08-06 02:40:25\n",
       "\n",
       "[2344 rows x 2 columns]"
      ]
     },
     "execution_count": 42,
     "metadata": {},
     "output_type": "execute_result"
    }
   ],
   "source": [
    "data_temp.columns = ['key', 'time','temp']\n",
    "pt_data_temp = pd.pivot_table(data_temp,\n",
    "                                values='time',\n",
    "                                index='key',\n",
    "                                aggfunc={'time': [np.min, np.max]})\n",
    "pt_data_temp"
   ]
  },
  {
   "cell_type": "markdown",
   "metadata": {},
   "source": [
    "Получен срез со значениями времени начального и конечного замера. Сформируем новый срез на основе времени и сохраним его в data_temp_final."
   ]
  },
  {
   "cell_type": "code",
   "execution_count": 43,
   "metadata": {},
   "outputs": [
    {
     "data": {
      "text/html": [
       "<div>\n",
       "<style scoped>\n",
       "    .dataframe tbody tr th:only-of-type {\n",
       "        vertical-align: middle;\n",
       "    }\n",
       "\n",
       "    .dataframe tbody tr th {\n",
       "        vertical-align: top;\n",
       "    }\n",
       "\n",
       "    .dataframe thead th {\n",
       "        text-align: right;\n",
       "    }\n",
       "</style>\n",
       "<table border=\"1\" class=\"dataframe\">\n",
       "  <thead>\n",
       "    <tr style=\"text-align: right;\">\n",
       "      <th></th>\n",
       "      <th>start_temp</th>\n",
       "      <th>end_temp</th>\n",
       "    </tr>\n",
       "    <tr>\n",
       "      <th>key</th>\n",
       "      <th></th>\n",
       "      <th></th>\n",
       "    </tr>\n",
       "  </thead>\n",
       "  <tbody>\n",
       "    <tr>\n",
       "      <th>1</th>\n",
       "      <td>1571.0</td>\n",
       "      <td>1613.0</td>\n",
       "    </tr>\n",
       "    <tr>\n",
       "      <th>2</th>\n",
       "      <td>1581.0</td>\n",
       "      <td>1602.0</td>\n",
       "    </tr>\n",
       "    <tr>\n",
       "      <th>3</th>\n",
       "      <td>1596.0</td>\n",
       "      <td>1599.0</td>\n",
       "    </tr>\n",
       "    <tr>\n",
       "      <th>4</th>\n",
       "      <td>1601.0</td>\n",
       "      <td>1625.0</td>\n",
       "    </tr>\n",
       "    <tr>\n",
       "      <th>5</th>\n",
       "      <td>1576.0</td>\n",
       "      <td>1602.0</td>\n",
       "    </tr>\n",
       "  </tbody>\n",
       "</table>\n",
       "</div>"
      ],
      "text/plain": [
       "     start_temp  end_temp\n",
       "key                      \n",
       "1        1571.0    1613.0\n",
       "2        1581.0    1602.0\n",
       "3        1596.0    1599.0\n",
       "4        1601.0    1625.0\n",
       "5        1576.0    1602.0"
      ]
     },
     "execution_count": 43,
     "metadata": {},
     "output_type": "execute_result"
    }
   ],
   "source": [
    "start_time_list = list(pt_data_temp['amin'])\n",
    "end_time_list = list(pt_data_temp['amax'])\n",
    "data_temp_start_temp = data_temp.query('time in @start_time_list ')\n",
    "data_temp_start_temp = data_temp_start_temp.set_index('key')\n",
    "data_temp_end_temp = data_temp.query('time in @end_time_list ')\n",
    "data_temp_end_temp = data_temp_end_temp.set_index('key')\n",
    "data_temp_final = data_temp_start_temp.copy()\n",
    "data_temp_final.columns = ['time','start_temp']\n",
    "data_temp_final['end_temp'] = data_temp_end_temp['temp']\n",
    "data_temp_final = data_temp_final.drop('time', axis=1)\n",
    "data_temp_final.head()"
   ]
  },
  {
   "cell_type": "code",
   "execution_count": 44,
   "metadata": {},
   "outputs": [
    {
     "data": {
      "text/html": [
       "<div>\n",
       "<style scoped>\n",
       "    .dataframe tbody tr th:only-of-type {\n",
       "        vertical-align: middle;\n",
       "    }\n",
       "\n",
       "    .dataframe tbody tr th {\n",
       "        vertical-align: top;\n",
       "    }\n",
       "\n",
       "    .dataframe thead th {\n",
       "        text-align: right;\n",
       "    }\n",
       "</style>\n",
       "<table border=\"1\" class=\"dataframe\">\n",
       "  <thead>\n",
       "    <tr style=\"text-align: right;\">\n",
       "      <th></th>\n",
       "      <th>start_temp</th>\n",
       "      <th>end_temp</th>\n",
       "    </tr>\n",
       "    <tr>\n",
       "      <th>key</th>\n",
       "      <th></th>\n",
       "      <th></th>\n",
       "    </tr>\n",
       "  </thead>\n",
       "  <tbody>\n",
       "    <tr>\n",
       "      <th>1</th>\n",
       "      <td>1571.0</td>\n",
       "      <td>1613.0</td>\n",
       "    </tr>\n",
       "    <tr>\n",
       "      <th>2</th>\n",
       "      <td>1581.0</td>\n",
       "      <td>1602.0</td>\n",
       "    </tr>\n",
       "    <tr>\n",
       "      <th>3</th>\n",
       "      <td>1596.0</td>\n",
       "      <td>1599.0</td>\n",
       "    </tr>\n",
       "    <tr>\n",
       "      <th>4</th>\n",
       "      <td>1601.0</td>\n",
       "      <td>1625.0</td>\n",
       "    </tr>\n",
       "    <tr>\n",
       "      <th>5</th>\n",
       "      <td>1576.0</td>\n",
       "      <td>1602.0</td>\n",
       "    </tr>\n",
       "    <tr>\n",
       "      <th>...</th>\n",
       "      <td>...</td>\n",
       "      <td>...</td>\n",
       "    </tr>\n",
       "    <tr>\n",
       "      <th>2495</th>\n",
       "      <td>1570.0</td>\n",
       "      <td>1591.0</td>\n",
       "    </tr>\n",
       "    <tr>\n",
       "      <th>2496</th>\n",
       "      <td>1554.0</td>\n",
       "      <td>1591.0</td>\n",
       "    </tr>\n",
       "    <tr>\n",
       "      <th>2497</th>\n",
       "      <td>1571.0</td>\n",
       "      <td>1589.0</td>\n",
       "    </tr>\n",
       "    <tr>\n",
       "      <th>2498</th>\n",
       "      <td>1591.0</td>\n",
       "      <td>1594.0</td>\n",
       "    </tr>\n",
       "    <tr>\n",
       "      <th>2499</th>\n",
       "      <td>1569.0</td>\n",
       "      <td>1603.0</td>\n",
       "    </tr>\n",
       "  </tbody>\n",
       "</table>\n",
       "<p>2344 rows × 2 columns</p>\n",
       "</div>"
      ],
      "text/plain": [
       "      start_temp  end_temp\n",
       "key                       \n",
       "1         1571.0    1613.0\n",
       "2         1581.0    1602.0\n",
       "3         1596.0    1599.0\n",
       "4         1601.0    1625.0\n",
       "5         1576.0    1602.0\n",
       "...          ...       ...\n",
       "2495      1570.0    1591.0\n",
       "2496      1554.0    1591.0\n",
       "2497      1571.0    1589.0\n",
       "2498      1591.0    1594.0\n",
       "2499      1569.0    1603.0\n",
       "\n",
       "[2344 rows x 2 columns]"
      ]
     },
     "execution_count": 44,
     "metadata": {},
     "output_type": "execute_result"
    }
   ],
   "source": [
    "data_temp_final"
   ]
  },
  {
   "cell_type": "markdown",
   "metadata": {},
   "source": [
    "Для объединения нам потребуются датафреймы data_arc_sum, data_temp_final, data_bulk, data_gas и data_wire. В каждой таблице преобразуем index в значение столбца key."
   ]
  },
  {
   "cell_type": "code",
   "execution_count": 45,
   "metadata": {},
   "outputs": [],
   "source": [
    "data_bulk = data_bulk.set_index('key')\n",
    "data_bulk.columns = [f'bulk_{x}' for x in range(1,16)]\n",
    "data_gas = data_gas.set_index('key')\n",
    "data_gas.columns = ['gas']\n",
    "data_wire = data_wire.set_index('key')\n",
    "data_wire.columns = [f'wire_{x}' for x in range(1,10)]"
   ]
  },
  {
   "cell_type": "code",
   "execution_count": 46,
   "metadata": {},
   "outputs": [],
   "source": [
    "data_steel = data_temp_final.copy()"
   ]
  },
  {
   "cell_type": "code",
   "execution_count": 47,
   "metadata": {},
   "outputs": [
    {
     "data": {
      "text/html": [
       "<div>\n",
       "<style scoped>\n",
       "    .dataframe tbody tr th:only-of-type {\n",
       "        vertical-align: middle;\n",
       "    }\n",
       "\n",
       "    .dataframe tbody tr th {\n",
       "        vertical-align: top;\n",
       "    }\n",
       "\n",
       "    .dataframe thead th {\n",
       "        text-align: right;\n",
       "    }\n",
       "</style>\n",
       "<table border=\"1\" class=\"dataframe\">\n",
       "  <thead>\n",
       "    <tr style=\"text-align: right;\">\n",
       "      <th></th>\n",
       "      <th>start_temp</th>\n",
       "      <th>end_temp</th>\n",
       "      <th>sum_active_power</th>\n",
       "      <th>sum_reactive_power</th>\n",
       "    </tr>\n",
       "    <tr>\n",
       "      <th>key</th>\n",
       "      <th></th>\n",
       "      <th></th>\n",
       "      <th></th>\n",
       "      <th></th>\n",
       "    </tr>\n",
       "  </thead>\n",
       "  <tbody>\n",
       "    <tr>\n",
       "      <th>1</th>\n",
       "      <td>1571.0</td>\n",
       "      <td>1613.0</td>\n",
       "      <td>4.878147</td>\n",
       "      <td>3.183241</td>\n",
       "    </tr>\n",
       "    <tr>\n",
       "      <th>2</th>\n",
       "      <td>1581.0</td>\n",
       "      <td>1602.0</td>\n",
       "      <td>3.052598</td>\n",
       "      <td>1.998112</td>\n",
       "    </tr>\n",
       "    <tr>\n",
       "      <th>3</th>\n",
       "      <td>1596.0</td>\n",
       "      <td>1599.0</td>\n",
       "      <td>2.525882</td>\n",
       "      <td>1.599076</td>\n",
       "    </tr>\n",
       "    <tr>\n",
       "      <th>4</th>\n",
       "      <td>1601.0</td>\n",
       "      <td>1625.0</td>\n",
       "      <td>3.209250</td>\n",
       "      <td>2.060298</td>\n",
       "    </tr>\n",
       "    <tr>\n",
       "      <th>5</th>\n",
       "      <td>1576.0</td>\n",
       "      <td>1602.0</td>\n",
       "      <td>3.347173</td>\n",
       "      <td>2.252643</td>\n",
       "    </tr>\n",
       "  </tbody>\n",
       "</table>\n",
       "</div>"
      ],
      "text/plain": [
       "     start_temp  end_temp  sum_active_power  sum_reactive_power\n",
       "key                                                            \n",
       "1        1571.0    1613.0          4.878147            3.183241\n",
       "2        1581.0    1602.0          3.052598            1.998112\n",
       "3        1596.0    1599.0          2.525882            1.599076\n",
       "4        1601.0    1625.0          3.209250            2.060298\n",
       "5        1576.0    1602.0          3.347173            2.252643"
      ]
     },
     "execution_count": 47,
     "metadata": {},
     "output_type": "execute_result"
    }
   ],
   "source": [
    "data_steel = data_steel.merge(data_arc_sum, on='key')\n",
    "data_steel.head()"
   ]
  },
  {
   "cell_type": "code",
   "execution_count": 48,
   "metadata": {},
   "outputs": [
    {
     "data": {
      "text/html": [
       "<div>\n",
       "<style scoped>\n",
       "    .dataframe tbody tr th:only-of-type {\n",
       "        vertical-align: middle;\n",
       "    }\n",
       "\n",
       "    .dataframe tbody tr th {\n",
       "        vertical-align: top;\n",
       "    }\n",
       "\n",
       "    .dataframe thead th {\n",
       "        text-align: right;\n",
       "    }\n",
       "</style>\n",
       "<table border=\"1\" class=\"dataframe\">\n",
       "  <thead>\n",
       "    <tr style=\"text-align: right;\">\n",
       "      <th></th>\n",
       "      <th>start_temp</th>\n",
       "      <th>end_temp</th>\n",
       "      <th>sum_active_power</th>\n",
       "      <th>sum_reactive_power</th>\n",
       "      <th>bulk_1</th>\n",
       "      <th>bulk_2</th>\n",
       "      <th>bulk_3</th>\n",
       "      <th>bulk_4</th>\n",
       "      <th>bulk_5</th>\n",
       "      <th>bulk_6</th>\n",
       "      <th>bulk_7</th>\n",
       "      <th>bulk_8</th>\n",
       "      <th>bulk_9</th>\n",
       "      <th>bulk_10</th>\n",
       "      <th>bulk_11</th>\n",
       "      <th>bulk_12</th>\n",
       "      <th>bulk_13</th>\n",
       "      <th>bulk_14</th>\n",
       "      <th>bulk_15</th>\n",
       "    </tr>\n",
       "    <tr>\n",
       "      <th>key</th>\n",
       "      <th></th>\n",
       "      <th></th>\n",
       "      <th></th>\n",
       "      <th></th>\n",
       "      <th></th>\n",
       "      <th></th>\n",
       "      <th></th>\n",
       "      <th></th>\n",
       "      <th></th>\n",
       "      <th></th>\n",
       "      <th></th>\n",
       "      <th></th>\n",
       "      <th></th>\n",
       "      <th></th>\n",
       "      <th></th>\n",
       "      <th></th>\n",
       "      <th></th>\n",
       "      <th></th>\n",
       "      <th></th>\n",
       "    </tr>\n",
       "  </thead>\n",
       "  <tbody>\n",
       "    <tr>\n",
       "      <th>1</th>\n",
       "      <td>1571.0</td>\n",
       "      <td>1613.0</td>\n",
       "      <td>4.878147</td>\n",
       "      <td>3.183241</td>\n",
       "      <td>NaN</td>\n",
       "      <td>NaN</td>\n",
       "      <td>NaN</td>\n",
       "      <td>43.0</td>\n",
       "      <td>NaN</td>\n",
       "      <td>NaN</td>\n",
       "      <td>NaN</td>\n",
       "      <td>NaN</td>\n",
       "      <td>NaN</td>\n",
       "      <td>NaN</td>\n",
       "      <td>NaN</td>\n",
       "      <td>206.0</td>\n",
       "      <td>NaN</td>\n",
       "      <td>150.0</td>\n",
       "      <td>154.0</td>\n",
       "    </tr>\n",
       "    <tr>\n",
       "      <th>2</th>\n",
       "      <td>1581.0</td>\n",
       "      <td>1602.0</td>\n",
       "      <td>3.052598</td>\n",
       "      <td>1.998112</td>\n",
       "      <td>NaN</td>\n",
       "      <td>NaN</td>\n",
       "      <td>NaN</td>\n",
       "      <td>73.0</td>\n",
       "      <td>NaN</td>\n",
       "      <td>NaN</td>\n",
       "      <td>NaN</td>\n",
       "      <td>NaN</td>\n",
       "      <td>NaN</td>\n",
       "      <td>NaN</td>\n",
       "      <td>NaN</td>\n",
       "      <td>206.0</td>\n",
       "      <td>NaN</td>\n",
       "      <td>149.0</td>\n",
       "      <td>154.0</td>\n",
       "    </tr>\n",
       "    <tr>\n",
       "      <th>3</th>\n",
       "      <td>1596.0</td>\n",
       "      <td>1599.0</td>\n",
       "      <td>2.525882</td>\n",
       "      <td>1.599076</td>\n",
       "      <td>NaN</td>\n",
       "      <td>NaN</td>\n",
       "      <td>NaN</td>\n",
       "      <td>34.0</td>\n",
       "      <td>NaN</td>\n",
       "      <td>NaN</td>\n",
       "      <td>NaN</td>\n",
       "      <td>NaN</td>\n",
       "      <td>NaN</td>\n",
       "      <td>NaN</td>\n",
       "      <td>NaN</td>\n",
       "      <td>205.0</td>\n",
       "      <td>NaN</td>\n",
       "      <td>152.0</td>\n",
       "      <td>153.0</td>\n",
       "    </tr>\n",
       "    <tr>\n",
       "      <th>4</th>\n",
       "      <td>1601.0</td>\n",
       "      <td>1625.0</td>\n",
       "      <td>3.209250</td>\n",
       "      <td>2.060298</td>\n",
       "      <td>NaN</td>\n",
       "      <td>NaN</td>\n",
       "      <td>NaN</td>\n",
       "      <td>81.0</td>\n",
       "      <td>NaN</td>\n",
       "      <td>NaN</td>\n",
       "      <td>NaN</td>\n",
       "      <td>NaN</td>\n",
       "      <td>NaN</td>\n",
       "      <td>NaN</td>\n",
       "      <td>NaN</td>\n",
       "      <td>207.0</td>\n",
       "      <td>NaN</td>\n",
       "      <td>153.0</td>\n",
       "      <td>154.0</td>\n",
       "    </tr>\n",
       "    <tr>\n",
       "      <th>5</th>\n",
       "      <td>1576.0</td>\n",
       "      <td>1602.0</td>\n",
       "      <td>3.347173</td>\n",
       "      <td>2.252643</td>\n",
       "      <td>NaN</td>\n",
       "      <td>NaN</td>\n",
       "      <td>NaN</td>\n",
       "      <td>78.0</td>\n",
       "      <td>NaN</td>\n",
       "      <td>NaN</td>\n",
       "      <td>NaN</td>\n",
       "      <td>NaN</td>\n",
       "      <td>NaN</td>\n",
       "      <td>NaN</td>\n",
       "      <td>NaN</td>\n",
       "      <td>203.0</td>\n",
       "      <td>NaN</td>\n",
       "      <td>151.0</td>\n",
       "      <td>152.0</td>\n",
       "    </tr>\n",
       "  </tbody>\n",
       "</table>\n",
       "</div>"
      ],
      "text/plain": [
       "     start_temp  end_temp  sum_active_power  sum_reactive_power  bulk_1  \\\n",
       "key                                                                       \n",
       "1        1571.0    1613.0          4.878147            3.183241     NaN   \n",
       "2        1581.0    1602.0          3.052598            1.998112     NaN   \n",
       "3        1596.0    1599.0          2.525882            1.599076     NaN   \n",
       "4        1601.0    1625.0          3.209250            2.060298     NaN   \n",
       "5        1576.0    1602.0          3.347173            2.252643     NaN   \n",
       "\n",
       "     bulk_2  bulk_3  bulk_4  bulk_5  bulk_6  bulk_7  bulk_8  bulk_9  bulk_10  \\\n",
       "key                                                                            \n",
       "1       NaN     NaN    43.0     NaN     NaN     NaN     NaN     NaN      NaN   \n",
       "2       NaN     NaN    73.0     NaN     NaN     NaN     NaN     NaN      NaN   \n",
       "3       NaN     NaN    34.0     NaN     NaN     NaN     NaN     NaN      NaN   \n",
       "4       NaN     NaN    81.0     NaN     NaN     NaN     NaN     NaN      NaN   \n",
       "5       NaN     NaN    78.0     NaN     NaN     NaN     NaN     NaN      NaN   \n",
       "\n",
       "     bulk_11  bulk_12  bulk_13  bulk_14  bulk_15  \n",
       "key                                               \n",
       "1        NaN    206.0      NaN    150.0    154.0  \n",
       "2        NaN    206.0      NaN    149.0    154.0  \n",
       "3        NaN    205.0      NaN    152.0    153.0  \n",
       "4        NaN    207.0      NaN    153.0    154.0  \n",
       "5        NaN    203.0      NaN    151.0    152.0  "
      ]
     },
     "execution_count": 48,
     "metadata": {},
     "output_type": "execute_result"
    }
   ],
   "source": [
    "data_steel = data_steel.merge(data_bulk, on='key')\n",
    "data_steel.head()"
   ]
  },
  {
   "cell_type": "code",
   "execution_count": 49,
   "metadata": {},
   "outputs": [
    {
     "data": {
      "text/html": [
       "<div>\n",
       "<style scoped>\n",
       "    .dataframe tbody tr th:only-of-type {\n",
       "        vertical-align: middle;\n",
       "    }\n",
       "\n",
       "    .dataframe tbody tr th {\n",
       "        vertical-align: top;\n",
       "    }\n",
       "\n",
       "    .dataframe thead th {\n",
       "        text-align: right;\n",
       "    }\n",
       "</style>\n",
       "<table border=\"1\" class=\"dataframe\">\n",
       "  <thead>\n",
       "    <tr style=\"text-align: right;\">\n",
       "      <th></th>\n",
       "      <th>start_temp</th>\n",
       "      <th>end_temp</th>\n",
       "      <th>sum_active_power</th>\n",
       "      <th>sum_reactive_power</th>\n",
       "      <th>bulk_1</th>\n",
       "      <th>bulk_2</th>\n",
       "      <th>bulk_3</th>\n",
       "      <th>bulk_4</th>\n",
       "      <th>bulk_5</th>\n",
       "      <th>bulk_6</th>\n",
       "      <th>bulk_7</th>\n",
       "      <th>bulk_8</th>\n",
       "      <th>bulk_9</th>\n",
       "      <th>bulk_10</th>\n",
       "      <th>bulk_11</th>\n",
       "      <th>bulk_12</th>\n",
       "      <th>bulk_13</th>\n",
       "      <th>bulk_14</th>\n",
       "      <th>bulk_15</th>\n",
       "      <th>gas</th>\n",
       "    </tr>\n",
       "    <tr>\n",
       "      <th>key</th>\n",
       "      <th></th>\n",
       "      <th></th>\n",
       "      <th></th>\n",
       "      <th></th>\n",
       "      <th></th>\n",
       "      <th></th>\n",
       "      <th></th>\n",
       "      <th></th>\n",
       "      <th></th>\n",
       "      <th></th>\n",
       "      <th></th>\n",
       "      <th></th>\n",
       "      <th></th>\n",
       "      <th></th>\n",
       "      <th></th>\n",
       "      <th></th>\n",
       "      <th></th>\n",
       "      <th></th>\n",
       "      <th></th>\n",
       "      <th></th>\n",
       "    </tr>\n",
       "  </thead>\n",
       "  <tbody>\n",
       "    <tr>\n",
       "      <th>1</th>\n",
       "      <td>1571.0</td>\n",
       "      <td>1613.0</td>\n",
       "      <td>4.878147</td>\n",
       "      <td>3.183241</td>\n",
       "      <td>NaN</td>\n",
       "      <td>NaN</td>\n",
       "      <td>NaN</td>\n",
       "      <td>43.0</td>\n",
       "      <td>NaN</td>\n",
       "      <td>NaN</td>\n",
       "      <td>NaN</td>\n",
       "      <td>NaN</td>\n",
       "      <td>NaN</td>\n",
       "      <td>NaN</td>\n",
       "      <td>NaN</td>\n",
       "      <td>206.0</td>\n",
       "      <td>NaN</td>\n",
       "      <td>150.0</td>\n",
       "      <td>154.0</td>\n",
       "      <td>29.749986</td>\n",
       "    </tr>\n",
       "    <tr>\n",
       "      <th>2</th>\n",
       "      <td>1581.0</td>\n",
       "      <td>1602.0</td>\n",
       "      <td>3.052598</td>\n",
       "      <td>1.998112</td>\n",
       "      <td>NaN</td>\n",
       "      <td>NaN</td>\n",
       "      <td>NaN</td>\n",
       "      <td>73.0</td>\n",
       "      <td>NaN</td>\n",
       "      <td>NaN</td>\n",
       "      <td>NaN</td>\n",
       "      <td>NaN</td>\n",
       "      <td>NaN</td>\n",
       "      <td>NaN</td>\n",
       "      <td>NaN</td>\n",
       "      <td>206.0</td>\n",
       "      <td>NaN</td>\n",
       "      <td>149.0</td>\n",
       "      <td>154.0</td>\n",
       "      <td>12.555561</td>\n",
       "    </tr>\n",
       "    <tr>\n",
       "      <th>3</th>\n",
       "      <td>1596.0</td>\n",
       "      <td>1599.0</td>\n",
       "      <td>2.525882</td>\n",
       "      <td>1.599076</td>\n",
       "      <td>NaN</td>\n",
       "      <td>NaN</td>\n",
       "      <td>NaN</td>\n",
       "      <td>34.0</td>\n",
       "      <td>NaN</td>\n",
       "      <td>NaN</td>\n",
       "      <td>NaN</td>\n",
       "      <td>NaN</td>\n",
       "      <td>NaN</td>\n",
       "      <td>NaN</td>\n",
       "      <td>NaN</td>\n",
       "      <td>205.0</td>\n",
       "      <td>NaN</td>\n",
       "      <td>152.0</td>\n",
       "      <td>153.0</td>\n",
       "      <td>28.554793</td>\n",
       "    </tr>\n",
       "    <tr>\n",
       "      <th>4</th>\n",
       "      <td>1601.0</td>\n",
       "      <td>1625.0</td>\n",
       "      <td>3.209250</td>\n",
       "      <td>2.060298</td>\n",
       "      <td>NaN</td>\n",
       "      <td>NaN</td>\n",
       "      <td>NaN</td>\n",
       "      <td>81.0</td>\n",
       "      <td>NaN</td>\n",
       "      <td>NaN</td>\n",
       "      <td>NaN</td>\n",
       "      <td>NaN</td>\n",
       "      <td>NaN</td>\n",
       "      <td>NaN</td>\n",
       "      <td>NaN</td>\n",
       "      <td>207.0</td>\n",
       "      <td>NaN</td>\n",
       "      <td>153.0</td>\n",
       "      <td>154.0</td>\n",
       "      <td>18.841219</td>\n",
       "    </tr>\n",
       "    <tr>\n",
       "      <th>5</th>\n",
       "      <td>1576.0</td>\n",
       "      <td>1602.0</td>\n",
       "      <td>3.347173</td>\n",
       "      <td>2.252643</td>\n",
       "      <td>NaN</td>\n",
       "      <td>NaN</td>\n",
       "      <td>NaN</td>\n",
       "      <td>78.0</td>\n",
       "      <td>NaN</td>\n",
       "      <td>NaN</td>\n",
       "      <td>NaN</td>\n",
       "      <td>NaN</td>\n",
       "      <td>NaN</td>\n",
       "      <td>NaN</td>\n",
       "      <td>NaN</td>\n",
       "      <td>203.0</td>\n",
       "      <td>NaN</td>\n",
       "      <td>151.0</td>\n",
       "      <td>152.0</td>\n",
       "      <td>5.413692</td>\n",
       "    </tr>\n",
       "  </tbody>\n",
       "</table>\n",
       "</div>"
      ],
      "text/plain": [
       "     start_temp  end_temp  sum_active_power  sum_reactive_power  bulk_1  \\\n",
       "key                                                                       \n",
       "1        1571.0    1613.0          4.878147            3.183241     NaN   \n",
       "2        1581.0    1602.0          3.052598            1.998112     NaN   \n",
       "3        1596.0    1599.0          2.525882            1.599076     NaN   \n",
       "4        1601.0    1625.0          3.209250            2.060298     NaN   \n",
       "5        1576.0    1602.0          3.347173            2.252643     NaN   \n",
       "\n",
       "     bulk_2  bulk_3  bulk_4  bulk_5  bulk_6  bulk_7  bulk_8  bulk_9  bulk_10  \\\n",
       "key                                                                            \n",
       "1       NaN     NaN    43.0     NaN     NaN     NaN     NaN     NaN      NaN   \n",
       "2       NaN     NaN    73.0     NaN     NaN     NaN     NaN     NaN      NaN   \n",
       "3       NaN     NaN    34.0     NaN     NaN     NaN     NaN     NaN      NaN   \n",
       "4       NaN     NaN    81.0     NaN     NaN     NaN     NaN     NaN      NaN   \n",
       "5       NaN     NaN    78.0     NaN     NaN     NaN     NaN     NaN      NaN   \n",
       "\n",
       "     bulk_11  bulk_12  bulk_13  bulk_14  bulk_15        gas  \n",
       "key                                                          \n",
       "1        NaN    206.0      NaN    150.0    154.0  29.749986  \n",
       "2        NaN    206.0      NaN    149.0    154.0  12.555561  \n",
       "3        NaN    205.0      NaN    152.0    153.0  28.554793  \n",
       "4        NaN    207.0      NaN    153.0    154.0  18.841219  \n",
       "5        NaN    203.0      NaN    151.0    152.0   5.413692  "
      ]
     },
     "execution_count": 49,
     "metadata": {},
     "output_type": "execute_result"
    }
   ],
   "source": [
    "data_steel = data_steel.merge(data_gas, on='key')\n",
    "data_steel.head()"
   ]
  },
  {
   "cell_type": "code",
   "execution_count": 50,
   "metadata": {},
   "outputs": [
    {
     "data": {
      "text/html": [
       "<div>\n",
       "<style scoped>\n",
       "    .dataframe tbody tr th:only-of-type {\n",
       "        vertical-align: middle;\n",
       "    }\n",
       "\n",
       "    .dataframe tbody tr th {\n",
       "        vertical-align: top;\n",
       "    }\n",
       "\n",
       "    .dataframe thead th {\n",
       "        text-align: right;\n",
       "    }\n",
       "</style>\n",
       "<table border=\"1\" class=\"dataframe\">\n",
       "  <thead>\n",
       "    <tr style=\"text-align: right;\">\n",
       "      <th></th>\n",
       "      <th>start_temp</th>\n",
       "      <th>end_temp</th>\n",
       "      <th>sum_active_power</th>\n",
       "      <th>sum_reactive_power</th>\n",
       "      <th>bulk_1</th>\n",
       "      <th>bulk_2</th>\n",
       "      <th>bulk_3</th>\n",
       "      <th>bulk_4</th>\n",
       "      <th>bulk_5</th>\n",
       "      <th>bulk_6</th>\n",
       "      <th>...</th>\n",
       "      <th>gas</th>\n",
       "      <th>wire_1</th>\n",
       "      <th>wire_2</th>\n",
       "      <th>wire_3</th>\n",
       "      <th>wire_4</th>\n",
       "      <th>wire_5</th>\n",
       "      <th>wire_6</th>\n",
       "      <th>wire_7</th>\n",
       "      <th>wire_8</th>\n",
       "      <th>wire_9</th>\n",
       "    </tr>\n",
       "    <tr>\n",
       "      <th>key</th>\n",
       "      <th></th>\n",
       "      <th></th>\n",
       "      <th></th>\n",
       "      <th></th>\n",
       "      <th></th>\n",
       "      <th></th>\n",
       "      <th></th>\n",
       "      <th></th>\n",
       "      <th></th>\n",
       "      <th></th>\n",
       "      <th></th>\n",
       "      <th></th>\n",
       "      <th></th>\n",
       "      <th></th>\n",
       "      <th></th>\n",
       "      <th></th>\n",
       "      <th></th>\n",
       "      <th></th>\n",
       "      <th></th>\n",
       "      <th></th>\n",
       "      <th></th>\n",
       "    </tr>\n",
       "  </thead>\n",
       "  <tbody>\n",
       "    <tr>\n",
       "      <th>1</th>\n",
       "      <td>1571.0</td>\n",
       "      <td>1613.0</td>\n",
       "      <td>4.878147</td>\n",
       "      <td>3.183241</td>\n",
       "      <td>NaN</td>\n",
       "      <td>NaN</td>\n",
       "      <td>NaN</td>\n",
       "      <td>43.0</td>\n",
       "      <td>NaN</td>\n",
       "      <td>NaN</td>\n",
       "      <td>...</td>\n",
       "      <td>29.749986</td>\n",
       "      <td>60.059998</td>\n",
       "      <td>NaN</td>\n",
       "      <td>NaN</td>\n",
       "      <td>NaN</td>\n",
       "      <td>NaN</td>\n",
       "      <td>NaN</td>\n",
       "      <td>NaN</td>\n",
       "      <td>NaN</td>\n",
       "      <td>NaN</td>\n",
       "    </tr>\n",
       "    <tr>\n",
       "      <th>2</th>\n",
       "      <td>1581.0</td>\n",
       "      <td>1602.0</td>\n",
       "      <td>3.052598</td>\n",
       "      <td>1.998112</td>\n",
       "      <td>NaN</td>\n",
       "      <td>NaN</td>\n",
       "      <td>NaN</td>\n",
       "      <td>73.0</td>\n",
       "      <td>NaN</td>\n",
       "      <td>NaN</td>\n",
       "      <td>...</td>\n",
       "      <td>12.555561</td>\n",
       "      <td>96.052315</td>\n",
       "      <td>NaN</td>\n",
       "      <td>NaN</td>\n",
       "      <td>NaN</td>\n",
       "      <td>NaN</td>\n",
       "      <td>NaN</td>\n",
       "      <td>NaN</td>\n",
       "      <td>NaN</td>\n",
       "      <td>NaN</td>\n",
       "    </tr>\n",
       "    <tr>\n",
       "      <th>3</th>\n",
       "      <td>1596.0</td>\n",
       "      <td>1599.0</td>\n",
       "      <td>2.525882</td>\n",
       "      <td>1.599076</td>\n",
       "      <td>NaN</td>\n",
       "      <td>NaN</td>\n",
       "      <td>NaN</td>\n",
       "      <td>34.0</td>\n",
       "      <td>NaN</td>\n",
       "      <td>NaN</td>\n",
       "      <td>...</td>\n",
       "      <td>28.554793</td>\n",
       "      <td>91.160157</td>\n",
       "      <td>NaN</td>\n",
       "      <td>NaN</td>\n",
       "      <td>NaN</td>\n",
       "      <td>NaN</td>\n",
       "      <td>NaN</td>\n",
       "      <td>NaN</td>\n",
       "      <td>NaN</td>\n",
       "      <td>NaN</td>\n",
       "    </tr>\n",
       "    <tr>\n",
       "      <th>4</th>\n",
       "      <td>1601.0</td>\n",
       "      <td>1625.0</td>\n",
       "      <td>3.209250</td>\n",
       "      <td>2.060298</td>\n",
       "      <td>NaN</td>\n",
       "      <td>NaN</td>\n",
       "      <td>NaN</td>\n",
       "      <td>81.0</td>\n",
       "      <td>NaN</td>\n",
       "      <td>NaN</td>\n",
       "      <td>...</td>\n",
       "      <td>18.841219</td>\n",
       "      <td>89.063515</td>\n",
       "      <td>NaN</td>\n",
       "      <td>NaN</td>\n",
       "      <td>NaN</td>\n",
       "      <td>NaN</td>\n",
       "      <td>NaN</td>\n",
       "      <td>NaN</td>\n",
       "      <td>NaN</td>\n",
       "      <td>NaN</td>\n",
       "    </tr>\n",
       "    <tr>\n",
       "      <th>5</th>\n",
       "      <td>1576.0</td>\n",
       "      <td>1602.0</td>\n",
       "      <td>3.347173</td>\n",
       "      <td>2.252643</td>\n",
       "      <td>NaN</td>\n",
       "      <td>NaN</td>\n",
       "      <td>NaN</td>\n",
       "      <td>78.0</td>\n",
       "      <td>NaN</td>\n",
       "      <td>NaN</td>\n",
       "      <td>...</td>\n",
       "      <td>5.413692</td>\n",
       "      <td>89.238236</td>\n",
       "      <td>9.11456</td>\n",
       "      <td>NaN</td>\n",
       "      <td>NaN</td>\n",
       "      <td>NaN</td>\n",
       "      <td>NaN</td>\n",
       "      <td>NaN</td>\n",
       "      <td>NaN</td>\n",
       "      <td>NaN</td>\n",
       "    </tr>\n",
       "  </tbody>\n",
       "</table>\n",
       "<p>5 rows × 29 columns</p>\n",
       "</div>"
      ],
      "text/plain": [
       "     start_temp  end_temp  sum_active_power  sum_reactive_power  bulk_1  \\\n",
       "key                                                                       \n",
       "1        1571.0    1613.0          4.878147            3.183241     NaN   \n",
       "2        1581.0    1602.0          3.052598            1.998112     NaN   \n",
       "3        1596.0    1599.0          2.525882            1.599076     NaN   \n",
       "4        1601.0    1625.0          3.209250            2.060298     NaN   \n",
       "5        1576.0    1602.0          3.347173            2.252643     NaN   \n",
       "\n",
       "     bulk_2  bulk_3  bulk_4  bulk_5  bulk_6  ...        gas     wire_1  \\\n",
       "key                                          ...                         \n",
       "1       NaN     NaN    43.0     NaN     NaN  ...  29.749986  60.059998   \n",
       "2       NaN     NaN    73.0     NaN     NaN  ...  12.555561  96.052315   \n",
       "3       NaN     NaN    34.0     NaN     NaN  ...  28.554793  91.160157   \n",
       "4       NaN     NaN    81.0     NaN     NaN  ...  18.841219  89.063515   \n",
       "5       NaN     NaN    78.0     NaN     NaN  ...   5.413692  89.238236   \n",
       "\n",
       "      wire_2  wire_3  wire_4  wire_5  wire_6  wire_7  wire_8  wire_9  \n",
       "key                                                                   \n",
       "1        NaN     NaN     NaN     NaN     NaN     NaN     NaN     NaN  \n",
       "2        NaN     NaN     NaN     NaN     NaN     NaN     NaN     NaN  \n",
       "3        NaN     NaN     NaN     NaN     NaN     NaN     NaN     NaN  \n",
       "4        NaN     NaN     NaN     NaN     NaN     NaN     NaN     NaN  \n",
       "5    9.11456     NaN     NaN     NaN     NaN     NaN     NaN     NaN  \n",
       "\n",
       "[5 rows x 29 columns]"
      ]
     },
     "execution_count": 50,
     "metadata": {},
     "output_type": "execute_result"
    }
   ],
   "source": [
    "data_steel = data_steel.merge(data_wire, on='key')\n",
    "data_steel.head()"
   ]
  },
  {
   "cell_type": "code",
   "execution_count": 51,
   "metadata": {},
   "outputs": [
    {
     "name": "stdout",
     "output_type": "stream",
     "text": [
      "<class 'pandas.core.frame.DataFrame'>\n",
      "Int64Index: 2210 entries, 1 to 2499\n",
      "Data columns (total 29 columns):\n",
      " #   Column              Non-Null Count  Dtype  \n",
      "---  ------              --------------  -----  \n",
      " 0   start_temp          2210 non-null   float64\n",
      " 1   end_temp            2210 non-null   float64\n",
      " 2   sum_active_power    2210 non-null   float64\n",
      " 3   sum_reactive_power  2210 non-null   float64\n",
      " 4   bulk_1              189 non-null    float64\n",
      " 5   bulk_2              13 non-null     float64\n",
      " 6   bulk_3              926 non-null    float64\n",
      " 7   bulk_4              756 non-null    float64\n",
      " 8   bulk_5              53 non-null     float64\n",
      " 9   bulk_6              428 non-null    float64\n",
      " 10  bulk_7              13 non-null     float64\n",
      " 11  bulk_8              1 non-null      float64\n",
      " 12  bulk_9              13 non-null     float64\n",
      " 13  bulk_10             130 non-null    float64\n",
      " 14  bulk_11             124 non-null    float64\n",
      " 15  bulk_12             1730 non-null   float64\n",
      " 16  bulk_13             13 non-null     float64\n",
      " 17  bulk_14             1977 non-null   float64\n",
      " 18  bulk_15             1619 non-null   float64\n",
      " 19  gas                 2210 non-null   float64\n",
      " 20  wire_1              2188 non-null   float64\n",
      " 21  wire_2              777 non-null    float64\n",
      " 22  wire_3              39 non-null     float64\n",
      " 23  wire_4              12 non-null     float64\n",
      " 24  wire_5              0 non-null      float64\n",
      " 25  wire_6              45 non-null     float64\n",
      " 26  wire_7              4 non-null      float64\n",
      " 27  wire_8              13 non-null     float64\n",
      " 28  wire_9              22 non-null     float64\n",
      "dtypes: float64(29)\n",
      "memory usage: 518.0 KB\n"
     ]
    }
   ],
   "source": [
    "data_steel = data_steel.dropna(subset=['end_temp'])\n",
    "data_steel.info()\n",
    "data_steel = data_steel.drop('wire_5',axis=1)"
   ]
  },
  {
   "cell_type": "markdown",
   "metadata": {},
   "source": [
    "Наша цель - предсказывать значение end_temp. Удалим партии, где нет информации о температуре. Столбец wire_5 удалим из-за отсуствия информации во всех запясях."
   ]
  },
  {
   "cell_type": "code",
   "execution_count": 52,
   "metadata": {},
   "outputs": [],
   "source": [
    "#data_steel = pd.concat([data_arc_sum, data_temp_final, data_bulk, data_gas, data_wire], axis=1, sort=False)\n",
    "#data_steel = data_steel.dropna(subset=['end_temp'])\n",
    "#data_steel.info()\n",
    "#data_steel = data_steel.drop('wire_5',axis=1)\n"
   ]
  },
  {
   "cell_type": "markdown",
   "metadata": {},
   "source": [
    "Приведем типы столбцов start_temp, end_temp и bulk составляющих к целому типу, так как там храняться только целые числа. Заранее во все NaN разместим значения 0."
   ]
  },
  {
   "cell_type": "code",
   "execution_count": 53,
   "metadata": {},
   "outputs": [
    {
     "name": "stdout",
     "output_type": "stream",
     "text": [
      "<class 'pandas.core.frame.DataFrame'>\n",
      "Int64Index: 2210 entries, 1 to 2499\n",
      "Data columns (total 28 columns):\n",
      " #   Column              Non-Null Count  Dtype  \n",
      "---  ------              --------------  -----  \n",
      " 0   start_temp          2210 non-null   int16  \n",
      " 1   end_temp            2210 non-null   int16  \n",
      " 2   sum_active_power    2210 non-null   float64\n",
      " 3   sum_reactive_power  2210 non-null   float64\n",
      " 4   bulk_1              2210 non-null   int16  \n",
      " 5   bulk_2              2210 non-null   int16  \n",
      " 6   bulk_3              2210 non-null   int16  \n",
      " 7   bulk_4              2210 non-null   int16  \n",
      " 8   bulk_5              2210 non-null   int16  \n",
      " 9   bulk_6              2210 non-null   int16  \n",
      " 10  bulk_7              2210 non-null   int16  \n",
      " 11  bulk_8              2210 non-null   int8   \n",
      " 12  bulk_9              2210 non-null   int16  \n",
      " 13  bulk_10             2210 non-null   int16  \n",
      " 14  bulk_11             2210 non-null   int16  \n",
      " 15  bulk_12             2210 non-null   int16  \n",
      " 16  bulk_13             2210 non-null   int16  \n",
      " 17  bulk_14             2210 non-null   int16  \n",
      " 18  bulk_15             2210 non-null   int16  \n",
      " 19  gas                 2210 non-null   float64\n",
      " 20  wire_1              2210 non-null   float64\n",
      " 21  wire_2              2210 non-null   float64\n",
      " 22  wire_3              2210 non-null   float64\n",
      " 23  wire_4              2210 non-null   float64\n",
      " 24  wire_6              2210 non-null   float64\n",
      " 25  wire_7              2210 non-null   float64\n",
      " 26  wire_8              2210 non-null   float64\n",
      " 27  wire_9              2210 non-null   float64\n",
      "dtypes: float64(11), int16(16), int8(1)\n",
      "memory usage: 278.4 KB\n"
     ]
    }
   ],
   "source": [
    "data_steel = data_steel.fillna(0)\n",
    "data_steel['start_temp'] = pd.to_numeric(data_steel['start_temp'], downcast='integer')\n",
    "data_steel['end_temp'] = pd.to_numeric(data_steel['end_temp'], downcast='integer')\n",
    "for i in range(1,16):\n",
    "    data_steel[f'bulk_{i}'] = pd.to_numeric(data_steel[f'bulk_{i}'], downcast='integer')\n",
    "data_steel.info()"
   ]
  },
  {
   "cell_type": "markdown",
   "metadata": {},
   "source": [
    "Изучим распределение данных."
   ]
  },
  {
   "cell_type": "code",
   "execution_count": 54,
   "metadata": {
    "scrolled": false
   },
   "outputs": [
    {
     "data": {
      "text/plain": [
       "<AxesSubplot:>"
      ]
     },
     "execution_count": 54,
     "metadata": {},
     "output_type": "execute_result"
    },
    {
     "data": {
      "image/png": "[encoded data removed]",
      "text/plain": [
       "<Figure size 1152x720 with 1 Axes>"
      ]
     },
     "metadata": {
      "needs_background": "light"
     },
     "output_type": "display_data"
    }
   ],
   "source": [
    "data_steel.boxplot(column='start_temp', figsize=(16,10))"
   ]
  },
  {
   "cell_type": "markdown",
   "metadata": {},
   "source": [
    "При минимальной температуре плавления металлов 1400 градусов, отмечаются значения сильно ниже, определим их как выбросы и удалим."
   ]
  },
  {
   "cell_type": "code",
   "execution_count": 55,
   "metadata": {},
   "outputs": [],
   "source": [
    "data_steel = data_steel.query(\"start_temp > 1400\")"
   ]
  },
  {
   "cell_type": "code",
   "execution_count": 56,
   "metadata": {},
   "outputs": [
    {
     "data": {
      "text/plain": [
       "<AxesSubplot:>"
      ]
     },
     "execution_count": 56,
     "metadata": {},
     "output_type": "execute_result"
    },
    {
     "data": {
      "image/png": "[encoded data removed]",
      "text/plain": [
       "<Figure size 1152x720 with 1 Axes>"
      ]
     },
     "metadata": {
      "needs_background": "light"
     },
     "output_type": "display_data"
    }
   ],
   "source": [
    "data_steel.boxplot(column='start_temp', figsize=(16,10))"
   ]
  },
  {
   "cell_type": "code",
   "execution_count": 57,
   "metadata": {},
   "outputs": [
    {
     "data": {
      "text/plain": [
       "<AxesSubplot:>"
      ]
     },
     "execution_count": 57,
     "metadata": {},
     "output_type": "execute_result"
    },
    {
     "data": {
      "image/png": "[encoded data removed]",
      "text/plain": [
       "<Figure size 1152x720 with 1 Axes>"
      ]
     },
     "metadata": {
      "needs_background": "light"
     },
     "output_type": "display_data"
    }
   ],
   "source": [
    "data_steel.boxplot(column='end_temp', figsize=(16,10))"
   ]
  },
  {
   "cell_type": "code",
   "execution_count": 58,
   "metadata": {},
   "outputs": [
    {
     "data": {
      "text/plain": [
       "<AxesSubplot:>"
      ]
     },
     "execution_count": 58,
     "metadata": {},
     "output_type": "execute_result"
    },
    {
     "data": {
      "image/png": "[encoded data removed]",
      "text/plain": [
       "<Figure size 1152x720 with 1 Axes>"
      ]
     },
     "metadata": {
      "needs_background": "light"
     },
     "output_type": "display_data"
    }
   ],
   "source": [
    "data_steel.boxplot(column='sum_active_power', figsize=(16,10))"
   ]
  },
  {
   "cell_type": "code",
   "execution_count": 59,
   "metadata": {},
   "outputs": [
    {
     "data": {
      "text/plain": [
       "<AxesSubplot:>"
      ]
     },
     "execution_count": 59,
     "metadata": {},
     "output_type": "execute_result"
    },
    {
     "data": {
      "image/png": "[encoded data removed]",
      "text/plain": [
       "<Figure size 1152x720 with 1 Axes>"
      ]
     },
     "metadata": {
      "needs_background": "light"
     },
     "output_type": "display_data"
    }
   ],
   "source": [
    "data_steel.boxplot(column='sum_reactive_power', figsize=(16,10))"
   ]
  },
  {
   "cell_type": "code",
   "execution_count": 60,
   "metadata": {},
   "outputs": [
    {
     "data": {
      "text/plain": [
       "<AxesSubplot:>"
      ]
     },
     "execution_count": 60,
     "metadata": {},
     "output_type": "execute_result"
    },
    {
     "data": {
      "image/png": "[encoded data removed]",
      "text/plain": [
       "<Figure size 1152x720 with 1 Axes>"
      ]
     },
     "metadata": {
      "needs_background": "light"
     },
     "output_type": "display_data"
    }
   ],
   "source": [
    "data_steel.boxplot(column='gas', figsize=(16,10))"
   ]
  },
  {
   "cell_type": "markdown",
   "metadata": {},
   "source": [
    "Выполним оценку мультиколлинеарности и отсутствие зависимостей между целевым признаком и остальными."
   ]
  },
  {
   "cell_type": "code",
   "execution_count": 61,
   "metadata": {},
   "outputs": [
    {
     "data": {
      "image/png": "[encoded data removed]",
      "text/plain": [
       "<Figure size 1440x1440 with 1 Axes>"
      ]
     },
     "metadata": {
      "needs_background": "light"
     },
     "output_type": "display_data"
    }
   ],
   "source": [
    "data_steel_knn = data_steel.copy()\n",
    "corr_heatmap_data = data_steel_knn.corr()\n",
    "\n",
    "fig, ax = plt.subplots(figsize=(20,20))\n",
    "ax.set_xticks(np.arange(len(corr_heatmap_data.index)))\n",
    "ax.set_yticks(np.arange(len(corr_heatmap_data.index)))\n",
    "\n",
    "ax.set_xticklabels(corr_heatmap_data.index)\n",
    "ax.set_yticklabels(corr_heatmap_data.index)\n",
    "\n",
    "plt.setp(ax.get_xticklabels(), rotation=45, ha=\"right\",\n",
    "         rotation_mode=\"anchor\")\n",
    "\n",
    "data = corr_heatmap_data.values\n",
    "\n",
    "for i in range(len(corr_heatmap_data.index)):\n",
    "    for j in range(len(corr_heatmap_data.index)):\n",
    "        text = ax.text(j, i, '{:.2}'.format(data[i, j]),\n",
    "                       ha=\"center\", va=\"center\", color=\"w\")\n",
    "        \n",
    "im = ax.imshow(corr_heatmap_data.corr(), cmap='Reds')"
   ]
  },
  {
   "cell_type": "markdown",
   "metadata": {},
   "source": [
    "Из heatmap видно что есть сильные прямопропоциональные зависимости между sum_active_power и sum_reactive_power и bulk_9 и wire_8. Так как они дублируют по сути друг друга, удалим из обучения sum_reactive_power и wire_8."
   ]
  },
  {
   "cell_type": "code",
   "execution_count": 62,
   "metadata": {},
   "outputs": [],
   "source": [
    "data_steel_knn = data_steel_knn.drop(['sum_reactive_power', 'wire_8'], axis=1)"
   ]
  },
  {
   "cell_type": "markdown",
   "metadata": {},
   "source": [
    "Оценим, какие столбцы влияют на результат end_temp."
   ]
  },
  {
   "cell_type": "code",
   "execution_count": 63,
   "metadata": {},
   "outputs": [
    {
     "data": {
      "text/plain": [
       "start_temp          0.299206\n",
       "end_temp            1.000000\n",
       "sum_active_power    0.296610\n",
       "bulk_1             -0.073801\n",
       "bulk_2             -0.084997\n",
       "bulk_3             -0.042944\n",
       "bulk_4              0.195423\n",
       "bulk_5             -0.030069\n",
       "bulk_6             -0.199802\n",
       "bulk_7             -0.110294\n",
       "bulk_8             -0.027373\n",
       "bulk_9             -0.017085\n",
       "bulk_10             0.065518\n",
       "bulk_11            -0.106140\n",
       "bulk_12             0.275465\n",
       "bulk_13            -0.006325\n",
       "bulk_14             0.116793\n",
       "bulk_15             0.271303\n",
       "gas                 0.060722\n",
       "wire_1              0.324132\n",
       "wire_2             -0.221917\n",
       "wire_3             -0.049670\n",
       "wire_4             -0.163916\n",
       "wire_6             -0.086973\n",
       "wire_7             -0.140636\n",
       "wire_9             -0.032042\n",
       "Name: end_temp, dtype: float64"
      ]
     },
     "execution_count": 63,
     "metadata": {},
     "output_type": "execute_result"
    }
   ],
   "source": [
    "data_steel_knn.corr()['end_temp'] "
   ]
  },
  {
   "cell_type": "markdown",
   "metadata": {},
   "source": [
    "Как видно, не все столбцы значимо влияют на данные. Для выявления аномалий возьмем те, чья корреляция больше 10%"
   ]
  },
  {
   "cell_type": "code",
   "execution_count": 64,
   "metadata": {},
   "outputs": [
    {
     "data": {
      "text/plain": [
       "start_temp           True\n",
       "end_temp             True\n",
       "sum_active_power     True\n",
       "bulk_1              False\n",
       "bulk_2              False\n",
       "bulk_3              False\n",
       "bulk_4               True\n",
       "bulk_5              False\n",
       "bulk_6               True\n",
       "bulk_7               True\n",
       "bulk_8              False\n",
       "bulk_9              False\n",
       "bulk_10             False\n",
       "bulk_11              True\n",
       "bulk_12              True\n",
       "bulk_13             False\n",
       "bulk_14              True\n",
       "bulk_15              True\n",
       "gas                 False\n",
       "wire_1               True\n",
       "wire_2               True\n",
       "wire_3              False\n",
       "wire_4               True\n",
       "wire_6              False\n",
       "wire_7               True\n",
       "wire_9              False\n",
       "Name: end_temp, dtype: bool"
      ]
     },
     "execution_count": 64,
     "metadata": {},
     "output_type": "execute_result"
    }
   ],
   "source": [
    "data_steel_knn.corr()['end_temp'].abs() >= 0.1"
   ]
  },
  {
   "cell_type": "code",
   "execution_count": 65,
   "metadata": {},
   "outputs": [
    {
     "data": {
      "text/html": [
       "<div>\n",
       "<style scoped>\n",
       "    .dataframe tbody tr th:only-of-type {\n",
       "        vertical-align: middle;\n",
       "    }\n",
       "\n",
       "    .dataframe tbody tr th {\n",
       "        vertical-align: top;\n",
       "    }\n",
       "\n",
       "    .dataframe thead th {\n",
       "        text-align: right;\n",
       "    }\n",
       "</style>\n",
       "<table border=\"1\" class=\"dataframe\">\n",
       "  <thead>\n",
       "    <tr style=\"text-align: right;\">\n",
       "      <th></th>\n",
       "      <th>start_temp</th>\n",
       "      <th>end_temp</th>\n",
       "      <th>sum_active_power</th>\n",
       "      <th>bulk_1</th>\n",
       "      <th>bulk_2</th>\n",
       "      <th>bulk_3</th>\n",
       "      <th>bulk_4</th>\n",
       "      <th>bulk_5</th>\n",
       "      <th>bulk_6</th>\n",
       "      <th>bulk_7</th>\n",
       "      <th>...</th>\n",
       "      <th>bulk_14</th>\n",
       "      <th>bulk_15</th>\n",
       "      <th>gas</th>\n",
       "      <th>wire_1</th>\n",
       "      <th>wire_2</th>\n",
       "      <th>wire_3</th>\n",
       "      <th>wire_4</th>\n",
       "      <th>wire_6</th>\n",
       "      <th>wire_7</th>\n",
       "      <th>wire_9</th>\n",
       "    </tr>\n",
       "    <tr>\n",
       "      <th>key</th>\n",
       "      <th></th>\n",
       "      <th></th>\n",
       "      <th></th>\n",
       "      <th></th>\n",
       "      <th></th>\n",
       "      <th></th>\n",
       "      <th></th>\n",
       "      <th></th>\n",
       "      <th></th>\n",
       "      <th></th>\n",
       "      <th></th>\n",
       "      <th></th>\n",
       "      <th></th>\n",
       "      <th></th>\n",
       "      <th></th>\n",
       "      <th></th>\n",
       "      <th></th>\n",
       "      <th></th>\n",
       "      <th></th>\n",
       "      <th></th>\n",
       "      <th></th>\n",
       "    </tr>\n",
       "  </thead>\n",
       "  <tbody>\n",
       "    <tr>\n",
       "      <th>1</th>\n",
       "      <td>1571</td>\n",
       "      <td>1613</td>\n",
       "      <td>4.878147</td>\n",
       "      <td>0</td>\n",
       "      <td>0</td>\n",
       "      <td>0</td>\n",
       "      <td>43</td>\n",
       "      <td>0</td>\n",
       "      <td>0</td>\n",
       "      <td>0</td>\n",
       "      <td>...</td>\n",
       "      <td>150</td>\n",
       "      <td>154</td>\n",
       "      <td>29.749986</td>\n",
       "      <td>60.059998</td>\n",
       "      <td>0.00000</td>\n",
       "      <td>0.0</td>\n",
       "      <td>0.0</td>\n",
       "      <td>0.0</td>\n",
       "      <td>0.0</td>\n",
       "      <td>0.0</td>\n",
       "    </tr>\n",
       "    <tr>\n",
       "      <th>2</th>\n",
       "      <td>1581</td>\n",
       "      <td>1602</td>\n",
       "      <td>3.052598</td>\n",
       "      <td>0</td>\n",
       "      <td>0</td>\n",
       "      <td>0</td>\n",
       "      <td>73</td>\n",
       "      <td>0</td>\n",
       "      <td>0</td>\n",
       "      <td>0</td>\n",
       "      <td>...</td>\n",
       "      <td>149</td>\n",
       "      <td>154</td>\n",
       "      <td>12.555561</td>\n",
       "      <td>96.052315</td>\n",
       "      <td>0.00000</td>\n",
       "      <td>0.0</td>\n",
       "      <td>0.0</td>\n",
       "      <td>0.0</td>\n",
       "      <td>0.0</td>\n",
       "      <td>0.0</td>\n",
       "    </tr>\n",
       "    <tr>\n",
       "      <th>3</th>\n",
       "      <td>1596</td>\n",
       "      <td>1599</td>\n",
       "      <td>2.525882</td>\n",
       "      <td>0</td>\n",
       "      <td>0</td>\n",
       "      <td>0</td>\n",
       "      <td>34</td>\n",
       "      <td>0</td>\n",
       "      <td>0</td>\n",
       "      <td>0</td>\n",
       "      <td>...</td>\n",
       "      <td>152</td>\n",
       "      <td>153</td>\n",
       "      <td>28.554793</td>\n",
       "      <td>91.160157</td>\n",
       "      <td>0.00000</td>\n",
       "      <td>0.0</td>\n",
       "      <td>0.0</td>\n",
       "      <td>0.0</td>\n",
       "      <td>0.0</td>\n",
       "      <td>0.0</td>\n",
       "    </tr>\n",
       "    <tr>\n",
       "      <th>4</th>\n",
       "      <td>1601</td>\n",
       "      <td>1625</td>\n",
       "      <td>3.209250</td>\n",
       "      <td>0</td>\n",
       "      <td>0</td>\n",
       "      <td>0</td>\n",
       "      <td>81</td>\n",
       "      <td>0</td>\n",
       "      <td>0</td>\n",
       "      <td>0</td>\n",
       "      <td>...</td>\n",
       "      <td>153</td>\n",
       "      <td>154</td>\n",
       "      <td>18.841219</td>\n",
       "      <td>89.063515</td>\n",
       "      <td>0.00000</td>\n",
       "      <td>0.0</td>\n",
       "      <td>0.0</td>\n",
       "      <td>0.0</td>\n",
       "      <td>0.0</td>\n",
       "      <td>0.0</td>\n",
       "    </tr>\n",
       "    <tr>\n",
       "      <th>5</th>\n",
       "      <td>1576</td>\n",
       "      <td>1602</td>\n",
       "      <td>3.347173</td>\n",
       "      <td>0</td>\n",
       "      <td>0</td>\n",
       "      <td>0</td>\n",
       "      <td>78</td>\n",
       "      <td>0</td>\n",
       "      <td>0</td>\n",
       "      <td>0</td>\n",
       "      <td>...</td>\n",
       "      <td>151</td>\n",
       "      <td>152</td>\n",
       "      <td>5.413692</td>\n",
       "      <td>89.238236</td>\n",
       "      <td>9.11456</td>\n",
       "      <td>0.0</td>\n",
       "      <td>0.0</td>\n",
       "      <td>0.0</td>\n",
       "      <td>0.0</td>\n",
       "      <td>0.0</td>\n",
       "    </tr>\n",
       "    <tr>\n",
       "      <th>...</th>\n",
       "      <td>...</td>\n",
       "      <td>...</td>\n",
       "      <td>...</td>\n",
       "      <td>...</td>\n",
       "      <td>...</td>\n",
       "      <td>...</td>\n",
       "      <td>...</td>\n",
       "      <td>...</td>\n",
       "      <td>...</td>\n",
       "      <td>...</td>\n",
       "      <td>...</td>\n",
       "      <td>...</td>\n",
       "      <td>...</td>\n",
       "      <td>...</td>\n",
       "      <td>...</td>\n",
       "      <td>...</td>\n",
       "      <td>...</td>\n",
       "      <td>...</td>\n",
       "      <td>...</td>\n",
       "      <td>...</td>\n",
       "      <td>...</td>\n",
       "    </tr>\n",
       "    <tr>\n",
       "      <th>2495</th>\n",
       "      <td>1570</td>\n",
       "      <td>1591</td>\n",
       "      <td>3.210690</td>\n",
       "      <td>0</td>\n",
       "      <td>0</td>\n",
       "      <td>21</td>\n",
       "      <td>0</td>\n",
       "      <td>0</td>\n",
       "      <td>0</td>\n",
       "      <td>0</td>\n",
       "      <td>...</td>\n",
       "      <td>129</td>\n",
       "      <td>223</td>\n",
       "      <td>7.125735</td>\n",
       "      <td>89.150879</td>\n",
       "      <td>0.00000</td>\n",
       "      <td>0.0</td>\n",
       "      <td>0.0</td>\n",
       "      <td>0.0</td>\n",
       "      <td>0.0</td>\n",
       "      <td>0.0</td>\n",
       "    </tr>\n",
       "    <tr>\n",
       "      <th>2496</th>\n",
       "      <td>1554</td>\n",
       "      <td>1591</td>\n",
       "      <td>4.203064</td>\n",
       "      <td>0</td>\n",
       "      <td>0</td>\n",
       "      <td>0</td>\n",
       "      <td>63</td>\n",
       "      <td>0</td>\n",
       "      <td>0</td>\n",
       "      <td>0</td>\n",
       "      <td>...</td>\n",
       "      <td>129</td>\n",
       "      <td>226</td>\n",
       "      <td>9.412616</td>\n",
       "      <td>114.179527</td>\n",
       "      <td>0.00000</td>\n",
       "      <td>0.0</td>\n",
       "      <td>0.0</td>\n",
       "      <td>0.0</td>\n",
       "      <td>0.0</td>\n",
       "      <td>0.0</td>\n",
       "    </tr>\n",
       "    <tr>\n",
       "      <th>2497</th>\n",
       "      <td>1571</td>\n",
       "      <td>1589</td>\n",
       "      <td>2.212379</td>\n",
       "      <td>0</td>\n",
       "      <td>0</td>\n",
       "      <td>0</td>\n",
       "      <td>85</td>\n",
       "      <td>0</td>\n",
       "      <td>0</td>\n",
       "      <td>0</td>\n",
       "      <td>...</td>\n",
       "      <td>124</td>\n",
       "      <td>226</td>\n",
       "      <td>6.271699</td>\n",
       "      <td>94.086723</td>\n",
       "      <td>9.04800</td>\n",
       "      <td>0.0</td>\n",
       "      <td>0.0</td>\n",
       "      <td>0.0</td>\n",
       "      <td>0.0</td>\n",
       "      <td>0.0</td>\n",
       "    </tr>\n",
       "    <tr>\n",
       "      <th>2498</th>\n",
       "      <td>1591</td>\n",
       "      <td>1594</td>\n",
       "      <td>3.408725</td>\n",
       "      <td>0</td>\n",
       "      <td>0</td>\n",
       "      <td>90</td>\n",
       "      <td>0</td>\n",
       "      <td>0</td>\n",
       "      <td>0</td>\n",
       "      <td>0</td>\n",
       "      <td>...</td>\n",
       "      <td>129</td>\n",
       "      <td>207</td>\n",
       "      <td>14.953657</td>\n",
       "      <td>118.110717</td>\n",
       "      <td>0.00000</td>\n",
       "      <td>0.0</td>\n",
       "      <td>0.0</td>\n",
       "      <td>0.0</td>\n",
       "      <td>0.0</td>\n",
       "      <td>0.0</td>\n",
       "    </tr>\n",
       "    <tr>\n",
       "      <th>2499</th>\n",
       "      <td>1569</td>\n",
       "      <td>1603</td>\n",
       "      <td>4.098431</td>\n",
       "      <td>0</td>\n",
       "      <td>0</td>\n",
       "      <td>47</td>\n",
       "      <td>0</td>\n",
       "      <td>0</td>\n",
       "      <td>0</td>\n",
       "      <td>0</td>\n",
       "      <td>...</td>\n",
       "      <td>126</td>\n",
       "      <td>227</td>\n",
       "      <td>11.336151</td>\n",
       "      <td>110.160958</td>\n",
       "      <td>50.00528</td>\n",
       "      <td>0.0</td>\n",
       "      <td>0.0</td>\n",
       "      <td>0.0</td>\n",
       "      <td>0.0</td>\n",
       "      <td>0.0</td>\n",
       "    </tr>\n",
       "  </tbody>\n",
       "</table>\n",
       "<p>2206 rows × 26 columns</p>\n",
       "</div>"
      ],
      "text/plain": [
       "      start_temp  end_temp  sum_active_power  bulk_1  bulk_2  bulk_3  bulk_4  \\\n",
       "key                                                                            \n",
       "1           1571      1613          4.878147       0       0       0      43   \n",
       "2           1581      1602          3.052598       0       0       0      73   \n",
       "3           1596      1599          2.525882       0       0       0      34   \n",
       "4           1601      1625          3.209250       0       0       0      81   \n",
       "5           1576      1602          3.347173       0       0       0      78   \n",
       "...          ...       ...               ...     ...     ...     ...     ...   \n",
       "2495        1570      1591          3.210690       0       0      21       0   \n",
       "2496        1554      1591          4.203064       0       0       0      63   \n",
       "2497        1571      1589          2.212379       0       0       0      85   \n",
       "2498        1591      1594          3.408725       0       0      90       0   \n",
       "2499        1569      1603          4.098431       0       0      47       0   \n",
       "\n",
       "      bulk_5  bulk_6  bulk_7  ...  bulk_14  bulk_15        gas      wire_1  \\\n",
       "key                           ...                                            \n",
       "1          0       0       0  ...      150      154  29.749986   60.059998   \n",
       "2          0       0       0  ...      149      154  12.555561   96.052315   \n",
       "3          0       0       0  ...      152      153  28.554793   91.160157   \n",
       "4          0       0       0  ...      153      154  18.841219   89.063515   \n",
       "5          0       0       0  ...      151      152   5.413692   89.238236   \n",
       "...      ...     ...     ...  ...      ...      ...        ...         ...   \n",
       "2495       0       0       0  ...      129      223   7.125735   89.150879   \n",
       "2496       0       0       0  ...      129      226   9.412616  114.179527   \n",
       "2497       0       0       0  ...      124      226   6.271699   94.086723   \n",
       "2498       0       0       0  ...      129      207  14.953657  118.110717   \n",
       "2499       0       0       0  ...      126      227  11.336151  110.160958   \n",
       "\n",
       "        wire_2  wire_3  wire_4  wire_6  wire_7  wire_9  \n",
       "key                                                     \n",
       "1      0.00000     0.0     0.0     0.0     0.0     0.0  \n",
       "2      0.00000     0.0     0.0     0.0     0.0     0.0  \n",
       "3      0.00000     0.0     0.0     0.0     0.0     0.0  \n",
       "4      0.00000     0.0     0.0     0.0     0.0     0.0  \n",
       "5      9.11456     0.0     0.0     0.0     0.0     0.0  \n",
       "...        ...     ...     ...     ...     ...     ...  \n",
       "2495   0.00000     0.0     0.0     0.0     0.0     0.0  \n",
       "2496   0.00000     0.0     0.0     0.0     0.0     0.0  \n",
       "2497   9.04800     0.0     0.0     0.0     0.0     0.0  \n",
       "2498   0.00000     0.0     0.0     0.0     0.0     0.0  \n",
       "2499  50.00528     0.0     0.0     0.0     0.0     0.0  \n",
       "\n",
       "[2206 rows x 26 columns]"
      ]
     },
     "execution_count": 65,
     "metadata": {},
     "output_type": "execute_result"
    }
   ],
   "source": [
    "data_steel_knn"
   ]
  },
  {
   "cell_type": "markdown",
   "metadata": {},
   "source": [
    "# Выводы по пункту 2"
   ]
  },
  {
   "cell_type": "markdown",
   "metadata": {},
   "source": [
    "Данные были подготовлены для обучения к модели. Целевым признаком является столбец end_temp. Остальные столбцы будут использованы для предсказания."
   ]
  },
  {
   "cell_type": "markdown",
   "metadata": {},
   "source": []
  },
  {
   "cell_type": "code",
   "execution_count": null,
   "metadata": {},
   "outputs": [],
   "source": []
  },
  {
   "cell_type": "markdown",
   "metadata": {},
   "source": [
    "## Обучение модели\n"
   ]
  },
  {
   "cell_type": "markdown",
   "metadata": {},
   "source": [
    "Разобьем данные на train и test к соотношению 75/25. Выберем количество кросс-валидаций равным 5."
   ]
  },
  {
   "cell_type": "code",
   "execution_count": 67,
   "metadata": {},
   "outputs": [],
   "source": [
    "random_state = 19042023\n",
    "# features = data_steel.drop('end_temp', axis=1)\n",
    "# target = data_steel['end_temp']\n",
    "\n",
    "features = data_steel_knn.drop('end_temp', axis=1)\n",
    "target = data_steel_knn['end_temp']\n",
    "\n",
    "features_train, features_test, target_train, target_test = train_test_split(\n",
    "                                                            features, \n",
    "                                                            target, \n",
    "                                                            test_size=0.25, \n",
    "                                                            random_state=random_state)\n",
    "cv_counts = 5"
   ]
  },
  {
   "cell_type": "markdown",
   "metadata": {},
   "source": [
    "Выберем следующие модели:\n",
    "\n",
    "-LinearRegression\n",
    "\n",
    "-RandomForestRegressor\n",
    "\n",
    "-CatBoostRegressor\n",
    "\n",
    "-LGBMRegressor\n",
    "\n",
    "-XGBRegressor"
   ]
  },
  {
   "cell_type": "markdown",
   "metadata": {},
   "source": [
    "### LinearRegression"
   ]
  },
  {
   "cell_type": "code",
   "execution_count": 68,
   "metadata": {},
   "outputs": [
    {
     "name": "stdout",
     "output_type": "stream",
     "text": [
      "# Train for mean_absolute_error\n",
      "\n",
      "Mean MAE from CV of LinearRegression = 6.144276250203047\n",
      "CPU times: user 341 ms, sys: 473 ms, total: 814 ms\n",
      "Wall time: 763 ms\n"
     ]
    }
   ],
   "source": [
    "%%time\n",
    "\n",
    "regressor = LinearRegression()\n",
    "print('# Train for mean_absolute_error')\n",
    "print()\n",
    "cv_MAE_LR = (cross_val_score(regressor, \n",
    "                             features_train, \n",
    "                             target_train, \n",
    "                             cv=cv_counts, \n",
    "                             scoring='neg_mean_absolute_error').mean() * -1)\n",
    "\n",
    "print('Mean MAE from CV of LinearRegression =', cv_MAE_LR)\n",
    "\n"
   ]
  },
  {
   "cell_type": "markdown",
   "metadata": {},
   "source": [
    "### RandomForestRegressor"
   ]
  },
  {
   "cell_type": "code",
   "execution_count": 69,
   "metadata": {},
   "outputs": [
    {
     "name": "stdout",
     "output_type": "stream",
     "text": [
      "# Tuning hyper-parameters for mean_absolute_error\n",
      "\n",
      "Best parameters set found on development set:\n",
      "\n",
      "{'criterion': 'mse', 'n_estimators': 850, 'random_state': 19042023}\n",
      "\n",
      "Grid scores on development set:\n",
      "\n",
      "6.117957 for {'criterion': 'mse', 'n_estimators': 100, 'random_state': 19042023}\n",
      "6.121555 for {'criterion': 'mse', 'n_estimators': 150, 'random_state': 19042023}\n",
      "6.118221 for {'criterion': 'mse', 'n_estimators': 200, 'random_state': 19042023}\n",
      "6.119773 for {'criterion': 'mse', 'n_estimators': 250, 'random_state': 19042023}\n",
      "6.114017 for {'criterion': 'mse', 'n_estimators': 300, 'random_state': 19042023}\n",
      "6.112280 for {'criterion': 'mse', 'n_estimators': 350, 'random_state': 19042023}\n",
      "6.107713 for {'criterion': 'mse', 'n_estimators': 400, 'random_state': 19042023}\n",
      "6.106456 for {'criterion': 'mse', 'n_estimators': 450, 'random_state': 19042023}\n",
      "6.108604 for {'criterion': 'mse', 'n_estimators': 500, 'random_state': 19042023}\n",
      "6.104127 for {'criterion': 'mse', 'n_estimators': 550, 'random_state': 19042023}\n",
      "6.104216 for {'criterion': 'mse', 'n_estimators': 600, 'random_state': 19042023}\n",
      "6.106187 for {'criterion': 'mse', 'n_estimators': 650, 'random_state': 19042023}\n",
      "6.106908 for {'criterion': 'mse', 'n_estimators': 700, 'random_state': 19042023}\n",
      "6.104610 for {'criterion': 'mse', 'n_estimators': 750, 'random_state': 19042023}\n",
      "6.105255 for {'criterion': 'mse', 'n_estimators': 800, 'random_state': 19042023}\n",
      "6.102784 for {'criterion': 'mse', 'n_estimators': 850, 'random_state': 19042023}\n",
      "6.103744 for {'criterion': 'mse', 'n_estimators': 900, 'random_state': 19042023}\n",
      "6.105371 for {'criterion': 'mse', 'n_estimators': 950, 'random_state': 19042023}\n",
      "6.103446 for {'criterion': 'mse', 'n_estimators': 1000, 'random_state': 19042023}\n",
      "\n",
      "CPU times: user 9min 7s, sys: 1.84 s, total: 9min 9s\n",
      "Wall time: 9min 16s\n"
     ]
    }
   ],
   "source": [
    "%%time\n",
    "\n",
    "regressor = RandomForestRegressor() \n",
    "hyperparams = [{'criterion':['mse'],\n",
    "                'n_estimators':[x for x in range(100, 1001, 50)], \n",
    "                'random_state':[random_state]}]\n",
    "# hyperparams = [{'criterion':['mse'],\n",
    "#                 'n_estimators':[300], \n",
    "#                 'random_state':[random_state]}]\n",
    "\n",
    "print('# Tuning hyper-parameters for mean_absolute_error')\n",
    "print()\n",
    "clf = GridSearchCV(regressor, hyperparams, scoring='neg_mean_absolute_error', cv=cv_counts)\n",
    "clf.fit(features_train, target_train)\n",
    "print(\"Best parameters set found on development set:\")\n",
    "print()\n",
    "best_params_RFR = clf.best_params_\n",
    "print(clf.best_params_)\n",
    "print()\n",
    "print(\"Grid scores on development set:\")\n",
    "print()\n",
    "means = clf.cv_results_['mean_test_score']\n",
    "stds = clf.cv_results_['std_test_score']\n",
    "for mean, std, params in zip(means, stds, clf.cv_results_['params']):\n",
    "    print(\"%0.6f for %r\"% ((mean*-1), params))\n",
    "print()\n",
    "\n",
    "cv_MAE_RFR = (max(means)*-1)\n",
    "\n"
   ]
  },
  {
   "cell_type": "markdown",
   "metadata": {},
   "source": [
    "### CatBoostRegressor"
   ]
  },
  {
   "cell_type": "code",
   "execution_count": 70,
   "metadata": {},
   "outputs": [
    {
     "name": "stdout",
     "output_type": "stream",
     "text": [
      "# Train for mean_absolute_error\n",
      "\n",
      "Mean MAE from CV of CatBoostRegressor = 5.943057490535574\n",
      "CPU times: user 20 s, sys: 635 ms, total: 20.6 s\n",
      "Wall time: 32.6 s\n"
     ]
    }
   ],
   "source": [
    "%%time\n",
    "\n",
    "regressor = CatBoostRegressor(verbose=False, random_state=random_state)\n",
    "print('# Train for mean_absolute_error')\n",
    "print()\n",
    "cv_MAE_CBR = (cross_val_score(regressor, \n",
    "                             features_train, \n",
    "                             target_train, \n",
    "                             cv=cv_counts, \n",
    "                             scoring='neg_mean_absolute_error').mean() * -1)\n",
    "print('Mean MAE from CV of CatBoostRegressor =', cv_MAE_CBR)\n",
    "\n"
   ]
  },
  {
   "cell_type": "code",
   "execution_count": 71,
   "metadata": {},
   "outputs": [
    {
     "data": {
      "text/plain": [
       "{'nan_mode': 'Min',\n",
       " 'eval_metric': 'RMSE',\n",
       " 'iterations': 1000,\n",
       " 'sampling_frequency': 'PerTree',\n",
       " 'leaf_estimation_method': 'Newton',\n",
       " 'grow_policy': 'SymmetricTree',\n",
       " 'penalties_coefficient': 1,\n",
       " 'boosting_type': 'Plain',\n",
       " 'model_shrink_mode': 'Constant',\n",
       " 'feature_border_type': 'GreedyLogSum',\n",
       " 'bayesian_matrix_reg': 0.10000000149011612,\n",
       " 'force_unit_auto_pair_weights': False,\n",
       " 'l2_leaf_reg': 3,\n",
       " 'random_strength': 1,\n",
       " 'rsm': 1,\n",
       " 'boost_from_average': True,\n",
       " 'model_size_reg': 0.5,\n",
       " 'pool_metainfo_options': {'tags': {}},\n",
       " 'subsample': 0.800000011920929,\n",
       " 'use_best_model': False,\n",
       " 'random_seed': 19042023,\n",
       " 'depth': 6,\n",
       " 'posterior_sampling': False,\n",
       " 'border_count': 254,\n",
       " 'classes_count': 0,\n",
       " 'auto_class_weights': 'None',\n",
       " 'sparse_features_conflict_fraction': 0,\n",
       " 'leaf_estimation_backtracking': 'AnyImprovement',\n",
       " 'best_model_min_trees': 1,\n",
       " 'model_shrink_rate': 0,\n",
       " 'min_data_in_leaf': 1,\n",
       " 'loss_function': 'RMSE',\n",
       " 'learning_rate': 0.04433099925518036,\n",
       " 'score_function': 'Cosine',\n",
       " 'task_type': 'CPU',\n",
       " 'leaf_estimation_iterations': 1,\n",
       " 'bootstrap_type': 'MVS',\n",
       " 'max_leaves': 64}"
      ]
     },
     "execution_count": 71,
     "metadata": {},
     "output_type": "execute_result"
    }
   ],
   "source": [
    "best_params_CBR = CatBoostRegressor(verbose=False, \n",
    "                                    random_state=random_state).fit(features_train, \n",
    "                                        target_train).get_all_params()\n",
    "best_params_CBR\n",
    "\n"
   ]
  },
  {
   "cell_type": "markdown",
   "metadata": {},
   "source": [
    "### LGBMRegressor"
   ]
  },
  {
   "cell_type": "code",
   "execution_count": 72,
   "metadata": {},
   "outputs": [
    {
     "name": "stdout",
     "output_type": "stream",
     "text": [
      "# Tuning hyper-parameters for mean_absolute_error\n",
      "\n",
      "Best parameters set found on development set:\n",
      "\n",
      "{'learning_rate': 0.05, 'num_leaves': 15, 'random_state': 19042023}\n",
      "\n",
      "Grid scores on development set:\n",
      "\n",
      "6.106712 for {'learning_rate': 0.05, 'num_leaves': 15, 'random_state': 19042023}\n",
      "\n",
      "CPU times: user 21min 46s, sys: 14.5 s, total: 22min\n",
      "Wall time: 22min 28s\n"
     ]
    }
   ],
   "source": [
    "%%time\n",
    "\n",
    "regressor = LGBMRegressor() \n",
    "#hyperparams = [{'num_leaves':[x for x in range(10,31)], \n",
    "#                'learning_rate':[x/100 for x in range(1, 11)],\n",
    "#                'random_state':[random_state]}]\n",
    "hyperparams = [{'num_leaves':[15], \n",
    "                 'learning_rate':[0.05],\n",
    "                 'random_state':[random_state]}]\n",
    "\n",
    "\n",
    "print('# Tuning hyper-parameters for mean_absolute_error')\n",
    "print()\n",
    "clf = GridSearchCV(regressor, hyperparams, scoring='neg_mean_absolute_error', cv=cv_counts)\n",
    "clf.fit(features_train, target_train)\n",
    "print(\"Best parameters set found on development set:\")\n",
    "print()\n",
    "best_params_LGBMR = clf.best_params_\n",
    "print(clf.best_params_)\n",
    "print()\n",
    "print(\"Grid scores on development set:\")\n",
    "print()\n",
    "means = clf.cv_results_['mean_test_score']\n",
    "stds = clf.cv_results_['std_test_score']\n",
    "for mean, std, params in zip(means, stds, clf.cv_results_['params']):\n",
    "    print(\"%0.6f for %r\"% ((mean*-1), params))\n",
    "print()\n",
    "\n",
    "cv_MAE_LGBMR = (max(means)*-1)\n",
    "\n"
   ]
  },
  {
   "cell_type": "markdown",
   "metadata": {},
   "source": [
    "### XGBRegressor"
   ]
  },
  {
   "cell_type": "code",
   "execution_count": 73,
   "metadata": {},
   "outputs": [
    {
     "name": "stdout",
     "output_type": "stream",
     "text": [
      "# Tuning hyper-parameters for mean_absolute_error\n",
      "\n",
      "[17:20:36] WARNING: ../src/learner.cc:576: \n",
      "Parameters: { \"num_leaves\", \"silent\" } might not be used.\n",
      "\n",
      "  This could be a false alarm, with some parameters getting used by language bindings but\n",
      "  then being mistakenly passed down to XGBoost core, or some parameter actually being used\n",
      "  but getting flagged wrongly here. Please open an issue if you find any such cases.\n",
      "\n",
      "\n",
      "[17:22:19] WARNING: ../src/learner.cc:576: \n",
      "Parameters: { \"num_leaves\", \"silent\" } might not be used.\n",
      "\n",
      "  This could be a false alarm, with some parameters getting used by language bindings but\n",
      "  then being mistakenly passed down to XGBoost core, or some parameter actually being used\n",
      "  but getting flagged wrongly here. Please open an issue if you find any such cases.\n",
      "\n",
      "\n",
      "[17:24:00] WARNING: ../src/learner.cc:576: \n",
      "Parameters: { \"num_leaves\", \"silent\" } might not be used.\n",
      "\n",
      "  This could be a false alarm, with some parameters getting used by language bindings but\n",
      "  then being mistakenly passed down to XGBoost core, or some parameter actually being used\n",
      "  but getting flagged wrongly here. Please open an issue if you find any such cases.\n",
      "\n",
      "\n",
      "[17:25:38] WARNING: ../src/learner.cc:576: \n",
      "Parameters: { \"num_leaves\", \"silent\" } might not be used.\n",
      "\n",
      "  This could be a false alarm, with some parameters getting used by language bindings but\n",
      "  then being mistakenly passed down to XGBoost core, or some parameter actually being used\n",
      "  but getting flagged wrongly here. Please open an issue if you find any such cases.\n",
      "\n",
      "\n",
      "[17:27:06] WARNING: ../src/learner.cc:576: \n",
      "Parameters: { \"num_leaves\", \"silent\" } might not be used.\n",
      "\n",
      "  This could be a false alarm, with some parameters getting used by language bindings but\n",
      "  then being mistakenly passed down to XGBoost core, or some parameter actually being used\n",
      "  but getting flagged wrongly here. Please open an issue if you find any such cases.\n",
      "\n",
      "\n",
      "[17:28:27] WARNING: ../src/learner.cc:576: \n",
      "Parameters: { \"num_leaves\", \"silent\" } might not be used.\n",
      "\n",
      "  This could be a false alarm, with some parameters getting used by language bindings but\n",
      "  then being mistakenly passed down to XGBoost core, or some parameter actually being used\n",
      "  but getting flagged wrongly here. Please open an issue if you find any such cases.\n",
      "\n",
      "\n",
      "Best parameters set found on development set:\n",
      "\n",
      "{'learning_rate': 0.16, 'num_leaves': 100, 'random_state': 19042023, 'silent': True}\n",
      "\n",
      "Grid scores on development set:\n",
      "\n",
      "6.067251 for {'learning_rate': 0.16, 'num_leaves': 100, 'random_state': 19042023, 'silent': True}\n",
      "\n",
      "CPU times: user 9min 8s, sys: 6.43 s, total: 9min 15s\n",
      "Wall time: 9min 18s\n"
     ]
    }
   ],
   "source": [
    "%%time\n",
    "\n",
    "regressor = XGBRegressor() \n",
    "#hyperparams = [{'learning_rate':[x/100 for x in range(1, 51)],\n",
    "#                'random_state':[random_state],\n",
    "#                 'silent':[True]}]\n",
    "hyperparams = [{'num_leaves':[100], \n",
    "                 'learning_rate':[0.16],\n",
    "                 'random_state':[random_state],\n",
    "                  'silent':[True]}]\n",
    "\n",
    "\n",
    "print('# Tuning hyper-parameters for mean_absolute_error')\n",
    "print()\n",
    "clf = GridSearchCV(regressor, hyperparams, scoring='neg_mean_absolute_error', cv=cv_counts)\n",
    "clf.fit(features_train, target_train)\n",
    "print(\"Best parameters set found on development set:\")\n",
    "print()\n",
    "best_params_XGBR = clf.best_params_\n",
    "print(clf.best_params_)\n",
    "print()\n",
    "print(\"Grid scores on development set:\")\n",
    "print()\n",
    "means = clf.cv_results_['mean_test_score']\n",
    "stds = clf.cv_results_['std_test_score']\n",
    "for mean, std, params in zip(means, stds, clf.cv_results_['params']):\n",
    "    print(\"%0.6f for %r\"% ((mean*-1), params))\n",
    "print()\n",
    "\n",
    "cv_MAE_XGBR = (max(means)*-1)"
   ]
  },
  {
   "cell_type": "code",
   "execution_count": null,
   "metadata": {},
   "outputs": [],
   "source": []
  },
  {
   "cell_type": "code",
   "execution_count": 74,
   "metadata": {},
   "outputs": [
    {
     "data": {
      "text/html": [
       "<div>\n",
       "<style scoped>\n",
       "    .dataframe tbody tr th:only-of-type {\n",
       "        vertical-align: middle;\n",
       "    }\n",
       "\n",
       "    .dataframe tbody tr th {\n",
       "        vertical-align: top;\n",
       "    }\n",
       "\n",
       "    .dataframe thead th {\n",
       "        text-align: right;\n",
       "    }\n",
       "</style>\n",
       "<table border=\"1\" class=\"dataframe\">\n",
       "  <thead>\n",
       "    <tr style=\"text-align: right;\">\n",
       "      <th></th>\n",
       "      <th>MAE на CV</th>\n",
       "    </tr>\n",
       "  </thead>\n",
       "  <tbody>\n",
       "    <tr>\n",
       "      <th>LinearRegression</th>\n",
       "      <td>6.144276</td>\n",
       "    </tr>\n",
       "    <tr>\n",
       "      <th>RandomForestRegressor</th>\n",
       "      <td>6.102784</td>\n",
       "    </tr>\n",
       "    <tr>\n",
       "      <th>CatBoostRegressor</th>\n",
       "      <td>5.943057</td>\n",
       "    </tr>\n",
       "    <tr>\n",
       "      <th>LGBMRegressor</th>\n",
       "      <td>6.106712</td>\n",
       "    </tr>\n",
       "    <tr>\n",
       "      <th>XGBRegressor</th>\n",
       "      <td>6.067251</td>\n",
       "    </tr>\n",
       "  </tbody>\n",
       "</table>\n",
       "</div>"
      ],
      "text/plain": [
       "                       MAE на CV\n",
       "LinearRegression        6.144276\n",
       "RandomForestRegressor   6.102784\n",
       "CatBoostRegressor       5.943057\n",
       "LGBMRegressor           6.106712\n",
       "XGBRegressor            6.067251"
      ]
     },
     "execution_count": 74,
     "metadata": {},
     "output_type": "execute_result"
    }
   ],
   "source": [
    "\n",
    "index = ['LinearRegression',\n",
    "         'RandomForestRegressor',\n",
    "         'CatBoostRegressor',\n",
    "         'LGBMRegressor',\n",
    "         'XGBRegressor']\n",
    "data = {'MAE на CV':[cv_MAE_LR,\n",
    "                     cv_MAE_RFR,\n",
    "                     cv_MAE_CBR,\n",
    "                     cv_MAE_LGBMR,\n",
    "                     cv_MAE_XGBR]}\n",
    "\n",
    "scores_data = pd.DataFrame(data=data, index=index)\n",
    "scores_data"
   ]
  },
  {
   "cell_type": "markdown",
   "metadata": {},
   "source": [
    "# Вывод по пункту 3"
   ]
  },
  {
   "cell_type": "markdown",
   "metadata": {},
   "source": [
    "Были выбраны и обучены модели для предсказания финальной температуры. Произведен поиск гиперпараметров для получения лучшего результата. Минимальное МАЕ показала модель LGBMRegressor. Проверим ее на тестовой выборке."
   ]
  },
  {
   "cell_type": "markdown",
   "metadata": {},
   "source": [
    "##  Тестирование моделей"
   ]
  },
  {
   "cell_type": "markdown",
   "metadata": {},
   "source": [
    "Протестируем выбранную модель. Качественной оценкой будем считать выполнения двух условий:\n",
    "\n",
    "-Минимальный показатель МАЕ < 8.7\n",
    "\n",
    "-Иделаьный показатель МАЕ < 6."
   ]
  },
  {
   "cell_type": "code",
   "execution_count": 75,
   "metadata": {},
   "outputs": [],
   "source": [
    "#%%time\n",
    "\n",
    "#model = LinearRegression()\n",
    "#model.fit(features_train, target_train)\n",
    "#target_predict = model.predict(features_test)\n",
    "#test_MAE_LR = mean_absolute_error(target_predict, target_test)\n",
    "#print('MAE on test for LinearRegression =', test_MAE_LR)"
   ]
  },
  {
   "cell_type": "code",
   "execution_count": 76,
   "metadata": {},
   "outputs": [],
   "source": [
    "#%%time\n",
    "\n",
    "#model = RandomForestRegressor()\n",
    "#model.set_params(**best_params_RFR)\n",
    "#model.fit(features_train, target_train)\n",
    "#target_predict = model.predict(features_test)\n",
    "#test_MAE_RFR = mean_absolute_error(target_predict, target_test)\n",
    "#print('MAE on test of RandomForestRegressor =', test_MAE_RFR)"
   ]
  },
  {
   "cell_type": "code",
   "execution_count": 77,
   "metadata": {
    "scrolled": true
   },
   "outputs": [
    {
     "name": "stdout",
     "output_type": "stream",
     "text": [
      "MAE on test of CatBoostRegressor = 5.704055068561276\n",
      "CPU times: user 3.5 s, sys: 131 ms, total: 3.63 s\n",
      "Wall time: 5.25 s\n"
     ]
    }
   ],
   "source": [
    "%%time\n",
    "\n",
    "model = CatBoostRegressor(verbose=False)\n",
    "model.set_params(**best_params_CBR)\n",
    "model.fit(features_train, target_train)\n",
    "target_predict = model.predict(features_test)\n",
    "test_MAE_CBR = mean_absolute_error(target_predict, target_test)\n",
    "print('MAE on test of CatBoostRegressor =', test_MAE_CBR)"
   ]
  },
  {
   "cell_type": "markdown",
   "metadata": {},
   "source": [
    "Построим график отображающий важность признаков:"
   ]
  },
  {
   "cell_type": "code",
   "execution_count": 78,
   "metadata": {
    "scrolled": true
   },
   "outputs": [
    {
     "data": {
      "image/png": "[encoded data removed]",
      "text/plain": [
       "<Figure size 1152x1008 with 1 Axes>"
      ]
     },
     "metadata": {
      "needs_background": "light"
     },
     "output_type": "display_data"
    }
   ],
   "source": [
    "imp = pd.Series(model.feature_importances_,\n",
    "                         features_train.columns)\n",
    "\n",
    "fig, ax = plt.subplots(figsize=(16,14))\n",
    "imp.plot.bar(ax=ax)\n",
    "ax.set_title(\"Важность признаков\")\n",
    "ax.set_ylabel('Важность')\n",
    "fig.tight_layout()"
   ]
  },
  {
   "cell_type": "markdown",
   "metadata": {},
   "source": [
    "На лицо два наиболее важных признака."
   ]
  },
  {
   "cell_type": "code",
   "execution_count": 79,
   "metadata": {},
   "outputs": [],
   "source": [
    "#%%time\n",
    "\n",
    "#model = LGBMRegressor()\n",
    "#model.set_params(**best_params_LGBMR)\n",
    "#model.fit(features_train, target_train)\n",
    "#target_predict = model.predict(features_test)\n",
    "#test_MAE_LGBMR = mean_absolute_error(target_predict, target_test)\n",
    "#print('MAE on test of LGBMRegressor =', test_MAE_LGBMR)"
   ]
  },
  {
   "cell_type": "code",
   "execution_count": 80,
   "metadata": {},
   "outputs": [],
   "source": [
    "#%%time\n",
    "#\n",
    "#model = XGBRegressor()\n",
    "#model.set_params(**best_params_XGBR)\n",
    "#model.fit(features_train, target_train)\n",
    "#target_predict = model.predict(features_test)\n",
    "#test_MAE_XGBR = mean_absolute_error(target_predict, target_test)\n",
    "#print('MAE on test of XGBRegressor =', test_MAE_XGBR)"
   ]
  },
  {
   "cell_type": "code",
   "execution_count": 81,
   "metadata": {},
   "outputs": [],
   "source": [
    "#index = ['LinearRegression',\n",
    "#         'RandomForestRegressor',\n",
    "#         'CatBoostRegressor',\n",
    "#         'LGBMRegressor',\n",
    "#         'XGBRegressor']\n",
    "#data = {'MAE на CV':[cv_MAE_LR,\n",
    "#                     cv_MAE_RFR,\n",
    "#                     cv_MAE_CBR,\n",
    "#                     cv_MAE_LGBMR,\n",
    "#                     cv_MAE_XGBR],\n",
    "#        'MAE на тесте':[test_MAE_LR,\n",
    "#                        test_MAE_RFR,\n",
    "#                        test_MAE_CBR,\n",
    "#                        test_MAE_LGBMR,\n",
    "#                        test_MAE_XGBR]}\n",
    "#\n",
    "#scores_data = pd.DataFrame(data=data, index=index)\n",
    "#scores_data['Выполнение минимальной задачи'] = scores_data['MAE на тесте'] <= 8.7\n",
    "#scores_data['Выполнение идеальной задачи'] = scores_data['MAE на тесте'] <= 6\n",
    "#scores_data"
   ]
  },
  {
   "cell_type": "markdown",
   "metadata": {},
   "source": [
    "## Итоговый вывод"
   ]
  },
  {
   "cell_type": "markdown",
   "metadata": {},
   "source": [
    "В ходе работы над проектом было выполнено:\n",
    "\n",
    "-Подготовлены данные. Изменены типы данных; определены и использованы номера партий, у которых есть замеры по температуре.\n",
    "\n",
    "-Подготовлены признаки. Составлена единая таблица со всеми данными для модели. Выделен целевой признак как последний замер в серии замеров. Разделены на features и target со смешиванием данных.\n",
    "\n",
    "-Выбраны модели. Использованы и обучены регрессионные модели.\n",
    "\n",
    "-Наилучший результат на тренировочной выборке показала модель CatBoostRegressor, МАЕ 5.5.589502\n",
    "\n",
    "-Оценена эффективность CatBoostRegressor на тестовой выборке -5.67922.\n",
    "\n",
    "Лучшей моделью по метрике MAE = 5.67922 стал CatBoostRegressor. Этот результат показывает, что модель в среднем ошибается на 5-6 градусов температуры. "
   ]
  },
  {
   "cell_type": "code",
   "execution_count": null,
   "metadata": {},
   "outputs": [],
   "source": []
  }
 ],
 "metadata": {
  "ExecuteTimeLog": [
   {
    "duration": 1197,
    "start_time": "2023-04-19T08:52:08.755Z"
   },
   {
    "duration": 679,
    "start_time": "2023-04-19T08:53:02.929Z"
   },
   {
    "duration": 4,
    "start_time": "2023-04-19T08:53:53.168Z"
   },
   {
    "duration": 3,
    "start_time": "2023-04-19T08:54:13.919Z"
   },
   {
    "duration": 193,
    "start_time": "2023-04-19T08:54:26.516Z"
   },
   {
    "duration": 28,
    "start_time": "2023-04-19T08:54:38.675Z"
   },
   {
    "duration": 5,
    "start_time": "2023-04-19T08:54:47.676Z"
   },
   {
    "duration": 6,
    "start_time": "2023-04-19T08:54:54.405Z"
   },
   {
    "duration": 277,
    "start_time": "2023-04-19T08:55:03.125Z"
   },
   {
    "duration": 260,
    "start_time": "2023-04-19T08:55:12.571Z"
   },
   {
    "duration": 97,
    "start_time": "2023-04-19T08:55:44.994Z"
   },
   {
    "duration": 27,
    "start_time": "2023-04-19T08:55:58.115Z"
   },
   {
    "duration": 5,
    "start_time": "2023-04-19T08:56:12.399Z"
   },
   {
    "duration": 6,
    "start_time": "2023-04-19T08:56:20.287Z"
   },
   {
    "duration": 2111,
    "start_time": "2023-04-19T08:56:27.809Z"
   },
   {
    "duration": 119,
    "start_time": "2023-04-19T08:57:04.159Z"
   },
   {
    "duration": 22,
    "start_time": "2023-04-19T08:57:12.659Z"
   },
   {
    "duration": 4,
    "start_time": "2023-04-19T08:57:27.330Z"
   },
   {
    "duration": 6,
    "start_time": "2023-04-19T08:57:39.934Z"
   },
   {
    "duration": 93,
    "start_time": "2023-04-19T08:59:04.646Z"
   },
   {
    "duration": 6,
    "start_time": "2023-04-19T08:59:13.284Z"
   },
   {
    "duration": 5,
    "start_time": "2023-04-19T08:59:20.396Z"
   },
   {
    "duration": 5,
    "start_time": "2023-04-19T08:59:29.729Z"
   },
   {
    "duration": 274,
    "start_time": "2023-04-19T08:59:38.729Z"
   },
   {
    "duration": 154,
    "start_time": "2023-04-19T09:00:06.086Z"
   },
   {
    "duration": 18,
    "start_time": "2023-04-19T09:00:12.682Z"
   },
   {
    "duration": 5,
    "start_time": "2023-04-19T09:00:24.795Z"
   },
   {
    "duration": 9,
    "start_time": "2023-04-19T09:00:32.879Z"
   },
   {
    "duration": 271,
    "start_time": "2023-04-19T09:00:41.081Z"
   },
   {
    "duration": 66,
    "start_time": "2023-04-19T09:01:03.032Z"
   },
   {
    "duration": 26,
    "start_time": "2023-04-19T09:01:20.773Z"
   },
   {
    "duration": 4,
    "start_time": "2023-04-19T09:01:33.655Z"
   },
   {
    "duration": 7,
    "start_time": "2023-04-19T09:01:39.248Z"
   },
   {
    "duration": 1360,
    "start_time": "2023-04-19T09:01:48.406Z"
   },
   {
    "duration": 80,
    "start_time": "2023-04-19T09:02:27.320Z"
   },
   {
    "duration": 21,
    "start_time": "2023-04-19T09:02:36.652Z"
   },
   {
    "duration": 5,
    "start_time": "2023-04-19T09:02:46.648Z"
   },
   {
    "duration": 6,
    "start_time": "2023-04-19T09:02:53.148Z"
   },
   {
    "duration": 4440,
    "start_time": "2023-04-19T09:33:05.544Z"
   },
   {
    "duration": 3,
    "start_time": "2023-04-19T09:33:09.986Z"
   },
   {
    "duration": 76,
    "start_time": "2023-04-19T09:33:30.566Z"
   },
   {
    "duration": 30,
    "start_time": "2023-04-19T09:33:31.574Z"
   },
   {
    "duration": 6,
    "start_time": "2023-04-19T09:33:32.161Z"
   },
   {
    "duration": 7,
    "start_time": "2023-04-19T09:33:32.941Z"
   },
   {
    "duration": 291,
    "start_time": "2023-04-19T09:33:33.442Z"
   },
   {
    "duration": 280,
    "start_time": "2023-04-19T09:33:34.022Z"
   },
   {
    "duration": 47,
    "start_time": "2023-04-19T09:34:02.911Z"
   },
   {
    "duration": 30,
    "start_time": "2023-04-19T09:34:03.406Z"
   },
   {
    "duration": 5,
    "start_time": "2023-04-19T09:34:03.908Z"
   },
   {
    "duration": 6,
    "start_time": "2023-04-19T09:34:04.653Z"
   },
   {
    "duration": 2435,
    "start_time": "2023-04-19T09:34:04.917Z"
   },
   {
    "duration": 53,
    "start_time": "2023-04-19T09:34:07.353Z"
   },
   {
    "duration": 28,
    "start_time": "2023-04-19T09:34:10.767Z"
   },
   {
    "duration": 5,
    "start_time": "2023-04-19T09:34:11.427Z"
   },
   {
    "duration": 7,
    "start_time": "2023-04-19T09:34:11.896Z"
   },
   {
    "duration": 66,
    "start_time": "2023-04-19T09:34:13.121Z"
   },
   {
    "duration": 7,
    "start_time": "2023-04-19T09:34:13.312Z"
   },
   {
    "duration": 5,
    "start_time": "2023-04-19T09:34:13.504Z"
   },
   {
    "duration": 7,
    "start_time": "2023-04-19T09:34:13.852Z"
   },
   {
    "duration": 272,
    "start_time": "2023-04-19T09:34:14.054Z"
   },
   {
    "duration": 54,
    "start_time": "2023-04-19T09:34:15.125Z"
   },
   {
    "duration": 18,
    "start_time": "2023-04-19T09:34:15.626Z"
   },
   {
    "duration": 5,
    "start_time": "2023-04-19T09:34:15.832Z"
   },
   {
    "duration": 8,
    "start_time": "2023-04-19T09:34:16.446Z"
   },
   {
    "duration": 268,
    "start_time": "2023-04-19T09:34:16.787Z"
   },
   {
    "duration": 44,
    "start_time": "2023-04-19T09:34:17.577Z"
   },
   {
    "duration": 19,
    "start_time": "2023-04-19T09:34:18.504Z"
   },
   {
    "duration": 5,
    "start_time": "2023-04-19T09:34:18.697Z"
   },
   {
    "duration": 5,
    "start_time": "2023-04-19T09:34:18.905Z"
   },
   {
    "duration": 1638,
    "start_time": "2023-04-19T09:34:19.237Z"
   },
   {
    "duration": 48,
    "start_time": "2023-04-19T09:34:20.883Z"
   },
   {
    "duration": 17,
    "start_time": "2023-04-19T09:34:20.933Z"
   },
   {
    "duration": 4,
    "start_time": "2023-04-19T09:34:20.951Z"
   },
   {
    "duration": 8,
    "start_time": "2023-04-19T09:34:21.034Z"
   },
   {
    "duration": 66,
    "start_time": "2023-04-19T11:43:42.035Z"
   },
   {
    "duration": 2683,
    "start_time": "2023-04-19T11:43:50.490Z"
   },
   {
    "duration": 8,
    "start_time": "2023-04-19T11:43:53.175Z"
   },
   {
    "duration": 137,
    "start_time": "2023-04-19T11:43:53.185Z"
   },
   {
    "duration": 51,
    "start_time": "2023-04-19T11:43:53.324Z"
   },
   {
    "duration": 7,
    "start_time": "2023-04-19T11:43:53.384Z"
   },
   {
    "duration": 10,
    "start_time": "2023-04-19T11:43:53.392Z"
   },
   {
    "duration": 320,
    "start_time": "2023-04-19T11:43:53.404Z"
   },
   {
    "duration": 316,
    "start_time": "2023-04-19T11:43:53.726Z"
   },
   {
    "duration": 77,
    "start_time": "2023-04-19T11:43:54.044Z"
   },
   {
    "duration": 43,
    "start_time": "2023-04-19T11:43:54.124Z"
   },
   {
    "duration": 13,
    "start_time": "2023-04-19T11:43:54.177Z"
   },
   {
    "duration": 7,
    "start_time": "2023-04-19T11:43:54.192Z"
   },
   {
    "duration": 2286,
    "start_time": "2023-04-19T11:43:54.201Z"
   },
   {
    "duration": 141,
    "start_time": "2023-04-19T11:43:56.490Z"
   },
   {
    "duration": 54,
    "start_time": "2023-04-19T11:43:56.633Z"
   },
   {
    "duration": 4,
    "start_time": "2023-04-19T11:43:56.689Z"
   },
   {
    "duration": 10,
    "start_time": "2023-04-19T11:43:56.695Z"
   },
   {
    "duration": 112,
    "start_time": "2023-04-19T11:43:56.707Z"
   },
   {
    "duration": 7,
    "start_time": "2023-04-19T11:43:56.821Z"
   },
   {
    "duration": 8,
    "start_time": "2023-04-19T11:43:56.830Z"
   },
   {
    "duration": 7,
    "start_time": "2023-04-19T11:43:56.840Z"
   },
   {
    "duration": 370,
    "start_time": "2023-04-19T11:43:56.859Z"
   },
   {
    "duration": 96,
    "start_time": "2023-04-19T11:43:57.232Z"
   },
   {
    "duration": 36,
    "start_time": "2023-04-19T11:43:57.330Z"
   },
   {
    "duration": 14,
    "start_time": "2023-04-19T11:43:57.382Z"
   },
   {
    "duration": 8,
    "start_time": "2023-04-19T11:43:57.398Z"
   },
   {
    "duration": 373,
    "start_time": "2023-04-19T11:43:57.408Z"
   },
   {
    "duration": 142,
    "start_time": "2023-04-19T11:43:57.789Z"
   },
   {
    "duration": 18,
    "start_time": "2023-04-19T11:43:57.933Z"
   },
   {
    "duration": 46,
    "start_time": "2023-04-19T11:43:57.953Z"
   },
   {
    "duration": 12,
    "start_time": "2023-04-19T11:43:58.001Z"
   },
   {
    "duration": 1472,
    "start_time": "2023-04-19T11:43:58.016Z"
   },
   {
    "duration": 2426,
    "start_time": "2023-04-19T11:43:59.490Z"
   },
   {
    "duration": 172,
    "start_time": "2023-04-19T11:44:01.918Z"
   },
   {
    "duration": 14,
    "start_time": "2023-04-19T11:44:02.092Z"
   },
   {
    "duration": 28,
    "start_time": "2023-04-19T11:44:02.108Z"
   },
   {
    "duration": 52,
    "start_time": "2023-04-19T11:44:02.137Z"
   },
   {
    "duration": 119,
    "start_time": "2023-04-19T11:46:44.234Z"
   },
   {
    "duration": 2044,
    "start_time": "2023-04-20T11:58:45.908Z"
   },
   {
    "duration": 3,
    "start_time": "2023-04-20T11:58:47.954Z"
   },
   {
    "duration": 112,
    "start_time": "2023-04-20T11:58:47.958Z"
   },
   {
    "duration": 26,
    "start_time": "2023-04-20T11:58:48.073Z"
   },
   {
    "duration": 8,
    "start_time": "2023-04-20T11:58:48.101Z"
   },
   {
    "duration": 8,
    "start_time": "2023-04-20T11:58:48.110Z"
   },
   {
    "duration": 301,
    "start_time": "2023-04-20T11:58:48.119Z"
   },
   {
    "duration": 289,
    "start_time": "2023-04-20T11:58:48.421Z"
   },
   {
    "duration": 64,
    "start_time": "2023-04-20T11:58:48.712Z"
   },
   {
    "duration": 27,
    "start_time": "2023-04-20T11:58:48.778Z"
   },
   {
    "duration": 4,
    "start_time": "2023-04-20T11:58:48.807Z"
   },
   {
    "duration": 27,
    "start_time": "2023-04-20T11:58:48.812Z"
   },
   {
    "duration": 2346,
    "start_time": "2023-04-20T11:58:48.840Z"
   },
   {
    "duration": 110,
    "start_time": "2023-04-20T11:58:51.188Z"
   },
   {
    "duration": 33,
    "start_time": "2023-04-20T11:58:51.300Z"
   },
   {
    "duration": 6,
    "start_time": "2023-04-20T11:58:51.335Z"
   },
   {
    "duration": 20,
    "start_time": "2023-04-20T11:58:51.343Z"
   },
   {
    "duration": 88,
    "start_time": "2023-04-20T11:58:51.365Z"
   },
   {
    "duration": 6,
    "start_time": "2023-04-20T11:58:51.455Z"
   },
   {
    "duration": 14,
    "start_time": "2023-04-20T11:58:51.462Z"
   },
   {
    "duration": 14,
    "start_time": "2023-04-20T11:58:51.477Z"
   },
   {
    "duration": 347,
    "start_time": "2023-04-20T11:58:51.493Z"
   },
   {
    "duration": 57,
    "start_time": "2023-04-20T11:58:51.842Z"
   },
   {
    "duration": 17,
    "start_time": "2023-04-20T11:58:51.900Z"
   },
   {
    "duration": 5,
    "start_time": "2023-04-20T11:58:51.918Z"
   },
   {
    "duration": 11,
    "start_time": "2023-04-20T11:58:51.924Z"
   },
   {
    "duration": 279,
    "start_time": "2023-04-20T11:58:51.936Z"
   },
   {
    "duration": 93,
    "start_time": "2023-04-20T11:58:52.218Z"
   },
   {
    "duration": 19,
    "start_time": "2023-04-20T11:58:52.313Z"
   },
   {
    "duration": 5,
    "start_time": "2023-04-20T11:58:52.333Z"
   },
   {
    "duration": 16,
    "start_time": "2023-04-20T11:58:52.341Z"
   },
   {
    "duration": 1506,
    "start_time": "2023-04-20T11:58:52.359Z"
   },
   {
    "duration": 136,
    "start_time": "2023-04-20T11:58:53.867Z"
   },
   {
    "duration": 0,
    "start_time": "2023-04-20T11:58:54.005Z"
   },
   {
    "duration": 0,
    "start_time": "2023-04-20T11:58:54.007Z"
   },
   {
    "duration": 0,
    "start_time": "2023-04-20T11:58:54.008Z"
   },
   {
    "duration": 0,
    "start_time": "2023-04-20T11:58:54.009Z"
   },
   {
    "duration": 2254,
    "start_time": "2023-04-20T11:59:20.111Z"
   },
   {
    "duration": 179,
    "start_time": "2023-04-20T12:31:11.496Z"
   },
   {
    "duration": 7138,
    "start_time": "2023-04-20T12:31:41.408Z"
   },
   {
    "duration": 15,
    "start_time": "2023-04-20T12:32:12.728Z"
   },
   {
    "duration": 10,
    "start_time": "2023-04-20T12:32:26.501Z"
   },
   {
    "duration": 325,
    "start_time": "2023-04-20T12:32:36.133Z"
   },
   {
    "duration": 24,
    "start_time": "2023-04-20T12:33:10.200Z"
   },
   {
    "duration": 8,
    "start_time": "2023-04-20T12:34:04.948Z"
   },
   {
    "duration": 19,
    "start_time": "2023-04-20T12:34:30.157Z"
   },
   {
    "duration": 25,
    "start_time": "2023-04-20T12:34:46.825Z"
   },
   {
    "duration": 145,
    "start_time": "2023-04-20T12:39:33.551Z"
   },
   {
    "duration": 172,
    "start_time": "2023-04-20T12:42:15.823Z"
   },
   {
    "duration": 173,
    "start_time": "2023-04-20T12:42:24.917Z"
   },
   {
    "duration": 141,
    "start_time": "2023-04-20T12:42:33.750Z"
   },
   {
    "duration": 149,
    "start_time": "2023-04-20T12:42:41.789Z"
   },
   {
    "duration": 4484,
    "start_time": "2023-04-20T12:43:24.331Z"
   },
   {
    "duration": 6,
    "start_time": "2023-04-20T12:43:52.759Z"
   },
   {
    "duration": 11,
    "start_time": "2023-04-20T12:44:09.212Z"
   },
   {
    "duration": 54,
    "start_time": "2023-04-20T12:44:23.757Z"
   },
   {
    "duration": 10,
    "start_time": "2023-04-20T12:44:37.958Z"
   },
   {
    "duration": 207,
    "start_time": "2023-04-20T12:45:15.721Z"
   },
   {
    "duration": 3,
    "start_time": "2023-04-20T12:46:01.052Z"
   },
   {
    "duration": 3,
    "start_time": "2023-04-20T12:46:40.222Z"
   },
   {
    "duration": 6,
    "start_time": "2023-04-20T12:47:16.804Z"
   },
   {
    "duration": 230,
    "start_time": "2023-04-20T12:48:31.833Z"
   },
   {
    "duration": 394086,
    "start_time": "2023-04-20T12:48:59.795Z"
   },
   {
    "duration": 18566,
    "start_time": "2023-04-20T12:56:45.181Z"
   },
   {
    "duration": 18573,
    "start_time": "2023-04-20T12:57:13.652Z"
   },
   {
    "duration": 3845,
    "start_time": "2023-04-20T12:57:32.228Z"
   },
   {
    "duration": 2052,
    "start_time": "2023-04-20T14:04:10.258Z"
   },
   {
    "duration": 3,
    "start_time": "2023-04-20T14:04:12.312Z"
   },
   {
    "duration": 92,
    "start_time": "2023-04-20T14:04:12.317Z"
   },
   {
    "duration": 41,
    "start_time": "2023-04-20T14:04:12.411Z"
   },
   {
    "duration": 12,
    "start_time": "2023-04-20T14:04:12.455Z"
   },
   {
    "duration": 18,
    "start_time": "2023-04-20T14:04:12.469Z"
   },
   {
    "duration": 378,
    "start_time": "2023-04-20T14:04:12.488Z"
   },
   {
    "duration": 329,
    "start_time": "2023-04-20T14:04:12.871Z"
   },
   {
    "duration": 24,
    "start_time": "2023-04-20T14:04:13.202Z"
   },
   {
    "duration": 53,
    "start_time": "2023-04-20T14:04:13.228Z"
   },
   {
    "duration": 4,
    "start_time": "2023-04-20T14:04:13.283Z"
   },
   {
    "duration": 19,
    "start_time": "2023-04-20T14:04:13.289Z"
   },
   {
    "duration": 2739,
    "start_time": "2023-04-20T14:04:13.310Z"
   },
   {
    "duration": 51,
    "start_time": "2023-04-20T14:04:16.051Z"
   },
   {
    "duration": 26,
    "start_time": "2023-04-20T14:04:16.103Z"
   },
   {
    "duration": 7,
    "start_time": "2023-04-20T14:04:16.131Z"
   },
   {
    "duration": 33,
    "start_time": "2023-04-20T14:04:16.147Z"
   },
   {
    "duration": 41,
    "start_time": "2023-04-20T14:04:16.182Z"
   },
   {
    "duration": 6,
    "start_time": "2023-04-20T14:04:16.225Z"
   },
   {
    "duration": 5,
    "start_time": "2023-04-20T14:04:16.232Z"
   },
   {
    "duration": 40,
    "start_time": "2023-04-20T14:04:16.238Z"
   },
   {
    "duration": 336,
    "start_time": "2023-04-20T14:04:16.280Z"
   },
   {
    "duration": 46,
    "start_time": "2023-04-20T14:04:16.618Z"
   },
   {
    "duration": 17,
    "start_time": "2023-04-20T14:04:16.666Z"
   },
   {
    "duration": 6,
    "start_time": "2023-04-20T14:04:16.684Z"
   },
   {
    "duration": 6,
    "start_time": "2023-04-20T14:04:16.692Z"
   },
   {
    "duration": 313,
    "start_time": "2023-04-20T14:04:16.699Z"
   },
   {
    "duration": 27,
    "start_time": "2023-04-20T14:04:17.016Z"
   },
   {
    "duration": 33,
    "start_time": "2023-04-20T14:04:17.045Z"
   },
   {
    "duration": 5,
    "start_time": "2023-04-20T14:04:17.079Z"
   },
   {
    "duration": 14,
    "start_time": "2023-04-20T14:04:17.085Z"
   },
   {
    "duration": 1595,
    "start_time": "2023-04-20T14:04:17.100Z"
   },
   {
    "duration": 2414,
    "start_time": "2023-04-20T14:04:18.696Z"
   },
   {
    "duration": 125,
    "start_time": "2023-04-20T14:04:21.111Z"
   },
   {
    "duration": 24,
    "start_time": "2023-04-20T14:04:21.239Z"
   },
   {
    "duration": 4,
    "start_time": "2023-04-20T14:04:21.265Z"
   },
   {
    "duration": 6,
    "start_time": "2023-04-20T14:04:21.271Z"
   },
   {
    "duration": 196,
    "start_time": "2023-04-20T14:04:21.279Z"
   },
   {
    "duration": 7140,
    "start_time": "2023-04-20T14:04:21.477Z"
   },
   {
    "duration": 26,
    "start_time": "2023-04-20T14:04:28.619Z"
   },
   {
    "duration": 16,
    "start_time": "2023-04-20T14:04:28.647Z"
   },
   {
    "duration": 387,
    "start_time": "2023-04-20T14:04:28.665Z"
   },
   {
    "duration": 19,
    "start_time": "2023-04-20T14:04:29.058Z"
   },
   {
    "duration": 11,
    "start_time": "2023-04-20T14:04:29.079Z"
   },
   {
    "duration": 22,
    "start_time": "2023-04-20T14:04:29.091Z"
   },
   {
    "duration": 30,
    "start_time": "2023-04-20T14:04:29.114Z"
   },
   {
    "duration": 172,
    "start_time": "2023-04-20T14:04:29.146Z"
   },
   {
    "duration": 187,
    "start_time": "2023-04-20T14:04:29.320Z"
   },
   {
    "duration": 174,
    "start_time": "2023-04-20T14:04:29.509Z"
   },
   {
    "duration": 148,
    "start_time": "2023-04-20T14:04:29.685Z"
   },
   {
    "duration": 170,
    "start_time": "2023-04-20T14:04:29.835Z"
   },
   {
    "duration": 4536,
    "start_time": "2023-04-20T14:04:30.007Z"
   },
   {
    "duration": 8,
    "start_time": "2023-04-20T14:04:34.545Z"
   },
   {
    "duration": 37,
    "start_time": "2023-04-20T14:04:34.555Z"
   },
   {
    "duration": 19,
    "start_time": "2023-04-20T14:04:34.595Z"
   },
   {
    "duration": 252,
    "start_time": "2023-04-20T14:04:34.616Z"
   },
   {
    "duration": 8,
    "start_time": "2023-04-20T14:04:34.870Z"
   },
   {
    "duration": 264,
    "start_time": "2023-04-20T14:04:34.879Z"
   },
   {
    "duration": 406617,
    "start_time": "2023-04-20T14:04:35.145Z"
   },
   {
    "duration": 18912,
    "start_time": "2023-04-20T14:11:21.764Z"
   },
   {
    "duration": 4240,
    "start_time": "2023-04-20T14:11:40.678Z"
   },
   {
    "duration": 2056,
    "start_time": "2023-04-20T15:30:45.299Z"
   },
   {
    "duration": 3,
    "start_time": "2023-04-20T15:30:47.357Z"
   },
   {
    "duration": 82,
    "start_time": "2023-04-20T15:30:47.362Z"
   },
   {
    "duration": 41,
    "start_time": "2023-04-20T15:30:47.447Z"
   },
   {
    "duration": 7,
    "start_time": "2023-04-20T15:30:47.490Z"
   },
   {
    "duration": 16,
    "start_time": "2023-04-20T15:30:47.499Z"
   },
   {
    "duration": 404,
    "start_time": "2023-04-20T15:30:47.517Z"
   },
   {
    "duration": 403,
    "start_time": "2023-04-20T15:30:47.923Z"
   },
   {
    "duration": 33,
    "start_time": "2023-04-20T15:30:48.328Z"
   },
   {
    "duration": 50,
    "start_time": "2023-04-20T15:30:48.367Z"
   },
   {
    "duration": 16,
    "start_time": "2023-04-20T15:30:48.419Z"
   },
   {
    "duration": 7,
    "start_time": "2023-04-20T15:30:48.437Z"
   },
   {
    "duration": 2753,
    "start_time": "2023-04-20T15:30:48.445Z"
   },
   {
    "duration": 53,
    "start_time": "2023-04-20T15:30:51.199Z"
   },
   {
    "duration": 34,
    "start_time": "2023-04-20T15:30:51.254Z"
   },
   {
    "duration": 4,
    "start_time": "2023-04-20T15:30:51.290Z"
   },
   {
    "duration": 36,
    "start_time": "2023-04-20T15:30:51.299Z"
   },
   {
    "duration": 49,
    "start_time": "2023-04-20T15:30:51.337Z"
   },
   {
    "duration": 9,
    "start_time": "2023-04-20T15:30:51.389Z"
   },
   {
    "duration": 22,
    "start_time": "2023-04-20T15:30:51.400Z"
   },
   {
    "duration": 23,
    "start_time": "2023-04-20T15:30:51.424Z"
   },
   {
    "duration": 428,
    "start_time": "2023-04-20T15:30:51.449Z"
   },
   {
    "duration": 39,
    "start_time": "2023-04-20T15:30:51.879Z"
   },
   {
    "duration": 20,
    "start_time": "2023-04-20T15:30:51.920Z"
   },
   {
    "duration": 4,
    "start_time": "2023-04-20T15:30:51.942Z"
   },
   {
    "duration": 14,
    "start_time": "2023-04-20T15:30:51.948Z"
   },
   {
    "duration": 297,
    "start_time": "2023-04-20T15:30:51.964Z"
   },
   {
    "duration": 42,
    "start_time": "2023-04-20T15:30:52.266Z"
   },
   {
    "duration": 23,
    "start_time": "2023-04-20T15:30:52.310Z"
   },
   {
    "duration": 5,
    "start_time": "2023-04-20T15:30:52.335Z"
   },
   {
    "duration": 7,
    "start_time": "2023-04-20T15:30:52.342Z"
   },
   {
    "duration": 1609,
    "start_time": "2023-04-20T15:30:52.350Z"
   },
   {
    "duration": 2546,
    "start_time": "2023-04-20T15:30:53.962Z"
   },
   {
    "duration": 46,
    "start_time": "2023-04-20T15:30:56.510Z"
   },
   {
    "duration": 18,
    "start_time": "2023-04-20T15:30:56.558Z"
   },
   {
    "duration": 5,
    "start_time": "2023-04-20T15:30:56.577Z"
   },
   {
    "duration": 10,
    "start_time": "2023-04-20T15:30:56.584Z"
   },
   {
    "duration": 200,
    "start_time": "2023-04-20T15:30:56.596Z"
   },
   {
    "duration": 7018,
    "start_time": "2023-04-20T15:30:56.797Z"
   },
   {
    "duration": 28,
    "start_time": "2023-04-20T15:31:03.817Z"
   },
   {
    "duration": 17,
    "start_time": "2023-04-20T15:31:03.847Z"
   },
   {
    "duration": 388,
    "start_time": "2023-04-20T15:31:03.866Z"
   },
   {
    "duration": 19,
    "start_time": "2023-04-20T15:31:04.256Z"
   },
   {
    "duration": 26,
    "start_time": "2023-04-20T15:31:04.277Z"
   },
   {
    "duration": 29,
    "start_time": "2023-04-20T15:31:04.305Z"
   },
   {
    "duration": 33,
    "start_time": "2023-04-20T15:31:04.336Z"
   },
   {
    "duration": 178,
    "start_time": "2023-04-20T15:31:04.371Z"
   },
   {
    "duration": 199,
    "start_time": "2023-04-20T15:31:04.551Z"
   },
   {
    "duration": 251,
    "start_time": "2023-04-20T15:31:04.752Z"
   },
   {
    "duration": 213,
    "start_time": "2023-04-20T15:31:05.005Z"
   },
   {
    "duration": 191,
    "start_time": "2023-04-20T15:31:05.220Z"
   },
   {
    "duration": 4827,
    "start_time": "2023-04-20T15:31:05.412Z"
   },
   {
    "duration": 6,
    "start_time": "2023-04-20T15:31:10.241Z"
   },
   {
    "duration": 15,
    "start_time": "2023-04-20T15:31:10.249Z"
   },
   {
    "duration": 15,
    "start_time": "2023-04-20T15:31:10.266Z"
   },
   {
    "duration": 290,
    "start_time": "2023-04-20T15:31:10.283Z"
   },
   {
    "duration": 13,
    "start_time": "2023-04-20T15:31:10.576Z"
   },
   {
    "duration": 160,
    "start_time": "2023-04-20T15:31:10.591Z"
   },
   {
    "duration": 441458,
    "start_time": "2023-04-20T15:31:10.836Z"
   },
   {
    "duration": 21695,
    "start_time": "2023-04-20T15:38:32.297Z"
   },
   {
    "duration": 3836,
    "start_time": "2023-04-20T15:38:53.993Z"
   },
   {
    "duration": 1786,
    "start_time": "2023-04-20T19:08:17.805Z"
   },
   {
    "duration": 2,
    "start_time": "2023-04-20T19:08:19.593Z"
   },
   {
    "duration": 85,
    "start_time": "2023-04-20T19:08:19.597Z"
   },
   {
    "duration": 25,
    "start_time": "2023-04-20T19:08:19.684Z"
   },
   {
    "duration": 6,
    "start_time": "2023-04-20T19:08:19.710Z"
   },
   {
    "duration": 6,
    "start_time": "2023-04-20T19:08:19.718Z"
   },
   {
    "duration": 299,
    "start_time": "2023-04-20T19:08:19.725Z"
   },
   {
    "duration": 282,
    "start_time": "2023-04-20T19:08:20.025Z"
   },
   {
    "duration": 23,
    "start_time": "2023-04-20T19:08:20.309Z"
   },
   {
    "duration": 28,
    "start_time": "2023-04-20T19:08:20.335Z"
   },
   {
    "duration": 5,
    "start_time": "2023-04-20T19:08:20.365Z"
   },
   {
    "duration": 11,
    "start_time": "2023-04-20T19:08:20.372Z"
   },
   {
    "duration": 2233,
    "start_time": "2023-04-20T19:08:20.384Z"
   },
   {
    "duration": 58,
    "start_time": "2023-04-20T19:08:22.618Z"
   },
   {
    "duration": 23,
    "start_time": "2023-04-20T19:08:22.678Z"
   },
   {
    "duration": 4,
    "start_time": "2023-04-20T19:08:22.703Z"
   },
   {
    "duration": 8,
    "start_time": "2023-04-20T19:08:22.708Z"
   },
   {
    "duration": 58,
    "start_time": "2023-04-20T19:08:22.718Z"
   },
   {
    "duration": 6,
    "start_time": "2023-04-20T19:08:22.777Z"
   },
   {
    "duration": 16,
    "start_time": "2023-04-20T19:08:22.784Z"
   },
   {
    "duration": 15,
    "start_time": "2023-04-20T19:08:22.802Z"
   },
   {
    "duration": 281,
    "start_time": "2023-04-20T19:08:22.818Z"
   },
   {
    "duration": 31,
    "start_time": "2023-04-20T19:08:23.100Z"
   },
   {
    "duration": 24,
    "start_time": "2023-04-20T19:08:23.133Z"
   },
   {
    "duration": 5,
    "start_time": "2023-04-20T19:08:23.158Z"
   },
   {
    "duration": 6,
    "start_time": "2023-04-20T19:08:23.165Z"
   },
   {
    "duration": 286,
    "start_time": "2023-04-20T19:08:23.173Z"
   },
   {
    "duration": 22,
    "start_time": "2023-04-20T19:08:23.464Z"
   },
   {
    "duration": 21,
    "start_time": "2023-04-20T19:08:23.488Z"
   },
   {
    "duration": 5,
    "start_time": "2023-04-20T19:08:23.511Z"
   },
   {
    "duration": 8,
    "start_time": "2023-04-20T19:08:23.540Z"
   },
   {
    "duration": 1590,
    "start_time": "2023-04-20T19:08:23.554Z"
   },
   {
    "duration": 2358,
    "start_time": "2023-04-20T19:08:25.146Z"
   },
   {
    "duration": 53,
    "start_time": "2023-04-20T19:08:27.505Z"
   },
   {
    "duration": 15,
    "start_time": "2023-04-20T19:08:27.560Z"
   },
   {
    "duration": 4,
    "start_time": "2023-04-20T19:08:27.577Z"
   },
   {
    "duration": 8,
    "start_time": "2023-04-20T19:08:27.583Z"
   },
   {
    "duration": 172,
    "start_time": "2023-04-20T19:08:27.592Z"
   },
   {
    "duration": 7176,
    "start_time": "2023-04-20T19:08:27.766Z"
   },
   {
    "duration": 24,
    "start_time": "2023-04-20T19:08:34.945Z"
   },
   {
    "duration": 15,
    "start_time": "2023-04-20T19:08:34.972Z"
   },
   {
    "duration": 466,
    "start_time": "2023-04-20T19:08:34.989Z"
   },
   {
    "duration": 28,
    "start_time": "2023-04-20T19:08:35.459Z"
   },
   {
    "duration": 12,
    "start_time": "2023-04-20T19:08:35.489Z"
   },
   {
    "duration": 29,
    "start_time": "2023-04-20T19:08:35.503Z"
   },
   {
    "duration": 28,
    "start_time": "2023-04-20T19:08:35.533Z"
   },
   {
    "duration": 152,
    "start_time": "2023-04-20T19:08:35.563Z"
   },
   {
    "duration": 175,
    "start_time": "2023-04-20T19:08:35.717Z"
   },
   {
    "duration": 153,
    "start_time": "2023-04-20T19:08:35.893Z"
   },
   {
    "duration": 143,
    "start_time": "2023-04-20T19:08:36.047Z"
   },
   {
    "duration": 157,
    "start_time": "2023-04-20T19:08:36.192Z"
   },
   {
    "duration": 4299,
    "start_time": "2023-04-20T19:08:36.351Z"
   },
   {
    "duration": 4,
    "start_time": "2023-04-20T19:08:40.652Z"
   },
   {
    "duration": 17,
    "start_time": "2023-04-20T19:08:40.658Z"
   },
   {
    "duration": 9,
    "start_time": "2023-04-20T19:08:40.676Z"
   },
   {
    "duration": 214,
    "start_time": "2023-04-20T19:08:40.687Z"
   },
   {
    "duration": 6,
    "start_time": "2023-04-20T19:08:40.904Z"
   },
   {
    "duration": 342,
    "start_time": "2023-04-20T19:08:40.911Z"
   },
   {
    "duration": 387265,
    "start_time": "2023-04-20T19:08:41.254Z"
   },
   {
    "duration": 17494,
    "start_time": "2023-04-20T19:15:08.521Z"
   },
   {
    "duration": 3364,
    "start_time": "2023-04-20T19:15:26.016Z"
   },
   {
    "duration": 72969,
    "start_time": "2023-04-20T19:15:29.382Z"
   },
   {
    "duration": 107789,
    "start_time": "2023-04-20T19:16:42.353Z"
   },
   {
    "duration": 13,
    "start_time": "2023-04-20T19:18:30.147Z"
   },
   {
    "duration": 1887,
    "start_time": "2023-04-20T19:18:30.250Z"
   },
   {
    "duration": 3582,
    "start_time": "2023-04-20T19:18:32.140Z"
   },
   {
    "duration": 6923,
    "start_time": "2023-04-20T19:18:35.723Z"
   },
   {
    "duration": 20113,
    "start_time": "2023-04-20T19:18:42.648Z"
   },
   {
    "duration": 13,
    "start_time": "2023-04-20T19:19:02.763Z"
   },
   {
    "duration": 7606,
    "start_time": "2023-04-21T08:27:29.557Z"
   },
   {
    "duration": 3,
    "start_time": "2023-04-21T08:27:37.165Z"
   },
   {
    "duration": 139,
    "start_time": "2023-04-21T08:27:37.170Z"
   },
   {
    "duration": 27,
    "start_time": "2023-04-21T08:27:37.312Z"
   },
   {
    "duration": 5,
    "start_time": "2023-04-21T08:27:37.340Z"
   },
   {
    "duration": 42,
    "start_time": "2023-04-21T08:27:37.347Z"
   },
   {
    "duration": 325,
    "start_time": "2023-04-21T08:27:37.390Z"
   },
   {
    "duration": 298,
    "start_time": "2023-04-21T08:27:37.717Z"
   },
   {
    "duration": 63,
    "start_time": "2023-04-21T08:27:38.016Z"
   },
   {
    "duration": 28,
    "start_time": "2023-04-21T08:27:38.082Z"
   },
   {
    "duration": 4,
    "start_time": "2023-04-21T08:27:38.111Z"
   },
   {
    "duration": 24,
    "start_time": "2023-04-21T08:27:38.117Z"
   },
   {
    "duration": 2514,
    "start_time": "2023-04-21T08:27:38.142Z"
   },
   {
    "duration": 100,
    "start_time": "2023-04-21T08:27:40.658Z"
   },
   {
    "duration": 28,
    "start_time": "2023-04-21T08:27:40.759Z"
   },
   {
    "duration": 26,
    "start_time": "2023-04-21T08:27:40.789Z"
   },
   {
    "duration": 24,
    "start_time": "2023-04-21T08:27:40.816Z"
   },
   {
    "duration": 79,
    "start_time": "2023-04-21T08:27:40.842Z"
   },
   {
    "duration": 7,
    "start_time": "2023-04-21T08:27:40.924Z"
   },
   {
    "duration": 27,
    "start_time": "2023-04-21T08:27:40.932Z"
   },
   {
    "duration": 33,
    "start_time": "2023-04-21T08:27:40.961Z"
   },
   {
    "duration": 306,
    "start_time": "2023-04-21T08:27:40.995Z"
   },
   {
    "duration": 57,
    "start_time": "2023-04-21T08:27:41.303Z"
   },
   {
    "duration": 17,
    "start_time": "2023-04-21T08:27:41.361Z"
   },
   {
    "duration": 13,
    "start_time": "2023-04-21T08:27:41.380Z"
   },
   {
    "duration": 25,
    "start_time": "2023-04-21T08:27:41.394Z"
   },
   {
    "duration": 263,
    "start_time": "2023-04-21T08:27:41.420Z"
   },
   {
    "duration": 97,
    "start_time": "2023-04-21T08:27:41.684Z"
   },
   {
    "duration": 19,
    "start_time": "2023-04-21T08:27:41.783Z"
   },
   {
    "duration": 5,
    "start_time": "2023-04-21T08:27:41.804Z"
   },
   {
    "duration": 21,
    "start_time": "2023-04-21T08:27:41.811Z"
   },
   {
    "duration": 1497,
    "start_time": "2023-04-21T08:27:41.834Z"
   },
   {
    "duration": 2549,
    "start_time": "2023-04-21T08:27:43.334Z"
   },
   {
    "duration": 109,
    "start_time": "2023-04-21T08:27:45.885Z"
   },
   {
    "duration": 15,
    "start_time": "2023-04-21T08:27:45.995Z"
   },
   {
    "duration": 31,
    "start_time": "2023-04-21T08:27:46.012Z"
   },
   {
    "duration": 12,
    "start_time": "2023-04-21T08:27:46.044Z"
   },
   {
    "duration": 166,
    "start_time": "2023-04-21T08:28:26.702Z"
   },
   {
    "duration": 6700,
    "start_time": "2023-04-21T08:28:48.311Z"
   },
   {
    "duration": 15,
    "start_time": "2023-04-21T08:29:32.993Z"
   },
   {
    "duration": 11,
    "start_time": "2023-04-21T08:29:34.647Z"
   },
   {
    "duration": 339,
    "start_time": "2023-04-21T08:29:35.823Z"
   },
   {
    "duration": 120,
    "start_time": "2023-04-21T08:30:45.709Z"
   },
   {
    "duration": 23,
    "start_time": "2023-04-21T08:30:54.846Z"
   },
   {
    "duration": 11,
    "start_time": "2023-04-21T08:30:55.665Z"
   },
   {
    "duration": 6,
    "start_time": "2023-04-21T08:31:11.422Z"
   },
   {
    "duration": 15,
    "start_time": "2023-04-21T08:31:13.139Z"
   },
   {
    "duration": 31,
    "start_time": "2023-04-21T08:31:14.861Z"
   },
   {
    "duration": 151,
    "start_time": "2023-04-21T08:31:16.061Z"
   },
   {
    "duration": 159,
    "start_time": "2023-04-21T08:31:16.429Z"
   },
   {
    "duration": 145,
    "start_time": "2023-04-21T08:31:16.604Z"
   },
   {
    "duration": 138,
    "start_time": "2023-04-21T08:31:16.980Z"
   },
   {
    "duration": 140,
    "start_time": "2023-04-21T08:31:17.177Z"
   },
   {
    "duration": 4164,
    "start_time": "2023-04-21T08:31:18.413Z"
   },
   {
    "duration": 7,
    "start_time": "2023-04-21T08:31:22.578Z"
   },
   {
    "duration": 20,
    "start_time": "2023-04-21T08:31:22.587Z"
   },
   {
    "duration": 11,
    "start_time": "2023-04-21T08:31:22.609Z"
   },
   {
    "duration": 283,
    "start_time": "2023-04-21T08:31:22.622Z"
   },
   {
    "duration": 19,
    "start_time": "2023-04-21T08:32:59.721Z"
   },
   {
    "duration": 4754,
    "start_time": "2023-04-21T08:33:04.251Z"
   },
   {
    "duration": 5,
    "start_time": "2023-04-21T08:33:09.008Z"
   },
   {
    "duration": 11,
    "start_time": "2023-04-21T08:33:23.345Z"
   },
   {
    "duration": 11,
    "start_time": "2023-04-21T08:33:25.087Z"
   },
   {
    "duration": 186,
    "start_time": "2023-04-21T08:33:47.510Z"
   },
   {
    "duration": 25,
    "start_time": "2023-04-21T08:35:51.725Z"
   },
   {
    "duration": 6,
    "start_time": "2023-04-21T08:41:02.323Z"
   },
   {
    "duration": 175,
    "start_time": "2023-04-21T08:41:44.015Z"
   },
   {
    "duration": 54,
    "start_time": "2023-04-21T09:27:17.592Z"
   },
   {
    "duration": 2853,
    "start_time": "2023-04-21T09:30:56.622Z"
   },
   {
    "duration": 4,
    "start_time": "2023-04-21T09:30:59.477Z"
   },
   {
    "duration": 133,
    "start_time": "2023-04-21T09:30:59.483Z"
   },
   {
    "duration": 34,
    "start_time": "2023-04-21T09:30:59.618Z"
   },
   {
    "duration": 6,
    "start_time": "2023-04-21T09:30:59.654Z"
   },
   {
    "duration": 22,
    "start_time": "2023-04-21T09:30:59.662Z"
   },
   {
    "duration": 364,
    "start_time": "2023-04-21T09:30:59.686Z"
   },
   {
    "duration": 356,
    "start_time": "2023-04-21T09:31:00.053Z"
   },
   {
    "duration": 73,
    "start_time": "2023-04-21T09:31:00.411Z"
   },
   {
    "duration": 38,
    "start_time": "2023-04-21T09:31:00.489Z"
   },
   {
    "duration": 7,
    "start_time": "2023-04-21T09:31:00.529Z"
   },
   {
    "duration": 46,
    "start_time": "2023-04-21T09:31:00.538Z"
   },
   {
    "duration": 2897,
    "start_time": "2023-04-21T09:31:00.586Z"
   },
   {
    "duration": 112,
    "start_time": "2023-04-21T09:31:03.486Z"
   },
   {
    "duration": 36,
    "start_time": "2023-04-21T09:31:03.601Z"
   },
   {
    "duration": 6,
    "start_time": "2023-04-21T09:31:03.640Z"
   },
   {
    "duration": 35,
    "start_time": "2023-04-21T09:31:03.649Z"
   },
   {
    "duration": 94,
    "start_time": "2023-04-21T09:31:03.686Z"
   },
   {
    "duration": 8,
    "start_time": "2023-04-21T09:31:03.783Z"
   },
   {
    "duration": 16,
    "start_time": "2023-04-21T09:31:03.794Z"
   },
   {
    "duration": 14,
    "start_time": "2023-04-21T09:31:03.813Z"
   },
   {
    "duration": 392,
    "start_time": "2023-04-21T09:31:03.830Z"
   },
   {
    "duration": 67,
    "start_time": "2023-04-21T09:31:04.224Z"
   },
   {
    "duration": 22,
    "start_time": "2023-04-21T09:31:04.293Z"
   },
   {
    "duration": 6,
    "start_time": "2023-04-21T09:31:04.318Z"
   },
   {
    "duration": 14,
    "start_time": "2023-04-21T09:31:04.326Z"
   },
   {
    "duration": 363,
    "start_time": "2023-04-21T09:31:04.342Z"
   },
   {
    "duration": 106,
    "start_time": "2023-04-21T09:31:04.711Z"
   },
   {
    "duration": 24,
    "start_time": "2023-04-21T09:31:04.820Z"
   },
   {
    "duration": 5,
    "start_time": "2023-04-21T09:31:04.846Z"
   },
   {
    "duration": 16,
    "start_time": "2023-04-21T09:31:04.853Z"
   },
   {
    "duration": 1967,
    "start_time": "2023-04-21T09:31:04.871Z"
   },
   {
    "duration": 3256,
    "start_time": "2023-04-21T09:31:06.841Z"
   },
   {
    "duration": 135,
    "start_time": "2023-04-21T09:31:10.099Z"
   },
   {
    "duration": 25,
    "start_time": "2023-04-21T09:31:10.238Z"
   },
   {
    "duration": 18,
    "start_time": "2023-04-21T09:31:10.265Z"
   },
   {
    "duration": 23,
    "start_time": "2023-04-21T09:31:10.285Z"
   },
   {
    "duration": 43,
    "start_time": "2023-04-21T09:31:10.310Z"
   },
   {
    "duration": 8074,
    "start_time": "2023-04-21T09:31:10.355Z"
   },
   {
    "duration": 22,
    "start_time": "2023-04-21T09:31:18.433Z"
   },
   {
    "duration": 15,
    "start_time": "2023-04-21T09:31:18.457Z"
   },
   {
    "duration": 448,
    "start_time": "2023-04-21T09:31:18.475Z"
   },
   {
    "duration": 26,
    "start_time": "2023-04-21T09:31:18.933Z"
   },
   {
    "duration": 13,
    "start_time": "2023-04-21T09:31:18.960Z"
   },
   {
    "duration": 9,
    "start_time": "2023-04-21T09:31:18.975Z"
   },
   {
    "duration": 4,
    "start_time": "2023-04-21T09:31:18.986Z"
   },
   {
    "duration": 52,
    "start_time": "2023-04-21T09:31:18.992Z"
   },
   {
    "duration": 33,
    "start_time": "2023-04-21T09:31:19.046Z"
   },
   {
    "duration": 54,
    "start_time": "2023-04-21T09:31:19.081Z"
   },
   {
    "duration": 126,
    "start_time": "2023-04-21T09:31:19.137Z"
   },
   {
    "duration": 0,
    "start_time": "2023-04-21T09:31:19.265Z"
   },
   {
    "duration": 0,
    "start_time": "2023-04-21T09:31:19.266Z"
   },
   {
    "duration": 0,
    "start_time": "2023-04-21T09:31:19.268Z"
   },
   {
    "duration": 0,
    "start_time": "2023-04-21T09:31:19.269Z"
   },
   {
    "duration": 0,
    "start_time": "2023-04-21T09:31:19.270Z"
   },
   {
    "duration": 0,
    "start_time": "2023-04-21T09:31:19.271Z"
   },
   {
    "duration": 0,
    "start_time": "2023-04-21T09:31:19.272Z"
   },
   {
    "duration": 0,
    "start_time": "2023-04-21T09:31:19.273Z"
   },
   {
    "duration": 0,
    "start_time": "2023-04-21T09:31:19.275Z"
   },
   {
    "duration": 0,
    "start_time": "2023-04-21T09:31:19.276Z"
   },
   {
    "duration": 0,
    "start_time": "2023-04-21T09:31:19.277Z"
   },
   {
    "duration": 0,
    "start_time": "2023-04-21T09:31:19.278Z"
   },
   {
    "duration": 0,
    "start_time": "2023-04-21T09:31:19.280Z"
   },
   {
    "duration": 0,
    "start_time": "2023-04-21T09:31:19.280Z"
   },
   {
    "duration": 0,
    "start_time": "2023-04-21T09:31:19.282Z"
   },
   {
    "duration": 0,
    "start_time": "2023-04-21T09:31:19.283Z"
   },
   {
    "duration": 0,
    "start_time": "2023-04-21T09:31:19.284Z"
   },
   {
    "duration": 0,
    "start_time": "2023-04-21T09:31:19.285Z"
   },
   {
    "duration": 0,
    "start_time": "2023-04-21T09:31:19.286Z"
   },
   {
    "duration": 0,
    "start_time": "2023-04-21T09:31:19.288Z"
   },
   {
    "duration": 0,
    "start_time": "2023-04-21T09:31:19.289Z"
   },
   {
    "duration": 0,
    "start_time": "2023-04-21T09:31:19.290Z"
   },
   {
    "duration": 0,
    "start_time": "2023-04-21T09:31:19.291Z"
   },
   {
    "duration": 0,
    "start_time": "2023-04-21T09:31:19.292Z"
   },
   {
    "duration": 0,
    "start_time": "2023-04-21T09:31:19.293Z"
   },
   {
    "duration": 0,
    "start_time": "2023-04-21T09:31:19.294Z"
   },
   {
    "duration": 0,
    "start_time": "2023-04-21T09:31:19.294Z"
   },
   {
    "duration": 29,
    "start_time": "2023-04-21T09:31:37.823Z"
   },
   {
    "duration": 19,
    "start_time": "2023-04-21T09:31:45.516Z"
   },
   {
    "duration": 50,
    "start_time": "2023-04-21T09:33:54.422Z"
   },
   {
    "duration": 53,
    "start_time": "2023-04-21T09:43:39.949Z"
   },
   {
    "duration": 169,
    "start_time": "2023-04-21T09:43:45.795Z"
   },
   {
    "duration": 164,
    "start_time": "2023-04-21T09:43:56.358Z"
   },
   {
    "duration": 13,
    "start_time": "2023-04-21T09:46:39.852Z"
   },
   {
    "duration": 37,
    "start_time": "2023-04-21T09:47:00.666Z"
   },
   {
    "duration": 22,
    "start_time": "2023-04-21T09:47:21.052Z"
   },
   {
    "duration": 59,
    "start_time": "2023-04-21T09:49:29.925Z"
   },
   {
    "duration": 40,
    "start_time": "2023-04-21T09:49:36.132Z"
   },
   {
    "duration": 9,
    "start_time": "2023-04-21T09:49:42.084Z"
   },
   {
    "duration": 232,
    "start_time": "2023-04-21T09:49:55.391Z"
   },
   {
    "duration": 5,
    "start_time": "2023-04-21T10:08:21.475Z"
   },
   {
    "duration": 10,
    "start_time": "2023-04-21T10:08:21.541Z"
   },
   {
    "duration": 125,
    "start_time": "2023-04-21T10:08:21.562Z"
   },
   {
    "duration": 60,
    "start_time": "2023-04-21T10:08:21.689Z"
   },
   {
    "duration": 6,
    "start_time": "2023-04-21T10:08:21.751Z"
   },
   {
    "duration": 26,
    "start_time": "2023-04-21T10:08:21.760Z"
   },
   {
    "duration": 459,
    "start_time": "2023-04-21T10:08:21.789Z"
   },
   {
    "duration": 474,
    "start_time": "2023-04-21T10:08:22.251Z"
   },
   {
    "duration": 59,
    "start_time": "2023-04-21T10:08:22.729Z"
   },
   {
    "duration": 46,
    "start_time": "2023-04-21T10:08:22.790Z"
   },
   {
    "duration": 7,
    "start_time": "2023-04-21T10:08:22.839Z"
   },
   {
    "duration": 21,
    "start_time": "2023-04-21T10:08:22.850Z"
   },
   {
    "duration": 3166,
    "start_time": "2023-04-21T10:08:22.874Z"
   },
   {
    "duration": 66,
    "start_time": "2023-04-21T10:08:26.043Z"
   },
   {
    "duration": 55,
    "start_time": "2023-04-21T10:08:26.111Z"
   },
   {
    "duration": 7,
    "start_time": "2023-04-21T10:08:26.169Z"
   },
   {
    "duration": 16,
    "start_time": "2023-04-21T10:08:26.181Z"
   },
   {
    "duration": 52,
    "start_time": "2023-04-21T10:08:26.199Z"
   },
   {
    "duration": 9,
    "start_time": "2023-04-21T10:08:26.254Z"
   },
   {
    "duration": 11,
    "start_time": "2023-04-21T10:08:26.265Z"
   },
   {
    "duration": 23,
    "start_time": "2023-04-21T10:08:26.279Z"
   },
   {
    "duration": 409,
    "start_time": "2023-04-21T10:08:26.305Z"
   },
   {
    "duration": 66,
    "start_time": "2023-04-21T10:08:26.720Z"
   },
   {
    "duration": 35,
    "start_time": "2023-04-21T10:08:26.789Z"
   },
   {
    "duration": 8,
    "start_time": "2023-04-21T10:08:26.827Z"
   },
   {
    "duration": 36,
    "start_time": "2023-04-21T10:08:26.838Z"
   },
   {
    "duration": 410,
    "start_time": "2023-04-21T10:08:26.877Z"
   },
   {
    "duration": 65,
    "start_time": "2023-04-21T10:08:27.290Z"
   },
   {
    "duration": 48,
    "start_time": "2023-04-21T10:08:27.359Z"
   },
   {
    "duration": 27,
    "start_time": "2023-04-21T10:08:27.410Z"
   },
   {
    "duration": 25,
    "start_time": "2023-04-21T10:08:27.440Z"
   },
   {
    "duration": 2100,
    "start_time": "2023-04-21T10:08:27.468Z"
   },
   {
    "duration": 3399,
    "start_time": "2023-04-21T10:08:29.570Z"
   },
   {
    "duration": 65,
    "start_time": "2023-04-21T10:08:32.971Z"
   },
   {
    "duration": 33,
    "start_time": "2023-04-21T10:08:33.039Z"
   },
   {
    "duration": 7,
    "start_time": "2023-04-21T10:08:33.074Z"
   },
   {
    "duration": 26,
    "start_time": "2023-04-21T10:08:33.083Z"
   },
   {
    "duration": 52,
    "start_time": "2023-04-21T10:08:33.112Z"
   },
   {
    "duration": 8921,
    "start_time": "2023-04-21T10:08:33.167Z"
   },
   {
    "duration": 24,
    "start_time": "2023-04-21T10:08:42.090Z"
   },
   {
    "duration": 25,
    "start_time": "2023-04-21T10:08:42.136Z"
   },
   {
    "duration": 501,
    "start_time": "2023-04-21T10:08:42.164Z"
   },
   {
    "duration": 27,
    "start_time": "2023-04-21T10:08:42.667Z"
   },
   {
    "duration": 38,
    "start_time": "2023-04-21T10:08:42.697Z"
   },
   {
    "duration": 24,
    "start_time": "2023-04-21T10:08:42.738Z"
   },
   {
    "duration": 37,
    "start_time": "2023-04-21T10:08:42.765Z"
   },
   {
    "duration": 51,
    "start_time": "2023-04-21T10:08:42.804Z"
   },
   {
    "duration": 48,
    "start_time": "2023-04-21T10:08:42.858Z"
   },
   {
    "duration": 38,
    "start_time": "2023-04-21T10:08:42.909Z"
   },
   {
    "duration": 41,
    "start_time": "2023-04-21T10:08:42.951Z"
   },
   {
    "duration": 39,
    "start_time": "2023-04-21T10:08:42.995Z"
   },
   {
    "duration": 3,
    "start_time": "2023-04-21T10:08:43.037Z"
   },
   {
    "duration": 53,
    "start_time": "2023-04-21T10:08:43.043Z"
   },
   {
    "duration": 243,
    "start_time": "2023-04-21T10:08:43.098Z"
   },
   {
    "duration": 9,
    "start_time": "2023-04-21T10:08:43.344Z"
   },
   {
    "duration": 207,
    "start_time": "2023-04-21T10:08:43.356Z"
   },
   {
    "duration": 225,
    "start_time": "2023-04-21T10:08:43.565Z"
   },
   {
    "duration": 296,
    "start_time": "2023-04-21T10:08:43.796Z"
   },
   {
    "duration": 205,
    "start_time": "2023-04-21T10:08:44.094Z"
   },
   {
    "duration": 272,
    "start_time": "2023-04-21T10:08:44.302Z"
   },
   {
    "duration": 5750,
    "start_time": "2023-04-21T10:08:44.576Z"
   },
   {
    "duration": 5,
    "start_time": "2023-04-21T10:08:50.329Z"
   },
   {
    "duration": 18,
    "start_time": "2023-04-21T10:08:50.336Z"
   },
   {
    "duration": 29,
    "start_time": "2023-04-21T10:08:50.356Z"
   },
   {
    "duration": 59,
    "start_time": "2023-04-21T10:08:50.388Z"
   },
   {
    "duration": 208,
    "start_time": "2023-04-21T10:08:50.450Z"
   },
   {
    "duration": 8,
    "start_time": "2023-04-21T10:08:50.660Z"
   },
   {
    "duration": 763,
    "start_time": "2023-04-21T10:08:50.671Z"
   },
   {
    "duration": 2148,
    "start_time": "2023-04-21T10:13:47.528Z"
   },
   {
    "duration": 4,
    "start_time": "2023-04-21T10:13:49.678Z"
   },
   {
    "duration": 85,
    "start_time": "2023-04-21T10:13:49.685Z"
   },
   {
    "duration": 32,
    "start_time": "2023-04-21T10:13:49.773Z"
   },
   {
    "duration": 34,
    "start_time": "2023-04-21T10:13:49.807Z"
   },
   {
    "duration": 27,
    "start_time": "2023-04-21T10:13:49.843Z"
   },
   {
    "duration": 386,
    "start_time": "2023-04-21T10:13:49.872Z"
   },
   {
    "duration": 341,
    "start_time": "2023-04-21T10:13:50.260Z"
   },
   {
    "duration": 27,
    "start_time": "2023-04-21T10:13:50.603Z"
   },
   {
    "duration": 34,
    "start_time": "2023-04-21T10:13:50.636Z"
   },
   {
    "duration": 4,
    "start_time": "2023-04-21T10:13:50.672Z"
   },
   {
    "duration": 11,
    "start_time": "2023-04-21T10:13:50.678Z"
   },
   {
    "duration": 2938,
    "start_time": "2023-04-21T10:13:50.691Z"
   },
   {
    "duration": 66,
    "start_time": "2023-04-21T10:13:53.630Z"
   },
   {
    "duration": 29,
    "start_time": "2023-04-21T10:13:53.698Z"
   },
   {
    "duration": 6,
    "start_time": "2023-04-21T10:13:53.729Z"
   },
   {
    "duration": 32,
    "start_time": "2023-04-21T10:13:53.737Z"
   },
   {
    "duration": 62,
    "start_time": "2023-04-21T10:13:53.771Z"
   },
   {
    "duration": 9,
    "start_time": "2023-04-21T10:13:53.836Z"
   },
   {
    "duration": 29,
    "start_time": "2023-04-21T10:13:53.848Z"
   },
   {
    "duration": 21,
    "start_time": "2023-04-21T10:13:53.879Z"
   },
   {
    "duration": 389,
    "start_time": "2023-04-21T10:13:53.902Z"
   },
   {
    "duration": 36,
    "start_time": "2023-04-21T10:13:54.293Z"
   },
   {
    "duration": 31,
    "start_time": "2023-04-21T10:13:54.331Z"
   },
   {
    "duration": 4,
    "start_time": "2023-04-21T10:13:54.364Z"
   },
   {
    "duration": 40,
    "start_time": "2023-04-21T10:13:54.370Z"
   },
   {
    "duration": 348,
    "start_time": "2023-04-21T10:13:54.412Z"
   },
   {
    "duration": 51,
    "start_time": "2023-04-21T10:13:54.764Z"
   },
   {
    "duration": 25,
    "start_time": "2023-04-21T10:13:54.817Z"
   },
   {
    "duration": 9,
    "start_time": "2023-04-21T10:13:54.844Z"
   },
   {
    "duration": 29,
    "start_time": "2023-04-21T10:13:54.855Z"
   },
   {
    "duration": 1909,
    "start_time": "2023-04-21T10:13:54.886Z"
   },
   {
    "duration": 3006,
    "start_time": "2023-04-21T10:13:56.797Z"
   },
   {
    "duration": 54,
    "start_time": "2023-04-21T10:13:59.805Z"
   },
   {
    "duration": 17,
    "start_time": "2023-04-21T10:13:59.861Z"
   },
   {
    "duration": 5,
    "start_time": "2023-04-21T10:13:59.880Z"
   },
   {
    "duration": 15,
    "start_time": "2023-04-21T10:13:59.886Z"
   },
   {
    "duration": 199,
    "start_time": "2023-04-21T10:13:59.903Z"
   },
   {
    "duration": 8282,
    "start_time": "2023-04-21T10:14:00.104Z"
   },
   {
    "duration": 18,
    "start_time": "2023-04-21T10:14:08.388Z"
   },
   {
    "duration": 31,
    "start_time": "2023-04-21T10:14:08.409Z"
   },
   {
    "duration": 477,
    "start_time": "2023-04-21T10:14:08.442Z"
   },
   {
    "duration": 34,
    "start_time": "2023-04-21T10:14:08.922Z"
   },
   {
    "duration": 10,
    "start_time": "2023-04-21T10:14:08.958Z"
   },
   {
    "duration": 9,
    "start_time": "2023-04-21T10:14:08.970Z"
   },
   {
    "duration": 6,
    "start_time": "2023-04-21T10:14:08.981Z"
   },
   {
    "duration": 17,
    "start_time": "2023-04-21T10:14:08.988Z"
   },
   {
    "duration": 31,
    "start_time": "2023-04-21T10:14:09.034Z"
   },
   {
    "duration": 27,
    "start_time": "2023-04-21T10:14:09.067Z"
   },
   {
    "duration": 55,
    "start_time": "2023-04-21T10:14:09.096Z"
   },
   {
    "duration": 14,
    "start_time": "2023-04-21T10:14:09.153Z"
   },
   {
    "duration": 3,
    "start_time": "2023-04-21T10:14:09.169Z"
   },
   {
    "duration": 33,
    "start_time": "2023-04-21T10:14:09.173Z"
   },
   {
    "duration": 184,
    "start_time": "2023-04-21T10:14:09.208Z"
   },
   {
    "duration": 6,
    "start_time": "2023-04-21T10:14:09.394Z"
   },
   {
    "duration": 190,
    "start_time": "2023-04-21T10:14:09.402Z"
   },
   {
    "duration": 180,
    "start_time": "2023-04-21T10:14:09.593Z"
   },
   {
    "duration": 185,
    "start_time": "2023-04-21T10:14:09.775Z"
   },
   {
    "duration": 180,
    "start_time": "2023-04-21T10:14:09.961Z"
   },
   {
    "duration": 184,
    "start_time": "2023-04-21T10:14:10.143Z"
   },
   {
    "duration": 4952,
    "start_time": "2023-04-21T10:14:10.334Z"
   },
   {
    "duration": 5,
    "start_time": "2023-04-21T10:14:15.288Z"
   },
   {
    "duration": 30,
    "start_time": "2023-04-21T10:14:15.295Z"
   },
   {
    "duration": 26,
    "start_time": "2023-04-21T10:14:15.327Z"
   },
   {
    "duration": 42,
    "start_time": "2023-04-21T10:14:15.355Z"
   },
   {
    "duration": 200,
    "start_time": "2023-04-21T10:14:15.400Z"
   },
   {
    "duration": 6,
    "start_time": "2023-04-21T10:14:15.602Z"
   },
   {
    "duration": 232,
    "start_time": "2023-04-21T10:14:15.610Z"
   },
   {
    "duration": 422508,
    "start_time": "2023-04-21T10:14:15.845Z"
   },
   {
    "duration": 20760,
    "start_time": "2023-04-21T10:21:18.355Z"
   },
   {
    "duration": 4573,
    "start_time": "2023-04-21T10:21:39.118Z"
   },
   {
    "duration": 202742,
    "start_time": "2023-04-21T10:21:43.693Z"
   },
   {
    "duration": 239139,
    "start_time": "2023-04-21T10:25:06.438Z"
   },
   {
    "duration": 210,
    "start_time": "2023-04-21T10:29:05.579Z"
   },
   {
    "duration": 0,
    "start_time": "2023-04-21T10:29:05.791Z"
   },
   {
    "duration": 0,
    "start_time": "2023-04-21T10:29:05.793Z"
   },
   {
    "duration": 0,
    "start_time": "2023-04-21T10:29:05.793Z"
   },
   {
    "duration": 0,
    "start_time": "2023-04-21T10:29:05.795Z"
   },
   {
    "duration": 0,
    "start_time": "2023-04-21T10:29:05.796Z"
   },
   {
    "duration": 0,
    "start_time": "2023-04-21T10:29:05.797Z"
   },
   {
    "duration": 25,
    "start_time": "2023-04-21T10:31:54.886Z"
   },
   {
    "duration": 17,
    "start_time": "2023-04-21T10:32:07.930Z"
   },
   {
    "duration": 20,
    "start_time": "2023-04-21T10:32:43.253Z"
   },
   {
    "duration": 1310,
    "start_time": "2023-04-21T10:33:41.520Z"
   },
   {
    "duration": 974,
    "start_time": "2023-04-21T10:33:59.299Z"
   },
   {
    "duration": 9,
    "start_time": "2023-04-21T10:34:22.347Z"
   },
   {
    "duration": 57,
    "start_time": "2023-04-21T10:35:28.163Z"
   },
   {
    "duration": 11,
    "start_time": "2023-04-21T10:37:52.838Z"
   },
   {
    "duration": 8,
    "start_time": "2023-04-21T10:37:52.866Z"
   },
   {
    "duration": 20,
    "start_time": "2023-04-21T10:37:52.897Z"
   },
   {
    "duration": 4232,
    "start_time": "2023-04-21T10:37:52.919Z"
   },
   {
    "duration": 3,
    "start_time": "2023-04-21T10:37:57.153Z"
   },
   {
    "duration": 6,
    "start_time": "2023-04-21T10:37:57.158Z"
   },
   {
    "duration": 9,
    "start_time": "2023-04-21T10:37:57.166Z"
   },
   {
    "duration": 5,
    "start_time": "2023-04-21T10:47:13.514Z"
   },
   {
    "duration": 515,
    "start_time": "2023-04-21T10:48:15.140Z"
   },
   {
    "duration": 4,
    "start_time": "2023-04-21T10:50:21.970Z"
   },
   {
    "duration": 4,
    "start_time": "2023-04-21T10:50:22.010Z"
   },
   {
    "duration": 69,
    "start_time": "2023-04-21T10:50:22.046Z"
   },
   {
    "duration": 35,
    "start_time": "2023-04-21T10:50:22.117Z"
   },
   {
    "duration": 6,
    "start_time": "2023-04-21T10:50:22.154Z"
   },
   {
    "duration": 12,
    "start_time": "2023-04-21T10:50:22.162Z"
   },
   {
    "duration": 350,
    "start_time": "2023-04-21T10:50:22.176Z"
   },
   {
    "duration": 315,
    "start_time": "2023-04-21T10:50:22.534Z"
   },
   {
    "duration": 27,
    "start_time": "2023-04-21T10:50:22.851Z"
   },
   {
    "duration": 30,
    "start_time": "2023-04-21T10:50:22.881Z"
   },
   {
    "duration": 22,
    "start_time": "2023-04-21T10:50:22.912Z"
   },
   {
    "duration": 7,
    "start_time": "2023-04-21T10:50:22.937Z"
   },
   {
    "duration": 3064,
    "start_time": "2023-04-21T10:50:22.946Z"
   },
   {
    "duration": 67,
    "start_time": "2023-04-21T10:50:26.012Z"
   },
   {
    "duration": 34,
    "start_time": "2023-04-21T10:50:26.081Z"
   },
   {
    "duration": 5,
    "start_time": "2023-04-21T10:50:26.117Z"
   },
   {
    "duration": 14,
    "start_time": "2023-04-21T10:50:26.123Z"
   },
   {
    "duration": 45,
    "start_time": "2023-04-21T10:50:26.139Z"
   },
   {
    "duration": 7,
    "start_time": "2023-04-21T10:50:26.187Z"
   },
   {
    "duration": 5,
    "start_time": "2023-04-21T10:50:26.196Z"
   },
   {
    "duration": 20,
    "start_time": "2023-04-21T10:50:26.202Z"
   },
   {
    "duration": 357,
    "start_time": "2023-04-21T10:50:26.224Z"
   },
   {
    "duration": 43,
    "start_time": "2023-04-21T10:50:26.584Z"
   },
   {
    "duration": 31,
    "start_time": "2023-04-21T10:50:26.636Z"
   },
   {
    "duration": 6,
    "start_time": "2023-04-21T10:50:26.670Z"
   },
   {
    "duration": 19,
    "start_time": "2023-04-21T10:50:26.679Z"
   },
   {
    "duration": 419,
    "start_time": "2023-04-21T10:50:26.700Z"
   },
   {
    "duration": 48,
    "start_time": "2023-04-21T10:50:27.121Z"
   },
   {
    "duration": 21,
    "start_time": "2023-04-21T10:50:27.171Z"
   },
   {
    "duration": 6,
    "start_time": "2023-04-21T10:50:27.194Z"
   },
   {
    "duration": 12,
    "start_time": "2023-04-21T10:50:27.202Z"
   },
   {
    "duration": 2051,
    "start_time": "2023-04-21T10:50:27.215Z"
   },
   {
    "duration": 2005,
    "start_time": "2023-04-21T10:50:34.650Z"
   },
   {
    "duration": 4,
    "start_time": "2023-04-21T10:50:36.657Z"
   },
   {
    "duration": 78,
    "start_time": "2023-04-21T10:50:36.663Z"
   },
   {
    "duration": 32,
    "start_time": "2023-04-21T10:50:36.743Z"
   },
   {
    "duration": 6,
    "start_time": "2023-04-21T10:50:36.777Z"
   },
   {
    "duration": 12,
    "start_time": "2023-04-21T10:50:36.785Z"
   },
   {
    "duration": 443,
    "start_time": "2023-04-21T10:50:36.799Z"
   },
   {
    "duration": 317,
    "start_time": "2023-04-21T10:50:37.244Z"
   },
   {
    "duration": 27,
    "start_time": "2023-04-21T10:50:37.563Z"
   },
   {
    "duration": 43,
    "start_time": "2023-04-21T10:50:37.593Z"
   },
   {
    "duration": 4,
    "start_time": "2023-04-21T10:50:37.638Z"
   },
   {
    "duration": 10,
    "start_time": "2023-04-21T10:50:37.644Z"
   },
   {
    "duration": 2637,
    "start_time": "2023-04-21T10:50:37.655Z"
   },
   {
    "duration": 56,
    "start_time": "2023-04-21T10:50:40.294Z"
   },
   {
    "duration": 32,
    "start_time": "2023-04-21T10:50:40.352Z"
   },
   {
    "duration": 5,
    "start_time": "2023-04-21T10:50:40.386Z"
   },
   {
    "duration": 10,
    "start_time": "2023-04-21T10:50:40.392Z"
   },
   {
    "duration": 53,
    "start_time": "2023-04-21T10:50:40.403Z"
   },
   {
    "duration": 6,
    "start_time": "2023-04-21T10:50:40.458Z"
   },
   {
    "duration": 6,
    "start_time": "2023-04-21T10:50:40.466Z"
   },
   {
    "duration": 12,
    "start_time": "2023-04-21T10:50:40.473Z"
   },
   {
    "duration": 349,
    "start_time": "2023-04-21T10:50:40.487Z"
   },
   {
    "duration": 37,
    "start_time": "2023-04-21T10:50:40.838Z"
   },
   {
    "duration": 19,
    "start_time": "2023-04-21T10:50:40.877Z"
   },
   {
    "duration": 13,
    "start_time": "2023-04-21T10:50:40.898Z"
   },
   {
    "duration": 21,
    "start_time": "2023-04-21T10:50:40.913Z"
   },
   {
    "duration": 321,
    "start_time": "2023-04-21T10:50:40.936Z"
   },
   {
    "duration": 27,
    "start_time": "2023-04-21T10:50:41.262Z"
   },
   {
    "duration": 25,
    "start_time": "2023-04-21T10:50:41.291Z"
   },
   {
    "duration": 16,
    "start_time": "2023-04-21T10:50:41.319Z"
   },
   {
    "duration": 24,
    "start_time": "2023-04-21T10:50:41.337Z"
   },
   {
    "duration": 1784,
    "start_time": "2023-04-21T10:50:41.364Z"
   },
   {
    "duration": 2765,
    "start_time": "2023-04-21T10:50:43.151Z"
   },
   {
    "duration": 52,
    "start_time": "2023-04-21T10:50:45.917Z"
   },
   {
    "duration": 19,
    "start_time": "2023-04-21T10:50:45.972Z"
   },
   {
    "duration": 16,
    "start_time": "2023-04-21T10:50:45.994Z"
   },
   {
    "duration": 15,
    "start_time": "2023-04-21T10:50:46.012Z"
   },
   {
    "duration": 194,
    "start_time": "2023-04-21T10:50:46.029Z"
   },
   {
    "duration": 7938,
    "start_time": "2023-04-21T10:50:46.225Z"
   },
   {
    "duration": 17,
    "start_time": "2023-04-21T10:50:54.164Z"
   },
   {
    "duration": 14,
    "start_time": "2023-04-21T10:50:54.183Z"
   },
   {
    "duration": 417,
    "start_time": "2023-04-21T10:50:54.199Z"
   },
   {
    "duration": 27,
    "start_time": "2023-04-21T10:50:54.618Z"
   },
   {
    "duration": 11,
    "start_time": "2023-04-21T10:50:54.647Z"
   },
   {
    "duration": 14,
    "start_time": "2023-04-21T10:50:54.660Z"
   },
   {
    "duration": 15,
    "start_time": "2023-04-21T10:50:54.675Z"
   },
   {
    "duration": 17,
    "start_time": "2023-04-21T10:50:54.692Z"
   },
   {
    "duration": 45,
    "start_time": "2023-04-21T10:50:54.710Z"
   },
   {
    "duration": 25,
    "start_time": "2023-04-21T10:50:54.757Z"
   },
   {
    "duration": 27,
    "start_time": "2023-04-21T10:50:54.784Z"
   },
   {
    "duration": 17,
    "start_time": "2023-04-21T10:50:54.833Z"
   },
   {
    "duration": 2,
    "start_time": "2023-04-21T10:50:54.852Z"
   },
   {
    "duration": 36,
    "start_time": "2023-04-21T10:50:54.856Z"
   },
   {
    "duration": 175,
    "start_time": "2023-04-21T10:50:54.894Z"
   },
   {
    "duration": 7,
    "start_time": "2023-04-21T10:50:55.071Z"
   },
   {
    "duration": 178,
    "start_time": "2023-04-21T10:50:55.079Z"
   },
   {
    "duration": 176,
    "start_time": "2023-04-21T10:50:55.259Z"
   },
   {
    "duration": 177,
    "start_time": "2023-04-21T10:50:55.437Z"
   },
   {
    "duration": 170,
    "start_time": "2023-04-21T10:50:55.616Z"
   },
   {
    "duration": 182,
    "start_time": "2023-04-21T10:50:55.788Z"
   },
   {
    "duration": 4732,
    "start_time": "2023-04-21T10:50:55.973Z"
   },
   {
    "duration": 4,
    "start_time": "2023-04-21T10:51:00.708Z"
   },
   {
    "duration": 60,
    "start_time": "2023-04-21T10:51:00.715Z"
   },
   {
    "duration": 36,
    "start_time": "2023-04-21T10:51:00.778Z"
   },
   {
    "duration": 47,
    "start_time": "2023-04-21T10:51:00.816Z"
   },
   {
    "duration": 207,
    "start_time": "2023-04-21T10:51:00.865Z"
   },
   {
    "duration": 8,
    "start_time": "2023-04-21T10:51:01.074Z"
   },
   {
    "duration": 354,
    "start_time": "2023-04-21T10:51:01.084Z"
   },
   {
    "duration": 402702,
    "start_time": "2023-04-21T10:51:01.442Z"
   },
   {
    "duration": 18766,
    "start_time": "2023-04-21T10:57:44.146Z"
   },
   {
    "duration": 4234,
    "start_time": "2023-04-21T10:58:02.913Z"
   },
   {
    "duration": 1148591,
    "start_time": "2023-04-21T10:58:07.149Z"
   },
   {
    "duration": 261727,
    "start_time": "2023-04-21T11:17:15.742Z"
   },
   {
    "duration": 67,
    "start_time": "2023-04-21T11:21:37.471Z"
   },
   {
    "duration": 11,
    "start_time": "2023-04-21T11:21:37.540Z"
   },
   {
    "duration": 5,
    "start_time": "2023-04-21T11:21:37.553Z"
   },
   {
    "duration": 3451,
    "start_time": "2023-04-21T11:21:37.559Z"
   },
   {
    "duration": 452,
    "start_time": "2023-04-21T11:21:41.012Z"
   },
   {
    "duration": 2,
    "start_time": "2023-04-21T11:21:41.466Z"
   },
   {
    "duration": 9,
    "start_time": "2023-04-21T11:21:41.469Z"
   },
   {
    "duration": 5,
    "start_time": "2023-04-21T11:21:41.480Z"
   },
   {
    "duration": 3,
    "start_time": "2023-04-21T14:14:10.853Z"
   },
   {
    "duration": 3,
    "start_time": "2023-04-21T14:14:14.163Z"
   },
   {
    "duration": 49,
    "start_time": "2023-04-21T14:14:25.443Z"
   },
   {
    "duration": 6,
    "start_time": "2023-04-21T14:14:29.969Z"
   },
   {
    "duration": 4005,
    "start_time": "2023-04-21T14:58:01.125Z"
   },
   {
    "duration": 3,
    "start_time": "2023-04-21T14:58:05.132Z"
   },
   {
    "duration": 232,
    "start_time": "2023-04-21T14:58:05.137Z"
   },
   {
    "duration": 32,
    "start_time": "2023-04-21T14:58:05.371Z"
   },
   {
    "duration": 5,
    "start_time": "2023-04-21T14:58:05.405Z"
   },
   {
    "duration": 8,
    "start_time": "2023-04-21T14:58:05.420Z"
   },
   {
    "duration": 333,
    "start_time": "2023-04-21T14:58:05.432Z"
   },
   {
    "duration": 330,
    "start_time": "2023-04-21T14:58:05.766Z"
   },
   {
    "duration": 136,
    "start_time": "2023-04-21T14:58:06.098Z"
   },
   {
    "duration": 31,
    "start_time": "2023-04-21T14:58:06.237Z"
   },
   {
    "duration": 5,
    "start_time": "2023-04-21T14:58:06.269Z"
   },
   {
    "duration": 60,
    "start_time": "2023-04-21T14:58:06.276Z"
   },
   {
    "duration": 2748,
    "start_time": "2023-04-21T14:58:06.338Z"
   },
   {
    "duration": 204,
    "start_time": "2023-04-21T14:58:09.089Z"
   },
   {
    "duration": 31,
    "start_time": "2023-04-21T14:58:09.295Z"
   },
   {
    "duration": 5,
    "start_time": "2023-04-21T14:58:09.328Z"
   },
   {
    "duration": 23,
    "start_time": "2023-04-21T14:58:09.335Z"
   },
   {
    "duration": 88,
    "start_time": "2023-04-21T14:58:09.359Z"
   },
   {
    "duration": 5,
    "start_time": "2023-04-21T14:58:09.449Z"
   },
   {
    "duration": 7,
    "start_time": "2023-04-21T14:58:09.456Z"
   },
   {
    "duration": 29,
    "start_time": "2023-04-21T14:58:09.464Z"
   },
   {
    "duration": 333,
    "start_time": "2023-04-21T14:58:09.494Z"
   },
   {
    "duration": 119,
    "start_time": "2023-04-21T14:58:09.828Z"
   },
   {
    "duration": 19,
    "start_time": "2023-04-21T14:58:09.949Z"
   },
   {
    "duration": 5,
    "start_time": "2023-04-21T14:58:09.969Z"
   },
   {
    "duration": 24,
    "start_time": "2023-04-21T14:58:09.976Z"
   },
   {
    "duration": 325,
    "start_time": "2023-04-21T14:58:10.002Z"
   },
   {
    "duration": 72,
    "start_time": "2023-04-21T14:58:10.332Z"
   },
   {
    "duration": 26,
    "start_time": "2023-04-21T14:58:10.406Z"
   },
   {
    "duration": 5,
    "start_time": "2023-04-21T14:58:10.436Z"
   },
   {
    "duration": 7,
    "start_time": "2023-04-21T14:58:10.443Z"
   },
   {
    "duration": 1789,
    "start_time": "2023-04-21T14:58:10.451Z"
   },
   {
    "duration": 2781,
    "start_time": "2023-04-21T14:58:12.242Z"
   },
   {
    "duration": 75,
    "start_time": "2023-04-21T14:58:15.025Z"
   },
   {
    "duration": 25,
    "start_time": "2023-04-21T14:58:15.102Z"
   },
   {
    "duration": 5,
    "start_time": "2023-04-21T14:58:15.129Z"
   },
   {
    "duration": 19,
    "start_time": "2023-04-21T14:58:15.136Z"
   },
   {
    "duration": 187,
    "start_time": "2023-04-21T14:58:15.157Z"
   },
   {
    "duration": 7653,
    "start_time": "2023-04-21T14:58:15.345Z"
   },
   {
    "duration": 31,
    "start_time": "2023-04-21T14:58:22.999Z"
   },
   {
    "duration": 17,
    "start_time": "2023-04-21T14:58:23.031Z"
   },
   {
    "duration": 446,
    "start_time": "2023-04-21T14:58:23.050Z"
   },
   {
    "duration": 33,
    "start_time": "2023-04-21T14:58:23.497Z"
   },
   {
    "duration": 16,
    "start_time": "2023-04-21T14:58:23.532Z"
   },
   {
    "duration": 52,
    "start_time": "2023-04-21T14:58:23.549Z"
   },
   {
    "duration": 36,
    "start_time": "2023-04-21T14:58:23.603Z"
   },
   {
    "duration": 21,
    "start_time": "2023-04-21T14:58:23.641Z"
   },
   {
    "duration": 61,
    "start_time": "2023-04-21T14:58:23.664Z"
   },
   {
    "duration": 25,
    "start_time": "2023-04-21T14:58:23.727Z"
   },
   {
    "duration": 28,
    "start_time": "2023-04-21T14:58:23.754Z"
   },
   {
    "duration": 44,
    "start_time": "2023-04-21T14:58:23.784Z"
   },
   {
    "duration": 3,
    "start_time": "2023-04-21T14:58:23.832Z"
   },
   {
    "duration": 31,
    "start_time": "2023-04-21T14:58:23.837Z"
   },
   {
    "duration": 178,
    "start_time": "2023-04-21T14:58:23.870Z"
   },
   {
    "duration": 6,
    "start_time": "2023-04-21T14:58:24.050Z"
   },
   {
    "duration": 188,
    "start_time": "2023-04-21T14:58:24.058Z"
   },
   {
    "duration": 172,
    "start_time": "2023-04-21T14:58:24.247Z"
   },
   {
    "duration": 184,
    "start_time": "2023-04-21T14:58:24.420Z"
   },
   {
    "duration": 183,
    "start_time": "2023-04-21T14:58:24.606Z"
   },
   {
    "duration": 175,
    "start_time": "2023-04-21T14:58:24.790Z"
   },
   {
    "duration": 4782,
    "start_time": "2023-04-21T14:58:24.967Z"
   },
   {
    "duration": 6,
    "start_time": "2023-04-21T14:58:29.750Z"
   },
   {
    "duration": 16,
    "start_time": "2023-04-21T14:58:29.758Z"
   },
   {
    "duration": 15,
    "start_time": "2023-04-21T14:58:29.776Z"
   },
   {
    "duration": 48,
    "start_time": "2023-04-21T14:58:29.793Z"
   },
   {
    "duration": 84,
    "start_time": "2023-04-21T14:58:29.844Z"
   },
   {
    "duration": 0,
    "start_time": "2023-04-21T14:58:29.930Z"
   },
   {
    "duration": 0,
    "start_time": "2023-04-21T14:58:29.931Z"
   },
   {
    "duration": 0,
    "start_time": "2023-04-21T14:58:29.932Z"
   },
   {
    "duration": 0,
    "start_time": "2023-04-21T14:58:29.933Z"
   },
   {
    "duration": 0,
    "start_time": "2023-04-21T14:58:29.934Z"
   },
   {
    "duration": 0,
    "start_time": "2023-04-21T14:58:29.936Z"
   },
   {
    "duration": 0,
    "start_time": "2023-04-21T14:58:29.937Z"
   },
   {
    "duration": 0,
    "start_time": "2023-04-21T14:58:29.938Z"
   },
   {
    "duration": 0,
    "start_time": "2023-04-21T14:58:29.939Z"
   },
   {
    "duration": 0,
    "start_time": "2023-04-21T14:58:29.940Z"
   },
   {
    "duration": 0,
    "start_time": "2023-04-21T14:58:29.941Z"
   },
   {
    "duration": 0,
    "start_time": "2023-04-21T14:58:29.942Z"
   },
   {
    "duration": 0,
    "start_time": "2023-04-21T14:58:29.944Z"
   },
   {
    "duration": 0,
    "start_time": "2023-04-21T14:58:29.944Z"
   },
   {
    "duration": 0,
    "start_time": "2023-04-21T14:58:29.945Z"
   },
   {
    "duration": 3,
    "start_time": "2023-04-21T15:03:27.162Z"
   },
   {
    "duration": 9,
    "start_time": "2023-04-21T15:03:27.308Z"
   },
   {
    "duration": 197,
    "start_time": "2023-04-21T15:03:27.443Z"
   },
   {
    "duration": 17,
    "start_time": "2023-04-21T16:08:19.656Z"
   },
   {
    "duration": 6,
    "start_time": "2023-04-21T16:08:19.675Z"
   },
   {
    "duration": 110,
    "start_time": "2023-04-21T16:08:19.683Z"
   },
   {
    "duration": 48,
    "start_time": "2023-04-21T16:08:19.795Z"
   },
   {
    "duration": 6,
    "start_time": "2023-04-21T16:08:19.845Z"
   },
   {
    "duration": 24,
    "start_time": "2023-04-21T16:08:19.853Z"
   },
   {
    "duration": 372,
    "start_time": "2023-04-21T16:08:19.878Z"
   },
   {
    "duration": 329,
    "start_time": "2023-04-21T16:08:20.252Z"
   },
   {
    "duration": 27,
    "start_time": "2023-04-21T16:08:20.583Z"
   },
   {
    "duration": 280,
    "start_time": "2023-04-21T16:08:20.612Z"
   },
   {
    "duration": 26,
    "start_time": "2023-04-21T16:08:20.894Z"
   },
   {
    "duration": 10,
    "start_time": "2023-04-21T16:08:20.931Z"
   },
   {
    "duration": 2852,
    "start_time": "2023-04-21T16:08:20.944Z"
   },
   {
    "duration": 70,
    "start_time": "2023-04-21T16:08:23.798Z"
   },
   {
    "duration": 38,
    "start_time": "2023-04-21T16:08:23.870Z"
   },
   {
    "duration": 6,
    "start_time": "2023-04-21T16:08:23.910Z"
   },
   {
    "duration": 14,
    "start_time": "2023-04-21T16:08:23.923Z"
   },
   {
    "duration": 61,
    "start_time": "2023-04-21T16:08:23.940Z"
   },
   {
    "duration": 6,
    "start_time": "2023-04-21T16:08:24.003Z"
   },
   {
    "duration": 9,
    "start_time": "2023-04-21T16:08:24.011Z"
   },
   {
    "duration": 10,
    "start_time": "2023-04-21T16:08:24.023Z"
   },
   {
    "duration": 331,
    "start_time": "2023-04-21T16:08:24.035Z"
   },
   {
    "duration": 34,
    "start_time": "2023-04-21T16:08:24.368Z"
   },
   {
    "duration": 28,
    "start_time": "2023-04-21T16:08:24.405Z"
   },
   {
    "duration": 6,
    "start_time": "2023-04-21T16:08:24.435Z"
   },
   {
    "duration": 8,
    "start_time": "2023-04-21T16:08:24.443Z"
   },
   {
    "duration": 328,
    "start_time": "2023-04-21T16:08:24.453Z"
   },
   {
    "duration": 27,
    "start_time": "2023-04-21T16:08:24.783Z"
   },
   {
    "duration": 29,
    "start_time": "2023-04-21T16:08:24.814Z"
   },
   {
    "duration": 5,
    "start_time": "2023-04-21T16:08:24.845Z"
   },
   {
    "duration": 12,
    "start_time": "2023-04-21T16:08:24.852Z"
   },
   {
    "duration": 1945,
    "start_time": "2023-04-21T16:08:24.866Z"
   },
   {
    "duration": 3056,
    "start_time": "2023-04-21T16:08:26.818Z"
   },
   {
    "duration": 74,
    "start_time": "2023-04-21T16:08:29.876Z"
   },
   {
    "duration": 22,
    "start_time": "2023-04-21T16:08:29.952Z"
   },
   {
    "duration": 5,
    "start_time": "2023-04-21T16:08:29.976Z"
   },
   {
    "duration": 8,
    "start_time": "2023-04-21T16:08:29.983Z"
   },
   {
    "duration": 29,
    "start_time": "2023-04-21T16:08:29.993Z"
   },
   {
    "duration": 8189,
    "start_time": "2023-04-21T16:08:30.030Z"
   },
   {
    "duration": 25,
    "start_time": "2023-04-21T16:08:38.221Z"
   },
   {
    "duration": 17,
    "start_time": "2023-04-21T16:08:38.248Z"
   },
   {
    "duration": 435,
    "start_time": "2023-04-21T16:08:38.267Z"
   },
   {
    "duration": 39,
    "start_time": "2023-04-21T16:08:38.704Z"
   },
   {
    "duration": 15,
    "start_time": "2023-04-21T16:08:38.750Z"
   },
   {
    "duration": 7,
    "start_time": "2023-04-21T16:08:38.767Z"
   },
   {
    "duration": 3,
    "start_time": "2023-04-21T16:08:38.776Z"
   },
   {
    "duration": 16,
    "start_time": "2023-04-21T16:08:38.781Z"
   },
   {
    "duration": 47,
    "start_time": "2023-04-21T16:08:38.801Z"
   },
   {
    "duration": 33,
    "start_time": "2023-04-21T16:08:38.850Z"
   },
   {
    "duration": 49,
    "start_time": "2023-04-21T16:08:38.885Z"
   },
   {
    "duration": 22,
    "start_time": "2023-04-21T16:08:38.937Z"
   },
   {
    "duration": 4,
    "start_time": "2023-04-21T16:08:38.961Z"
   },
   {
    "duration": 49,
    "start_time": "2023-04-21T16:08:38.967Z"
   },
   {
    "duration": 223,
    "start_time": "2023-04-21T16:08:39.017Z"
   },
   {
    "duration": 10,
    "start_time": "2023-04-21T16:08:39.242Z"
   },
   {
    "duration": 233,
    "start_time": "2023-04-21T16:08:39.255Z"
   },
   {
    "duration": 204,
    "start_time": "2023-04-21T16:08:39.490Z"
   },
   {
    "duration": 179,
    "start_time": "2023-04-21T16:08:39.696Z"
   },
   {
    "duration": 171,
    "start_time": "2023-04-21T16:08:39.877Z"
   },
   {
    "duration": 195,
    "start_time": "2023-04-21T16:08:40.050Z"
   },
   {
    "duration": 5184,
    "start_time": "2023-04-21T16:08:40.247Z"
   },
   {
    "duration": 5,
    "start_time": "2023-04-21T16:08:45.433Z"
   },
   {
    "duration": 13,
    "start_time": "2023-04-21T16:08:45.440Z"
   },
   {
    "duration": 14,
    "start_time": "2023-04-21T16:08:45.455Z"
   },
   {
    "duration": 47,
    "start_time": "2023-04-21T16:08:45.471Z"
   },
   {
    "duration": 6,
    "start_time": "2023-04-21T16:08:45.524Z"
   },
   {
    "duration": 8,
    "start_time": "2023-04-21T16:08:45.532Z"
   },
   {
    "duration": 194,
    "start_time": "2023-04-21T16:08:45.541Z"
   },
   {
    "duration": 475410,
    "start_time": "2023-04-21T16:08:45.737Z"
   },
   {
    "duration": 23279,
    "start_time": "2023-04-21T16:16:41.149Z"
   },
   {
    "duration": 4562,
    "start_time": "2023-04-21T16:17:04.431Z"
   },
   {
    "duration": 1084941,
    "start_time": "2023-04-21T16:17:08.996Z"
   },
   {
    "duration": 563391,
    "start_time": "2023-04-21T16:35:13.939Z"
   },
   {
    "duration": 12,
    "start_time": "2023-04-21T16:44:37.334Z"
   },
   {
    "duration": 3,
    "start_time": "2023-04-21T16:44:37.348Z"
   },
   {
    "duration": 12,
    "start_time": "2023-04-21T16:44:37.353Z"
   },
   {
    "duration": 5383,
    "start_time": "2023-04-21T16:44:37.367Z"
   },
   {
    "duration": 490,
    "start_time": "2023-04-21T16:44:42.752Z"
   },
   {
    "duration": 5,
    "start_time": "2023-04-21T16:44:43.244Z"
   },
   {
    "duration": 12,
    "start_time": "2023-04-21T16:44:43.255Z"
   },
   {
    "duration": 36,
    "start_time": "2023-04-21T16:44:43.268Z"
   },
   {
    "duration": 2483,
    "start_time": "2023-04-21T16:47:37.868Z"
   },
   {
    "duration": 6,
    "start_time": "2023-04-21T16:47:40.359Z"
   },
   {
    "duration": 110,
    "start_time": "2023-04-21T16:47:40.366Z"
   },
   {
    "duration": 31,
    "start_time": "2023-04-21T16:47:40.478Z"
   },
   {
    "duration": 13,
    "start_time": "2023-04-21T16:47:40.512Z"
   },
   {
    "duration": 22,
    "start_time": "2023-04-21T16:47:40.527Z"
   },
   {
    "duration": 428,
    "start_time": "2023-04-21T16:47:40.551Z"
   },
   {
    "duration": 410,
    "start_time": "2023-04-21T16:47:40.982Z"
   },
   {
    "duration": 76,
    "start_time": "2023-04-21T16:47:41.394Z"
   },
   {
    "duration": 52,
    "start_time": "2023-04-21T16:47:41.472Z"
   },
   {
    "duration": 10,
    "start_time": "2023-04-21T16:47:41.525Z"
   },
   {
    "duration": 13,
    "start_time": "2023-04-21T16:47:41.537Z"
   },
   {
    "duration": 3426,
    "start_time": "2023-04-21T16:47:41.552Z"
   },
   {
    "duration": 89,
    "start_time": "2023-04-21T16:47:44.983Z"
   },
   {
    "duration": 32,
    "start_time": "2023-04-21T16:47:45.074Z"
   },
   {
    "duration": 21,
    "start_time": "2023-04-21T16:47:45.108Z"
   },
   {
    "duration": 14,
    "start_time": "2023-04-21T16:47:45.138Z"
   },
   {
    "duration": 50,
    "start_time": "2023-04-21T16:47:45.157Z"
   },
   {
    "duration": 28,
    "start_time": "2023-04-21T16:47:45.209Z"
   },
   {
    "duration": 5,
    "start_time": "2023-04-21T16:47:45.249Z"
   },
   {
    "duration": 15,
    "start_time": "2023-04-21T16:47:45.255Z"
   },
   {
    "duration": 414,
    "start_time": "2023-04-21T16:47:45.273Z"
   },
   {
    "duration": 54,
    "start_time": "2023-04-21T16:47:45.689Z"
   },
   {
    "duration": 33,
    "start_time": "2023-04-21T16:47:45.745Z"
   },
   {
    "duration": 6,
    "start_time": "2023-04-21T16:47:45.780Z"
   },
   {
    "duration": 7,
    "start_time": "2023-04-21T16:47:45.788Z"
   },
   {
    "duration": 398,
    "start_time": "2023-04-21T16:47:45.796Z"
   },
   {
    "duration": 80,
    "start_time": "2023-04-21T16:47:46.196Z"
   },
   {
    "duration": 23,
    "start_time": "2023-04-21T16:47:46.278Z"
   },
   {
    "duration": 5,
    "start_time": "2023-04-21T16:47:46.303Z"
   },
   {
    "duration": 42,
    "start_time": "2023-04-21T16:47:46.310Z"
   },
   {
    "duration": 2635,
    "start_time": "2023-04-21T16:47:46.357Z"
   },
   {
    "duration": 3686,
    "start_time": "2023-04-21T16:47:48.994Z"
   },
   {
    "duration": 84,
    "start_time": "2023-04-21T16:47:52.684Z"
   },
   {
    "duration": 36,
    "start_time": "2023-04-21T16:47:52.771Z"
   },
   {
    "duration": 10,
    "start_time": "2023-04-21T16:47:52.809Z"
   },
   {
    "duration": 29,
    "start_time": "2023-04-21T16:47:52.821Z"
   },
   {
    "duration": 253,
    "start_time": "2023-04-21T16:47:52.852Z"
   },
   {
    "duration": 9793,
    "start_time": "2023-04-21T16:47:53.110Z"
   },
   {
    "duration": 32,
    "start_time": "2023-04-21T16:48:02.905Z"
   },
   {
    "duration": 39,
    "start_time": "2023-04-21T16:48:02.946Z"
   },
   {
    "duration": 513,
    "start_time": "2023-04-21T16:48:02.987Z"
   },
   {
    "duration": 48,
    "start_time": "2023-04-21T16:48:03.502Z"
   },
   {
    "duration": 19,
    "start_time": "2023-04-21T16:48:03.557Z"
   },
   {
    "duration": 10,
    "start_time": "2023-04-21T16:48:03.578Z"
   },
   {
    "duration": 17,
    "start_time": "2023-04-21T16:48:03.591Z"
   },
   {
    "duration": 46,
    "start_time": "2023-04-21T16:48:03.609Z"
   },
   {
    "duration": 28,
    "start_time": "2023-04-21T16:48:03.663Z"
   },
   {
    "duration": 45,
    "start_time": "2023-04-21T16:48:03.693Z"
   },
   {
    "duration": 44,
    "start_time": "2023-04-21T16:48:03.746Z"
   },
   {
    "duration": 16,
    "start_time": "2023-04-21T16:48:03.793Z"
   },
   {
    "duration": 42,
    "start_time": "2023-04-21T16:48:03.812Z"
   },
   {
    "duration": 37,
    "start_time": "2023-04-21T16:48:03.862Z"
   },
   {
    "duration": 259,
    "start_time": "2023-04-21T16:48:03.902Z"
   },
   {
    "duration": 7,
    "start_time": "2023-04-21T16:48:04.165Z"
   },
   {
    "duration": 212,
    "start_time": "2023-04-21T16:48:04.174Z"
   },
   {
    "duration": 210,
    "start_time": "2023-04-21T16:48:04.388Z"
   },
   {
    "duration": 273,
    "start_time": "2023-04-21T16:48:04.601Z"
   },
   {
    "duration": 205,
    "start_time": "2023-04-21T16:48:04.876Z"
   },
   {
    "duration": 245,
    "start_time": "2023-04-21T16:48:05.084Z"
   },
   {
    "duration": 5772,
    "start_time": "2023-04-21T16:48:05.333Z"
   },
   {
    "duration": 12,
    "start_time": "2023-04-21T16:48:11.107Z"
   },
   {
    "duration": 49,
    "start_time": "2023-04-21T16:48:11.123Z"
   },
   {
    "duration": 15,
    "start_time": "2023-04-21T16:48:11.174Z"
   },
   {
    "duration": 70,
    "start_time": "2023-04-21T16:48:11.191Z"
   },
   {
    "duration": 4,
    "start_time": "2023-04-21T16:48:11.266Z"
   },
   {
    "duration": 22,
    "start_time": "2023-04-21T16:48:11.272Z"
   },
   {
    "duration": 775,
    "start_time": "2023-04-21T16:48:11.296Z"
   },
   {
    "duration": 556937,
    "start_time": "2023-04-21T16:48:12.116Z"
   },
   {
    "duration": 32619,
    "start_time": "2023-04-21T16:57:29.060Z"
   },
   {
    "duration": 6098,
    "start_time": "2023-04-21T16:58:01.681Z"
   },
   {
    "duration": 1348753,
    "start_time": "2023-04-21T16:58:07.782Z"
   },
   {
    "duration": 558617,
    "start_time": "2023-04-21T17:20:36.545Z"
   },
   {
    "duration": 8,
    "start_time": "2023-04-21T17:29:55.164Z"
   },
   {
    "duration": 12,
    "start_time": "2023-04-21T17:29:55.174Z"
   },
   {
    "duration": 4,
    "start_time": "2023-04-21T17:29:55.188Z"
   },
   {
    "duration": 5256,
    "start_time": "2023-04-21T17:29:55.194Z"
   },
   {
    "duration": 505,
    "start_time": "2023-04-21T17:30:00.452Z"
   },
   {
    "duration": 3,
    "start_time": "2023-04-21T17:30:00.959Z"
   },
   {
    "duration": 27,
    "start_time": "2023-04-21T17:30:00.964Z"
   },
   {
    "duration": 58,
    "start_time": "2023-04-21T17:30:00.993Z"
   }
  ],
  "kernelspec": {
   "display_name": "Python 3 (ipykernel)",
   "language": "python",
   "name": "python3"
  },
  "language_info": {
   "codemirror_mode": {
    "name": "ipython",
    "version": 3
   },
   "file_extension": ".py",
   "mimetype": "text/x-python",
   "name": "python",
   "nbconvert_exporter": "python",
   "pygments_lexer": "ipython3",
   "version": "3.9.5"
  },
  "toc": {
   "base_numbering": 1,
   "nav_menu": {},
   "number_sections": true,
   "sideBar": true,
   "skip_h1_title": true,
   "title_cell": "Table of Contents",
   "title_sidebar": "Contents",
   "toc_cell": false,
   "toc_position": {},
   "toc_section_display": true,
   "toc_window_display": false
  }
 },
 "nbformat": 4,
 "nbformat_minor": 2
}
