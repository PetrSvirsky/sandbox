{
 "cells": [
  {
   "cell_type": "markdown",
   "metadata": {
    "toc": true
   },
   "source": [
    "<h1>Содержание<span class=\"tocSkip\"></span></h1>\n",
    "<div class=\"toc\"><ul class=\"toc-item\"><li><span><a href=\"#Подготовка\" data-toc-modified-id=\"Подготовка-1\"><span class=\"toc-item-num\">1&nbsp;&nbsp;</span>Подготовка</a></span></li><li><span><a href=\"#Анализ\" data-toc-modified-id=\"Анализ-2\"><span class=\"toc-item-num\">2&nbsp;&nbsp;</span>Анализ</a></span></li><li><span><a href=\"#Обучение\" data-toc-modified-id=\"Обучение-3\"><span class=\"toc-item-num\">3&nbsp;&nbsp;</span>Обучение</a></span></li><li><span><a href=\"#Тестирование\" data-toc-modified-id=\"Тестирование-4\"><span class=\"toc-item-num\">4&nbsp;&nbsp;</span>Тестирование</a></span></li><li><span><a href=\"#Чек-лист-проверки\" data-toc-modified-id=\"Чек-лист-проверки-5\"><span class=\"toc-item-num\">5&nbsp;&nbsp;</span>Чек-лист проверки</a></span></li></ul></div>"
   ]
  },
  {
   "cell_type": "markdown",
   "metadata": {},
   "source": [
    "#  Прогнозирование заказов такси"
   ]
  },
  {
   "cell_type": "markdown",
   "metadata": {},
   "source": [
    "Компания «Чётенькое такси» собрала исторические данные о заказах такси в аэропортах. Чтобы привлекать больше водителей в период пиковой нагрузки, нужно спрогнозировать количество заказов такси на следующий час. Построми модель для такого предсказания.\n",
    "\n",
    "Значение метрики *RMSE* на тестовой выборке должно быть не больше 48.\n",
    "\n",
    "Нам нужно:\n",
    "\n",
    "1. Загрузить данные и выполнить их ресемплирование по одному часу.\n",
    "2. Проанализировать данные.\n",
    "3. Обучить разные модели с различными гиперпараметрами. Сделать тестовую выборку размером 10% от исходных данных.\n",
    "4. Проверить данные на тестовой выборке и сделать выводы.\n",
    "\n",
    "\n"
   ]
  },
  {
   "cell_type": "markdown",
   "metadata": {},
   "source": [
    "## Подготовка"
   ]
  },
  {
   "cell_type": "markdown",
   "metadata": {},
   "source": [
    "Импортируем нужные библиотеки и зафиксируем Random_state"
   ]
  },
  {
   "cell_type": "code",
   "execution_count": 18,
   "metadata": {},
   "outputs": [],
   "source": [
    "import pandas as pd\n",
    "import numpy as np\n",
    "import matplotlib.pyplot as plt\n",
    "import seaborn as sns\n",
    "\n",
    "from statsmodels.tsa.seasonal import seasonal_decompose\n",
    "\n",
    "from sklearn.model_selection import GridSearchCV, TimeSeriesSplit, train_test_split\n",
    "\n",
    "\n",
    "import lightgbm as lgb\n",
    "import xgboost as xgb\n",
    "from xgboost import plot_importance, plot_tree\n",
    "from sklearn.metrics import mean_squared_error\n",
    "\n",
    "import warnings\n",
    "warnings.filterwarnings(\"ignore\", category=DeprecationWarning)\n",
    "\n",
    "state = np.random.RandomState(12345)\n"
   ]
  },
  {
   "cell_type": "markdown",
   "metadata": {},
   "source": [
    "Сохраним таблицу в переменной, проиндексировав и отсортировав по дате"
   ]
  },
  {
   "cell_type": "code",
   "execution_count": 3,
   "metadata": {
    "scrolled": true
   },
   "outputs": [
    {
     "data": {
      "text/html": [
       "<div>\n",
       "<style scoped>\n",
       "    .dataframe tbody tr th:only-of-type {\n",
       "        vertical-align: middle;\n",
       "    }\n",
       "\n",
       "    .dataframe tbody tr th {\n",
       "        vertical-align: top;\n",
       "    }\n",
       "\n",
       "    .dataframe thead th {\n",
       "        text-align: right;\n",
       "    }\n",
       "</style>\n",
       "<table border=\"1\" class=\"dataframe\">\n",
       "  <thead>\n",
       "    <tr style=\"text-align: right;\">\n",
       "      <th></th>\n",
       "      <th>num_orders</th>\n",
       "    </tr>\n",
       "    <tr>\n",
       "      <th>datetime</th>\n",
       "      <th></th>\n",
       "    </tr>\n",
       "  </thead>\n",
       "  <tbody>\n",
       "    <tr>\n",
       "      <th>2018-03-01 00:00:00</th>\n",
       "      <td>9</td>\n",
       "    </tr>\n",
       "    <tr>\n",
       "      <th>2018-03-01 00:10:00</th>\n",
       "      <td>14</td>\n",
       "    </tr>\n",
       "    <tr>\n",
       "      <th>2018-03-01 00:20:00</th>\n",
       "      <td>28</td>\n",
       "    </tr>\n",
       "    <tr>\n",
       "      <th>2018-03-01 00:30:00</th>\n",
       "      <td>20</td>\n",
       "    </tr>\n",
       "    <tr>\n",
       "      <th>2018-03-01 00:40:00</th>\n",
       "      <td>32</td>\n",
       "    </tr>\n",
       "    <tr>\n",
       "      <th>...</th>\n",
       "      <td>...</td>\n",
       "    </tr>\n",
       "    <tr>\n",
       "      <th>2018-08-31 23:10:00</th>\n",
       "      <td>32</td>\n",
       "    </tr>\n",
       "    <tr>\n",
       "      <th>2018-08-31 23:20:00</th>\n",
       "      <td>24</td>\n",
       "    </tr>\n",
       "    <tr>\n",
       "      <th>2018-08-31 23:30:00</th>\n",
       "      <td>27</td>\n",
       "    </tr>\n",
       "    <tr>\n",
       "      <th>2018-08-31 23:40:00</th>\n",
       "      <td>39</td>\n",
       "    </tr>\n",
       "    <tr>\n",
       "      <th>2018-08-31 23:50:00</th>\n",
       "      <td>53</td>\n",
       "    </tr>\n",
       "  </tbody>\n",
       "</table>\n",
       "<p>26496 rows × 1 columns</p>\n",
       "</div>"
      ],
      "text/plain": [
       "                     num_orders\n",
       "datetime                       \n",
       "2018-03-01 00:00:00           9\n",
       "2018-03-01 00:10:00          14\n",
       "2018-03-01 00:20:00          28\n",
       "2018-03-01 00:30:00          20\n",
       "2018-03-01 00:40:00          32\n",
       "...                         ...\n",
       "2018-08-31 23:10:00          32\n",
       "2018-08-31 23:20:00          24\n",
       "2018-08-31 23:30:00          27\n",
       "2018-08-31 23:40:00          39\n",
       "2018-08-31 23:50:00          53\n",
       "\n",
       "[26496 rows x 1 columns]"
      ]
     },
     "execution_count": 3,
     "metadata": {},
     "output_type": "execute_result"
    }
   ],
   "source": [
    "data = pd.read_csv('/datasets/taxi.csv', index_col=[0], parse_dates=[0])\n",
    "data.sort_index(inplace=True)\n",
    "data"
   ]
  },
  {
   "cell_type": "code",
   "execution_count": 4,
   "metadata": {},
   "outputs": [
    {
     "data": {
      "text/plain": [
       "True"
      ]
     },
     "execution_count": 4,
     "metadata": {},
     "output_type": "execute_result"
    }
   ],
   "source": [
    "data.index.is_monotonic"
   ]
  },
  {
   "cell_type": "markdown",
   "metadata": {},
   "source": [
    "Данные отсортированы, ресемплируем по 1часу:"
   ]
  },
  {
   "cell_type": "code",
   "execution_count": 5,
   "metadata": {
    "scrolled": false
   },
   "outputs": [
    {
     "data": {
      "text/html": [
       "<div>\n",
       "<style scoped>\n",
       "    .dataframe tbody tr th:only-of-type {\n",
       "        vertical-align: middle;\n",
       "    }\n",
       "\n",
       "    .dataframe tbody tr th {\n",
       "        vertical-align: top;\n",
       "    }\n",
       "\n",
       "    .dataframe thead th {\n",
       "        text-align: right;\n",
       "    }\n",
       "</style>\n",
       "<table border=\"1\" class=\"dataframe\">\n",
       "  <thead>\n",
       "    <tr style=\"text-align: right;\">\n",
       "      <th></th>\n",
       "      <th>num_orders</th>\n",
       "    </tr>\n",
       "    <tr>\n",
       "      <th>datetime</th>\n",
       "      <th></th>\n",
       "    </tr>\n",
       "  </thead>\n",
       "  <tbody>\n",
       "    <tr>\n",
       "      <th>2018-03-01 00:00:00</th>\n",
       "      <td>124</td>\n",
       "    </tr>\n",
       "    <tr>\n",
       "      <th>2018-03-01 01:00:00</th>\n",
       "      <td>85</td>\n",
       "    </tr>\n",
       "    <tr>\n",
       "      <th>2018-03-01 02:00:00</th>\n",
       "      <td>71</td>\n",
       "    </tr>\n",
       "    <tr>\n",
       "      <th>2018-03-01 03:00:00</th>\n",
       "      <td>66</td>\n",
       "    </tr>\n",
       "    <tr>\n",
       "      <th>2018-03-01 04:00:00</th>\n",
       "      <td>43</td>\n",
       "    </tr>\n",
       "    <tr>\n",
       "      <th>...</th>\n",
       "      <td>...</td>\n",
       "    </tr>\n",
       "    <tr>\n",
       "      <th>2018-08-31 19:00:00</th>\n",
       "      <td>136</td>\n",
       "    </tr>\n",
       "    <tr>\n",
       "      <th>2018-08-31 20:00:00</th>\n",
       "      <td>154</td>\n",
       "    </tr>\n",
       "    <tr>\n",
       "      <th>2018-08-31 21:00:00</th>\n",
       "      <td>159</td>\n",
       "    </tr>\n",
       "    <tr>\n",
       "      <th>2018-08-31 22:00:00</th>\n",
       "      <td>223</td>\n",
       "    </tr>\n",
       "    <tr>\n",
       "      <th>2018-08-31 23:00:00</th>\n",
       "      <td>205</td>\n",
       "    </tr>\n",
       "  </tbody>\n",
       "</table>\n",
       "<p>4416 rows × 1 columns</p>\n",
       "</div>"
      ],
      "text/plain": [
       "                     num_orders\n",
       "datetime                       \n",
       "2018-03-01 00:00:00         124\n",
       "2018-03-01 01:00:00          85\n",
       "2018-03-01 02:00:00          71\n",
       "2018-03-01 03:00:00          66\n",
       "2018-03-01 04:00:00          43\n",
       "...                         ...\n",
       "2018-08-31 19:00:00         136\n",
       "2018-08-31 20:00:00         154\n",
       "2018-08-31 21:00:00         159\n",
       "2018-08-31 22:00:00         223\n",
       "2018-08-31 23:00:00         205\n",
       "\n",
       "[4416 rows x 1 columns]"
      ]
     },
     "execution_count": 5,
     "metadata": {},
     "output_type": "execute_result"
    }
   ],
   "source": [
    "data = data.resample('1H').sum()\n",
    "data"
   ]
  },
  {
   "cell_type": "code",
   "execution_count": null,
   "metadata": {},
   "outputs": [],
   "source": []
  },
  {
   "cell_type": "code",
   "execution_count": 6,
   "metadata": {},
   "outputs": [
    {
     "name": "stdout",
     "output_type": "stream",
     "text": [
      "2018-03-01 00:00:00 2018-08-13 13:00:00\n",
      "2018-08-13 14:00:00 2018-08-31 23:00:00\n"
     ]
    }
   ],
   "source": [
    "train, test = train_test_split(data, shuffle=False, test_size=0.1)\n",
    "\n",
    "print(train.index.min(), train.index.max())\n",
    "print(test.index.min(), test.index.max())"
   ]
  },
  {
   "cell_type": "markdown",
   "metadata": {},
   "source": [
    "Создадим функцию для создания новых признаков:"
   ]
  },
  {
   "cell_type": "code",
   "execution_count": 7,
   "metadata": {
    "scrolled": true
   },
   "outputs": [],
   "source": [
    "def create_features(df, label=None):\n",
    "    df['date'] = df.index\n",
    "    df['hour'] = df['date'].dt.hour\n",
    "    df['dayofweek'] = df['date'].dt.dayofweek\n",
    "    df['quarter'] = df['date'].dt.quarter\n",
    "    df['month'] = df['date'].dt.month\n",
    "    df['year'] = df['date'].dt.year\n",
    "    df['dayofyear'] = df['date'].dt.dayofyear\n",
    "    df['dayofmonth'] = df['date'].dt.day\n",
    "    df['weekofyear'] = df['date'].dt.weekofyear\n",
    "    df['6_hrs_lag'] = df['num_orders'].shift(6)\n",
    "    df['12_hrs_lag'] = df['num_orders'].shift(12)\n",
    "    df['24_hrs_lag'] = df['num_orders'].shift(24)\n",
    "#    df['6_hrs_mean'] = df['num_orders'].rolling(window = 6).mean()\n",
    "#    df['12_hrs_mean'] = df['num_orders'].rolling(window = 12).mean()\n",
    "#    df['24_hrs_mean'] = df['num_orders'].rolling(window = 24).mean()\n",
    "#    df['6_hrs_std'] = df['num_orders'].rolling(window = 6).std()\n",
    "#    df['12_hrs_std'] = df['num_orders'].rolling(window = 12).std()\n",
    "#    df['24_hrs_std'] = df['num_orders'].rolling(window = 24).std()\n",
    "#    df['6_hrs_max'] = df['num_orders'].rolling(window = 6).max()\n",
    "#    df['12_hrs_max'] = df['num_orders'].rolling(window = 12).max()\n",
    "#    df['24_hrs_max'] = df['num_orders'].rolling(window = 24).max()\n",
    "#    df['6_hrs_min'] = df['num_orders'].rolling(window = 6).min()\n",
    "#    df['12_hrs_min'] = df['num_orders'].rolling(window = 12).min()\n",
    "#    df['24_hrs_min'] = df['num_orders'].rolling(window = 24).min()\n",
    "    \n",
    "    X = df[['hour','dayofweek','quarter','month','year',\n",
    "           'dayofyear','dayofmonth','weekofyear' , '6_hrs_lag' , '24_hrs_lag']]\n",
    "    if label:\n",
    "        y = df[label]\n",
    "        return X, y\n",
    "    return X\n"
   ]
  },
  {
   "cell_type": "code",
   "execution_count": 8,
   "metadata": {
    "scrolled": false
   },
   "outputs": [
    {
     "name": "stderr",
     "output_type": "stream",
     "text": [
      "/tmp/ipykernel_154/2256144333.py:2: SettingWithCopyWarning: \n",
      "A value is trying to be set on a copy of a slice from a DataFrame.\n",
      "Try using .loc[row_indexer,col_indexer] = value instead\n",
      "\n",
      "See the caveats in the documentation: https://pandas.pydata.org/pandas-docs/stable/user_guide/indexing.html#returning-a-view-versus-a-copy\n",
      "  df['date'] = df.index\n",
      "/tmp/ipykernel_154/2256144333.py:3: SettingWithCopyWarning: \n",
      "A value is trying to be set on a copy of a slice from a DataFrame.\n",
      "Try using .loc[row_indexer,col_indexer] = value instead\n",
      "\n",
      "See the caveats in the documentation: https://pandas.pydata.org/pandas-docs/stable/user_guide/indexing.html#returning-a-view-versus-a-copy\n",
      "  df['hour'] = df['date'].dt.hour\n",
      "/tmp/ipykernel_154/2256144333.py:4: SettingWithCopyWarning: \n",
      "A value is trying to be set on a copy of a slice from a DataFrame.\n",
      "Try using .loc[row_indexer,col_indexer] = value instead\n",
      "\n",
      "See the caveats in the documentation: https://pandas.pydata.org/pandas-docs/stable/user_guide/indexing.html#returning-a-view-versus-a-copy\n",
      "  df['dayofweek'] = df['date'].dt.dayofweek\n",
      "/tmp/ipykernel_154/2256144333.py:5: SettingWithCopyWarning: \n",
      "A value is trying to be set on a copy of a slice from a DataFrame.\n",
      "Try using .loc[row_indexer,col_indexer] = value instead\n",
      "\n",
      "See the caveats in the documentation: https://pandas.pydata.org/pandas-docs/stable/user_guide/indexing.html#returning-a-view-versus-a-copy\n",
      "  df['quarter'] = df['date'].dt.quarter\n",
      "/tmp/ipykernel_154/2256144333.py:6: SettingWithCopyWarning: \n",
      "A value is trying to be set on a copy of a slice from a DataFrame.\n",
      "Try using .loc[row_indexer,col_indexer] = value instead\n",
      "\n",
      "See the caveats in the documentation: https://pandas.pydata.org/pandas-docs/stable/user_guide/indexing.html#returning-a-view-versus-a-copy\n",
      "  df['month'] = df['date'].dt.month\n",
      "/tmp/ipykernel_154/2256144333.py:7: SettingWithCopyWarning: \n",
      "A value is trying to be set on a copy of a slice from a DataFrame.\n",
      "Try using .loc[row_indexer,col_indexer] = value instead\n",
      "\n",
      "See the caveats in the documentation: https://pandas.pydata.org/pandas-docs/stable/user_guide/indexing.html#returning-a-view-versus-a-copy\n",
      "  df['year'] = df['date'].dt.year\n",
      "/tmp/ipykernel_154/2256144333.py:8: SettingWithCopyWarning: \n",
      "A value is trying to be set on a copy of a slice from a DataFrame.\n",
      "Try using .loc[row_indexer,col_indexer] = value instead\n",
      "\n",
      "See the caveats in the documentation: https://pandas.pydata.org/pandas-docs/stable/user_guide/indexing.html#returning-a-view-versus-a-copy\n",
      "  df['dayofyear'] = df['date'].dt.dayofyear\n",
      "/tmp/ipykernel_154/2256144333.py:9: SettingWithCopyWarning: \n",
      "A value is trying to be set on a copy of a slice from a DataFrame.\n",
      "Try using .loc[row_indexer,col_indexer] = value instead\n",
      "\n",
      "See the caveats in the documentation: https://pandas.pydata.org/pandas-docs/stable/user_guide/indexing.html#returning-a-view-versus-a-copy\n",
      "  df['dayofmonth'] = df['date'].dt.day\n",
      "/tmp/ipykernel_154/2256144333.py:10: FutureWarning: Series.dt.weekofyear and Series.dt.week have been deprecated.  Please use Series.dt.isocalendar().week instead.\n",
      "  df['weekofyear'] = df['date'].dt.weekofyear\n",
      "/tmp/ipykernel_154/2256144333.py:10: SettingWithCopyWarning: \n",
      "A value is trying to be set on a copy of a slice from a DataFrame.\n",
      "Try using .loc[row_indexer,col_indexer] = value instead\n",
      "\n",
      "See the caveats in the documentation: https://pandas.pydata.org/pandas-docs/stable/user_guide/indexing.html#returning-a-view-versus-a-copy\n",
      "  df['weekofyear'] = df['date'].dt.weekofyear\n",
      "/tmp/ipykernel_154/2256144333.py:11: SettingWithCopyWarning: \n",
      "A value is trying to be set on a copy of a slice from a DataFrame.\n",
      "Try using .loc[row_indexer,col_indexer] = value instead\n",
      "\n",
      "See the caveats in the documentation: https://pandas.pydata.org/pandas-docs/stable/user_guide/indexing.html#returning-a-view-versus-a-copy\n",
      "  df['6_hrs_lag'] = df['num_orders'].shift(6)\n",
      "/tmp/ipykernel_154/2256144333.py:12: SettingWithCopyWarning: \n",
      "A value is trying to be set on a copy of a slice from a DataFrame.\n",
      "Try using .loc[row_indexer,col_indexer] = value instead\n",
      "\n",
      "See the caveats in the documentation: https://pandas.pydata.org/pandas-docs/stable/user_guide/indexing.html#returning-a-view-versus-a-copy\n",
      "  df['12_hrs_lag'] = df['num_orders'].shift(12)\n",
      "/tmp/ipykernel_154/2256144333.py:13: SettingWithCopyWarning: \n",
      "A value is trying to be set on a copy of a slice from a DataFrame.\n",
      "Try using .loc[row_indexer,col_indexer] = value instead\n",
      "\n",
      "See the caveats in the documentation: https://pandas.pydata.org/pandas-docs/stable/user_guide/indexing.html#returning-a-view-versus-a-copy\n",
      "  df['24_hrs_lag'] = df['num_orders'].shift(24)\n"
     ]
    }
   ],
   "source": [
    "X_train, y_train = create_features(train, label='num_orders')\n",
    "X_test, y_test = create_features(test, label='num_orders')"
   ]
  },
  {
   "cell_type": "markdown",
   "metadata": {},
   "source": [
    "Проверим размер наших выорок"
   ]
  },
  {
   "cell_type": "code",
   "execution_count": 9,
   "metadata": {},
   "outputs": [
    {
     "data": {
      "text/plain": [
       "(3974, 10)"
      ]
     },
     "metadata": {},
     "output_type": "display_data"
    },
    {
     "data": {
      "text/plain": [
       "(442, 10)"
      ]
     },
     "metadata": {},
     "output_type": "display_data"
    },
    {
     "data": {
      "text/plain": [
       "(3974,)"
      ]
     },
     "metadata": {},
     "output_type": "display_data"
    },
    {
     "data": {
      "text/plain": [
       "(442,)"
      ]
     },
     "metadata": {},
     "output_type": "display_data"
    }
   ],
   "source": [
    "display(X_train.shape)\n",
    "display(X_test.shape)\n",
    "display(y_train.shape)\n",
    "display(y_test.shape)"
   ]
  },
  {
   "cell_type": "markdown",
   "metadata": {},
   "source": [
    "## Анализ"
   ]
  },
  {
   "cell_type": "markdown",
   "metadata": {},
   "source": [
    "Для начала проанализируем тренды и сезонности для всех данных, для наглядности ресемплируем по дням:"
   ]
  },
  {
   "cell_type": "code",
   "execution_count": 10,
   "metadata": {
    "scrolled": false
   },
   "outputs": [
    {
     "data": {
      "image/png": "[encoded data removed]",
      "text/plain": [
       "<Figure size 576x720 with 3 Axes>"
      ]
     },
     "metadata": {
      "needs_background": "light"
     },
     "output_type": "display_data"
    }
   ],
   "source": [
    "data_resampled_per_day = data.resample('1D').sum()\n",
    "decomposed = seasonal_decompose(data_resampled_per_day)\n",
    "\n",
    "plt.figure(figsize=(8, 10))\n",
    "plt.subplot(311)\n",
    "\n",
    "decomposed.trend.plot(ax=plt.gca())\n",
    "plt.title('Trend')\n",
    "plt.subplot(312)\n",
    "decomposed.seasonal.plot(ax=plt.gca()) \n",
    "plt.title('Seasonality')\n",
    "plt.subplot(313)\n",
    "decomposed.resid.plot(ax=plt.gca()) \n",
    "plt.title('Residuals')\n",
    "plt.tight_layout()"
   ]
  },
  {
   "cell_type": "markdown",
   "metadata": {},
   "source": [
    "По полученным данным можно сказать, что имеется тренд к увеличению количества заказов в день с апреля (1500 заказов), к сентябрю (больше 3000 заказов). Так же на графике сезонности отмечается по 4-5 пиков в каждом месяце, что говорит о том, что в какой то из дней недели на такси повышенный спрос.\n",
    "Далее построим те же графики для марта:"
   ]
  },
  {
   "cell_type": "code",
   "execution_count": 11,
   "metadata": {
    "scrolled": true
   },
   "outputs": [
    {
     "data": {
      "text/plain": [
       "Text(0.5, 1.0, 'Seasonality')"
      ]
     },
     "execution_count": 11,
     "metadata": {},
     "output_type": "execute_result"
    },
    {
     "data": {
      "image/png": "[encoded data removed]",
      "text/plain": [
       "<Figure size 576x720 with 2 Axes>"
      ]
     },
     "metadata": {
      "needs_background": "light"
     },
     "output_type": "display_data"
    }
   ],
   "source": [
    "data_march = data['2018-03-04':'2018-04-01'].resample('1D').sum()\n",
    "\n",
    "decomposed = seasonal_decompose(data_march)\n",
    "\n",
    "plt.figure(figsize=(8, 10))\n",
    "plt.subplot(311)\n",
    "\n",
    "decomposed.trend.plot(ax=plt.gca())\n",
    "plt.title('Trend')\n",
    "plt.subplot(312)\n",
    "decomposed.seasonal.plot(ax=plt.gca()) \n",
    "plt.title('Seasonality')\n",
    "\n"
   ]
  },
  {
   "cell_type": "markdown",
   "metadata": {},
   "source": [
    "Отмечается тренд к небольшому общему увеличению количества заказов. При анализе сезонностей видно, что пики количества заказов приходятся на 5, 12, 19, 26 числа марта, что соответсвует понедельникам.\n",
    "\n",
    "Далее попробуем проанализировать неделю марта:"
   ]
  },
  {
   "cell_type": "code",
   "execution_count": 12,
   "metadata": {
    "scrolled": true
   },
   "outputs": [
    {
     "data": {
      "text/plain": [
       "Text(0.5, 1.0, 'Seasonality')"
      ]
     },
     "execution_count": 12,
     "metadata": {},
     "output_type": "execute_result"
    },
    {
     "data": {
      "image/png": "[encoded data removed]",
      "text/plain": [
       "<Figure size 432x576 with 2 Axes>"
      ]
     },
     "metadata": {
      "needs_background": "light"
     },
     "output_type": "display_data"
    }
   ],
   "source": [
    "data_march = data['2018-03-12':'2018-03-19'].resample('1H').sum()\n",
    "\n",
    "decomposed = seasonal_decompose(data_march)\n",
    "\n",
    "plt.figure(figsize=(6, 8))\n",
    "plt.subplot(311)\n",
    "\n",
    "decomposed.trend.plot(ax=plt.gca())\n",
    "plt.title('Trend')\n",
    "plt.subplot(312)\n",
    "decomposed.seasonal.plot(ax=plt.gca()) \n",
    "plt.title('Seasonality')\n",
    "\n"
   ]
  },
  {
   "cell_type": "markdown",
   "metadata": {},
   "source": [
    "Отмечается тренд к увеличению заказов в выходные, в воскресение вечером и ночью отмечается низкий спрос. График сезонностей говорит о том, что каждый день есть пик спроса и его отсутствия, посмотрим в какое время это происзодит на следующем графике:"
   ]
  },
  {
   "cell_type": "code",
   "execution_count": 13,
   "metadata": {
    "scrolled": true
   },
   "outputs": [
    {
     "data": {
      "text/plain": [
       "Text(0.5, 1.0, 'Seasonality')"
      ]
     },
     "execution_count": 13,
     "metadata": {},
     "output_type": "execute_result"
    },
    {
     "data": {
      "image/png": "[encoded data removed]",
      "text/plain": [
       "<Figure size 432x576 with 2 Axes>"
      ]
     },
     "metadata": {
      "needs_background": "light"
     },
     "output_type": "display_data"
    }
   ],
   "source": [
    "data_m = data['2018-03-12':'2018-03-14'].resample('1H').sum()\n",
    "\n",
    "decomposed = seasonal_decompose(data_m)\n",
    "\n",
    "plt.figure(figsize=(6, 8))\n",
    "plt.subplot(311)\n",
    "\n",
    "decomposed.trend.plot(ax=plt.gca())\n",
    "plt.title('Trend')\n",
    "plt.subplot(312)\n",
    "decomposed.seasonal.plot(ax=plt.gca()) \n",
    "plt.title('Seasonality')\n"
   ]
  },
  {
   "cell_type": "markdown",
   "metadata": {},
   "source": [
    "На данном графике сезонности видно, что спрос на такси растет утром, в полдень отмечается небольшой упадок, к 18.00 отмечается пик и весь вечер сохраняется хороший спрос, поздней ночью и ранним утром заказов очень мало."
   ]
  },
  {
   "cell_type": "markdown",
   "metadata": {},
   "source": [
    "## Обучение"
   ]
  },
  {
   "cell_type": "markdown",
   "metadata": {},
   "source": [
    "Подберем гиперпараметры для моделей XGB и LGB с помощью поиска по сетке. Что бы кросс-валидцация не прохожила на данных, хронологически более ранних, используем TimeSeriesSplit, сохраним в переменной и передадим как аргумент для кросс-валидации в оптимизаторе."
   ]
  },
  {
   "cell_type": "code",
   "execution_count": 14,
   "metadata": {
    "scrolled": true
   },
   "outputs": [
    {
     "name": "stdout",
     "output_type": "stream",
     "text": [
      "CPU times: user 42 µs, sys: 7 µs, total: 49 µs\n",
      "Wall time: 53.2 µs\n"
     ]
    }
   ],
   "source": [
    "%%time\n",
    "\n",
    "tscv = TimeSeriesSplit(n_splits=5)\n",
    "\n",
    "xgb_params = { \n",
    "    'learning_rate':[ 0.05 ],\n",
    "    'max_depth' :[ 5, 10 ],\n",
    "    'n_estimators': [100, 500]\n",
    "}\n",
    "xgbr = xgb.XGBRegressor(random_state=state)\n",
    "clf = GridSearchCV(estimator=xgbr, \n",
    "                   param_grid=xgb_params,\n",
    "                   scoring='neg_mean_squared_error', \n",
    "                   verbose=1,\n",
    "                   cv=tscv)\n",
    "clf.fit(X_train, y_train)\n",
    "print(\"Best parameters:\", clf.best_params_)\n",
    "print(\"Lowest RMSE: \", (-clf.best_score_)**0.5)"
   ]
  },
  {
   "cell_type": "code",
   "execution_count": 15,
   "metadata": {
    "scrolled": false
   },
   "outputs": [
    {
     "name": "stdout",
     "output_type": "stream",
     "text": [
      "Fitting 5 folds for each of 4 candidates, totalling 20 fits\n"
     ]
    },
    {
     "name": "stderr",
     "output_type": "stream",
     "text": [
      "/opt/conda/lib/python3.9/site-packages/lightgbm/engine.py:177: UserWarning: Found `num_iterations` in params. Will use it instead of argument\n",
      "  _log_warning(f\"Found `{alias}` in params. Will use it instead of argument\")\n",
      "/opt/conda/lib/python3.9/site-packages/lightgbm/engine.py:177: UserWarning: Found `num_iterations` in params. Will use it instead of argument\n",
      "  _log_warning(f\"Found `{alias}` in params. Will use it instead of argument\")\n",
      "/opt/conda/lib/python3.9/site-packages/lightgbm/engine.py:177: UserWarning: Found `num_iterations` in params. Will use it instead of argument\n",
      "  _log_warning(f\"Found `{alias}` in params. Will use it instead of argument\")\n",
      "/opt/conda/lib/python3.9/site-packages/lightgbm/engine.py:177: UserWarning: Found `num_iterations` in params. Will use it instead of argument\n",
      "  _log_warning(f\"Found `{alias}` in params. Will use it instead of argument\")\n",
      "/opt/conda/lib/python3.9/site-packages/lightgbm/engine.py:177: UserWarning: Found `num_iterations` in params. Will use it instead of argument\n",
      "  _log_warning(f\"Found `{alias}` in params. Will use it instead of argument\")\n",
      "/opt/conda/lib/python3.9/site-packages/lightgbm/engine.py:177: UserWarning: Found `num_iterations` in params. Will use it instead of argument\n",
      "  _log_warning(f\"Found `{alias}` in params. Will use it instead of argument\")\n",
      "/opt/conda/lib/python3.9/site-packages/lightgbm/engine.py:177: UserWarning: Found `num_iterations` in params. Will use it instead of argument\n",
      "  _log_warning(f\"Found `{alias}` in params. Will use it instead of argument\")\n",
      "/opt/conda/lib/python3.9/site-packages/lightgbm/engine.py:177: UserWarning: Found `num_iterations` in params. Will use it instead of argument\n",
      "  _log_warning(f\"Found `{alias}` in params. Will use it instead of argument\")\n",
      "/opt/conda/lib/python3.9/site-packages/lightgbm/engine.py:177: UserWarning: Found `num_iterations` in params. Will use it instead of argument\n",
      "  _log_warning(f\"Found `{alias}` in params. Will use it instead of argument\")\n",
      "/opt/conda/lib/python3.9/site-packages/lightgbm/engine.py:177: UserWarning: Found `num_iterations` in params. Will use it instead of argument\n",
      "  _log_warning(f\"Found `{alias}` in params. Will use it instead of argument\")\n",
      "/opt/conda/lib/python3.9/site-packages/lightgbm/engine.py:177: UserWarning: Found `num_iterations` in params. Will use it instead of argument\n",
      "  _log_warning(f\"Found `{alias}` in params. Will use it instead of argument\")\n",
      "/opt/conda/lib/python3.9/site-packages/lightgbm/engine.py:177: UserWarning: Found `num_iterations` in params. Will use it instead of argument\n",
      "  _log_warning(f\"Found `{alias}` in params. Will use it instead of argument\")\n",
      "/opt/conda/lib/python3.9/site-packages/lightgbm/engine.py:177: UserWarning: Found `num_iterations` in params. Will use it instead of argument\n",
      "  _log_warning(f\"Found `{alias}` in params. Will use it instead of argument\")\n",
      "/opt/conda/lib/python3.9/site-packages/lightgbm/engine.py:177: UserWarning: Found `num_iterations` in params. Will use it instead of argument\n",
      "  _log_warning(f\"Found `{alias}` in params. Will use it instead of argument\")\n",
      "/opt/conda/lib/python3.9/site-packages/lightgbm/engine.py:177: UserWarning: Found `num_iterations` in params. Will use it instead of argument\n",
      "  _log_warning(f\"Found `{alias}` in params. Will use it instead of argument\")\n",
      "/opt/conda/lib/python3.9/site-packages/lightgbm/engine.py:177: UserWarning: Found `num_iterations` in params. Will use it instead of argument\n",
      "  _log_warning(f\"Found `{alias}` in params. Will use it instead of argument\")\n",
      "/opt/conda/lib/python3.9/site-packages/lightgbm/engine.py:177: UserWarning: Found `num_iterations` in params. Will use it instead of argument\n",
      "  _log_warning(f\"Found `{alias}` in params. Will use it instead of argument\")\n",
      "/opt/conda/lib/python3.9/site-packages/lightgbm/engine.py:177: UserWarning: Found `num_iterations` in params. Will use it instead of argument\n",
      "  _log_warning(f\"Found `{alias}` in params. Will use it instead of argument\")\n",
      "/opt/conda/lib/python3.9/site-packages/lightgbm/engine.py:177: UserWarning: Found `num_iterations` in params. Will use it instead of argument\n",
      "  _log_warning(f\"Found `{alias}` in params. Will use it instead of argument\")\n",
      "/opt/conda/lib/python3.9/site-packages/lightgbm/engine.py:177: UserWarning: Found `num_iterations` in params. Will use it instead of argument\n",
      "  _log_warning(f\"Found `{alias}` in params. Will use it instead of argument\")\n",
      "/opt/conda/lib/python3.9/site-packages/lightgbm/engine.py:177: UserWarning: Found `num_iterations` in params. Will use it instead of argument\n",
      "  _log_warning(f\"Found `{alias}` in params. Will use it instead of argument\")\n"
     ]
    },
    {
     "name": "stdout",
     "output_type": "stream",
     "text": [
      "[LightGBM] [Warning] boosting is set=gbdt, boosting_type=gbdt will be ignored. Current value: boosting=gbdt\n",
      "[CV 5/5; 1/4] START boosting=gbdt, learning_rate=0.05, max_depth=5, num_iterations=1500, num_leaves=5, objective=root_mean_squared_error, task=predict\n",
      "[LightGBM] [Warning] boosting is set=gbdt, boosting_type=gbdt will be ignored. Current value: boosting=gbdt\n",
      "[CV 5/5; 1/4] END boosting=gbdt, learning_rate=0.05, max_depth=5, num_iterations=1500, num_leaves=5, objective=root_mean_squared_error, task=predict; total time=   3.8s\n",
      "[CV 5/5; 3/4] START boosting=gbdt, learning_rate=0.05, max_depth=10, num_iterations=1500, num_leaves=5, objective=root_mean_squared_error, task=predict\n",
      "[LightGBM] [Warning] boosting is set=gbdt, boosting_type=gbdt will be ignored. Current value: boosting=gbdt\n",
      "[CV 5/5; 3/4] END boosting=gbdt, learning_rate=0.05, max_depth=10, num_iterations=1500, num_leaves=5, objective=root_mean_squared_error, task=predict; total time=   3.6s\n",
      "[CV 4/5; 1/4] START boosting=gbdt, learning_rate=0.05, max_depth=5, num_iterations=1500, num_leaves=5, objective=root_mean_squared_error, task=predict\n",
      "[LightGBM] [Warning] boosting is set=gbdt, boosting_type=gbdt will be ignored. Current value: boosting=gbdt\n",
      "[CV 4/5; 1/4] END boosting=gbdt, learning_rate=0.05, max_depth=5, num_iterations=1500, num_leaves=5, objective=root_mean_squared_error, task=predict; total time=   3.2s\n",
      "[CV 1/5; 4/4] START boosting=gbdt, learning_rate=0.05, max_depth=10, num_iterations=1500, num_leaves=10, objective=root_mean_squared_error, task=predict\n",
      "[LightGBM] [Warning] boosting is set=gbdt, boosting_type=gbdt will be ignored. Current value: boosting=gbdt\n",
      "[CV 1/5; 4/4] END boosting=gbdt, learning_rate=0.05, max_depth=10, num_iterations=1500, num_leaves=10, objective=root_mean_squared_error, task=predict; total time=   4.2s\n",
      "[CV 1/5; 1/4] START boosting=gbdt, learning_rate=0.05, max_depth=5, num_iterations=1500, num_leaves=5, objective=root_mean_squared_error, task=predict\n",
      "[LightGBM] [Warning] boosting is set=gbdt, boosting_type=gbdt will be ignored. Current value: boosting=gbdt\n",
      "[CV 1/5; 1/4] END boosting=gbdt, learning_rate=0.05, max_depth=5, num_iterations=1500, num_leaves=5, objective=root_mean_squared_error, task=predict; total time=   1.1s\n",
      "[CV 2/5; 2/4] START boosting=gbdt, learning_rate=0.05, max_depth=5, num_iterations=1500, num_leaves=10, objective=root_mean_squared_error, task=predict\n",
      "[LightGBM] [Warning] boosting is set=gbdt, boosting_type=gbdt will be ignored. Current value: boosting=gbdt\n",
      "[CV 2/5; 2/4] END boosting=gbdt, learning_rate=0.05, max_depth=5, num_iterations=1500, num_leaves=10, objective=root_mean_squared_error, task=predict; total time=   4.7s\n",
      "[CV 5/5; 2/4] START boosting=gbdt, learning_rate=0.05, max_depth=5, num_iterations=1500, num_leaves=10, objective=root_mean_squared_error, task=predict\n",
      "[LightGBM] [Warning] boosting is set=gbdt, boosting_type=gbdt will be ignored. Current value: boosting=gbdt\n",
      "[CV 5/5; 2/4] END boosting=gbdt, learning_rate=0.05, max_depth=5, num_iterations=1500, num_leaves=10, objective=root_mean_squared_error, task=predict; total time=   5.5s\n",
      "[CV 2/5; 4/4] START boosting=gbdt, learning_rate=0.05, max_depth=10, num_iterations=1500, num_leaves=10, objective=root_mean_squared_error, task=predict\n",
      "[LightGBM] [Warning] boosting is set=gbdt, boosting_type=gbdt will be ignored. Current value: boosting=gbdt\n",
      "[CV 2/5; 4/4] END boosting=gbdt, learning_rate=0.05, max_depth=10, num_iterations=1500, num_leaves=10, objective=root_mean_squared_error, task=predict; total time=   4.1s\n",
      "[CV 3/5; 1/4] START boosting=gbdt, learning_rate=0.05, max_depth=5, num_iterations=1500, num_leaves=5, objective=root_mean_squared_error, task=predict\n",
      "[LightGBM] [Warning] boosting is set=gbdt, boosting_type=gbdt will be ignored. Current value: boosting=gbdt\n",
      "[CV 3/5; 1/4] END boosting=gbdt, learning_rate=0.05, max_depth=5, num_iterations=1500, num_leaves=5, objective=root_mean_squared_error, task=predict; total time=   1.6s\n",
      "[CV 3/5; 2/4] START boosting=gbdt, learning_rate=0.05, max_depth=5, num_iterations=1500, num_leaves=10, objective=root_mean_squared_error, task=predict\n",
      "[LightGBM] [Warning] boosting is set=gbdt, boosting_type=gbdt will be ignored. Current value: boosting=gbdt\n",
      "[CV 3/5; 2/4] END boosting=gbdt, learning_rate=0.05, max_depth=5, num_iterations=1500, num_leaves=10, objective=root_mean_squared_error, task=predict; total time=   4.1s\n",
      "[CV 1/5; 3/4] START boosting=gbdt, learning_rate=0.05, max_depth=10, num_iterations=1500, num_leaves=5, objective=root_mean_squared_error, task=predict\n",
      "[LightGBM] [Warning] boosting is set=gbdt, boosting_type=gbdt will be ignored. Current value: boosting=gbdt\n",
      "[CV 1/5; 3/4] END boosting=gbdt, learning_rate=0.05, max_depth=10, num_iterations=1500, num_leaves=5, objective=root_mean_squared_error, task=predict; total time=   2.5s\n",
      "[CV 3/5; 3/4] START boosting=gbdt, learning_rate=0.05, max_depth=10, num_iterations=1500, num_leaves=5, objective=root_mean_squared_error, task=predict\n",
      "[LightGBM] [Warning] boosting is set=gbdt, boosting_type=gbdt will be ignored. Current value: boosting=gbdt\n",
      "[CV 3/5; 3/4] END boosting=gbdt, learning_rate=0.05, max_depth=10, num_iterations=1500, num_leaves=5, objective=root_mean_squared_error, task=predict; total time=   2.6s\n",
      "[CV 3/5; 4/4] START boosting=gbdt, learning_rate=0.05, max_depth=10, num_iterations=1500, num_leaves=10, objective=root_mean_squared_error, task=predict\n",
      "[LightGBM] [Warning] boosting is set=gbdt, boosting_type=gbdt will be ignored. Current value: boosting=gbdt\n",
      "[CV 3/5; 4/4] END boosting=gbdt, learning_rate=0.05, max_depth=10, num_iterations=1500, num_leaves=10, objective=root_mean_squared_error, task=predict; total time=   4.4s\n",
      "[CV 1/5; 2/4] START boosting=gbdt, learning_rate=0.05, max_depth=5, num_iterations=1500, num_leaves=10, objective=root_mean_squared_error, task=predict\n",
      "[LightGBM] [Warning] boosting is set=gbdt, boosting_type=gbdt will be ignored. Current value: boosting=gbdt\n",
      "[CV 1/5; 2/4] END boosting=gbdt, learning_rate=0.05, max_depth=5, num_iterations=1500, num_leaves=10, objective=root_mean_squared_error, task=predict; total time=   4.0s\n",
      "[CV 4/5; 4/4] START boosting=gbdt, learning_rate=0.05, max_depth=10, num_iterations=1500, num_leaves=10, objective=root_mean_squared_error, task=predict\n",
      "[LightGBM] [Warning] boosting is set=gbdt, boosting_type=gbdt will be ignored. Current value: boosting=gbdt\n",
      "[CV 4/5; 4/4] END boosting=gbdt, learning_rate=0.05, max_depth=10, num_iterations=1500, num_leaves=10, objective=root_mean_squared_error, task=predict; total time=   4.7s\n",
      "[CV 2/5; 1/4] START boosting=gbdt, learning_rate=0.05, max_depth=5, num_iterations=1500, num_leaves=5, objective=root_mean_squared_error, task=predict\n",
      "[LightGBM] [Warning] boosting is set=gbdt, boosting_type=gbdt will be ignored. Current value: boosting=gbdt\n",
      "[CV 2/5; 1/4] END boosting=gbdt, learning_rate=0.05, max_depth=5, num_iterations=1500, num_leaves=5, objective=root_mean_squared_error, task=predict; total time=   1.7s\n",
      "[CV 4/5; 2/4] START boosting=gbdt, learning_rate=0.05, max_depth=5, num_iterations=1500, num_leaves=10, objective=root_mean_squared_error, task=predict\n",
      "[LightGBM] [Warning] boosting is set=gbdt, boosting_type=gbdt will be ignored. Current value: boosting=gbdt\n",
      "[CV 4/5; 2/4] END boosting=gbdt, learning_rate=0.05, max_depth=5, num_iterations=1500, num_leaves=10, objective=root_mean_squared_error, task=predict; total time=   5.4s\n",
      "[CV 2/5; 3/4] START boosting=gbdt, learning_rate=0.05, max_depth=10, num_iterations=1500, num_leaves=5, objective=root_mean_squared_error, task=predict\n",
      "[LightGBM] [Warning] boosting is set=gbdt, boosting_type=gbdt will be ignored. Current value: boosting=gbdt\n",
      "[CV 2/5; 3/4] END boosting=gbdt, learning_rate=0.05, max_depth=10, num_iterations=1500, num_leaves=5, objective=root_mean_squared_error, task=predict; total time=   2.6s\n",
      "[CV 4/5; 3/4] START boosting=gbdt, learning_rate=0.05, max_depth=10, num_iterations=1500, num_leaves=5, objective=root_mean_squared_error, task=predict\n",
      "[LightGBM] [Warning] boosting is set=gbdt, boosting_type=gbdt will be ignored. Current value: boosting=gbdt\n",
      "[CV 4/5; 3/4] END boosting=gbdt, learning_rate=0.05, max_depth=10, num_iterations=1500, num_leaves=5, objective=root_mean_squared_error, task=predict; total time=   3.3s\n",
      "[CV 5/5; 4/4] START boosting=gbdt, learning_rate=0.05, max_depth=10, num_iterations=1500, num_leaves=10, objective=root_mean_squared_error, task=predict\n",
      "[LightGBM] [Warning] boosting is set=gbdt, boosting_type=gbdt will be ignored. Current value: boosting=gbdt\n",
      "[CV 5/5; 4/4] END boosting=gbdt, learning_rate=0.05, max_depth=10, num_iterations=1500, num_leaves=10, objective=root_mean_squared_error, task=predict; total time=   2.9s\n",
      "best params\n",
      "{'boosting': 'gbdt', 'learning_rate': 0.05, 'max_depth': 5, 'num_iterations': 1500, 'num_leaves': 5, 'objective': 'root_mean_squared_error', 'task': 'predict'}\n",
      "RMSE: 25.022196982535842\n",
      "CPU times: user 7min 26s, sys: 3.96 s, total: 7min 30s\n",
      "Wall time: 7min 55s\n"
     ]
    }
   ],
   "source": [
    "%%time\n",
    "lgb_model = lgb.LGBMRegressor(random_state=state)\n",
    "\n",
    "lgb_params = {\n",
    "    'task' : ['predict'],\n",
    "    'boosting': ['gbdt' ],\n",
    "    'objective': ['root_mean_squared_error'],\n",
    "    'num_iterations': [  1500  ],\n",
    "    'learning_rate':[ 0.05 ],\n",
    "    'num_leaves':[ 5, 10 ],\n",
    "    'max_depth' :[ 5, 10 ]\n",
    "   \n",
    "}\n",
    "\n",
    "gsearch_lgb = GridSearchCV(lgb_model, param_grid = lgb_params, scoring='neg_root_mean_squared_error', n_jobs=6, verbose=10, cv = tscv)\n",
    "gsearch_lgb.fit(X_train,y_train)\n",
    " \n",
    "print('best params')\n",
    "print (gsearch_lgb.best_params_)\n",
    "score = gsearch_lgb.best_score_\n",
    "print('RMSE:', -score)\n"
   ]
  },
  {
   "cell_type": "markdown",
   "metadata": {},
   "source": [
    "RMSE лучше у модели LGB, проверим ее на тестовой выборке."
   ]
  },
  {
   "cell_type": "markdown",
   "metadata": {},
   "source": [
    "## Тестирование"
   ]
  },
  {
   "cell_type": "code",
   "execution_count": 16,
   "metadata": {},
   "outputs": [
    {
     "name": "stdout",
     "output_type": "stream",
     "text": [
      "40.585637191074994\n"
     ]
    }
   ],
   "source": [
    "params = gsearch_lgb.best_params_\n",
    "model = lgb.LGBMRegressor(**params, random_state=state)\n",
    "model.fit(X_train, y_train)\n",
    "predict = model.predict(X_test)\n",
    "print(mean_squared_error(predict, y_test)**0.5)\n"
   ]
  }
 ],
 "metadata": {
  "ExecuteTimeLog": [
   {
    "duration": 1276,
    "start_time": "2023-01-13T07:03:43.273Z"
   },
   {
    "duration": 309,
    "start_time": "2023-01-13T07:04:45.206Z"
   },
   {
    "duration": 46,
    "start_time": "2023-01-13T07:05:10.293Z"
   },
   {
    "duration": 59,
    "start_time": "2023-01-13T07:05:19.045Z"
   },
   {
    "duration": 63,
    "start_time": "2023-01-13T07:05:44.406Z"
   },
   {
    "duration": 811,
    "start_time": "2023-01-13T07:06:57.515Z"
   },
   {
    "duration": 69,
    "start_time": "2023-01-13T07:07:20.587Z"
   },
   {
    "duration": 56,
    "start_time": "2023-01-13T07:07:35.000Z"
   },
   {
    "duration": 54,
    "start_time": "2023-01-13T07:07:43.393Z"
   },
   {
    "duration": 109,
    "start_time": "2023-01-13T07:10:14.894Z"
   },
   {
    "duration": 37,
    "start_time": "2023-01-13T07:10:55.773Z"
   },
   {
    "duration": 6,
    "start_time": "2023-01-13T07:11:09.293Z"
   },
   {
    "duration": 58,
    "start_time": "2023-01-13T07:11:12.519Z"
   },
   {
    "duration": 223,
    "start_time": "2023-01-13T07:11:16.661Z"
   },
   {
    "duration": 865,
    "start_time": "2023-01-13T07:12:00.931Z"
   },
   {
    "duration": 894,
    "start_time": "2023-01-13T07:34:42.993Z"
   },
   {
    "duration": 2167,
    "start_time": "2023-01-15T11:21:49.010Z"
   },
   {
    "duration": 205,
    "start_time": "2023-01-15T11:21:51.181Z"
   },
   {
    "duration": 366,
    "start_time": "2023-01-15T11:21:51.388Z"
   },
   {
    "duration": 1299,
    "start_time": "2023-01-15T11:21:51.757Z"
   },
   {
    "duration": 176,
    "start_time": "2023-01-15T11:22:39.302Z"
   },
   {
    "duration": 21,
    "start_time": "2023-01-15T11:22:55.063Z"
   },
   {
    "duration": 20,
    "start_time": "2023-01-15T11:23:21.512Z"
   },
   {
    "duration": 691,
    "start_time": "2023-01-15T11:23:30.976Z"
   },
   {
    "duration": 530,
    "start_time": "2023-01-15T11:23:51.479Z"
   },
   {
    "duration": 703,
    "start_time": "2023-01-15T11:28:36.352Z"
   },
   {
    "duration": 760,
    "start_time": "2023-01-15T11:31:01.012Z"
   },
   {
    "duration": 18,
    "start_time": "2023-01-15T11:31:20.628Z"
   },
   {
    "duration": 780,
    "start_time": "2023-01-15T11:31:31.598Z"
   },
   {
    "duration": 633,
    "start_time": "2023-01-15T11:32:45.512Z"
   },
   {
    "duration": 693,
    "start_time": "2023-01-15T11:33:03.057Z"
   },
   {
    "duration": 907,
    "start_time": "2023-01-15T11:35:03.841Z"
   },
   {
    "duration": 765,
    "start_time": "2023-01-15T11:35:56.736Z"
   },
   {
    "duration": 672,
    "start_time": "2023-01-15T11:40:18.781Z"
   },
   {
    "duration": 81,
    "start_time": "2023-01-15T11:43:56.376Z"
   },
   {
    "duration": 556,
    "start_time": "2023-01-15T11:44:25.669Z"
   },
   {
    "duration": 589,
    "start_time": "2023-01-15T11:44:52.233Z"
   },
   {
    "duration": 23,
    "start_time": "2023-01-15T11:45:50.641Z"
   },
   {
    "duration": 693,
    "start_time": "2023-01-15T11:46:05.608Z"
   },
   {
    "duration": 24,
    "start_time": "2023-01-15T11:46:14.997Z"
   },
   {
    "duration": 560,
    "start_time": "2023-01-15T11:46:21.777Z"
   },
   {
    "duration": 200,
    "start_time": "2023-01-15T11:47:00.206Z"
   },
   {
    "duration": 605,
    "start_time": "2023-01-15T11:47:17.220Z"
   },
   {
    "duration": 8,
    "start_time": "2023-01-15T11:47:58.650Z"
   },
   {
    "duration": 151,
    "start_time": "2023-01-15T11:48:02.301Z"
   },
   {
    "duration": 10,
    "start_time": "2023-01-15T11:48:44.327Z"
   },
   {
    "duration": 187,
    "start_time": "2023-01-15T11:48:47.349Z"
   },
   {
    "duration": 9,
    "start_time": "2023-01-15T11:48:52.662Z"
   },
   {
    "duration": 207,
    "start_time": "2023-01-15T11:48:55.603Z"
   },
   {
    "duration": 10,
    "start_time": "2023-01-15T11:49:15.462Z"
   },
   {
    "duration": 226,
    "start_time": "2023-01-15T11:49:17.037Z"
   },
   {
    "duration": 13,
    "start_time": "2023-01-15T11:50:54.359Z"
   },
   {
    "duration": 10,
    "start_time": "2023-01-15T11:50:59.413Z"
   },
   {
    "duration": 127,
    "start_time": "2023-01-15T11:51:06.889Z"
   },
   {
    "duration": 15,
    "start_time": "2023-01-15T11:51:16.686Z"
   },
   {
    "duration": 243,
    "start_time": "2023-01-15T11:51:18.865Z"
   },
   {
    "duration": 16,
    "start_time": "2023-01-15T11:52:09.569Z"
   },
   {
    "duration": 157,
    "start_time": "2023-01-15T11:52:11.788Z"
   },
   {
    "duration": 15,
    "start_time": "2023-01-15T11:53:05.813Z"
   },
   {
    "duration": 208,
    "start_time": "2023-01-15T11:53:09.199Z"
   },
   {
    "duration": 148,
    "start_time": "2023-01-15T11:53:21.604Z"
   },
   {
    "duration": 596,
    "start_time": "2023-01-15T11:57:55.737Z"
   },
   {
    "duration": 19,
    "start_time": "2023-01-15T11:58:14.553Z"
   },
   {
    "duration": 622,
    "start_time": "2023-01-15T11:58:23.809Z"
   },
   {
    "duration": 600,
    "start_time": "2023-01-15T11:59:18.674Z"
   },
   {
    "duration": 646,
    "start_time": "2023-01-15T11:59:46.333Z"
   },
   {
    "duration": 505,
    "start_time": "2023-01-15T11:59:54.361Z"
   },
   {
    "duration": 481,
    "start_time": "2023-01-15T11:59:58.789Z"
   },
   {
    "duration": 592,
    "start_time": "2023-01-15T12:02:06.034Z"
   },
   {
    "duration": 17,
    "start_time": "2023-01-15T12:02:29.514Z"
   },
   {
    "duration": 512,
    "start_time": "2023-01-15T12:02:33.862Z"
   },
   {
    "duration": 11,
    "start_time": "2023-01-15T12:03:02.989Z"
   },
   {
    "duration": 167,
    "start_time": "2023-01-15T12:03:08.426Z"
   },
   {
    "duration": 526,
    "start_time": "2023-01-15T12:04:08.925Z"
   },
   {
    "duration": 58,
    "start_time": "2023-01-15T12:04:43.127Z"
   },
   {
    "duration": 16,
    "start_time": "2023-01-15T12:04:52.869Z"
   },
   {
    "duration": 813,
    "start_time": "2023-01-15T12:05:33.420Z"
   },
   {
    "duration": 675,
    "start_time": "2023-01-15T12:05:46.651Z"
   },
   {
    "duration": 4,
    "start_time": "2023-01-15T12:05:54.256Z"
   },
   {
    "duration": 67,
    "start_time": "2023-01-15T12:05:54.263Z"
   },
   {
    "duration": 16,
    "start_time": "2023-01-15T12:05:54.333Z"
   },
   {
    "duration": 255,
    "start_time": "2023-01-15T12:05:54.351Z"
   },
   {
    "duration": 768,
    "start_time": "2023-01-15T12:05:54.609Z"
   },
   {
    "duration": 674,
    "start_time": "2023-01-15T12:05:55.380Z"
   },
   {
    "duration": 622,
    "start_time": "2023-01-15T12:05:56.055Z"
   },
   {
    "duration": 243,
    "start_time": "2023-01-15T12:05:56.679Z"
   },
   {
    "duration": 4,
    "start_time": "2023-01-15T12:07:15.979Z"
   },
   {
    "duration": 12,
    "start_time": "2023-01-15T12:07:21.129Z"
   },
   {
    "duration": 713,
    "start_time": "2023-01-15T12:07:38.267Z"
   },
   {
    "duration": 1390,
    "start_time": "2023-01-15T12:07:57.696Z"
   },
   {
    "duration": 66,
    "start_time": "2023-01-15T12:07:59.088Z"
   },
   {
    "duration": 6,
    "start_time": "2023-01-15T12:07:59.156Z"
   },
   {
    "duration": 34,
    "start_time": "2023-01-15T12:07:59.164Z"
   },
   {
    "duration": 255,
    "start_time": "2023-01-15T12:07:59.202Z"
   },
   {
    "duration": 797,
    "start_time": "2023-01-15T12:07:59.459Z"
   },
   {
    "duration": 804,
    "start_time": "2023-01-15T12:08:00.258Z"
   },
   {
    "duration": 495,
    "start_time": "2023-01-15T12:08:01.064Z"
   },
   {
    "duration": 196,
    "start_time": "2023-01-15T12:08:01.561Z"
   },
   {
    "duration": 689,
    "start_time": "2023-01-15T12:08:56.931Z"
   },
   {
    "duration": 725,
    "start_time": "2023-01-15T12:09:02.069Z"
   },
   {
    "duration": 661,
    "start_time": "2023-01-15T12:09:49.797Z"
   },
   {
    "duration": 476,
    "start_time": "2023-01-15T12:10:17.927Z"
   },
   {
    "duration": 457,
    "start_time": "2023-01-15T12:10:42.136Z"
   },
   {
    "duration": 369,
    "start_time": "2023-01-15T12:12:34.752Z"
   },
   {
    "duration": 379,
    "start_time": "2023-01-15T12:13:10.190Z"
   },
   {
    "duration": 430,
    "start_time": "2023-01-15T12:13:18.889Z"
   },
   {
    "duration": 460,
    "start_time": "2023-01-15T12:13:45.205Z"
   },
   {
    "duration": 376,
    "start_time": "2023-01-15T12:16:05.294Z"
   },
   {
    "duration": 300,
    "start_time": "2023-01-15T12:16:19.855Z"
   },
   {
    "duration": 268,
    "start_time": "2023-01-15T12:21:44.051Z"
   },
   {
    "duration": 271,
    "start_time": "2023-01-15T12:21:56.972Z"
   },
   {
    "duration": 268,
    "start_time": "2023-01-15T12:22:20.040Z"
   },
   {
    "duration": 1503,
    "start_time": "2023-01-15T14:46:07.888Z"
   },
   {
    "duration": 125,
    "start_time": "2023-01-15T14:46:09.393Z"
   },
   {
    "duration": 5,
    "start_time": "2023-01-15T14:46:09.520Z"
   },
   {
    "duration": 17,
    "start_time": "2023-01-15T14:46:09.526Z"
   },
   {
    "duration": 5,
    "start_time": "2023-01-15T14:46:09.546Z"
   },
   {
    "duration": 10,
    "start_time": "2023-01-15T14:46:09.553Z"
   },
   {
    "duration": 776,
    "start_time": "2023-01-15T14:46:09.565Z"
   },
   {
    "duration": 331,
    "start_time": "2023-01-15T14:46:10.343Z"
   },
   {
    "duration": 266,
    "start_time": "2023-01-15T14:46:10.676Z"
   },
   {
    "duration": 325,
    "start_time": "2023-01-15T14:46:10.945Z"
   },
   {
    "duration": 8,
    "start_time": "2023-01-15T14:50:53.749Z"
   },
   {
    "duration": 144,
    "start_time": "2023-01-15T14:50:56.555Z"
   },
   {
    "duration": 13,
    "start_time": "2023-01-15T14:51:52.445Z"
   },
   {
    "duration": 50,
    "start_time": "2023-01-15T14:51:54.779Z"
   },
   {
    "duration": 9,
    "start_time": "2023-01-15T14:52:52.823Z"
   },
   {
    "duration": 4,
    "start_time": "2023-01-15T14:53:04.237Z"
   },
   {
    "duration": 32,
    "start_time": "2023-01-15T14:53:09.946Z"
   },
   {
    "duration": 8,
    "start_time": "2023-01-15T14:55:13.645Z"
   },
   {
    "duration": 193,
    "start_time": "2023-01-15T14:57:47.265Z"
   },
   {
    "duration": 54,
    "start_time": "2023-01-15T14:57:47.460Z"
   },
   {
    "duration": 3,
    "start_time": "2023-01-15T14:57:47.516Z"
   },
   {
    "duration": 15,
    "start_time": "2023-01-15T14:57:47.521Z"
   },
   {
    "duration": 6,
    "start_time": "2023-01-15T14:57:47.538Z"
   },
   {
    "duration": 14,
    "start_time": "2023-01-15T14:57:47.545Z"
   },
   {
    "duration": 76,
    "start_time": "2023-01-15T14:57:47.561Z"
   },
   {
    "duration": 8,
    "start_time": "2023-01-15T14:57:47.638Z"
   },
   {
    "duration": 668,
    "start_time": "2023-01-15T14:57:47.648Z"
   },
   {
    "duration": 350,
    "start_time": "2023-01-15T14:57:48.318Z"
   },
   {
    "duration": 279,
    "start_time": "2023-01-15T14:57:48.670Z"
   },
   {
    "duration": 259,
    "start_time": "2023-01-15T14:57:48.950Z"
   },
   {
    "duration": 4819,
    "start_time": "2023-01-15T14:57:49.210Z"
   },
   {
    "duration": 171,
    "start_time": "2023-01-15T14:58:46.582Z"
   },
   {
    "duration": 23,
    "start_time": "2023-01-15T15:01:05.128Z"
   },
   {
    "duration": 11,
    "start_time": "2023-01-15T15:01:38.438Z"
   },
   {
    "duration": 12,
    "start_time": "2023-01-15T15:02:15.915Z"
   },
   {
    "duration": 12,
    "start_time": "2023-01-15T15:02:29.466Z"
   },
   {
    "duration": 13,
    "start_time": "2023-01-15T15:02:32.647Z"
   },
   {
    "duration": 380,
    "start_time": "2023-01-15T15:03:20.145Z"
   },
   {
    "duration": 5901,
    "start_time": "2023-01-15T15:06:10.900Z"
   },
   {
    "duration": 1417,
    "start_time": "2023-01-15T15:28:55.846Z"
   },
   {
    "duration": 61,
    "start_time": "2023-01-15T15:28:57.266Z"
   },
   {
    "duration": 4,
    "start_time": "2023-01-15T15:28:57.328Z"
   },
   {
    "duration": 17,
    "start_time": "2023-01-15T15:28:57.334Z"
   },
   {
    "duration": 8,
    "start_time": "2023-01-15T15:28:57.353Z"
   },
   {
    "duration": 9,
    "start_time": "2023-01-15T15:28:57.363Z"
   },
   {
    "duration": 79,
    "start_time": "2023-01-15T15:28:57.374Z"
   },
   {
    "duration": 7,
    "start_time": "2023-01-15T15:28:57.454Z"
   },
   {
    "duration": 769,
    "start_time": "2023-01-15T15:28:57.463Z"
   },
   {
    "duration": 329,
    "start_time": "2023-01-15T15:28:58.234Z"
   },
   {
    "duration": 335,
    "start_time": "2023-01-15T15:28:58.564Z"
   },
   {
    "duration": 223,
    "start_time": "2023-01-15T15:28:58.907Z"
   },
   {
    "duration": 41976,
    "start_time": "2023-01-15T15:28:59.132Z"
   },
   {
    "duration": 202,
    "start_time": "2023-01-15T15:29:41.110Z"
   },
   {
    "duration": 13,
    "start_time": "2023-01-15T15:29:41.314Z"
   },
   {
    "duration": 341,
    "start_time": "2023-01-15T15:29:41.329Z"
   },
   {
    "duration": 166,
    "start_time": "2023-01-15T15:29:41.671Z"
   },
   {
    "duration": 17,
    "start_time": "2023-01-15T15:30:30.792Z"
   },
   {
    "duration": 33882,
    "start_time": "2023-01-15T15:30:55.642Z"
   },
   {
    "duration": 847254,
    "start_time": "2023-01-15T15:31:53.452Z"
   },
   {
    "duration": 9,
    "start_time": "2023-01-15T15:46:28.166Z"
   },
   {
    "duration": 23,
    "start_time": "2023-01-15T15:48:12.330Z"
   },
   {
    "duration": 16,
    "start_time": "2023-01-15T15:48:26.901Z"
   },
   {
    "duration": 28,
    "start_time": "2023-01-15T17:09:25.121Z"
   },
   {
    "duration": 3,
    "start_time": "2023-01-15T17:58:37.658Z"
   },
   {
    "duration": 56,
    "start_time": "2023-01-15T17:58:37.664Z"
   },
   {
    "duration": 4,
    "start_time": "2023-01-15T17:58:37.722Z"
   },
   {
    "duration": 25,
    "start_time": "2023-01-15T17:58:37.727Z"
   },
   {
    "duration": 6,
    "start_time": "2023-01-15T17:58:37.754Z"
   },
   {
    "duration": 14,
    "start_time": "2023-01-15T17:58:37.761Z"
   },
   {
    "duration": 54,
    "start_time": "2023-01-15T17:58:37.797Z"
   },
   {
    "duration": 7,
    "start_time": "2023-01-15T17:58:37.853Z"
   },
   {
    "duration": 768,
    "start_time": "2023-01-15T17:58:37.861Z"
   },
   {
    "duration": 352,
    "start_time": "2023-01-15T17:58:38.630Z"
   },
   {
    "duration": 283,
    "start_time": "2023-01-15T17:58:38.984Z"
   },
   {
    "duration": 330,
    "start_time": "2023-01-15T17:58:39.268Z"
   },
   {
    "duration": 15019,
    "start_time": "2023-01-15T17:58:39.600Z"
   },
   {
    "duration": 203,
    "start_time": "2023-01-15T17:58:54.622Z"
   },
   {
    "duration": 12,
    "start_time": "2023-01-15T17:58:54.827Z"
   },
   {
    "duration": 249,
    "start_time": "2023-01-15T17:58:54.841Z"
   },
   {
    "duration": 17,
    "start_time": "2023-01-15T17:58:55.092Z"
   },
   {
    "duration": 12,
    "start_time": "2023-01-15T18:04:00.278Z"
   },
   {
    "duration": 291,
    "start_time": "2023-01-15T18:04:54.315Z"
   },
   {
    "duration": 430,
    "start_time": "2023-01-15T18:05:27.181Z"
   },
   {
    "duration": 284,
    "start_time": "2023-01-15T18:06:21.227Z"
   },
   {
    "duration": 295,
    "start_time": "2023-01-15T18:06:46.710Z"
   },
   {
    "duration": 225,
    "start_time": "2023-01-15T18:07:59.275Z"
   },
   {
    "duration": 2773,
    "start_time": "2023-01-15T18:08:24.324Z"
   },
   {
    "duration": 764,
    "start_time": "2023-01-15T18:08:30.844Z"
   },
   {
    "duration": 23460,
    "start_time": "2023-01-15T18:09:02.645Z"
   },
   {
    "duration": 2391,
    "start_time": "2023-01-15T18:09:57.913Z"
   },
   {
    "duration": 6478,
    "start_time": "2023-01-15T18:12:11.134Z"
   },
   {
    "duration": 2268,
    "start_time": "2023-01-15T18:13:36.941Z"
   },
   {
    "duration": 11,
    "start_time": "2023-01-15T18:16:50.440Z"
   },
   {
    "duration": 11,
    "start_time": "2023-01-15T18:16:57.165Z"
   },
   {
    "duration": 10,
    "start_time": "2023-01-15T18:17:29.308Z"
   },
   {
    "duration": 52,
    "start_time": "2023-01-15T18:17:39.319Z"
   },
   {
    "duration": 10,
    "start_time": "2023-01-15T18:17:55.619Z"
   },
   {
    "duration": 17,
    "start_time": "2023-01-15T18:18:24.958Z"
   },
   {
    "duration": 53,
    "start_time": "2023-01-20T14:16:15.021Z"
   },
   {
    "duration": 7,
    "start_time": "2023-01-20T14:16:48.432Z"
   },
   {
    "duration": 1710,
    "start_time": "2023-01-20T14:17:04.213Z"
   },
   {
    "duration": 146,
    "start_time": "2023-01-20T14:17:05.925Z"
   },
   {
    "duration": 6,
    "start_time": "2023-01-20T14:17:06.073Z"
   },
   {
    "duration": 28,
    "start_time": "2023-01-20T14:17:06.082Z"
   },
   {
    "duration": 6,
    "start_time": "2023-01-20T14:17:06.113Z"
   },
   {
    "duration": 15,
    "start_time": "2023-01-20T14:17:06.121Z"
   },
   {
    "duration": 97,
    "start_time": "2023-01-20T14:17:06.138Z"
   },
   {
    "duration": 10,
    "start_time": "2023-01-20T14:17:06.236Z"
   },
   {
    "duration": 828,
    "start_time": "2023-01-20T14:17:06.268Z"
   },
   {
    "duration": 324,
    "start_time": "2023-01-20T14:17:07.099Z"
   },
   {
    "duration": 315,
    "start_time": "2023-01-20T14:17:07.425Z"
   },
   {
    "duration": 222,
    "start_time": "2023-01-20T14:17:07.741Z"
   },
   {
    "duration": 72,
    "start_time": "2023-01-20T14:17:07.964Z"
   },
   {
    "duration": 0,
    "start_time": "2023-01-20T14:17:08.038Z"
   },
   {
    "duration": 0,
    "start_time": "2023-01-20T14:17:08.038Z"
   },
   {
    "duration": 0,
    "start_time": "2023-01-20T14:17:08.039Z"
   },
   {
    "duration": 0,
    "start_time": "2023-01-20T14:17:08.040Z"
   },
   {
    "duration": 3,
    "start_time": "2023-01-20T14:17:36.027Z"
   },
   {
    "duration": 52,
    "start_time": "2023-01-20T14:17:36.059Z"
   },
   {
    "duration": 4,
    "start_time": "2023-01-20T14:17:36.112Z"
   },
   {
    "duration": 12,
    "start_time": "2023-01-20T14:17:36.213Z"
   },
   {
    "duration": 5,
    "start_time": "2023-01-20T14:17:36.291Z"
   },
   {
    "duration": 8,
    "start_time": "2023-01-20T14:17:36.526Z"
   },
   {
    "duration": 58,
    "start_time": "2023-01-20T14:17:36.536Z"
   },
   {
    "duration": 6,
    "start_time": "2023-01-20T14:17:36.596Z"
   },
   {
    "duration": 676,
    "start_time": "2023-01-20T14:17:36.751Z"
   },
   {
    "duration": 359,
    "start_time": "2023-01-20T14:17:37.429Z"
   },
   {
    "duration": 257,
    "start_time": "2023-01-20T14:17:37.789Z"
   },
   {
    "duration": 244,
    "start_time": "2023-01-20T14:17:38.048Z"
   },
   {
    "duration": 1688,
    "start_time": "2023-01-21T07:54:00.265Z"
   },
   {
    "duration": 188,
    "start_time": "2023-01-21T07:54:01.955Z"
   },
   {
    "duration": 11,
    "start_time": "2023-01-21T07:54:02.146Z"
   },
   {
    "duration": 50,
    "start_time": "2023-01-21T07:54:02.160Z"
   },
   {
    "duration": 5,
    "start_time": "2023-01-21T07:54:02.212Z"
   },
   {
    "duration": 19,
    "start_time": "2023-01-21T07:54:02.219Z"
   },
   {
    "duration": 90,
    "start_time": "2023-01-21T07:54:02.240Z"
   },
   {
    "duration": 8,
    "start_time": "2023-01-21T07:54:02.332Z"
   },
   {
    "duration": 822,
    "start_time": "2023-01-21T07:54:02.342Z"
   },
   {
    "duration": 361,
    "start_time": "2023-01-21T07:54:03.168Z"
   },
   {
    "duration": 359,
    "start_time": "2023-01-21T07:54:03.531Z"
   },
   {
    "duration": 258,
    "start_time": "2023-01-21T07:54:03.892Z"
   },
   {
    "duration": 137,
    "start_time": "2023-01-21T07:54:04.153Z"
   },
   {
    "duration": 0,
    "start_time": "2023-01-21T07:54:04.292Z"
   },
   {
    "duration": 0,
    "start_time": "2023-01-21T07:54:04.293Z"
   },
   {
    "duration": 0,
    "start_time": "2023-01-21T07:54:04.294Z"
   },
   {
    "duration": 0,
    "start_time": "2023-01-21T07:54:04.295Z"
   },
   {
    "duration": 1557,
    "start_time": "2023-01-21T07:59:40.638Z"
   },
   {
    "duration": 66,
    "start_time": "2023-01-21T07:59:42.197Z"
   },
   {
    "duration": 16,
    "start_time": "2023-01-21T07:59:42.270Z"
   },
   {
    "duration": 23,
    "start_time": "2023-01-21T07:59:42.289Z"
   },
   {
    "duration": 7,
    "start_time": "2023-01-21T07:59:42.314Z"
   },
   {
    "duration": 11,
    "start_time": "2023-01-21T07:59:42.323Z"
   },
   {
    "duration": 77,
    "start_time": "2023-01-21T07:59:42.336Z"
   },
   {
    "duration": 8,
    "start_time": "2023-01-21T07:59:42.415Z"
   },
   {
    "duration": 824,
    "start_time": "2023-01-21T07:59:42.425Z"
   },
   {
    "duration": 396,
    "start_time": "2023-01-21T07:59:43.252Z"
   },
   {
    "duration": 371,
    "start_time": "2023-01-21T07:59:43.650Z"
   },
   {
    "duration": 263,
    "start_time": "2023-01-21T07:59:44.023Z"
   },
   {
    "duration": 139,
    "start_time": "2023-01-21T07:59:44.287Z"
   },
   {
    "duration": 0,
    "start_time": "2023-01-21T07:59:44.428Z"
   },
   {
    "duration": 0,
    "start_time": "2023-01-21T07:59:44.429Z"
   },
   {
    "duration": 1,
    "start_time": "2023-01-21T07:59:44.430Z"
   },
   {
    "duration": 1,
    "start_time": "2023-01-21T07:59:44.431Z"
   },
   {
    "duration": 494022,
    "start_time": "2023-01-21T08:00:00.151Z"
   },
   {
    "duration": 1414,
    "start_time": "2023-01-21T09:15:57.163Z"
   },
   {
    "duration": 60,
    "start_time": "2023-01-21T09:15:58.579Z"
   },
   {
    "duration": 5,
    "start_time": "2023-01-21T09:15:58.640Z"
   },
   {
    "duration": 36,
    "start_time": "2023-01-21T09:15:58.647Z"
   },
   {
    "duration": 6,
    "start_time": "2023-01-21T09:15:58.684Z"
   },
   {
    "duration": 8,
    "start_time": "2023-01-21T09:15:58.692Z"
   },
   {
    "duration": 68,
    "start_time": "2023-01-21T09:15:58.702Z"
   },
   {
    "duration": 9,
    "start_time": "2023-01-21T09:15:58.772Z"
   },
   {
    "duration": 782,
    "start_time": "2023-01-21T09:15:58.783Z"
   },
   {
    "duration": 328,
    "start_time": "2023-01-21T09:15:59.568Z"
   },
   {
    "duration": 324,
    "start_time": "2023-01-21T09:15:59.898Z"
   },
   {
    "duration": 239,
    "start_time": "2023-01-21T09:16:00.224Z"
   },
   {
    "duration": 1375,
    "start_time": "2023-01-21T09:41:10.880Z"
   },
   {
    "duration": 58,
    "start_time": "2023-01-21T09:41:12.258Z"
   },
   {
    "duration": 15,
    "start_time": "2023-01-21T09:41:12.318Z"
   },
   {
    "duration": 24,
    "start_time": "2023-01-21T09:41:12.335Z"
   },
   {
    "duration": 6,
    "start_time": "2023-01-21T09:41:12.361Z"
   },
   {
    "duration": 12,
    "start_time": "2023-01-21T09:41:12.369Z"
   },
   {
    "duration": 71,
    "start_time": "2023-01-21T09:41:12.383Z"
   },
   {
    "duration": 8,
    "start_time": "2023-01-21T09:41:12.456Z"
   },
   {
    "duration": 739,
    "start_time": "2023-01-21T09:41:12.466Z"
   },
   {
    "duration": 365,
    "start_time": "2023-01-21T09:41:13.207Z"
   },
   {
    "duration": 333,
    "start_time": "2023-01-21T09:41:13.574Z"
   },
   {
    "duration": 232,
    "start_time": "2023-01-21T09:41:13.909Z"
   },
   {
    "duration": 3147812,
    "start_time": "2023-01-21T09:41:14.142Z"
   },
   {
    "duration": 305501,
    "start_time": "2023-01-21T10:33:41.956Z"
   },
   {
    "duration": 12,
    "start_time": "2023-01-21T10:55:02.962Z"
   },
   {
    "duration": 4,
    "start_time": "2023-01-21T10:56:36.810Z"
   },
   {
    "duration": 312,
    "start_time": "2023-01-21T10:56:48.559Z"
   },
   {
    "duration": 6,
    "start_time": "2023-01-21T10:57:19.970Z"
   },
   {
    "duration": 1471,
    "start_time": "2023-01-23T08:27:39.008Z"
   },
   {
    "duration": 132,
    "start_time": "2023-01-23T08:27:40.481Z"
   },
   {
    "duration": 3,
    "start_time": "2023-01-23T08:27:40.615Z"
   },
   {
    "duration": 18,
    "start_time": "2023-01-23T08:27:40.620Z"
   },
   {
    "duration": 6,
    "start_time": "2023-01-23T08:27:40.640Z"
   },
   {
    "duration": 8,
    "start_time": "2023-01-23T08:27:40.647Z"
   },
   {
    "duration": 55,
    "start_time": "2023-01-23T08:27:40.657Z"
   },
   {
    "duration": 8,
    "start_time": "2023-01-23T08:27:40.714Z"
   },
   {
    "duration": 745,
    "start_time": "2023-01-23T08:27:40.744Z"
   },
   {
    "duration": 393,
    "start_time": "2023-01-23T08:27:41.491Z"
   },
   {
    "duration": 245,
    "start_time": "2023-01-23T08:27:41.886Z"
   },
   {
    "duration": 233,
    "start_time": "2023-01-23T08:27:42.133Z"
   },
   {
    "duration": 42762,
    "start_time": "2023-01-23T08:27:42.368Z"
   },
   {
    "duration": 0,
    "start_time": "2023-01-23T08:28:25.132Z"
   },
   {
    "duration": 0,
    "start_time": "2023-01-23T08:28:25.133Z"
   },
   {
    "duration": 64231,
    "start_time": "2023-01-23T08:28:45.456Z"
   },
   {
    "duration": 51,
    "start_time": "2023-01-23T08:30:22.385Z"
   },
   {
    "duration": 906223,
    "start_time": "2023-01-23T08:30:29.770Z"
   },
   {
    "duration": 36649,
    "start_time": "2023-01-23T08:50:04.810Z"
   },
   {
    "duration": 5,
    "start_time": "2023-01-23T08:50:56.927Z"
   },
   {
    "duration": 60,
    "start_time": "2023-01-23T08:50:56.934Z"
   },
   {
    "duration": 4,
    "start_time": "2023-01-23T08:50:56.996Z"
   },
   {
    "duration": 15,
    "start_time": "2023-01-23T08:50:57.002Z"
   },
   {
    "duration": 6,
    "start_time": "2023-01-23T08:50:57.019Z"
   },
   {
    "duration": 9,
    "start_time": "2023-01-23T08:50:57.028Z"
   },
   {
    "duration": 56,
    "start_time": "2023-01-23T08:50:57.039Z"
   },
   {
    "duration": 7,
    "start_time": "2023-01-23T08:50:57.097Z"
   },
   {
    "duration": 789,
    "start_time": "2023-01-23T08:50:57.105Z"
   },
   {
    "duration": 325,
    "start_time": "2023-01-23T08:50:57.897Z"
   },
   {
    "duration": 228,
    "start_time": "2023-01-23T08:50:58.224Z"
   },
   {
    "duration": 220,
    "start_time": "2023-01-23T08:50:58.454Z"
   },
   {
    "duration": 471448,
    "start_time": "2023-01-23T08:50:58.675Z"
   },
   {
    "duration": 34931,
    "start_time": "2023-01-23T08:58:50.124Z"
   },
   {
    "duration": 68,
    "start_time": "2023-01-23T08:59:25.057Z"
   },
   {
    "duration": 134,
    "start_time": "2023-01-23T09:06:17.554Z"
   },
   {
    "duration": 4310,
    "start_time": "2023-01-23T09:06:40.319Z"
   },
   {
    "duration": 4499,
    "start_time": "2023-01-23T09:10:17.000Z"
   },
   {
    "duration": 6,
    "start_time": "2023-01-23T09:16:49.950Z"
   },
   {
    "duration": 1595,
    "start_time": "2023-01-23T09:19:13.735Z"
   },
   {
    "duration": 54,
    "start_time": "2023-01-23T09:19:15.332Z"
   },
   {
    "duration": 3,
    "start_time": "2023-01-23T09:19:15.388Z"
   },
   {
    "duration": 14,
    "start_time": "2023-01-23T09:19:15.393Z"
   },
   {
    "duration": 4,
    "start_time": "2023-01-23T09:19:15.409Z"
   },
   {
    "duration": 7,
    "start_time": "2023-01-23T09:19:15.415Z"
   },
   {
    "duration": 61,
    "start_time": "2023-01-23T09:19:15.423Z"
   },
   {
    "duration": 7,
    "start_time": "2023-01-23T09:19:15.485Z"
   },
   {
    "duration": 744,
    "start_time": "2023-01-23T09:19:15.493Z"
   },
   {
    "duration": 376,
    "start_time": "2023-01-23T09:19:16.239Z"
   },
   {
    "duration": 249,
    "start_time": "2023-01-23T09:19:16.617Z"
   },
   {
    "duration": 222,
    "start_time": "2023-01-23T09:19:16.868Z"
   },
   {
    "duration": 343357,
    "start_time": "2023-01-23T09:19:17.091Z"
   },
   {
    "duration": 33117,
    "start_time": "2023-01-23T09:25:00.450Z"
   },
   {
    "duration": 4393,
    "start_time": "2023-01-23T09:25:33.570Z"
   },
   {
    "duration": 389,
    "start_time": "2023-01-23T09:34:55.277Z"
   },
   {
    "duration": 51,
    "start_time": "2023-01-23T09:49:37.471Z"
   },
   {
    "duration": 61,
    "start_time": "2023-01-23T09:51:11.229Z"
   },
   {
    "duration": 72,
    "start_time": "2023-01-23T09:55:50.388Z"
   },
   {
    "duration": 6,
    "start_time": "2023-01-23T10:07:06.899Z"
   },
   {
    "duration": 15,
    "start_time": "2023-01-23T10:17:32.376Z"
   },
   {
    "duration": 13,
    "start_time": "2023-01-23T10:17:36.236Z"
   },
   {
    "duration": 12,
    "start_time": "2023-01-23T10:18:07.150Z"
   },
   {
    "duration": 5,
    "start_time": "2023-01-23T10:18:45.353Z"
   },
   {
    "duration": 12,
    "start_time": "2023-01-23T10:19:47.860Z"
   },
   {
    "duration": 32,
    "start_time": "2023-01-23T10:20:55.809Z"
   },
   {
    "duration": 1400,
    "start_time": "2023-01-23T10:28:58.386Z"
   },
   {
    "duration": 56,
    "start_time": "2023-01-23T10:28:59.788Z"
   },
   {
    "duration": 4,
    "start_time": "2023-01-23T10:28:59.845Z"
   },
   {
    "duration": 14,
    "start_time": "2023-01-23T10:28:59.851Z"
   },
   {
    "duration": 8,
    "start_time": "2023-01-23T10:28:59.867Z"
   },
   {
    "duration": 5,
    "start_time": "2023-01-23T10:28:59.877Z"
   },
   {
    "duration": 34,
    "start_time": "2023-01-23T10:28:59.884Z"
   },
   {
    "duration": 31,
    "start_time": "2023-01-23T10:28:59.920Z"
   },
   {
    "duration": 729,
    "start_time": "2023-01-23T10:28:59.952Z"
   },
   {
    "duration": 410,
    "start_time": "2023-01-23T10:29:00.685Z"
   },
   {
    "duration": 235,
    "start_time": "2023-01-23T10:29:01.097Z"
   },
   {
    "duration": 227,
    "start_time": "2023-01-23T10:29:01.333Z"
   },
   {
    "duration": 1469,
    "start_time": "2023-01-23T11:12:26.970Z"
   },
   {
    "duration": 66,
    "start_time": "2023-01-23T11:12:28.442Z"
   },
   {
    "duration": 5,
    "start_time": "2023-01-23T11:12:28.510Z"
   },
   {
    "duration": 18,
    "start_time": "2023-01-23T11:12:28.518Z"
   },
   {
    "duration": 15,
    "start_time": "2023-01-23T11:12:28.538Z"
   },
   {
    "duration": 34,
    "start_time": "2023-01-23T11:12:28.554Z"
   },
   {
    "duration": 43,
    "start_time": "2023-01-23T11:12:28.590Z"
   },
   {
    "duration": 7,
    "start_time": "2023-01-23T11:12:28.635Z"
   },
   {
    "duration": 755,
    "start_time": "2023-01-23T11:12:28.646Z"
   },
   {
    "duration": 416,
    "start_time": "2023-01-23T11:12:29.403Z"
   },
   {
    "duration": 271,
    "start_time": "2023-01-23T11:12:29.821Z"
   },
   {
    "duration": 258,
    "start_time": "2023-01-23T11:12:30.094Z"
   },
   {
    "duration": 1445,
    "start_time": "2023-01-23T11:27:48.360Z"
   },
   {
    "duration": 67,
    "start_time": "2023-01-23T11:27:49.806Z"
   },
   {
    "duration": 4,
    "start_time": "2023-01-23T11:27:49.875Z"
   },
   {
    "duration": 17,
    "start_time": "2023-01-23T11:27:49.881Z"
   },
   {
    "duration": 5,
    "start_time": "2023-01-23T11:27:49.901Z"
   },
   {
    "duration": 6,
    "start_time": "2023-01-23T11:27:49.908Z"
   },
   {
    "duration": 60,
    "start_time": "2023-01-23T11:27:49.916Z"
   },
   {
    "duration": 7,
    "start_time": "2023-01-23T11:27:49.977Z"
   },
   {
    "duration": 727,
    "start_time": "2023-01-23T11:27:49.986Z"
   },
   {
    "duration": 404,
    "start_time": "2023-01-23T11:27:50.715Z"
   },
   {
    "duration": 265,
    "start_time": "2023-01-23T11:27:51.121Z"
   },
   {
    "duration": 265,
    "start_time": "2023-01-23T11:27:51.388Z"
   },
   {
    "duration": 1853,
    "start_time": "2023-01-24T06:24:42.328Z"
   },
   {
    "duration": 197,
    "start_time": "2023-01-24T06:24:44.184Z"
   },
   {
    "duration": 21,
    "start_time": "2023-01-24T06:24:44.382Z"
   },
   {
    "duration": 23,
    "start_time": "2023-01-24T06:24:44.407Z"
   },
   {
    "duration": 6,
    "start_time": "2023-01-24T06:24:44.432Z"
   },
   {
    "duration": 6,
    "start_time": "2023-01-24T06:24:44.440Z"
   },
   {
    "duration": 41,
    "start_time": "2023-01-24T06:24:44.448Z"
   },
   {
    "duration": 8,
    "start_time": "2023-01-24T06:24:44.497Z"
   },
   {
    "duration": 855,
    "start_time": "2023-01-24T06:24:44.507Z"
   },
   {
    "duration": 503,
    "start_time": "2023-01-24T06:24:45.364Z"
   },
   {
    "duration": 302,
    "start_time": "2023-01-24T06:24:45.869Z"
   },
   {
    "duration": 278,
    "start_time": "2023-01-24T06:24:46.174Z"
   },
   {
    "duration": 1662,
    "start_time": "2023-01-24T06:52:03.141Z"
   },
   {
    "duration": 59,
    "start_time": "2023-01-24T06:52:04.812Z"
   },
   {
    "duration": 5,
    "start_time": "2023-01-24T06:52:04.872Z"
   },
   {
    "duration": 52,
    "start_time": "2023-01-24T06:52:04.879Z"
   },
   {
    "duration": 11,
    "start_time": "2023-01-24T06:52:04.933Z"
   },
   {
    "duration": 11,
    "start_time": "2023-01-24T06:52:04.946Z"
   },
   {
    "duration": 47,
    "start_time": "2023-01-24T06:52:04.958Z"
   },
   {
    "duration": 17,
    "start_time": "2023-01-24T06:52:05.007Z"
   },
   {
    "duration": 892,
    "start_time": "2023-01-24T06:52:05.026Z"
   },
   {
    "duration": 496,
    "start_time": "2023-01-24T06:52:05.920Z"
   },
   {
    "duration": 307,
    "start_time": "2023-01-24T06:52:06.418Z"
   },
   {
    "duration": 274,
    "start_time": "2023-01-24T06:52:06.727Z"
   },
   {
    "duration": 139,
    "start_time": "2023-01-24T08:05:54.723Z"
   },
   {
    "duration": 1939,
    "start_time": "2023-01-24T08:05:59.526Z"
   },
   {
    "duration": 75,
    "start_time": "2023-01-24T08:06:01.469Z"
   },
   {
    "duration": 4,
    "start_time": "2023-01-24T08:06:01.546Z"
   },
   {
    "duration": 46,
    "start_time": "2023-01-24T08:06:01.553Z"
   },
   {
    "duration": 49,
    "start_time": "2023-01-24T08:06:01.604Z"
   },
   {
    "duration": 19,
    "start_time": "2023-01-24T08:06:01.655Z"
   },
   {
    "duration": 83,
    "start_time": "2023-01-24T08:06:01.676Z"
   },
   {
    "duration": 8,
    "start_time": "2023-01-24T08:06:01.761Z"
   },
   {
    "duration": 932,
    "start_time": "2023-01-24T08:06:01.771Z"
   },
   {
    "duration": 534,
    "start_time": "2023-01-24T08:06:02.705Z"
   },
   {
    "duration": 327,
    "start_time": "2023-01-24T08:06:03.241Z"
   },
   {
    "duration": 303,
    "start_time": "2023-01-24T08:06:03.571Z"
   },
   {
    "duration": 18,
    "start_time": "2023-01-24T08:06:03.876Z"
   },
   {
    "duration": 475698,
    "start_time": "2023-01-24T08:06:03.899Z"
   },
   {
    "duration": 238807,
    "start_time": "2023-01-24T08:13:59.604Z"
   },
   {
    "duration": 198,
    "start_time": "2023-01-24T08:25:47.526Z"
   },
   {
    "duration": 71,
    "start_time": "2023-01-24T08:26:35.603Z"
   },
   {
    "duration": 74,
    "start_time": "2023-01-24T08:26:44.558Z"
   },
   {
    "duration": 89,
    "start_time": "2023-01-24T08:27:09.341Z"
   },
   {
    "duration": 130,
    "start_time": "2023-01-24T08:27:33.009Z"
   },
   {
    "duration": 20,
    "start_time": "2023-01-24T08:28:39.077Z"
   },
   {
    "duration": 171,
    "start_time": "2023-01-24T08:29:29.457Z"
   },
   {
    "duration": 32,
    "start_time": "2023-01-24T08:29:33.955Z"
   },
   {
    "duration": 13,
    "start_time": "2023-01-24T08:29:41.715Z"
   }
  ],
  "kernelspec": {
   "display_name": "Python 3 (ipykernel)",
   "language": "python",
   "name": "python3"
  },
  "language_info": {
   "codemirror_mode": {
    "name": "ipython",
    "version": 3
   },
   "file_extension": ".py",
   "mimetype": "text/x-python",
   "name": "python",
   "nbconvert_exporter": "python",
   "pygments_lexer": "ipython3",
   "version": "3.9.5"
  },
  "toc": {
   "base_numbering": 1,
   "nav_menu": {},
   "number_sections": true,
   "sideBar": true,
   "skip_h1_title": true,
   "title_cell": "Содержание",
   "title_sidebar": "Contents",
   "toc_cell": true,
   "toc_position": {},
   "toc_section_display": true,
   "toc_window_display": false
  }
 },
 "nbformat": 4,
 "nbformat_minor": 2
}
