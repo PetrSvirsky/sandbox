{
 "cells": [
  {
   "cell_type": "markdown",
   "metadata": {},
   "source": [
    "# Определение стоимости автомобилей"
   ]
  },
  {
   "cell_type": "markdown",
   "metadata": {},
   "source": [
    "Сервис по продаже автомобилей с пробегом «Не бит, не крашен» разрабатывает приложение для привлечения новых клиентов. В нём можно быстро узнать рыночную стоимость своего автомобиля. В вашем распоряжении исторические данные: технические характеристики, комплектации и цены автомобилей. Вам нужно построить модель для определения стоимости. \n",
    "\n",
    "Заказчику важны:\n",
    "\n",
    "- качество предсказания;\n",
    "- скорость предсказания;\n",
    "- время обучения."
   ]
  },
  {
   "cell_type": "markdown",
   "metadata": {},
   "source": [
    "## Подготовка данных"
   ]
  },
  {
   "cell_type": "code",
   "execution_count": 24,
   "metadata": {},
   "outputs": [],
   "source": [
    "import numpy as np\n",
    "import pandas as pd\n",
    "\n",
    "import matplotlib.pyplot as plt\n",
    "import seaborn as sns\n",
    "\n",
    "from sklearn.metrics import mean_squared_error\n",
    "from sklearn.preprocessing import LabelEncoder\n",
    "from sklearn.preprocessing import OrdinalEncoder\n",
    "from sklearn.model_selection import GridSearchCV, cross_val_score, train_test_split\n",
    "from sklearn.ensemble import RandomForestRegressor\n",
    "\n",
    "import lightgbm as lgb\n",
    "\n",
    "import warnings\n",
    "warnings.filterwarnings(\"ignore\", category=DeprecationWarning)\n",
    "\n",
    "state = np.random.RandomState(12345)"
   ]
  },
  {
   "cell_type": "code",
   "execution_count": 25,
   "metadata": {
    "scrolled": true
   },
   "outputs": [
    {
     "data": {
      "text/html": [
       "<div>\n",
       "<style scoped>\n",
       "    .dataframe tbody tr th:only-of-type {\n",
       "        vertical-align: middle;\n",
       "    }\n",
       "\n",
       "    .dataframe tbody tr th {\n",
       "        vertical-align: top;\n",
       "    }\n",
       "\n",
       "    .dataframe thead th {\n",
       "        text-align: right;\n",
       "    }\n",
       "</style>\n",
       "<table border=\"1\" class=\"dataframe\">\n",
       "  <thead>\n",
       "    <tr style=\"text-align: right;\">\n",
       "      <th></th>\n",
       "      <th>DateCrawled</th>\n",
       "      <th>Price</th>\n",
       "      <th>VehicleType</th>\n",
       "      <th>RegistrationYear</th>\n",
       "      <th>Gearbox</th>\n",
       "      <th>Power</th>\n",
       "      <th>Model</th>\n",
       "      <th>Kilometer</th>\n",
       "      <th>RegistrationMonth</th>\n",
       "      <th>FuelType</th>\n",
       "      <th>Brand</th>\n",
       "      <th>Repaired</th>\n",
       "      <th>DateCreated</th>\n",
       "      <th>NumberOfPictures</th>\n",
       "      <th>PostalCode</th>\n",
       "      <th>LastSeen</th>\n",
       "    </tr>\n",
       "  </thead>\n",
       "  <tbody>\n",
       "    <tr>\n",
       "      <th>0</th>\n",
       "      <td>2016-03-24 11:52:17</td>\n",
       "      <td>480</td>\n",
       "      <td>NaN</td>\n",
       "      <td>1993</td>\n",
       "      <td>manual</td>\n",
       "      <td>0</td>\n",
       "      <td>golf</td>\n",
       "      <td>150000</td>\n",
       "      <td>0</td>\n",
       "      <td>petrol</td>\n",
       "      <td>volkswagen</td>\n",
       "      <td>NaN</td>\n",
       "      <td>2016-03-24 00:00:00</td>\n",
       "      <td>0</td>\n",
       "      <td>70435</td>\n",
       "      <td>2016-04-07 03:16:57</td>\n",
       "    </tr>\n",
       "    <tr>\n",
       "      <th>1</th>\n",
       "      <td>2016-03-24 10:58:45</td>\n",
       "      <td>18300</td>\n",
       "      <td>coupe</td>\n",
       "      <td>2011</td>\n",
       "      <td>manual</td>\n",
       "      <td>190</td>\n",
       "      <td>NaN</td>\n",
       "      <td>125000</td>\n",
       "      <td>5</td>\n",
       "      <td>gasoline</td>\n",
       "      <td>audi</td>\n",
       "      <td>yes</td>\n",
       "      <td>2016-03-24 00:00:00</td>\n",
       "      <td>0</td>\n",
       "      <td>66954</td>\n",
       "      <td>2016-04-07 01:46:50</td>\n",
       "    </tr>\n",
       "    <tr>\n",
       "      <th>2</th>\n",
       "      <td>2016-03-14 12:52:21</td>\n",
       "      <td>9800</td>\n",
       "      <td>suv</td>\n",
       "      <td>2004</td>\n",
       "      <td>auto</td>\n",
       "      <td>163</td>\n",
       "      <td>grand</td>\n",
       "      <td>125000</td>\n",
       "      <td>8</td>\n",
       "      <td>gasoline</td>\n",
       "      <td>jeep</td>\n",
       "      <td>NaN</td>\n",
       "      <td>2016-03-14 00:00:00</td>\n",
       "      <td>0</td>\n",
       "      <td>90480</td>\n",
       "      <td>2016-04-05 12:47:46</td>\n",
       "    </tr>\n",
       "    <tr>\n",
       "      <th>3</th>\n",
       "      <td>2016-03-17 16:54:04</td>\n",
       "      <td>1500</td>\n",
       "      <td>small</td>\n",
       "      <td>2001</td>\n",
       "      <td>manual</td>\n",
       "      <td>75</td>\n",
       "      <td>golf</td>\n",
       "      <td>150000</td>\n",
       "      <td>6</td>\n",
       "      <td>petrol</td>\n",
       "      <td>volkswagen</td>\n",
       "      <td>no</td>\n",
       "      <td>2016-03-17 00:00:00</td>\n",
       "      <td>0</td>\n",
       "      <td>91074</td>\n",
       "      <td>2016-03-17 17:40:17</td>\n",
       "    </tr>\n",
       "    <tr>\n",
       "      <th>4</th>\n",
       "      <td>2016-03-31 17:25:20</td>\n",
       "      <td>3600</td>\n",
       "      <td>small</td>\n",
       "      <td>2008</td>\n",
       "      <td>manual</td>\n",
       "      <td>69</td>\n",
       "      <td>fabia</td>\n",
       "      <td>90000</td>\n",
       "      <td>7</td>\n",
       "      <td>gasoline</td>\n",
       "      <td>skoda</td>\n",
       "      <td>no</td>\n",
       "      <td>2016-03-31 00:00:00</td>\n",
       "      <td>0</td>\n",
       "      <td>60437</td>\n",
       "      <td>2016-04-06 10:17:21</td>\n",
       "    </tr>\n",
       "    <tr>\n",
       "      <th>5</th>\n",
       "      <td>2016-04-04 17:36:23</td>\n",
       "      <td>650</td>\n",
       "      <td>sedan</td>\n",
       "      <td>1995</td>\n",
       "      <td>manual</td>\n",
       "      <td>102</td>\n",
       "      <td>3er</td>\n",
       "      <td>150000</td>\n",
       "      <td>10</td>\n",
       "      <td>petrol</td>\n",
       "      <td>bmw</td>\n",
       "      <td>yes</td>\n",
       "      <td>2016-04-04 00:00:00</td>\n",
       "      <td>0</td>\n",
       "      <td>33775</td>\n",
       "      <td>2016-04-06 19:17:07</td>\n",
       "    </tr>\n",
       "    <tr>\n",
       "      <th>6</th>\n",
       "      <td>2016-04-01 20:48:51</td>\n",
       "      <td>2200</td>\n",
       "      <td>convertible</td>\n",
       "      <td>2004</td>\n",
       "      <td>manual</td>\n",
       "      <td>109</td>\n",
       "      <td>2_reihe</td>\n",
       "      <td>150000</td>\n",
       "      <td>8</td>\n",
       "      <td>petrol</td>\n",
       "      <td>peugeot</td>\n",
       "      <td>no</td>\n",
       "      <td>2016-04-01 00:00:00</td>\n",
       "      <td>0</td>\n",
       "      <td>67112</td>\n",
       "      <td>2016-04-05 18:18:39</td>\n",
       "    </tr>\n",
       "    <tr>\n",
       "      <th>7</th>\n",
       "      <td>2016-03-21 18:54:38</td>\n",
       "      <td>0</td>\n",
       "      <td>sedan</td>\n",
       "      <td>1980</td>\n",
       "      <td>manual</td>\n",
       "      <td>50</td>\n",
       "      <td>other</td>\n",
       "      <td>40000</td>\n",
       "      <td>7</td>\n",
       "      <td>petrol</td>\n",
       "      <td>volkswagen</td>\n",
       "      <td>no</td>\n",
       "      <td>2016-03-21 00:00:00</td>\n",
       "      <td>0</td>\n",
       "      <td>19348</td>\n",
       "      <td>2016-03-25 16:47:58</td>\n",
       "    </tr>\n",
       "    <tr>\n",
       "      <th>8</th>\n",
       "      <td>2016-04-04 23:42:13</td>\n",
       "      <td>14500</td>\n",
       "      <td>bus</td>\n",
       "      <td>2014</td>\n",
       "      <td>manual</td>\n",
       "      <td>125</td>\n",
       "      <td>c_max</td>\n",
       "      <td>30000</td>\n",
       "      <td>8</td>\n",
       "      <td>petrol</td>\n",
       "      <td>ford</td>\n",
       "      <td>NaN</td>\n",
       "      <td>2016-04-04 00:00:00</td>\n",
       "      <td>0</td>\n",
       "      <td>94505</td>\n",
       "      <td>2016-04-04 23:42:13</td>\n",
       "    </tr>\n",
       "    <tr>\n",
       "      <th>9</th>\n",
       "      <td>2016-03-17 10:53:50</td>\n",
       "      <td>999</td>\n",
       "      <td>small</td>\n",
       "      <td>1998</td>\n",
       "      <td>manual</td>\n",
       "      <td>101</td>\n",
       "      <td>golf</td>\n",
       "      <td>150000</td>\n",
       "      <td>0</td>\n",
       "      <td>NaN</td>\n",
       "      <td>volkswagen</td>\n",
       "      <td>NaN</td>\n",
       "      <td>2016-03-17 00:00:00</td>\n",
       "      <td>0</td>\n",
       "      <td>27472</td>\n",
       "      <td>2016-03-31 17:17:06</td>\n",
       "    </tr>\n",
       "    <tr>\n",
       "      <th>10</th>\n",
       "      <td>2016-03-26 19:54:18</td>\n",
       "      <td>2000</td>\n",
       "      <td>sedan</td>\n",
       "      <td>2004</td>\n",
       "      <td>manual</td>\n",
       "      <td>105</td>\n",
       "      <td>3_reihe</td>\n",
       "      <td>150000</td>\n",
       "      <td>12</td>\n",
       "      <td>petrol</td>\n",
       "      <td>mazda</td>\n",
       "      <td>no</td>\n",
       "      <td>2016-03-26 00:00:00</td>\n",
       "      <td>0</td>\n",
       "      <td>96224</td>\n",
       "      <td>2016-04-06 10:45:34</td>\n",
       "    </tr>\n",
       "    <tr>\n",
       "      <th>11</th>\n",
       "      <td>2016-04-07 10:06:22</td>\n",
       "      <td>2799</td>\n",
       "      <td>wagon</td>\n",
       "      <td>2005</td>\n",
       "      <td>manual</td>\n",
       "      <td>140</td>\n",
       "      <td>passat</td>\n",
       "      <td>150000</td>\n",
       "      <td>12</td>\n",
       "      <td>gasoline</td>\n",
       "      <td>volkswagen</td>\n",
       "      <td>yes</td>\n",
       "      <td>2016-04-07 00:00:00</td>\n",
       "      <td>0</td>\n",
       "      <td>57290</td>\n",
       "      <td>2016-04-07 10:25:17</td>\n",
       "    </tr>\n",
       "    <tr>\n",
       "      <th>12</th>\n",
       "      <td>2016-03-15 22:49:09</td>\n",
       "      <td>999</td>\n",
       "      <td>wagon</td>\n",
       "      <td>1995</td>\n",
       "      <td>manual</td>\n",
       "      <td>115</td>\n",
       "      <td>passat</td>\n",
       "      <td>150000</td>\n",
       "      <td>11</td>\n",
       "      <td>petrol</td>\n",
       "      <td>volkswagen</td>\n",
       "      <td>NaN</td>\n",
       "      <td>2016-03-15 00:00:00</td>\n",
       "      <td>0</td>\n",
       "      <td>37269</td>\n",
       "      <td>2016-04-01 13:16:16</td>\n",
       "    </tr>\n",
       "    <tr>\n",
       "      <th>13</th>\n",
       "      <td>2016-03-21 21:37:40</td>\n",
       "      <td>2500</td>\n",
       "      <td>wagon</td>\n",
       "      <td>2004</td>\n",
       "      <td>manual</td>\n",
       "      <td>131</td>\n",
       "      <td>passat</td>\n",
       "      <td>150000</td>\n",
       "      <td>2</td>\n",
       "      <td>NaN</td>\n",
       "      <td>volkswagen</td>\n",
       "      <td>no</td>\n",
       "      <td>2016-03-21 00:00:00</td>\n",
       "      <td>0</td>\n",
       "      <td>90762</td>\n",
       "      <td>2016-03-23 02:50:54</td>\n",
       "    </tr>\n",
       "    <tr>\n",
       "      <th>14</th>\n",
       "      <td>2016-03-21 12:57:01</td>\n",
       "      <td>17999</td>\n",
       "      <td>suv</td>\n",
       "      <td>2011</td>\n",
       "      <td>manual</td>\n",
       "      <td>190</td>\n",
       "      <td>navara</td>\n",
       "      <td>70000</td>\n",
       "      <td>3</td>\n",
       "      <td>gasoline</td>\n",
       "      <td>nissan</td>\n",
       "      <td>no</td>\n",
       "      <td>2016-03-21 00:00:00</td>\n",
       "      <td>0</td>\n",
       "      <td>4177</td>\n",
       "      <td>2016-04-06 07:45:42</td>\n",
       "    </tr>\n",
       "    <tr>\n",
       "      <th>15</th>\n",
       "      <td>2016-03-11 21:39:15</td>\n",
       "      <td>450</td>\n",
       "      <td>small</td>\n",
       "      <td>1910</td>\n",
       "      <td>NaN</td>\n",
       "      <td>0</td>\n",
       "      <td>ka</td>\n",
       "      <td>5000</td>\n",
       "      <td>0</td>\n",
       "      <td>petrol</td>\n",
       "      <td>ford</td>\n",
       "      <td>NaN</td>\n",
       "      <td>2016-03-11 00:00:00</td>\n",
       "      <td>0</td>\n",
       "      <td>24148</td>\n",
       "      <td>2016-03-19 08:46:47</td>\n",
       "    </tr>\n",
       "    <tr>\n",
       "      <th>16</th>\n",
       "      <td>2016-04-01 12:46:46</td>\n",
       "      <td>300</td>\n",
       "      <td>NaN</td>\n",
       "      <td>2016</td>\n",
       "      <td>NaN</td>\n",
       "      <td>60</td>\n",
       "      <td>polo</td>\n",
       "      <td>150000</td>\n",
       "      <td>0</td>\n",
       "      <td>petrol</td>\n",
       "      <td>volkswagen</td>\n",
       "      <td>NaN</td>\n",
       "      <td>2016-04-01 00:00:00</td>\n",
       "      <td>0</td>\n",
       "      <td>38871</td>\n",
       "      <td>2016-04-01 12:46:46</td>\n",
       "    </tr>\n",
       "    <tr>\n",
       "      <th>17</th>\n",
       "      <td>2016-03-20 10:25:19</td>\n",
       "      <td>1750</td>\n",
       "      <td>small</td>\n",
       "      <td>2004</td>\n",
       "      <td>auto</td>\n",
       "      <td>75</td>\n",
       "      <td>twingo</td>\n",
       "      <td>150000</td>\n",
       "      <td>2</td>\n",
       "      <td>petrol</td>\n",
       "      <td>renault</td>\n",
       "      <td>no</td>\n",
       "      <td>2016-03-20 00:00:00</td>\n",
       "      <td>0</td>\n",
       "      <td>65599</td>\n",
       "      <td>2016-04-06 13:16:07</td>\n",
       "    </tr>\n",
       "    <tr>\n",
       "      <th>18</th>\n",
       "      <td>2016-03-23 15:48:05</td>\n",
       "      <td>7550</td>\n",
       "      <td>bus</td>\n",
       "      <td>2007</td>\n",
       "      <td>manual</td>\n",
       "      <td>136</td>\n",
       "      <td>c_max</td>\n",
       "      <td>150000</td>\n",
       "      <td>6</td>\n",
       "      <td>gasoline</td>\n",
       "      <td>ford</td>\n",
       "      <td>no</td>\n",
       "      <td>2016-03-23 00:00:00</td>\n",
       "      <td>0</td>\n",
       "      <td>88361</td>\n",
       "      <td>2016-04-05 18:45:11</td>\n",
       "    </tr>\n",
       "    <tr>\n",
       "      <th>19</th>\n",
       "      <td>2016-04-01 22:55:47</td>\n",
       "      <td>1850</td>\n",
       "      <td>bus</td>\n",
       "      <td>2004</td>\n",
       "      <td>manual</td>\n",
       "      <td>102</td>\n",
       "      <td>a_klasse</td>\n",
       "      <td>150000</td>\n",
       "      <td>1</td>\n",
       "      <td>petrol</td>\n",
       "      <td>mercedes_benz</td>\n",
       "      <td>no</td>\n",
       "      <td>2016-04-01 00:00:00</td>\n",
       "      <td>0</td>\n",
       "      <td>49565</td>\n",
       "      <td>2016-04-05 22:46:05</td>\n",
       "    </tr>\n",
       "  </tbody>\n",
       "</table>\n",
       "</div>"
      ],
      "text/plain": [
       "            DateCrawled  Price  VehicleType  RegistrationYear Gearbox  Power  \\\n",
       "0   2016-03-24 11:52:17    480          NaN              1993  manual      0   \n",
       "1   2016-03-24 10:58:45  18300        coupe              2011  manual    190   \n",
       "2   2016-03-14 12:52:21   9800          suv              2004    auto    163   \n",
       "3   2016-03-17 16:54:04   1500        small              2001  manual     75   \n",
       "4   2016-03-31 17:25:20   3600        small              2008  manual     69   \n",
       "5   2016-04-04 17:36:23    650        sedan              1995  manual    102   \n",
       "6   2016-04-01 20:48:51   2200  convertible              2004  manual    109   \n",
       "7   2016-03-21 18:54:38      0        sedan              1980  manual     50   \n",
       "8   2016-04-04 23:42:13  14500          bus              2014  manual    125   \n",
       "9   2016-03-17 10:53:50    999        small              1998  manual    101   \n",
       "10  2016-03-26 19:54:18   2000        sedan              2004  manual    105   \n",
       "11  2016-04-07 10:06:22   2799        wagon              2005  manual    140   \n",
       "12  2016-03-15 22:49:09    999        wagon              1995  manual    115   \n",
       "13  2016-03-21 21:37:40   2500        wagon              2004  manual    131   \n",
       "14  2016-03-21 12:57:01  17999          suv              2011  manual    190   \n",
       "15  2016-03-11 21:39:15    450        small              1910     NaN      0   \n",
       "16  2016-04-01 12:46:46    300          NaN              2016     NaN     60   \n",
       "17  2016-03-20 10:25:19   1750        small              2004    auto     75   \n",
       "18  2016-03-23 15:48:05   7550          bus              2007  manual    136   \n",
       "19  2016-04-01 22:55:47   1850          bus              2004  manual    102   \n",
       "\n",
       "       Model  Kilometer  RegistrationMonth  FuelType          Brand Repaired  \\\n",
       "0       golf     150000                  0    petrol     volkswagen      NaN   \n",
       "1        NaN     125000                  5  gasoline           audi      yes   \n",
       "2      grand     125000                  8  gasoline           jeep      NaN   \n",
       "3       golf     150000                  6    petrol     volkswagen       no   \n",
       "4      fabia      90000                  7  gasoline          skoda       no   \n",
       "5        3er     150000                 10    petrol            bmw      yes   \n",
       "6    2_reihe     150000                  8    petrol        peugeot       no   \n",
       "7      other      40000                  7    petrol     volkswagen       no   \n",
       "8      c_max      30000                  8    petrol           ford      NaN   \n",
       "9       golf     150000                  0       NaN     volkswagen      NaN   \n",
       "10   3_reihe     150000                 12    petrol          mazda       no   \n",
       "11    passat     150000                 12  gasoline     volkswagen      yes   \n",
       "12    passat     150000                 11    petrol     volkswagen      NaN   \n",
       "13    passat     150000                  2       NaN     volkswagen       no   \n",
       "14    navara      70000                  3  gasoline         nissan       no   \n",
       "15        ka       5000                  0    petrol           ford      NaN   \n",
       "16      polo     150000                  0    petrol     volkswagen      NaN   \n",
       "17    twingo     150000                  2    petrol        renault       no   \n",
       "18     c_max     150000                  6  gasoline           ford       no   \n",
       "19  a_klasse     150000                  1    petrol  mercedes_benz       no   \n",
       "\n",
       "            DateCreated  NumberOfPictures  PostalCode             LastSeen  \n",
       "0   2016-03-24 00:00:00                 0       70435  2016-04-07 03:16:57  \n",
       "1   2016-03-24 00:00:00                 0       66954  2016-04-07 01:46:50  \n",
       "2   2016-03-14 00:00:00                 0       90480  2016-04-05 12:47:46  \n",
       "3   2016-03-17 00:00:00                 0       91074  2016-03-17 17:40:17  \n",
       "4   2016-03-31 00:00:00                 0       60437  2016-04-06 10:17:21  \n",
       "5   2016-04-04 00:00:00                 0       33775  2016-04-06 19:17:07  \n",
       "6   2016-04-01 00:00:00                 0       67112  2016-04-05 18:18:39  \n",
       "7   2016-03-21 00:00:00                 0       19348  2016-03-25 16:47:58  \n",
       "8   2016-04-04 00:00:00                 0       94505  2016-04-04 23:42:13  \n",
       "9   2016-03-17 00:00:00                 0       27472  2016-03-31 17:17:06  \n",
       "10  2016-03-26 00:00:00                 0       96224  2016-04-06 10:45:34  \n",
       "11  2016-04-07 00:00:00                 0       57290  2016-04-07 10:25:17  \n",
       "12  2016-03-15 00:00:00                 0       37269  2016-04-01 13:16:16  \n",
       "13  2016-03-21 00:00:00                 0       90762  2016-03-23 02:50:54  \n",
       "14  2016-03-21 00:00:00                 0        4177  2016-04-06 07:45:42  \n",
       "15  2016-03-11 00:00:00                 0       24148  2016-03-19 08:46:47  \n",
       "16  2016-04-01 00:00:00                 0       38871  2016-04-01 12:46:46  \n",
       "17  2016-03-20 00:00:00                 0       65599  2016-04-06 13:16:07  \n",
       "18  2016-03-23 00:00:00                 0       88361  2016-04-05 18:45:11  \n",
       "19  2016-04-01 00:00:00                 0       49565  2016-04-05 22:46:05  "
      ]
     },
     "metadata": {},
     "output_type": "display_data"
    },
    {
     "name": "stdout",
     "output_type": "stream",
     "text": [
      "<class 'pandas.core.frame.DataFrame'>\n",
      "RangeIndex: 354369 entries, 0 to 354368\n",
      "Data columns (total 16 columns):\n",
      " #   Column             Non-Null Count   Dtype \n",
      "---  ------             --------------   ----- \n",
      " 0   DateCrawled        354369 non-null  object\n",
      " 1   Price              354369 non-null  int64 \n",
      " 2   VehicleType        316879 non-null  object\n",
      " 3   RegistrationYear   354369 non-null  int64 \n",
      " 4   Gearbox            334536 non-null  object\n",
      " 5   Power              354369 non-null  int64 \n",
      " 6   Model              334664 non-null  object\n",
      " 7   Kilometer          354369 non-null  int64 \n",
      " 8   RegistrationMonth  354369 non-null  int64 \n",
      " 9   FuelType           321474 non-null  object\n",
      " 10  Brand              354369 non-null  object\n",
      " 11  Repaired           283215 non-null  object\n",
      " 12  DateCreated        354369 non-null  object\n",
      " 13  NumberOfPictures   354369 non-null  int64 \n",
      " 14  PostalCode         354369 non-null  int64 \n",
      " 15  LastSeen           354369 non-null  object\n",
      "dtypes: int64(7), object(9)\n",
      "memory usage: 43.3+ MB\n"
     ]
    },
    {
     "data": {
      "text/plain": [
       "None"
      ]
     },
     "metadata": {},
     "output_type": "display_data"
    }
   ],
   "source": [
    "data = pd.read_csv('/datasets/autos.csv')\n",
    "display(data.head(20))\n",
    "display(data.info())"
   ]
  },
  {
   "cell_type": "code",
   "execution_count": 26,
   "metadata": {
    "scrolled": false
   },
   "outputs": [
    {
     "data": {
      "text/plain": [
       "DateCrawled              0\n",
       "Price                    0\n",
       "VehicleType          37490\n",
       "RegistrationYear         0\n",
       "Gearbox              19833\n",
       "Power                    0\n",
       "Model                19705\n",
       "Kilometer                0\n",
       "RegistrationMonth        0\n",
       "FuelType             32895\n",
       "Brand                    0\n",
       "Repaired             71154\n",
       "DateCreated              0\n",
       "NumberOfPictures         0\n",
       "PostalCode               0\n",
       "LastSeen                 0\n",
       "dtype: int64"
      ]
     },
     "execution_count": 26,
     "metadata": {},
     "output_type": "execute_result"
    }
   ],
   "source": [
    "data.isna().sum()"
   ]
  },
  {
   "cell_type": "code",
   "execution_count": 27,
   "metadata": {},
   "outputs": [
    {
     "data": {
      "text/html": [
       "<div>\n",
       "<style scoped>\n",
       "    .dataframe tbody tr th:only-of-type {\n",
       "        vertical-align: middle;\n",
       "    }\n",
       "\n",
       "    .dataframe tbody tr th {\n",
       "        vertical-align: top;\n",
       "    }\n",
       "\n",
       "    .dataframe thead th {\n",
       "        text-align: right;\n",
       "    }\n",
       "</style>\n",
       "<table border=\"1\" class=\"dataframe\">\n",
       "  <thead>\n",
       "    <tr style=\"text-align: right;\">\n",
       "      <th></th>\n",
       "      <th>DateCrawled</th>\n",
       "      <th>Price</th>\n",
       "      <th>VehicleType</th>\n",
       "      <th>RegistrationYear</th>\n",
       "      <th>Gearbox</th>\n",
       "      <th>Power</th>\n",
       "      <th>Model</th>\n",
       "      <th>Kilometer</th>\n",
       "      <th>RegistrationMonth</th>\n",
       "      <th>FuelType</th>\n",
       "      <th>Brand</th>\n",
       "      <th>Repaired</th>\n",
       "      <th>DateCreated</th>\n",
       "      <th>NumberOfPictures</th>\n",
       "      <th>PostalCode</th>\n",
       "      <th>LastSeen</th>\n",
       "    </tr>\n",
       "  </thead>\n",
       "  <tbody>\n",
       "    <tr>\n",
       "      <th>0</th>\n",
       "      <td>2016-03-24 11:52:17</td>\n",
       "      <td>480</td>\n",
       "      <td>NaN</td>\n",
       "      <td>1993</td>\n",
       "      <td>manual</td>\n",
       "      <td>0</td>\n",
       "      <td>golf</td>\n",
       "      <td>150000</td>\n",
       "      <td>0</td>\n",
       "      <td>petrol</td>\n",
       "      <td>volkswagen</td>\n",
       "      <td>NaN</td>\n",
       "      <td>2016-03-24 00:00:00</td>\n",
       "      <td>0</td>\n",
       "      <td>70435</td>\n",
       "      <td>2016-04-07 03:16:57</td>\n",
       "    </tr>\n",
       "    <tr>\n",
       "      <th>16</th>\n",
       "      <td>2016-04-01 12:46:46</td>\n",
       "      <td>300</td>\n",
       "      <td>NaN</td>\n",
       "      <td>2016</td>\n",
       "      <td>NaN</td>\n",
       "      <td>60</td>\n",
       "      <td>polo</td>\n",
       "      <td>150000</td>\n",
       "      <td>0</td>\n",
       "      <td>petrol</td>\n",
       "      <td>volkswagen</td>\n",
       "      <td>NaN</td>\n",
       "      <td>2016-04-01 00:00:00</td>\n",
       "      <td>0</td>\n",
       "      <td>38871</td>\n",
       "      <td>2016-04-01 12:46:46</td>\n",
       "    </tr>\n",
       "    <tr>\n",
       "      <th>22</th>\n",
       "      <td>2016-03-23 14:52:51</td>\n",
       "      <td>2900</td>\n",
       "      <td>NaN</td>\n",
       "      <td>2018</td>\n",
       "      <td>manual</td>\n",
       "      <td>90</td>\n",
       "      <td>meriva</td>\n",
       "      <td>150000</td>\n",
       "      <td>5</td>\n",
       "      <td>petrol</td>\n",
       "      <td>opel</td>\n",
       "      <td>no</td>\n",
       "      <td>2016-03-23 00:00:00</td>\n",
       "      <td>0</td>\n",
       "      <td>49716</td>\n",
       "      <td>2016-03-31 01:16:33</td>\n",
       "    </tr>\n",
       "    <tr>\n",
       "      <th>26</th>\n",
       "      <td>2016-03-10 19:38:18</td>\n",
       "      <td>5555</td>\n",
       "      <td>NaN</td>\n",
       "      <td>2017</td>\n",
       "      <td>manual</td>\n",
       "      <td>125</td>\n",
       "      <td>c4</td>\n",
       "      <td>125000</td>\n",
       "      <td>4</td>\n",
       "      <td>NaN</td>\n",
       "      <td>citroen</td>\n",
       "      <td>no</td>\n",
       "      <td>2016-03-10 00:00:00</td>\n",
       "      <td>0</td>\n",
       "      <td>31139</td>\n",
       "      <td>2016-03-16 09:16:46</td>\n",
       "    </tr>\n",
       "    <tr>\n",
       "      <th>31</th>\n",
       "      <td>2016-03-29 16:57:02</td>\n",
       "      <td>899</td>\n",
       "      <td>NaN</td>\n",
       "      <td>2016</td>\n",
       "      <td>manual</td>\n",
       "      <td>60</td>\n",
       "      <td>clio</td>\n",
       "      <td>150000</td>\n",
       "      <td>6</td>\n",
       "      <td>petrol</td>\n",
       "      <td>renault</td>\n",
       "      <td>NaN</td>\n",
       "      <td>2016-03-29 00:00:00</td>\n",
       "      <td>0</td>\n",
       "      <td>37075</td>\n",
       "      <td>2016-03-29 17:43:07</td>\n",
       "    </tr>\n",
       "    <tr>\n",
       "      <th>35</th>\n",
       "      <td>2016-03-08 07:54:46</td>\n",
       "      <td>350</td>\n",
       "      <td>NaN</td>\n",
       "      <td>2016</td>\n",
       "      <td>manual</td>\n",
       "      <td>75</td>\n",
       "      <td>golf</td>\n",
       "      <td>150000</td>\n",
       "      <td>4</td>\n",
       "      <td>petrol</td>\n",
       "      <td>volkswagen</td>\n",
       "      <td>no</td>\n",
       "      <td>2016-03-08 00:00:00</td>\n",
       "      <td>0</td>\n",
       "      <td>19386</td>\n",
       "      <td>2016-03-08 09:44:50</td>\n",
       "    </tr>\n",
       "    <tr>\n",
       "      <th>37</th>\n",
       "      <td>2016-03-28 17:50:15</td>\n",
       "      <td>1500</td>\n",
       "      <td>NaN</td>\n",
       "      <td>2016</td>\n",
       "      <td>NaN</td>\n",
       "      <td>0</td>\n",
       "      <td>kangoo</td>\n",
       "      <td>150000</td>\n",
       "      <td>1</td>\n",
       "      <td>gasoline</td>\n",
       "      <td>renault</td>\n",
       "      <td>no</td>\n",
       "      <td>2016-03-28 00:00:00</td>\n",
       "      <td>0</td>\n",
       "      <td>46483</td>\n",
       "      <td>2016-03-30 09:18:02</td>\n",
       "    </tr>\n",
       "    <tr>\n",
       "      <th>40</th>\n",
       "      <td>2016-03-26 22:06:17</td>\n",
       "      <td>0</td>\n",
       "      <td>NaN</td>\n",
       "      <td>1990</td>\n",
       "      <td>NaN</td>\n",
       "      <td>0</td>\n",
       "      <td>corsa</td>\n",
       "      <td>150000</td>\n",
       "      <td>1</td>\n",
       "      <td>petrol</td>\n",
       "      <td>opel</td>\n",
       "      <td>NaN</td>\n",
       "      <td>2016-03-26 00:00:00</td>\n",
       "      <td>0</td>\n",
       "      <td>56412</td>\n",
       "      <td>2016-03-27 17:43:34</td>\n",
       "    </tr>\n",
       "    <tr>\n",
       "      <th>48</th>\n",
       "      <td>2016-03-25 14:40:12</td>\n",
       "      <td>7750</td>\n",
       "      <td>NaN</td>\n",
       "      <td>2017</td>\n",
       "      <td>manual</td>\n",
       "      <td>80</td>\n",
       "      <td>golf</td>\n",
       "      <td>100000</td>\n",
       "      <td>1</td>\n",
       "      <td>petrol</td>\n",
       "      <td>volkswagen</td>\n",
       "      <td>NaN</td>\n",
       "      <td>2016-03-25 00:00:00</td>\n",
       "      <td>0</td>\n",
       "      <td>48499</td>\n",
       "      <td>2016-03-31 21:47:44</td>\n",
       "    </tr>\n",
       "    <tr>\n",
       "      <th>51</th>\n",
       "      <td>2016-03-07 18:57:08</td>\n",
       "      <td>2000</td>\n",
       "      <td>NaN</td>\n",
       "      <td>2017</td>\n",
       "      <td>manual</td>\n",
       "      <td>90</td>\n",
       "      <td>punto</td>\n",
       "      <td>150000</td>\n",
       "      <td>11</td>\n",
       "      <td>gasoline</td>\n",
       "      <td>fiat</td>\n",
       "      <td>yes</td>\n",
       "      <td>2016-03-07 00:00:00</td>\n",
       "      <td>0</td>\n",
       "      <td>66115</td>\n",
       "      <td>2016-03-07 18:57:08</td>\n",
       "    </tr>\n",
       "    <tr>\n",
       "      <th>52</th>\n",
       "      <td>2016-04-04 10:57:36</td>\n",
       "      <td>1400</td>\n",
       "      <td>NaN</td>\n",
       "      <td>2016</td>\n",
       "      <td>manual</td>\n",
       "      <td>55</td>\n",
       "      <td>other</td>\n",
       "      <td>5000</td>\n",
       "      <td>1</td>\n",
       "      <td>NaN</td>\n",
       "      <td>hyundai</td>\n",
       "      <td>NaN</td>\n",
       "      <td>2016-04-04 00:00:00</td>\n",
       "      <td>0</td>\n",
       "      <td>34454</td>\n",
       "      <td>2016-04-06 12:45:43</td>\n",
       "    </tr>\n",
       "    <tr>\n",
       "      <th>57</th>\n",
       "      <td>2016-03-10 20:53:19</td>\n",
       "      <td>2399</td>\n",
       "      <td>NaN</td>\n",
       "      <td>2018</td>\n",
       "      <td>manual</td>\n",
       "      <td>64</td>\n",
       "      <td>other</td>\n",
       "      <td>125000</td>\n",
       "      <td>3</td>\n",
       "      <td>NaN</td>\n",
       "      <td>seat</td>\n",
       "      <td>no</td>\n",
       "      <td>2016-03-10 00:00:00</td>\n",
       "      <td>0</td>\n",
       "      <td>33397</td>\n",
       "      <td>2016-03-25 10:17:37</td>\n",
       "    </tr>\n",
       "    <tr>\n",
       "      <th>65</th>\n",
       "      <td>2016-03-28 17:41:27</td>\n",
       "      <td>10900</td>\n",
       "      <td>NaN</td>\n",
       "      <td>2017</td>\n",
       "      <td>manual</td>\n",
       "      <td>101</td>\n",
       "      <td>astra</td>\n",
       "      <td>50000</td>\n",
       "      <td>3</td>\n",
       "      <td>NaN</td>\n",
       "      <td>opel</td>\n",
       "      <td>no</td>\n",
       "      <td>2016-03-28 00:00:00</td>\n",
       "      <td>0</td>\n",
       "      <td>63607</td>\n",
       "      <td>2016-04-06 23:15:52</td>\n",
       "    </tr>\n",
       "    <tr>\n",
       "      <th>71</th>\n",
       "      <td>2016-03-07 08:55:18</td>\n",
       "      <td>2300</td>\n",
       "      <td>NaN</td>\n",
       "      <td>1997</td>\n",
       "      <td>manual</td>\n",
       "      <td>150</td>\n",
       "      <td>5er</td>\n",
       "      <td>150000</td>\n",
       "      <td>3</td>\n",
       "      <td>NaN</td>\n",
       "      <td>bmw</td>\n",
       "      <td>no</td>\n",
       "      <td>2016-03-07 00:00:00</td>\n",
       "      <td>0</td>\n",
       "      <td>79341</td>\n",
       "      <td>2016-03-22 05:15:22</td>\n",
       "    </tr>\n",
       "    <tr>\n",
       "      <th>77</th>\n",
       "      <td>2016-03-31 22:48:06</td>\n",
       "      <td>800</td>\n",
       "      <td>NaN</td>\n",
       "      <td>2000</td>\n",
       "      <td>manual</td>\n",
       "      <td>90</td>\n",
       "      <td>golf</td>\n",
       "      <td>150000</td>\n",
       "      <td>2</td>\n",
       "      <td>gasoline</td>\n",
       "      <td>volkswagen</td>\n",
       "      <td>NaN</td>\n",
       "      <td>2016-03-31 00:00:00</td>\n",
       "      <td>0</td>\n",
       "      <td>32584</td>\n",
       "      <td>2016-04-06 19:15:22</td>\n",
       "    </tr>\n",
       "    <tr>\n",
       "      <th>79</th>\n",
       "      <td>2016-03-17 18:52:56</td>\n",
       "      <td>150</td>\n",
       "      <td>NaN</td>\n",
       "      <td>2016</td>\n",
       "      <td>manual</td>\n",
       "      <td>75</td>\n",
       "      <td>astra</td>\n",
       "      <td>150000</td>\n",
       "      <td>3</td>\n",
       "      <td>petrol</td>\n",
       "      <td>opel</td>\n",
       "      <td>yes</td>\n",
       "      <td>2016-03-17 00:00:00</td>\n",
       "      <td>0</td>\n",
       "      <td>78315</td>\n",
       "      <td>2016-04-05 03:45:22</td>\n",
       "    </tr>\n",
       "    <tr>\n",
       "      <th>92</th>\n",
       "      <td>2016-03-16 07:56:19</td>\n",
       "      <td>250</td>\n",
       "      <td>NaN</td>\n",
       "      <td>2000</td>\n",
       "      <td>NaN</td>\n",
       "      <td>60</td>\n",
       "      <td>ka</td>\n",
       "      <td>150000</td>\n",
       "      <td>0</td>\n",
       "      <td>NaN</td>\n",
       "      <td>ford</td>\n",
       "      <td>NaN</td>\n",
       "      <td>2016-03-16 00:00:00</td>\n",
       "      <td>0</td>\n",
       "      <td>51427</td>\n",
       "      <td>2016-03-21 09:47:08</td>\n",
       "    </tr>\n",
       "    <tr>\n",
       "      <th>94</th>\n",
       "      <td>2016-03-28 16:37:43</td>\n",
       "      <td>8390</td>\n",
       "      <td>NaN</td>\n",
       "      <td>2009</td>\n",
       "      <td>NaN</td>\n",
       "      <td>0</td>\n",
       "      <td>insignia</td>\n",
       "      <td>150000</td>\n",
       "      <td>0</td>\n",
       "      <td>NaN</td>\n",
       "      <td>opel</td>\n",
       "      <td>NaN</td>\n",
       "      <td>2016-03-28 00:00:00</td>\n",
       "      <td>0</td>\n",
       "      <td>29221</td>\n",
       "      <td>2016-03-30 07:44:59</td>\n",
       "    </tr>\n",
       "    <tr>\n",
       "      <th>107</th>\n",
       "      <td>2016-03-16 23:25:21</td>\n",
       "      <td>900</td>\n",
       "      <td>NaN</td>\n",
       "      <td>1995</td>\n",
       "      <td>manual</td>\n",
       "      <td>90</td>\n",
       "      <td>civic</td>\n",
       "      <td>150000</td>\n",
       "      <td>3</td>\n",
       "      <td>petrol</td>\n",
       "      <td>honda</td>\n",
       "      <td>NaN</td>\n",
       "      <td>2016-03-16 00:00:00</td>\n",
       "      <td>0</td>\n",
       "      <td>35789</td>\n",
       "      <td>2016-03-19 17:19:00</td>\n",
       "    </tr>\n",
       "    <tr>\n",
       "      <th>111</th>\n",
       "      <td>2016-03-19 18:40:12</td>\n",
       "      <td>0</td>\n",
       "      <td>NaN</td>\n",
       "      <td>2017</td>\n",
       "      <td>manual</td>\n",
       "      <td>0</td>\n",
       "      <td>golf</td>\n",
       "      <td>5000</td>\n",
       "      <td>12</td>\n",
       "      <td>petrol</td>\n",
       "      <td>volkswagen</td>\n",
       "      <td>NaN</td>\n",
       "      <td>2016-03-19 00:00:00</td>\n",
       "      <td>0</td>\n",
       "      <td>21698</td>\n",
       "      <td>2016-04-01 08:47:05</td>\n",
       "    </tr>\n",
       "    <tr>\n",
       "      <th>126</th>\n",
       "      <td>2016-03-20 10:54:17</td>\n",
       "      <td>8000</td>\n",
       "      <td>NaN</td>\n",
       "      <td>2009</td>\n",
       "      <td>manual</td>\n",
       "      <td>0</td>\n",
       "      <td>golf</td>\n",
       "      <td>100000</td>\n",
       "      <td>10</td>\n",
       "      <td>petrol</td>\n",
       "      <td>volkswagen</td>\n",
       "      <td>no</td>\n",
       "      <td>2016-03-20 00:00:00</td>\n",
       "      <td>0</td>\n",
       "      <td>94139</td>\n",
       "      <td>2016-04-06 07:45:51</td>\n",
       "    </tr>\n",
       "    <tr>\n",
       "      <th>130</th>\n",
       "      <td>2016-03-20 18:47:31</td>\n",
       "      <td>3390</td>\n",
       "      <td>NaN</td>\n",
       "      <td>2000</td>\n",
       "      <td>NaN</td>\n",
       "      <td>0</td>\n",
       "      <td>3er</td>\n",
       "      <td>150000</td>\n",
       "      <td>2</td>\n",
       "      <td>NaN</td>\n",
       "      <td>bmw</td>\n",
       "      <td>NaN</td>\n",
       "      <td>2016-03-20 00:00:00</td>\n",
       "      <td>0</td>\n",
       "      <td>45739</td>\n",
       "      <td>2016-03-28 19:48:42</td>\n",
       "    </tr>\n",
       "    <tr>\n",
       "      <th>145</th>\n",
       "      <td>2016-03-06 21:38:00</td>\n",
       "      <td>150</td>\n",
       "      <td>NaN</td>\n",
       "      <td>1985</td>\n",
       "      <td>NaN</td>\n",
       "      <td>0</td>\n",
       "      <td>100</td>\n",
       "      <td>150000</td>\n",
       "      <td>4</td>\n",
       "      <td>petrol</td>\n",
       "      <td>audi</td>\n",
       "      <td>NaN</td>\n",
       "      <td>2016-03-06 00:00:00</td>\n",
       "      <td>0</td>\n",
       "      <td>87616</td>\n",
       "      <td>2016-04-07 02:16:59</td>\n",
       "    </tr>\n",
       "    <tr>\n",
       "      <th>147</th>\n",
       "      <td>2016-03-15 12:50:00</td>\n",
       "      <td>300</td>\n",
       "      <td>NaN</td>\n",
       "      <td>2005</td>\n",
       "      <td>manual</td>\n",
       "      <td>0</td>\n",
       "      <td>punto</td>\n",
       "      <td>40000</td>\n",
       "      <td>9</td>\n",
       "      <td>NaN</td>\n",
       "      <td>fiat</td>\n",
       "      <td>yes</td>\n",
       "      <td>2016-03-15 00:00:00</td>\n",
       "      <td>0</td>\n",
       "      <td>26215</td>\n",
       "      <td>2016-03-25 04:19:17</td>\n",
       "    </tr>\n",
       "    <tr>\n",
       "      <th>154</th>\n",
       "      <td>2016-03-22 16:37:59</td>\n",
       "      <td>0</td>\n",
       "      <td>NaN</td>\n",
       "      <td>2006</td>\n",
       "      <td>NaN</td>\n",
       "      <td>0</td>\n",
       "      <td>other</td>\n",
       "      <td>5000</td>\n",
       "      <td>0</td>\n",
       "      <td>NaN</td>\n",
       "      <td>fiat</td>\n",
       "      <td>NaN</td>\n",
       "      <td>2016-03-22 00:00:00</td>\n",
       "      <td>0</td>\n",
       "      <td>44867</td>\n",
       "      <td>2016-04-06 06:17:56</td>\n",
       "    </tr>\n",
       "    <tr>\n",
       "      <th>155</th>\n",
       "      <td>2016-03-09 12:53:53</td>\n",
       "      <td>14500</td>\n",
       "      <td>NaN</td>\n",
       "      <td>2017</td>\n",
       "      <td>manual</td>\n",
       "      <td>136</td>\n",
       "      <td>sportage</td>\n",
       "      <td>125000</td>\n",
       "      <td>5</td>\n",
       "      <td>gasoline</td>\n",
       "      <td>kia</td>\n",
       "      <td>no</td>\n",
       "      <td>2016-03-09 00:00:00</td>\n",
       "      <td>0</td>\n",
       "      <td>49696</td>\n",
       "      <td>2016-04-05 23:45:15</td>\n",
       "    </tr>\n",
       "    <tr>\n",
       "      <th>163</th>\n",
       "      <td>2016-04-04 12:57:02</td>\n",
       "      <td>1200</td>\n",
       "      <td>NaN</td>\n",
       "      <td>2018</td>\n",
       "      <td>manual</td>\n",
       "      <td>75</td>\n",
       "      <td>astra</td>\n",
       "      <td>150000</td>\n",
       "      <td>0</td>\n",
       "      <td>NaN</td>\n",
       "      <td>opel</td>\n",
       "      <td>no</td>\n",
       "      <td>2016-04-04 00:00:00</td>\n",
       "      <td>0</td>\n",
       "      <td>15344</td>\n",
       "      <td>2016-04-06 14:45:26</td>\n",
       "    </tr>\n",
       "    <tr>\n",
       "      <th>181</th>\n",
       "      <td>2016-03-21 14:43:48</td>\n",
       "      <td>3000</td>\n",
       "      <td>NaN</td>\n",
       "      <td>2016</td>\n",
       "      <td>auto</td>\n",
       "      <td>75</td>\n",
       "      <td>fabia</td>\n",
       "      <td>150000</td>\n",
       "      <td>0</td>\n",
       "      <td>petrol</td>\n",
       "      <td>skoda</td>\n",
       "      <td>NaN</td>\n",
       "      <td>2016-03-21 00:00:00</td>\n",
       "      <td>0</td>\n",
       "      <td>24782</td>\n",
       "      <td>2016-03-31 17:45:24</td>\n",
       "    </tr>\n",
       "    <tr>\n",
       "      <th>196</th>\n",
       "      <td>2016-03-24 13:51:03</td>\n",
       "      <td>2800</td>\n",
       "      <td>NaN</td>\n",
       "      <td>2018</td>\n",
       "      <td>manual</td>\n",
       "      <td>75</td>\n",
       "      <td>twingo</td>\n",
       "      <td>125000</td>\n",
       "      <td>12</td>\n",
       "      <td>NaN</td>\n",
       "      <td>renault</td>\n",
       "      <td>no</td>\n",
       "      <td>2016-03-24 00:00:00</td>\n",
       "      <td>0</td>\n",
       "      <td>86199</td>\n",
       "      <td>2016-04-07 05:17:27</td>\n",
       "    </tr>\n",
       "    <tr>\n",
       "      <th>200</th>\n",
       "      <td>2016-04-03 20:44:13</td>\n",
       "      <td>1999</td>\n",
       "      <td>NaN</td>\n",
       "      <td>2016</td>\n",
       "      <td>manual</td>\n",
       "      <td>110</td>\n",
       "      <td>almera</td>\n",
       "      <td>150000</td>\n",
       "      <td>9</td>\n",
       "      <td>gasoline</td>\n",
       "      <td>nissan</td>\n",
       "      <td>NaN</td>\n",
       "      <td>2016-04-03 00:00:00</td>\n",
       "      <td>0</td>\n",
       "      <td>10997</td>\n",
       "      <td>2016-04-05 21:17:18</td>\n",
       "    </tr>\n",
       "    <tr>\n",
       "      <th>218</th>\n",
       "      <td>2016-03-13 18:47:40</td>\n",
       "      <td>2100</td>\n",
       "      <td>NaN</td>\n",
       "      <td>2017</td>\n",
       "      <td>manual</td>\n",
       "      <td>0</td>\n",
       "      <td>zafira</td>\n",
       "      <td>150000</td>\n",
       "      <td>12</td>\n",
       "      <td>gasoline</td>\n",
       "      <td>opel</td>\n",
       "      <td>NaN</td>\n",
       "      <td>2016-03-13 00:00:00</td>\n",
       "      <td>0</td>\n",
       "      <td>24782</td>\n",
       "      <td>2016-03-13 18:47:40</td>\n",
       "    </tr>\n",
       "    <tr>\n",
       "      <th>220</th>\n",
       "      <td>2016-03-27 18:54:59</td>\n",
       "      <td>850</td>\n",
       "      <td>NaN</td>\n",
       "      <td>1985</td>\n",
       "      <td>manual</td>\n",
       "      <td>54</td>\n",
       "      <td>caddy</td>\n",
       "      <td>150000</td>\n",
       "      <td>0</td>\n",
       "      <td>gasoline</td>\n",
       "      <td>volkswagen</td>\n",
       "      <td>NaN</td>\n",
       "      <td>2016-03-27 00:00:00</td>\n",
       "      <td>0</td>\n",
       "      <td>34471</td>\n",
       "      <td>2016-04-05 15:46:54</td>\n",
       "    </tr>\n",
       "    <tr>\n",
       "      <th>225</th>\n",
       "      <td>2016-03-23 16:51:03</td>\n",
       "      <td>900</td>\n",
       "      <td>NaN</td>\n",
       "      <td>2017</td>\n",
       "      <td>manual</td>\n",
       "      <td>60</td>\n",
       "      <td>corsa</td>\n",
       "      <td>150000</td>\n",
       "      <td>0</td>\n",
       "      <td>petrol</td>\n",
       "      <td>opel</td>\n",
       "      <td>no</td>\n",
       "      <td>2016-03-23 00:00:00</td>\n",
       "      <td>0</td>\n",
       "      <td>33602</td>\n",
       "      <td>2016-03-23 16:51:03</td>\n",
       "    </tr>\n",
       "    <tr>\n",
       "      <th>233</th>\n",
       "      <td>2016-03-14 09:54:32</td>\n",
       "      <td>3750</td>\n",
       "      <td>NaN</td>\n",
       "      <td>2005</td>\n",
       "      <td>NaN</td>\n",
       "      <td>75</td>\n",
       "      <td>golf</td>\n",
       "      <td>150000</td>\n",
       "      <td>0</td>\n",
       "      <td>NaN</td>\n",
       "      <td>volkswagen</td>\n",
       "      <td>NaN</td>\n",
       "      <td>2016-03-14 00:00:00</td>\n",
       "      <td>0</td>\n",
       "      <td>22115</td>\n",
       "      <td>2016-03-20 23:18:03</td>\n",
       "    </tr>\n",
       "    <tr>\n",
       "      <th>260</th>\n",
       "      <td>2016-04-04 09:49:59</td>\n",
       "      <td>450</td>\n",
       "      <td>NaN</td>\n",
       "      <td>2016</td>\n",
       "      <td>manual</td>\n",
       "      <td>0</td>\n",
       "      <td>NaN</td>\n",
       "      <td>150000</td>\n",
       "      <td>3</td>\n",
       "      <td>petrol</td>\n",
       "      <td>mitsubishi</td>\n",
       "      <td>no</td>\n",
       "      <td>2016-04-04 00:00:00</td>\n",
       "      <td>0</td>\n",
       "      <td>59302</td>\n",
       "      <td>2016-04-06 11:17:11</td>\n",
       "    </tr>\n",
       "    <tr>\n",
       "      <th>277</th>\n",
       "      <td>2016-03-06 08:36:22</td>\n",
       "      <td>4600</td>\n",
       "      <td>NaN</td>\n",
       "      <td>2017</td>\n",
       "      <td>manual</td>\n",
       "      <td>109</td>\n",
       "      <td>i_reihe</td>\n",
       "      <td>125000</td>\n",
       "      <td>0</td>\n",
       "      <td>petrol</td>\n",
       "      <td>hyundai</td>\n",
       "      <td>no</td>\n",
       "      <td>2016-03-06 00:00:00</td>\n",
       "      <td>0</td>\n",
       "      <td>93495</td>\n",
       "      <td>2016-03-12 10:16:53</td>\n",
       "    </tr>\n",
       "    <tr>\n",
       "      <th>281</th>\n",
       "      <td>2016-03-24 11:48:01</td>\n",
       "      <td>150</td>\n",
       "      <td>NaN</td>\n",
       "      <td>2016</td>\n",
       "      <td>auto</td>\n",
       "      <td>75</td>\n",
       "      <td>fiesta</td>\n",
       "      <td>50000</td>\n",
       "      <td>1</td>\n",
       "      <td>petrol</td>\n",
       "      <td>ford</td>\n",
       "      <td>yes</td>\n",
       "      <td>2016-03-24 00:00:00</td>\n",
       "      <td>0</td>\n",
       "      <td>32457</td>\n",
       "      <td>2016-03-30 11:48:26</td>\n",
       "    </tr>\n",
       "    <tr>\n",
       "      <th>285</th>\n",
       "      <td>2016-03-20 10:44:20</td>\n",
       "      <td>1250</td>\n",
       "      <td>NaN</td>\n",
       "      <td>2017</td>\n",
       "      <td>NaN</td>\n",
       "      <td>0</td>\n",
       "      <td>espace</td>\n",
       "      <td>150000</td>\n",
       "      <td>8</td>\n",
       "      <td>petrol</td>\n",
       "      <td>renault</td>\n",
       "      <td>NaN</td>\n",
       "      <td>2016-03-20 00:00:00</td>\n",
       "      <td>0</td>\n",
       "      <td>63073</td>\n",
       "      <td>2016-03-22 16:21:55</td>\n",
       "    </tr>\n",
       "    <tr>\n",
       "      <th>294</th>\n",
       "      <td>2016-03-10 20:43:12</td>\n",
       "      <td>2390</td>\n",
       "      <td>NaN</td>\n",
       "      <td>2016</td>\n",
       "      <td>NaN</td>\n",
       "      <td>83</td>\n",
       "      <td>jazz</td>\n",
       "      <td>150000</td>\n",
       "      <td>12</td>\n",
       "      <td>petrol</td>\n",
       "      <td>honda</td>\n",
       "      <td>no</td>\n",
       "      <td>2016-03-10 00:00:00</td>\n",
       "      <td>0</td>\n",
       "      <td>78713</td>\n",
       "      <td>2016-03-13 03:17:27</td>\n",
       "    </tr>\n",
       "    <tr>\n",
       "      <th>295</th>\n",
       "      <td>2016-03-07 14:49:23</td>\n",
       "      <td>1450</td>\n",
       "      <td>NaN</td>\n",
       "      <td>2017</td>\n",
       "      <td>NaN</td>\n",
       "      <td>0</td>\n",
       "      <td>a_klasse</td>\n",
       "      <td>150000</td>\n",
       "      <td>8</td>\n",
       "      <td>petrol</td>\n",
       "      <td>mercedes_benz</td>\n",
       "      <td>NaN</td>\n",
       "      <td>2016-03-07 00:00:00</td>\n",
       "      <td>0</td>\n",
       "      <td>45886</td>\n",
       "      <td>2016-03-08 00:15:42</td>\n",
       "    </tr>\n",
       "    <tr>\n",
       "      <th>306</th>\n",
       "      <td>2016-03-21 14:38:37</td>\n",
       "      <td>200</td>\n",
       "      <td>NaN</td>\n",
       "      <td>2009</td>\n",
       "      <td>NaN</td>\n",
       "      <td>0</td>\n",
       "      <td>NaN</td>\n",
       "      <td>10000</td>\n",
       "      <td>0</td>\n",
       "      <td>NaN</td>\n",
       "      <td>sonstige_autos</td>\n",
       "      <td>NaN</td>\n",
       "      <td>2016-03-21 00:00:00</td>\n",
       "      <td>0</td>\n",
       "      <td>6493</td>\n",
       "      <td>2016-03-24 02:47:34</td>\n",
       "    </tr>\n",
       "    <tr>\n",
       "      <th>309</th>\n",
       "      <td>2016-03-08 16:46:14</td>\n",
       "      <td>350</td>\n",
       "      <td>NaN</td>\n",
       "      <td>2017</td>\n",
       "      <td>NaN</td>\n",
       "      <td>0</td>\n",
       "      <td>corsa</td>\n",
       "      <td>150000</td>\n",
       "      <td>0</td>\n",
       "      <td>petrol</td>\n",
       "      <td>opel</td>\n",
       "      <td>NaN</td>\n",
       "      <td>2016-03-08 00:00:00</td>\n",
       "      <td>0</td>\n",
       "      <td>26655</td>\n",
       "      <td>2016-03-08 16:46:14</td>\n",
       "    </tr>\n",
       "    <tr>\n",
       "      <th>315</th>\n",
       "      <td>2016-03-08 02:36:19</td>\n",
       "      <td>3999</td>\n",
       "      <td>NaN</td>\n",
       "      <td>2017</td>\n",
       "      <td>manual</td>\n",
       "      <td>85</td>\n",
       "      <td>transporter</td>\n",
       "      <td>150000</td>\n",
       "      <td>10</td>\n",
       "      <td>gasoline</td>\n",
       "      <td>volkswagen</td>\n",
       "      <td>NaN</td>\n",
       "      <td>2016-03-08 00:00:00</td>\n",
       "      <td>0</td>\n",
       "      <td>50321</td>\n",
       "      <td>2016-03-09 04:46:59</td>\n",
       "    </tr>\n",
       "    <tr>\n",
       "      <th>330</th>\n",
       "      <td>2016-04-02 16:44:11</td>\n",
       "      <td>1650</td>\n",
       "      <td>NaN</td>\n",
       "      <td>2017</td>\n",
       "      <td>manual</td>\n",
       "      <td>0</td>\n",
       "      <td>seicento</td>\n",
       "      <td>60000</td>\n",
       "      <td>5</td>\n",
       "      <td>petrol</td>\n",
       "      <td>fiat</td>\n",
       "      <td>no</td>\n",
       "      <td>2016-04-02 00:00:00</td>\n",
       "      <td>0</td>\n",
       "      <td>91315</td>\n",
       "      <td>2016-04-04 14:16:47</td>\n",
       "    </tr>\n",
       "    <tr>\n",
       "      <th>334</th>\n",
       "      <td>2016-03-06 10:06:20</td>\n",
       "      <td>0</td>\n",
       "      <td>NaN</td>\n",
       "      <td>2005</td>\n",
       "      <td>NaN</td>\n",
       "      <td>0</td>\n",
       "      <td>polo</td>\n",
       "      <td>150000</td>\n",
       "      <td>0</td>\n",
       "      <td>petrol</td>\n",
       "      <td>volkswagen</td>\n",
       "      <td>NaN</td>\n",
       "      <td>2016-03-06 00:00:00</td>\n",
       "      <td>0</td>\n",
       "      <td>35392</td>\n",
       "      <td>2016-03-07 19:12:00</td>\n",
       "    </tr>\n",
       "    <tr>\n",
       "      <th>355</th>\n",
       "      <td>2016-03-12 19:00:11</td>\n",
       "      <td>1050</td>\n",
       "      <td>NaN</td>\n",
       "      <td>2018</td>\n",
       "      <td>NaN</td>\n",
       "      <td>0</td>\n",
       "      <td>golf</td>\n",
       "      <td>150000</td>\n",
       "      <td>0</td>\n",
       "      <td>NaN</td>\n",
       "      <td>volkswagen</td>\n",
       "      <td>NaN</td>\n",
       "      <td>2016-03-12 00:00:00</td>\n",
       "      <td>0</td>\n",
       "      <td>53567</td>\n",
       "      <td>2016-04-07 10:44:48</td>\n",
       "    </tr>\n",
       "    <tr>\n",
       "      <th>364</th>\n",
       "      <td>2016-03-31 19:43:37</td>\n",
       "      <td>1200</td>\n",
       "      <td>NaN</td>\n",
       "      <td>2016</td>\n",
       "      <td>manual</td>\n",
       "      <td>75</td>\n",
       "      <td>modus</td>\n",
       "      <td>150000</td>\n",
       "      <td>0</td>\n",
       "      <td>petrol</td>\n",
       "      <td>renault</td>\n",
       "      <td>yes</td>\n",
       "      <td>2016-03-31 00:00:00</td>\n",
       "      <td>0</td>\n",
       "      <td>47546</td>\n",
       "      <td>2016-03-31 19:43:37</td>\n",
       "    </tr>\n",
       "    <tr>\n",
       "      <th>384</th>\n",
       "      <td>2016-04-02 19:50:28</td>\n",
       "      <td>400</td>\n",
       "      <td>NaN</td>\n",
       "      <td>2017</td>\n",
       "      <td>manual</td>\n",
       "      <td>65</td>\n",
       "      <td>corsa</td>\n",
       "      <td>150000</td>\n",
       "      <td>3</td>\n",
       "      <td>petrol</td>\n",
       "      <td>opel</td>\n",
       "      <td>yes</td>\n",
       "      <td>2016-04-02 00:00:00</td>\n",
       "      <td>0</td>\n",
       "      <td>56479</td>\n",
       "      <td>2016-04-06 11:46:50</td>\n",
       "    </tr>\n",
       "    <tr>\n",
       "      <th>390</th>\n",
       "      <td>2016-03-12 16:56:46</td>\n",
       "      <td>3400</td>\n",
       "      <td>NaN</td>\n",
       "      <td>2018</td>\n",
       "      <td>NaN</td>\n",
       "      <td>0</td>\n",
       "      <td>astra</td>\n",
       "      <td>150000</td>\n",
       "      <td>8</td>\n",
       "      <td>petrol</td>\n",
       "      <td>opel</td>\n",
       "      <td>no</td>\n",
       "      <td>2016-03-12 00:00:00</td>\n",
       "      <td>0</td>\n",
       "      <td>44789</td>\n",
       "      <td>2016-03-23 08:47:00</td>\n",
       "    </tr>\n",
       "    <tr>\n",
       "      <th>392</th>\n",
       "      <td>2016-03-25 18:56:32</td>\n",
       "      <td>2350</td>\n",
       "      <td>NaN</td>\n",
       "      <td>2006</td>\n",
       "      <td>NaN</td>\n",
       "      <td>0</td>\n",
       "      <td>c1</td>\n",
       "      <td>5000</td>\n",
       "      <td>0</td>\n",
       "      <td>other</td>\n",
       "      <td>citroen</td>\n",
       "      <td>NaN</td>\n",
       "      <td>2016-03-25 00:00:00</td>\n",
       "      <td>0</td>\n",
       "      <td>26123</td>\n",
       "      <td>2016-04-07 00:46:08</td>\n",
       "    </tr>\n",
       "  </tbody>\n",
       "</table>\n",
       "</div>"
      ],
      "text/plain": [
       "             DateCrawled  Price VehicleType  RegistrationYear Gearbox  Power  \\\n",
       "0    2016-03-24 11:52:17    480         NaN              1993  manual      0   \n",
       "16   2016-04-01 12:46:46    300         NaN              2016     NaN     60   \n",
       "22   2016-03-23 14:52:51   2900         NaN              2018  manual     90   \n",
       "26   2016-03-10 19:38:18   5555         NaN              2017  manual    125   \n",
       "31   2016-03-29 16:57:02    899         NaN              2016  manual     60   \n",
       "35   2016-03-08 07:54:46    350         NaN              2016  manual     75   \n",
       "37   2016-03-28 17:50:15   1500         NaN              2016     NaN      0   \n",
       "40   2016-03-26 22:06:17      0         NaN              1990     NaN      0   \n",
       "48   2016-03-25 14:40:12   7750         NaN              2017  manual     80   \n",
       "51   2016-03-07 18:57:08   2000         NaN              2017  manual     90   \n",
       "52   2016-04-04 10:57:36   1400         NaN              2016  manual     55   \n",
       "57   2016-03-10 20:53:19   2399         NaN              2018  manual     64   \n",
       "65   2016-03-28 17:41:27  10900         NaN              2017  manual    101   \n",
       "71   2016-03-07 08:55:18   2300         NaN              1997  manual    150   \n",
       "77   2016-03-31 22:48:06    800         NaN              2000  manual     90   \n",
       "79   2016-03-17 18:52:56    150         NaN              2016  manual     75   \n",
       "92   2016-03-16 07:56:19    250         NaN              2000     NaN     60   \n",
       "94   2016-03-28 16:37:43   8390         NaN              2009     NaN      0   \n",
       "107  2016-03-16 23:25:21    900         NaN              1995  manual     90   \n",
       "111  2016-03-19 18:40:12      0         NaN              2017  manual      0   \n",
       "126  2016-03-20 10:54:17   8000         NaN              2009  manual      0   \n",
       "130  2016-03-20 18:47:31   3390         NaN              2000     NaN      0   \n",
       "145  2016-03-06 21:38:00    150         NaN              1985     NaN      0   \n",
       "147  2016-03-15 12:50:00    300         NaN              2005  manual      0   \n",
       "154  2016-03-22 16:37:59      0         NaN              2006     NaN      0   \n",
       "155  2016-03-09 12:53:53  14500         NaN              2017  manual    136   \n",
       "163  2016-04-04 12:57:02   1200         NaN              2018  manual     75   \n",
       "181  2016-03-21 14:43:48   3000         NaN              2016    auto     75   \n",
       "196  2016-03-24 13:51:03   2800         NaN              2018  manual     75   \n",
       "200  2016-04-03 20:44:13   1999         NaN              2016  manual    110   \n",
       "218  2016-03-13 18:47:40   2100         NaN              2017  manual      0   \n",
       "220  2016-03-27 18:54:59    850         NaN              1985  manual     54   \n",
       "225  2016-03-23 16:51:03    900         NaN              2017  manual     60   \n",
       "233  2016-03-14 09:54:32   3750         NaN              2005     NaN     75   \n",
       "260  2016-04-04 09:49:59    450         NaN              2016  manual      0   \n",
       "277  2016-03-06 08:36:22   4600         NaN              2017  manual    109   \n",
       "281  2016-03-24 11:48:01    150         NaN              2016    auto     75   \n",
       "285  2016-03-20 10:44:20   1250         NaN              2017     NaN      0   \n",
       "294  2016-03-10 20:43:12   2390         NaN              2016     NaN     83   \n",
       "295  2016-03-07 14:49:23   1450         NaN              2017     NaN      0   \n",
       "306  2016-03-21 14:38:37    200         NaN              2009     NaN      0   \n",
       "309  2016-03-08 16:46:14    350         NaN              2017     NaN      0   \n",
       "315  2016-03-08 02:36:19   3999         NaN              2017  manual     85   \n",
       "330  2016-04-02 16:44:11   1650         NaN              2017  manual      0   \n",
       "334  2016-03-06 10:06:20      0         NaN              2005     NaN      0   \n",
       "355  2016-03-12 19:00:11   1050         NaN              2018     NaN      0   \n",
       "364  2016-03-31 19:43:37   1200         NaN              2016  manual     75   \n",
       "384  2016-04-02 19:50:28    400         NaN              2017  manual     65   \n",
       "390  2016-03-12 16:56:46   3400         NaN              2018     NaN      0   \n",
       "392  2016-03-25 18:56:32   2350         NaN              2006     NaN      0   \n",
       "\n",
       "           Model  Kilometer  RegistrationMonth  FuelType           Brand  \\\n",
       "0           golf     150000                  0    petrol      volkswagen   \n",
       "16          polo     150000                  0    petrol      volkswagen   \n",
       "22        meriva     150000                  5    petrol            opel   \n",
       "26            c4     125000                  4       NaN         citroen   \n",
       "31          clio     150000                  6    petrol         renault   \n",
       "35          golf     150000                  4    petrol      volkswagen   \n",
       "37        kangoo     150000                  1  gasoline         renault   \n",
       "40         corsa     150000                  1    petrol            opel   \n",
       "48          golf     100000                  1    petrol      volkswagen   \n",
       "51         punto     150000                 11  gasoline            fiat   \n",
       "52         other       5000                  1       NaN         hyundai   \n",
       "57         other     125000                  3       NaN            seat   \n",
       "65         astra      50000                  3       NaN            opel   \n",
       "71           5er     150000                  3       NaN             bmw   \n",
       "77          golf     150000                  2  gasoline      volkswagen   \n",
       "79         astra     150000                  3    petrol            opel   \n",
       "92            ka     150000                  0       NaN            ford   \n",
       "94      insignia     150000                  0       NaN            opel   \n",
       "107        civic     150000                  3    petrol           honda   \n",
       "111         golf       5000                 12    petrol      volkswagen   \n",
       "126         golf     100000                 10    petrol      volkswagen   \n",
       "130          3er     150000                  2       NaN             bmw   \n",
       "145          100     150000                  4    petrol            audi   \n",
       "147        punto      40000                  9       NaN            fiat   \n",
       "154        other       5000                  0       NaN            fiat   \n",
       "155     sportage     125000                  5  gasoline             kia   \n",
       "163        astra     150000                  0       NaN            opel   \n",
       "181        fabia     150000                  0    petrol           skoda   \n",
       "196       twingo     125000                 12       NaN         renault   \n",
       "200       almera     150000                  9  gasoline          nissan   \n",
       "218       zafira     150000                 12  gasoline            opel   \n",
       "220        caddy     150000                  0  gasoline      volkswagen   \n",
       "225        corsa     150000                  0    petrol            opel   \n",
       "233         golf     150000                  0       NaN      volkswagen   \n",
       "260          NaN     150000                  3    petrol      mitsubishi   \n",
       "277      i_reihe     125000                  0    petrol         hyundai   \n",
       "281       fiesta      50000                  1    petrol            ford   \n",
       "285       espace     150000                  8    petrol         renault   \n",
       "294         jazz     150000                 12    petrol           honda   \n",
       "295     a_klasse     150000                  8    petrol   mercedes_benz   \n",
       "306          NaN      10000                  0       NaN  sonstige_autos   \n",
       "309        corsa     150000                  0    petrol            opel   \n",
       "315  transporter     150000                 10  gasoline      volkswagen   \n",
       "330     seicento      60000                  5    petrol            fiat   \n",
       "334         polo     150000                  0    petrol      volkswagen   \n",
       "355         golf     150000                  0       NaN      volkswagen   \n",
       "364        modus     150000                  0    petrol         renault   \n",
       "384        corsa     150000                  3    petrol            opel   \n",
       "390        astra     150000                  8    petrol            opel   \n",
       "392           c1       5000                  0     other         citroen   \n",
       "\n",
       "    Repaired          DateCreated  NumberOfPictures  PostalCode  \\\n",
       "0        NaN  2016-03-24 00:00:00                 0       70435   \n",
       "16       NaN  2016-04-01 00:00:00                 0       38871   \n",
       "22        no  2016-03-23 00:00:00                 0       49716   \n",
       "26        no  2016-03-10 00:00:00                 0       31139   \n",
       "31       NaN  2016-03-29 00:00:00                 0       37075   \n",
       "35        no  2016-03-08 00:00:00                 0       19386   \n",
       "37        no  2016-03-28 00:00:00                 0       46483   \n",
       "40       NaN  2016-03-26 00:00:00                 0       56412   \n",
       "48       NaN  2016-03-25 00:00:00                 0       48499   \n",
       "51       yes  2016-03-07 00:00:00                 0       66115   \n",
       "52       NaN  2016-04-04 00:00:00                 0       34454   \n",
       "57        no  2016-03-10 00:00:00                 0       33397   \n",
       "65        no  2016-03-28 00:00:00                 0       63607   \n",
       "71        no  2016-03-07 00:00:00                 0       79341   \n",
       "77       NaN  2016-03-31 00:00:00                 0       32584   \n",
       "79       yes  2016-03-17 00:00:00                 0       78315   \n",
       "92       NaN  2016-03-16 00:00:00                 0       51427   \n",
       "94       NaN  2016-03-28 00:00:00                 0       29221   \n",
       "107      NaN  2016-03-16 00:00:00                 0       35789   \n",
       "111      NaN  2016-03-19 00:00:00                 0       21698   \n",
       "126       no  2016-03-20 00:00:00                 0       94139   \n",
       "130      NaN  2016-03-20 00:00:00                 0       45739   \n",
       "145      NaN  2016-03-06 00:00:00                 0       87616   \n",
       "147      yes  2016-03-15 00:00:00                 0       26215   \n",
       "154      NaN  2016-03-22 00:00:00                 0       44867   \n",
       "155       no  2016-03-09 00:00:00                 0       49696   \n",
       "163       no  2016-04-04 00:00:00                 0       15344   \n",
       "181      NaN  2016-03-21 00:00:00                 0       24782   \n",
       "196       no  2016-03-24 00:00:00                 0       86199   \n",
       "200      NaN  2016-04-03 00:00:00                 0       10997   \n",
       "218      NaN  2016-03-13 00:00:00                 0       24782   \n",
       "220      NaN  2016-03-27 00:00:00                 0       34471   \n",
       "225       no  2016-03-23 00:00:00                 0       33602   \n",
       "233      NaN  2016-03-14 00:00:00                 0       22115   \n",
       "260       no  2016-04-04 00:00:00                 0       59302   \n",
       "277       no  2016-03-06 00:00:00                 0       93495   \n",
       "281      yes  2016-03-24 00:00:00                 0       32457   \n",
       "285      NaN  2016-03-20 00:00:00                 0       63073   \n",
       "294       no  2016-03-10 00:00:00                 0       78713   \n",
       "295      NaN  2016-03-07 00:00:00                 0       45886   \n",
       "306      NaN  2016-03-21 00:00:00                 0        6493   \n",
       "309      NaN  2016-03-08 00:00:00                 0       26655   \n",
       "315      NaN  2016-03-08 00:00:00                 0       50321   \n",
       "330       no  2016-04-02 00:00:00                 0       91315   \n",
       "334      NaN  2016-03-06 00:00:00                 0       35392   \n",
       "355      NaN  2016-03-12 00:00:00                 0       53567   \n",
       "364      yes  2016-03-31 00:00:00                 0       47546   \n",
       "384      yes  2016-04-02 00:00:00                 0       56479   \n",
       "390       no  2016-03-12 00:00:00                 0       44789   \n",
       "392      NaN  2016-03-25 00:00:00                 0       26123   \n",
       "\n",
       "                LastSeen  \n",
       "0    2016-04-07 03:16:57  \n",
       "16   2016-04-01 12:46:46  \n",
       "22   2016-03-31 01:16:33  \n",
       "26   2016-03-16 09:16:46  \n",
       "31   2016-03-29 17:43:07  \n",
       "35   2016-03-08 09:44:50  \n",
       "37   2016-03-30 09:18:02  \n",
       "40   2016-03-27 17:43:34  \n",
       "48   2016-03-31 21:47:44  \n",
       "51   2016-03-07 18:57:08  \n",
       "52   2016-04-06 12:45:43  \n",
       "57   2016-03-25 10:17:37  \n",
       "65   2016-04-06 23:15:52  \n",
       "71   2016-03-22 05:15:22  \n",
       "77   2016-04-06 19:15:22  \n",
       "79   2016-04-05 03:45:22  \n",
       "92   2016-03-21 09:47:08  \n",
       "94   2016-03-30 07:44:59  \n",
       "107  2016-03-19 17:19:00  \n",
       "111  2016-04-01 08:47:05  \n",
       "126  2016-04-06 07:45:51  \n",
       "130  2016-03-28 19:48:42  \n",
       "145  2016-04-07 02:16:59  \n",
       "147  2016-03-25 04:19:17  \n",
       "154  2016-04-06 06:17:56  \n",
       "155  2016-04-05 23:45:15  \n",
       "163  2016-04-06 14:45:26  \n",
       "181  2016-03-31 17:45:24  \n",
       "196  2016-04-07 05:17:27  \n",
       "200  2016-04-05 21:17:18  \n",
       "218  2016-03-13 18:47:40  \n",
       "220  2016-04-05 15:46:54  \n",
       "225  2016-03-23 16:51:03  \n",
       "233  2016-03-20 23:18:03  \n",
       "260  2016-04-06 11:17:11  \n",
       "277  2016-03-12 10:16:53  \n",
       "281  2016-03-30 11:48:26  \n",
       "285  2016-03-22 16:21:55  \n",
       "294  2016-03-13 03:17:27  \n",
       "295  2016-03-08 00:15:42  \n",
       "306  2016-03-24 02:47:34  \n",
       "309  2016-03-08 16:46:14  \n",
       "315  2016-03-09 04:46:59  \n",
       "330  2016-04-04 14:16:47  \n",
       "334  2016-03-07 19:12:00  \n",
       "355  2016-04-07 10:44:48  \n",
       "364  2016-03-31 19:43:37  \n",
       "384  2016-04-06 11:46:50  \n",
       "390  2016-03-23 08:47:00  \n",
       "392  2016-04-07 00:46:08  "
      ]
     },
     "execution_count": 27,
     "metadata": {},
     "output_type": "execute_result"
    }
   ],
   "source": [
    "data.loc[data['VehicleType'].isna() == True].head(50)"
   ]
  },
  {
   "cell_type": "markdown",
   "metadata": {},
   "source": [
    "Пропуски имеются в колонках VehicleType, Gearbox, Model, FuelType, Repaired, в достаточно большом количестве, что бы обратить на них внимание. Все эти пропуски относятся к полностью случайным, поскольку не зависят от данных в других столбцах. \n",
    "Попытаемся найти какую-нибудь закономерность в появленнии пропусков в столбце с типом машины: из выведенных 50 строк видно, что \n",
    "большинство машин из категории small, но также попадаются седаны, кроссоверы и даже транcпортер, поэтому пропуски придется заполнять новой категорией \"unknown\". Так же поступим с пропусками в столбцах Gearbox, Model, FuelType. Пропуски в столбце Repaired заменим на значение \"no\", предполагая, что машина не ремотировалась.\n",
    "Столбцы DateCreated, DateCrawled идентичны, хранят значения о дате и времени создания объявления, качество модели они не улучшат,  ведь на цену авто влияет скорее год выпуска, поэтому удалим их.\n",
    "Столбцы NumberOfPictures, PostalCode, LastSeen, RegistrationMonth также не повлияют на улучшение качества модели.\n"
   ]
  },
  {
   "cell_type": "code",
   "execution_count": 28,
   "metadata": {
    "scrolled": true
   },
   "outputs": [
    {
     "data": {
      "text/plain": [
       "Price               0\n",
       "VehicleType         0\n",
       "RegistrationYear    0\n",
       "Gearbox             0\n",
       "Power               0\n",
       "Model               0\n",
       "Kilometer           0\n",
       "FuelType            0\n",
       "Brand               0\n",
       "Repaired            0\n",
       "dtype: int64"
      ]
     },
     "execution_count": 28,
     "metadata": {},
     "output_type": "execute_result"
    }
   ],
   "source": [
    "col_unknown = ['VehicleType', 'Gearbox', 'Model', 'FuelType']\n",
    "for col in col_unknown:\n",
    "    data[col] = data[col].fillna('unknown')\n",
    "data['Repaired'] = data['Repaired'].fillna('no')\n",
    "data = data.drop(['DateCreated', 'DateCrawled', 'NumberOfPictures', 'PostalCode', 'LastSeen', 'RegistrationMonth'], axis=1)\n",
    "\n",
    "data.isna().sum()"
   ]
  },
  {
   "cell_type": "code",
   "execution_count": 29,
   "metadata": {
    "scrolled": true
   },
   "outputs": [
    {
     "data": {
      "text/html": [
       "<div>\n",
       "<style scoped>\n",
       "    .dataframe tbody tr th:only-of-type {\n",
       "        vertical-align: middle;\n",
       "    }\n",
       "\n",
       "    .dataframe tbody tr th {\n",
       "        vertical-align: top;\n",
       "    }\n",
       "\n",
       "    .dataframe thead th {\n",
       "        text-align: right;\n",
       "    }\n",
       "</style>\n",
       "<table border=\"1\" class=\"dataframe\">\n",
       "  <thead>\n",
       "    <tr style=\"text-align: right;\">\n",
       "      <th></th>\n",
       "      <th>Price</th>\n",
       "      <th>RegistrationYear</th>\n",
       "      <th>Power</th>\n",
       "      <th>Kilometer</th>\n",
       "    </tr>\n",
       "  </thead>\n",
       "  <tbody>\n",
       "    <tr>\n",
       "      <th>count</th>\n",
       "      <td>354369.000000</td>\n",
       "      <td>354369.000000</td>\n",
       "      <td>354369.000000</td>\n",
       "      <td>354369.000000</td>\n",
       "    </tr>\n",
       "    <tr>\n",
       "      <th>mean</th>\n",
       "      <td>4416.656776</td>\n",
       "      <td>2004.234448</td>\n",
       "      <td>110.094337</td>\n",
       "      <td>128211.172535</td>\n",
       "    </tr>\n",
       "    <tr>\n",
       "      <th>std</th>\n",
       "      <td>4514.158514</td>\n",
       "      <td>90.227958</td>\n",
       "      <td>189.850405</td>\n",
       "      <td>37905.341530</td>\n",
       "    </tr>\n",
       "    <tr>\n",
       "      <th>min</th>\n",
       "      <td>0.000000</td>\n",
       "      <td>1000.000000</td>\n",
       "      <td>0.000000</td>\n",
       "      <td>5000.000000</td>\n",
       "    </tr>\n",
       "    <tr>\n",
       "      <th>25%</th>\n",
       "      <td>1050.000000</td>\n",
       "      <td>1999.000000</td>\n",
       "      <td>69.000000</td>\n",
       "      <td>125000.000000</td>\n",
       "    </tr>\n",
       "    <tr>\n",
       "      <th>50%</th>\n",
       "      <td>2700.000000</td>\n",
       "      <td>2003.000000</td>\n",
       "      <td>105.000000</td>\n",
       "      <td>150000.000000</td>\n",
       "    </tr>\n",
       "    <tr>\n",
       "      <th>75%</th>\n",
       "      <td>6400.000000</td>\n",
       "      <td>2008.000000</td>\n",
       "      <td>143.000000</td>\n",
       "      <td>150000.000000</td>\n",
       "    </tr>\n",
       "    <tr>\n",
       "      <th>max</th>\n",
       "      <td>20000.000000</td>\n",
       "      <td>9999.000000</td>\n",
       "      <td>20000.000000</td>\n",
       "      <td>150000.000000</td>\n",
       "    </tr>\n",
       "  </tbody>\n",
       "</table>\n",
       "</div>"
      ],
      "text/plain": [
       "               Price  RegistrationYear          Power      Kilometer\n",
       "count  354369.000000     354369.000000  354369.000000  354369.000000\n",
       "mean     4416.656776       2004.234448     110.094337  128211.172535\n",
       "std      4514.158514         90.227958     189.850405   37905.341530\n",
       "min         0.000000       1000.000000       0.000000    5000.000000\n",
       "25%      1050.000000       1999.000000      69.000000  125000.000000\n",
       "50%      2700.000000       2003.000000     105.000000  150000.000000\n",
       "75%      6400.000000       2008.000000     143.000000  150000.000000\n",
       "max     20000.000000       9999.000000   20000.000000  150000.000000"
      ]
     },
     "execution_count": 29,
     "metadata": {},
     "output_type": "execute_result"
    }
   ],
   "source": [
    "data.describe()"
   ]
  },
  {
   "cell_type": "markdown",
   "metadata": {},
   "source": [
    "Оценим распределение данных. В столбце price и kilometer ничего не смущает, выбросов нет, распределение- нормальное."
   ]
  },
  {
   "cell_type": "code",
   "execution_count": 30,
   "metadata": {},
   "outputs": [
    {
     "data": {
      "text/plain": [
       "Text(0, 0.5, 'Cars')"
      ]
     },
     "execution_count": 30,
     "metadata": {},
     "output_type": "execute_result"
    },
    {
     "data": {
      "image/png": "[encoded data removed]",
      "text/plain": [
       "<Figure size 432x288 with 1 Axes>"
      ]
     },
     "metadata": {
      "needs_background": "light"
     },
     "output_type": "display_data"
    }
   ],
   "source": [
    "plt.hist(data['Price'])\n",
    "plt.xlabel(\"Price\")\n",
    "plt.ylabel(\"Cars\")"
   ]
  },
  {
   "cell_type": "code",
   "execution_count": 31,
   "metadata": {
    "scrolled": true
   },
   "outputs": [
    {
     "data": {
      "text/html": [
       "<div>\n",
       "<style scoped>\n",
       "    .dataframe tbody tr th:only-of-type {\n",
       "        vertical-align: middle;\n",
       "    }\n",
       "\n",
       "    .dataframe tbody tr th {\n",
       "        vertical-align: top;\n",
       "    }\n",
       "\n",
       "    .dataframe thead th {\n",
       "        text-align: right;\n",
       "    }\n",
       "</style>\n",
       "<table border=\"1\" class=\"dataframe\">\n",
       "  <thead>\n",
       "    <tr style=\"text-align: right;\">\n",
       "      <th></th>\n",
       "      <th>Price</th>\n",
       "      <th>RegistrationYear</th>\n",
       "      <th>Power</th>\n",
       "      <th>Kilometer</th>\n",
       "    </tr>\n",
       "  </thead>\n",
       "  <tbody>\n",
       "    <tr>\n",
       "      <th>count</th>\n",
       "      <td>266394.000000</td>\n",
       "      <td>266394.000000</td>\n",
       "      <td>266394.000000</td>\n",
       "      <td>266394.000000</td>\n",
       "    </tr>\n",
       "    <tr>\n",
       "      <th>mean</th>\n",
       "      <td>5699.998416</td>\n",
       "      <td>2004.785581</td>\n",
       "      <td>122.038732</td>\n",
       "      <td>125681.528112</td>\n",
       "    </tr>\n",
       "    <tr>\n",
       "      <th>std</th>\n",
       "      <td>4520.785920</td>\n",
       "      <td>56.596921</td>\n",
       "      <td>193.708836</td>\n",
       "      <td>38337.809603</td>\n",
       "    </tr>\n",
       "    <tr>\n",
       "      <th>min</th>\n",
       "      <td>1001.000000</td>\n",
       "      <td>1000.000000</td>\n",
       "      <td>0.000000</td>\n",
       "      <td>5000.000000</td>\n",
       "    </tr>\n",
       "    <tr>\n",
       "      <th>25%</th>\n",
       "      <td>2200.000000</td>\n",
       "      <td>2001.000000</td>\n",
       "      <td>77.000000</td>\n",
       "      <td>100000.000000</td>\n",
       "    </tr>\n",
       "    <tr>\n",
       "      <th>50%</th>\n",
       "      <td>4000.000000</td>\n",
       "      <td>2005.000000</td>\n",
       "      <td>116.000000</td>\n",
       "      <td>150000.000000</td>\n",
       "    </tr>\n",
       "    <tr>\n",
       "      <th>75%</th>\n",
       "      <td>7950.000000</td>\n",
       "      <td>2008.000000</td>\n",
       "      <td>150.000000</td>\n",
       "      <td>150000.000000</td>\n",
       "    </tr>\n",
       "    <tr>\n",
       "      <th>max</th>\n",
       "      <td>20000.000000</td>\n",
       "      <td>9999.000000</td>\n",
       "      <td>20000.000000</td>\n",
       "      <td>150000.000000</td>\n",
       "    </tr>\n",
       "  </tbody>\n",
       "</table>\n",
       "</div>"
      ],
      "text/plain": [
       "               Price  RegistrationYear          Power      Kilometer\n",
       "count  266394.000000     266394.000000  266394.000000  266394.000000\n",
       "mean     5699.998416       2004.785581     122.038732  125681.528112\n",
       "std      4520.785920         56.596921     193.708836   38337.809603\n",
       "min      1001.000000       1000.000000       0.000000    5000.000000\n",
       "25%      2200.000000       2001.000000      77.000000  100000.000000\n",
       "50%      4000.000000       2005.000000     116.000000  150000.000000\n",
       "75%      7950.000000       2008.000000     150.000000  150000.000000\n",
       "max     20000.000000       9999.000000   20000.000000  150000.000000"
      ]
     },
     "execution_count": 31,
     "metadata": {},
     "output_type": "execute_result"
    }
   ],
   "source": [
    "data = data.loc[data['Price'] > 1000]\n",
    "data.describe()\n"
   ]
  },
  {
   "cell_type": "code",
   "execution_count": 32,
   "metadata": {},
   "outputs": [
    {
     "data": {
      "text/plain": [
       "Text(0, 0.5, 'Cars')"
      ]
     },
     "execution_count": 32,
     "metadata": {},
     "output_type": "execute_result"
    },
    {
     "data": {
      "image/png": "[encoded data removed]",
      "text/plain": [
       "<Figure size 432x288 with 1 Axes>"
      ]
     },
     "metadata": {
      "needs_background": "light"
     },
     "output_type": "display_data"
    }
   ],
   "source": [
    "plt.hist(data['Price'])\n",
    "plt.xlabel(\"Price\")\n",
    "plt.ylabel(\"Cars\")"
   ]
  },
  {
   "cell_type": "markdown",
   "metadata": {},
   "source": [
    "В столбце RegistrationYear очевидно есть выбросы: минимальное значение года выпуска 1000, максимальное: 9999.\n",
    "В столбце Power также есть выбросы: минимальное значение лошадиных сил: 0, максимальное: 20к. "
   ]
  },
  {
   "cell_type": "code",
   "execution_count": 33,
   "metadata": {
    "scrolled": false
   },
   "outputs": [
    {
     "data": {
      "text/plain": [
       "Text(0, 0.5, 'Cars')"
      ]
     },
     "execution_count": 33,
     "metadata": {},
     "output_type": "execute_result"
    },
    {
     "data": {
      "image/png": "[encoded data removed]",
      "text/plain": [
       "<Figure size 432x288 with 1 Axes>"
      ]
     },
     "metadata": {
      "needs_background": "light"
     },
     "output_type": "display_data"
    }
   ],
   "source": [
    "plt.hist(data['RegistrationYear'])\n",
    "plt.xlabel(\"RegistrationYear\")\n",
    "plt.ylabel(\"Cars\")"
   ]
  },
  {
   "cell_type": "markdown",
   "metadata": {},
   "source": [
    "Удалим эти выбросы и построим гистограмму вновь:"
   ]
  },
  {
   "cell_type": "code",
   "execution_count": 34,
   "metadata": {
    "scrolled": false
   },
   "outputs": [
    {
     "name": "stdout",
     "output_type": "stream",
     "text": [
      "<class 'pandas.core.frame.DataFrame'>\n",
      "Int64Index: 247468 entries, 1 to 354368\n",
      "Data columns (total 10 columns):\n",
      " #   Column            Non-Null Count   Dtype \n",
      "---  ------            --------------   ----- \n",
      " 0   Price             247468 non-null  int64 \n",
      " 1   VehicleType       247468 non-null  object\n",
      " 2   RegistrationYear  247468 non-null  int64 \n",
      " 3   Gearbox           247468 non-null  object\n",
      " 4   Power             247468 non-null  int64 \n",
      " 5   Model             247468 non-null  object\n",
      " 6   Kilometer         247468 non-null  int64 \n",
      " 7   FuelType          247468 non-null  object\n",
      " 8   Brand             247468 non-null  object\n",
      " 9   Repaired          247468 non-null  object\n",
      "dtypes: int64(4), object(6)\n",
      "memory usage: 20.8+ MB\n"
     ]
    },
    {
     "data": {
      "text/plain": [
       "None"
      ]
     },
     "metadata": {},
     "output_type": "display_data"
    },
    {
     "data": {
      "text/plain": [
       "Text(0, 0.5, 'Cars')"
      ]
     },
     "execution_count": 34,
     "metadata": {},
     "output_type": "execute_result"
    },
    {
     "data": {
      "image/png": "[encoded data removed]",
      "text/plain": [
       "<Figure size 432x288 with 1 Axes>"
      ]
     },
     "metadata": {
      "needs_background": "light"
     },
     "output_type": "display_data"
    }
   ],
   "source": [
    "data = data.loc[(data['RegistrationYear'] > 1990) & (data['RegistrationYear'] < 2017)]\n",
    "display(data.info())\n",
    "plt.hist(data['RegistrationYear'])\n",
    "plt.xlabel(\"RegistrationYear\")\n",
    "plt.ylabel(\"Cars\")"
   ]
  },
  {
   "cell_type": "markdown",
   "metadata": {},
   "source": [
    "Теперь отмечается распределение, приближенное к нормальному."
   ]
  },
  {
   "cell_type": "code",
   "execution_count": 35,
   "metadata": {
    "scrolled": true
   },
   "outputs": [
    {
     "data": {
      "text/plain": [
       "Text(0, 0.5, 'Cars')"
      ]
     },
     "execution_count": 35,
     "metadata": {},
     "output_type": "execute_result"
    },
    {
     "data": {
      "image/png": "[encoded data removed]",
      "text/plain": [
       "<Figure size 432x288 with 1 Axes>"
      ]
     },
     "metadata": {
      "needs_background": "light"
     },
     "output_type": "display_data"
    }
   ],
   "source": [
    "plt.hist(data['Power'])\n",
    "plt.xlabel(\"Power\")\n",
    "plt.ylabel(\"Cars\")"
   ]
  },
  {
   "cell_type": "code",
   "execution_count": 36,
   "metadata": {
    "scrolled": true
   },
   "outputs": [
    {
     "name": "stdout",
     "output_type": "stream",
     "text": [
      "<class 'pandas.core.frame.DataFrame'>\n",
      "Int64Index: 230599 entries, 1 to 354368\n",
      "Data columns (total 10 columns):\n",
      " #   Column            Non-Null Count   Dtype \n",
      "---  ------            --------------   ----- \n",
      " 0   Price             230599 non-null  int64 \n",
      " 1   VehicleType       230599 non-null  object\n",
      " 2   RegistrationYear  230599 non-null  int64 \n",
      " 3   Gearbox           230599 non-null  object\n",
      " 4   Power             230599 non-null  int64 \n",
      " 5   Model             230599 non-null  object\n",
      " 6   Kilometer         230599 non-null  int64 \n",
      " 7   FuelType          230599 non-null  object\n",
      " 8   Brand             230599 non-null  object\n",
      " 9   Repaired          230599 non-null  object\n",
      "dtypes: int64(4), object(6)\n",
      "memory usage: 19.4+ MB\n"
     ]
    },
    {
     "data": {
      "text/plain": [
       "None"
      ]
     },
     "metadata": {},
     "output_type": "display_data"
    },
    {
     "data": {
      "text/plain": [
       "Text(0, 0.5, 'Cars')"
      ]
     },
     "execution_count": 36,
     "metadata": {},
     "output_type": "execute_result"
    },
    {
     "data": {
      "image/png": "[encoded data removed]",
      "text/plain": [
       "<Figure size 432x288 with 1 Axes>"
      ]
     },
     "metadata": {
      "needs_background": "light"
     },
     "output_type": "display_data"
    }
   ],
   "source": [
    "data = data.loc[(data['Power'] > 40) & (data['Power'] < 1000)]\n",
    "display(data.info())\n",
    "plt.hist(data['Power'])\n",
    "plt.xlabel(\"Power\")\n",
    "plt.ylabel(\"Cars\")"
   ]
  },
  {
   "cell_type": "code",
   "execution_count": 37,
   "metadata": {
    "scrolled": true
   },
   "outputs": [
    {
     "data": {
      "text/plain": [
       "Text(0, 0.5, 'Cars')"
      ]
     },
     "execution_count": 37,
     "metadata": {},
     "output_type": "execute_result"
    },
    {
     "data": {
      "image/png": "[encoded data removed]",
      "text/plain": [
       "<Figure size 432x288 with 1 Axes>"
      ]
     },
     "metadata": {
      "needs_background": "light"
     },
     "output_type": "display_data"
    }
   ],
   "source": [
    "plt.hist(data['Kilometer'])\n",
    "plt.xlabel(\"kilometer\")\n",
    "plt.ylabel(\"Cars\")"
   ]
  },
  {
   "cell_type": "markdown",
   "metadata": {},
   "source": [
    "Разделим признаки на целевой и обучающие: "
   ]
  },
  {
   "cell_type": "code",
   "execution_count": 39,
   "metadata": {
    "scrolled": true
   },
   "outputs": [
    {
     "data": {
      "text/plain": [
       "(230599, 9)"
      ]
     },
     "metadata": {},
     "output_type": "display_data"
    },
    {
     "data": {
      "text/plain": [
       "(230599,)"
      ]
     },
     "metadata": {},
     "output_type": "display_data"
    }
   ],
   "source": [
    "features = data.drop(['Price'], axis=1)\n",
    "target = data['Price']\n",
    "display(features.shape)\n",
    "display(target.shape)"
   ]
  },
  {
   "cell_type": "markdown",
   "metadata": {},
   "source": [
    "Разделим данные на тренировочную и тестовую выборки в соотношении 3 к 1:"
   ]
  },
  {
   "cell_type": "code",
   "execution_count": 40,
   "metadata": {},
   "outputs": [
    {
     "data": {
      "text/plain": [
       "(172949, 9)"
      ]
     },
     "metadata": {},
     "output_type": "display_data"
    },
    {
     "data": {
      "text/plain": [
       "(57650, 9)"
      ]
     },
     "metadata": {},
     "output_type": "display_data"
    },
    {
     "data": {
      "text/plain": [
       "(172949,)"
      ]
     },
     "metadata": {},
     "output_type": "display_data"
    },
    {
     "data": {
      "text/plain": [
       "(57650,)"
      ]
     },
     "metadata": {},
     "output_type": "display_data"
    }
   ],
   "source": [
    "x_train, x_test, y_train, y_test = train_test_split(\n",
    "    features, target, test_size=0.25, random_state=state)\n",
    "display(x_train.shape)\n",
    "display(x_test.shape)\n",
    "display(y_train.shape)\n",
    "display(y_test.shape)"
   ]
  },
  {
   "cell_type": "markdown",
   "metadata": {},
   "source": [
    "Так как мы планируем работать с алгоримтами, в основе которых лежат деревья, закодируем наши категориальные признаки с помощью LabelEncoder:"
   ]
  },
  {
   "cell_type": "code",
   "execution_count": 41,
   "metadata": {
    "scrolled": true
   },
   "outputs": [
    {
     "data": {
      "text/html": [
       "<div>\n",
       "<style scoped>\n",
       "    .dataframe tbody tr th:only-of-type {\n",
       "        vertical-align: middle;\n",
       "    }\n",
       "\n",
       "    .dataframe tbody tr th {\n",
       "        vertical-align: top;\n",
       "    }\n",
       "\n",
       "    .dataframe thead th {\n",
       "        text-align: right;\n",
       "    }\n",
       "</style>\n",
       "<table border=\"1\" class=\"dataframe\">\n",
       "  <thead>\n",
       "    <tr style=\"text-align: right;\">\n",
       "      <th></th>\n",
       "      <th>VehicleType</th>\n",
       "      <th>RegistrationYear</th>\n",
       "      <th>Gearbox</th>\n",
       "      <th>Power</th>\n",
       "      <th>Model</th>\n",
       "      <th>Kilometer</th>\n",
       "      <th>FuelType</th>\n",
       "      <th>Brand</th>\n",
       "      <th>Repaired</th>\n",
       "    </tr>\n",
       "  </thead>\n",
       "  <tbody>\n",
       "    <tr>\n",
       "      <th>312855</th>\n",
       "      <td>7.0</td>\n",
       "      <td>2000</td>\n",
       "      <td>1.0</td>\n",
       "      <td>150</td>\n",
       "      <td>116.0</td>\n",
       "      <td>125000</td>\n",
       "      <td>6.0</td>\n",
       "      <td>38.0</td>\n",
       "      <td>0.0</td>\n",
       "    </tr>\n",
       "    <tr>\n",
       "      <th>210239</th>\n",
       "      <td>8.0</td>\n",
       "      <td>2001</td>\n",
       "      <td>1.0</td>\n",
       "      <td>107</td>\n",
       "      <td>136.0</td>\n",
       "      <td>150000</td>\n",
       "      <td>6.0</td>\n",
       "      <td>27.0</td>\n",
       "      <td>0.0</td>\n",
       "    </tr>\n",
       "    <tr>\n",
       "      <th>139751</th>\n",
       "      <td>6.0</td>\n",
       "      <td>2006</td>\n",
       "      <td>0.0</td>\n",
       "      <td>258</td>\n",
       "      <td>238.0</td>\n",
       "      <td>150000</td>\n",
       "      <td>2.0</td>\n",
       "      <td>2.0</td>\n",
       "      <td>0.0</td>\n",
       "    </tr>\n",
       "    <tr>\n",
       "      <th>219401</th>\n",
       "      <td>4.0</td>\n",
       "      <td>1999</td>\n",
       "      <td>0.0</td>\n",
       "      <td>136</td>\n",
       "      <td>111.0</td>\n",
       "      <td>60000</td>\n",
       "      <td>6.0</td>\n",
       "      <td>22.0</td>\n",
       "      <td>0.0</td>\n",
       "    </tr>\n",
       "    <tr>\n",
       "      <th>206133</th>\n",
       "      <td>4.0</td>\n",
       "      <td>2010</td>\n",
       "      <td>1.0</td>\n",
       "      <td>59</td>\n",
       "      <td>101.0</td>\n",
       "      <td>150000</td>\n",
       "      <td>6.0</td>\n",
       "      <td>31.0</td>\n",
       "      <td>0.0</td>\n",
       "    </tr>\n",
       "    <tr>\n",
       "      <th>83867</th>\n",
       "      <td>4.0</td>\n",
       "      <td>2010</td>\n",
       "      <td>0.0</td>\n",
       "      <td>170</td>\n",
       "      <td>6.0</td>\n",
       "      <td>60000</td>\n",
       "      <td>6.0</td>\n",
       "      <td>2.0</td>\n",
       "      <td>0.0</td>\n",
       "    </tr>\n",
       "    <tr>\n",
       "      <th>346892</th>\n",
       "      <td>2.0</td>\n",
       "      <td>2005</td>\n",
       "      <td>1.0</td>\n",
       "      <td>280</td>\n",
       "      <td>166.0</td>\n",
       "      <td>150000</td>\n",
       "      <td>6.0</td>\n",
       "      <td>23.0</td>\n",
       "      <td>0.0</td>\n",
       "    </tr>\n",
       "    <tr>\n",
       "      <th>284989</th>\n",
       "      <td>4.0</td>\n",
       "      <td>2002</td>\n",
       "      <td>1.0</td>\n",
       "      <td>192</td>\n",
       "      <td>11.0</td>\n",
       "      <td>150000</td>\n",
       "      <td>6.0</td>\n",
       "      <td>2.0</td>\n",
       "      <td>0.0</td>\n",
       "    </tr>\n",
       "    <tr>\n",
       "      <th>302923</th>\n",
       "      <td>5.0</td>\n",
       "      <td>2006</td>\n",
       "      <td>1.0</td>\n",
       "      <td>87</td>\n",
       "      <td>242.0</td>\n",
       "      <td>150000</td>\n",
       "      <td>6.0</td>\n",
       "      <td>36.0</td>\n",
       "      <td>0.0</td>\n",
       "    </tr>\n",
       "    <tr>\n",
       "      <th>106807</th>\n",
       "      <td>5.0</td>\n",
       "      <td>2011</td>\n",
       "      <td>1.0</td>\n",
       "      <td>68</td>\n",
       "      <td>46.0</td>\n",
       "      <td>90000</td>\n",
       "      <td>6.0</td>\n",
       "      <td>36.0</td>\n",
       "      <td>0.0</td>\n",
       "    </tr>\n",
       "  </tbody>\n",
       "</table>\n",
       "</div>"
      ],
      "text/plain": [
       "        VehicleType  RegistrationYear  Gearbox  Power  Model  Kilometer  \\\n",
       "312855          7.0              2000      1.0    150  116.0     125000   \n",
       "210239          8.0              2001      1.0    107  136.0     150000   \n",
       "139751          6.0              2006      0.0    258  238.0     150000   \n",
       "219401          4.0              1999      0.0    136  111.0      60000   \n",
       "206133          4.0              2010      1.0     59  101.0     150000   \n",
       "83867           4.0              2010      0.0    170    6.0      60000   \n",
       "346892          2.0              2005      1.0    280  166.0     150000   \n",
       "284989          4.0              2002      1.0    192   11.0     150000   \n",
       "302923          5.0              2006      1.0     87  242.0     150000   \n",
       "106807          5.0              2011      1.0     68   46.0      90000   \n",
       "\n",
       "        FuelType  Brand  Repaired  \n",
       "312855       6.0   38.0       0.0  \n",
       "210239       6.0   27.0       0.0  \n",
       "139751       2.0    2.0       0.0  \n",
       "219401       6.0   22.0       0.0  \n",
       "206133       6.0   31.0       0.0  \n",
       "83867        6.0    2.0       0.0  \n",
       "346892       6.0   23.0       0.0  \n",
       "284989       6.0    2.0       0.0  \n",
       "302923       6.0   36.0       0.0  \n",
       "106807       6.0   36.0       0.0  "
      ]
     },
     "metadata": {},
     "output_type": "display_data"
    },
    {
     "data": {
      "text/html": [
       "<div>\n",
       "<style scoped>\n",
       "    .dataframe tbody tr th:only-of-type {\n",
       "        vertical-align: middle;\n",
       "    }\n",
       "\n",
       "    .dataframe tbody tr th {\n",
       "        vertical-align: top;\n",
       "    }\n",
       "\n",
       "    .dataframe thead th {\n",
       "        text-align: right;\n",
       "    }\n",
       "</style>\n",
       "<table border=\"1\" class=\"dataframe\">\n",
       "  <thead>\n",
       "    <tr style=\"text-align: right;\">\n",
       "      <th></th>\n",
       "      <th>VehicleType</th>\n",
       "      <th>RegistrationYear</th>\n",
       "      <th>Gearbox</th>\n",
       "      <th>Power</th>\n",
       "      <th>Model</th>\n",
       "      <th>Kilometer</th>\n",
       "      <th>FuelType</th>\n",
       "      <th>Brand</th>\n",
       "      <th>Repaired</th>\n",
       "    </tr>\n",
       "  </thead>\n",
       "  <tbody>\n",
       "    <tr>\n",
       "      <th>15491</th>\n",
       "      <td>4.0</td>\n",
       "      <td>2010</td>\n",
       "      <td>1.0</td>\n",
       "      <td>116</td>\n",
       "      <td>6.0</td>\n",
       "      <td>150000</td>\n",
       "      <td>2.0</td>\n",
       "      <td>2.0</td>\n",
       "      <td>0.0</td>\n",
       "    </tr>\n",
       "    <tr>\n",
       "      <th>169988</th>\n",
       "      <td>7.0</td>\n",
       "      <td>2016</td>\n",
       "      <td>1.0</td>\n",
       "      <td>60</td>\n",
       "      <td>224.0</td>\n",
       "      <td>150000</td>\n",
       "      <td>6.0</td>\n",
       "      <td>25.0</td>\n",
       "      <td>1.0</td>\n",
       "    </tr>\n",
       "    <tr>\n",
       "      <th>183567</th>\n",
       "      <td>4.0</td>\n",
       "      <td>2005</td>\n",
       "      <td>1.0</td>\n",
       "      <td>105</td>\n",
       "      <td>116.0</td>\n",
       "      <td>150000</td>\n",
       "      <td>2.0</td>\n",
       "      <td>38.0</td>\n",
       "      <td>0.0</td>\n",
       "    </tr>\n",
       "    <tr>\n",
       "      <th>128280</th>\n",
       "      <td>5.0</td>\n",
       "      <td>2002</td>\n",
       "      <td>1.0</td>\n",
       "      <td>75</td>\n",
       "      <td>83.0</td>\n",
       "      <td>150000</td>\n",
       "      <td>6.0</td>\n",
       "      <td>24.0</td>\n",
       "      <td>0.0</td>\n",
       "    </tr>\n",
       "    <tr>\n",
       "      <th>114237</th>\n",
       "      <td>6.0</td>\n",
       "      <td>2003</td>\n",
       "      <td>1.0</td>\n",
       "      <td>114</td>\n",
       "      <td>239.0</td>\n",
       "      <td>150000</td>\n",
       "      <td>2.0</td>\n",
       "      <td>23.0</td>\n",
       "      <td>0.0</td>\n",
       "    </tr>\n",
       "    <tr>\n",
       "      <th>335822</th>\n",
       "      <td>4.0</td>\n",
       "      <td>1998</td>\n",
       "      <td>1.0</td>\n",
       "      <td>75</td>\n",
       "      <td>116.0</td>\n",
       "      <td>150000</td>\n",
       "      <td>6.0</td>\n",
       "      <td>38.0</td>\n",
       "      <td>0.0</td>\n",
       "    </tr>\n",
       "    <tr>\n",
       "      <th>307324</th>\n",
       "      <td>6.0</td>\n",
       "      <td>2006</td>\n",
       "      <td>0.0</td>\n",
       "      <td>150</td>\n",
       "      <td>196.0</td>\n",
       "      <td>150000</td>\n",
       "      <td>2.0</td>\n",
       "      <td>12.0</td>\n",
       "      <td>0.0</td>\n",
       "    </tr>\n",
       "    <tr>\n",
       "      <th>130195</th>\n",
       "      <td>6.0</td>\n",
       "      <td>2012</td>\n",
       "      <td>1.0</td>\n",
       "      <td>163</td>\n",
       "      <td>166.0</td>\n",
       "      <td>70000</td>\n",
       "      <td>2.0</td>\n",
       "      <td>3.0</td>\n",
       "      <td>0.0</td>\n",
       "    </tr>\n",
       "    <tr>\n",
       "      <th>330510</th>\n",
       "      <td>4.0</td>\n",
       "      <td>2001</td>\n",
       "      <td>1.0</td>\n",
       "      <td>120</td>\n",
       "      <td>136.0</td>\n",
       "      <td>150000</td>\n",
       "      <td>6.0</td>\n",
       "      <td>27.0</td>\n",
       "      <td>0.0</td>\n",
       "    </tr>\n",
       "    <tr>\n",
       "      <th>82700</th>\n",
       "      <td>4.0</td>\n",
       "      <td>1999</td>\n",
       "      <td>1.0</td>\n",
       "      <td>120</td>\n",
       "      <td>3.0</td>\n",
       "      <td>125000</td>\n",
       "      <td>6.0</td>\n",
       "      <td>0.0</td>\n",
       "      <td>0.0</td>\n",
       "    </tr>\n",
       "  </tbody>\n",
       "</table>\n",
       "</div>"
      ],
      "text/plain": [
       "        VehicleType  RegistrationYear  Gearbox  Power  Model  Kilometer  \\\n",
       "15491           4.0              2010      1.0    116    6.0     150000   \n",
       "169988          7.0              2016      1.0     60  224.0     150000   \n",
       "183567          4.0              2005      1.0    105  116.0     150000   \n",
       "128280          5.0              2002      1.0     75   83.0     150000   \n",
       "114237          6.0              2003      1.0    114  239.0     150000   \n",
       "335822          4.0              1998      1.0     75  116.0     150000   \n",
       "307324          6.0              2006      0.0    150  196.0     150000   \n",
       "130195          6.0              2012      1.0    163  166.0      70000   \n",
       "330510          4.0              2001      1.0    120  136.0     150000   \n",
       "82700           4.0              1999      1.0    120    3.0     125000   \n",
       "\n",
       "        FuelType  Brand  Repaired  \n",
       "15491        2.0    2.0       0.0  \n",
       "169988       6.0   25.0       1.0  \n",
       "183567       2.0   38.0       0.0  \n",
       "128280       6.0   24.0       0.0  \n",
       "114237       2.0   23.0       0.0  \n",
       "335822       6.0   38.0       0.0  \n",
       "307324       2.0   12.0       0.0  \n",
       "130195       2.0    3.0       0.0  \n",
       "330510       6.0   27.0       0.0  \n",
       "82700        6.0    0.0       0.0  "
      ]
     },
     "metadata": {},
     "output_type": "display_data"
    }
   ],
   "source": [
    "pd.options.mode.chained_assignment = None\n",
    "\n",
    "to_encode = ['VehicleType', 'Gearbox', 'Model', 'FuelType', 'Brand', 'Repaired']\n",
    "le = OrdinalEncoder(handle_unknown='ignore')\n",
    "x_train_oe = x_train.copy()\n",
    "x_test_oe = x_test.copy()\n",
    "\n",
    "#le.fit_transform(features[col])\n",
    "x_train_oe[to_encode] = le.fit_transform(x_train[to_encode])\n",
    "x_test_oe[to_encode] = le.transform(x_test[to_encode])\n",
    "\n",
    "display(x_train_oe.head(10))\n",
    "display(x_test_oe.head(10))"
   ]
  },
  {
   "cell_type": "markdown",
   "metadata": {},
   "source": [
    "## Обучение моделей"
   ]
  },
  {
   "cell_type": "markdown",
   "metadata": {},
   "source": [
    "По условиям постааленной задачи от нас требуется обучить модель LightGBM, и как минимум одну модель, в алгоритме которой не применяется бустинг - я выбрал случаный лес.\n",
    "Обучим модель LightGBM и сразу проверим результат на тестовой выборке. Далее проконтролируем качетсво модели с помощью кросс-валидации так как мы не создавали валидационную выборку. "
   ]
  },
  {
   "cell_type": "markdown",
   "metadata": {},
   "source": [
    "Подберем гиперпараметры для модели LightGBM с помощью поиска по сетке. Т.к. это довольно затяжной процесс, снизим количество гиперпараметров. "
   ]
  },
  {
   "cell_type": "code",
   "execution_count": 19,
   "metadata": {
    "scrolled": true
   },
   "outputs": [
    {
     "name": "stdout",
     "output_type": "stream",
     "text": [
      "Fitting 5 folds for each of 8 candidates, totalling 40 fits\n"
     ]
    },
    {
     "name": "stderr",
     "output_type": "stream",
     "text": [
      "/opt/conda/lib/python3.9/site-packages/lightgbm/engine.py:177: UserWarning: Found `num_iterations` in params. Will use it instead of argument\n",
      "  _log_warning(f\"Found `{alias}` in params. Will use it instead of argument\")\n",
      "/opt/conda/lib/python3.9/site-packages/lightgbm/engine.py:177: UserWarning: Found `num_iterations` in params. Will use it instead of argument\n",
      "  _log_warning(f\"Found `{alias}` in params. Will use it instead of argument\")\n",
      "/opt/conda/lib/python3.9/site-packages/lightgbm/engine.py:177: UserWarning: Found `num_iterations` in params. Will use it instead of argument\n",
      "  _log_warning(f\"Found `{alias}` in params. Will use it instead of argument\")\n",
      "/opt/conda/lib/python3.9/site-packages/lightgbm/engine.py:177: UserWarning: Found `num_iterations` in params. Will use it instead of argument\n",
      "  _log_warning(f\"Found `{alias}` in params. Will use it instead of argument\")\n",
      "/opt/conda/lib/python3.9/site-packages/lightgbm/engine.py:177: UserWarning: Found `num_iterations` in params. Will use it instead of argument\n",
      "  _log_warning(f\"Found `{alias}` in params. Will use it instead of argument\")\n",
      "/opt/conda/lib/python3.9/site-packages/lightgbm/engine.py:177: UserWarning: Found `num_iterations` in params. Will use it instead of argument\n",
      "  _log_warning(f\"Found `{alias}` in params. Will use it instead of argument\")\n",
      "/opt/conda/lib/python3.9/site-packages/lightgbm/engine.py:177: UserWarning: Found `num_iterations` in params. Will use it instead of argument\n",
      "  _log_warning(f\"Found `{alias}` in params. Will use it instead of argument\")\n",
      "/opt/conda/lib/python3.9/site-packages/lightgbm/engine.py:177: UserWarning: Found `num_iterations` in params. Will use it instead of argument\n",
      "  _log_warning(f\"Found `{alias}` in params. Will use it instead of argument\")\n",
      "/opt/conda/lib/python3.9/site-packages/lightgbm/engine.py:177: UserWarning: Found `num_iterations` in params. Will use it instead of argument\n",
      "  _log_warning(f\"Found `{alias}` in params. Will use it instead of argument\")\n",
      "/opt/conda/lib/python3.9/site-packages/lightgbm/engine.py:177: UserWarning: Found `num_iterations` in params. Will use it instead of argument\n",
      "  _log_warning(f\"Found `{alias}` in params. Will use it instead of argument\")\n",
      "/opt/conda/lib/python3.9/site-packages/lightgbm/engine.py:177: UserWarning: Found `num_iterations` in params. Will use it instead of argument\n",
      "  _log_warning(f\"Found `{alias}` in params. Will use it instead of argument\")\n",
      "/opt/conda/lib/python3.9/site-packages/lightgbm/engine.py:177: UserWarning: Found `num_iterations` in params. Will use it instead of argument\n",
      "  _log_warning(f\"Found `{alias}` in params. Will use it instead of argument\")\n",
      "/opt/conda/lib/python3.9/site-packages/lightgbm/engine.py:177: UserWarning: Found `num_iterations` in params. Will use it instead of argument\n",
      "  _log_warning(f\"Found `{alias}` in params. Will use it instead of argument\")\n",
      "/opt/conda/lib/python3.9/site-packages/lightgbm/engine.py:177: UserWarning: Found `num_iterations` in params. Will use it instead of argument\n",
      "  _log_warning(f\"Found `{alias}` in params. Will use it instead of argument\")\n",
      "/opt/conda/lib/python3.9/site-packages/lightgbm/engine.py:177: UserWarning: Found `num_iterations` in params. Will use it instead of argument\n",
      "  _log_warning(f\"Found `{alias}` in params. Will use it instead of argument\")\n",
      "/opt/conda/lib/python3.9/site-packages/lightgbm/engine.py:177: UserWarning: Found `num_iterations` in params. Will use it instead of argument\n",
      "  _log_warning(f\"Found `{alias}` in params. Will use it instead of argument\")\n",
      "/opt/conda/lib/python3.9/site-packages/lightgbm/engine.py:177: UserWarning: Found `num_iterations` in params. Will use it instead of argument\n",
      "  _log_warning(f\"Found `{alias}` in params. Will use it instead of argument\")\n",
      "/opt/conda/lib/python3.9/site-packages/lightgbm/engine.py:177: UserWarning: Found `num_iterations` in params. Will use it instead of argument\n",
      "  _log_warning(f\"Found `{alias}` in params. Will use it instead of argument\")\n",
      "/opt/conda/lib/python3.9/site-packages/lightgbm/engine.py:177: UserWarning: Found `num_iterations` in params. Will use it instead of argument\n",
      "  _log_warning(f\"Found `{alias}` in params. Will use it instead of argument\")\n",
      "/opt/conda/lib/python3.9/site-packages/lightgbm/engine.py:177: UserWarning: Found `num_iterations` in params. Will use it instead of argument\n",
      "  _log_warning(f\"Found `{alias}` in params. Will use it instead of argument\")\n",
      "/opt/conda/lib/python3.9/site-packages/lightgbm/engine.py:177: UserWarning: Found `num_iterations` in params. Will use it instead of argument\n",
      "  _log_warning(f\"Found `{alias}` in params. Will use it instead of argument\")\n",
      "/opt/conda/lib/python3.9/site-packages/lightgbm/engine.py:177: UserWarning: Found `num_iterations` in params. Will use it instead of argument\n",
      "  _log_warning(f\"Found `{alias}` in params. Will use it instead of argument\")\n",
      "/opt/conda/lib/python3.9/site-packages/lightgbm/engine.py:177: UserWarning: Found `num_iterations` in params. Will use it instead of argument\n",
      "  _log_warning(f\"Found `{alias}` in params. Will use it instead of argument\")\n",
      "/opt/conda/lib/python3.9/site-packages/lightgbm/engine.py:177: UserWarning: Found `num_iterations` in params. Will use it instead of argument\n",
      "  _log_warning(f\"Found `{alias}` in params. Will use it instead of argument\")\n",
      "/opt/conda/lib/python3.9/site-packages/lightgbm/engine.py:177: UserWarning: Found `num_iterations` in params. Will use it instead of argument\n",
      "  _log_warning(f\"Found `{alias}` in params. Will use it instead of argument\")\n",
      "/opt/conda/lib/python3.9/site-packages/lightgbm/engine.py:177: UserWarning: Found `num_iterations` in params. Will use it instead of argument\n",
      "  _log_warning(f\"Found `{alias}` in params. Will use it instead of argument\")\n",
      "/opt/conda/lib/python3.9/site-packages/lightgbm/engine.py:177: UserWarning: Found `num_iterations` in params. Will use it instead of argument\n",
      "  _log_warning(f\"Found `{alias}` in params. Will use it instead of argument\")\n",
      "/opt/conda/lib/python3.9/site-packages/lightgbm/engine.py:177: UserWarning: Found `num_iterations` in params. Will use it instead of argument\n",
      "  _log_warning(f\"Found `{alias}` in params. Will use it instead of argument\")\n",
      "/opt/conda/lib/python3.9/site-packages/lightgbm/engine.py:177: UserWarning: Found `num_iterations` in params. Will use it instead of argument\n",
      "  _log_warning(f\"Found `{alias}` in params. Will use it instead of argument\")\n",
      "/opt/conda/lib/python3.9/site-packages/lightgbm/engine.py:177: UserWarning: Found `num_iterations` in params. Will use it instead of argument\n",
      "  _log_warning(f\"Found `{alias}` in params. Will use it instead of argument\")\n",
      "/opt/conda/lib/python3.9/site-packages/lightgbm/engine.py:177: UserWarning: Found `num_iterations` in params. Will use it instead of argument\n",
      "  _log_warning(f\"Found `{alias}` in params. Will use it instead of argument\")\n",
      "/opt/conda/lib/python3.9/site-packages/lightgbm/engine.py:177: UserWarning: Found `num_iterations` in params. Will use it instead of argument\n",
      "  _log_warning(f\"Found `{alias}` in params. Will use it instead of argument\")\n",
      "/opt/conda/lib/python3.9/site-packages/lightgbm/engine.py:177: UserWarning: Found `num_iterations` in params. Will use it instead of argument\n",
      "  _log_warning(f\"Found `{alias}` in params. Will use it instead of argument\")\n",
      "/opt/conda/lib/python3.9/site-packages/lightgbm/engine.py:177: UserWarning: Found `num_iterations` in params. Will use it instead of argument\n",
      "  _log_warning(f\"Found `{alias}` in params. Will use it instead of argument\")\n",
      "/opt/conda/lib/python3.9/site-packages/lightgbm/engine.py:177: UserWarning: Found `num_iterations` in params. Will use it instead of argument\n",
      "  _log_warning(f\"Found `{alias}` in params. Will use it instead of argument\")\n",
      "/opt/conda/lib/python3.9/site-packages/lightgbm/engine.py:177: UserWarning: Found `num_iterations` in params. Will use it instead of argument\n",
      "  _log_warning(f\"Found `{alias}` in params. Will use it instead of argument\")\n",
      "/opt/conda/lib/python3.9/site-packages/lightgbm/engine.py:177: UserWarning: Found `num_iterations` in params. Will use it instead of argument\n",
      "  _log_warning(f\"Found `{alias}` in params. Will use it instead of argument\")\n",
      "/opt/conda/lib/python3.9/site-packages/lightgbm/engine.py:177: UserWarning: Found `num_iterations` in params. Will use it instead of argument\n",
      "  _log_warning(f\"Found `{alias}` in params. Will use it instead of argument\")\n",
      "/opt/conda/lib/python3.9/site-packages/lightgbm/engine.py:177: UserWarning: Found `num_iterations` in params. Will use it instead of argument\n",
      "  _log_warning(f\"Found `{alias}` in params. Will use it instead of argument\")\n",
      "/opt/conda/lib/python3.9/site-packages/lightgbm/engine.py:177: UserWarning: Found `num_iterations` in params. Will use it instead of argument\n",
      "  _log_warning(f\"Found `{alias}` in params. Will use it instead of argument\")\n",
      "/opt/conda/lib/python3.9/site-packages/lightgbm/engine.py:177: UserWarning: Found `num_iterations` in params. Will use it instead of argument\n",
      "  _log_warning(f\"Found `{alias}` in params. Will use it instead of argument\")\n"
     ]
    },
    {
     "name": "stdout",
     "output_type": "stream",
     "text": [
      "[LightGBM] [Warning] boosting is set=gbdt, boosting_type=gbdt will be ignored. Current value: boosting=gbdt\n",
      "best params\n",
      "{'boosting': 'gbdt', 'learning_rate': 0.05, 'max_depth': 15, 'num_iterations': 2000, 'num_leaves': 15, 'objective': 'root_mean_squared_error', 'task': 'predict'}\n",
      "RMSE: 1567.8900015745353\n",
      "CPU times: user 45.6 s, sys: 367 ms, total: 45.9 s\n",
      "Wall time: 11min 21s\n"
     ]
    }
   ],
   "source": [
    "%%time\n",
    "lgb_model = lgb.LGBMRegressor(random_state=state)\n",
    "\n",
    "parameters = {\n",
    "    'task' : ['predict'],\n",
    "    'boosting': ['gbdt' ],\n",
    "    'objective': ['root_mean_squared_error'],\n",
    "    'num_iterations': [  1500, 2000  ],\n",
    "    'learning_rate':[ 0.05 ],\n",
    "    'num_leaves':[ 10, 15 ],\n",
    "    'max_depth' :[ 10, 15 ],\n",
    "   \n",
    "}\n",
    "\n",
    "gsearch_lgb = GridSearchCV(lgb_model, param_grid = parameters, scoring='neg_root_mean_squared_error', n_jobs=6, verbose=10, cv = 5)\n",
    "gsearch_lgb.fit(x_train_oe,y_train)\n",
    " \n",
    "print('best params')\n",
    "print (gsearch_lgb.best_params_)\n",
    "score = gsearch_lgb.best_score_\n",
    "print('RMSE:', -score)\n"
   ]
  },
  {
   "cell_type": "markdown",
   "metadata": {},
   "source": [
    "best params\n",
    "{'boosting': 'gbdt', 'learning_rate': 0.05, 'max_depth': 15, 'num_iterations': 1500, 'num_leaves': 15, 'objective': 'root_mean_squared_error', 'task': 'predict'}\n",
    "CPU times: user 21min 24s, sys: 8.02 s, total: 21min 32s\n",
    "Wall time: 28min 24s"
   ]
  },
  {
   "cell_type": "code",
   "execution_count": 20,
   "metadata": {
    "scrolled": false
   },
   "outputs": [
    {
     "data": {
      "text/html": [
       "<div>\n",
       "<style scoped>\n",
       "    .dataframe tbody tr th:only-of-type {\n",
       "        vertical-align: middle;\n",
       "    }\n",
       "\n",
       "    .dataframe tbody tr th {\n",
       "        vertical-align: top;\n",
       "    }\n",
       "\n",
       "    .dataframe thead th {\n",
       "        text-align: right;\n",
       "    }\n",
       "</style>\n",
       "<table border=\"1\" class=\"dataframe\">\n",
       "  <thead>\n",
       "    <tr style=\"text-align: right;\">\n",
       "      <th></th>\n",
       "      <th>mean_fit_time</th>\n",
       "      <th>std_fit_time</th>\n",
       "      <th>mean_score_time</th>\n",
       "      <th>std_score_time</th>\n",
       "      <th>param_boosting</th>\n",
       "      <th>param_learning_rate</th>\n",
       "      <th>param_max_depth</th>\n",
       "      <th>param_num_iterations</th>\n",
       "      <th>param_num_leaves</th>\n",
       "      <th>param_objective</th>\n",
       "      <th>param_task</th>\n",
       "      <th>params</th>\n",
       "      <th>split0_test_score</th>\n",
       "      <th>split1_test_score</th>\n",
       "      <th>split2_test_score</th>\n",
       "      <th>split3_test_score</th>\n",
       "      <th>split4_test_score</th>\n",
       "      <th>mean_test_score</th>\n",
       "      <th>std_test_score</th>\n",
       "      <th>rank_test_score</th>\n",
       "    </tr>\n",
       "  </thead>\n",
       "  <tbody>\n",
       "    <tr>\n",
       "      <th>0</th>\n",
       "      <td>34.676946</td>\n",
       "      <td>15.041034</td>\n",
       "      <td>15.139098</td>\n",
       "      <td>5.838036</td>\n",
       "      <td>gbdt</td>\n",
       "      <td>0.05</td>\n",
       "      <td>10</td>\n",
       "      <td>1500</td>\n",
       "      <td>10</td>\n",
       "      <td>root_mean_squared_error</td>\n",
       "      <td>predict</td>\n",
       "      <td>{'boosting': 'gbdt', 'learning_rate': 0.05, 'm...</td>\n",
       "      <td>-1602.657205</td>\n",
       "      <td>-1635.279847</td>\n",
       "      <td>-1624.545716</td>\n",
       "      <td>-1626.946100</td>\n",
       "      <td>-1598.209578</td>\n",
       "      <td>-1617.527689</td>\n",
       "      <td>14.473555</td>\n",
       "      <td>7</td>\n",
       "    </tr>\n",
       "    <tr>\n",
       "      <th>1</th>\n",
       "      <td>62.000388</td>\n",
       "      <td>5.732523</td>\n",
       "      <td>26.145072</td>\n",
       "      <td>1.098423</td>\n",
       "      <td>gbdt</td>\n",
       "      <td>0.05</td>\n",
       "      <td>10</td>\n",
       "      <td>1500</td>\n",
       "      <td>15</td>\n",
       "      <td>root_mean_squared_error</td>\n",
       "      <td>predict</td>\n",
       "      <td>{'boosting': 'gbdt', 'learning_rate': 0.05, 'm...</td>\n",
       "      <td>-1562.923858</td>\n",
       "      <td>-1603.492063</td>\n",
       "      <td>-1589.318212</td>\n",
       "      <td>-1594.768821</td>\n",
       "      <td>-1569.173701</td>\n",
       "      <td>-1583.935331</td>\n",
       "      <td>15.415534</td>\n",
       "      <td>4</td>\n",
       "    </tr>\n",
       "    <tr>\n",
       "      <th>2</th>\n",
       "      <td>80.362702</td>\n",
       "      <td>9.157317</td>\n",
       "      <td>32.477732</td>\n",
       "      <td>3.086459</td>\n",
       "      <td>gbdt</td>\n",
       "      <td>0.05</td>\n",
       "      <td>10</td>\n",
       "      <td>2000</td>\n",
       "      <td>10</td>\n",
       "      <td>root_mean_squared_error</td>\n",
       "      <td>predict</td>\n",
       "      <td>{'boosting': 'gbdt', 'learning_rate': 0.05, 'm...</td>\n",
       "      <td>-1581.468307</td>\n",
       "      <td>-1617.837864</td>\n",
       "      <td>-1607.548816</td>\n",
       "      <td>-1607.269613</td>\n",
       "      <td>-1581.629801</td>\n",
       "      <td>-1599.150880</td>\n",
       "      <td>14.868114</td>\n",
       "      <td>5</td>\n",
       "    </tr>\n",
       "    <tr>\n",
       "      <th>3</th>\n",
       "      <td>86.685722</td>\n",
       "      <td>2.866936</td>\n",
       "      <td>33.159373</td>\n",
       "      <td>3.176140</td>\n",
       "      <td>gbdt</td>\n",
       "      <td>0.05</td>\n",
       "      <td>10</td>\n",
       "      <td>2000</td>\n",
       "      <td>15</td>\n",
       "      <td>root_mean_squared_error</td>\n",
       "      <td>predict</td>\n",
       "      <td>{'boosting': 'gbdt', 'learning_rate': 0.05, 'm...</td>\n",
       "      <td>-1546.476979</td>\n",
       "      <td>-1588.268252</td>\n",
       "      <td>-1573.879150</td>\n",
       "      <td>-1578.299797</td>\n",
       "      <td>-1554.133684</td>\n",
       "      <td>-1568.211572</td>\n",
       "      <td>15.535402</td>\n",
       "      <td>2</td>\n",
       "    </tr>\n",
       "    <tr>\n",
       "      <th>4</th>\n",
       "      <td>61.022343</td>\n",
       "      <td>5.519270</td>\n",
       "      <td>22.938407</td>\n",
       "      <td>2.495382</td>\n",
       "      <td>gbdt</td>\n",
       "      <td>0.05</td>\n",
       "      <td>15</td>\n",
       "      <td>1500</td>\n",
       "      <td>10</td>\n",
       "      <td>root_mean_squared_error</td>\n",
       "      <td>predict</td>\n",
       "      <td>{'boosting': 'gbdt', 'learning_rate': 0.05, 'm...</td>\n",
       "      <td>-1602.657205</td>\n",
       "      <td>-1635.279847</td>\n",
       "      <td>-1624.545716</td>\n",
       "      <td>-1626.946100</td>\n",
       "      <td>-1598.209578</td>\n",
       "      <td>-1617.527689</td>\n",
       "      <td>14.473555</td>\n",
       "      <td>7</td>\n",
       "    </tr>\n",
       "    <tr>\n",
       "      <th>5</th>\n",
       "      <td>56.020308</td>\n",
       "      <td>4.133146</td>\n",
       "      <td>23.317012</td>\n",
       "      <td>2.028133</td>\n",
       "      <td>gbdt</td>\n",
       "      <td>0.05</td>\n",
       "      <td>15</td>\n",
       "      <td>1500</td>\n",
       "      <td>15</td>\n",
       "      <td>root_mean_squared_error</td>\n",
       "      <td>predict</td>\n",
       "      <td>{'boosting': 'gbdt', 'learning_rate': 0.05, 'm...</td>\n",
       "      <td>-1564.051609</td>\n",
       "      <td>-1602.803590</td>\n",
       "      <td>-1592.236283</td>\n",
       "      <td>-1592.701352</td>\n",
       "      <td>-1567.341522</td>\n",
       "      <td>-1583.826871</td>\n",
       "      <td>15.312859</td>\n",
       "      <td>3</td>\n",
       "    </tr>\n",
       "    <tr>\n",
       "      <th>6</th>\n",
       "      <td>74.239239</td>\n",
       "      <td>4.241683</td>\n",
       "      <td>28.544974</td>\n",
       "      <td>1.192109</td>\n",
       "      <td>gbdt</td>\n",
       "      <td>0.05</td>\n",
       "      <td>15</td>\n",
       "      <td>2000</td>\n",
       "      <td>10</td>\n",
       "      <td>root_mean_squared_error</td>\n",
       "      <td>predict</td>\n",
       "      <td>{'boosting': 'gbdt', 'learning_rate': 0.05, 'm...</td>\n",
       "      <td>-1581.468307</td>\n",
       "      <td>-1617.837864</td>\n",
       "      <td>-1607.548816</td>\n",
       "      <td>-1607.269613</td>\n",
       "      <td>-1581.629801</td>\n",
       "      <td>-1599.150880</td>\n",
       "      <td>14.868114</td>\n",
       "      <td>5</td>\n",
       "    </tr>\n",
       "    <tr>\n",
       "      <th>7</th>\n",
       "      <td>66.167873</td>\n",
       "      <td>9.143600</td>\n",
       "      <td>17.211477</td>\n",
       "      <td>8.789468</td>\n",
       "      <td>gbdt</td>\n",
       "      <td>0.05</td>\n",
       "      <td>15</td>\n",
       "      <td>2000</td>\n",
       "      <td>15</td>\n",
       "      <td>root_mean_squared_error</td>\n",
       "      <td>predict</td>\n",
       "      <td>{'boosting': 'gbdt', 'learning_rate': 0.05, 'm...</td>\n",
       "      <td>-1545.187982</td>\n",
       "      <td>-1587.556297</td>\n",
       "      <td>-1578.192915</td>\n",
       "      <td>-1576.298724</td>\n",
       "      <td>-1552.214089</td>\n",
       "      <td>-1567.890002</td>\n",
       "      <td>16.277197</td>\n",
       "      <td>1</td>\n",
       "    </tr>\n",
       "  </tbody>\n",
       "</table>\n",
       "</div>"
      ],
      "text/plain": [
       "   mean_fit_time  std_fit_time  mean_score_time  std_score_time  \\\n",
       "0      34.676946     15.041034        15.139098        5.838036   \n",
       "1      62.000388      5.732523        26.145072        1.098423   \n",
       "2      80.362702      9.157317        32.477732        3.086459   \n",
       "3      86.685722      2.866936        33.159373        3.176140   \n",
       "4      61.022343      5.519270        22.938407        2.495382   \n",
       "5      56.020308      4.133146        23.317012        2.028133   \n",
       "6      74.239239      4.241683        28.544974        1.192109   \n",
       "7      66.167873      9.143600        17.211477        8.789468   \n",
       "\n",
       "  param_boosting param_learning_rate param_max_depth param_num_iterations  \\\n",
       "0           gbdt                0.05              10                 1500   \n",
       "1           gbdt                0.05              10                 1500   \n",
       "2           gbdt                0.05              10                 2000   \n",
       "3           gbdt                0.05              10                 2000   \n",
       "4           gbdt                0.05              15                 1500   \n",
       "5           gbdt                0.05              15                 1500   \n",
       "6           gbdt                0.05              15                 2000   \n",
       "7           gbdt                0.05              15                 2000   \n",
       "\n",
       "  param_num_leaves          param_objective param_task  \\\n",
       "0               10  root_mean_squared_error    predict   \n",
       "1               15  root_mean_squared_error    predict   \n",
       "2               10  root_mean_squared_error    predict   \n",
       "3               15  root_mean_squared_error    predict   \n",
       "4               10  root_mean_squared_error    predict   \n",
       "5               15  root_mean_squared_error    predict   \n",
       "6               10  root_mean_squared_error    predict   \n",
       "7               15  root_mean_squared_error    predict   \n",
       "\n",
       "                                              params  split0_test_score  \\\n",
       "0  {'boosting': 'gbdt', 'learning_rate': 0.05, 'm...       -1602.657205   \n",
       "1  {'boosting': 'gbdt', 'learning_rate': 0.05, 'm...       -1562.923858   \n",
       "2  {'boosting': 'gbdt', 'learning_rate': 0.05, 'm...       -1581.468307   \n",
       "3  {'boosting': 'gbdt', 'learning_rate': 0.05, 'm...       -1546.476979   \n",
       "4  {'boosting': 'gbdt', 'learning_rate': 0.05, 'm...       -1602.657205   \n",
       "5  {'boosting': 'gbdt', 'learning_rate': 0.05, 'm...       -1564.051609   \n",
       "6  {'boosting': 'gbdt', 'learning_rate': 0.05, 'm...       -1581.468307   \n",
       "7  {'boosting': 'gbdt', 'learning_rate': 0.05, 'm...       -1545.187982   \n",
       "\n",
       "   split1_test_score  split2_test_score  split3_test_score  split4_test_score  \\\n",
       "0       -1635.279847       -1624.545716       -1626.946100       -1598.209578   \n",
       "1       -1603.492063       -1589.318212       -1594.768821       -1569.173701   \n",
       "2       -1617.837864       -1607.548816       -1607.269613       -1581.629801   \n",
       "3       -1588.268252       -1573.879150       -1578.299797       -1554.133684   \n",
       "4       -1635.279847       -1624.545716       -1626.946100       -1598.209578   \n",
       "5       -1602.803590       -1592.236283       -1592.701352       -1567.341522   \n",
       "6       -1617.837864       -1607.548816       -1607.269613       -1581.629801   \n",
       "7       -1587.556297       -1578.192915       -1576.298724       -1552.214089   \n",
       "\n",
       "   mean_test_score  std_test_score  rank_test_score  \n",
       "0     -1617.527689       14.473555                7  \n",
       "1     -1583.935331       15.415534                4  \n",
       "2     -1599.150880       14.868114                5  \n",
       "3     -1568.211572       15.535402                2  \n",
       "4     -1617.527689       14.473555                7  \n",
       "5     -1583.826871       15.312859                3  \n",
       "6     -1599.150880       14.868114                5  \n",
       "7     -1567.890002       16.277197                1  "
      ]
     },
     "metadata": {},
     "output_type": "display_data"
    },
    {
     "data": {
      "text/html": [
       "<div>\n",
       "<style scoped>\n",
       "    .dataframe tbody tr th:only-of-type {\n",
       "        vertical-align: middle;\n",
       "    }\n",
       "\n",
       "    .dataframe tbody tr th {\n",
       "        vertical-align: top;\n",
       "    }\n",
       "\n",
       "    .dataframe thead th {\n",
       "        text-align: right;\n",
       "    }\n",
       "</style>\n",
       "<table border=\"1\" class=\"dataframe\">\n",
       "  <thead>\n",
       "    <tr style=\"text-align: right;\">\n",
       "      <th></th>\n",
       "      <th>mean_fit_time</th>\n",
       "      <th>std_fit_time</th>\n",
       "      <th>mean_score_time</th>\n",
       "      <th>std_score_time</th>\n",
       "      <th>param_boosting</th>\n",
       "      <th>param_learning_rate</th>\n",
       "      <th>param_max_depth</th>\n",
       "      <th>param_num_iterations</th>\n",
       "      <th>param_num_leaves</th>\n",
       "      <th>param_objective</th>\n",
       "      <th>param_task</th>\n",
       "      <th>params</th>\n",
       "      <th>split0_test_score</th>\n",
       "      <th>split1_test_score</th>\n",
       "      <th>split2_test_score</th>\n",
       "      <th>split3_test_score</th>\n",
       "      <th>split4_test_score</th>\n",
       "      <th>mean_test_score</th>\n",
       "      <th>std_test_score</th>\n",
       "      <th>rank_test_score</th>\n",
       "    </tr>\n",
       "  </thead>\n",
       "  <tbody>\n",
       "    <tr>\n",
       "      <th>7</th>\n",
       "      <td>66.167873</td>\n",
       "      <td>9.1436</td>\n",
       "      <td>17.211477</td>\n",
       "      <td>8.789468</td>\n",
       "      <td>gbdt</td>\n",
       "      <td>0.05</td>\n",
       "      <td>15</td>\n",
       "      <td>2000</td>\n",
       "      <td>15</td>\n",
       "      <td>root_mean_squared_error</td>\n",
       "      <td>predict</td>\n",
       "      <td>{'boosting': 'gbdt', 'learning_rate': 0.05, 'm...</td>\n",
       "      <td>-1545.187982</td>\n",
       "      <td>-1587.556297</td>\n",
       "      <td>-1578.192915</td>\n",
       "      <td>-1576.298724</td>\n",
       "      <td>-1552.214089</td>\n",
       "      <td>-1567.890002</td>\n",
       "      <td>16.277197</td>\n",
       "      <td>1</td>\n",
       "    </tr>\n",
       "  </tbody>\n",
       "</table>\n",
       "</div>"
      ],
      "text/plain": [
       "   mean_fit_time  std_fit_time  mean_score_time  std_score_time  \\\n",
       "7      66.167873        9.1436        17.211477        8.789468   \n",
       "\n",
       "  param_boosting param_learning_rate param_max_depth param_num_iterations  \\\n",
       "7           gbdt                0.05              15                 2000   \n",
       "\n",
       "  param_num_leaves          param_objective param_task  \\\n",
       "7               15  root_mean_squared_error    predict   \n",
       "\n",
       "                                              params  split0_test_score  \\\n",
       "7  {'boosting': 'gbdt', 'learning_rate': 0.05, 'm...       -1545.187982   \n",
       "\n",
       "   split1_test_score  split2_test_score  split3_test_score  split4_test_score  \\\n",
       "7       -1587.556297       -1578.192915       -1576.298724       -1552.214089   \n",
       "\n",
       "   mean_test_score  std_test_score  rank_test_score  \n",
       "7     -1567.890002       16.277197                1  "
      ]
     },
     "metadata": {},
     "output_type": "display_data"
    },
    {
     "name": "stdout",
     "output_type": "stream",
     "text": [
      "Fit time: 66.16787252426147, predict time: 17.211476707458495\n"
     ]
    }
   ],
   "source": [
    "results = pd.DataFrame(gsearch_lgb.cv_results_)\n",
    "display(results)\n",
    "display(results[results['rank_test_score']==1])\n",
    "fit_time = results[results['rank_test_score']==1]['mean_fit_time'].values[0]\n",
    "predict_time = results[results['rank_test_score']==1]['mean_score_time'].values[0]\n",
    "print(f'Fit time: {fit_time}, predict time: {predict_time}')"
   ]
  },
  {
   "cell_type": "markdown",
   "metadata": {},
   "source": [
    "Fit time: 68.361079788208, predict time: 17.903288888931275"
   ]
  },
  {
   "cell_type": "markdown",
   "metadata": {},
   "source": [
    "Обучим модель случайного леса, подбирая гиперпараметры с помощью поиска сеткой."
   ]
  },
  {
   "cell_type": "code",
   "execution_count": 21,
   "metadata": {
    "scrolled": false
   },
   "outputs": [
    {
     "name": "stdout",
     "output_type": "stream",
     "text": [
      "RMSE: 1636.4455546915478\n",
      "CPU times: user 3min 15s, sys: 439 ms, total: 3min 15s\n",
      "Wall time: 3min 15s\n"
     ]
    }
   ],
   "source": [
    "%%time\n",
    "\n",
    "forest = RandomForestRegressor(random_state=state)\n",
    "\n",
    "params = { \n",
    "    'n_estimators': [10, 15], \n",
    "    'max_depth': [3, 5, 10, 15], \n",
    "    'min_samples_leaf': [1, 2, 5], \n",
    "}\n",
    "\n",
    "clf = GridSearchCV(estimator=forest, param_grid=params, scoring='neg_mean_squared_error', cv=5)\n",
    "clf.fit(x_train_oe, y_train)\n",
    "best_params = clf.best_params_\n",
    "score = clf.best_score_\n",
    "print(\"RMSE:\", np.sqrt(-score))\n",
    "\n"
   ]
  },
  {
   "cell_type": "code",
   "execution_count": 22,
   "metadata": {},
   "outputs": [
    {
     "data": {
      "text/html": [
       "<div>\n",
       "<style scoped>\n",
       "    .dataframe tbody tr th:only-of-type {\n",
       "        vertical-align: middle;\n",
       "    }\n",
       "\n",
       "    .dataframe tbody tr th {\n",
       "        vertical-align: top;\n",
       "    }\n",
       "\n",
       "    .dataframe thead th {\n",
       "        text-align: right;\n",
       "    }\n",
       "</style>\n",
       "<table border=\"1\" class=\"dataframe\">\n",
       "  <thead>\n",
       "    <tr style=\"text-align: right;\">\n",
       "      <th></th>\n",
       "      <th>mean_fit_time</th>\n",
       "      <th>std_fit_time</th>\n",
       "      <th>mean_score_time</th>\n",
       "      <th>std_score_time</th>\n",
       "      <th>param_max_depth</th>\n",
       "      <th>param_min_samples_leaf</th>\n",
       "      <th>param_n_estimators</th>\n",
       "      <th>params</th>\n",
       "      <th>split0_test_score</th>\n",
       "      <th>split1_test_score</th>\n",
       "      <th>split2_test_score</th>\n",
       "      <th>split3_test_score</th>\n",
       "      <th>split4_test_score</th>\n",
       "      <th>mean_test_score</th>\n",
       "      <th>std_test_score</th>\n",
       "      <th>rank_test_score</th>\n",
       "    </tr>\n",
       "  </thead>\n",
       "  <tbody>\n",
       "    <tr>\n",
       "      <th>0</th>\n",
       "      <td>0.582350</td>\n",
       "      <td>0.017164</td>\n",
       "      <td>0.012053</td>\n",
       "      <td>0.000213</td>\n",
       "      <td>3</td>\n",
       "      <td>1</td>\n",
       "      <td>10</td>\n",
       "      <td>{'max_depth': 3, 'min_samples_leaf': 1, 'n_est...</td>\n",
       "      <td>-8.029187e+06</td>\n",
       "      <td>-8.163029e+06</td>\n",
       "      <td>-8.152710e+06</td>\n",
       "      <td>-8.398427e+06</td>\n",
       "      <td>-8.255104e+06</td>\n",
       "      <td>-8.199692e+06</td>\n",
       "      <td>122629.304531</td>\n",
       "      <td>19</td>\n",
       "    </tr>\n",
       "    <tr>\n",
       "      <th>1</th>\n",
       "      <td>0.901869</td>\n",
       "      <td>0.068514</td>\n",
       "      <td>0.017372</td>\n",
       "      <td>0.000973</td>\n",
       "      <td>3</td>\n",
       "      <td>1</td>\n",
       "      <td>15</td>\n",
       "      <td>{'max_depth': 3, 'min_samples_leaf': 1, 'n_est...</td>\n",
       "      <td>-8.016350e+06</td>\n",
       "      <td>-8.165780e+06</td>\n",
       "      <td>-8.192953e+06</td>\n",
       "      <td>-8.415133e+06</td>\n",
       "      <td>-8.312404e+06</td>\n",
       "      <td>-8.220524e+06</td>\n",
       "      <td>135468.563444</td>\n",
       "      <td>22</td>\n",
       "    </tr>\n",
       "    <tr>\n",
       "      <th>2</th>\n",
       "      <td>0.640107</td>\n",
       "      <td>0.017646</td>\n",
       "      <td>0.013435</td>\n",
       "      <td>0.000294</td>\n",
       "      <td>3</td>\n",
       "      <td>2</td>\n",
       "      <td>10</td>\n",
       "      <td>{'max_depth': 3, 'min_samples_leaf': 2, 'n_est...</td>\n",
       "      <td>-8.029187e+06</td>\n",
       "      <td>-8.163029e+06</td>\n",
       "      <td>-8.152710e+06</td>\n",
       "      <td>-8.398427e+06</td>\n",
       "      <td>-8.255104e+06</td>\n",
       "      <td>-8.199692e+06</td>\n",
       "      <td>122629.304531</td>\n",
       "      <td>19</td>\n",
       "    </tr>\n",
       "    <tr>\n",
       "      <th>3</th>\n",
       "      <td>0.870008</td>\n",
       "      <td>0.015379</td>\n",
       "      <td>0.016677</td>\n",
       "      <td>0.000563</td>\n",
       "      <td>3</td>\n",
       "      <td>2</td>\n",
       "      <td>15</td>\n",
       "      <td>{'max_depth': 3, 'min_samples_leaf': 2, 'n_est...</td>\n",
       "      <td>-8.016350e+06</td>\n",
       "      <td>-8.165780e+06</td>\n",
       "      <td>-8.192953e+06</td>\n",
       "      <td>-8.415133e+06</td>\n",
       "      <td>-8.312404e+06</td>\n",
       "      <td>-8.220524e+06</td>\n",
       "      <td>135468.563444</td>\n",
       "      <td>22</td>\n",
       "    </tr>\n",
       "    <tr>\n",
       "      <th>4</th>\n",
       "      <td>0.565002</td>\n",
       "      <td>0.002100</td>\n",
       "      <td>0.012026</td>\n",
       "      <td>0.000325</td>\n",
       "      <td>3</td>\n",
       "      <td>5</td>\n",
       "      <td>10</td>\n",
       "      <td>{'max_depth': 3, 'min_samples_leaf': 5, 'n_est...</td>\n",
       "      <td>-8.029187e+06</td>\n",
       "      <td>-8.163029e+06</td>\n",
       "      <td>-8.152710e+06</td>\n",
       "      <td>-8.398427e+06</td>\n",
       "      <td>-8.255104e+06</td>\n",
       "      <td>-8.199692e+06</td>\n",
       "      <td>122629.304531</td>\n",
       "      <td>19</td>\n",
       "    </tr>\n",
       "    <tr>\n",
       "      <th>5</th>\n",
       "      <td>0.866257</td>\n",
       "      <td>0.024602</td>\n",
       "      <td>0.016242</td>\n",
       "      <td>0.000394</td>\n",
       "      <td>3</td>\n",
       "      <td>5</td>\n",
       "      <td>15</td>\n",
       "      <td>{'max_depth': 3, 'min_samples_leaf': 5, 'n_est...</td>\n",
       "      <td>-8.016350e+06</td>\n",
       "      <td>-8.165780e+06</td>\n",
       "      <td>-8.192953e+06</td>\n",
       "      <td>-8.415133e+06</td>\n",
       "      <td>-8.312404e+06</td>\n",
       "      <td>-8.220524e+06</td>\n",
       "      <td>135468.563444</td>\n",
       "      <td>22</td>\n",
       "    </tr>\n",
       "    <tr>\n",
       "      <th>6</th>\n",
       "      <td>0.917926</td>\n",
       "      <td>0.033620</td>\n",
       "      <td>0.016721</td>\n",
       "      <td>0.000665</td>\n",
       "      <td>5</td>\n",
       "      <td>1</td>\n",
       "      <td>10</td>\n",
       "      <td>{'max_depth': 5, 'min_samples_leaf': 1, 'n_est...</td>\n",
       "      <td>-5.613594e+06</td>\n",
       "      <td>-5.691450e+06</td>\n",
       "      <td>-5.490704e+06</td>\n",
       "      <td>-5.827679e+06</td>\n",
       "      <td>-5.745868e+06</td>\n",
       "      <td>-5.673859e+06</td>\n",
       "      <td>115180.631181</td>\n",
       "      <td>13</td>\n",
       "    </tr>\n",
       "    <tr>\n",
       "      <th>7</th>\n",
       "      <td>1.359649</td>\n",
       "      <td>0.024841</td>\n",
       "      <td>0.023382</td>\n",
       "      <td>0.000498</td>\n",
       "      <td>5</td>\n",
       "      <td>1</td>\n",
       "      <td>15</td>\n",
       "      <td>{'max_depth': 5, 'min_samples_leaf': 1, 'n_est...</td>\n",
       "      <td>-5.580093e+06</td>\n",
       "      <td>-5.693669e+06</td>\n",
       "      <td>-5.534773e+06</td>\n",
       "      <td>-5.839040e+06</td>\n",
       "      <td>-5.780411e+06</td>\n",
       "      <td>-5.685597e+06</td>\n",
       "      <td>115306.888925</td>\n",
       "      <td>16</td>\n",
       "    </tr>\n",
       "    <tr>\n",
       "      <th>8</th>\n",
       "      <td>0.869504</td>\n",
       "      <td>0.012387</td>\n",
       "      <td>0.016009</td>\n",
       "      <td>0.000248</td>\n",
       "      <td>5</td>\n",
       "      <td>2</td>\n",
       "      <td>10</td>\n",
       "      <td>{'max_depth': 5, 'min_samples_leaf': 2, 'n_est...</td>\n",
       "      <td>-5.613594e+06</td>\n",
       "      <td>-5.691450e+06</td>\n",
       "      <td>-5.490704e+06</td>\n",
       "      <td>-5.827679e+06</td>\n",
       "      <td>-5.745868e+06</td>\n",
       "      <td>-5.673859e+06</td>\n",
       "      <td>115180.631181</td>\n",
       "      <td>13</td>\n",
       "    </tr>\n",
       "    <tr>\n",
       "      <th>9</th>\n",
       "      <td>1.328282</td>\n",
       "      <td>0.032528</td>\n",
       "      <td>0.022077</td>\n",
       "      <td>0.000372</td>\n",
       "      <td>5</td>\n",
       "      <td>2</td>\n",
       "      <td>15</td>\n",
       "      <td>{'max_depth': 5, 'min_samples_leaf': 2, 'n_est...</td>\n",
       "      <td>-5.580093e+06</td>\n",
       "      <td>-5.693669e+06</td>\n",
       "      <td>-5.534773e+06</td>\n",
       "      <td>-5.839040e+06</td>\n",
       "      <td>-5.780411e+06</td>\n",
       "      <td>-5.685597e+06</td>\n",
       "      <td>115306.888925</td>\n",
       "      <td>16</td>\n",
       "    </tr>\n",
       "    <tr>\n",
       "      <th>10</th>\n",
       "      <td>0.935332</td>\n",
       "      <td>0.050166</td>\n",
       "      <td>0.017439</td>\n",
       "      <td>0.001036</td>\n",
       "      <td>5</td>\n",
       "      <td>5</td>\n",
       "      <td>10</td>\n",
       "      <td>{'max_depth': 5, 'min_samples_leaf': 5, 'n_est...</td>\n",
       "      <td>-5.613594e+06</td>\n",
       "      <td>-5.691450e+06</td>\n",
       "      <td>-5.490704e+06</td>\n",
       "      <td>-5.827679e+06</td>\n",
       "      <td>-5.745868e+06</td>\n",
       "      <td>-5.673859e+06</td>\n",
       "      <td>115180.631181</td>\n",
       "      <td>13</td>\n",
       "    </tr>\n",
       "    <tr>\n",
       "      <th>11</th>\n",
       "      <td>1.290545</td>\n",
       "      <td>0.026934</td>\n",
       "      <td>0.022850</td>\n",
       "      <td>0.001516</td>\n",
       "      <td>5</td>\n",
       "      <td>5</td>\n",
       "      <td>15</td>\n",
       "      <td>{'max_depth': 5, 'min_samples_leaf': 5, 'n_est...</td>\n",
       "      <td>-5.580093e+06</td>\n",
       "      <td>-5.693669e+06</td>\n",
       "      <td>-5.534773e+06</td>\n",
       "      <td>-5.839040e+06</td>\n",
       "      <td>-5.780411e+06</td>\n",
       "      <td>-5.685597e+06</td>\n",
       "      <td>115306.888925</td>\n",
       "      <td>16</td>\n",
       "    </tr>\n",
       "    <tr>\n",
       "      <th>12</th>\n",
       "      <td>1.518042</td>\n",
       "      <td>0.042318</td>\n",
       "      <td>0.033550</td>\n",
       "      <td>0.000883</td>\n",
       "      <td>10</td>\n",
       "      <td>1</td>\n",
       "      <td>10</td>\n",
       "      <td>{'max_depth': 10, 'min_samples_leaf': 1, 'n_es...</td>\n",
       "      <td>-3.429219e+06</td>\n",
       "      <td>-3.572815e+06</td>\n",
       "      <td>-3.538617e+06</td>\n",
       "      <td>-3.600714e+06</td>\n",
       "      <td>-3.459024e+06</td>\n",
       "      <td>-3.520078e+06</td>\n",
       "      <td>65741.866248</td>\n",
       "      <td>11</td>\n",
       "    </tr>\n",
       "    <tr>\n",
       "      <th>13</th>\n",
       "      <td>2.262354</td>\n",
       "      <td>0.030104</td>\n",
       "      <td>0.047911</td>\n",
       "      <td>0.001825</td>\n",
       "      <td>10</td>\n",
       "      <td>1</td>\n",
       "      <td>15</td>\n",
       "      <td>{'max_depth': 10, 'min_samples_leaf': 1, 'n_es...</td>\n",
       "      <td>-3.410209e+06</td>\n",
       "      <td>-3.538808e+06</td>\n",
       "      <td>-3.522572e+06</td>\n",
       "      <td>-3.588233e+06</td>\n",
       "      <td>-3.446869e+06</td>\n",
       "      <td>-3.501338e+06</td>\n",
       "      <td>64307.152999</td>\n",
       "      <td>8</td>\n",
       "    </tr>\n",
       "    <tr>\n",
       "      <th>14</th>\n",
       "      <td>1.553968</td>\n",
       "      <td>0.048804</td>\n",
       "      <td>0.034901</td>\n",
       "      <td>0.003676</td>\n",
       "      <td>10</td>\n",
       "      <td>2</td>\n",
       "      <td>10</td>\n",
       "      <td>{'max_depth': 10, 'min_samples_leaf': 2, 'n_es...</td>\n",
       "      <td>-3.434463e+06</td>\n",
       "      <td>-3.568454e+06</td>\n",
       "      <td>-3.538133e+06</td>\n",
       "      <td>-3.592758e+06</td>\n",
       "      <td>-3.454297e+06</td>\n",
       "      <td>-3.517621e+06</td>\n",
       "      <td>62570.859384</td>\n",
       "      <td>10</td>\n",
       "    </tr>\n",
       "    <tr>\n",
       "      <th>15</th>\n",
       "      <td>2.257822</td>\n",
       "      <td>0.033676</td>\n",
       "      <td>0.048494</td>\n",
       "      <td>0.001545</td>\n",
       "      <td>10</td>\n",
       "      <td>2</td>\n",
       "      <td>15</td>\n",
       "      <td>{'max_depth': 10, 'min_samples_leaf': 2, 'n_es...</td>\n",
       "      <td>-3.416430e+06</td>\n",
       "      <td>-3.533904e+06</td>\n",
       "      <td>-3.520942e+06</td>\n",
       "      <td>-3.583470e+06</td>\n",
       "      <td>-3.440639e+06</td>\n",
       "      <td>-3.499077e+06</td>\n",
       "      <td>61739.309262</td>\n",
       "      <td>7</td>\n",
       "    </tr>\n",
       "    <tr>\n",
       "      <th>16</th>\n",
       "      <td>1.508016</td>\n",
       "      <td>0.035218</td>\n",
       "      <td>0.032868</td>\n",
       "      <td>0.000368</td>\n",
       "      <td>10</td>\n",
       "      <td>5</td>\n",
       "      <td>10</td>\n",
       "      <td>{'max_depth': 10, 'min_samples_leaf': 5, 'n_es...</td>\n",
       "      <td>-3.437342e+06</td>\n",
       "      <td>-3.582018e+06</td>\n",
       "      <td>-3.557419e+06</td>\n",
       "      <td>-3.604186e+06</td>\n",
       "      <td>-3.475203e+06</td>\n",
       "      <td>-3.531234e+06</td>\n",
       "      <td>64096.527775</td>\n",
       "      <td>12</td>\n",
       "    </tr>\n",
       "    <tr>\n",
       "      <th>17</th>\n",
       "      <td>2.245845</td>\n",
       "      <td>0.039192</td>\n",
       "      <td>0.046941</td>\n",
       "      <td>0.000422</td>\n",
       "      <td>10</td>\n",
       "      <td>5</td>\n",
       "      <td>15</td>\n",
       "      <td>{'max_depth': 10, 'min_samples_leaf': 5, 'n_es...</td>\n",
       "      <td>-3.422464e+06</td>\n",
       "      <td>-3.544099e+06</td>\n",
       "      <td>-3.536387e+06</td>\n",
       "      <td>-3.594370e+06</td>\n",
       "      <td>-3.459155e+06</td>\n",
       "      <td>-3.511295e+06</td>\n",
       "      <td>61994.457879</td>\n",
       "      <td>9</td>\n",
       "    </tr>\n",
       "    <tr>\n",
       "      <th>18</th>\n",
       "      <td>2.044753</td>\n",
       "      <td>0.043683</td>\n",
       "      <td>0.065129</td>\n",
       "      <td>0.002989</td>\n",
       "      <td>15</td>\n",
       "      <td>1</td>\n",
       "      <td>10</td>\n",
       "      <td>{'max_depth': 15, 'min_samples_leaf': 1, 'n_es...</td>\n",
       "      <td>-2.610753e+06</td>\n",
       "      <td>-2.745831e+06</td>\n",
       "      <td>-2.769639e+06</td>\n",
       "      <td>-2.776456e+06</td>\n",
       "      <td>-2.702607e+06</td>\n",
       "      <td>-2.721057e+06</td>\n",
       "      <td>60910.491864</td>\n",
       "      <td>4</td>\n",
       "    </tr>\n",
       "    <tr>\n",
       "      <th>19</th>\n",
       "      <td>3.057969</td>\n",
       "      <td>0.039241</td>\n",
       "      <td>0.094810</td>\n",
       "      <td>0.001197</td>\n",
       "      <td>15</td>\n",
       "      <td>1</td>\n",
       "      <td>15</td>\n",
       "      <td>{'max_depth': 15, 'min_samples_leaf': 1, 'n_es...</td>\n",
       "      <td>-2.577395e+06</td>\n",
       "      <td>-2.700847e+06</td>\n",
       "      <td>-2.741077e+06</td>\n",
       "      <td>-2.746789e+06</td>\n",
       "      <td>-2.654339e+06</td>\n",
       "      <td>-2.684089e+06</td>\n",
       "      <td>62814.603782</td>\n",
       "      <td>2</td>\n",
       "    </tr>\n",
       "    <tr>\n",
       "      <th>20</th>\n",
       "      <td>2.023694</td>\n",
       "      <td>0.021471</td>\n",
       "      <td>0.060459</td>\n",
       "      <td>0.000635</td>\n",
       "      <td>15</td>\n",
       "      <td>2</td>\n",
       "      <td>10</td>\n",
       "      <td>{'max_depth': 15, 'min_samples_leaf': 2, 'n_es...</td>\n",
       "      <td>-2.605787e+06</td>\n",
       "      <td>-2.742428e+06</td>\n",
       "      <td>-2.748944e+06</td>\n",
       "      <td>-2.767327e+06</td>\n",
       "      <td>-2.677685e+06</td>\n",
       "      <td>-2.708434e+06</td>\n",
       "      <td>59576.660089</td>\n",
       "      <td>3</td>\n",
       "    </tr>\n",
       "    <tr>\n",
       "      <th>21</th>\n",
       "      <td>3.018049</td>\n",
       "      <td>0.036872</td>\n",
       "      <td>0.093514</td>\n",
       "      <td>0.008098</td>\n",
       "      <td>15</td>\n",
       "      <td>2</td>\n",
       "      <td>15</td>\n",
       "      <td>{'max_depth': 15, 'min_samples_leaf': 2, 'n_es...</td>\n",
       "      <td>-2.577897e+06</td>\n",
       "      <td>-2.698212e+06</td>\n",
       "      <td>-2.731740e+06</td>\n",
       "      <td>-2.739831e+06</td>\n",
       "      <td>-2.642089e+06</td>\n",
       "      <td>-2.677954e+06</td>\n",
       "      <td>60712.125569</td>\n",
       "      <td>1</td>\n",
       "    </tr>\n",
       "    <tr>\n",
       "      <th>22</th>\n",
       "      <td>1.953660</td>\n",
       "      <td>0.015670</td>\n",
       "      <td>0.054615</td>\n",
       "      <td>0.000758</td>\n",
       "      <td>15</td>\n",
       "      <td>5</td>\n",
       "      <td>10</td>\n",
       "      <td>{'max_depth': 15, 'min_samples_leaf': 5, 'n_es...</td>\n",
       "      <td>-2.653702e+06</td>\n",
       "      <td>-2.807209e+06</td>\n",
       "      <td>-2.818277e+06</td>\n",
       "      <td>-2.820690e+06</td>\n",
       "      <td>-2.736597e+06</td>\n",
       "      <td>-2.767295e+06</td>\n",
       "      <td>64635.856657</td>\n",
       "      <td>6</td>\n",
       "    </tr>\n",
       "    <tr>\n",
       "      <th>23</th>\n",
       "      <td>2.915807</td>\n",
       "      <td>0.047993</td>\n",
       "      <td>0.080424</td>\n",
       "      <td>0.001105</td>\n",
       "      <td>15</td>\n",
       "      <td>5</td>\n",
       "      <td>15</td>\n",
       "      <td>{'max_depth': 15, 'min_samples_leaf': 5, 'n_es...</td>\n",
       "      <td>-2.634592e+06</td>\n",
       "      <td>-2.774168e+06</td>\n",
       "      <td>-2.791330e+06</td>\n",
       "      <td>-2.797657e+06</td>\n",
       "      <td>-2.702209e+06</td>\n",
       "      <td>-2.739991e+06</td>\n",
       "      <td>62714.391087</td>\n",
       "      <td>5</td>\n",
       "    </tr>\n",
       "  </tbody>\n",
       "</table>\n",
       "</div>"
      ],
      "text/plain": [
       "    mean_fit_time  std_fit_time  mean_score_time  std_score_time  \\\n",
       "0        0.582350      0.017164         0.012053        0.000213   \n",
       "1        0.901869      0.068514         0.017372        0.000973   \n",
       "2        0.640107      0.017646         0.013435        0.000294   \n",
       "3        0.870008      0.015379         0.016677        0.000563   \n",
       "4        0.565002      0.002100         0.012026        0.000325   \n",
       "5        0.866257      0.024602         0.016242        0.000394   \n",
       "6        0.917926      0.033620         0.016721        0.000665   \n",
       "7        1.359649      0.024841         0.023382        0.000498   \n",
       "8        0.869504      0.012387         0.016009        0.000248   \n",
       "9        1.328282      0.032528         0.022077        0.000372   \n",
       "10       0.935332      0.050166         0.017439        0.001036   \n",
       "11       1.290545      0.026934         0.022850        0.001516   \n",
       "12       1.518042      0.042318         0.033550        0.000883   \n",
       "13       2.262354      0.030104         0.047911        0.001825   \n",
       "14       1.553968      0.048804         0.034901        0.003676   \n",
       "15       2.257822      0.033676         0.048494        0.001545   \n",
       "16       1.508016      0.035218         0.032868        0.000368   \n",
       "17       2.245845      0.039192         0.046941        0.000422   \n",
       "18       2.044753      0.043683         0.065129        0.002989   \n",
       "19       3.057969      0.039241         0.094810        0.001197   \n",
       "20       2.023694      0.021471         0.060459        0.000635   \n",
       "21       3.018049      0.036872         0.093514        0.008098   \n",
       "22       1.953660      0.015670         0.054615        0.000758   \n",
       "23       2.915807      0.047993         0.080424        0.001105   \n",
       "\n",
       "   param_max_depth param_min_samples_leaf param_n_estimators  \\\n",
       "0                3                      1                 10   \n",
       "1                3                      1                 15   \n",
       "2                3                      2                 10   \n",
       "3                3                      2                 15   \n",
       "4                3                      5                 10   \n",
       "5                3                      5                 15   \n",
       "6                5                      1                 10   \n",
       "7                5                      1                 15   \n",
       "8                5                      2                 10   \n",
       "9                5                      2                 15   \n",
       "10               5                      5                 10   \n",
       "11               5                      5                 15   \n",
       "12              10                      1                 10   \n",
       "13              10                      1                 15   \n",
       "14              10                      2                 10   \n",
       "15              10                      2                 15   \n",
       "16              10                      5                 10   \n",
       "17              10                      5                 15   \n",
       "18              15                      1                 10   \n",
       "19              15                      1                 15   \n",
       "20              15                      2                 10   \n",
       "21              15                      2                 15   \n",
       "22              15                      5                 10   \n",
       "23              15                      5                 15   \n",
       "\n",
       "                                               params  split0_test_score  \\\n",
       "0   {'max_depth': 3, 'min_samples_leaf': 1, 'n_est...      -8.029187e+06   \n",
       "1   {'max_depth': 3, 'min_samples_leaf': 1, 'n_est...      -8.016350e+06   \n",
       "2   {'max_depth': 3, 'min_samples_leaf': 2, 'n_est...      -8.029187e+06   \n",
       "3   {'max_depth': 3, 'min_samples_leaf': 2, 'n_est...      -8.016350e+06   \n",
       "4   {'max_depth': 3, 'min_samples_leaf': 5, 'n_est...      -8.029187e+06   \n",
       "5   {'max_depth': 3, 'min_samples_leaf': 5, 'n_est...      -8.016350e+06   \n",
       "6   {'max_depth': 5, 'min_samples_leaf': 1, 'n_est...      -5.613594e+06   \n",
       "7   {'max_depth': 5, 'min_samples_leaf': 1, 'n_est...      -5.580093e+06   \n",
       "8   {'max_depth': 5, 'min_samples_leaf': 2, 'n_est...      -5.613594e+06   \n",
       "9   {'max_depth': 5, 'min_samples_leaf': 2, 'n_est...      -5.580093e+06   \n",
       "10  {'max_depth': 5, 'min_samples_leaf': 5, 'n_est...      -5.613594e+06   \n",
       "11  {'max_depth': 5, 'min_samples_leaf': 5, 'n_est...      -5.580093e+06   \n",
       "12  {'max_depth': 10, 'min_samples_leaf': 1, 'n_es...      -3.429219e+06   \n",
       "13  {'max_depth': 10, 'min_samples_leaf': 1, 'n_es...      -3.410209e+06   \n",
       "14  {'max_depth': 10, 'min_samples_leaf': 2, 'n_es...      -3.434463e+06   \n",
       "15  {'max_depth': 10, 'min_samples_leaf': 2, 'n_es...      -3.416430e+06   \n",
       "16  {'max_depth': 10, 'min_samples_leaf': 5, 'n_es...      -3.437342e+06   \n",
       "17  {'max_depth': 10, 'min_samples_leaf': 5, 'n_es...      -3.422464e+06   \n",
       "18  {'max_depth': 15, 'min_samples_leaf': 1, 'n_es...      -2.610753e+06   \n",
       "19  {'max_depth': 15, 'min_samples_leaf': 1, 'n_es...      -2.577395e+06   \n",
       "20  {'max_depth': 15, 'min_samples_leaf': 2, 'n_es...      -2.605787e+06   \n",
       "21  {'max_depth': 15, 'min_samples_leaf': 2, 'n_es...      -2.577897e+06   \n",
       "22  {'max_depth': 15, 'min_samples_leaf': 5, 'n_es...      -2.653702e+06   \n",
       "23  {'max_depth': 15, 'min_samples_leaf': 5, 'n_es...      -2.634592e+06   \n",
       "\n",
       "    split1_test_score  split2_test_score  split3_test_score  \\\n",
       "0       -8.163029e+06      -8.152710e+06      -8.398427e+06   \n",
       "1       -8.165780e+06      -8.192953e+06      -8.415133e+06   \n",
       "2       -8.163029e+06      -8.152710e+06      -8.398427e+06   \n",
       "3       -8.165780e+06      -8.192953e+06      -8.415133e+06   \n",
       "4       -8.163029e+06      -8.152710e+06      -8.398427e+06   \n",
       "5       -8.165780e+06      -8.192953e+06      -8.415133e+06   \n",
       "6       -5.691450e+06      -5.490704e+06      -5.827679e+06   \n",
       "7       -5.693669e+06      -5.534773e+06      -5.839040e+06   \n",
       "8       -5.691450e+06      -5.490704e+06      -5.827679e+06   \n",
       "9       -5.693669e+06      -5.534773e+06      -5.839040e+06   \n",
       "10      -5.691450e+06      -5.490704e+06      -5.827679e+06   \n",
       "11      -5.693669e+06      -5.534773e+06      -5.839040e+06   \n",
       "12      -3.572815e+06      -3.538617e+06      -3.600714e+06   \n",
       "13      -3.538808e+06      -3.522572e+06      -3.588233e+06   \n",
       "14      -3.568454e+06      -3.538133e+06      -3.592758e+06   \n",
       "15      -3.533904e+06      -3.520942e+06      -3.583470e+06   \n",
       "16      -3.582018e+06      -3.557419e+06      -3.604186e+06   \n",
       "17      -3.544099e+06      -3.536387e+06      -3.594370e+06   \n",
       "18      -2.745831e+06      -2.769639e+06      -2.776456e+06   \n",
       "19      -2.700847e+06      -2.741077e+06      -2.746789e+06   \n",
       "20      -2.742428e+06      -2.748944e+06      -2.767327e+06   \n",
       "21      -2.698212e+06      -2.731740e+06      -2.739831e+06   \n",
       "22      -2.807209e+06      -2.818277e+06      -2.820690e+06   \n",
       "23      -2.774168e+06      -2.791330e+06      -2.797657e+06   \n",
       "\n",
       "    split4_test_score  mean_test_score  std_test_score  rank_test_score  \n",
       "0       -8.255104e+06    -8.199692e+06   122629.304531               19  \n",
       "1       -8.312404e+06    -8.220524e+06   135468.563444               22  \n",
       "2       -8.255104e+06    -8.199692e+06   122629.304531               19  \n",
       "3       -8.312404e+06    -8.220524e+06   135468.563444               22  \n",
       "4       -8.255104e+06    -8.199692e+06   122629.304531               19  \n",
       "5       -8.312404e+06    -8.220524e+06   135468.563444               22  \n",
       "6       -5.745868e+06    -5.673859e+06   115180.631181               13  \n",
       "7       -5.780411e+06    -5.685597e+06   115306.888925               16  \n",
       "8       -5.745868e+06    -5.673859e+06   115180.631181               13  \n",
       "9       -5.780411e+06    -5.685597e+06   115306.888925               16  \n",
       "10      -5.745868e+06    -5.673859e+06   115180.631181               13  \n",
       "11      -5.780411e+06    -5.685597e+06   115306.888925               16  \n",
       "12      -3.459024e+06    -3.520078e+06    65741.866248               11  \n",
       "13      -3.446869e+06    -3.501338e+06    64307.152999                8  \n",
       "14      -3.454297e+06    -3.517621e+06    62570.859384               10  \n",
       "15      -3.440639e+06    -3.499077e+06    61739.309262                7  \n",
       "16      -3.475203e+06    -3.531234e+06    64096.527775               12  \n",
       "17      -3.459155e+06    -3.511295e+06    61994.457879                9  \n",
       "18      -2.702607e+06    -2.721057e+06    60910.491864                4  \n",
       "19      -2.654339e+06    -2.684089e+06    62814.603782                2  \n",
       "20      -2.677685e+06    -2.708434e+06    59576.660089                3  \n",
       "21      -2.642089e+06    -2.677954e+06    60712.125569                1  \n",
       "22      -2.736597e+06    -2.767295e+06    64635.856657                6  \n",
       "23      -2.702209e+06    -2.739991e+06    62714.391087                5  "
      ]
     },
     "metadata": {},
     "output_type": "display_data"
    },
    {
     "data": {
      "text/html": [
       "<div>\n",
       "<style scoped>\n",
       "    .dataframe tbody tr th:only-of-type {\n",
       "        vertical-align: middle;\n",
       "    }\n",
       "\n",
       "    .dataframe tbody tr th {\n",
       "        vertical-align: top;\n",
       "    }\n",
       "\n",
       "    .dataframe thead th {\n",
       "        text-align: right;\n",
       "    }\n",
       "</style>\n",
       "<table border=\"1\" class=\"dataframe\">\n",
       "  <thead>\n",
       "    <tr style=\"text-align: right;\">\n",
       "      <th></th>\n",
       "      <th>mean_fit_time</th>\n",
       "      <th>std_fit_time</th>\n",
       "      <th>mean_score_time</th>\n",
       "      <th>std_score_time</th>\n",
       "      <th>param_max_depth</th>\n",
       "      <th>param_min_samples_leaf</th>\n",
       "      <th>param_n_estimators</th>\n",
       "      <th>params</th>\n",
       "      <th>split0_test_score</th>\n",
       "      <th>split1_test_score</th>\n",
       "      <th>split2_test_score</th>\n",
       "      <th>split3_test_score</th>\n",
       "      <th>split4_test_score</th>\n",
       "      <th>mean_test_score</th>\n",
       "      <th>std_test_score</th>\n",
       "      <th>rank_test_score</th>\n",
       "    </tr>\n",
       "  </thead>\n",
       "  <tbody>\n",
       "    <tr>\n",
       "      <th>21</th>\n",
       "      <td>3.018049</td>\n",
       "      <td>0.036872</td>\n",
       "      <td>0.093514</td>\n",
       "      <td>0.008098</td>\n",
       "      <td>15</td>\n",
       "      <td>2</td>\n",
       "      <td>15</td>\n",
       "      <td>{'max_depth': 15, 'min_samples_leaf': 2, 'n_es...</td>\n",
       "      <td>-2.577897e+06</td>\n",
       "      <td>-2.698212e+06</td>\n",
       "      <td>-2.731740e+06</td>\n",
       "      <td>-2.739831e+06</td>\n",
       "      <td>-2.642089e+06</td>\n",
       "      <td>-2.677954e+06</td>\n",
       "      <td>60712.125569</td>\n",
       "      <td>1</td>\n",
       "    </tr>\n",
       "  </tbody>\n",
       "</table>\n",
       "</div>"
      ],
      "text/plain": [
       "    mean_fit_time  std_fit_time  mean_score_time  std_score_time  \\\n",
       "21       3.018049      0.036872         0.093514        0.008098   \n",
       "\n",
       "   param_max_depth param_min_samples_leaf param_n_estimators  \\\n",
       "21              15                      2                 15   \n",
       "\n",
       "                                               params  split0_test_score  \\\n",
       "21  {'max_depth': 15, 'min_samples_leaf': 2, 'n_es...      -2.577897e+06   \n",
       "\n",
       "    split1_test_score  split2_test_score  split3_test_score  \\\n",
       "21      -2.698212e+06      -2.731740e+06      -2.739831e+06   \n",
       "\n",
       "    split4_test_score  mean_test_score  std_test_score  rank_test_score  \n",
       "21      -2.642089e+06    -2.677954e+06    60712.125569                1  "
      ]
     },
     "metadata": {},
     "output_type": "display_data"
    },
    {
     "name": "stdout",
     "output_type": "stream",
     "text": [
      "Fit time: 3.018049144744873, predict time: 0.09351372718811035\n"
     ]
    }
   ],
   "source": [
    "forest_results = pd.DataFrame(clf.cv_results_)\n",
    "display(forest_results)\n",
    "display(forest_results[forest_results['rank_test_score']==1])\n",
    "fit_time = forest_results[forest_results['rank_test_score']==1]['mean_fit_time'].values[0]\n",
    "predict_time = forest_results[forest_results['rank_test_score']==1]['mean_score_time'].values[0]\n",
    "print(f'Fit time: {fit_time}, predict time: {predict_time}')"
   ]
  },
  {
   "cell_type": "markdown",
   "metadata": {},
   "source": [
    "## Проверка лучше модели на тестовой выборке"
   ]
  },
  {
   "cell_type": "markdown",
   "metadata": {},
   "source": [
    "Итак, у нас получились следующие результаты: \n",
    "LightGBM: Fit time: 77.1251621723175, predict time: 17.353675603866577RMSE 1567.8900015745353\n",
    "RandomForestRegressor: Fit time: 3.347990894317627, predict time: 0.09743266105651856, RMSE 1636.445\n",
    "\n",
    "Так как заказчику важны качество предсказания, скорость предсказания и время обучения, не смотря на лучшие показатели метрики, модель LightGBM сильно проигрывает обучающему лесу по скорости обучения и предсказания, поэтому тестировать будем модель обучающего леса.\n"
   ]
  },
  {
   "cell_type": "code",
   "execution_count": 23,
   "metadata": {},
   "outputs": [
    {
     "name": "stdout",
     "output_type": "stream",
     "text": [
      " RMSE: 1612.919102\n",
      "CPU times: user 3.93 s, sys: 4.5 ms, total: 3.93 s\n",
      "Wall time: 3.94 s\n",
      "[CV 3/5; 1/8] START boosting=gbdt, learning_rate=0.05, max_depth=10, num_iterations=1500, num_leaves=10, objective=root_mean_squared_error, task=predict\n",
      "[LightGBM] [Warning] boosting is set=gbdt, boosting_type=gbdt will be ignored. Current value: boosting=gbdt\n",
      "[CV 3/5; 1/8] END boosting=gbdt, learning_rate=0.05, max_depth=10, num_iterations=1500, num_leaves=10, objective=root_mean_squared_error, task=predict; total time=  29.7s\n",
      "[CV 2/5; 2/8] START boosting=gbdt, learning_rate=0.05, max_depth=10, num_iterations=1500, num_leaves=15, objective=root_mean_squared_error, task=predict\n",
      "[LightGBM] [Warning] boosting is set=gbdt, boosting_type=gbdt will be ignored. Current value: boosting=gbdt\n",
      "[CV 2/5; 2/8] END boosting=gbdt, learning_rate=0.05, max_depth=10, num_iterations=1500, num_leaves=15, objective=root_mean_squared_error, task=predict; total time= 1.4min\n",
      "[CV 2/5; 3/8] START boosting=gbdt, learning_rate=0.05, max_depth=10, num_iterations=2000, num_leaves=10, objective=root_mean_squared_error, task=predict\n",
      "[LightGBM] [Warning] boosting is set=gbdt, boosting_type=gbdt will be ignored. Current value: boosting=gbdt\n",
      "[CV 2/5; 3/8] END boosting=gbdt, learning_rate=0.05, max_depth=10, num_iterations=2000, num_leaves=10, objective=root_mean_squared_error, task=predict; total time= 1.9min\n",
      "[CV 4/5; 4/8] START boosting=gbdt, learning_rate=0.05, max_depth=10, num_iterations=2000, num_leaves=15, objective=root_mean_squared_error, task=predict\n",
      "[LightGBM] [Warning] boosting is set=gbdt, boosting_type=gbdt will be ignored. Current value: boosting=gbdt\n",
      "[CV 4/5; 4/8] END boosting=gbdt, learning_rate=0.05, max_depth=10, num_iterations=2000, num_leaves=15, objective=root_mean_squared_error, task=predict; total time= 1.9min\n",
      "[CV 3/5; 5/8] START boosting=gbdt, learning_rate=0.05, max_depth=15, num_iterations=1500, num_leaves=10, objective=root_mean_squared_error, task=predict\n",
      "[LightGBM] [Warning] boosting is set=gbdt, boosting_type=gbdt will be ignored. Current value: boosting=gbdt\n",
      "[CV 3/5; 5/8] END boosting=gbdt, learning_rate=0.05, max_depth=15, num_iterations=1500, num_leaves=10, objective=root_mean_squared_error, task=predict; total time= 1.3min\n",
      "[CV 4/5; 6/8] START boosting=gbdt, learning_rate=0.05, max_depth=15, num_iterations=1500, num_leaves=15, objective=root_mean_squared_error, task=predict\n",
      "[LightGBM] [Warning] boosting is set=gbdt, boosting_type=gbdt will be ignored. Current value: boosting=gbdt\n",
      "[CV 4/5; 6/8] END boosting=gbdt, learning_rate=0.05, max_depth=15, num_iterations=1500, num_leaves=15, objective=root_mean_squared_error, task=predict; total time= 1.4min\n",
      "[CV 5/5; 7/8] START boosting=gbdt, learning_rate=0.05, max_depth=15, num_iterations=2000, num_leaves=10, objective=root_mean_squared_error, task=predict\n",
      "[LightGBM] [Warning] boosting is set=gbdt, boosting_type=gbdt will be ignored. Current value: boosting=gbdt\n",
      "[CV 5/5; 7/8] END boosting=gbdt, learning_rate=0.05, max_depth=15, num_iterations=2000, num_leaves=10, objective=root_mean_squared_error, task=predict; total time= 1.7min\n",
      "[CV 1/5; 1/8] START boosting=gbdt, learning_rate=0.05, max_depth=10, num_iterations=1500, num_leaves=10, objective=root_mean_squared_error, task=predict\n",
      "[LightGBM] [Warning] boosting is set=gbdt, boosting_type=gbdt will be ignored. Current value: boosting=gbdt\n",
      "[CV 1/5; 1/8] END boosting=gbdt, learning_rate=0.05, max_depth=10, num_iterations=1500, num_leaves=10, objective=root_mean_squared_error, task=predict; total time=  30.5s\n",
      "[CV 3/5; 2/8] START boosting=gbdt, learning_rate=0.05, max_depth=10, num_iterations=1500, num_leaves=15, objective=root_mean_squared_error, task=predict\n",
      "[LightGBM] [Warning] boosting is set=gbdt, boosting_type=gbdt will be ignored. Current value: boosting=gbdt\n",
      "[CV 3/5; 2/8] END boosting=gbdt, learning_rate=0.05, max_depth=10, num_iterations=1500, num_leaves=15, objective=root_mean_squared_error, task=predict; total time= 1.6min\n",
      "[CV 4/5; 3/8] START boosting=gbdt, learning_rate=0.05, max_depth=10, num_iterations=2000, num_leaves=10, objective=root_mean_squared_error, task=predict\n",
      "[LightGBM] [Warning] boosting is set=gbdt, boosting_type=gbdt will be ignored. Current value: boosting=gbdt\n",
      "[CV 4/5; 3/8] END boosting=gbdt, learning_rate=0.05, max_depth=10, num_iterations=2000, num_leaves=10, objective=root_mean_squared_error, task=predict; total time= 2.1min\n",
      "[CV 1/5; 5/8] START boosting=gbdt, learning_rate=0.05, max_depth=15, num_iterations=1500, num_leaves=10, objective=root_mean_squared_error, task=predict\n",
      "[LightGBM] [Warning] boosting is set=gbdt, boosting_type=gbdt will be ignored. Current value: boosting=gbdt\n",
      "[CV 1/5; 5/8] END boosting=gbdt, learning_rate=0.05, max_depth=15, num_iterations=1500, num_leaves=10, objective=root_mean_squared_error, task=predict; total time= 1.5min\n",
      "[CV 4/5; 5/8] START boosting=gbdt, learning_rate=0.05, max_depth=15, num_iterations=1500, num_leaves=10, objective=root_mean_squared_error, task=predict\n",
      "[LightGBM] [Warning] boosting is set=gbdt, boosting_type=gbdt will be ignored. Current value: boosting=gbdt\n",
      "[CV 4/5; 5/8] END boosting=gbdt, learning_rate=0.05, max_depth=15, num_iterations=1500, num_leaves=10, objective=root_mean_squared_error, task=predict; total time= 1.3min\n",
      "[CV 5/5; 6/8] START boosting=gbdt, learning_rate=0.05, max_depth=15, num_iterations=1500, num_leaves=15, objective=root_mean_squared_error, task=predict\n",
      "[LightGBM] [Warning] boosting is set=gbdt, boosting_type=gbdt will be ignored. Current value: boosting=gbdt\n",
      "[CV 5/5; 6/8] END boosting=gbdt, learning_rate=0.05, max_depth=15, num_iterations=1500, num_leaves=15, objective=root_mean_squared_error, task=predict; total time= 1.5min\n",
      "[CV 1/5; 8/8] START boosting=gbdt, learning_rate=0.05, max_depth=15, num_iterations=2000, num_leaves=15, objective=root_mean_squared_error, task=predict\n",
      "[LightGBM] [Warning] boosting is set=gbdt, boosting_type=gbdt will be ignored. Current value: boosting=gbdt\n",
      "[CV 1/5; 8/8] END boosting=gbdt, learning_rate=0.05, max_depth=15, num_iterations=2000, num_leaves=15, objective=root_mean_squared_error, task=predict; total time= 1.6min\n",
      "[CV 1/5; 2/8] START boosting=gbdt, learning_rate=0.05, max_depth=10, num_iterations=1500, num_leaves=15, objective=root_mean_squared_error, task=predict\n",
      "[LightGBM] [Warning] boosting is set=gbdt, boosting_type=gbdt will be ignored. Current value: boosting=gbdt\n",
      "[CV 1/5; 2/8] END boosting=gbdt, learning_rate=0.05, max_depth=10, num_iterations=1500, num_leaves=15, objective=root_mean_squared_error, task=predict; total time= 1.4min\n",
      "[CV 3/5; 3/8] START boosting=gbdt, learning_rate=0.05, max_depth=10, num_iterations=2000, num_leaves=10, objective=root_mean_squared_error, task=predict\n",
      "[LightGBM] [Warning] boosting is set=gbdt, boosting_type=gbdt will be ignored. Current value: boosting=gbdt\n",
      "[CV 3/5; 3/8] END boosting=gbdt, learning_rate=0.05, max_depth=10, num_iterations=2000, num_leaves=10, objective=root_mean_squared_error, task=predict; total time= 1.8min\n",
      "[CV 3/5; 4/8] START boosting=gbdt, learning_rate=0.05, max_depth=10, num_iterations=2000, num_leaves=15, objective=root_mean_squared_error, task=predict\n",
      "[LightGBM] [Warning] boosting is set=gbdt, boosting_type=gbdt will be ignored. Current value: boosting=gbdt\n",
      "[CV 3/5; 4/8] END boosting=gbdt, learning_rate=0.05, max_depth=10, num_iterations=2000, num_leaves=15, objective=root_mean_squared_error, task=predict; total time= 2.0min\n",
      "[CV 1/5; 6/8] START boosting=gbdt, learning_rate=0.05, max_depth=15, num_iterations=1500, num_leaves=15, objective=root_mean_squared_error, task=predict\n",
      "[LightGBM] [Warning] boosting is set=gbdt, boosting_type=gbdt will be ignored. Current value: boosting=gbdt\n",
      "[CV 1/5; 6/8] END boosting=gbdt, learning_rate=0.05, max_depth=15, num_iterations=1500, num_leaves=15, objective=root_mean_squared_error, task=predict; total time= 1.3min\n",
      "[CV 1/5; 7/8] START boosting=gbdt, learning_rate=0.05, max_depth=15, num_iterations=2000, num_leaves=10, objective=root_mean_squared_error, task=predict\n",
      "[LightGBM] [Warning] boosting is set=gbdt, boosting_type=gbdt will be ignored. Current value: boosting=gbdt\n",
      "[CV 1/5; 7/8] END boosting=gbdt, learning_rate=0.05, max_depth=15, num_iterations=2000, num_leaves=10, objective=root_mean_squared_error, task=predict; total time= 1.6min\n",
      "[CV 2/5; 8/8] START boosting=gbdt, learning_rate=0.05, max_depth=15, num_iterations=2000, num_leaves=15, objective=root_mean_squared_error, task=predict\n",
      "[LightGBM] [Warning] boosting is set=gbdt, boosting_type=gbdt will be ignored. Current value: boosting=gbdt\n",
      "[CV 2/5; 8/8] END boosting=gbdt, learning_rate=0.05, max_depth=15, num_iterations=2000, num_leaves=15, objective=root_mean_squared_error, task=predict; total time= 1.6min\n",
      "[CV 4/5; 1/8] START boosting=gbdt, learning_rate=0.05, max_depth=10, num_iterations=1500, num_leaves=10, objective=root_mean_squared_error, task=predict\n",
      "[LightGBM] [Warning] boosting is set=gbdt, boosting_type=gbdt will be ignored. Current value: boosting=gbdt\n",
      "[CV 4/5; 1/8] END boosting=gbdt, learning_rate=0.05, max_depth=10, num_iterations=1500, num_leaves=10, objective=root_mean_squared_error, task=predict; total time= 1.3min\n",
      "[CV 1/5; 3/8] START boosting=gbdt, learning_rate=0.05, max_depth=10, num_iterations=2000, num_leaves=10, objective=root_mean_squared_error, task=predict\n",
      "[LightGBM] [Warning] boosting is set=gbdt, boosting_type=gbdt will be ignored. Current value: boosting=gbdt\n",
      "[CV 1/5; 3/8] END boosting=gbdt, learning_rate=0.05, max_depth=10, num_iterations=2000, num_leaves=10, objective=root_mean_squared_error, task=predict; total time= 1.8min\n",
      "[CV 2/5; 4/8] START boosting=gbdt, learning_rate=0.05, max_depth=10, num_iterations=2000, num_leaves=15, objective=root_mean_squared_error, task=predict\n",
      "[LightGBM] [Warning] boosting is set=gbdt, boosting_type=gbdt will be ignored. Current value: boosting=gbdt\n",
      "[CV 2/5; 4/8] END boosting=gbdt, learning_rate=0.05, max_depth=10, num_iterations=2000, num_leaves=15, objective=root_mean_squared_error, task=predict; total time= 2.0min\n",
      "[CV 5/5; 5/8] START boosting=gbdt, learning_rate=0.05, max_depth=15, num_iterations=1500, num_leaves=10, objective=root_mean_squared_error, task=predict\n",
      "[LightGBM] [Warning] boosting is set=gbdt, boosting_type=gbdt will be ignored. Current value: boosting=gbdt\n",
      "[CV 5/5; 5/8] END boosting=gbdt, learning_rate=0.05, max_depth=15, num_iterations=1500, num_leaves=10, objective=root_mean_squared_error, task=predict; total time= 1.3min\n",
      "[CV 2/5; 7/8] START boosting=gbdt, learning_rate=0.05, max_depth=15, num_iterations=2000, num_leaves=10, objective=root_mean_squared_error, task=predict\n",
      "[LightGBM] [Warning] boosting is set=gbdt, boosting_type=gbdt will be ignored. Current value: boosting=gbdt\n",
      "[CV 2/5; 7/8] END boosting=gbdt, learning_rate=0.05, max_depth=15, num_iterations=2000, num_leaves=10, objective=root_mean_squared_error, task=predict; total time= 1.8min\n",
      "[CV 3/5; 8/8] START boosting=gbdt, learning_rate=0.05, max_depth=15, num_iterations=2000, num_leaves=15, objective=root_mean_squared_error, task=predict\n",
      "[LightGBM] [Warning] boosting is set=gbdt, boosting_type=gbdt will be ignored. Current value: boosting=gbdt\n",
      "[CV 3/5; 8/8] END boosting=gbdt, learning_rate=0.05, max_depth=15, num_iterations=2000, num_leaves=15, objective=root_mean_squared_error, task=predict; total time= 1.5min\n",
      "[CV 2/5; 1/8] START boosting=gbdt, learning_rate=0.05, max_depth=10, num_iterations=1500, num_leaves=10, objective=root_mean_squared_error, task=predict\n",
      "[LightGBM] [Warning] boosting is set=gbdt, boosting_type=gbdt will be ignored. Current value: boosting=gbdt\n",
      "[CV 2/5; 1/8] END boosting=gbdt, learning_rate=0.05, max_depth=10, num_iterations=1500, num_leaves=10, objective=root_mean_squared_error, task=predict; total time=  39.9s\n",
      "[CV 4/5; 2/8] START boosting=gbdt, learning_rate=0.05, max_depth=10, num_iterations=1500, num_leaves=15, objective=root_mean_squared_error, task=predict\n",
      "[LightGBM] [Warning] boosting is set=gbdt, boosting_type=gbdt will be ignored. Current value: boosting=gbdt\n",
      "[CV 4/5; 2/8] END boosting=gbdt, learning_rate=0.05, max_depth=10, num_iterations=1500, num_leaves=15, objective=root_mean_squared_error, task=predict; total time= 1.6min\n",
      "[CV 5/5; 3/8] START boosting=gbdt, learning_rate=0.05, max_depth=10, num_iterations=2000, num_leaves=10, objective=root_mean_squared_error, task=predict\n",
      "[LightGBM] [Warning] boosting is set=gbdt, boosting_type=gbdt will be ignored. Current value: boosting=gbdt\n",
      "[CV 5/5; 3/8] END boosting=gbdt, learning_rate=0.05, max_depth=10, num_iterations=2000, num_leaves=10, objective=root_mean_squared_error, task=predict; total time= 1.8min\n",
      "[CV 5/5; 4/8] START boosting=gbdt, learning_rate=0.05, max_depth=10, num_iterations=2000, num_leaves=15, objective=root_mean_squared_error, task=predict\n",
      "[LightGBM] [Warning] boosting is set=gbdt, boosting_type=gbdt will be ignored. Current value: boosting=gbdt\n",
      "[CV 5/5; 4/8] END boosting=gbdt, learning_rate=0.05, max_depth=10, num_iterations=2000, num_leaves=15, objective=root_mean_squared_error, task=predict; total time= 2.1min\n",
      "[CV 2/5; 6/8] START boosting=gbdt, learning_rate=0.05, max_depth=15, num_iterations=1500, num_leaves=15, objective=root_mean_squared_error, task=predict\n",
      "[LightGBM] [Warning] boosting is set=gbdt, boosting_type=gbdt will be ignored. Current value: boosting=gbdt\n",
      "[CV 2/5; 6/8] END boosting=gbdt, learning_rate=0.05, max_depth=15, num_iterations=1500, num_leaves=15, objective=root_mean_squared_error, task=predict; total time= 1.3min\n",
      "[CV 3/5; 7/8] START boosting=gbdt, learning_rate=0.05, max_depth=15, num_iterations=2000, num_leaves=10, objective=root_mean_squared_error, task=predict\n",
      "[LightGBM] [Warning] boosting is set=gbdt, boosting_type=gbdt will be ignored. Current value: boosting=gbdt\n",
      "[CV 3/5; 7/8] END boosting=gbdt, learning_rate=0.05, max_depth=15, num_iterations=2000, num_leaves=10, objective=root_mean_squared_error, task=predict; total time= 1.8min\n",
      "[CV 4/5; 8/8] START boosting=gbdt, learning_rate=0.05, max_depth=15, num_iterations=2000, num_leaves=15, objective=root_mean_squared_error, task=predict\n",
      "[LightGBM] [Warning] boosting is set=gbdt, boosting_type=gbdt will be ignored. Current value: boosting=gbdt\n",
      "[CV 4/5; 8/8] END boosting=gbdt, learning_rate=0.05, max_depth=15, num_iterations=2000, num_leaves=15, objective=root_mean_squared_error, task=predict; total time= 1.3min\n",
      "[CV 5/5; 1/8] START boosting=gbdt, learning_rate=0.05, max_depth=10, num_iterations=1500, num_leaves=10, objective=root_mean_squared_error, task=predict\n",
      "[LightGBM] [Warning] boosting is set=gbdt, boosting_type=gbdt will be ignored. Current value: boosting=gbdt\n",
      "[CV 5/5; 1/8] END boosting=gbdt, learning_rate=0.05, max_depth=10, num_iterations=1500, num_leaves=10, objective=root_mean_squared_error, task=predict; total time= 1.2min\n",
      "[CV 5/5; 2/8] START boosting=gbdt, learning_rate=0.05, max_depth=10, num_iterations=1500, num_leaves=15, objective=root_mean_squared_error, task=predict\n",
      "[LightGBM] [Warning] boosting is set=gbdt, boosting_type=gbdt will be ignored. Current value: boosting=gbdt\n",
      "[CV 5/5; 2/8] END boosting=gbdt, learning_rate=0.05, max_depth=10, num_iterations=1500, num_leaves=15, objective=root_mean_squared_error, task=predict; total time= 1.3min\n",
      "[CV 1/5; 4/8] START boosting=gbdt, learning_rate=0.05, max_depth=10, num_iterations=2000, num_leaves=15, objective=root_mean_squared_error, task=predict\n",
      "[LightGBM] [Warning] boosting is set=gbdt, boosting_type=gbdt will be ignored. Current value: boosting=gbdt\n",
      "[CV 1/5; 4/8] END boosting=gbdt, learning_rate=0.05, max_depth=10, num_iterations=2000, num_leaves=15, objective=root_mean_squared_error, task=predict; total time= 2.0min\n",
      "[CV 2/5; 5/8] START boosting=gbdt, learning_rate=0.05, max_depth=15, num_iterations=1500, num_leaves=10, objective=root_mean_squared_error, task=predict\n",
      "[LightGBM] [Warning] boosting is set=gbdt, boosting_type=gbdt will be ignored. Current value: boosting=gbdt\n",
      "[CV 2/5; 5/8] END boosting=gbdt, learning_rate=0.05, max_depth=15, num_iterations=1500, num_leaves=10, objective=root_mean_squared_error, task=predict; total time= 1.5min\n",
      "[CV 3/5; 6/8] START boosting=gbdt, learning_rate=0.05, max_depth=15, num_iterations=1500, num_leaves=15, objective=root_mean_squared_error, task=predict\n",
      "[LightGBM] [Warning] boosting is set=gbdt, boosting_type=gbdt will be ignored. Current value: boosting=gbdt\n",
      "[CV 3/5; 6/8] END boosting=gbdt, learning_rate=0.05, max_depth=15, num_iterations=1500, num_leaves=15, objective=root_mean_squared_error, task=predict; total time= 1.2min\n",
      "[CV 4/5; 7/8] START boosting=gbdt, learning_rate=0.05, max_depth=15, num_iterations=2000, num_leaves=10, objective=root_mean_squared_error, task=predict\n",
      "[LightGBM] [Warning] boosting is set=gbdt, boosting_type=gbdt will be ignored. Current value: boosting=gbdt\n",
      "[CV 4/5; 7/8] END boosting=gbdt, learning_rate=0.05, max_depth=15, num_iterations=2000, num_leaves=10, objective=root_mean_squared_error, task=predict; total time= 1.8min\n",
      "[CV 5/5; 8/8] START boosting=gbdt, learning_rate=0.05, max_depth=15, num_iterations=2000, num_leaves=15, objective=root_mean_squared_error, task=predict\n",
      "[LightGBM] [Warning] boosting is set=gbdt, boosting_type=gbdt will be ignored. Current value: boosting=gbdt\n",
      "[CV 5/5; 8/8] END boosting=gbdt, learning_rate=0.05, max_depth=15, num_iterations=2000, num_leaves=15, objective=root_mean_squared_error, task=predict; total time=  54.3s\n"
     ]
    }
   ],
   "source": [
    "%%time\n",
    "best_forest = RandomForestRegressor(**best_params)\n",
    "fit_forest = best_forest.fit(x_train_oe, y_train)\n",
    "pred = fit_forest.predict(x_test_oe)\n",
    "mse = mean_squared_error(y_test, pred)\n",
    "rmse = np.sqrt(mse)\n",
    "print(\" RMSE: %f\" % (rmse))\n"
   ]
  },
  {
   "cell_type": "markdown",
   "metadata": {},
   "source": [
    "## Вывод"
   ]
  },
  {
   "cell_type": "markdown",
   "metadata": {},
   "source": [
    " Результаты на тренировочных данных:\n",
    " \n",
    "LightGBM: Fit time: 77.1251621723175, predict time: 17.353675603866577RMSE, RMSE 1567.89\n",
    "\n",
    "RandomForestRegressor: Fit time: 3.347990894317627, predict time: 0.09743266105651856, RMSE 1636.44\n",
    "\n",
    "RMSE RandomForestRegressor на тестовой выборке: 1612.9\n"
   ]
  },
  {
   "cell_type": "code",
   "execution_count": null,
   "metadata": {},
   "outputs": [],
   "source": []
  }
 ],
 "metadata": {
  "ExecuteTimeLog": [
   {
    "duration": 2396,
    "start_time": "2022-12-19T07:43:16.323Z"
   },
   {
    "duration": 887,
    "start_time": "2022-12-19T07:43:34.726Z"
   },
   {
    "duration": 410,
    "start_time": "2022-12-19T08:30:08.529Z"
   },
   {
    "duration": 412,
    "start_time": "2022-12-19T08:30:20.000Z"
   },
   {
    "duration": 500,
    "start_time": "2022-12-19T08:30:50.399Z"
   },
   {
    "duration": 871,
    "start_time": "2022-12-19T08:36:33.052Z"
   },
   {
    "duration": 542,
    "start_time": "2022-12-19T09:13:14.781Z"
   },
   {
    "duration": 598,
    "start_time": "2022-12-19T09:13:32.051Z"
   },
   {
    "duration": 596,
    "start_time": "2022-12-19T09:13:42.842Z"
   },
   {
    "duration": 531,
    "start_time": "2022-12-19T09:14:21.920Z"
   },
   {
    "duration": 557,
    "start_time": "2022-12-19T09:15:22.402Z"
   },
   {
    "duration": 116,
    "start_time": "2022-12-19T09:19:04.875Z"
   },
   {
    "duration": 45,
    "start_time": "2022-12-19T09:19:10.847Z"
   },
   {
    "duration": 180,
    "start_time": "2022-12-19T10:08:37.414Z"
   },
   {
    "duration": 191,
    "start_time": "2022-12-19T10:09:06.209Z"
   },
   {
    "duration": 198,
    "start_time": "2022-12-19T10:22:20.415Z"
   },
   {
    "duration": 50,
    "start_time": "2022-12-19T10:24:19.736Z"
   },
   {
    "duration": 159,
    "start_time": "2022-12-19T10:29:45.394Z"
   },
   {
    "duration": 117,
    "start_time": "2022-12-19T10:30:33.261Z"
   },
   {
    "duration": 137,
    "start_time": "2022-12-19T10:41:07.096Z"
   },
   {
    "duration": 108,
    "start_time": "2022-12-19T10:44:57.777Z"
   },
   {
    "duration": 258,
    "start_time": "2022-12-19T10:45:21.965Z"
   },
   {
    "duration": 308,
    "start_time": "2022-12-19T10:47:43.415Z"
   },
   {
    "duration": 146,
    "start_time": "2022-12-19T10:50:01.053Z"
   },
   {
    "duration": 226,
    "start_time": "2022-12-19T10:51:10.974Z"
   },
   {
    "duration": 307,
    "start_time": "2022-12-19T10:51:26.235Z"
   },
   {
    "duration": 236,
    "start_time": "2022-12-19T10:53:52.097Z"
   },
   {
    "duration": 3013,
    "start_time": "2022-12-20T07:22:32.338Z"
   },
   {
    "duration": 138,
    "start_time": "2022-12-20T07:22:35.353Z"
   },
   {
    "duration": 62,
    "start_time": "2022-12-20T07:22:35.492Z"
   },
   {
    "duration": 238,
    "start_time": "2022-12-20T07:22:35.556Z"
   },
   {
    "duration": 87,
    "start_time": "2022-12-20T07:22:35.796Z"
   },
   {
    "duration": 181,
    "start_time": "2022-12-20T07:22:35.886Z"
   },
   {
    "duration": 155,
    "start_time": "2022-12-20T07:22:36.069Z"
   },
   {
    "duration": 281,
    "start_time": "2022-12-20T07:22:36.226Z"
   },
   {
    "duration": 180,
    "start_time": "2022-12-20T07:22:36.509Z"
   },
   {
    "duration": 357,
    "start_time": "2022-12-20T07:22:36.692Z"
   },
   {
    "duration": 174,
    "start_time": "2022-12-20T07:22:37.054Z"
   },
   {
    "duration": 946,
    "start_time": "2022-12-20T07:35:54.821Z"
   },
   {
    "duration": 139,
    "start_time": "2022-12-20T07:40:09.671Z"
   },
   {
    "duration": 998,
    "start_time": "2022-12-20T07:40:18.028Z"
   },
   {
    "duration": 153,
    "start_time": "2022-12-20T07:40:19.029Z"
   },
   {
    "duration": 71,
    "start_time": "2022-12-20T07:40:19.184Z"
   },
   {
    "duration": 215,
    "start_time": "2022-12-20T07:40:19.257Z"
   },
   {
    "duration": 69,
    "start_time": "2022-12-20T07:40:19.474Z"
   },
   {
    "duration": 169,
    "start_time": "2022-12-20T07:40:19.554Z"
   },
   {
    "duration": 160,
    "start_time": "2022-12-20T07:40:19.724Z"
   },
   {
    "duration": 272,
    "start_time": "2022-12-20T07:40:19.886Z"
   },
   {
    "duration": 165,
    "start_time": "2022-12-20T07:40:20.160Z"
   },
   {
    "duration": 254,
    "start_time": "2022-12-20T07:40:20.328Z"
   },
   {
    "duration": 173,
    "start_time": "2022-12-20T07:40:20.584Z"
   },
   {
    "duration": 83,
    "start_time": "2022-12-20T07:40:20.758Z"
   },
   {
    "duration": 127,
    "start_time": "2022-12-20T07:43:45.522Z"
   },
   {
    "duration": 364,
    "start_time": "2022-12-20T07:55:08.371Z"
   },
   {
    "duration": 83,
    "start_time": "2022-12-20T07:55:20.269Z"
   },
   {
    "duration": 971,
    "start_time": "2022-12-20T08:09:38.256Z"
   },
   {
    "duration": 36,
    "start_time": "2022-12-20T08:13:44.376Z"
   },
   {
    "duration": 56,
    "start_time": "2022-12-20T08:13:55.047Z"
   },
   {
    "duration": 172,
    "start_time": "2022-12-20T08:17:34.286Z"
   },
   {
    "duration": 200,
    "start_time": "2022-12-20T08:20:09.236Z"
   },
   {
    "duration": 2611,
    "start_time": "2022-12-20T08:30:02.228Z"
   },
   {
    "duration": 151,
    "start_time": "2022-12-20T08:30:04.841Z"
   },
   {
    "duration": 63,
    "start_time": "2022-12-20T08:30:04.993Z"
   },
   {
    "duration": 229,
    "start_time": "2022-12-20T08:30:05.058Z"
   },
   {
    "duration": 79,
    "start_time": "2022-12-20T08:30:05.289Z"
   },
   {
    "duration": 176,
    "start_time": "2022-12-20T08:30:05.370Z"
   },
   {
    "duration": 158,
    "start_time": "2022-12-20T08:30:05.548Z"
   },
   {
    "duration": 263,
    "start_time": "2022-12-20T08:30:05.708Z"
   },
   {
    "duration": 167,
    "start_time": "2022-12-20T08:30:05.973Z"
   },
   {
    "duration": 368,
    "start_time": "2022-12-20T08:30:06.142Z"
   },
   {
    "duration": 185,
    "start_time": "2022-12-20T08:30:06.512Z"
   },
   {
    "duration": 349,
    "start_time": "2022-12-20T08:30:06.699Z"
   },
   {
    "duration": 37,
    "start_time": "2022-12-20T08:30:07.054Z"
   },
   {
    "duration": 73,
    "start_time": "2022-12-20T08:30:07.094Z"
   },
   {
    "duration": 130,
    "start_time": "2022-12-20T08:30:07.169Z"
   },
   {
    "duration": 2421,
    "start_time": "2022-12-20T08:40:03.996Z"
   },
   {
    "duration": 139,
    "start_time": "2022-12-20T08:40:06.419Z"
   },
   {
    "duration": 51,
    "start_time": "2022-12-20T08:40:06.560Z"
   },
   {
    "duration": 244,
    "start_time": "2022-12-20T08:40:06.612Z"
   },
   {
    "duration": 98,
    "start_time": "2022-12-20T08:40:06.858Z"
   },
   {
    "duration": 209,
    "start_time": "2022-12-20T08:40:06.959Z"
   },
   {
    "duration": 164,
    "start_time": "2022-12-20T08:40:07.171Z"
   },
   {
    "duration": 285,
    "start_time": "2022-12-20T08:40:07.337Z"
   },
   {
    "duration": 167,
    "start_time": "2022-12-20T08:40:07.624Z"
   },
   {
    "duration": 336,
    "start_time": "2022-12-20T08:40:07.793Z"
   },
   {
    "duration": 178,
    "start_time": "2022-12-20T08:40:08.131Z"
   },
   {
    "duration": 364,
    "start_time": "2022-12-20T08:40:08.311Z"
   },
   {
    "duration": 34,
    "start_time": "2022-12-20T08:40:08.677Z"
   },
   {
    "duration": 69,
    "start_time": "2022-12-20T08:40:08.713Z"
   },
   {
    "duration": 877717,
    "start_time": "2022-12-20T08:40:08.783Z"
   },
   {
    "duration": 165,
    "start_time": "2022-12-20T08:54:46.502Z"
   },
   {
    "duration": 13,
    "start_time": "2022-12-20T08:55:29.421Z"
   },
   {
    "duration": 66,
    "start_time": "2022-12-20T08:55:58.491Z"
   },
   {
    "duration": 63,
    "start_time": "2022-12-20T08:56:05.001Z"
   },
   {
    "duration": 13,
    "start_time": "2022-12-20T08:58:04.943Z"
   },
   {
    "duration": 12,
    "start_time": "2022-12-20T09:01:57.241Z"
   },
   {
    "duration": 2654,
    "start_time": "2022-12-20T09:36:17.827Z"
   },
   {
    "duration": 161,
    "start_time": "2022-12-20T09:36:20.483Z"
   },
   {
    "duration": 72,
    "start_time": "2022-12-20T09:36:20.645Z"
   },
   {
    "duration": 263,
    "start_time": "2022-12-20T09:36:20.720Z"
   },
   {
    "duration": 91,
    "start_time": "2022-12-20T09:36:20.985Z"
   },
   {
    "duration": 186,
    "start_time": "2022-12-20T09:36:21.078Z"
   },
   {
    "duration": 156,
    "start_time": "2022-12-20T09:36:21.266Z"
   },
   {
    "duration": 274,
    "start_time": "2022-12-20T09:36:21.424Z"
   },
   {
    "duration": 166,
    "start_time": "2022-12-20T09:36:21.700Z"
   },
   {
    "duration": 349,
    "start_time": "2022-12-20T09:36:21.870Z"
   },
   {
    "duration": 182,
    "start_time": "2022-12-20T09:36:22.221Z"
   },
   {
    "duration": 338,
    "start_time": "2022-12-20T09:36:22.405Z"
   },
   {
    "duration": 41,
    "start_time": "2022-12-20T09:36:22.745Z"
   },
   {
    "duration": 68,
    "start_time": "2022-12-20T09:36:22.788Z"
   },
   {
    "duration": 224844,
    "start_time": "2022-12-20T09:36:22.857Z"
   },
   {
    "duration": 2396181,
    "start_time": "2022-12-20T09:40:07.702Z"
   },
   {
    "duration": 177,
    "start_time": "2022-12-20T10:26:53.694Z"
   },
   {
    "duration": 1037,
    "start_time": "2022-12-20T10:27:36.242Z"
   },
   {
    "duration": 57,
    "start_time": "2022-12-20T10:27:57.042Z"
   },
   {
    "duration": 1392531,
    "start_time": "2022-12-20T10:28:21.442Z"
   },
   {
    "duration": 1185,
    "start_time": "2022-12-20T10:55:02.144Z"
   },
   {
    "duration": 2502,
    "start_time": "2022-12-20T12:19:40.090Z"
   },
   {
    "duration": 140,
    "start_time": "2022-12-20T12:19:42.594Z"
   },
   {
    "duration": 57,
    "start_time": "2022-12-20T12:19:42.736Z"
   },
   {
    "duration": 251,
    "start_time": "2022-12-20T12:19:42.795Z"
   },
   {
    "duration": 79,
    "start_time": "2022-12-20T12:19:43.048Z"
   },
   {
    "duration": 217,
    "start_time": "2022-12-20T12:19:43.129Z"
   },
   {
    "duration": 162,
    "start_time": "2022-12-20T12:19:43.348Z"
   },
   {
    "duration": 304,
    "start_time": "2022-12-20T12:19:43.512Z"
   },
   {
    "duration": 249,
    "start_time": "2022-12-20T12:19:43.818Z"
   },
   {
    "duration": 271,
    "start_time": "2022-12-20T12:19:44.070Z"
   },
   {
    "duration": 182,
    "start_time": "2022-12-20T12:19:44.342Z"
   },
   {
    "duration": 402,
    "start_time": "2022-12-20T12:19:44.527Z"
   },
   {
    "duration": 41,
    "start_time": "2022-12-20T12:19:44.931Z"
   },
   {
    "duration": 81,
    "start_time": "2022-12-20T12:19:44.974Z"
   },
   {
    "duration": 94699,
    "start_time": "2022-12-20T12:19:45.057Z"
   },
   {
    "duration": 3,
    "start_time": "2022-12-20T12:21:19.758Z"
   },
   {
    "duration": 7,
    "start_time": "2022-12-20T12:21:19.762Z"
   },
   {
    "duration": 2714,
    "start_time": "2022-12-20T12:40:36.648Z"
   },
   {
    "duration": 142,
    "start_time": "2022-12-20T12:40:39.364Z"
   },
   {
    "duration": 69,
    "start_time": "2022-12-20T12:40:39.508Z"
   },
   {
    "duration": 248,
    "start_time": "2022-12-20T12:40:39.580Z"
   },
   {
    "duration": 93,
    "start_time": "2022-12-20T12:40:39.830Z"
   },
   {
    "duration": 194,
    "start_time": "2022-12-20T12:40:39.924Z"
   },
   {
    "duration": 197,
    "start_time": "2022-12-20T12:40:40.120Z"
   },
   {
    "duration": 288,
    "start_time": "2022-12-20T12:40:40.319Z"
   },
   {
    "duration": 265,
    "start_time": "2022-12-20T12:40:40.609Z"
   },
   {
    "duration": 298,
    "start_time": "2022-12-20T12:40:40.876Z"
   },
   {
    "duration": 201,
    "start_time": "2022-12-20T12:40:41.176Z"
   },
   {
    "duration": 371,
    "start_time": "2022-12-20T12:40:41.379Z"
   },
   {
    "duration": 41,
    "start_time": "2022-12-20T12:40:41.751Z"
   },
   {
    "duration": 70,
    "start_time": "2022-12-20T12:40:41.794Z"
   },
   {
    "duration": 2686,
    "start_time": "2022-12-20T12:41:49.059Z"
   },
   {
    "duration": 147,
    "start_time": "2022-12-20T12:41:51.748Z"
   },
   {
    "duration": 77,
    "start_time": "2022-12-20T12:41:51.897Z"
   },
   {
    "duration": 266,
    "start_time": "2022-12-20T12:41:51.975Z"
   },
   {
    "duration": 89,
    "start_time": "2022-12-20T12:41:52.244Z"
   },
   {
    "duration": 194,
    "start_time": "2022-12-20T12:41:52.335Z"
   },
   {
    "duration": 168,
    "start_time": "2022-12-20T12:41:52.531Z"
   },
   {
    "duration": 296,
    "start_time": "2022-12-20T12:41:52.700Z"
   },
   {
    "duration": 262,
    "start_time": "2022-12-20T12:41:52.998Z"
   },
   {
    "duration": 356,
    "start_time": "2022-12-20T12:41:53.262Z"
   },
   {
    "duration": 212,
    "start_time": "2022-12-20T12:41:53.619Z"
   },
   {
    "duration": 369,
    "start_time": "2022-12-20T12:41:53.833Z"
   },
   {
    "duration": 49,
    "start_time": "2022-12-20T12:41:54.205Z"
   },
   {
    "duration": 57,
    "start_time": "2022-12-20T12:41:54.258Z"
   },
   {
    "duration": 2737,
    "start_time": "2022-12-20T13:00:39.090Z"
   },
   {
    "duration": 142,
    "start_time": "2022-12-20T13:00:41.830Z"
   },
   {
    "duration": 54,
    "start_time": "2022-12-20T13:00:41.974Z"
   },
   {
    "duration": 244,
    "start_time": "2022-12-20T13:00:42.054Z"
   },
   {
    "duration": 91,
    "start_time": "2022-12-20T13:00:42.301Z"
   },
   {
    "duration": 192,
    "start_time": "2022-12-20T13:00:42.393Z"
   },
   {
    "duration": 159,
    "start_time": "2022-12-20T13:00:42.587Z"
   },
   {
    "duration": 289,
    "start_time": "2022-12-20T13:00:42.748Z"
   },
   {
    "duration": 267,
    "start_time": "2022-12-20T13:00:43.038Z"
   },
   {
    "duration": 278,
    "start_time": "2022-12-20T13:00:43.307Z"
   },
   {
    "duration": 217,
    "start_time": "2022-12-20T13:00:43.586Z"
   },
   {
    "duration": 382,
    "start_time": "2022-12-20T13:00:43.804Z"
   },
   {
    "duration": 33,
    "start_time": "2022-12-20T13:00:44.188Z"
   },
   {
    "duration": 77,
    "start_time": "2022-12-20T13:00:44.223Z"
   },
   {
    "duration": 2562,
    "start_time": "2022-12-20T13:21:35.289Z"
   },
   {
    "duration": 159,
    "start_time": "2022-12-20T13:21:37.855Z"
   },
   {
    "duration": 79,
    "start_time": "2022-12-20T13:21:38.015Z"
   },
   {
    "duration": 267,
    "start_time": "2022-12-20T13:21:38.097Z"
   },
   {
    "duration": 76,
    "start_time": "2022-12-20T13:21:38.366Z"
   },
   {
    "duration": 200,
    "start_time": "2022-12-20T13:21:38.455Z"
   },
   {
    "duration": 173,
    "start_time": "2022-12-20T13:21:38.657Z"
   },
   {
    "duration": 303,
    "start_time": "2022-12-20T13:21:38.832Z"
   },
   {
    "duration": 267,
    "start_time": "2022-12-20T13:21:39.137Z"
   },
   {
    "duration": 283,
    "start_time": "2022-12-20T13:21:39.406Z"
   },
   {
    "duration": 188,
    "start_time": "2022-12-20T13:21:39.691Z"
   },
   {
    "duration": 382,
    "start_time": "2022-12-20T13:21:39.881Z"
   },
   {
    "duration": 42,
    "start_time": "2022-12-20T13:21:40.265Z"
   },
   {
    "duration": 81,
    "start_time": "2022-12-20T13:21:40.310Z"
   },
   {
    "duration": 7,
    "start_time": "2022-12-20T13:21:40.393Z"
   },
   {
    "duration": 5,
    "start_time": "2022-12-20T13:21:40.401Z"
   },
   {
    "duration": 5,
    "start_time": "2022-12-20T13:21:40.408Z"
   },
   {
    "duration": 348936,
    "start_time": "2022-12-20T13:21:40.414Z"
   },
   {
    "duration": 128,
    "start_time": "2022-12-20T13:30:41.041Z"
   },
   {
    "duration": 6985,
    "start_time": "2022-12-20T13:30:59.640Z"
   },
   {
    "duration": 6932,
    "start_time": "2022-12-20T13:31:25.040Z"
   },
   {
    "duration": 7191,
    "start_time": "2022-12-20T13:32:33.651Z"
   },
   {
    "duration": 7113,
    "start_time": "2022-12-20T13:33:35.596Z"
   },
   {
    "duration": 7271,
    "start_time": "2022-12-20T13:33:52.760Z"
   },
   {
    "duration": 7515,
    "start_time": "2022-12-20T13:34:08.576Z"
   },
   {
    "duration": 10,
    "start_time": "2022-12-20T13:35:42.010Z"
   },
   {
    "duration": 10,
    "start_time": "2022-12-20T13:35:49.850Z"
   },
   {
    "duration": 4,
    "start_time": "2022-12-20T13:52:09.095Z"
   },
   {
    "duration": 4,
    "start_time": "2022-12-20T13:53:26.709Z"
   },
   {
    "duration": 7156,
    "start_time": "2022-12-20T13:54:22.210Z"
   },
   {
    "duration": 7315,
    "start_time": "2022-12-20T13:54:42.460Z"
   },
   {
    "duration": 7542,
    "start_time": "2022-12-20T13:55:57.881Z"
   },
   {
    "duration": 4,
    "start_time": "2022-12-20T13:57:11.305Z"
   },
   {
    "duration": 4,
    "start_time": "2022-12-20T13:59:43.942Z"
   },
   {
    "duration": 6740,
    "start_time": "2022-12-20T14:32:12.836Z"
   },
   {
    "duration": 6922,
    "start_time": "2022-12-20T14:38:27.546Z"
   },
   {
    "duration": 87930,
    "start_time": "2022-12-20T14:42:09.128Z"
   },
   {
    "duration": 78216,
    "start_time": "2022-12-20T14:54:04.877Z"
   },
   {
    "duration": 2561,
    "start_time": "2022-12-21T13:57:50.627Z"
   },
   {
    "duration": 122,
    "start_time": "2022-12-21T13:57:54.030Z"
   },
   {
    "duration": 47,
    "start_time": "2022-12-21T13:57:54.943Z"
   },
   {
    "duration": 216,
    "start_time": "2022-12-21T13:57:56.974Z"
   },
   {
    "duration": 70,
    "start_time": "2022-12-21T13:57:58.693Z"
   },
   {
    "duration": 142,
    "start_time": "2022-12-21T13:58:01.017Z"
   },
   {
    "duration": 128,
    "start_time": "2022-12-21T13:58:01.327Z"
   },
   {
    "duration": 248,
    "start_time": "2022-12-21T13:58:01.613Z"
   },
   {
    "duration": 210,
    "start_time": "2022-12-21T13:58:03.590Z"
   },
   {
    "duration": 260,
    "start_time": "2022-12-21T13:58:03.802Z"
   },
   {
    "duration": 144,
    "start_time": "2022-12-21T13:58:04.123Z"
   },
   {
    "duration": 320,
    "start_time": "2022-12-21T13:58:04.890Z"
   },
   {
    "duration": 129,
    "start_time": "2022-12-21T13:58:05.420Z"
   },
   {
    "duration": 1981,
    "start_time": "2022-12-22T05:45:52.225Z"
   },
   {
    "duration": 51,
    "start_time": "2022-12-22T05:46:58.732Z"
   },
   {
    "duration": 122,
    "start_time": "2022-12-22T05:49:15.225Z"
   },
   {
    "duration": 55,
    "start_time": "2022-12-22T05:49:27.769Z"
   },
   {
    "duration": 2,
    "start_time": "2022-12-22T05:49:27.826Z"
   },
   {
    "duration": 2,
    "start_time": "2022-12-22T05:49:27.897Z"
   },
   {
    "duration": 15,
    "start_time": "2022-12-22T05:49:27.904Z"
   },
   {
    "duration": 67,
    "start_time": "2022-12-22T05:49:27.920Z"
   },
   {
    "duration": 9,
    "start_time": "2022-12-22T05:49:47.478Z"
   },
   {
    "duration": 10,
    "start_time": "2022-12-22T05:49:51.290Z"
   },
   {
    "duration": 4,
    "start_time": "2022-12-22T05:49:55.216Z"
   },
   {
    "duration": 1400,
    "start_time": "2022-12-22T05:49:55.248Z"
   },
   {
    "duration": 175,
    "start_time": "2022-12-22T05:49:56.651Z"
   },
   {
    "duration": 60,
    "start_time": "2022-12-22T05:49:56.828Z"
   },
   {
    "duration": 241,
    "start_time": "2022-12-22T05:49:56.891Z"
   },
   {
    "duration": 78,
    "start_time": "2022-12-22T05:49:57.135Z"
   },
   {
    "duration": 204,
    "start_time": "2022-12-22T05:49:57.215Z"
   },
   {
    "duration": 150,
    "start_time": "2022-12-22T05:49:57.421Z"
   },
   {
    "duration": 280,
    "start_time": "2022-12-22T05:49:57.573Z"
   },
   {
    "duration": 288,
    "start_time": "2022-12-22T05:49:57.855Z"
   },
   {
    "duration": 262,
    "start_time": "2022-12-22T05:49:58.147Z"
   },
   {
    "duration": 171,
    "start_time": "2022-12-22T05:49:58.411Z"
   },
   {
    "duration": 65,
    "start_time": "2022-12-22T05:49:58.584Z"
   },
   {
    "duration": 16,
    "start_time": "2022-12-22T05:49:58.653Z"
   },
   {
    "duration": 95,
    "start_time": "2022-12-22T05:49:58.671Z"
   },
   {
    "duration": 82,
    "start_time": "2022-12-22T05:49:58.768Z"
   },
   {
    "duration": 0,
    "start_time": "2022-12-22T05:49:58.853Z"
   },
   {
    "duration": 0,
    "start_time": "2022-12-22T05:49:58.855Z"
   },
   {
    "duration": 0,
    "start_time": "2022-12-22T05:49:58.857Z"
   },
   {
    "duration": 0,
    "start_time": "2022-12-22T05:49:58.860Z"
   },
   {
    "duration": 0,
    "start_time": "2022-12-22T05:49:58.861Z"
   },
   {
    "duration": 470,
    "start_time": "2022-12-22T05:50:52.330Z"
   },
   {
    "duration": 98,
    "start_time": "2022-12-22T05:52:10.163Z"
   },
   {
    "duration": 93,
    "start_time": "2022-12-22T05:53:27.531Z"
   },
   {
    "duration": 123,
    "start_time": "2022-12-22T05:53:57.941Z"
   },
   {
    "duration": 6,
    "start_time": "2022-12-22T05:54:10.340Z"
   },
   {
    "duration": 1043,
    "start_time": "2022-12-22T05:54:10.404Z"
   },
   {
    "duration": 144,
    "start_time": "2022-12-22T05:54:11.450Z"
   },
   {
    "duration": 56,
    "start_time": "2022-12-22T05:54:11.595Z"
   },
   {
    "duration": 240,
    "start_time": "2022-12-22T05:54:11.653Z"
   },
   {
    "duration": 73,
    "start_time": "2022-12-22T05:54:11.895Z"
   },
   {
    "duration": 176,
    "start_time": "2022-12-22T05:54:11.970Z"
   },
   {
    "duration": 167,
    "start_time": "2022-12-22T05:54:12.149Z"
   },
   {
    "duration": 309,
    "start_time": "2022-12-22T05:54:12.318Z"
   },
   {
    "duration": 169,
    "start_time": "2022-12-22T05:54:12.629Z"
   },
   {
    "duration": 240,
    "start_time": "2022-12-22T05:54:12.800Z"
   },
   {
    "duration": 174,
    "start_time": "2022-12-22T05:54:13.044Z"
   },
   {
    "duration": 65,
    "start_time": "2022-12-22T05:54:13.220Z"
   },
   {
    "duration": 18,
    "start_time": "2022-12-22T05:54:13.287Z"
   },
   {
    "duration": 86,
    "start_time": "2022-12-22T05:54:13.307Z"
   },
   {
    "duration": 397,
    "start_time": "2022-12-22T05:54:13.394Z"
   },
   {
    "duration": 1947,
    "start_time": "2022-12-22T06:07:30.692Z"
   },
   {
    "duration": 980,
    "start_time": "2022-12-22T06:07:32.644Z"
   },
   {
    "duration": 134,
    "start_time": "2022-12-22T06:07:33.626Z"
   },
   {
    "duration": 51,
    "start_time": "2022-12-22T06:07:33.762Z"
   },
   {
    "duration": 246,
    "start_time": "2022-12-22T06:07:33.815Z"
   },
   {
    "duration": 57,
    "start_time": "2022-12-22T06:07:34.063Z"
   },
   {
    "duration": 187,
    "start_time": "2022-12-22T06:07:34.121Z"
   },
   {
    "duration": 144,
    "start_time": "2022-12-22T06:07:34.310Z"
   },
   {
    "duration": 269,
    "start_time": "2022-12-22T06:07:34.456Z"
   },
   {
    "duration": 255,
    "start_time": "2022-12-22T06:07:34.727Z"
   },
   {
    "duration": 291,
    "start_time": "2022-12-22T06:07:34.984Z"
   },
   {
    "duration": 197,
    "start_time": "2022-12-22T06:07:35.277Z"
   },
   {
    "duration": 47,
    "start_time": "2022-12-22T06:07:35.476Z"
   },
   {
    "duration": 71,
    "start_time": "2022-12-22T06:07:35.525Z"
   },
   {
    "duration": 12,
    "start_time": "2022-12-22T06:07:35.598Z"
   },
   {
    "duration": 80,
    "start_time": "2022-12-22T06:07:35.612Z"
   },
   {
    "duration": 342,
    "start_time": "2022-12-22T06:07:35.694Z"
   },
   {
    "duration": 1758,
    "start_time": "2022-12-22T06:37:56.074Z"
   },
   {
    "duration": 1149,
    "start_time": "2022-12-22T06:37:57.834Z"
   },
   {
    "duration": 164,
    "start_time": "2022-12-22T06:37:58.985Z"
   },
   {
    "duration": 58,
    "start_time": "2022-12-22T06:37:59.152Z"
   },
   {
    "duration": 298,
    "start_time": "2022-12-22T06:37:59.211Z"
   },
   {
    "duration": 80,
    "start_time": "2022-12-22T06:37:59.511Z"
   },
   {
    "duration": 217,
    "start_time": "2022-12-22T06:37:59.593Z"
   },
   {
    "duration": 191,
    "start_time": "2022-12-22T06:37:59.812Z"
   },
   {
    "duration": 96,
    "start_time": "2022-12-22T06:38:00.005Z"
   },
   {
    "duration": 171,
    "start_time": "2022-12-22T06:38:00.103Z"
   },
   {
    "duration": 330,
    "start_time": "2022-12-22T06:38:00.276Z"
   },
   {
    "duration": 162,
    "start_time": "2022-12-22T06:38:00.608Z"
   },
   {
    "duration": 255,
    "start_time": "2022-12-22T06:38:00.772Z"
   },
   {
    "duration": 190,
    "start_time": "2022-12-22T06:38:01.036Z"
   },
   {
    "duration": 48,
    "start_time": "2022-12-22T06:38:01.235Z"
   },
   {
    "duration": 83,
    "start_time": "2022-12-22T06:38:01.284Z"
   },
   {
    "duration": 148,
    "start_time": "2022-12-22T06:38:01.369Z"
   },
   {
    "duration": 334,
    "start_time": "2022-12-22T06:38:01.518Z"
   },
   {
    "duration": 97983,
    "start_time": "2022-12-22T06:38:01.854Z"
   },
   {
    "duration": 2,
    "start_time": "2022-12-22T06:39:39.839Z"
   },
   {
    "duration": 13,
    "start_time": "2022-12-22T06:39:39.842Z"
   },
   {
    "duration": 16,
    "start_time": "2022-12-22T06:39:39.857Z"
   },
   {
    "duration": 179,
    "start_time": "2022-12-22T06:39:39.874Z"
   },
   {
    "duration": 153,
    "start_time": "2022-12-22T06:39:40.056Z"
   },
   {
    "duration": 1446,
    "start_time": "2022-12-22T06:41:57.497Z"
   },
   {
    "duration": 1018,
    "start_time": "2022-12-22T06:41:58.945Z"
   },
   {
    "duration": 146,
    "start_time": "2022-12-22T06:41:59.965Z"
   },
   {
    "duration": 63,
    "start_time": "2022-12-22T06:42:00.114Z"
   },
   {
    "duration": 210,
    "start_time": "2022-12-22T06:42:00.180Z"
   },
   {
    "duration": 69,
    "start_time": "2022-12-22T06:42:00.391Z"
   },
   {
    "duration": 165,
    "start_time": "2022-12-22T06:42:00.462Z"
   },
   {
    "duration": 70,
    "start_time": "2022-12-22T06:42:00.634Z"
   },
   {
    "duration": 155,
    "start_time": "2022-12-22T06:42:00.705Z"
   },
   {
    "duration": 151,
    "start_time": "2022-12-22T06:42:00.863Z"
   },
   {
    "duration": 300,
    "start_time": "2022-12-22T06:42:01.016Z"
   },
   {
    "duration": 156,
    "start_time": "2022-12-22T06:42:01.317Z"
   },
   {
    "duration": 227,
    "start_time": "2022-12-22T06:42:01.475Z"
   },
   {
    "duration": 168,
    "start_time": "2022-12-22T06:42:01.704Z"
   },
   {
    "duration": 43,
    "start_time": "2022-12-22T06:42:01.874Z"
   },
   {
    "duration": 25,
    "start_time": "2022-12-22T06:42:01.919Z"
   },
   {
    "duration": 72,
    "start_time": "2022-12-22T06:42:01.946Z"
   },
   {
    "duration": 327,
    "start_time": "2022-12-22T06:42:02.020Z"
   },
   {
    "duration": 152210,
    "start_time": "2022-12-22T06:42:02.349Z"
   },
   {
    "duration": 2,
    "start_time": "2022-12-22T06:44:34.561Z"
   },
   {
    "duration": 24,
    "start_time": "2022-12-22T06:44:34.565Z"
   },
   {
    "duration": 24,
    "start_time": "2022-12-22T06:44:34.591Z"
   },
   {
    "duration": 159,
    "start_time": "2022-12-22T06:44:34.636Z"
   },
   {
    "duration": 50,
    "start_time": "2022-12-22T07:07:20.760Z"
   },
   {
    "duration": 146,
    "start_time": "2022-12-22T07:07:34.478Z"
   },
   {
    "duration": 65,
    "start_time": "2022-12-22T08:22:54.319Z"
   },
   {
    "duration": 1394,
    "start_time": "2022-12-22T08:23:07.675Z"
   },
   {
    "duration": 1020,
    "start_time": "2022-12-22T08:23:09.071Z"
   },
   {
    "duration": 133,
    "start_time": "2022-12-22T08:23:10.094Z"
   },
   {
    "duration": 55,
    "start_time": "2022-12-22T08:23:10.234Z"
   },
   {
    "duration": 222,
    "start_time": "2022-12-22T08:23:10.290Z"
   },
   {
    "duration": 72,
    "start_time": "2022-12-22T08:23:10.514Z"
   },
   {
    "duration": 169,
    "start_time": "2022-12-22T08:23:10.588Z"
   },
   {
    "duration": 78,
    "start_time": "2022-12-22T08:23:10.758Z"
   },
   {
    "duration": 137,
    "start_time": "2022-12-22T08:23:10.849Z"
   },
   {
    "duration": 136,
    "start_time": "2022-12-22T08:23:10.988Z"
   },
   {
    "duration": 292,
    "start_time": "2022-12-22T08:23:11.125Z"
   },
   {
    "duration": 150,
    "start_time": "2022-12-22T08:23:11.419Z"
   },
   {
    "duration": 257,
    "start_time": "2022-12-22T08:23:11.570Z"
   },
   {
    "duration": 155,
    "start_time": "2022-12-22T08:23:11.829Z"
   },
   {
    "duration": 56,
    "start_time": "2022-12-22T08:23:11.986Z"
   },
   {
    "duration": 16,
    "start_time": "2022-12-22T08:23:12.043Z"
   },
   {
    "duration": 56,
    "start_time": "2022-12-22T08:23:12.060Z"
   },
   {
    "duration": 340,
    "start_time": "2022-12-22T08:23:12.118Z"
   },
   {
    "duration": 3,
    "start_time": "2022-12-22T08:23:12.460Z"
   },
   {
    "duration": 18,
    "start_time": "2022-12-22T08:23:12.465Z"
   },
   {
    "duration": 1058859,
    "start_time": "2022-12-22T08:23:12.485Z"
   },
   {
    "duration": 63,
    "start_time": "2022-12-22T08:40:51.345Z"
   },
   {
    "duration": 0,
    "start_time": "2022-12-22T08:40:51.409Z"
   },
   {
    "duration": 0,
    "start_time": "2022-12-22T08:40:51.410Z"
   },
   {
    "duration": 0,
    "start_time": "2022-12-22T08:40:51.412Z"
   },
   {
    "duration": 40,
    "start_time": "2022-12-22T08:41:37.558Z"
   },
   {
    "duration": 40,
    "start_time": "2022-12-22T08:41:45.434Z"
   },
   {
    "duration": 10695,
    "start_time": "2022-12-22T08:44:41.358Z"
   },
   {
    "duration": 1433,
    "start_time": "2022-12-22T09:08:45.786Z"
   },
   {
    "duration": 956,
    "start_time": "2022-12-22T09:08:47.221Z"
   },
   {
    "duration": 127,
    "start_time": "2022-12-22T09:08:48.179Z"
   },
   {
    "duration": 59,
    "start_time": "2022-12-22T09:08:48.308Z"
   },
   {
    "duration": 210,
    "start_time": "2022-12-22T09:08:48.370Z"
   },
   {
    "duration": 68,
    "start_time": "2022-12-22T09:08:48.581Z"
   },
   {
    "duration": 166,
    "start_time": "2022-12-22T09:08:48.651Z"
   },
   {
    "duration": 85,
    "start_time": "2022-12-22T09:08:48.819Z"
   },
   {
    "duration": 148,
    "start_time": "2022-12-22T09:08:48.906Z"
   },
   {
    "duration": 159,
    "start_time": "2022-12-22T09:08:49.057Z"
   },
   {
    "duration": 296,
    "start_time": "2022-12-22T09:08:49.218Z"
   },
   {
    "duration": 149,
    "start_time": "2022-12-22T09:08:49.516Z"
   },
   {
    "duration": 224,
    "start_time": "2022-12-22T09:08:49.666Z"
   },
   {
    "duration": 165,
    "start_time": "2022-12-22T09:08:49.892Z"
   },
   {
    "duration": 42,
    "start_time": "2022-12-22T09:08:50.059Z"
   },
   {
    "duration": 33,
    "start_time": "2022-12-22T09:08:50.103Z"
   },
   {
    "duration": 62,
    "start_time": "2022-12-22T09:08:50.137Z"
   },
   {
    "duration": 285,
    "start_time": "2022-12-22T09:08:50.201Z"
   },
   {
    "duration": 3,
    "start_time": "2022-12-22T09:08:50.487Z"
   },
   {
    "duration": 18,
    "start_time": "2022-12-22T09:08:50.491Z"
   },
   {
    "duration": 424534,
    "start_time": "2022-12-22T09:08:50.511Z"
   },
   {
    "duration": 38,
    "start_time": "2022-12-22T09:15:55.047Z"
   },
   {
    "duration": 9357,
    "start_time": "2022-12-22T09:15:55.087Z"
   },
   {
    "duration": 3,
    "start_time": "2022-12-22T09:16:04.446Z"
   },
   {
    "duration": 167,
    "start_time": "2022-12-22T09:16:04.451Z"
   },
   {
    "duration": 44,
    "start_time": "2022-12-22T09:24:03.918Z"
   },
   {
    "duration": 8790,
    "start_time": "2022-12-22T09:24:21.807Z"
   },
   {
    "duration": 12,
    "start_time": "2022-12-22T09:44:35.120Z"
   },
   {
    "duration": 11,
    "start_time": "2022-12-22T09:44:40.751Z"
   },
   {
    "duration": 13,
    "start_time": "2022-12-22T09:45:53.150Z"
   },
   {
    "duration": 10,
    "start_time": "2022-12-22T09:47:40.020Z"
   },
   {
    "duration": 11,
    "start_time": "2022-12-22T09:47:53.362Z"
   },
   {
    "duration": 11,
    "start_time": "2022-12-22T09:48:20.010Z"
   },
   {
    "duration": 11,
    "start_time": "2022-12-22T09:48:46.920Z"
   },
   {
    "duration": 11,
    "start_time": "2022-12-22T09:49:02.310Z"
   },
   {
    "duration": 11,
    "start_time": "2022-12-22T09:49:50.740Z"
   },
   {
    "duration": 13,
    "start_time": "2022-12-22T09:50:13.670Z"
   },
   {
    "duration": 9321,
    "start_time": "2022-12-22T10:00:15.027Z"
   },
   {
    "duration": 11,
    "start_time": "2022-12-22T10:02:26.394Z"
   },
   {
    "duration": 3,
    "start_time": "2022-12-22T10:03:14.246Z"
   },
   {
    "duration": 10,
    "start_time": "2022-12-22T10:03:42.045Z"
   },
   {
    "duration": 10,
    "start_time": "2022-12-22T10:04:08.635Z"
   },
   {
    "duration": 10,
    "start_time": "2022-12-22T10:04:53.875Z"
   },
   {
    "duration": 10,
    "start_time": "2022-12-22T10:08:08.155Z"
   },
   {
    "duration": 10,
    "start_time": "2022-12-22T10:08:32.892Z"
   },
   {
    "duration": 10,
    "start_time": "2022-12-22T10:08:40.394Z"
   },
   {
    "duration": 11,
    "start_time": "2022-12-22T10:08:52.134Z"
   },
   {
    "duration": 9085,
    "start_time": "2022-12-22T10:11:00.414Z"
   },
   {
    "duration": 10,
    "start_time": "2022-12-22T10:11:35.365Z"
   },
   {
    "duration": 9,
    "start_time": "2022-12-22T10:13:44.824Z"
   },
   {
    "duration": 10,
    "start_time": "2022-12-22T10:13:59.954Z"
   },
   {
    "duration": 11,
    "start_time": "2022-12-22T10:14:07.374Z"
   },
   {
    "duration": 10,
    "start_time": "2022-12-22T10:17:48.724Z"
   },
   {
    "duration": 11,
    "start_time": "2022-12-22T10:18:11.454Z"
   },
   {
    "duration": 15,
    "start_time": "2022-12-22T10:18:17.434Z"
   },
   {
    "duration": 11,
    "start_time": "2022-12-22T10:18:58.614Z"
   },
   {
    "duration": 14,
    "start_time": "2022-12-22T10:19:03.205Z"
   },
   {
    "duration": 15,
    "start_time": "2022-12-22T10:20:51.601Z"
   },
   {
    "duration": 0,
    "start_time": "2022-12-22T10:27:46.775Z"
   },
   {
    "duration": 9598,
    "start_time": "2022-12-22T10:32:30.403Z"
   },
   {
    "duration": 1451,
    "start_time": "2022-12-22T10:38:32.178Z"
   },
   {
    "duration": 1051,
    "start_time": "2022-12-22T10:38:33.630Z"
   },
   {
    "duration": 133,
    "start_time": "2022-12-22T10:38:34.683Z"
   },
   {
    "duration": 52,
    "start_time": "2022-12-22T10:38:34.818Z"
   },
   {
    "duration": 249,
    "start_time": "2022-12-22T10:38:34.872Z"
   },
   {
    "duration": 70,
    "start_time": "2022-12-22T10:38:35.123Z"
   },
   {
    "duration": 186,
    "start_time": "2022-12-22T10:38:35.195Z"
   },
   {
    "duration": 80,
    "start_time": "2022-12-22T10:38:35.383Z"
   },
   {
    "duration": 149,
    "start_time": "2022-12-22T10:38:35.465Z"
   },
   {
    "duration": 134,
    "start_time": "2022-12-22T10:38:35.616Z"
   },
   {
    "duration": 310,
    "start_time": "2022-12-22T10:38:35.751Z"
   },
   {
    "duration": 150,
    "start_time": "2022-12-22T10:38:36.063Z"
   },
   {
    "duration": 245,
    "start_time": "2022-12-22T10:38:36.215Z"
   },
   {
    "duration": 169,
    "start_time": "2022-12-22T10:38:36.462Z"
   },
   {
    "duration": 48,
    "start_time": "2022-12-22T10:38:36.636Z"
   },
   {
    "duration": 16,
    "start_time": "2022-12-22T10:38:36.686Z"
   },
   {
    "duration": 93,
    "start_time": "2022-12-22T10:38:36.704Z"
   },
   {
    "duration": 308,
    "start_time": "2022-12-22T10:38:36.799Z"
   },
   {
    "duration": 3,
    "start_time": "2022-12-22T10:38:37.109Z"
   },
   {
    "duration": 20,
    "start_time": "2022-12-22T10:38:37.113Z"
   },
   {
    "duration": 423102,
    "start_time": "2022-12-22T10:38:37.135Z"
   },
   {
    "duration": 40,
    "start_time": "2022-12-22T10:45:40.239Z"
   },
   {
    "duration": 3,
    "start_time": "2022-12-22T10:45:40.281Z"
   },
   {
    "duration": 4571,
    "start_time": "2022-12-22T10:45:40.286Z"
   },
   {
    "duration": 0,
    "start_time": "2022-12-22T10:45:44.858Z"
   },
   {
    "duration": 0,
    "start_time": "2022-12-22T10:45:44.860Z"
   },
   {
    "duration": 0,
    "start_time": "2022-12-22T10:45:44.861Z"
   },
   {
    "duration": 4433,
    "start_time": "2022-12-22T10:46:28.320Z"
   },
   {
    "duration": 10,
    "start_time": "2022-12-22T10:47:01.132Z"
   },
   {
    "duration": 10,
    "start_time": "2022-12-22T10:47:05.875Z"
   },
   {
    "duration": 9095,
    "start_time": "2022-12-22T10:47:19.066Z"
   },
   {
    "duration": 50130,
    "start_time": "2022-12-22T10:52:07.906Z"
   },
   {
    "duration": 25,
    "start_time": "2022-12-22T11:04:35.727Z"
   },
   {
    "duration": 56,
    "start_time": "2022-12-22T11:05:11.803Z"
   },
   {
    "duration": 1317,
    "start_time": "2022-12-22T11:32:23.397Z"
   },
   {
    "duration": 1019,
    "start_time": "2022-12-22T11:32:24.716Z"
   },
   {
    "duration": 140,
    "start_time": "2022-12-22T11:32:25.737Z"
   },
   {
    "duration": 61,
    "start_time": "2022-12-22T11:32:25.879Z"
   },
   {
    "duration": 245,
    "start_time": "2022-12-22T11:32:25.942Z"
   },
   {
    "duration": 71,
    "start_time": "2022-12-22T11:32:26.189Z"
   },
   {
    "duration": 185,
    "start_time": "2022-12-22T11:32:26.261Z"
   },
   {
    "duration": 87,
    "start_time": "2022-12-22T11:32:26.448Z"
   },
   {
    "duration": 161,
    "start_time": "2022-12-22T11:32:26.537Z"
   },
   {
    "duration": 181,
    "start_time": "2022-12-22T11:32:26.701Z"
   },
   {
    "duration": 308,
    "start_time": "2022-12-22T11:32:26.883Z"
   },
   {
    "duration": 164,
    "start_time": "2022-12-22T11:32:27.194Z"
   },
   {
    "duration": 230,
    "start_time": "2022-12-22T11:32:27.360Z"
   },
   {
    "duration": 205,
    "start_time": "2022-12-22T11:32:27.592Z"
   },
   {
    "duration": 56,
    "start_time": "2022-12-22T11:32:27.800Z"
   },
   {
    "duration": 15,
    "start_time": "2022-12-22T11:32:27.858Z"
   },
   {
    "duration": 78,
    "start_time": "2022-12-22T11:32:27.874Z"
   },
   {
    "duration": 312,
    "start_time": "2022-12-22T11:32:27.954Z"
   },
   {
    "duration": 3,
    "start_time": "2022-12-22T11:32:28.268Z"
   },
   {
    "duration": 15,
    "start_time": "2022-12-22T11:32:28.273Z"
   },
   {
    "duration": 1704952,
    "start_time": "2022-12-22T11:32:28.290Z"
   },
   {
    "duration": 38,
    "start_time": "2022-12-22T12:00:53.244Z"
   },
   {
    "duration": 35852,
    "start_time": "2022-12-22T12:00:53.284Z"
   },
   {
    "duration": 3,
    "start_time": "2022-12-22T12:01:29.137Z"
   },
   {
    "duration": 165,
    "start_time": "2022-12-22T12:01:29.141Z"
   },
   {
    "duration": 36,
    "start_time": "2022-12-22T12:02:41.256Z"
   },
   {
    "duration": 36680,
    "start_time": "2022-12-22T12:44:49.956Z"
   },
   {
    "duration": 59,
    "start_time": "2022-12-22T12:47:54.442Z"
   },
   {
    "duration": 55,
    "start_time": "2022-12-22T12:48:20.811Z"
   },
   {
    "duration": 202355,
    "start_time": "2022-12-22T12:48:29.526Z"
   },
   {
    "duration": 201466,
    "start_time": "2022-12-22T12:54:04.224Z"
   },
   {
    "duration": 196313,
    "start_time": "2022-12-22T12:57:44.290Z"
   },
   {
    "duration": 194070,
    "start_time": "2022-12-22T13:01:15.149Z"
   },
   {
    "duration": 1355,
    "start_time": "2022-12-22T13:16:44.066Z"
   },
   {
    "duration": 958,
    "start_time": "2022-12-22T13:16:45.422Z"
   },
   {
    "duration": 128,
    "start_time": "2022-12-22T13:16:46.381Z"
   },
   {
    "duration": 58,
    "start_time": "2022-12-22T13:16:46.511Z"
   },
   {
    "duration": 241,
    "start_time": "2022-12-22T13:16:46.570Z"
   },
   {
    "duration": 65,
    "start_time": "2022-12-22T13:16:46.812Z"
   },
   {
    "duration": 160,
    "start_time": "2022-12-22T13:16:46.879Z"
   },
   {
    "duration": 67,
    "start_time": "2022-12-22T13:16:47.041Z"
   },
   {
    "duration": 153,
    "start_time": "2022-12-22T13:16:47.110Z"
   },
   {
    "duration": 126,
    "start_time": "2022-12-22T13:16:47.266Z"
   },
   {
    "duration": 278,
    "start_time": "2022-12-22T13:16:47.393Z"
   },
   {
    "duration": 154,
    "start_time": "2022-12-22T13:16:47.673Z"
   },
   {
    "duration": 219,
    "start_time": "2022-12-22T13:16:47.835Z"
   },
   {
    "duration": 151,
    "start_time": "2022-12-22T13:16:48.056Z"
   },
   {
    "duration": 52,
    "start_time": "2022-12-22T13:16:48.209Z"
   },
   {
    "duration": 14,
    "start_time": "2022-12-22T13:16:48.263Z"
   },
   {
    "duration": 67,
    "start_time": "2022-12-22T13:16:48.278Z"
   },
   {
    "duration": 278,
    "start_time": "2022-12-22T13:16:48.347Z"
   },
   {
    "duration": 2,
    "start_time": "2022-12-22T13:16:48.627Z"
   },
   {
    "duration": 20,
    "start_time": "2022-12-22T13:16:48.631Z"
   },
   {
    "duration": 9,
    "start_time": "2022-12-22T13:16:48.653Z"
   },
   {
    "duration": 10,
    "start_time": "2022-12-22T13:16:48.663Z"
   },
   {
    "duration": 16,
    "start_time": "2022-12-22T13:16:48.675Z"
   },
   {
    "duration": 201287,
    "start_time": "2022-12-22T13:16:48.693Z"
   },
   {
    "duration": 4223,
    "start_time": "2022-12-22T13:20:09.981Z"
   },
   {
    "duration": 197422,
    "start_time": "2022-12-22T13:21:51.012Z"
   },
   {
    "duration": 1426,
    "start_time": "2022-12-22T13:44:44.697Z"
   },
   {
    "duration": 1081,
    "start_time": "2022-12-22T13:44:46.125Z"
   },
   {
    "duration": 143,
    "start_time": "2022-12-22T13:44:47.207Z"
   },
   {
    "duration": 52,
    "start_time": "2022-12-22T13:44:47.353Z"
   },
   {
    "duration": 251,
    "start_time": "2022-12-22T13:44:47.406Z"
   },
   {
    "duration": 64,
    "start_time": "2022-12-22T13:44:47.658Z"
   },
   {
    "duration": 181,
    "start_time": "2022-12-22T13:44:47.735Z"
   },
   {
    "duration": 89,
    "start_time": "2022-12-22T13:44:47.918Z"
   },
   {
    "duration": 148,
    "start_time": "2022-12-22T13:44:48.009Z"
   },
   {
    "duration": 144,
    "start_time": "2022-12-22T13:44:48.159Z"
   },
   {
    "duration": 304,
    "start_time": "2022-12-22T13:44:48.305Z"
   },
   {
    "duration": 171,
    "start_time": "2022-12-22T13:44:48.611Z"
   },
   {
    "duration": 239,
    "start_time": "2022-12-22T13:44:48.784Z"
   },
   {
    "duration": 189,
    "start_time": "2022-12-22T13:44:49.025Z"
   },
   {
    "duration": 54,
    "start_time": "2022-12-22T13:44:49.216Z"
   },
   {
    "duration": 14,
    "start_time": "2022-12-22T13:44:49.272Z"
   },
   {
    "duration": 76,
    "start_time": "2022-12-22T13:44:49.288Z"
   },
   {
    "duration": 305,
    "start_time": "2022-12-22T13:44:49.366Z"
   },
   {
    "duration": 2,
    "start_time": "2022-12-22T13:44:49.673Z"
   },
   {
    "duration": 30,
    "start_time": "2022-12-22T13:44:49.677Z"
   },
   {
    "duration": 27,
    "start_time": "2022-12-22T13:44:49.709Z"
   },
   {
    "duration": 21,
    "start_time": "2022-12-22T13:44:49.738Z"
   },
   {
    "duration": 17,
    "start_time": "2022-12-22T13:44:49.760Z"
   },
   {
    "duration": 213493,
    "start_time": "2022-12-22T13:44:49.779Z"
   },
   {
    "duration": 151,
    "start_time": "2022-12-22T13:48:23.273Z"
   },
   {
    "duration": 202429,
    "start_time": "2022-12-22T13:49:15.767Z"
   },
   {
    "duration": 199438,
    "start_time": "2022-12-22T13:57:10.326Z"
   },
   {
    "duration": 4152,
    "start_time": "2022-12-22T14:00:56.181Z"
   },
   {
    "duration": 51,
    "start_time": "2022-12-22T14:07:11.788Z"
   },
   {
    "duration": 60,
    "start_time": "2022-12-22T14:10:19.198Z"
   },
   {
    "duration": 1447,
    "start_time": "2022-12-22T14:13:45.809Z"
   },
   {
    "duration": 983,
    "start_time": "2022-12-22T14:13:47.258Z"
   },
   {
    "duration": 126,
    "start_time": "2022-12-22T14:13:48.242Z"
   },
   {
    "duration": 53,
    "start_time": "2022-12-22T14:13:48.370Z"
   },
   {
    "duration": 215,
    "start_time": "2022-12-22T14:13:48.435Z"
   },
   {
    "duration": 61,
    "start_time": "2022-12-22T14:13:48.651Z"
   },
   {
    "duration": 183,
    "start_time": "2022-12-22T14:13:48.713Z"
   },
   {
    "duration": 78,
    "start_time": "2022-12-22T14:13:48.897Z"
   },
   {
    "duration": 171,
    "start_time": "2022-12-22T14:13:48.977Z"
   },
   {
    "duration": 156,
    "start_time": "2022-12-22T14:13:49.151Z"
   },
   {
    "duration": 299,
    "start_time": "2022-12-22T14:13:49.309Z"
   },
   {
    "duration": 163,
    "start_time": "2022-12-22T14:13:49.609Z"
   },
   {
    "duration": 245,
    "start_time": "2022-12-22T14:13:49.774Z"
   },
   {
    "duration": 183,
    "start_time": "2022-12-22T14:13:50.021Z"
   },
   {
    "duration": 51,
    "start_time": "2022-12-22T14:13:50.206Z"
   },
   {
    "duration": 14,
    "start_time": "2022-12-22T14:13:50.258Z"
   },
   {
    "duration": 85,
    "start_time": "2022-12-22T14:13:50.273Z"
   },
   {
    "duration": 302,
    "start_time": "2022-12-22T14:13:50.360Z"
   },
   {
    "duration": 722981,
    "start_time": "2022-12-22T14:13:50.664Z"
   },
   {
    "duration": 40,
    "start_time": "2022-12-22T14:25:53.647Z"
   },
   {
    "duration": 55487,
    "start_time": "2022-12-22T14:25:53.689Z"
   },
   {
    "duration": 202844,
    "start_time": "2022-12-22T14:26:49.178Z"
   },
   {
    "duration": 58,
    "start_time": "2022-12-22T14:30:12.024Z"
   },
   {
    "duration": 4262,
    "start_time": "2022-12-22T14:30:12.084Z"
   },
   {
    "duration": 51,
    "start_time": "2022-12-22T14:33:07.230Z"
   },
   {
    "duration": 1593,
    "start_time": "2022-12-26T08:25:08.057Z"
   },
   {
    "duration": 1222,
    "start_time": "2022-12-26T08:25:09.652Z"
   },
   {
    "duration": 107,
    "start_time": "2022-12-26T08:25:16.241Z"
   },
   {
    "duration": 48,
    "start_time": "2022-12-26T08:25:17.725Z"
   },
   {
    "duration": 197,
    "start_time": "2022-12-26T08:25:22.813Z"
   },
   {
    "duration": 58,
    "start_time": "2022-12-26T08:25:25.481Z"
   },
   {
    "duration": 163,
    "start_time": "2022-12-26T08:25:28.080Z"
   },
   {
    "duration": 75,
    "start_time": "2022-12-26T08:25:31.043Z"
   },
   {
    "duration": 214,
    "start_time": "2022-12-26T08:25:37.208Z"
   },
   {
    "duration": 204,
    "start_time": "2022-12-26T08:25:43.369Z"
   },
   {
    "duration": 235,
    "start_time": "2022-12-26T08:25:47.809Z"
   },
   {
    "duration": 13,
    "start_time": "2022-12-26T08:26:04.417Z"
   },
   {
    "duration": 57,
    "start_time": "2022-12-26T08:26:18.811Z"
   },
   {
    "duration": 158,
    "start_time": "2022-12-26T08:26:40.639Z"
   },
   {
    "duration": 18,
    "start_time": "2022-12-26T08:27:00.932Z"
   },
   {
    "duration": 52,
    "start_time": "2022-12-26T08:27:11.275Z"
   },
   {
    "duration": 20,
    "start_time": "2022-12-26T08:27:18.936Z"
   },
   {
    "duration": 23,
    "start_time": "2022-12-26T08:35:55.663Z"
   },
   {
    "duration": 25,
    "start_time": "2022-12-26T09:06:06.633Z"
   },
   {
    "duration": 16,
    "start_time": "2022-12-26T09:06:20.041Z"
   },
   {
    "duration": 274,
    "start_time": "2022-12-26T09:07:39.669Z"
   },
   {
    "duration": 19,
    "start_time": "2022-12-26T09:08:56.402Z"
   },
   {
    "duration": 22,
    "start_time": "2022-12-26T09:09:08.386Z"
   },
   {
    "duration": 13,
    "start_time": "2022-12-26T09:10:32.879Z"
   },
   {
    "duration": 16,
    "start_time": "2022-12-26T09:14:16.647Z"
   },
   {
    "duration": 19,
    "start_time": "2022-12-26T09:14:39.704Z"
   },
   {
    "duration": 114,
    "start_time": "2022-12-26T09:19:17.099Z"
   },
   {
    "duration": 90,
    "start_time": "2022-12-26T09:26:03.391Z"
   },
   {
    "duration": 71,
    "start_time": "2022-12-26T09:26:22.967Z"
   },
   {
    "duration": 44,
    "start_time": "2022-12-26T09:28:20.110Z"
   },
   {
    "duration": 8,
    "start_time": "2022-12-26T10:30:39.165Z"
   },
   {
    "duration": 5,
    "start_time": "2022-12-26T10:31:34.834Z"
   },
   {
    "duration": 929,
    "start_time": "2022-12-26T10:31:34.841Z"
   },
   {
    "duration": 125,
    "start_time": "2022-12-26T10:31:35.772Z"
   },
   {
    "duration": 54,
    "start_time": "2022-12-26T10:31:35.899Z"
   },
   {
    "duration": 237,
    "start_time": "2022-12-26T10:31:35.955Z"
   },
   {
    "duration": 58,
    "start_time": "2022-12-26T10:31:36.197Z"
   },
   {
    "duration": 182,
    "start_time": "2022-12-26T10:31:36.257Z"
   },
   {
    "duration": 72,
    "start_time": "2022-12-26T10:31:36.441Z"
   },
   {
    "duration": 154,
    "start_time": "2022-12-26T10:31:36.515Z"
   },
   {
    "duration": 136,
    "start_time": "2022-12-26T10:31:36.671Z"
   },
   {
    "duration": 218,
    "start_time": "2022-12-26T10:31:36.809Z"
   },
   {
    "duration": 162,
    "start_time": "2022-12-26T10:31:37.029Z"
   },
   {
    "duration": 226,
    "start_time": "2022-12-26T10:31:37.193Z"
   },
   {
    "duration": 162,
    "start_time": "2022-12-26T10:31:37.422Z"
   },
   {
    "duration": 50,
    "start_time": "2022-12-26T10:31:37.585Z"
   },
   {
    "duration": 15,
    "start_time": "2022-12-26T10:31:37.637Z"
   },
   {
    "duration": 71,
    "start_time": "2022-12-26T10:31:37.654Z"
   },
   {
    "duration": 136,
    "start_time": "2022-12-26T10:31:37.726Z"
   },
   {
    "duration": 0,
    "start_time": "2022-12-26T10:31:37.863Z"
   },
   {
    "duration": 0,
    "start_time": "2022-12-26T10:31:37.865Z"
   },
   {
    "duration": 0,
    "start_time": "2022-12-26T10:31:37.866Z"
   },
   {
    "duration": 0,
    "start_time": "2022-12-26T10:31:37.867Z"
   },
   {
    "duration": 0,
    "start_time": "2022-12-26T10:31:37.868Z"
   },
   {
    "duration": 0,
    "start_time": "2022-12-26T10:31:37.869Z"
   },
   {
    "duration": 0,
    "start_time": "2022-12-26T10:31:37.869Z"
   },
   {
    "duration": 69,
    "start_time": "2022-12-26T10:39:29.747Z"
   },
   {
    "duration": 4,
    "start_time": "2022-12-26T10:39:42.063Z"
   },
   {
    "duration": 867,
    "start_time": "2022-12-26T10:39:42.130Z"
   },
   {
    "duration": 121,
    "start_time": "2022-12-26T10:39:42.999Z"
   },
   {
    "duration": 45,
    "start_time": "2022-12-26T10:39:43.122Z"
   },
   {
    "duration": 198,
    "start_time": "2022-12-26T10:39:43.168Z"
   },
   {
    "duration": 70,
    "start_time": "2022-12-26T10:39:43.369Z"
   },
   {
    "duration": 172,
    "start_time": "2022-12-26T10:39:43.440Z"
   },
   {
    "duration": 64,
    "start_time": "2022-12-26T10:39:43.613Z"
   },
   {
    "duration": 170,
    "start_time": "2022-12-26T10:39:43.679Z"
   },
   {
    "duration": 151,
    "start_time": "2022-12-26T10:39:43.851Z"
   },
   {
    "duration": 214,
    "start_time": "2022-12-26T10:39:44.003Z"
   },
   {
    "duration": 246,
    "start_time": "2022-12-26T10:39:44.219Z"
   },
   {
    "duration": 223,
    "start_time": "2022-12-26T10:39:44.466Z"
   },
   {
    "duration": 171,
    "start_time": "2022-12-26T10:39:44.691Z"
   },
   {
    "duration": 56,
    "start_time": "2022-12-26T10:39:44.866Z"
   },
   {
    "duration": 17,
    "start_time": "2022-12-26T10:39:44.923Z"
   },
   {
    "duration": 73,
    "start_time": "2022-12-26T10:39:44.941Z"
   },
   {
    "duration": 235,
    "start_time": "2022-12-26T10:39:45.016Z"
   },
   {
    "duration": 0,
    "start_time": "2022-12-26T10:39:45.253Z"
   },
   {
    "duration": 0,
    "start_time": "2022-12-26T10:39:45.255Z"
   },
   {
    "duration": 0,
    "start_time": "2022-12-26T10:39:45.256Z"
   },
   {
    "duration": 0,
    "start_time": "2022-12-26T10:39:45.257Z"
   },
   {
    "duration": 0,
    "start_time": "2022-12-26T10:39:45.259Z"
   },
   {
    "duration": 0,
    "start_time": "2022-12-26T10:39:45.260Z"
   },
   {
    "duration": 0,
    "start_time": "2022-12-26T10:39:45.261Z"
   },
   {
    "duration": 52,
    "start_time": "2022-12-26T10:40:18.416Z"
   },
   {
    "duration": 62,
    "start_time": "2022-12-26T10:40:56.494Z"
   },
   {
    "duration": 57,
    "start_time": "2022-12-26T10:41:13.334Z"
   },
   {
    "duration": 4,
    "start_time": "2022-12-26T10:41:19.893Z"
   },
   {
    "duration": 885,
    "start_time": "2022-12-26T10:41:23.229Z"
   },
   {
    "duration": 119,
    "start_time": "2022-12-26T10:41:31.748Z"
   },
   {
    "duration": 175,
    "start_time": "2022-12-26T10:42:10.795Z"
   },
   {
    "duration": 57,
    "start_time": "2022-12-26T10:42:21.213Z"
   },
   {
    "duration": 55,
    "start_time": "2022-12-26T10:42:40.341Z"
   },
   {
    "duration": 1382,
    "start_time": "2022-12-26T10:42:57.188Z"
   },
   {
    "duration": 913,
    "start_time": "2022-12-26T10:42:58.572Z"
   },
   {
    "duration": 118,
    "start_time": "2022-12-26T10:42:59.486Z"
   },
   {
    "duration": 46,
    "start_time": "2022-12-26T10:42:59.606Z"
   },
   {
    "duration": 197,
    "start_time": "2022-12-26T10:42:59.654Z"
   },
   {
    "duration": 70,
    "start_time": "2022-12-26T10:42:59.853Z"
   },
   {
    "duration": 179,
    "start_time": "2022-12-26T10:42:59.925Z"
   },
   {
    "duration": 71,
    "start_time": "2022-12-26T10:43:00.106Z"
   },
   {
    "duration": 167,
    "start_time": "2022-12-26T10:43:00.179Z"
   },
   {
    "duration": 148,
    "start_time": "2022-12-26T10:43:00.349Z"
   },
   {
    "duration": 303,
    "start_time": "2022-12-26T10:43:00.499Z"
   },
   {
    "duration": 169,
    "start_time": "2022-12-26T10:43:00.804Z"
   },
   {
    "duration": 227,
    "start_time": "2022-12-26T10:43:00.975Z"
   },
   {
    "duration": 171,
    "start_time": "2022-12-26T10:43:01.203Z"
   },
   {
    "duration": 59,
    "start_time": "2022-12-26T10:43:01.377Z"
   },
   {
    "duration": 15,
    "start_time": "2022-12-26T10:43:01.438Z"
   },
   {
    "duration": 72,
    "start_time": "2022-12-26T10:43:01.455Z"
   },
   {
    "duration": 507,
    "start_time": "2022-12-26T10:43:01.528Z"
   },
   {
    "duration": 1439,
    "start_time": "2022-12-26T10:46:43.331Z"
   },
   {
    "duration": 906,
    "start_time": "2022-12-26T10:46:44.773Z"
   },
   {
    "duration": 118,
    "start_time": "2022-12-26T10:46:45.680Z"
   },
   {
    "duration": 46,
    "start_time": "2022-12-26T10:46:45.800Z"
   },
   {
    "duration": 198,
    "start_time": "2022-12-26T10:46:45.848Z"
   },
   {
    "duration": 77,
    "start_time": "2022-12-26T10:46:46.048Z"
   },
   {
    "duration": 220,
    "start_time": "2022-12-26T10:46:46.127Z"
   },
   {
    "duration": 76,
    "start_time": "2022-12-26T10:46:46.348Z"
   },
   {
    "duration": 151,
    "start_time": "2022-12-26T10:46:46.426Z"
   },
   {
    "duration": 155,
    "start_time": "2022-12-26T10:46:46.580Z"
   },
   {
    "duration": 298,
    "start_time": "2022-12-26T10:46:46.738Z"
   },
   {
    "duration": 163,
    "start_time": "2022-12-26T10:46:47.038Z"
   },
   {
    "duration": 227,
    "start_time": "2022-12-26T10:46:47.203Z"
   },
   {
    "duration": 165,
    "start_time": "2022-12-26T10:46:47.432Z"
   },
   {
    "duration": 45,
    "start_time": "2022-12-26T10:46:47.599Z"
   },
   {
    "duration": 13,
    "start_time": "2022-12-26T10:46:47.646Z"
   },
   {
    "duration": 73,
    "start_time": "2022-12-26T10:46:47.661Z"
   },
   {
    "duration": 478,
    "start_time": "2022-12-26T10:46:47.736Z"
   },
   {
    "duration": 704897,
    "start_time": "2022-12-26T10:46:48.215Z"
   },
   {
    "duration": 41,
    "start_time": "2022-12-26T10:58:33.114Z"
   },
   {
    "duration": 89267,
    "start_time": "2022-12-26T10:58:33.157Z"
   },
   {
    "duration": 211558,
    "start_time": "2022-12-26T11:00:02.425Z"
   },
   {
    "duration": 52,
    "start_time": "2022-12-26T11:03:33.985Z"
   },
   {
    "duration": 4239,
    "start_time": "2022-12-26T11:03:34.039Z"
   },
   {
    "duration": 3,
    "start_time": "2022-12-26T11:03:38.280Z"
   },
   {
    "duration": 713451,
    "start_time": "2022-12-26T11:08:24.032Z"
   },
   {
    "duration": 5,
    "start_time": "2022-12-26T11:31:09.932Z"
   },
   {
    "duration": 3,
    "start_time": "2022-12-26T11:33:17.573Z"
   },
   {
    "duration": 3,
    "start_time": "2022-12-26T11:34:05.135Z"
   },
   {
    "duration": 11,
    "start_time": "2022-12-26T11:34:44.272Z"
   },
   {
    "duration": 3,
    "start_time": "2022-12-26T11:35:54.018Z"
   },
   {
    "duration": 3,
    "start_time": "2022-12-26T11:41:55.204Z"
   },
   {
    "duration": 4,
    "start_time": "2022-12-26T11:42:32.698Z"
   },
   {
    "duration": 3,
    "start_time": "2022-12-26T11:42:56.632Z"
   },
   {
    "duration": 4,
    "start_time": "2022-12-26T11:43:29.119Z"
   },
   {
    "duration": 58817,
    "start_time": "2022-12-26T11:44:06.436Z"
   },
   {
    "duration": 16,
    "start_time": "2022-12-26T11:45:13.386Z"
   },
   {
    "duration": 56349,
    "start_time": "2022-12-26T11:45:19.384Z"
   },
   {
    "duration": 60,
    "start_time": "2022-12-26T15:11:00.606Z"
   },
   {
    "duration": 2174,
    "start_time": "2022-12-26T15:13:10.062Z"
   },
   {
    "duration": 1838,
    "start_time": "2022-12-26T15:13:12.238Z"
   },
   {
    "duration": 158,
    "start_time": "2022-12-26T15:13:14.082Z"
   },
   {
    "duration": 80,
    "start_time": "2022-12-26T15:13:14.242Z"
   },
   {
    "duration": 260,
    "start_time": "2022-12-26T15:13:14.324Z"
   },
   {
    "duration": 74,
    "start_time": "2022-12-26T15:13:14.586Z"
   },
   {
    "duration": 224,
    "start_time": "2022-12-26T15:13:14.663Z"
   },
   {
    "duration": 102,
    "start_time": "2022-12-26T15:13:14.894Z"
   },
   {
    "duration": 228,
    "start_time": "2022-12-26T15:13:14.999Z"
   },
   {
    "duration": 185,
    "start_time": "2022-12-26T15:13:15.231Z"
   },
   {
    "duration": 372,
    "start_time": "2022-12-26T15:13:15.422Z"
   },
   {
    "duration": 254,
    "start_time": "2022-12-26T15:13:15.797Z"
   },
   {
    "duration": 280,
    "start_time": "2022-12-26T15:13:16.053Z"
   },
   {
    "duration": 196,
    "start_time": "2022-12-26T15:13:16.335Z"
   },
   {
    "duration": 71,
    "start_time": "2022-12-26T15:13:16.532Z"
   },
   {
    "duration": 24,
    "start_time": "2022-12-26T15:13:16.605Z"
   },
   {
    "duration": 181,
    "start_time": "2022-12-26T15:13:16.632Z"
   },
   {
    "duration": 791,
    "start_time": "2022-12-26T15:13:16.815Z"
   },
   {
    "duration": 1520,
    "start_time": "2022-12-27T12:23:12.813Z"
   },
   {
    "duration": 3039,
    "start_time": "2022-12-27T12:23:14.335Z"
   },
   {
    "duration": 105,
    "start_time": "2022-12-27T12:23:17.375Z"
   },
   {
    "duration": 48,
    "start_time": "2022-12-27T12:23:17.482Z"
   },
   {
    "duration": 198,
    "start_time": "2022-12-27T12:23:17.532Z"
   },
   {
    "duration": 69,
    "start_time": "2022-12-27T12:23:17.731Z"
   },
   {
    "duration": 165,
    "start_time": "2022-12-27T12:23:17.802Z"
   },
   {
    "duration": 67,
    "start_time": "2022-12-27T12:23:17.969Z"
   },
   {
    "duration": 160,
    "start_time": "2022-12-27T12:23:18.037Z"
   },
   {
    "duration": 129,
    "start_time": "2022-12-27T12:23:18.199Z"
   },
   {
    "duration": 283,
    "start_time": "2022-12-27T12:23:18.330Z"
   },
   {
    "duration": 157,
    "start_time": "2022-12-27T12:23:18.615Z"
   },
   {
    "duration": 207,
    "start_time": "2022-12-27T12:23:18.773Z"
   },
   {
    "duration": 171,
    "start_time": "2022-12-27T12:23:18.982Z"
   },
   {
    "duration": 43,
    "start_time": "2022-12-27T12:23:19.155Z"
   },
   {
    "duration": 13,
    "start_time": "2022-12-27T12:23:19.199Z"
   },
   {
    "duration": 73,
    "start_time": "2022-12-27T12:23:19.213Z"
   },
   {
    "duration": 432,
    "start_time": "2022-12-27T12:23:19.287Z"
   },
   {
    "duration": 681949,
    "start_time": "2022-12-27T12:23:19.720Z"
   },
   {
    "duration": 90,
    "start_time": "2022-12-27T12:34:41.671Z"
   },
   {
    "duration": 195956,
    "start_time": "2022-12-27T12:34:41.763Z"
   },
   {
    "duration": 56,
    "start_time": "2022-12-27T12:37:57.721Z"
   },
   {
    "duration": 3949,
    "start_time": "2022-12-27T12:37:57.779Z"
   },
   {
    "duration": 1666,
    "start_time": "2022-12-28T14:30:34.248Z"
   },
   {
    "duration": 1219,
    "start_time": "2022-12-28T14:30:35.917Z"
   },
   {
    "duration": 116,
    "start_time": "2022-12-28T14:30:37.137Z"
   },
   {
    "duration": 58,
    "start_time": "2022-12-28T14:30:37.256Z"
   },
   {
    "duration": 217,
    "start_time": "2022-12-28T14:30:37.316Z"
   },
   {
    "duration": 76,
    "start_time": "2022-12-28T14:30:37.534Z"
   },
   {
    "duration": 171,
    "start_time": "2022-12-28T14:30:37.612Z"
   },
   {
    "duration": 79,
    "start_time": "2022-12-28T14:30:37.785Z"
   },
   {
    "duration": 154,
    "start_time": "2022-12-28T14:30:37.877Z"
   },
   {
    "duration": 148,
    "start_time": "2022-12-28T14:30:38.033Z"
   },
   {
    "duration": 347,
    "start_time": "2022-12-28T14:30:38.183Z"
   },
   {
    "duration": 165,
    "start_time": "2022-12-28T14:30:38.531Z"
   },
   {
    "duration": 237,
    "start_time": "2022-12-28T14:30:38.698Z"
   },
   {
    "duration": 174,
    "start_time": "2022-12-28T14:30:38.937Z"
   },
   {
    "duration": 43,
    "start_time": "2022-12-28T14:30:39.114Z"
   },
   {
    "duration": 31,
    "start_time": "2022-12-28T14:30:39.159Z"
   },
   {
    "duration": 61,
    "start_time": "2022-12-28T14:30:39.192Z"
   },
   {
    "duration": 440,
    "start_time": "2022-12-28T14:30:55.345Z"
   },
   {
    "duration": 147,
    "start_time": "2022-12-28T14:32:22.940Z"
   },
   {
    "duration": 52,
    "start_time": "2022-12-28T14:35:18.412Z"
   },
   {
    "duration": 36,
    "start_time": "2022-12-28T14:37:59.978Z"
   },
   {
    "duration": 36,
    "start_time": "2022-12-28T14:39:08.109Z"
   },
   {
    "duration": 15,
    "start_time": "2022-12-28T14:39:48.525Z"
   },
   {
    "duration": 4,
    "start_time": "2022-12-28T14:41:44.829Z"
   },
   {
    "duration": 960,
    "start_time": "2022-12-28T14:41:44.851Z"
   },
   {
    "duration": 142,
    "start_time": "2022-12-28T14:41:45.813Z"
   },
   {
    "duration": 55,
    "start_time": "2022-12-28T14:41:45.957Z"
   },
   {
    "duration": 202,
    "start_time": "2022-12-28T14:41:46.014Z"
   },
   {
    "duration": 66,
    "start_time": "2022-12-28T14:41:46.217Z"
   },
   {
    "duration": 173,
    "start_time": "2022-12-28T14:41:46.285Z"
   },
   {
    "duration": 79,
    "start_time": "2022-12-28T14:41:46.460Z"
   },
   {
    "duration": 161,
    "start_time": "2022-12-28T14:41:46.541Z"
   },
   {
    "duration": 150,
    "start_time": "2022-12-28T14:41:46.704Z"
   },
   {
    "duration": 247,
    "start_time": "2022-12-28T14:41:46.858Z"
   },
   {
    "duration": 163,
    "start_time": "2022-12-28T14:41:47.106Z"
   },
   {
    "duration": 222,
    "start_time": "2022-12-28T14:41:47.271Z"
   },
   {
    "duration": 177,
    "start_time": "2022-12-28T14:41:47.495Z"
   },
   {
    "duration": 44,
    "start_time": "2022-12-28T14:41:47.677Z"
   },
   {
    "duration": 17,
    "start_time": "2022-12-28T14:41:47.723Z"
   },
   {
    "duration": 80,
    "start_time": "2022-12-28T14:41:47.742Z"
   },
   {
    "duration": 715,
    "start_time": "2022-12-28T14:41:52.113Z"
   }
  ],
  "kernelspec": {
   "display_name": "Python 3 (ipykernel)",
   "language": "python",
   "name": "python3"
  },
  "language_info": {
   "codemirror_mode": {
    "name": "ipython",
    "version": 3
   },
   "file_extension": ".py",
   "mimetype": "text/x-python",
   "name": "python",
   "nbconvert_exporter": "python",
   "pygments_lexer": "ipython3",
   "version": "3.9.5"
  },
  "toc": {
   "base_numbering": 1,
   "nav_menu": {},
   "number_sections": true,
   "sideBar": true,
   "skip_h1_title": true,
   "title_cell": "Table of Contents",
   "title_sidebar": "Contents",
   "toc_cell": false,
   "toc_position": {},
   "toc_section_display": true,
   "toc_window_display": false
  }
 },
 "nbformat": 4,
 "nbformat_minor": 2
}
