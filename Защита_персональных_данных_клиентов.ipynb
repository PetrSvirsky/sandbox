{
 "cells": [
  {
   "cell_type": "markdown",
   "metadata": {
    "toc": true
   },
   "source": [
    "<h1>Содержание<span class=\"tocSkip\"></span></h1>\n",
    "<div class=\"toc\"><ul class=\"toc-item\"><li><span><a href=\"#Загрузка-данных\" data-toc-modified-id=\"Загрузка-данных-1\"><span class=\"toc-item-num\">1&nbsp;&nbsp;</span>Загрузка данных</a></span></li><li><span><a href=\"#Умножение-матриц\" data-toc-modified-id=\"Умножение-матриц-2\"><span class=\"toc-item-num\">2&nbsp;&nbsp;</span>Умножение матриц</a></span></li><li><span><a href=\"#Алгоритм-преобразования\" data-toc-modified-id=\"Алгоритм-преобразования-3\"><span class=\"toc-item-num\">3&nbsp;&nbsp;</span>Алгоритм преобразования</a></span></li><li><span><a href=\"#Проверка-алгоритма\" data-toc-modified-id=\"Проверка-алгоритма-4\"><span class=\"toc-item-num\">4&nbsp;&nbsp;</span>Проверка алгоритма</a></span></li><li><span><a href=\"#Вывод:\" data-toc-modified-id=\"Вывод:-5\"><span class=\"toc-item-num\">5&nbsp;&nbsp;</span>Вывод:</a></span></li><li><span><a href=\"#Чек-лист-проверки\" data-toc-modified-id=\"Чек-лист-проверки-6\"><span class=\"toc-item-num\">6&nbsp;&nbsp;</span>Чек-лист проверки</a></span></li></ul></div>"
   ]
  },
  {
   "cell_type": "markdown",
   "metadata": {},
   "source": [
    "# Защита персональных данных клиентов"
   ]
  },
  {
   "cell_type": "markdown",
   "metadata": {},
   "source": [
    "Нам нужно защитить данные клиентов страховой компании «Хоть потоп». Разработаем такой метод преобразования данных, чтобы по ним было сложно восстановить персональную информацию. Обоснуем корректность его работы.\n",
    "\n",
    "Нужно защитить данные, чтобы при преобразовании качество моделей машинного обучения не ухудшилось. Подбирать наилучшую модель не требуется."
   ]
  },
  {
   "cell_type": "markdown",
   "metadata": {},
   "source": [
    "## Загрузка данных"
   ]
  },
  {
   "cell_type": "markdown",
   "metadata": {},
   "source": [
    "Загрузим данные и нужные нам библиотеки."
   ]
  },
  {
   "cell_type": "code",
   "execution_count": 1,
   "metadata": {
    "scrolled": true
   },
   "outputs": [
    {
     "data": {
      "text/html": [
       "<div>\n",
       "<style scoped>\n",
       "    .dataframe tbody tr th:only-of-type {\n",
       "        vertical-align: middle;\n",
       "    }\n",
       "\n",
       "    .dataframe tbody tr th {\n",
       "        vertical-align: top;\n",
       "    }\n",
       "\n",
       "    .dataframe thead th {\n",
       "        text-align: right;\n",
       "    }\n",
       "</style>\n",
       "<table border=\"1\" class=\"dataframe\">\n",
       "  <thead>\n",
       "    <tr style=\"text-align: right;\">\n",
       "      <th></th>\n",
       "      <th>Пол</th>\n",
       "      <th>Возраст</th>\n",
       "      <th>Зарплата</th>\n",
       "      <th>Члены семьи</th>\n",
       "      <th>Страховые выплаты</th>\n",
       "    </tr>\n",
       "  </thead>\n",
       "  <tbody>\n",
       "    <tr>\n",
       "      <th>0</th>\n",
       "      <td>1</td>\n",
       "      <td>41.0</td>\n",
       "      <td>49600.0</td>\n",
       "      <td>1</td>\n",
       "      <td>0</td>\n",
       "    </tr>\n",
       "    <tr>\n",
       "      <th>1</th>\n",
       "      <td>0</td>\n",
       "      <td>46.0</td>\n",
       "      <td>38000.0</td>\n",
       "      <td>1</td>\n",
       "      <td>1</td>\n",
       "    </tr>\n",
       "    <tr>\n",
       "      <th>2</th>\n",
       "      <td>0</td>\n",
       "      <td>29.0</td>\n",
       "      <td>21000.0</td>\n",
       "      <td>0</td>\n",
       "      <td>0</td>\n",
       "    </tr>\n",
       "    <tr>\n",
       "      <th>3</th>\n",
       "      <td>0</td>\n",
       "      <td>21.0</td>\n",
       "      <td>41700.0</td>\n",
       "      <td>2</td>\n",
       "      <td>0</td>\n",
       "    </tr>\n",
       "    <tr>\n",
       "      <th>4</th>\n",
       "      <td>1</td>\n",
       "      <td>28.0</td>\n",
       "      <td>26100.0</td>\n",
       "      <td>0</td>\n",
       "      <td>0</td>\n",
       "    </tr>\n",
       "    <tr>\n",
       "      <th>5</th>\n",
       "      <td>1</td>\n",
       "      <td>43.0</td>\n",
       "      <td>41000.0</td>\n",
       "      <td>2</td>\n",
       "      <td>1</td>\n",
       "    </tr>\n",
       "    <tr>\n",
       "      <th>6</th>\n",
       "      <td>1</td>\n",
       "      <td>39.0</td>\n",
       "      <td>39700.0</td>\n",
       "      <td>2</td>\n",
       "      <td>0</td>\n",
       "    </tr>\n",
       "    <tr>\n",
       "      <th>7</th>\n",
       "      <td>1</td>\n",
       "      <td>25.0</td>\n",
       "      <td>38600.0</td>\n",
       "      <td>4</td>\n",
       "      <td>0</td>\n",
       "    </tr>\n",
       "    <tr>\n",
       "      <th>8</th>\n",
       "      <td>1</td>\n",
       "      <td>36.0</td>\n",
       "      <td>49700.0</td>\n",
       "      <td>1</td>\n",
       "      <td>0</td>\n",
       "    </tr>\n",
       "    <tr>\n",
       "      <th>9</th>\n",
       "      <td>1</td>\n",
       "      <td>32.0</td>\n",
       "      <td>51700.0</td>\n",
       "      <td>1</td>\n",
       "      <td>0</td>\n",
       "    </tr>\n",
       "    <tr>\n",
       "      <th>10</th>\n",
       "      <td>1</td>\n",
       "      <td>25.0</td>\n",
       "      <td>36600.0</td>\n",
       "      <td>1</td>\n",
       "      <td>0</td>\n",
       "    </tr>\n",
       "    <tr>\n",
       "      <th>11</th>\n",
       "      <td>1</td>\n",
       "      <td>38.0</td>\n",
       "      <td>29300.0</td>\n",
       "      <td>0</td>\n",
       "      <td>0</td>\n",
       "    </tr>\n",
       "    <tr>\n",
       "      <th>12</th>\n",
       "      <td>0</td>\n",
       "      <td>23.0</td>\n",
       "      <td>39500.0</td>\n",
       "      <td>3</td>\n",
       "      <td>0</td>\n",
       "    </tr>\n",
       "    <tr>\n",
       "      <th>13</th>\n",
       "      <td>0</td>\n",
       "      <td>21.0</td>\n",
       "      <td>55000.0</td>\n",
       "      <td>0</td>\n",
       "      <td>0</td>\n",
       "    </tr>\n",
       "    <tr>\n",
       "      <th>14</th>\n",
       "      <td>0</td>\n",
       "      <td>40.0</td>\n",
       "      <td>43700.0</td>\n",
       "      <td>1</td>\n",
       "      <td>0</td>\n",
       "    </tr>\n",
       "    <tr>\n",
       "      <th>15</th>\n",
       "      <td>1</td>\n",
       "      <td>34.0</td>\n",
       "      <td>23300.0</td>\n",
       "      <td>0</td>\n",
       "      <td>0</td>\n",
       "    </tr>\n",
       "    <tr>\n",
       "      <th>16</th>\n",
       "      <td>1</td>\n",
       "      <td>26.0</td>\n",
       "      <td>48900.0</td>\n",
       "      <td>2</td>\n",
       "      <td>0</td>\n",
       "    </tr>\n",
       "    <tr>\n",
       "      <th>17</th>\n",
       "      <td>1</td>\n",
       "      <td>41.0</td>\n",
       "      <td>33200.0</td>\n",
       "      <td>2</td>\n",
       "      <td>0</td>\n",
       "    </tr>\n",
       "    <tr>\n",
       "      <th>18</th>\n",
       "      <td>1</td>\n",
       "      <td>42.0</td>\n",
       "      <td>49700.0</td>\n",
       "      <td>0</td>\n",
       "      <td>1</td>\n",
       "    </tr>\n",
       "    <tr>\n",
       "      <th>19</th>\n",
       "      <td>1</td>\n",
       "      <td>27.0</td>\n",
       "      <td>36900.0</td>\n",
       "      <td>0</td>\n",
       "      <td>0</td>\n",
       "    </tr>\n",
       "  </tbody>\n",
       "</table>\n",
       "</div>"
      ],
      "text/plain": [
       "    Пол  Возраст  Зарплата  Члены семьи  Страховые выплаты\n",
       "0     1     41.0   49600.0            1                  0\n",
       "1     0     46.0   38000.0            1                  1\n",
       "2     0     29.0   21000.0            0                  0\n",
       "3     0     21.0   41700.0            2                  0\n",
       "4     1     28.0   26100.0            0                  0\n",
       "5     1     43.0   41000.0            2                  1\n",
       "6     1     39.0   39700.0            2                  0\n",
       "7     1     25.0   38600.0            4                  0\n",
       "8     1     36.0   49700.0            1                  0\n",
       "9     1     32.0   51700.0            1                  0\n",
       "10    1     25.0   36600.0            1                  0\n",
       "11    1     38.0   29300.0            0                  0\n",
       "12    0     23.0   39500.0            3                  0\n",
       "13    0     21.0   55000.0            0                  0\n",
       "14    0     40.0   43700.0            1                  0\n",
       "15    1     34.0   23300.0            0                  0\n",
       "16    1     26.0   48900.0            2                  0\n",
       "17    1     41.0   33200.0            2                  0\n",
       "18    1     42.0   49700.0            0                  1\n",
       "19    1     27.0   36900.0            0                  0"
      ]
     },
     "metadata": {},
     "output_type": "display_data"
    },
    {
     "name": "stdout",
     "output_type": "stream",
     "text": [
      "<class 'pandas.core.frame.DataFrame'>\n",
      "RangeIndex: 5000 entries, 0 to 4999\n",
      "Data columns (total 5 columns):\n",
      " #   Column             Non-Null Count  Dtype  \n",
      "---  ------             --------------  -----  \n",
      " 0   Пол                5000 non-null   int64  \n",
      " 1   Возраст            5000 non-null   float64\n",
      " 2   Зарплата           5000 non-null   float64\n",
      " 3   Члены семьи        5000 non-null   int64  \n",
      " 4   Страховые выплаты  5000 non-null   int64  \n",
      "dtypes: float64(2), int64(3)\n",
      "memory usage: 195.4 KB\n"
     ]
    }
   ],
   "source": [
    "import pandas as pd\n",
    "import numpy as np\n",
    "\n",
    "from sklearn.metrics import r2_score\n",
    "from sklearn.linear_model import LinearRegression\n",
    "from sklearn.model_selection import train_test_split\n",
    "\n",
    "data = pd.read_csv('/datasets/insurance.csv')\n",
    "state = np.random.RandomState(12345)\n",
    "\n",
    "display(data.head(20))\n",
    "data.info()"
   ]
  },
  {
   "cell_type": "markdown",
   "metadata": {},
   "source": [
    "Построим гистограммы по всем столбцам для ознакомительной оценки распределений."
   ]
  },
  {
   "cell_type": "code",
   "execution_count": 2,
   "metadata": {
    "scrolled": false
   },
   "outputs": [
    {
     "data": {
      "text/plain": [
       "array([[<AxesSubplot:title={'center':'Пол'}>,\n",
       "        <AxesSubplot:title={'center':'Возраст'}>],\n",
       "       [<AxesSubplot:title={'center':'Зарплата'}>,\n",
       "        <AxesSubplot:title={'center':'Члены семьи'}>],\n",
       "       [<AxesSubplot:title={'center':'Страховые выплаты'}>,\n",
       "        <AxesSubplot:>]], dtype=object)"
      ]
     },
     "execution_count": 2,
     "metadata": {},
     "output_type": "execute_result"
    },
    {
     "data": {
      "image/png": "[encoded data removed]",
      "text/plain": [
       "<Figure size 432x288 with 6 Axes>"
      ]
     },
     "metadata": {
      "needs_background": "light"
     },
     "output_type": "display_data"
    }
   ],
   "source": [
    "data.hist()"
   ]
  },
  {
   "cell_type": "markdown",
   "metadata": {},
   "source": [
    "По полу клиенты распределены равномерно. По возрасту преобладают лица от 20 до 30 с постепенным снижением количества клиентов с увеличением их возраста. По зарплате отмечается нормальное распределение. По количеству детей- основная масса клиентов с 1-2 детей, либо без них. Но количеству страховых выплат можно сделать вывод, что они проводятся достаточно редко."
   ]
  },
  {
   "cell_type": "markdown",
   "metadata": {},
   "source": [
    "Разделим данные на обучающую и целевую выборки:"
   ]
  },
  {
   "cell_type": "code",
   "execution_count": 3,
   "metadata": {
    "scrolled": false
   },
   "outputs": [
    {
     "data": {
      "text/plain": [
       "0    0\n",
       "1    1\n",
       "2    0\n",
       "3    0\n",
       "4    0\n",
       "Name: Страховые выплаты, dtype: int64"
      ]
     },
     "metadata": {},
     "output_type": "display_data"
    },
    {
     "data": {
      "text/html": [
       "<div>\n",
       "<style scoped>\n",
       "    .dataframe tbody tr th:only-of-type {\n",
       "        vertical-align: middle;\n",
       "    }\n",
       "\n",
       "    .dataframe tbody tr th {\n",
       "        vertical-align: top;\n",
       "    }\n",
       "\n",
       "    .dataframe thead th {\n",
       "        text-align: right;\n",
       "    }\n",
       "</style>\n",
       "<table border=\"1\" class=\"dataframe\">\n",
       "  <thead>\n",
       "    <tr style=\"text-align: right;\">\n",
       "      <th></th>\n",
       "      <th>Пол</th>\n",
       "      <th>Возраст</th>\n",
       "      <th>Зарплата</th>\n",
       "      <th>Члены семьи</th>\n",
       "    </tr>\n",
       "  </thead>\n",
       "  <tbody>\n",
       "    <tr>\n",
       "      <th>0</th>\n",
       "      <td>1</td>\n",
       "      <td>41.0</td>\n",
       "      <td>49600.0</td>\n",
       "      <td>1</td>\n",
       "    </tr>\n",
       "    <tr>\n",
       "      <th>1</th>\n",
       "      <td>0</td>\n",
       "      <td>46.0</td>\n",
       "      <td>38000.0</td>\n",
       "      <td>1</td>\n",
       "    </tr>\n",
       "    <tr>\n",
       "      <th>2</th>\n",
       "      <td>0</td>\n",
       "      <td>29.0</td>\n",
       "      <td>21000.0</td>\n",
       "      <td>0</td>\n",
       "    </tr>\n",
       "    <tr>\n",
       "      <th>3</th>\n",
       "      <td>0</td>\n",
       "      <td>21.0</td>\n",
       "      <td>41700.0</td>\n",
       "      <td>2</td>\n",
       "    </tr>\n",
       "    <tr>\n",
       "      <th>4</th>\n",
       "      <td>1</td>\n",
       "      <td>28.0</td>\n",
       "      <td>26100.0</td>\n",
       "      <td>0</td>\n",
       "    </tr>\n",
       "  </tbody>\n",
       "</table>\n",
       "</div>"
      ],
      "text/plain": [
       "   Пол  Возраст  Зарплата  Члены семьи\n",
       "0    1     41.0   49600.0            1\n",
       "1    0     46.0   38000.0            1\n",
       "2    0     29.0   21000.0            0\n",
       "3    0     21.0   41700.0            2\n",
       "4    1     28.0   26100.0            0"
      ]
     },
     "metadata": {},
     "output_type": "display_data"
    }
   ],
   "source": [
    "target = data['Страховые выплаты']\n",
    "features = data.drop('Страховые выплаты', axis=1)\n",
    "\n",
    "display(target.head())\n",
    "\n",
    "display(features.head())"
   ]
  },
  {
   "cell_type": "markdown",
   "metadata": {},
   "source": [
    "Заниматься обработкой данных и делением данных на тренировочную и тестовую выборки мы не будем, так как нашей целью не является улучшение качества модели."
   ]
  },
  {
   "cell_type": "markdown",
   "metadata": {},
   "source": [
    "## Умножение матриц"
   ]
  },
  {
   "cell_type": "markdown",
   "metadata": {},
   "source": [
    "Создадим класс линейной регресси:"
   ]
  },
  {
   "cell_type": "code",
   "execution_count": 4,
   "metadata": {},
   "outputs": [],
   "source": [
    "class LR:\n",
    "    def fit(self, train_features, train_target):\n",
    "        X = np.concatenate((np.ones((train_features.shape[0], 1)), train_features), axis=1)\n",
    "        y = train_target\n",
    "        w = np.linalg.inv(X.T.dot(X)).dot(X.T).dot(y)\n",
    "        self.w = w[1:]\n",
    "        self.w0 = w[0]\n",
    "\n",
    "    def predict(self, test_features):\n",
    "        return test_features.dot(self.w) + self.w0"
   ]
  },
  {
   "cell_type": "markdown",
   "metadata": {},
   "source": [
    "Обучим нашу модель на неизмененных выборках:"
   ]
  },
  {
   "cell_type": "code",
   "execution_count": 5,
   "metadata": {
    "scrolled": true
   },
   "outputs": [
    {
     "data": {
      "text/plain": [
       "0.42494550286668"
      ]
     },
     "execution_count": 5,
     "metadata": {},
     "output_type": "execute_result"
    }
   ],
   "source": [
    "model = LR()\n",
    "model.fit(features, target)\n",
    "predictions = model.predict(features)\n",
    "r2_score(target, predictions)"
   ]
  },
  {
   "cell_type": "markdown",
   "metadata": {},
   "source": [
    "Теперь создами случайную матрицу, размером равнуб обучающей выборке:"
   ]
  },
  {
   "cell_type": "code",
   "execution_count": 6,
   "metadata": {
    "scrolled": true
   },
   "outputs": [
    {
     "data": {
      "text/plain": [
       "array([[-2.01894505,  1.40327509, -0.00731591, -0.58023833],\n",
       "       [ 0.0643464 , -1.15465512,  0.32146182, -1.45947127],\n",
       "       [ 0.87159221, -0.72692182,  2.04463699, -1.32164043],\n",
       "       [-0.20881298, -0.80164391,  0.11104776,  0.27432931]])"
      ]
     },
     "execution_count": 6,
     "metadata": {},
     "output_type": "execute_result"
    }
   ],
   "source": [
    "key = np.random.normal(0, 1, (features.shape[1], features.shape[1]))\n",
    "key"
   ]
  },
  {
   "cell_type": "markdown",
   "metadata": {},
   "source": [
    "Проверим созданную матрице на обратимость:"
   ]
  },
  {
   "cell_type": "code",
   "execution_count": 7,
   "metadata": {
    "scrolled": false
   },
   "outputs": [
    {
     "data": {
      "text/plain": [
       "array([[ 1.00000000e+00,  7.99018610e-18,  2.01748781e-18,\n",
       "        -1.43116439e-16],\n",
       "       [-9.26297764e-18,  1.00000000e+00,  1.14872132e-17,\n",
       "        -9.53937880e-17],\n",
       "       [ 7.00416729e-17, -2.11510987e-16,  1.00000000e+00,\n",
       "         2.24863846e-16],\n",
       "       [-8.52944467e-18,  1.66581911e-17,  3.84459853e-18,\n",
       "         1.00000000e+00]])"
      ]
     },
     "execution_count": 7,
     "metadata": {},
     "output_type": "execute_result"
    }
   ],
   "source": [
    "key @ np.linalg.inv(key)"
   ]
  },
  {
   "cell_type": "markdown",
   "metadata": {},
   "source": [
    "Закодируем нашу обучающую выборку путем умножения на случайную обратимую матрицу:"
   ]
  },
  {
   "cell_type": "code",
   "execution_count": 8,
   "metadata": {
    "scrolled": false
   },
   "outputs": [
    {
     "data": {
      "text/html": [
       "<div>\n",
       "<style scoped>\n",
       "    .dataframe tbody tr th:only-of-type {\n",
       "        vertical-align: middle;\n",
       "    }\n",
       "\n",
       "    .dataframe tbody tr th {\n",
       "        vertical-align: top;\n",
       "    }\n",
       "\n",
       "    .dataframe thead th {\n",
       "        text-align: right;\n",
       "    }\n",
       "</style>\n",
       "<table border=\"1\" class=\"dataframe\">\n",
       "  <thead>\n",
       "    <tr style=\"text-align: right;\">\n",
       "      <th></th>\n",
       "      <th>0</th>\n",
       "      <th>1</th>\n",
       "      <th>2</th>\n",
       "      <th>3</th>\n",
       "    </tr>\n",
       "  </thead>\n",
       "  <tbody>\n",
       "    <tr>\n",
       "      <th>0</th>\n",
       "      <td>43231.383919</td>\n",
       "      <td>-36102.061406</td>\n",
       "      <td>101427.278134</td>\n",
       "      <td>-65613.509782</td>\n",
       "    </tr>\n",
       "    <tr>\n",
       "      <th>1</th>\n",
       "      <td>33123.254993</td>\n",
       "      <td>-27676.944867</td>\n",
       "      <td>77711.103730</td>\n",
       "      <td>-50289.197860</td>\n",
       "    </tr>\n",
       "    <tr>\n",
       "      <th>2</th>\n",
       "      <td>18305.302396</td>\n",
       "      <td>-15298.843178</td>\n",
       "      <td>42946.699083</td>\n",
       "      <td>-27796.773791</td>\n",
       "    </tr>\n",
       "    <tr>\n",
       "      <th>3</th>\n",
       "      <td>36346.328687</td>\n",
       "      <td>-30338.490859</td>\n",
       "      <td>85268.335078</td>\n",
       "      <td>-55142.506356</td>\n",
       "    </tr>\n",
       "    <tr>\n",
       "      <th>4</th>\n",
       "      <td>22748.339361</td>\n",
       "      <td>-19003.586520</td>\n",
       "      <td>53374.018929</td>\n",
       "      <td>-34536.260774</td>\n",
       "    </tr>\n",
       "    <tr>\n",
       "      <th>...</th>\n",
       "      <td>...</td>\n",
       "      <td>...</td>\n",
       "      <td>...</td>\n",
       "      <td>...</td>\n",
       "    </tr>\n",
       "    <tr>\n",
       "      <th>4995</th>\n",
       "      <td>31117.225869</td>\n",
       "      <td>-25985.042537</td>\n",
       "      <td>73002.763399</td>\n",
       "      <td>-47222.880048</td>\n",
       "    </tr>\n",
       "    <tr>\n",
       "      <th>4996</th>\n",
       "      <td>45673.410620</td>\n",
       "      <td>-38130.763185</td>\n",
       "      <td>107150.018775</td>\n",
       "      <td>-69303.306461</td>\n",
       "    </tr>\n",
       "    <tr>\n",
       "      <th>4997</th>\n",
       "      <td>29547.845125</td>\n",
       "      <td>-24667.346023</td>\n",
       "      <td>69319.845131</td>\n",
       "      <td>-44832.251496</td>\n",
       "    </tr>\n",
       "    <tr>\n",
       "      <th>4998</th>\n",
       "      <td>28499.835411</td>\n",
       "      <td>-23796.747521</td>\n",
       "      <td>66867.027404</td>\n",
       "      <td>-43249.507826</td>\n",
       "    </tr>\n",
       "    <tr>\n",
       "      <th>4999</th>\n",
       "      <td>35386.217552</td>\n",
       "      <td>-29544.754526</td>\n",
       "      <td>83021.366263</td>\n",
       "      <td>-53699.772745</td>\n",
       "    </tr>\n",
       "  </tbody>\n",
       "</table>\n",
       "<p>5000 rows × 4 columns</p>\n",
       "</div>"
      ],
      "text/plain": [
       "                 0             1              2             3\n",
       "0     43231.383919 -36102.061406  101427.278134 -65613.509782\n",
       "1     33123.254993 -27676.944867   77711.103730 -50289.197860\n",
       "2     18305.302396 -15298.843178   42946.699083 -27796.773791\n",
       "3     36346.328687 -30338.490859   85268.335078 -55142.506356\n",
       "4     22748.339361 -19003.586520   53374.018929 -34536.260774\n",
       "...            ...           ...            ...           ...\n",
       "4995  31117.225869 -25985.042537   73002.763399 -47222.880048\n",
       "4996  45673.410620 -38130.763185  107150.018775 -69303.306461\n",
       "4997  29547.845125 -24667.346023   69319.845131 -44832.251496\n",
       "4998  28499.835411 -23796.747521   66867.027404 -43249.507826\n",
       "4999  35386.217552 -29544.754526   83021.366263 -53699.772745\n",
       "\n",
       "[5000 rows x 4 columns]"
      ]
     },
     "execution_count": 8,
     "metadata": {},
     "output_type": "execute_result"
    }
   ],
   "source": [
    "encoded_features = features @ key\n",
    "encoded_features"
   ]
  },
  {
   "cell_type": "markdown",
   "metadata": {},
   "source": [
    "Обучим нашу модель линейной регресии на закодированных данных:"
   ]
  },
  {
   "cell_type": "code",
   "execution_count": 9,
   "metadata": {},
   "outputs": [
    {
     "data": {
      "text/plain": [
       "0.42494550286667576"
      ]
     },
     "execution_count": 9,
     "metadata": {},
     "output_type": "execute_result"
    }
   ],
   "source": [
    "model = LR()\n",
    "model.fit(encoded_features, target)\n",
    "predictions = model.predict(encoded_features)\n",
    "r2_score(target, predictions)"
   ]
  },
  {
   "cell_type": "markdown",
   "metadata": {},
   "source": [
    "Разницы в предсказаниях модели, обученной на неизмененной и закодированной выборках нет.\n",
    "Попробуем объяснить это с помощью данных нам в условиях формул:"
   ]
  },
  {
   "cell_type": "markdown",
   "metadata": {},
   "source": [
    "Обозначения:\n",
    "\n",
    "- $X$ — матрица признаков (нулевой столбец состоит из единиц)\n",
    "\n",
    "- $y$ — вектор целевого признака\n",
    "\n",
    "- $P$ — матрица, на которую умножаются признаки\n",
    "\n",
    "- $w$ — вектор весов линейной регрессии (нулевой элемент равен сдвигу)"
   ]
  },
  {
   "cell_type": "markdown",
   "metadata": {},
   "source": [
    "Предсказания:\n",
    "\n",
    "$$\n",
    "a = Xw\n",
    "$$\n",
    "\n",
    "Задача обучения:\n",
    "\n",
    "$$\n",
    "w = \\arg\\min_w MSE(Xw, y)\n",
    "$$\n",
    "\n",
    "Формула обучения:\n",
    "\n",
    "$$\n",
    "w = (X^T X)^{-1} X^T y\n",
    "$$"
   ]
  },
  {
   "cell_type": "markdown",
   "metadata": {},
   "source": [
    "## Алгоритм преобразования"
   ]
  },
  {
   "cell_type": "markdown",
   "metadata": {},
   "source": [
    "**Алгоритм**\n",
    "\n",
    "-Создание случайной обратимой матрицы размером, равным размеру кодуриемой матрицы.\n",
    "\n",
    "-Проверка созданной матрицы на обратимость.\n",
    "\n",
    "-Получение произведения матрицы признаков и случаной матрицы.\n",
    "\n",
    "Реализуем алгоритм в функции encode:"
   ]
  },
  {
   "cell_type": "code",
   "execution_count": 10,
   "metadata": {},
   "outputs": [],
   "source": [
    "def encode(features):\n",
    "    random_matrix = np.random.normal(0, 1, (features.shape[1], features.shape[1]))\n",
    "    encoded_features = features.dot(random_matrix)\n",
    "    return encoded_features"
   ]
  },
  {
   "cell_type": "markdown",
   "metadata": {},
   "source": [
    "## Проверка алгоритма"
   ]
  },
  {
   "cell_type": "markdown",
   "metadata": {},
   "source": [
    "с помощью нашей функции кодирования перезапишем в переменную encoded_features закодированные признаки и обучим на них модель:"
   ]
  },
  {
   "cell_type": "code",
   "execution_count": 11,
   "metadata": {},
   "outputs": [],
   "source": [
    "encoded_features = encode(features)"
   ]
  },
  {
   "cell_type": "code",
   "execution_count": 12,
   "metadata": {},
   "outputs": [
    {
     "data": {
      "text/plain": [
       "0.42494550285726207"
      ]
     },
     "execution_count": 12,
     "metadata": {},
     "output_type": "execute_result"
    }
   ],
   "source": [
    "model = LR()\n",
    "model.fit(encoded_features, target)\n",
    "predictions = model.predict(encoded_features)\n",
    "r2_score(target, predictions)"
   ]
  },
  {
   "cell_type": "markdown",
   "metadata": {},
   "source": [
    "R2 метрика не изменилась."
   ]
  },
  {
   "cell_type": "markdown",
   "metadata": {},
   "source": [
    "сравним результаты с моделью линейной регресии из библиотеки sklearn:"
   ]
  },
  {
   "cell_type": "code",
   "execution_count": 13,
   "metadata": {},
   "outputs": [
    {
     "data": {
      "text/plain": [
       "0.4249455028667597"
      ]
     },
     "execution_count": 13,
     "metadata": {},
     "output_type": "execute_result"
    }
   ],
   "source": [
    "model = LinearRegression()\n",
    "model.fit(encoded_features, target)\n",
    "predictions = model.predict(encoded_features)\n",
    "r2_score(target, predictions)"
   ]
  },
  {
   "cell_type": "markdown",
   "metadata": {},
   "source": [
    "R2 метрика также не изменилась."
   ]
  },
  {
   "cell_type": "markdown",
   "metadata": {},
   "source": [
    "## Вывод:"
   ]
  },
  {
   "cell_type": "markdown",
   "metadata": {},
   "source": [
    "-при изменении обучающей выборки путем умножения на матрицу, мы получим пропорциональное изменение коэффициентов линейной регрессии, что не повлияет на качество ее обучения. Таким образом, мы можем смело использовать наш алгоритм для защиты данных клиентов страховой компании «Хоть потоп» без снижения качества работы модели."
   ]
  },
  {
   "cell_type": "code",
   "execution_count": null,
   "metadata": {},
   "outputs": [],
   "source": []
  }
 ],
 "metadata": {
  "ExecuteTimeLog": [
   {
    "duration": 512,
    "start_time": "2022-12-02T10:23:55.719Z"
   },
   {
    "duration": 741,
    "start_time": "2022-12-02T10:41:48.544Z"
   },
   {
    "duration": 43,
    "start_time": "2022-12-02T10:49:08.761Z"
   },
   {
    "duration": 75,
    "start_time": "2022-12-02T10:50:50.399Z"
   },
   {
    "duration": 119,
    "start_time": "2022-12-02T10:50:56.594Z"
   },
   {
    "duration": 11,
    "start_time": "2022-12-02T11:01:32.745Z"
   },
   {
    "duration": 5,
    "start_time": "2022-12-02T11:02:30.026Z"
   },
   {
    "duration": 10,
    "start_time": "2022-12-02T11:02:39.452Z"
   },
   {
    "duration": 4,
    "start_time": "2022-12-02T11:15:48.432Z"
   },
   {
    "duration": 9,
    "start_time": "2022-12-02T11:16:09.802Z"
   },
   {
    "duration": 92,
    "start_time": "2022-12-05T07:41:39.172Z"
   },
   {
    "duration": 1441,
    "start_time": "2022-12-05T07:41:43.610Z"
   },
   {
    "duration": 16,
    "start_time": "2022-12-05T07:41:45.053Z"
   },
   {
    "duration": 9,
    "start_time": "2022-12-05T07:41:45.071Z"
   },
   {
    "duration": 77,
    "start_time": "2022-12-05T07:41:45.083Z"
   },
   {
    "duration": 98,
    "start_time": "2022-12-05T07:41:45.163Z"
   },
   {
    "duration": 73,
    "start_time": "2022-12-05T08:44:02.594Z"
   },
   {
    "duration": 11,
    "start_time": "2022-12-05T08:44:10.376Z"
   },
   {
    "duration": 16,
    "start_time": "2022-12-05T08:45:42.509Z"
   },
   {
    "duration": 50,
    "start_time": "2022-12-05T10:30:44.393Z"
   },
   {
    "duration": 1226,
    "start_time": "2022-12-05T10:30:49.141Z"
   },
   {
    "duration": 10,
    "start_time": "2022-12-05T10:30:50.369Z"
   },
   {
    "duration": 13,
    "start_time": "2022-12-05T10:30:50.380Z"
   },
   {
    "duration": 46,
    "start_time": "2022-12-05T10:30:50.395Z"
   },
   {
    "duration": 197,
    "start_time": "2022-12-05T10:30:50.446Z"
   },
   {
    "duration": 14,
    "start_time": "2022-12-05T10:30:50.644Z"
   },
   {
    "duration": 80,
    "start_time": "2022-12-05T10:30:50.659Z"
   },
   {
    "duration": 101,
    "start_time": "2022-12-05T10:30:50.741Z"
   },
   {
    "duration": 43,
    "start_time": "2022-12-05T10:31:46.942Z"
   },
   {
    "duration": 64,
    "start_time": "2022-12-05T10:32:49.537Z"
   },
   {
    "duration": 13,
    "start_time": "2022-12-05T10:33:17.072Z"
   },
   {
    "duration": 949,
    "start_time": "2022-12-05T13:34:14.139Z"
   },
   {
    "duration": 4,
    "start_time": "2022-12-05T14:01:36.290Z"
   },
   {
    "duration": 13,
    "start_time": "2022-12-05T14:01:52.837Z"
   },
   {
    "duration": 83,
    "start_time": "2022-12-05T14:27:06.670Z"
   },
   {
    "duration": 77,
    "start_time": "2022-12-05T14:32:40.533Z"
   },
   {
    "duration": 90,
    "start_time": "2022-12-05T14:57:39.204Z"
   },
   {
    "duration": 49,
    "start_time": "2022-12-05T14:57:43.601Z"
   },
   {
    "duration": 4,
    "start_time": "2022-12-05T14:58:34.143Z"
   },
   {
    "duration": 16,
    "start_time": "2022-12-05T14:58:38.898Z"
   },
   {
    "duration": 2,
    "start_time": "2022-12-05T15:01:48.277Z"
   },
   {
    "duration": 48,
    "start_time": "2022-12-05T15:31:27.896Z"
   },
   {
    "duration": 561,
    "start_time": "2022-12-05T15:31:27.946Z"
   },
   {
    "duration": 12,
    "start_time": "2022-12-05T15:31:28.508Z"
   },
   {
    "duration": 17,
    "start_time": "2022-12-05T15:31:28.522Z"
   },
   {
    "duration": 97,
    "start_time": "2022-12-05T15:31:28.541Z"
   },
   {
    "duration": 101,
    "start_time": "2022-12-05T15:31:28.640Z"
   },
   {
    "duration": 9,
    "start_time": "2022-12-05T15:31:28.743Z"
   },
   {
    "duration": 89,
    "start_time": "2022-12-05T15:31:28.755Z"
   },
   {
    "duration": 193,
    "start_time": "2022-12-05T15:31:28.845Z"
   },
   {
    "duration": 102,
    "start_time": "2022-12-05T15:31:29.040Z"
   },
   {
    "duration": 20,
    "start_time": "2022-12-05T15:31:29.145Z"
   },
   {
    "duration": 16,
    "start_time": "2022-12-05T15:31:29.168Z"
   },
   {
    "duration": 11,
    "start_time": "2022-12-05T15:44:34.252Z"
   },
   {
    "duration": 65,
    "start_time": "2022-12-06T05:42:50.784Z"
   },
   {
    "duration": 67,
    "start_time": "2022-12-06T06:00:06.152Z"
   },
   {
    "duration": 1284,
    "start_time": "2022-12-06T06:35:26.511Z"
   },
   {
    "duration": 932,
    "start_time": "2022-12-06T06:35:27.797Z"
   },
   {
    "duration": 14,
    "start_time": "2022-12-06T06:35:28.731Z"
   },
   {
    "duration": 19,
    "start_time": "2022-12-06T06:35:28.747Z"
   },
   {
    "duration": 45,
    "start_time": "2022-12-06T06:35:28.768Z"
   },
   {
    "duration": 113,
    "start_time": "2022-12-06T06:35:28.816Z"
   },
   {
    "duration": 28,
    "start_time": "2022-12-06T06:35:28.931Z"
   },
   {
    "duration": 62,
    "start_time": "2022-12-06T06:35:28.961Z"
   },
   {
    "duration": 97,
    "start_time": "2022-12-06T06:35:29.025Z"
   },
   {
    "duration": 206,
    "start_time": "2022-12-06T06:35:29.126Z"
   },
   {
    "duration": 23,
    "start_time": "2022-12-06T06:35:29.335Z"
   },
   {
    "duration": 15,
    "start_time": "2022-12-06T06:35:29.359Z"
   },
   {
    "duration": 161,
    "start_time": "2022-12-06T06:35:29.375Z"
   },
   {
    "duration": 0,
    "start_time": "2022-12-06T06:35:29.538Z"
   },
   {
    "duration": 48,
    "start_time": "2022-12-06T06:38:24.963Z"
   },
   {
    "duration": 456,
    "start_time": "2022-12-06T06:38:25.013Z"
   },
   {
    "duration": 11,
    "start_time": "2022-12-06T06:38:25.471Z"
   },
   {
    "duration": 4,
    "start_time": "2022-12-06T06:38:25.484Z"
   },
   {
    "duration": 28,
    "start_time": "2022-12-06T06:38:25.490Z"
   },
   {
    "duration": 193,
    "start_time": "2022-12-06T06:38:25.520Z"
   },
   {
    "duration": 14,
    "start_time": "2022-12-06T06:38:25.715Z"
   },
   {
    "duration": 83,
    "start_time": "2022-12-06T06:38:25.731Z"
   },
   {
    "duration": 97,
    "start_time": "2022-12-06T06:38:25.816Z"
   },
   {
    "duration": 97,
    "start_time": "2022-12-06T06:38:25.916Z"
   },
   {
    "duration": 7,
    "start_time": "2022-12-06T06:38:26.015Z"
   },
   {
    "duration": 10,
    "start_time": "2022-12-06T06:38:26.023Z"
   },
   {
    "duration": 195,
    "start_time": "2022-12-06T06:38:26.035Z"
   },
   {
    "duration": 1221,
    "start_time": "2022-12-06T10:15:09.827Z"
   },
   {
    "duration": 850,
    "start_time": "2022-12-06T10:15:11.050Z"
   },
   {
    "duration": 18,
    "start_time": "2022-12-06T10:15:11.902Z"
   },
   {
    "duration": 32,
    "start_time": "2022-12-06T10:15:11.922Z"
   },
   {
    "duration": 56,
    "start_time": "2022-12-06T10:15:11.956Z"
   },
   {
    "duration": 133,
    "start_time": "2022-12-06T10:15:12.014Z"
   },
   {
    "duration": 29,
    "start_time": "2022-12-06T10:15:12.149Z"
   },
   {
    "duration": 143,
    "start_time": "2022-12-06T10:15:12.179Z"
   },
   {
    "duration": 45,
    "start_time": "2022-12-06T10:15:12.323Z"
   },
   {
    "duration": 149,
    "start_time": "2022-12-06T10:15:12.371Z"
   },
   {
    "duration": 31,
    "start_time": "2022-12-06T10:15:12.522Z"
   },
   {
    "duration": 21,
    "start_time": "2022-12-06T10:15:12.555Z"
   },
   {
    "duration": 334,
    "start_time": "2022-12-06T10:15:12.578Z"
   }
  ],
  "kernelspec": {
   "display_name": "Python 3 (ipykernel)",
   "language": "python",
   "name": "python3"
  },
  "language_info": {
   "codemirror_mode": {
    "name": "ipython",
    "version": 3
   },
   "file_extension": ".py",
   "mimetype": "text/x-python",
   "name": "python",
   "nbconvert_exporter": "python",
   "pygments_lexer": "ipython3",
   "version": "3.9.5"
  },
  "toc": {
   "base_numbering": 1,
   "nav_menu": {},
   "number_sections": true,
   "sideBar": true,
   "skip_h1_title": true,
   "title_cell": "Содержание",
   "title_sidebar": "Contents",
   "toc_cell": true,
   "toc_position": {},
   "toc_section_display": true,
   "toc_window_display": true
  }
 },
 "nbformat": 4,
 "nbformat_minor": 2
}
