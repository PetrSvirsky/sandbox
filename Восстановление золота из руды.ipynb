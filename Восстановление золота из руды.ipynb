{
 "cells": [
  {
   "cell_type": "markdown",
   "metadata": {},
   "source": [
    "# Восстановление золота из руды"
   ]
  },
  {
   "cell_type": "markdown",
   "metadata": {},
   "source": [
    "Подготовим прототип модели машинного обучения для «Цифры». Компания разрабатывает решения для эффективной работы промышленных предприятий.\n",
    "\n",
    "Модель должна предсказать коэффициент восстановления золота из золотосодержащей руды. Использовать будем данные с параметрами добычи и очистки. \n",
    "\n",
    "Модель поможет оптимизировать производство, чтобы не запускать предприятие с убыточными характеристиками.\n",
    "\n",
    "Нам нужно:\n",
    "\n",
    "1. Подготовить данные;\n",
    "2. Провести исследовательский анализ данных;\n",
    "3. Построить и обучить модель.\n"
   ]
  },
  {
   "cell_type": "markdown",
   "metadata": {},
   "source": [
    "## Подготовка данных"
   ]
  },
  {
   "cell_type": "markdown",
   "metadata": {},
   "source": [
    "импорт библиотек и сохранение данных в переменные"
   ]
  },
  {
   "cell_type": "code",
   "execution_count": 1,
   "metadata": {},
   "outputs": [],
   "source": [
    "import numpy as np\n",
    "from scipy import stats as st\n",
    "\n",
    "import pandas as pd\n",
    "\n",
    "import matplotlib.pyplot as plt\n",
    "import seaborn as sns\n",
    "\n",
    "from sklearn.model_selection import GridSearchCV\n",
    "from sklearn.model_selection import train_test_split, cross_val_score\n",
    "from sklearn.preprocessing import StandardScaler\n",
    "from sklearn.metrics import make_scorer, mean_absolute_error\n",
    "\n",
    "from sklearn.linear_model import LinearRegression \n",
    "from sklearn.tree import DecisionTreeRegressor\n",
    "from sklearn.ensemble import RandomForestRegressor\n",
    "from sklearn.dummy import DummyRegressor\n",
    "\n",
    "import time\n",
    "from tqdm import tqdm \n",
    "\n",
    "\n",
    "data_train = pd.read_csv('/datasets/gold_recovery_train_new.csv')\n",
    "data_test = pd.read_csv('/datasets/gold_recovery_test_new.csv')\n",
    "data_full = pd.read_csv('/datasets/gold_recovery_full_new.csv')"
   ]
  },
  {
   "cell_type": "markdown",
   "metadata": {},
   "source": [
    "Изучим данные:"
   ]
  },
  {
   "cell_type": "code",
   "execution_count": 2,
   "metadata": {
    "scrolled": false
   },
   "outputs": [
    {
     "name": "stdout",
     "output_type": "stream",
     "text": [
      "<class 'pandas.core.frame.DataFrame'>\n",
      "RangeIndex: 14149 entries, 0 to 14148\n",
      "Data columns (total 87 columns):\n",
      " #   Column                                              Non-Null Count  Dtype  \n",
      "---  ------                                              --------------  -----  \n",
      " 0   date                                                14149 non-null  object \n",
      " 1   final.output.concentrate_ag                         14148 non-null  float64\n",
      " 2   final.output.concentrate_pb                         14148 non-null  float64\n",
      " 3   final.output.concentrate_sol                        13938 non-null  float64\n",
      " 4   final.output.concentrate_au                         14149 non-null  float64\n",
      " 5   final.output.recovery                               14149 non-null  float64\n",
      " 6   final.output.tail_ag                                14149 non-null  float64\n",
      " 7   final.output.tail_pb                                14049 non-null  float64\n",
      " 8   final.output.tail_sol                               14144 non-null  float64\n",
      " 9   final.output.tail_au                                14149 non-null  float64\n",
      " 10  primary_cleaner.input.sulfate                       14129 non-null  float64\n",
      " 11  primary_cleaner.input.depressant                    14117 non-null  float64\n",
      " 12  primary_cleaner.input.feed_size                     14149 non-null  float64\n",
      " 13  primary_cleaner.input.xanthate                      14049 non-null  float64\n",
      " 14  primary_cleaner.output.concentrate_ag               14149 non-null  float64\n",
      " 15  primary_cleaner.output.concentrate_pb               14063 non-null  float64\n",
      " 16  primary_cleaner.output.concentrate_sol              13863 non-null  float64\n",
      " 17  primary_cleaner.output.concentrate_au               14149 non-null  float64\n",
      " 18  primary_cleaner.output.tail_ag                      14148 non-null  float64\n",
      " 19  primary_cleaner.output.tail_pb                      14134 non-null  float64\n",
      " 20  primary_cleaner.output.tail_sol                     14103 non-null  float64\n",
      " 21  primary_cleaner.output.tail_au                      14149 non-null  float64\n",
      " 22  primary_cleaner.state.floatbank8_a_air              14145 non-null  float64\n",
      " 23  primary_cleaner.state.floatbank8_a_level            14148 non-null  float64\n",
      " 24  primary_cleaner.state.floatbank8_b_air              14145 non-null  float64\n",
      " 25  primary_cleaner.state.floatbank8_b_level            14148 non-null  float64\n",
      " 26  primary_cleaner.state.floatbank8_c_air              14147 non-null  float64\n",
      " 27  primary_cleaner.state.floatbank8_c_level            14148 non-null  float64\n",
      " 28  primary_cleaner.state.floatbank8_d_air              14146 non-null  float64\n",
      " 29  primary_cleaner.state.floatbank8_d_level            14148 non-null  float64\n",
      " 30  rougher.calculation.sulfate_to_au_concentrate       14148 non-null  float64\n",
      " 31  rougher.calculation.floatbank10_sulfate_to_au_feed  14148 non-null  float64\n",
      " 32  rougher.calculation.floatbank11_sulfate_to_au_feed  14148 non-null  float64\n",
      " 33  rougher.calculation.au_pb_ratio                     14149 non-null  float64\n",
      " 34  rougher.input.feed_ag                               14149 non-null  float64\n",
      " 35  rougher.input.feed_pb                               14049 non-null  float64\n",
      " 36  rougher.input.feed_rate                             14141 non-null  float64\n",
      " 37  rougher.input.feed_size                             14005 non-null  float64\n",
      " 38  rougher.input.feed_sol                              14071 non-null  float64\n",
      " 39  rougher.input.feed_au                               14149 non-null  float64\n",
      " 40  rougher.input.floatbank10_sulfate                   14120 non-null  float64\n",
      " 41  rougher.input.floatbank10_xanthate                  14141 non-null  float64\n",
      " 42  rougher.input.floatbank11_sulfate                   14113 non-null  float64\n",
      " 43  rougher.input.floatbank11_xanthate                  13721 non-null  float64\n",
      " 44  rougher.output.concentrate_ag                       14149 non-null  float64\n",
      " 45  rougher.output.concentrate_pb                       14149 non-null  float64\n",
      " 46  rougher.output.concentrate_sol                      14127 non-null  float64\n",
      " 47  rougher.output.concentrate_au                       14149 non-null  float64\n",
      " 48  rougher.output.recovery                             14149 non-null  float64\n",
      " 49  rougher.output.tail_ag                              14148 non-null  float64\n",
      " 50  rougher.output.tail_pb                              14149 non-null  float64\n",
      " 51  rougher.output.tail_sol                             14149 non-null  float64\n",
      " 52  rougher.output.tail_au                              14149 non-null  float64\n",
      " 53  rougher.state.floatbank10_a_air                     14148 non-null  float64\n",
      " 54  rougher.state.floatbank10_a_level                   14148 non-null  float64\n",
      " 55  rougher.state.floatbank10_b_air                     14148 non-null  float64\n",
      " 56  rougher.state.floatbank10_b_level                   14148 non-null  float64\n",
      " 57  rougher.state.floatbank10_c_air                     14148 non-null  float64\n",
      " 58  rougher.state.floatbank10_c_level                   14148 non-null  float64\n",
      " 59  rougher.state.floatbank10_d_air                     14149 non-null  float64\n",
      " 60  rougher.state.floatbank10_d_level                   14149 non-null  float64\n",
      " 61  rougher.state.floatbank10_e_air                     13713 non-null  float64\n",
      " 62  rougher.state.floatbank10_e_level                   14149 non-null  float64\n",
      " 63  rougher.state.floatbank10_f_air                     14149 non-null  float64\n",
      " 64  rougher.state.floatbank10_f_level                   14149 non-null  float64\n",
      " 65  secondary_cleaner.output.tail_ag                    14147 non-null  float64\n",
      " 66  secondary_cleaner.output.tail_pb                    14139 non-null  float64\n",
      " 67  secondary_cleaner.output.tail_sol                   12544 non-null  float64\n",
      " 68  secondary_cleaner.output.tail_au                    14149 non-null  float64\n",
      " 69  secondary_cleaner.state.floatbank2_a_air            13932 non-null  float64\n",
      " 70  secondary_cleaner.state.floatbank2_a_level          14148 non-null  float64\n",
      " 71  secondary_cleaner.state.floatbank2_b_air            14128 non-null  float64\n",
      " 72  secondary_cleaner.state.floatbank2_b_level          14148 non-null  float64\n",
      " 73  secondary_cleaner.state.floatbank3_a_air            14145 non-null  float64\n",
      " 74  secondary_cleaner.state.floatbank3_a_level          14148 non-null  float64\n",
      " 75  secondary_cleaner.state.floatbank3_b_air            14148 non-null  float64\n",
      " 76  secondary_cleaner.state.floatbank3_b_level          14148 non-null  float64\n",
      " 77  secondary_cleaner.state.floatbank4_a_air            14143 non-null  float64\n",
      " 78  secondary_cleaner.state.floatbank4_a_level          14148 non-null  float64\n",
      " 79  secondary_cleaner.state.floatbank4_b_air            14148 non-null  float64\n",
      " 80  secondary_cleaner.state.floatbank4_b_level          14148 non-null  float64\n",
      " 81  secondary_cleaner.state.floatbank5_a_air            14148 non-null  float64\n",
      " 82  secondary_cleaner.state.floatbank5_a_level          14148 non-null  float64\n",
      " 83  secondary_cleaner.state.floatbank5_b_air            14148 non-null  float64\n",
      " 84  secondary_cleaner.state.floatbank5_b_level          14148 non-null  float64\n",
      " 85  secondary_cleaner.state.floatbank6_a_air            14147 non-null  float64\n",
      " 86  secondary_cleaner.state.floatbank6_a_level          14148 non-null  float64\n",
      "dtypes: float64(86), object(1)\n",
      "memory usage: 9.4+ MB\n"
     ]
    },
    {
     "data": {
      "text/plain": [
       "None"
      ]
     },
     "metadata": {},
     "output_type": "display_data"
    },
    {
     "data": {
      "text/html": [
       "<div>\n",
       "<style scoped>\n",
       "    .dataframe tbody tr th:only-of-type {\n",
       "        vertical-align: middle;\n",
       "    }\n",
       "\n",
       "    .dataframe tbody tr th {\n",
       "        vertical-align: top;\n",
       "    }\n",
       "\n",
       "    .dataframe thead th {\n",
       "        text-align: right;\n",
       "    }\n",
       "</style>\n",
       "<table border=\"1\" class=\"dataframe\">\n",
       "  <thead>\n",
       "    <tr style=\"text-align: right;\">\n",
       "      <th></th>\n",
       "      <th>date</th>\n",
       "      <th>final.output.concentrate_ag</th>\n",
       "      <th>final.output.concentrate_pb</th>\n",
       "      <th>final.output.concentrate_sol</th>\n",
       "      <th>final.output.concentrate_au</th>\n",
       "      <th>final.output.recovery</th>\n",
       "      <th>final.output.tail_ag</th>\n",
       "      <th>final.output.tail_pb</th>\n",
       "      <th>final.output.tail_sol</th>\n",
       "      <th>final.output.tail_au</th>\n",
       "      <th>...</th>\n",
       "      <th>secondary_cleaner.state.floatbank4_a_air</th>\n",
       "      <th>secondary_cleaner.state.floatbank4_a_level</th>\n",
       "      <th>secondary_cleaner.state.floatbank4_b_air</th>\n",
       "      <th>secondary_cleaner.state.floatbank4_b_level</th>\n",
       "      <th>secondary_cleaner.state.floatbank5_a_air</th>\n",
       "      <th>secondary_cleaner.state.floatbank5_a_level</th>\n",
       "      <th>secondary_cleaner.state.floatbank5_b_air</th>\n",
       "      <th>secondary_cleaner.state.floatbank5_b_level</th>\n",
       "      <th>secondary_cleaner.state.floatbank6_a_air</th>\n",
       "      <th>secondary_cleaner.state.floatbank6_a_level</th>\n",
       "    </tr>\n",
       "  </thead>\n",
       "  <tbody>\n",
       "    <tr>\n",
       "      <th>0</th>\n",
       "      <td>2016-01-15 00:00:00</td>\n",
       "      <td>6.055403</td>\n",
       "      <td>9.889648</td>\n",
       "      <td>5.507324</td>\n",
       "      <td>42.192020</td>\n",
       "      <td>70.541216</td>\n",
       "      <td>10.411962</td>\n",
       "      <td>0.895447</td>\n",
       "      <td>16.904297</td>\n",
       "      <td>2.143149</td>\n",
       "      <td>...</td>\n",
       "      <td>14.016835</td>\n",
       "      <td>-502.488007</td>\n",
       "      <td>12.099931</td>\n",
       "      <td>-504.715942</td>\n",
       "      <td>9.925633</td>\n",
       "      <td>-498.310211</td>\n",
       "      <td>8.079666</td>\n",
       "      <td>-500.470978</td>\n",
       "      <td>14.151341</td>\n",
       "      <td>-605.841980</td>\n",
       "    </tr>\n",
       "    <tr>\n",
       "      <th>1</th>\n",
       "      <td>2016-01-15 01:00:00</td>\n",
       "      <td>6.029369</td>\n",
       "      <td>9.968944</td>\n",
       "      <td>5.257781</td>\n",
       "      <td>42.701629</td>\n",
       "      <td>69.266198</td>\n",
       "      <td>10.462676</td>\n",
       "      <td>0.927452</td>\n",
       "      <td>16.634514</td>\n",
       "      <td>2.224930</td>\n",
       "      <td>...</td>\n",
       "      <td>13.992281</td>\n",
       "      <td>-505.503262</td>\n",
       "      <td>11.950531</td>\n",
       "      <td>-501.331529</td>\n",
       "      <td>10.039245</td>\n",
       "      <td>-500.169983</td>\n",
       "      <td>7.984757</td>\n",
       "      <td>-500.582168</td>\n",
       "      <td>13.998353</td>\n",
       "      <td>-599.787184</td>\n",
       "    </tr>\n",
       "    <tr>\n",
       "      <th>2</th>\n",
       "      <td>2016-01-15 02:00:00</td>\n",
       "      <td>6.055926</td>\n",
       "      <td>10.213995</td>\n",
       "      <td>5.383759</td>\n",
       "      <td>42.657501</td>\n",
       "      <td>68.116445</td>\n",
       "      <td>10.507046</td>\n",
       "      <td>0.953716</td>\n",
       "      <td>16.208849</td>\n",
       "      <td>2.257889</td>\n",
       "      <td>...</td>\n",
       "      <td>14.015015</td>\n",
       "      <td>-502.520901</td>\n",
       "      <td>11.912783</td>\n",
       "      <td>-501.133383</td>\n",
       "      <td>10.070913</td>\n",
       "      <td>-500.129135</td>\n",
       "      <td>8.013877</td>\n",
       "      <td>-500.517572</td>\n",
       "      <td>14.028663</td>\n",
       "      <td>-601.427363</td>\n",
       "    </tr>\n",
       "    <tr>\n",
       "      <th>3</th>\n",
       "      <td>2016-01-15 03:00:00</td>\n",
       "      <td>6.047977</td>\n",
       "      <td>9.977019</td>\n",
       "      <td>4.858634</td>\n",
       "      <td>42.689819</td>\n",
       "      <td>68.347543</td>\n",
       "      <td>10.422762</td>\n",
       "      <td>0.883763</td>\n",
       "      <td>16.532835</td>\n",
       "      <td>2.146849</td>\n",
       "      <td>...</td>\n",
       "      <td>14.036510</td>\n",
       "      <td>-500.857308</td>\n",
       "      <td>11.999550</td>\n",
       "      <td>-501.193686</td>\n",
       "      <td>9.970366</td>\n",
       "      <td>-499.201640</td>\n",
       "      <td>7.977324</td>\n",
       "      <td>-500.255908</td>\n",
       "      <td>14.005551</td>\n",
       "      <td>-599.996129</td>\n",
       "    </tr>\n",
       "    <tr>\n",
       "      <th>4</th>\n",
       "      <td>2016-01-15 04:00:00</td>\n",
       "      <td>6.148599</td>\n",
       "      <td>10.142511</td>\n",
       "      <td>4.939416</td>\n",
       "      <td>42.774141</td>\n",
       "      <td>66.927016</td>\n",
       "      <td>10.360302</td>\n",
       "      <td>0.792826</td>\n",
       "      <td>16.525686</td>\n",
       "      <td>2.055292</td>\n",
       "      <td>...</td>\n",
       "      <td>14.027298</td>\n",
       "      <td>-499.838632</td>\n",
       "      <td>11.953070</td>\n",
       "      <td>-501.053894</td>\n",
       "      <td>9.925709</td>\n",
       "      <td>-501.686727</td>\n",
       "      <td>7.894242</td>\n",
       "      <td>-500.356035</td>\n",
       "      <td>13.996647</td>\n",
       "      <td>-601.496691</td>\n",
       "    </tr>\n",
       "  </tbody>\n",
       "</table>\n",
       "<p>5 rows × 87 columns</p>\n",
       "</div>"
      ],
      "text/plain": [
       "                  date  final.output.concentrate_ag  \\\n",
       "0  2016-01-15 00:00:00                     6.055403   \n",
       "1  2016-01-15 01:00:00                     6.029369   \n",
       "2  2016-01-15 02:00:00                     6.055926   \n",
       "3  2016-01-15 03:00:00                     6.047977   \n",
       "4  2016-01-15 04:00:00                     6.148599   \n",
       "\n",
       "   final.output.concentrate_pb  final.output.concentrate_sol  \\\n",
       "0                     9.889648                      5.507324   \n",
       "1                     9.968944                      5.257781   \n",
       "2                    10.213995                      5.383759   \n",
       "3                     9.977019                      4.858634   \n",
       "4                    10.142511                      4.939416   \n",
       "\n",
       "   final.output.concentrate_au  final.output.recovery  final.output.tail_ag  \\\n",
       "0                    42.192020              70.541216             10.411962   \n",
       "1                    42.701629              69.266198             10.462676   \n",
       "2                    42.657501              68.116445             10.507046   \n",
       "3                    42.689819              68.347543             10.422762   \n",
       "4                    42.774141              66.927016             10.360302   \n",
       "\n",
       "   final.output.tail_pb  final.output.tail_sol  final.output.tail_au  ...  \\\n",
       "0              0.895447              16.904297              2.143149  ...   \n",
       "1              0.927452              16.634514              2.224930  ...   \n",
       "2              0.953716              16.208849              2.257889  ...   \n",
       "3              0.883763              16.532835              2.146849  ...   \n",
       "4              0.792826              16.525686              2.055292  ...   \n",
       "\n",
       "   secondary_cleaner.state.floatbank4_a_air  \\\n",
       "0                                 14.016835   \n",
       "1                                 13.992281   \n",
       "2                                 14.015015   \n",
       "3                                 14.036510   \n",
       "4                                 14.027298   \n",
       "\n",
       "   secondary_cleaner.state.floatbank4_a_level  \\\n",
       "0                                 -502.488007   \n",
       "1                                 -505.503262   \n",
       "2                                 -502.520901   \n",
       "3                                 -500.857308   \n",
       "4                                 -499.838632   \n",
       "\n",
       "   secondary_cleaner.state.floatbank4_b_air  \\\n",
       "0                                 12.099931   \n",
       "1                                 11.950531   \n",
       "2                                 11.912783   \n",
       "3                                 11.999550   \n",
       "4                                 11.953070   \n",
       "\n",
       "   secondary_cleaner.state.floatbank4_b_level  \\\n",
       "0                                 -504.715942   \n",
       "1                                 -501.331529   \n",
       "2                                 -501.133383   \n",
       "3                                 -501.193686   \n",
       "4                                 -501.053894   \n",
       "\n",
       "   secondary_cleaner.state.floatbank5_a_air  \\\n",
       "0                                  9.925633   \n",
       "1                                 10.039245   \n",
       "2                                 10.070913   \n",
       "3                                  9.970366   \n",
       "4                                  9.925709   \n",
       "\n",
       "   secondary_cleaner.state.floatbank5_a_level  \\\n",
       "0                                 -498.310211   \n",
       "1                                 -500.169983   \n",
       "2                                 -500.129135   \n",
       "3                                 -499.201640   \n",
       "4                                 -501.686727   \n",
       "\n",
       "   secondary_cleaner.state.floatbank5_b_air  \\\n",
       "0                                  8.079666   \n",
       "1                                  7.984757   \n",
       "2                                  8.013877   \n",
       "3                                  7.977324   \n",
       "4                                  7.894242   \n",
       "\n",
       "   secondary_cleaner.state.floatbank5_b_level  \\\n",
       "0                                 -500.470978   \n",
       "1                                 -500.582168   \n",
       "2                                 -500.517572   \n",
       "3                                 -500.255908   \n",
       "4                                 -500.356035   \n",
       "\n",
       "   secondary_cleaner.state.floatbank6_a_air  \\\n",
       "0                                 14.151341   \n",
       "1                                 13.998353   \n",
       "2                                 14.028663   \n",
       "3                                 14.005551   \n",
       "4                                 13.996647   \n",
       "\n",
       "   secondary_cleaner.state.floatbank6_a_level  \n",
       "0                                 -605.841980  \n",
       "1                                 -599.787184  \n",
       "2                                 -601.427363  \n",
       "3                                 -599.996129  \n",
       "4                                 -601.496691  \n",
       "\n",
       "[5 rows x 87 columns]"
      ]
     },
     "metadata": {},
     "output_type": "display_data"
    },
    {
     "data": {
      "text/html": [
       "<div>\n",
       "<style scoped>\n",
       "    .dataframe tbody tr th:only-of-type {\n",
       "        vertical-align: middle;\n",
       "    }\n",
       "\n",
       "    .dataframe tbody tr th {\n",
       "        vertical-align: top;\n",
       "    }\n",
       "\n",
       "    .dataframe thead th {\n",
       "        text-align: right;\n",
       "    }\n",
       "</style>\n",
       "<table border=\"1\" class=\"dataframe\">\n",
       "  <thead>\n",
       "    <tr style=\"text-align: right;\">\n",
       "      <th></th>\n",
       "      <th>final.output.concentrate_ag</th>\n",
       "      <th>final.output.concentrate_pb</th>\n",
       "      <th>final.output.concentrate_sol</th>\n",
       "      <th>final.output.concentrate_au</th>\n",
       "      <th>final.output.recovery</th>\n",
       "      <th>final.output.tail_ag</th>\n",
       "      <th>final.output.tail_pb</th>\n",
       "      <th>final.output.tail_sol</th>\n",
       "      <th>final.output.tail_au</th>\n",
       "      <th>primary_cleaner.input.sulfate</th>\n",
       "      <th>...</th>\n",
       "      <th>secondary_cleaner.state.floatbank4_a_air</th>\n",
       "      <th>secondary_cleaner.state.floatbank4_a_level</th>\n",
       "      <th>secondary_cleaner.state.floatbank4_b_air</th>\n",
       "      <th>secondary_cleaner.state.floatbank4_b_level</th>\n",
       "      <th>secondary_cleaner.state.floatbank5_a_air</th>\n",
       "      <th>secondary_cleaner.state.floatbank5_a_level</th>\n",
       "      <th>secondary_cleaner.state.floatbank5_b_air</th>\n",
       "      <th>secondary_cleaner.state.floatbank5_b_level</th>\n",
       "      <th>secondary_cleaner.state.floatbank6_a_air</th>\n",
       "      <th>secondary_cleaner.state.floatbank6_a_level</th>\n",
       "    </tr>\n",
       "  </thead>\n",
       "  <tbody>\n",
       "    <tr>\n",
       "      <th>count</th>\n",
       "      <td>14148.000000</td>\n",
       "      <td>14148.000000</td>\n",
       "      <td>13938.000000</td>\n",
       "      <td>14149.000000</td>\n",
       "      <td>14149.000000</td>\n",
       "      <td>14149.000000</td>\n",
       "      <td>14049.000000</td>\n",
       "      <td>14144.000000</td>\n",
       "      <td>14149.000000</td>\n",
       "      <td>14129.000000</td>\n",
       "      <td>...</td>\n",
       "      <td>14143.000000</td>\n",
       "      <td>14148.000000</td>\n",
       "      <td>14148.000000</td>\n",
       "      <td>14148.000000</td>\n",
       "      <td>14148.000000</td>\n",
       "      <td>14148.000000</td>\n",
       "      <td>14148.000000</td>\n",
       "      <td>14148.000000</td>\n",
       "      <td>14147.000000</td>\n",
       "      <td>14148.000000</td>\n",
       "    </tr>\n",
       "    <tr>\n",
       "      <th>mean</th>\n",
       "      <td>5.142034</td>\n",
       "      <td>10.132960</td>\n",
       "      <td>9.202849</td>\n",
       "      <td>44.003792</td>\n",
       "      <td>66.518832</td>\n",
       "      <td>9.607035</td>\n",
       "      <td>2.597298</td>\n",
       "      <td>10.512122</td>\n",
       "      <td>2.918421</td>\n",
       "      <td>133.320659</td>\n",
       "      <td>...</td>\n",
       "      <td>19.985454</td>\n",
       "      <td>-478.696836</td>\n",
       "      <td>15.487065</td>\n",
       "      <td>-460.229416</td>\n",
       "      <td>16.775136</td>\n",
       "      <td>-483.956022</td>\n",
       "      <td>13.064590</td>\n",
       "      <td>-483.966564</td>\n",
       "      <td>19.577539</td>\n",
       "      <td>-506.798480</td>\n",
       "    </tr>\n",
       "    <tr>\n",
       "      <th>std</th>\n",
       "      <td>1.369586</td>\n",
       "      <td>1.654930</td>\n",
       "      <td>2.790516</td>\n",
       "      <td>4.905261</td>\n",
       "      <td>10.295402</td>\n",
       "      <td>2.319069</td>\n",
       "      <td>0.971843</td>\n",
       "      <td>3.003617</td>\n",
       "      <td>0.903712</td>\n",
       "      <td>39.431659</td>\n",
       "      <td>...</td>\n",
       "      <td>5.657723</td>\n",
       "      <td>50.736021</td>\n",
       "      <td>5.255655</td>\n",
       "      <td>58.843586</td>\n",
       "      <td>5.831906</td>\n",
       "      <td>37.892788</td>\n",
       "      <td>5.765617</td>\n",
       "      <td>39.207913</td>\n",
       "      <td>5.764417</td>\n",
       "      <td>37.079249</td>\n",
       "    </tr>\n",
       "    <tr>\n",
       "      <th>min</th>\n",
       "      <td>0.000000</td>\n",
       "      <td>0.000000</td>\n",
       "      <td>0.000000</td>\n",
       "      <td>0.000000</td>\n",
       "      <td>0.000000</td>\n",
       "      <td>0.000000</td>\n",
       "      <td>0.000000</td>\n",
       "      <td>0.000000</td>\n",
       "      <td>0.000000</td>\n",
       "      <td>0.003112</td>\n",
       "      <td>...</td>\n",
       "      <td>0.000000</td>\n",
       "      <td>-799.709069</td>\n",
       "      <td>0.000000</td>\n",
       "      <td>-799.889113</td>\n",
       "      <td>-0.372054</td>\n",
       "      <td>-797.142475</td>\n",
       "      <td>0.646208</td>\n",
       "      <td>-800.006180</td>\n",
       "      <td>0.195324</td>\n",
       "      <td>-809.398668</td>\n",
       "    </tr>\n",
       "    <tr>\n",
       "      <th>25%</th>\n",
       "      <td>4.211620</td>\n",
       "      <td>9.297355</td>\n",
       "      <td>7.484645</td>\n",
       "      <td>43.276111</td>\n",
       "      <td>62.545817</td>\n",
       "      <td>7.997429</td>\n",
       "      <td>1.905973</td>\n",
       "      <td>8.811324</td>\n",
       "      <td>2.368607</td>\n",
       "      <td>107.006651</td>\n",
       "      <td>...</td>\n",
       "      <td>14.990775</td>\n",
       "      <td>-500.628656</td>\n",
       "      <td>11.894558</td>\n",
       "      <td>-500.149000</td>\n",
       "      <td>11.083980</td>\n",
       "      <td>-500.363177</td>\n",
       "      <td>8.994405</td>\n",
       "      <td>-500.105994</td>\n",
       "      <td>14.989304</td>\n",
       "      <td>-500.745104</td>\n",
       "    </tr>\n",
       "    <tr>\n",
       "      <th>50%</th>\n",
       "      <td>4.994652</td>\n",
       "      <td>10.297144</td>\n",
       "      <td>8.845462</td>\n",
       "      <td>44.872436</td>\n",
       "      <td>67.432775</td>\n",
       "      <td>9.480270</td>\n",
       "      <td>2.592022</td>\n",
       "      <td>10.514621</td>\n",
       "      <td>2.851025</td>\n",
       "      <td>133.018328</td>\n",
       "      <td>...</td>\n",
       "      <td>20.001789</td>\n",
       "      <td>-499.681450</td>\n",
       "      <td>14.975536</td>\n",
       "      <td>-499.388738</td>\n",
       "      <td>17.932223</td>\n",
       "      <td>-499.702452</td>\n",
       "      <td>11.997547</td>\n",
       "      <td>-499.914556</td>\n",
       "      <td>19.984175</td>\n",
       "      <td>-500.061431</td>\n",
       "    </tr>\n",
       "    <tr>\n",
       "      <th>75%</th>\n",
       "      <td>5.859540</td>\n",
       "      <td>11.170603</td>\n",
       "      <td>10.487508</td>\n",
       "      <td>46.166425</td>\n",
       "      <td>72.346428</td>\n",
       "      <td>11.003707</td>\n",
       "      <td>3.241723</td>\n",
       "      <td>11.933009</td>\n",
       "      <td>3.434764</td>\n",
       "      <td>159.825396</td>\n",
       "      <td>...</td>\n",
       "      <td>24.990826</td>\n",
       "      <td>-477.472413</td>\n",
       "      <td>20.059375</td>\n",
       "      <td>-400.039008</td>\n",
       "      <td>21.346550</td>\n",
       "      <td>-487.712108</td>\n",
       "      <td>17.982903</td>\n",
       "      <td>-453.186936</td>\n",
       "      <td>24.991623</td>\n",
       "      <td>-499.536466</td>\n",
       "    </tr>\n",
       "    <tr>\n",
       "      <th>max</th>\n",
       "      <td>16.001945</td>\n",
       "      <td>17.031899</td>\n",
       "      <td>18.124851</td>\n",
       "      <td>52.756638</td>\n",
       "      <td>100.000000</td>\n",
       "      <td>19.552149</td>\n",
       "      <td>5.639565</td>\n",
       "      <td>22.317730</td>\n",
       "      <td>8.197408</td>\n",
       "      <td>250.127834</td>\n",
       "      <td>...</td>\n",
       "      <td>30.115735</td>\n",
       "      <td>-245.239184</td>\n",
       "      <td>24.007913</td>\n",
       "      <td>-145.071088</td>\n",
       "      <td>43.709931</td>\n",
       "      <td>-275.073125</td>\n",
       "      <td>27.926001</td>\n",
       "      <td>-157.396071</td>\n",
       "      <td>32.188906</td>\n",
       "      <td>-104.427459</td>\n",
       "    </tr>\n",
       "  </tbody>\n",
       "</table>\n",
       "<p>8 rows × 86 columns</p>\n",
       "</div>"
      ],
      "text/plain": [
       "       final.output.concentrate_ag  final.output.concentrate_pb  \\\n",
       "count                 14148.000000                 14148.000000   \n",
       "mean                      5.142034                    10.132960   \n",
       "std                       1.369586                     1.654930   \n",
       "min                       0.000000                     0.000000   \n",
       "25%                       4.211620                     9.297355   \n",
       "50%                       4.994652                    10.297144   \n",
       "75%                       5.859540                    11.170603   \n",
       "max                      16.001945                    17.031899   \n",
       "\n",
       "       final.output.concentrate_sol  final.output.concentrate_au  \\\n",
       "count                  13938.000000                 14149.000000   \n",
       "mean                       9.202849                    44.003792   \n",
       "std                        2.790516                     4.905261   \n",
       "min                        0.000000                     0.000000   \n",
       "25%                        7.484645                    43.276111   \n",
       "50%                        8.845462                    44.872436   \n",
       "75%                       10.487508                    46.166425   \n",
       "max                       18.124851                    52.756638   \n",
       "\n",
       "       final.output.recovery  final.output.tail_ag  final.output.tail_pb  \\\n",
       "count           14149.000000          14149.000000          14049.000000   \n",
       "mean               66.518832              9.607035              2.597298   \n",
       "std                10.295402              2.319069              0.971843   \n",
       "min                 0.000000              0.000000              0.000000   \n",
       "25%                62.545817              7.997429              1.905973   \n",
       "50%                67.432775              9.480270              2.592022   \n",
       "75%                72.346428             11.003707              3.241723   \n",
       "max               100.000000             19.552149              5.639565   \n",
       "\n",
       "       final.output.tail_sol  final.output.tail_au  \\\n",
       "count           14144.000000          14149.000000   \n",
       "mean               10.512122              2.918421   \n",
       "std                 3.003617              0.903712   \n",
       "min                 0.000000              0.000000   \n",
       "25%                 8.811324              2.368607   \n",
       "50%                10.514621              2.851025   \n",
       "75%                11.933009              3.434764   \n",
       "max                22.317730              8.197408   \n",
       "\n",
       "       primary_cleaner.input.sulfate  ...  \\\n",
       "count                   14129.000000  ...   \n",
       "mean                      133.320659  ...   \n",
       "std                        39.431659  ...   \n",
       "min                         0.003112  ...   \n",
       "25%                       107.006651  ...   \n",
       "50%                       133.018328  ...   \n",
       "75%                       159.825396  ...   \n",
       "max                       250.127834  ...   \n",
       "\n",
       "       secondary_cleaner.state.floatbank4_a_air  \\\n",
       "count                              14143.000000   \n",
       "mean                                  19.985454   \n",
       "std                                    5.657723   \n",
       "min                                    0.000000   \n",
       "25%                                   14.990775   \n",
       "50%                                   20.001789   \n",
       "75%                                   24.990826   \n",
       "max                                   30.115735   \n",
       "\n",
       "       secondary_cleaner.state.floatbank4_a_level  \\\n",
       "count                                14148.000000   \n",
       "mean                                  -478.696836   \n",
       "std                                     50.736021   \n",
       "min                                   -799.709069   \n",
       "25%                                   -500.628656   \n",
       "50%                                   -499.681450   \n",
       "75%                                   -477.472413   \n",
       "max                                   -245.239184   \n",
       "\n",
       "       secondary_cleaner.state.floatbank4_b_air  \\\n",
       "count                              14148.000000   \n",
       "mean                                  15.487065   \n",
       "std                                    5.255655   \n",
       "min                                    0.000000   \n",
       "25%                                   11.894558   \n",
       "50%                                   14.975536   \n",
       "75%                                   20.059375   \n",
       "max                                   24.007913   \n",
       "\n",
       "       secondary_cleaner.state.floatbank4_b_level  \\\n",
       "count                                14148.000000   \n",
       "mean                                  -460.229416   \n",
       "std                                     58.843586   \n",
       "min                                   -799.889113   \n",
       "25%                                   -500.149000   \n",
       "50%                                   -499.388738   \n",
       "75%                                   -400.039008   \n",
       "max                                   -145.071088   \n",
       "\n",
       "       secondary_cleaner.state.floatbank5_a_air  \\\n",
       "count                              14148.000000   \n",
       "mean                                  16.775136   \n",
       "std                                    5.831906   \n",
       "min                                   -0.372054   \n",
       "25%                                   11.083980   \n",
       "50%                                   17.932223   \n",
       "75%                                   21.346550   \n",
       "max                                   43.709931   \n",
       "\n",
       "       secondary_cleaner.state.floatbank5_a_level  \\\n",
       "count                                14148.000000   \n",
       "mean                                  -483.956022   \n",
       "std                                     37.892788   \n",
       "min                                   -797.142475   \n",
       "25%                                   -500.363177   \n",
       "50%                                   -499.702452   \n",
       "75%                                   -487.712108   \n",
       "max                                   -275.073125   \n",
       "\n",
       "       secondary_cleaner.state.floatbank5_b_air  \\\n",
       "count                              14148.000000   \n",
       "mean                                  13.064590   \n",
       "std                                    5.765617   \n",
       "min                                    0.646208   \n",
       "25%                                    8.994405   \n",
       "50%                                   11.997547   \n",
       "75%                                   17.982903   \n",
       "max                                   27.926001   \n",
       "\n",
       "       secondary_cleaner.state.floatbank5_b_level  \\\n",
       "count                                14148.000000   \n",
       "mean                                  -483.966564   \n",
       "std                                     39.207913   \n",
       "min                                   -800.006180   \n",
       "25%                                   -500.105994   \n",
       "50%                                   -499.914556   \n",
       "75%                                   -453.186936   \n",
       "max                                   -157.396071   \n",
       "\n",
       "       secondary_cleaner.state.floatbank6_a_air  \\\n",
       "count                              14147.000000   \n",
       "mean                                  19.577539   \n",
       "std                                    5.764417   \n",
       "min                                    0.195324   \n",
       "25%                                   14.989304   \n",
       "50%                                   19.984175   \n",
       "75%                                   24.991623   \n",
       "max                                   32.188906   \n",
       "\n",
       "       secondary_cleaner.state.floatbank6_a_level  \n",
       "count                                14148.000000  \n",
       "mean                                  -506.798480  \n",
       "std                                     37.079249  \n",
       "min                                   -809.398668  \n",
       "25%                                   -500.745104  \n",
       "50%                                   -500.061431  \n",
       "75%                                   -499.536466  \n",
       "max                                   -104.427459  \n",
       "\n",
       "[8 rows x 86 columns]"
      ]
     },
     "metadata": {},
     "output_type": "display_data"
    },
    {
     "name": "stdout",
     "output_type": "stream",
     "text": [
      "<class 'pandas.core.frame.DataFrame'>\n",
      "RangeIndex: 5290 entries, 0 to 5289\n",
      "Data columns (total 53 columns):\n",
      " #   Column                                      Non-Null Count  Dtype  \n",
      "---  ------                                      --------------  -----  \n",
      " 0   date                                        5290 non-null   object \n",
      " 1   primary_cleaner.input.sulfate               5286 non-null   float64\n",
      " 2   primary_cleaner.input.depressant            5285 non-null   float64\n",
      " 3   primary_cleaner.input.feed_size             5290 non-null   float64\n",
      " 4   primary_cleaner.input.xanthate              5286 non-null   float64\n",
      " 5   primary_cleaner.state.floatbank8_a_air      5290 non-null   float64\n",
      " 6   primary_cleaner.state.floatbank8_a_level    5290 non-null   float64\n",
      " 7   primary_cleaner.state.floatbank8_b_air      5290 non-null   float64\n",
      " 8   primary_cleaner.state.floatbank8_b_level    5290 non-null   float64\n",
      " 9   primary_cleaner.state.floatbank8_c_air      5290 non-null   float64\n",
      " 10  primary_cleaner.state.floatbank8_c_level    5290 non-null   float64\n",
      " 11  primary_cleaner.state.floatbank8_d_air      5290 non-null   float64\n",
      " 12  primary_cleaner.state.floatbank8_d_level    5290 non-null   float64\n",
      " 13  rougher.input.feed_ag                       5290 non-null   float64\n",
      " 14  rougher.input.feed_pb                       5290 non-null   float64\n",
      " 15  rougher.input.feed_rate                     5287 non-null   float64\n",
      " 16  rougher.input.feed_size                     5289 non-null   float64\n",
      " 17  rougher.input.feed_sol                      5269 non-null   float64\n",
      " 18  rougher.input.feed_au                       5290 non-null   float64\n",
      " 19  rougher.input.floatbank10_sulfate           5285 non-null   float64\n",
      " 20  rougher.input.floatbank10_xanthate          5290 non-null   float64\n",
      " 21  rougher.input.floatbank11_sulfate           5282 non-null   float64\n",
      " 22  rougher.input.floatbank11_xanthate          5265 non-null   float64\n",
      " 23  rougher.state.floatbank10_a_air             5290 non-null   float64\n",
      " 24  rougher.state.floatbank10_a_level           5290 non-null   float64\n",
      " 25  rougher.state.floatbank10_b_air             5290 non-null   float64\n",
      " 26  rougher.state.floatbank10_b_level           5290 non-null   float64\n",
      " 27  rougher.state.floatbank10_c_air             5290 non-null   float64\n",
      " 28  rougher.state.floatbank10_c_level           5290 non-null   float64\n",
      " 29  rougher.state.floatbank10_d_air             5290 non-null   float64\n",
      " 30  rougher.state.floatbank10_d_level           5290 non-null   float64\n",
      " 31  rougher.state.floatbank10_e_air             5290 non-null   float64\n",
      " 32  rougher.state.floatbank10_e_level           5290 non-null   float64\n",
      " 33  rougher.state.floatbank10_f_air             5290 non-null   float64\n",
      " 34  rougher.state.floatbank10_f_level           5290 non-null   float64\n",
      " 35  secondary_cleaner.state.floatbank2_a_air    5287 non-null   float64\n",
      " 36  secondary_cleaner.state.floatbank2_a_level  5290 non-null   float64\n",
      " 37  secondary_cleaner.state.floatbank2_b_air    5288 non-null   float64\n",
      " 38  secondary_cleaner.state.floatbank2_b_level  5290 non-null   float64\n",
      " 39  secondary_cleaner.state.floatbank3_a_air    5281 non-null   float64\n",
      " 40  secondary_cleaner.state.floatbank3_a_level  5290 non-null   float64\n",
      " 41  secondary_cleaner.state.floatbank3_b_air    5290 non-null   float64\n",
      " 42  secondary_cleaner.state.floatbank3_b_level  5290 non-null   float64\n",
      " 43  secondary_cleaner.state.floatbank4_a_air    5290 non-null   float64\n",
      " 44  secondary_cleaner.state.floatbank4_a_level  5290 non-null   float64\n",
      " 45  secondary_cleaner.state.floatbank4_b_air    5290 non-null   float64\n",
      " 46  secondary_cleaner.state.floatbank4_b_level  5290 non-null   float64\n",
      " 47  secondary_cleaner.state.floatbank5_a_air    5290 non-null   float64\n",
      " 48  secondary_cleaner.state.floatbank5_a_level  5290 non-null   float64\n",
      " 49  secondary_cleaner.state.floatbank5_b_air    5290 non-null   float64\n",
      " 50  secondary_cleaner.state.floatbank5_b_level  5290 non-null   float64\n",
      " 51  secondary_cleaner.state.floatbank6_a_air    5290 non-null   float64\n",
      " 52  secondary_cleaner.state.floatbank6_a_level  5290 non-null   float64\n",
      "dtypes: float64(52), object(1)\n",
      "memory usage: 2.1+ MB\n"
     ]
    },
    {
     "data": {
      "text/plain": [
       "None"
      ]
     },
     "metadata": {},
     "output_type": "display_data"
    },
    {
     "data": {
      "text/html": [
       "<div>\n",
       "<style scoped>\n",
       "    .dataframe tbody tr th:only-of-type {\n",
       "        vertical-align: middle;\n",
       "    }\n",
       "\n",
       "    .dataframe tbody tr th {\n",
       "        vertical-align: top;\n",
       "    }\n",
       "\n",
       "    .dataframe thead th {\n",
       "        text-align: right;\n",
       "    }\n",
       "</style>\n",
       "<table border=\"1\" class=\"dataframe\">\n",
       "  <thead>\n",
       "    <tr style=\"text-align: right;\">\n",
       "      <th></th>\n",
       "      <th>date</th>\n",
       "      <th>primary_cleaner.input.sulfate</th>\n",
       "      <th>primary_cleaner.input.depressant</th>\n",
       "      <th>primary_cleaner.input.feed_size</th>\n",
       "      <th>primary_cleaner.input.xanthate</th>\n",
       "      <th>primary_cleaner.state.floatbank8_a_air</th>\n",
       "      <th>primary_cleaner.state.floatbank8_a_level</th>\n",
       "      <th>primary_cleaner.state.floatbank8_b_air</th>\n",
       "      <th>primary_cleaner.state.floatbank8_b_level</th>\n",
       "      <th>primary_cleaner.state.floatbank8_c_air</th>\n",
       "      <th>...</th>\n",
       "      <th>secondary_cleaner.state.floatbank4_a_air</th>\n",
       "      <th>secondary_cleaner.state.floatbank4_a_level</th>\n",
       "      <th>secondary_cleaner.state.floatbank4_b_air</th>\n",
       "      <th>secondary_cleaner.state.floatbank4_b_level</th>\n",
       "      <th>secondary_cleaner.state.floatbank5_a_air</th>\n",
       "      <th>secondary_cleaner.state.floatbank5_a_level</th>\n",
       "      <th>secondary_cleaner.state.floatbank5_b_air</th>\n",
       "      <th>secondary_cleaner.state.floatbank5_b_level</th>\n",
       "      <th>secondary_cleaner.state.floatbank6_a_air</th>\n",
       "      <th>secondary_cleaner.state.floatbank6_a_level</th>\n",
       "    </tr>\n",
       "  </thead>\n",
       "  <tbody>\n",
       "    <tr>\n",
       "      <th>0</th>\n",
       "      <td>2016-09-01 00:59:59</td>\n",
       "      <td>210.800909</td>\n",
       "      <td>14.993118</td>\n",
       "      <td>8.080000</td>\n",
       "      <td>1.005021</td>\n",
       "      <td>1398.981301</td>\n",
       "      <td>-500.225577</td>\n",
       "      <td>1399.144926</td>\n",
       "      <td>-499.919735</td>\n",
       "      <td>1400.102998</td>\n",
       "      <td>...</td>\n",
       "      <td>12.023554</td>\n",
       "      <td>-497.795834</td>\n",
       "      <td>8.016656</td>\n",
       "      <td>-501.289139</td>\n",
       "      <td>7.946562</td>\n",
       "      <td>-432.317850</td>\n",
       "      <td>4.872511</td>\n",
       "      <td>-500.037437</td>\n",
       "      <td>26.705889</td>\n",
       "      <td>-499.709414</td>\n",
       "    </tr>\n",
       "    <tr>\n",
       "      <th>1</th>\n",
       "      <td>2016-09-01 01:59:59</td>\n",
       "      <td>215.392455</td>\n",
       "      <td>14.987471</td>\n",
       "      <td>8.080000</td>\n",
       "      <td>0.990469</td>\n",
       "      <td>1398.777912</td>\n",
       "      <td>-500.057435</td>\n",
       "      <td>1398.055362</td>\n",
       "      <td>-499.778182</td>\n",
       "      <td>1396.151033</td>\n",
       "      <td>...</td>\n",
       "      <td>12.058140</td>\n",
       "      <td>-498.695773</td>\n",
       "      <td>8.130979</td>\n",
       "      <td>-499.634209</td>\n",
       "      <td>7.958270</td>\n",
       "      <td>-525.839648</td>\n",
       "      <td>4.878850</td>\n",
       "      <td>-500.162375</td>\n",
       "      <td>25.019940</td>\n",
       "      <td>-499.819438</td>\n",
       "    </tr>\n",
       "    <tr>\n",
       "      <th>2</th>\n",
       "      <td>2016-09-01 02:59:59</td>\n",
       "      <td>215.259946</td>\n",
       "      <td>12.884934</td>\n",
       "      <td>7.786667</td>\n",
       "      <td>0.996043</td>\n",
       "      <td>1398.493666</td>\n",
       "      <td>-500.868360</td>\n",
       "      <td>1398.860436</td>\n",
       "      <td>-499.764529</td>\n",
       "      <td>1398.075709</td>\n",
       "      <td>...</td>\n",
       "      <td>11.962366</td>\n",
       "      <td>-498.767484</td>\n",
       "      <td>8.096893</td>\n",
       "      <td>-500.827423</td>\n",
       "      <td>8.071056</td>\n",
       "      <td>-500.801673</td>\n",
       "      <td>4.905125</td>\n",
       "      <td>-499.828510</td>\n",
       "      <td>24.994862</td>\n",
       "      <td>-500.622559</td>\n",
       "    </tr>\n",
       "    <tr>\n",
       "      <th>3</th>\n",
       "      <td>2016-09-01 03:59:59</td>\n",
       "      <td>215.336236</td>\n",
       "      <td>12.006805</td>\n",
       "      <td>7.640000</td>\n",
       "      <td>0.863514</td>\n",
       "      <td>1399.618111</td>\n",
       "      <td>-498.863574</td>\n",
       "      <td>1397.440120</td>\n",
       "      <td>-499.211024</td>\n",
       "      <td>1400.129303</td>\n",
       "      <td>...</td>\n",
       "      <td>12.033091</td>\n",
       "      <td>-498.350935</td>\n",
       "      <td>8.074946</td>\n",
       "      <td>-499.474407</td>\n",
       "      <td>7.897085</td>\n",
       "      <td>-500.868509</td>\n",
       "      <td>4.931400</td>\n",
       "      <td>-499.963623</td>\n",
       "      <td>24.948919</td>\n",
       "      <td>-498.709987</td>\n",
       "    </tr>\n",
       "    <tr>\n",
       "      <th>4</th>\n",
       "      <td>2016-09-01 04:59:59</td>\n",
       "      <td>199.099327</td>\n",
       "      <td>10.682530</td>\n",
       "      <td>7.530000</td>\n",
       "      <td>0.805575</td>\n",
       "      <td>1401.268123</td>\n",
       "      <td>-500.808305</td>\n",
       "      <td>1398.128818</td>\n",
       "      <td>-499.504543</td>\n",
       "      <td>1402.172226</td>\n",
       "      <td>...</td>\n",
       "      <td>12.025367</td>\n",
       "      <td>-500.786497</td>\n",
       "      <td>8.054678</td>\n",
       "      <td>-500.397500</td>\n",
       "      <td>8.107890</td>\n",
       "      <td>-509.526725</td>\n",
       "      <td>4.957674</td>\n",
       "      <td>-500.360026</td>\n",
       "      <td>25.003331</td>\n",
       "      <td>-500.856333</td>\n",
       "    </tr>\n",
       "  </tbody>\n",
       "</table>\n",
       "<p>5 rows × 53 columns</p>\n",
       "</div>"
      ],
      "text/plain": [
       "                  date  primary_cleaner.input.sulfate  \\\n",
       "0  2016-09-01 00:59:59                     210.800909   \n",
       "1  2016-09-01 01:59:59                     215.392455   \n",
       "2  2016-09-01 02:59:59                     215.259946   \n",
       "3  2016-09-01 03:59:59                     215.336236   \n",
       "4  2016-09-01 04:59:59                     199.099327   \n",
       "\n",
       "   primary_cleaner.input.depressant  primary_cleaner.input.feed_size  \\\n",
       "0                         14.993118                         8.080000   \n",
       "1                         14.987471                         8.080000   \n",
       "2                         12.884934                         7.786667   \n",
       "3                         12.006805                         7.640000   \n",
       "4                         10.682530                         7.530000   \n",
       "\n",
       "   primary_cleaner.input.xanthate  primary_cleaner.state.floatbank8_a_air  \\\n",
       "0                        1.005021                             1398.981301   \n",
       "1                        0.990469                             1398.777912   \n",
       "2                        0.996043                             1398.493666   \n",
       "3                        0.863514                             1399.618111   \n",
       "4                        0.805575                             1401.268123   \n",
       "\n",
       "   primary_cleaner.state.floatbank8_a_level  \\\n",
       "0                               -500.225577   \n",
       "1                               -500.057435   \n",
       "2                               -500.868360   \n",
       "3                               -498.863574   \n",
       "4                               -500.808305   \n",
       "\n",
       "   primary_cleaner.state.floatbank8_b_air  \\\n",
       "0                             1399.144926   \n",
       "1                             1398.055362   \n",
       "2                             1398.860436   \n",
       "3                             1397.440120   \n",
       "4                             1398.128818   \n",
       "\n",
       "   primary_cleaner.state.floatbank8_b_level  \\\n",
       "0                               -499.919735   \n",
       "1                               -499.778182   \n",
       "2                               -499.764529   \n",
       "3                               -499.211024   \n",
       "4                               -499.504543   \n",
       "\n",
       "   primary_cleaner.state.floatbank8_c_air  ...  \\\n",
       "0                             1400.102998  ...   \n",
       "1                             1396.151033  ...   \n",
       "2                             1398.075709  ...   \n",
       "3                             1400.129303  ...   \n",
       "4                             1402.172226  ...   \n",
       "\n",
       "   secondary_cleaner.state.floatbank4_a_air  \\\n",
       "0                                 12.023554   \n",
       "1                                 12.058140   \n",
       "2                                 11.962366   \n",
       "3                                 12.033091   \n",
       "4                                 12.025367   \n",
       "\n",
       "   secondary_cleaner.state.floatbank4_a_level  \\\n",
       "0                                 -497.795834   \n",
       "1                                 -498.695773   \n",
       "2                                 -498.767484   \n",
       "3                                 -498.350935   \n",
       "4                                 -500.786497   \n",
       "\n",
       "   secondary_cleaner.state.floatbank4_b_air  \\\n",
       "0                                  8.016656   \n",
       "1                                  8.130979   \n",
       "2                                  8.096893   \n",
       "3                                  8.074946   \n",
       "4                                  8.054678   \n",
       "\n",
       "   secondary_cleaner.state.floatbank4_b_level  \\\n",
       "0                                 -501.289139   \n",
       "1                                 -499.634209   \n",
       "2                                 -500.827423   \n",
       "3                                 -499.474407   \n",
       "4                                 -500.397500   \n",
       "\n",
       "   secondary_cleaner.state.floatbank5_a_air  \\\n",
       "0                                  7.946562   \n",
       "1                                  7.958270   \n",
       "2                                  8.071056   \n",
       "3                                  7.897085   \n",
       "4                                  8.107890   \n",
       "\n",
       "   secondary_cleaner.state.floatbank5_a_level  \\\n",
       "0                                 -432.317850   \n",
       "1                                 -525.839648   \n",
       "2                                 -500.801673   \n",
       "3                                 -500.868509   \n",
       "4                                 -509.526725   \n",
       "\n",
       "   secondary_cleaner.state.floatbank5_b_air  \\\n",
       "0                                  4.872511   \n",
       "1                                  4.878850   \n",
       "2                                  4.905125   \n",
       "3                                  4.931400   \n",
       "4                                  4.957674   \n",
       "\n",
       "   secondary_cleaner.state.floatbank5_b_level  \\\n",
       "0                                 -500.037437   \n",
       "1                                 -500.162375   \n",
       "2                                 -499.828510   \n",
       "3                                 -499.963623   \n",
       "4                                 -500.360026   \n",
       "\n",
       "   secondary_cleaner.state.floatbank6_a_air  \\\n",
       "0                                 26.705889   \n",
       "1                                 25.019940   \n",
       "2                                 24.994862   \n",
       "3                                 24.948919   \n",
       "4                                 25.003331   \n",
       "\n",
       "   secondary_cleaner.state.floatbank6_a_level  \n",
       "0                                 -499.709414  \n",
       "1                                 -499.819438  \n",
       "2                                 -500.622559  \n",
       "3                                 -498.709987  \n",
       "4                                 -500.856333  \n",
       "\n",
       "[5 rows x 53 columns]"
      ]
     },
     "metadata": {},
     "output_type": "display_data"
    },
    {
     "data": {
      "text/html": [
       "<div>\n",
       "<style scoped>\n",
       "    .dataframe tbody tr th:only-of-type {\n",
       "        vertical-align: middle;\n",
       "    }\n",
       "\n",
       "    .dataframe tbody tr th {\n",
       "        vertical-align: top;\n",
       "    }\n",
       "\n",
       "    .dataframe thead th {\n",
       "        text-align: right;\n",
       "    }\n",
       "</style>\n",
       "<table border=\"1\" class=\"dataframe\">\n",
       "  <thead>\n",
       "    <tr style=\"text-align: right;\">\n",
       "      <th></th>\n",
       "      <th>primary_cleaner.input.sulfate</th>\n",
       "      <th>primary_cleaner.input.depressant</th>\n",
       "      <th>primary_cleaner.input.feed_size</th>\n",
       "      <th>primary_cleaner.input.xanthate</th>\n",
       "      <th>primary_cleaner.state.floatbank8_a_air</th>\n",
       "      <th>primary_cleaner.state.floatbank8_a_level</th>\n",
       "      <th>primary_cleaner.state.floatbank8_b_air</th>\n",
       "      <th>primary_cleaner.state.floatbank8_b_level</th>\n",
       "      <th>primary_cleaner.state.floatbank8_c_air</th>\n",
       "      <th>primary_cleaner.state.floatbank8_c_level</th>\n",
       "      <th>...</th>\n",
       "      <th>secondary_cleaner.state.floatbank4_a_air</th>\n",
       "      <th>secondary_cleaner.state.floatbank4_a_level</th>\n",
       "      <th>secondary_cleaner.state.floatbank4_b_air</th>\n",
       "      <th>secondary_cleaner.state.floatbank4_b_level</th>\n",
       "      <th>secondary_cleaner.state.floatbank5_a_air</th>\n",
       "      <th>secondary_cleaner.state.floatbank5_a_level</th>\n",
       "      <th>secondary_cleaner.state.floatbank5_b_air</th>\n",
       "      <th>secondary_cleaner.state.floatbank5_b_level</th>\n",
       "      <th>secondary_cleaner.state.floatbank6_a_air</th>\n",
       "      <th>secondary_cleaner.state.floatbank6_a_level</th>\n",
       "    </tr>\n",
       "  </thead>\n",
       "  <tbody>\n",
       "    <tr>\n",
       "      <th>count</th>\n",
       "      <td>5286.000000</td>\n",
       "      <td>5285.000000</td>\n",
       "      <td>5290.000000</td>\n",
       "      <td>5286.000000</td>\n",
       "      <td>5.290000e+03</td>\n",
       "      <td>5290.000000</td>\n",
       "      <td>5.290000e+03</td>\n",
       "      <td>5290.000000</td>\n",
       "      <td>5.290000e+03</td>\n",
       "      <td>5290.000000</td>\n",
       "      <td>...</td>\n",
       "      <td>5.290000e+03</td>\n",
       "      <td>5290.000000</td>\n",
       "      <td>5.290000e+03</td>\n",
       "      <td>5290.000000</td>\n",
       "      <td>5290.000000</td>\n",
       "      <td>5290.000000</td>\n",
       "      <td>5290.000000</td>\n",
       "      <td>5290.000000</td>\n",
       "      <td>5290.000000</td>\n",
       "      <td>5290.000000</td>\n",
       "    </tr>\n",
       "    <tr>\n",
       "      <th>mean</th>\n",
       "      <td>174.839652</td>\n",
       "      <td>8.683596</td>\n",
       "      <td>7.266339</td>\n",
       "      <td>1.383803</td>\n",
       "      <td>1.539494e+03</td>\n",
       "      <td>-497.665883</td>\n",
       "      <td>1.545174e+03</td>\n",
       "      <td>-500.273098</td>\n",
       "      <td>1.527272e+03</td>\n",
       "      <td>-498.330680</td>\n",
       "      <td>...</td>\n",
       "      <td>1.632007e+01</td>\n",
       "      <td>-505.144570</td>\n",
       "      <td>1.373544e+01</td>\n",
       "      <td>-463.349858</td>\n",
       "      <td>12.804186</td>\n",
       "      <td>-501.329122</td>\n",
       "      <td>9.881145</td>\n",
       "      <td>-495.663398</td>\n",
       "      <td>17.304935</td>\n",
       "      <td>-501.793193</td>\n",
       "    </tr>\n",
       "    <tr>\n",
       "      <th>std</th>\n",
       "      <td>43.027080</td>\n",
       "      <td>3.072050</td>\n",
       "      <td>0.610219</td>\n",
       "      <td>0.643474</td>\n",
       "      <td>1.167979e+02</td>\n",
       "      <td>19.952431</td>\n",
       "      <td>1.222246e+02</td>\n",
       "      <td>32.968307</td>\n",
       "      <td>1.225380e+02</td>\n",
       "      <td>21.964876</td>\n",
       "      <td>...</td>\n",
       "      <td>3.493583e+00</td>\n",
       "      <td>31.427337</td>\n",
       "      <td>3.430484e+00</td>\n",
       "      <td>86.189107</td>\n",
       "      <td>3.026591</td>\n",
       "      <td>17.951495</td>\n",
       "      <td>2.868205</td>\n",
       "      <td>34.535007</td>\n",
       "      <td>4.536544</td>\n",
       "      <td>39.044215</td>\n",
       "    </tr>\n",
       "    <tr>\n",
       "      <th>min</th>\n",
       "      <td>2.566156</td>\n",
       "      <td>0.003839</td>\n",
       "      <td>5.650000</td>\n",
       "      <td>0.004984</td>\n",
       "      <td>5.445860e-32</td>\n",
       "      <td>-795.316337</td>\n",
       "      <td>6.647490e-32</td>\n",
       "      <td>-799.997015</td>\n",
       "      <td>4.033736e-32</td>\n",
       "      <td>-799.960571</td>\n",
       "      <td>...</td>\n",
       "      <td>1.079872e-16</td>\n",
       "      <td>-799.798523</td>\n",
       "      <td>2.489718e-17</td>\n",
       "      <td>-800.836914</td>\n",
       "      <td>0.069227</td>\n",
       "      <td>-797.323986</td>\n",
       "      <td>0.528083</td>\n",
       "      <td>-800.220337</td>\n",
       "      <td>-0.079426</td>\n",
       "      <td>-809.741464</td>\n",
       "    </tr>\n",
       "    <tr>\n",
       "      <th>25%</th>\n",
       "      <td>147.121401</td>\n",
       "      <td>6.489555</td>\n",
       "      <td>6.890000</td>\n",
       "      <td>0.907623</td>\n",
       "      <td>1.498936e+03</td>\n",
       "      <td>-500.357298</td>\n",
       "      <td>1.498971e+03</td>\n",
       "      <td>-500.703002</td>\n",
       "      <td>1.473230e+03</td>\n",
       "      <td>-501.018117</td>\n",
       "      <td>...</td>\n",
       "      <td>1.403618e+01</td>\n",
       "      <td>-500.868258</td>\n",
       "      <td>1.202862e+01</td>\n",
       "      <td>-500.323028</td>\n",
       "      <td>10.914838</td>\n",
       "      <td>-500.726841</td>\n",
       "      <td>8.036719</td>\n",
       "      <td>-500.194668</td>\n",
       "      <td>13.997317</td>\n",
       "      <td>-500.690984</td>\n",
       "    </tr>\n",
       "    <tr>\n",
       "      <th>50%</th>\n",
       "      <td>177.828489</td>\n",
       "      <td>8.052207</td>\n",
       "      <td>7.250000</td>\n",
       "      <td>1.197610</td>\n",
       "      <td>1.585129e+03</td>\n",
       "      <td>-499.969164</td>\n",
       "      <td>1.595622e+03</td>\n",
       "      <td>-500.028514</td>\n",
       "      <td>1.549595e+03</td>\n",
       "      <td>-500.017711</td>\n",
       "      <td>...</td>\n",
       "      <td>1.700847e+01</td>\n",
       "      <td>-500.115727</td>\n",
       "      <td>1.496486e+01</td>\n",
       "      <td>-499.576513</td>\n",
       "      <td>12.954182</td>\n",
       "      <td>-499.990332</td>\n",
       "      <td>10.004301</td>\n",
       "      <td>-499.990535</td>\n",
       "      <td>16.014935</td>\n",
       "      <td>-500.007126</td>\n",
       "    </tr>\n",
       "    <tr>\n",
       "      <th>75%</th>\n",
       "      <td>208.125438</td>\n",
       "      <td>10.027764</td>\n",
       "      <td>7.600000</td>\n",
       "      <td>1.797819</td>\n",
       "      <td>1.602077e+03</td>\n",
       "      <td>-499.568951</td>\n",
       "      <td>1.602324e+03</td>\n",
       "      <td>-499.293257</td>\n",
       "      <td>1.601144e+03</td>\n",
       "      <td>-498.994130</td>\n",
       "      <td>...</td>\n",
       "      <td>1.803862e+01</td>\n",
       "      <td>-499.404224</td>\n",
       "      <td>1.596213e+01</td>\n",
       "      <td>-400.933805</td>\n",
       "      <td>15.097528</td>\n",
       "      <td>-499.283191</td>\n",
       "      <td>11.997467</td>\n",
       "      <td>-499.719913</td>\n",
       "      <td>21.020013</td>\n",
       "      <td>-499.373018</td>\n",
       "    </tr>\n",
       "    <tr>\n",
       "      <th>max</th>\n",
       "      <td>265.983123</td>\n",
       "      <td>40.000000</td>\n",
       "      <td>15.500000</td>\n",
       "      <td>4.102454</td>\n",
       "      <td>2.103104e+03</td>\n",
       "      <td>-57.195404</td>\n",
       "      <td>1.813084e+03</td>\n",
       "      <td>-142.527229</td>\n",
       "      <td>1.715054e+03</td>\n",
       "      <td>-150.937035</td>\n",
       "      <td>...</td>\n",
       "      <td>3.005180e+01</td>\n",
       "      <td>-401.565212</td>\n",
       "      <td>3.126971e+01</td>\n",
       "      <td>-6.506986</td>\n",
       "      <td>25.258848</td>\n",
       "      <td>-244.483566</td>\n",
       "      <td>14.086866</td>\n",
       "      <td>-137.740004</td>\n",
       "      <td>26.705889</td>\n",
       "      <td>-123.307487</td>\n",
       "    </tr>\n",
       "  </tbody>\n",
       "</table>\n",
       "<p>8 rows × 52 columns</p>\n",
       "</div>"
      ],
      "text/plain": [
       "       primary_cleaner.input.sulfate  primary_cleaner.input.depressant  \\\n",
       "count                    5286.000000                       5285.000000   \n",
       "mean                      174.839652                          8.683596   \n",
       "std                        43.027080                          3.072050   \n",
       "min                         2.566156                          0.003839   \n",
       "25%                       147.121401                          6.489555   \n",
       "50%                       177.828489                          8.052207   \n",
       "75%                       208.125438                         10.027764   \n",
       "max                       265.983123                         40.000000   \n",
       "\n",
       "       primary_cleaner.input.feed_size  primary_cleaner.input.xanthate  \\\n",
       "count                      5290.000000                     5286.000000   \n",
       "mean                          7.266339                        1.383803   \n",
       "std                           0.610219                        0.643474   \n",
       "min                           5.650000                        0.004984   \n",
       "25%                           6.890000                        0.907623   \n",
       "50%                           7.250000                        1.197610   \n",
       "75%                           7.600000                        1.797819   \n",
       "max                          15.500000                        4.102454   \n",
       "\n",
       "       primary_cleaner.state.floatbank8_a_air  \\\n",
       "count                            5.290000e+03   \n",
       "mean                             1.539494e+03   \n",
       "std                              1.167979e+02   \n",
       "min                              5.445860e-32   \n",
       "25%                              1.498936e+03   \n",
       "50%                              1.585129e+03   \n",
       "75%                              1.602077e+03   \n",
       "max                              2.103104e+03   \n",
       "\n",
       "       primary_cleaner.state.floatbank8_a_level  \\\n",
       "count                               5290.000000   \n",
       "mean                                -497.665883   \n",
       "std                                   19.952431   \n",
       "min                                 -795.316337   \n",
       "25%                                 -500.357298   \n",
       "50%                                 -499.969164   \n",
       "75%                                 -499.568951   \n",
       "max                                  -57.195404   \n",
       "\n",
       "       primary_cleaner.state.floatbank8_b_air  \\\n",
       "count                            5.290000e+03   \n",
       "mean                             1.545174e+03   \n",
       "std                              1.222246e+02   \n",
       "min                              6.647490e-32   \n",
       "25%                              1.498971e+03   \n",
       "50%                              1.595622e+03   \n",
       "75%                              1.602324e+03   \n",
       "max                              1.813084e+03   \n",
       "\n",
       "       primary_cleaner.state.floatbank8_b_level  \\\n",
       "count                               5290.000000   \n",
       "mean                                -500.273098   \n",
       "std                                   32.968307   \n",
       "min                                 -799.997015   \n",
       "25%                                 -500.703002   \n",
       "50%                                 -500.028514   \n",
       "75%                                 -499.293257   \n",
       "max                                 -142.527229   \n",
       "\n",
       "       primary_cleaner.state.floatbank8_c_air  \\\n",
       "count                            5.290000e+03   \n",
       "mean                             1.527272e+03   \n",
       "std                              1.225380e+02   \n",
       "min                              4.033736e-32   \n",
       "25%                              1.473230e+03   \n",
       "50%                              1.549595e+03   \n",
       "75%                              1.601144e+03   \n",
       "max                              1.715054e+03   \n",
       "\n",
       "       primary_cleaner.state.floatbank8_c_level  ...  \\\n",
       "count                               5290.000000  ...   \n",
       "mean                                -498.330680  ...   \n",
       "std                                   21.964876  ...   \n",
       "min                                 -799.960571  ...   \n",
       "25%                                 -501.018117  ...   \n",
       "50%                                 -500.017711  ...   \n",
       "75%                                 -498.994130  ...   \n",
       "max                                 -150.937035  ...   \n",
       "\n",
       "       secondary_cleaner.state.floatbank4_a_air  \\\n",
       "count                              5.290000e+03   \n",
       "mean                               1.632007e+01   \n",
       "std                                3.493583e+00   \n",
       "min                                1.079872e-16   \n",
       "25%                                1.403618e+01   \n",
       "50%                                1.700847e+01   \n",
       "75%                                1.803862e+01   \n",
       "max                                3.005180e+01   \n",
       "\n",
       "       secondary_cleaner.state.floatbank4_a_level  \\\n",
       "count                                 5290.000000   \n",
       "mean                                  -505.144570   \n",
       "std                                     31.427337   \n",
       "min                                   -799.798523   \n",
       "25%                                   -500.868258   \n",
       "50%                                   -500.115727   \n",
       "75%                                   -499.404224   \n",
       "max                                   -401.565212   \n",
       "\n",
       "       secondary_cleaner.state.floatbank4_b_air  \\\n",
       "count                              5.290000e+03   \n",
       "mean                               1.373544e+01   \n",
       "std                                3.430484e+00   \n",
       "min                                2.489718e-17   \n",
       "25%                                1.202862e+01   \n",
       "50%                                1.496486e+01   \n",
       "75%                                1.596213e+01   \n",
       "max                                3.126971e+01   \n",
       "\n",
       "       secondary_cleaner.state.floatbank4_b_level  \\\n",
       "count                                 5290.000000   \n",
       "mean                                  -463.349858   \n",
       "std                                     86.189107   \n",
       "min                                   -800.836914   \n",
       "25%                                   -500.323028   \n",
       "50%                                   -499.576513   \n",
       "75%                                   -400.933805   \n",
       "max                                     -6.506986   \n",
       "\n",
       "       secondary_cleaner.state.floatbank5_a_air  \\\n",
       "count                               5290.000000   \n",
       "mean                                  12.804186   \n",
       "std                                    3.026591   \n",
       "min                                    0.069227   \n",
       "25%                                   10.914838   \n",
       "50%                                   12.954182   \n",
       "75%                                   15.097528   \n",
       "max                                   25.258848   \n",
       "\n",
       "       secondary_cleaner.state.floatbank5_a_level  \\\n",
       "count                                 5290.000000   \n",
       "mean                                  -501.329122   \n",
       "std                                     17.951495   \n",
       "min                                   -797.323986   \n",
       "25%                                   -500.726841   \n",
       "50%                                   -499.990332   \n",
       "75%                                   -499.283191   \n",
       "max                                   -244.483566   \n",
       "\n",
       "       secondary_cleaner.state.floatbank5_b_air  \\\n",
       "count                               5290.000000   \n",
       "mean                                   9.881145   \n",
       "std                                    2.868205   \n",
       "min                                    0.528083   \n",
       "25%                                    8.036719   \n",
       "50%                                   10.004301   \n",
       "75%                                   11.997467   \n",
       "max                                   14.086866   \n",
       "\n",
       "       secondary_cleaner.state.floatbank5_b_level  \\\n",
       "count                                 5290.000000   \n",
       "mean                                  -495.663398   \n",
       "std                                     34.535007   \n",
       "min                                   -800.220337   \n",
       "25%                                   -500.194668   \n",
       "50%                                   -499.990535   \n",
       "75%                                   -499.719913   \n",
       "max                                   -137.740004   \n",
       "\n",
       "       secondary_cleaner.state.floatbank6_a_air  \\\n",
       "count                               5290.000000   \n",
       "mean                                  17.304935   \n",
       "std                                    4.536544   \n",
       "min                                   -0.079426   \n",
       "25%                                   13.997317   \n",
       "50%                                   16.014935   \n",
       "75%                                   21.020013   \n",
       "max                                   26.705889   \n",
       "\n",
       "       secondary_cleaner.state.floatbank6_a_level  \n",
       "count                                 5290.000000  \n",
       "mean                                  -501.793193  \n",
       "std                                     39.044215  \n",
       "min                                   -809.741464  \n",
       "25%                                   -500.690984  \n",
       "50%                                   -500.007126  \n",
       "75%                                   -499.373018  \n",
       "max                                   -123.307487  \n",
       "\n",
       "[8 rows x 52 columns]"
      ]
     },
     "metadata": {},
     "output_type": "display_data"
    },
    {
     "name": "stdout",
     "output_type": "stream",
     "text": [
      "<class 'pandas.core.frame.DataFrame'>\n",
      "RangeIndex: 19439 entries, 0 to 19438\n",
      "Data columns (total 87 columns):\n",
      " #   Column                                              Non-Null Count  Dtype  \n",
      "---  ------                                              --------------  -----  \n",
      " 0   date                                                19439 non-null  object \n",
      " 1   final.output.concentrate_ag                         19438 non-null  float64\n",
      " 2   final.output.concentrate_pb                         19438 non-null  float64\n",
      " 3   final.output.concentrate_sol                        19228 non-null  float64\n",
      " 4   final.output.concentrate_au                         19439 non-null  float64\n",
      " 5   final.output.recovery                               19439 non-null  float64\n",
      " 6   final.output.tail_ag                                19438 non-null  float64\n",
      " 7   final.output.tail_pb                                19338 non-null  float64\n",
      " 8   final.output.tail_sol                               19433 non-null  float64\n",
      " 9   final.output.tail_au                                19439 non-null  float64\n",
      " 10  primary_cleaner.input.sulfate                       19415 non-null  float64\n",
      " 11  primary_cleaner.input.depressant                    19402 non-null  float64\n",
      " 12  primary_cleaner.input.feed_size                     19439 non-null  float64\n",
      " 13  primary_cleaner.input.xanthate                      19335 non-null  float64\n",
      " 14  primary_cleaner.output.concentrate_ag               19439 non-null  float64\n",
      " 15  primary_cleaner.output.concentrate_pb               19323 non-null  float64\n",
      " 16  primary_cleaner.output.concentrate_sol              19069 non-null  float64\n",
      " 17  primary_cleaner.output.concentrate_au               19439 non-null  float64\n",
      " 18  primary_cleaner.output.tail_ag                      19435 non-null  float64\n",
      " 19  primary_cleaner.output.tail_pb                      19418 non-null  float64\n",
      " 20  primary_cleaner.output.tail_sol                     19377 non-null  float64\n",
      " 21  primary_cleaner.output.tail_au                      19439 non-null  float64\n",
      " 22  primary_cleaner.state.floatbank8_a_air              19435 non-null  float64\n",
      " 23  primary_cleaner.state.floatbank8_a_level            19438 non-null  float64\n",
      " 24  primary_cleaner.state.floatbank8_b_air              19435 non-null  float64\n",
      " 25  primary_cleaner.state.floatbank8_b_level            19438 non-null  float64\n",
      " 26  primary_cleaner.state.floatbank8_c_air              19437 non-null  float64\n",
      " 27  primary_cleaner.state.floatbank8_c_level            19438 non-null  float64\n",
      " 28  primary_cleaner.state.floatbank8_d_air              19436 non-null  float64\n",
      " 29  primary_cleaner.state.floatbank8_d_level            19438 non-null  float64\n",
      " 30  rougher.calculation.sulfate_to_au_concentrate       19437 non-null  float64\n",
      " 31  rougher.calculation.floatbank10_sulfate_to_au_feed  19437 non-null  float64\n",
      " 32  rougher.calculation.floatbank11_sulfate_to_au_feed  19437 non-null  float64\n",
      " 33  rougher.calculation.au_pb_ratio                     19439 non-null  float64\n",
      " 34  rougher.input.feed_ag                               19439 non-null  float64\n",
      " 35  rougher.input.feed_pb                               19339 non-null  float64\n",
      " 36  rougher.input.feed_rate                             19428 non-null  float64\n",
      " 37  rougher.input.feed_size                             19294 non-null  float64\n",
      " 38  rougher.input.feed_sol                              19340 non-null  float64\n",
      " 39  rougher.input.feed_au                               19439 non-null  float64\n",
      " 40  rougher.input.floatbank10_sulfate                   19405 non-null  float64\n",
      " 41  rougher.input.floatbank10_xanthate                  19431 non-null  float64\n",
      " 42  rougher.input.floatbank11_sulfate                   19395 non-null  float64\n",
      " 43  rougher.input.floatbank11_xanthate                  18986 non-null  float64\n",
      " 44  rougher.output.concentrate_ag                       19439 non-null  float64\n",
      " 45  rougher.output.concentrate_pb                       19439 non-null  float64\n",
      " 46  rougher.output.concentrate_sol                      19416 non-null  float64\n",
      " 47  rougher.output.concentrate_au                       19439 non-null  float64\n",
      " 48  rougher.output.recovery                             19439 non-null  float64\n",
      " 49  rougher.output.tail_ag                              19438 non-null  float64\n",
      " 50  rougher.output.tail_pb                              19439 non-null  float64\n",
      " 51  rougher.output.tail_sol                             19439 non-null  float64\n",
      " 52  rougher.output.tail_au                              19439 non-null  float64\n",
      " 53  rougher.state.floatbank10_a_air                     19438 non-null  float64\n",
      " 54  rougher.state.floatbank10_a_level                   19438 non-null  float64\n",
      " 55  rougher.state.floatbank10_b_air                     19438 non-null  float64\n",
      " 56  rougher.state.floatbank10_b_level                   19438 non-null  float64\n",
      " 57  rougher.state.floatbank10_c_air                     19438 non-null  float64\n",
      " 58  rougher.state.floatbank10_c_level                   19438 non-null  float64\n",
      " 59  rougher.state.floatbank10_d_air                     19439 non-null  float64\n",
      " 60  rougher.state.floatbank10_d_level                   19439 non-null  float64\n",
      " 61  rougher.state.floatbank10_e_air                     19003 non-null  float64\n",
      " 62  rougher.state.floatbank10_e_level                   19439 non-null  float64\n",
      " 63  rougher.state.floatbank10_f_air                     19439 non-null  float64\n",
      " 64  rougher.state.floatbank10_f_level                   19439 non-null  float64\n",
      " 65  secondary_cleaner.output.tail_ag                    19437 non-null  float64\n",
      " 66  secondary_cleaner.output.tail_pb                    19427 non-null  float64\n",
      " 67  secondary_cleaner.output.tail_sol                   17691 non-null  float64\n",
      " 68  secondary_cleaner.output.tail_au                    19439 non-null  float64\n",
      " 69  secondary_cleaner.state.floatbank2_a_air            19219 non-null  float64\n",
      " 70  secondary_cleaner.state.floatbank2_a_level          19438 non-null  float64\n",
      " 71  secondary_cleaner.state.floatbank2_b_air            19416 non-null  float64\n",
      " 72  secondary_cleaner.state.floatbank2_b_level          19438 non-null  float64\n",
      " 73  secondary_cleaner.state.floatbank3_a_air            19426 non-null  float64\n",
      " 74  secondary_cleaner.state.floatbank3_a_level          19438 non-null  float64\n",
      " 75  secondary_cleaner.state.floatbank3_b_air            19438 non-null  float64\n",
      " 76  secondary_cleaner.state.floatbank3_b_level          19438 non-null  float64\n",
      " 77  secondary_cleaner.state.floatbank4_a_air            19433 non-null  float64\n",
      " 78  secondary_cleaner.state.floatbank4_a_level          19438 non-null  float64\n",
      " 79  secondary_cleaner.state.floatbank4_b_air            19438 non-null  float64\n",
      " 80  secondary_cleaner.state.floatbank4_b_level          19438 non-null  float64\n",
      " 81  secondary_cleaner.state.floatbank5_a_air            19438 non-null  float64\n",
      " 82  secondary_cleaner.state.floatbank5_a_level          19438 non-null  float64\n",
      " 83  secondary_cleaner.state.floatbank5_b_air            19438 non-null  float64\n",
      " 84  secondary_cleaner.state.floatbank5_b_level          19438 non-null  float64\n",
      " 85  secondary_cleaner.state.floatbank6_a_air            19437 non-null  float64\n",
      " 86  secondary_cleaner.state.floatbank6_a_level          19438 non-null  float64\n",
      "dtypes: float64(86), object(1)\n",
      "memory usage: 12.9+ MB\n"
     ]
    },
    {
     "data": {
      "text/plain": [
       "None"
      ]
     },
     "metadata": {},
     "output_type": "display_data"
    },
    {
     "data": {
      "text/html": [
       "<div>\n",
       "<style scoped>\n",
       "    .dataframe tbody tr th:only-of-type {\n",
       "        vertical-align: middle;\n",
       "    }\n",
       "\n",
       "    .dataframe tbody tr th {\n",
       "        vertical-align: top;\n",
       "    }\n",
       "\n",
       "    .dataframe thead th {\n",
       "        text-align: right;\n",
       "    }\n",
       "</style>\n",
       "<table border=\"1\" class=\"dataframe\">\n",
       "  <thead>\n",
       "    <tr style=\"text-align: right;\">\n",
       "      <th></th>\n",
       "      <th>date</th>\n",
       "      <th>final.output.concentrate_ag</th>\n",
       "      <th>final.output.concentrate_pb</th>\n",
       "      <th>final.output.concentrate_sol</th>\n",
       "      <th>final.output.concentrate_au</th>\n",
       "      <th>final.output.recovery</th>\n",
       "      <th>final.output.tail_ag</th>\n",
       "      <th>final.output.tail_pb</th>\n",
       "      <th>final.output.tail_sol</th>\n",
       "      <th>final.output.tail_au</th>\n",
       "      <th>...</th>\n",
       "      <th>secondary_cleaner.state.floatbank4_a_air</th>\n",
       "      <th>secondary_cleaner.state.floatbank4_a_level</th>\n",
       "      <th>secondary_cleaner.state.floatbank4_b_air</th>\n",
       "      <th>secondary_cleaner.state.floatbank4_b_level</th>\n",
       "      <th>secondary_cleaner.state.floatbank5_a_air</th>\n",
       "      <th>secondary_cleaner.state.floatbank5_a_level</th>\n",
       "      <th>secondary_cleaner.state.floatbank5_b_air</th>\n",
       "      <th>secondary_cleaner.state.floatbank5_b_level</th>\n",
       "      <th>secondary_cleaner.state.floatbank6_a_air</th>\n",
       "      <th>secondary_cleaner.state.floatbank6_a_level</th>\n",
       "    </tr>\n",
       "  </thead>\n",
       "  <tbody>\n",
       "    <tr>\n",
       "      <th>0</th>\n",
       "      <td>2016-01-15 00:00:00</td>\n",
       "      <td>6.055403</td>\n",
       "      <td>9.889648</td>\n",
       "      <td>5.507324</td>\n",
       "      <td>42.192020</td>\n",
       "      <td>70.541216</td>\n",
       "      <td>10.411962</td>\n",
       "      <td>0.895447</td>\n",
       "      <td>16.904297</td>\n",
       "      <td>2.143149</td>\n",
       "      <td>...</td>\n",
       "      <td>14.016835</td>\n",
       "      <td>-502.488007</td>\n",
       "      <td>12.099931</td>\n",
       "      <td>-504.715942</td>\n",
       "      <td>9.925633</td>\n",
       "      <td>-498.310211</td>\n",
       "      <td>8.079666</td>\n",
       "      <td>-500.470978</td>\n",
       "      <td>14.151341</td>\n",
       "      <td>-605.841980</td>\n",
       "    </tr>\n",
       "    <tr>\n",
       "      <th>1</th>\n",
       "      <td>2016-01-15 01:00:00</td>\n",
       "      <td>6.029369</td>\n",
       "      <td>9.968944</td>\n",
       "      <td>5.257781</td>\n",
       "      <td>42.701629</td>\n",
       "      <td>69.266198</td>\n",
       "      <td>10.462676</td>\n",
       "      <td>0.927452</td>\n",
       "      <td>16.634514</td>\n",
       "      <td>2.224930</td>\n",
       "      <td>...</td>\n",
       "      <td>13.992281</td>\n",
       "      <td>-505.503262</td>\n",
       "      <td>11.950531</td>\n",
       "      <td>-501.331529</td>\n",
       "      <td>10.039245</td>\n",
       "      <td>-500.169983</td>\n",
       "      <td>7.984757</td>\n",
       "      <td>-500.582168</td>\n",
       "      <td>13.998353</td>\n",
       "      <td>-599.787184</td>\n",
       "    </tr>\n",
       "    <tr>\n",
       "      <th>2</th>\n",
       "      <td>2016-01-15 02:00:00</td>\n",
       "      <td>6.055926</td>\n",
       "      <td>10.213995</td>\n",
       "      <td>5.383759</td>\n",
       "      <td>42.657501</td>\n",
       "      <td>68.116445</td>\n",
       "      <td>10.507046</td>\n",
       "      <td>0.953716</td>\n",
       "      <td>16.208849</td>\n",
       "      <td>2.257889</td>\n",
       "      <td>...</td>\n",
       "      <td>14.015015</td>\n",
       "      <td>-502.520901</td>\n",
       "      <td>11.912783</td>\n",
       "      <td>-501.133383</td>\n",
       "      <td>10.070913</td>\n",
       "      <td>-500.129135</td>\n",
       "      <td>8.013877</td>\n",
       "      <td>-500.517572</td>\n",
       "      <td>14.028663</td>\n",
       "      <td>-601.427363</td>\n",
       "    </tr>\n",
       "    <tr>\n",
       "      <th>3</th>\n",
       "      <td>2016-01-15 03:00:00</td>\n",
       "      <td>6.047977</td>\n",
       "      <td>9.977019</td>\n",
       "      <td>4.858634</td>\n",
       "      <td>42.689819</td>\n",
       "      <td>68.347543</td>\n",
       "      <td>10.422762</td>\n",
       "      <td>0.883763</td>\n",
       "      <td>16.532835</td>\n",
       "      <td>2.146849</td>\n",
       "      <td>...</td>\n",
       "      <td>14.036510</td>\n",
       "      <td>-500.857308</td>\n",
       "      <td>11.999550</td>\n",
       "      <td>-501.193686</td>\n",
       "      <td>9.970366</td>\n",
       "      <td>-499.201640</td>\n",
       "      <td>7.977324</td>\n",
       "      <td>-500.255908</td>\n",
       "      <td>14.005551</td>\n",
       "      <td>-599.996129</td>\n",
       "    </tr>\n",
       "    <tr>\n",
       "      <th>4</th>\n",
       "      <td>2016-01-15 04:00:00</td>\n",
       "      <td>6.148599</td>\n",
       "      <td>10.142511</td>\n",
       "      <td>4.939416</td>\n",
       "      <td>42.774141</td>\n",
       "      <td>66.927016</td>\n",
       "      <td>10.360302</td>\n",
       "      <td>0.792826</td>\n",
       "      <td>16.525686</td>\n",
       "      <td>2.055292</td>\n",
       "      <td>...</td>\n",
       "      <td>14.027298</td>\n",
       "      <td>-499.838632</td>\n",
       "      <td>11.953070</td>\n",
       "      <td>-501.053894</td>\n",
       "      <td>9.925709</td>\n",
       "      <td>-501.686727</td>\n",
       "      <td>7.894242</td>\n",
       "      <td>-500.356035</td>\n",
       "      <td>13.996647</td>\n",
       "      <td>-601.496691</td>\n",
       "    </tr>\n",
       "  </tbody>\n",
       "</table>\n",
       "<p>5 rows × 87 columns</p>\n",
       "</div>"
      ],
      "text/plain": [
       "                  date  final.output.concentrate_ag  \\\n",
       "0  2016-01-15 00:00:00                     6.055403   \n",
       "1  2016-01-15 01:00:00                     6.029369   \n",
       "2  2016-01-15 02:00:00                     6.055926   \n",
       "3  2016-01-15 03:00:00                     6.047977   \n",
       "4  2016-01-15 04:00:00                     6.148599   \n",
       "\n",
       "   final.output.concentrate_pb  final.output.concentrate_sol  \\\n",
       "0                     9.889648                      5.507324   \n",
       "1                     9.968944                      5.257781   \n",
       "2                    10.213995                      5.383759   \n",
       "3                     9.977019                      4.858634   \n",
       "4                    10.142511                      4.939416   \n",
       "\n",
       "   final.output.concentrate_au  final.output.recovery  final.output.tail_ag  \\\n",
       "0                    42.192020              70.541216             10.411962   \n",
       "1                    42.701629              69.266198             10.462676   \n",
       "2                    42.657501              68.116445             10.507046   \n",
       "3                    42.689819              68.347543             10.422762   \n",
       "4                    42.774141              66.927016             10.360302   \n",
       "\n",
       "   final.output.tail_pb  final.output.tail_sol  final.output.tail_au  ...  \\\n",
       "0              0.895447              16.904297              2.143149  ...   \n",
       "1              0.927452              16.634514              2.224930  ...   \n",
       "2              0.953716              16.208849              2.257889  ...   \n",
       "3              0.883763              16.532835              2.146849  ...   \n",
       "4              0.792826              16.525686              2.055292  ...   \n",
       "\n",
       "   secondary_cleaner.state.floatbank4_a_air  \\\n",
       "0                                 14.016835   \n",
       "1                                 13.992281   \n",
       "2                                 14.015015   \n",
       "3                                 14.036510   \n",
       "4                                 14.027298   \n",
       "\n",
       "   secondary_cleaner.state.floatbank4_a_level  \\\n",
       "0                                 -502.488007   \n",
       "1                                 -505.503262   \n",
       "2                                 -502.520901   \n",
       "3                                 -500.857308   \n",
       "4                                 -499.838632   \n",
       "\n",
       "   secondary_cleaner.state.floatbank4_b_air  \\\n",
       "0                                 12.099931   \n",
       "1                                 11.950531   \n",
       "2                                 11.912783   \n",
       "3                                 11.999550   \n",
       "4                                 11.953070   \n",
       "\n",
       "   secondary_cleaner.state.floatbank4_b_level  \\\n",
       "0                                 -504.715942   \n",
       "1                                 -501.331529   \n",
       "2                                 -501.133383   \n",
       "3                                 -501.193686   \n",
       "4                                 -501.053894   \n",
       "\n",
       "   secondary_cleaner.state.floatbank5_a_air  \\\n",
       "0                                  9.925633   \n",
       "1                                 10.039245   \n",
       "2                                 10.070913   \n",
       "3                                  9.970366   \n",
       "4                                  9.925709   \n",
       "\n",
       "   secondary_cleaner.state.floatbank5_a_level  \\\n",
       "0                                 -498.310211   \n",
       "1                                 -500.169983   \n",
       "2                                 -500.129135   \n",
       "3                                 -499.201640   \n",
       "4                                 -501.686727   \n",
       "\n",
       "   secondary_cleaner.state.floatbank5_b_air  \\\n",
       "0                                  8.079666   \n",
       "1                                  7.984757   \n",
       "2                                  8.013877   \n",
       "3                                  7.977324   \n",
       "4                                  7.894242   \n",
       "\n",
       "   secondary_cleaner.state.floatbank5_b_level  \\\n",
       "0                                 -500.470978   \n",
       "1                                 -500.582168   \n",
       "2                                 -500.517572   \n",
       "3                                 -500.255908   \n",
       "4                                 -500.356035   \n",
       "\n",
       "   secondary_cleaner.state.floatbank6_a_air  \\\n",
       "0                                 14.151341   \n",
       "1                                 13.998353   \n",
       "2                                 14.028663   \n",
       "3                                 14.005551   \n",
       "4                                 13.996647   \n",
       "\n",
       "   secondary_cleaner.state.floatbank6_a_level  \n",
       "0                                 -605.841980  \n",
       "1                                 -599.787184  \n",
       "2                                 -601.427363  \n",
       "3                                 -599.996129  \n",
       "4                                 -601.496691  \n",
       "\n",
       "[5 rows x 87 columns]"
      ]
     },
     "metadata": {},
     "output_type": "display_data"
    },
    {
     "data": {
      "text/html": [
       "<div>\n",
       "<style scoped>\n",
       "    .dataframe tbody tr th:only-of-type {\n",
       "        vertical-align: middle;\n",
       "    }\n",
       "\n",
       "    .dataframe tbody tr th {\n",
       "        vertical-align: top;\n",
       "    }\n",
       "\n",
       "    .dataframe thead th {\n",
       "        text-align: right;\n",
       "    }\n",
       "</style>\n",
       "<table border=\"1\" class=\"dataframe\">\n",
       "  <thead>\n",
       "    <tr style=\"text-align: right;\">\n",
       "      <th></th>\n",
       "      <th>final.output.concentrate_ag</th>\n",
       "      <th>final.output.concentrate_pb</th>\n",
       "      <th>final.output.concentrate_sol</th>\n",
       "      <th>final.output.concentrate_au</th>\n",
       "      <th>final.output.recovery</th>\n",
       "      <th>final.output.tail_ag</th>\n",
       "      <th>final.output.tail_pb</th>\n",
       "      <th>final.output.tail_sol</th>\n",
       "      <th>final.output.tail_au</th>\n",
       "      <th>primary_cleaner.input.sulfate</th>\n",
       "      <th>...</th>\n",
       "      <th>secondary_cleaner.state.floatbank4_a_air</th>\n",
       "      <th>secondary_cleaner.state.floatbank4_a_level</th>\n",
       "      <th>secondary_cleaner.state.floatbank4_b_air</th>\n",
       "      <th>secondary_cleaner.state.floatbank4_b_level</th>\n",
       "      <th>secondary_cleaner.state.floatbank5_a_air</th>\n",
       "      <th>secondary_cleaner.state.floatbank5_a_level</th>\n",
       "      <th>secondary_cleaner.state.floatbank5_b_air</th>\n",
       "      <th>secondary_cleaner.state.floatbank5_b_level</th>\n",
       "      <th>secondary_cleaner.state.floatbank6_a_air</th>\n",
       "      <th>secondary_cleaner.state.floatbank6_a_level</th>\n",
       "    </tr>\n",
       "  </thead>\n",
       "  <tbody>\n",
       "    <tr>\n",
       "      <th>count</th>\n",
       "      <td>19438.000000</td>\n",
       "      <td>19438.000000</td>\n",
       "      <td>19228.000000</td>\n",
       "      <td>19439.000000</td>\n",
       "      <td>19439.000000</td>\n",
       "      <td>19438.000000</td>\n",
       "      <td>19338.000000</td>\n",
       "      <td>19433.000000</td>\n",
       "      <td>19439.000000</td>\n",
       "      <td>19415.000000</td>\n",
       "      <td>...</td>\n",
       "      <td>19433.000000</td>\n",
       "      <td>19438.000000</td>\n",
       "      <td>19438.000000</td>\n",
       "      <td>19438.000000</td>\n",
       "      <td>19438.000000</td>\n",
       "      <td>19438.000000</td>\n",
       "      <td>19438.000000</td>\n",
       "      <td>19438.000000</td>\n",
       "      <td>19437.000000</td>\n",
       "      <td>19438.000000</td>\n",
       "    </tr>\n",
       "    <tr>\n",
       "      <th>mean</th>\n",
       "      <td>5.168470</td>\n",
       "      <td>9.978895</td>\n",
       "      <td>9.501224</td>\n",
       "      <td>44.076513</td>\n",
       "      <td>67.050208</td>\n",
       "      <td>9.688589</td>\n",
       "      <td>2.705795</td>\n",
       "      <td>10.583728</td>\n",
       "      <td>3.042467</td>\n",
       "      <td>144.624774</td>\n",
       "      <td>...</td>\n",
       "      <td>18.987674</td>\n",
       "      <td>-485.894516</td>\n",
       "      <td>15.010366</td>\n",
       "      <td>-461.078636</td>\n",
       "      <td>15.694452</td>\n",
       "      <td>-488.684065</td>\n",
       "      <td>12.198224</td>\n",
       "      <td>-487.149827</td>\n",
       "      <td>18.959024</td>\n",
       "      <td>-505.436305</td>\n",
       "    </tr>\n",
       "    <tr>\n",
       "      <th>std</th>\n",
       "      <td>1.372348</td>\n",
       "      <td>1.669240</td>\n",
       "      <td>2.787537</td>\n",
       "      <td>5.129784</td>\n",
       "      <td>10.125840</td>\n",
       "      <td>2.328642</td>\n",
       "      <td>0.949077</td>\n",
       "      <td>2.868782</td>\n",
       "      <td>0.922808</td>\n",
       "      <td>44.464071</td>\n",
       "      <td>...</td>\n",
       "      <td>5.411058</td>\n",
       "      <td>47.758570</td>\n",
       "      <td>4.890228</td>\n",
       "      <td>67.405524</td>\n",
       "      <td>5.510974</td>\n",
       "      <td>34.533396</td>\n",
       "      <td>5.333024</td>\n",
       "      <td>38.347312</td>\n",
       "      <td>5.550498</td>\n",
       "      <td>37.689057</td>\n",
       "    </tr>\n",
       "    <tr>\n",
       "      <th>min</th>\n",
       "      <td>0.000000</td>\n",
       "      <td>0.000000</td>\n",
       "      <td>0.000000</td>\n",
       "      <td>0.000000</td>\n",
       "      <td>0.000000</td>\n",
       "      <td>0.000000</td>\n",
       "      <td>0.000000</td>\n",
       "      <td>0.000000</td>\n",
       "      <td>0.000000</td>\n",
       "      <td>0.003112</td>\n",
       "      <td>...</td>\n",
       "      <td>0.000000</td>\n",
       "      <td>-799.798523</td>\n",
       "      <td>0.000000</td>\n",
       "      <td>-800.836914</td>\n",
       "      <td>-0.372054</td>\n",
       "      <td>-797.323986</td>\n",
       "      <td>0.528083</td>\n",
       "      <td>-800.220337</td>\n",
       "      <td>-0.079426</td>\n",
       "      <td>-809.741464</td>\n",
       "    </tr>\n",
       "    <tr>\n",
       "      <th>25%</th>\n",
       "      <td>4.251240</td>\n",
       "      <td>9.137262</td>\n",
       "      <td>7.722820</td>\n",
       "      <td>43.402215</td>\n",
       "      <td>63.299712</td>\n",
       "      <td>8.062878</td>\n",
       "      <td>2.040119</td>\n",
       "      <td>8.938947</td>\n",
       "      <td>2.461138</td>\n",
       "      <td>114.107029</td>\n",
       "      <td>...</td>\n",
       "      <td>14.975734</td>\n",
       "      <td>-500.704892</td>\n",
       "      <td>11.940294</td>\n",
       "      <td>-500.187742</td>\n",
       "      <td>10.988606</td>\n",
       "      <td>-500.458467</td>\n",
       "      <td>8.971105</td>\n",
       "      <td>-500.129462</td>\n",
       "      <td>14.983037</td>\n",
       "      <td>-500.728067</td>\n",
       "    </tr>\n",
       "    <tr>\n",
       "      <th>50%</th>\n",
       "      <td>5.066094</td>\n",
       "      <td>10.102433</td>\n",
       "      <td>9.218961</td>\n",
       "      <td>45.011244</td>\n",
       "      <td>68.172738</td>\n",
       "      <td>9.743623</td>\n",
       "      <td>2.748730</td>\n",
       "      <td>10.622456</td>\n",
       "      <td>2.984909</td>\n",
       "      <td>143.232103</td>\n",
       "      <td>...</td>\n",
       "      <td>18.017481</td>\n",
       "      <td>-499.837793</td>\n",
       "      <td>14.971014</td>\n",
       "      <td>-499.459786</td>\n",
       "      <td>15.000036</td>\n",
       "      <td>-499.802605</td>\n",
       "      <td>11.019433</td>\n",
       "      <td>-499.935317</td>\n",
       "      <td>19.960541</td>\n",
       "      <td>-500.048400</td>\n",
       "    </tr>\n",
       "    <tr>\n",
       "      <th>75%</th>\n",
       "      <td>5.895527</td>\n",
       "      <td>11.035769</td>\n",
       "      <td>10.947813</td>\n",
       "      <td>46.275313</td>\n",
       "      <td>72.686642</td>\n",
       "      <td>11.134294</td>\n",
       "      <td>3.333216</td>\n",
       "      <td>12.104271</td>\n",
       "      <td>3.571351</td>\n",
       "      <td>175.075656</td>\n",
       "      <td>...</td>\n",
       "      <td>23.012470</td>\n",
       "      <td>-498.249730</td>\n",
       "      <td>19.034162</td>\n",
       "      <td>-400.118106</td>\n",
       "      <td>18.026190</td>\n",
       "      <td>-498.384187</td>\n",
       "      <td>14.019088</td>\n",
       "      <td>-499.436708</td>\n",
       "      <td>24.003170</td>\n",
       "      <td>-499.495378</td>\n",
       "    </tr>\n",
       "    <tr>\n",
       "      <th>max</th>\n",
       "      <td>16.001945</td>\n",
       "      <td>17.031899</td>\n",
       "      <td>19.615720</td>\n",
       "      <td>52.756638</td>\n",
       "      <td>100.000000</td>\n",
       "      <td>19.552149</td>\n",
       "      <td>5.804178</td>\n",
       "      <td>22.317730</td>\n",
       "      <td>8.245022</td>\n",
       "      <td>265.983123</td>\n",
       "      <td>...</td>\n",
       "      <td>30.115735</td>\n",
       "      <td>-245.239184</td>\n",
       "      <td>31.269706</td>\n",
       "      <td>-6.506986</td>\n",
       "      <td>43.709931</td>\n",
       "      <td>-244.483566</td>\n",
       "      <td>27.926001</td>\n",
       "      <td>-137.740004</td>\n",
       "      <td>32.188906</td>\n",
       "      <td>-104.427459</td>\n",
       "    </tr>\n",
       "  </tbody>\n",
       "</table>\n",
       "<p>8 rows × 86 columns</p>\n",
       "</div>"
      ],
      "text/plain": [
       "       final.output.concentrate_ag  final.output.concentrate_pb  \\\n",
       "count                 19438.000000                 19438.000000   \n",
       "mean                      5.168470                     9.978895   \n",
       "std                       1.372348                     1.669240   \n",
       "min                       0.000000                     0.000000   \n",
       "25%                       4.251240                     9.137262   \n",
       "50%                       5.066094                    10.102433   \n",
       "75%                       5.895527                    11.035769   \n",
       "max                      16.001945                    17.031899   \n",
       "\n",
       "       final.output.concentrate_sol  final.output.concentrate_au  \\\n",
       "count                  19228.000000                 19439.000000   \n",
       "mean                       9.501224                    44.076513   \n",
       "std                        2.787537                     5.129784   \n",
       "min                        0.000000                     0.000000   \n",
       "25%                        7.722820                    43.402215   \n",
       "50%                        9.218961                    45.011244   \n",
       "75%                       10.947813                    46.275313   \n",
       "max                       19.615720                    52.756638   \n",
       "\n",
       "       final.output.recovery  final.output.tail_ag  final.output.tail_pb  \\\n",
       "count           19439.000000          19438.000000          19338.000000   \n",
       "mean               67.050208              9.688589              2.705795   \n",
       "std                10.125840              2.328642              0.949077   \n",
       "min                 0.000000              0.000000              0.000000   \n",
       "25%                63.299712              8.062878              2.040119   \n",
       "50%                68.172738              9.743623              2.748730   \n",
       "75%                72.686642             11.134294              3.333216   \n",
       "max               100.000000             19.552149              5.804178   \n",
       "\n",
       "       final.output.tail_sol  final.output.tail_au  \\\n",
       "count           19433.000000          19439.000000   \n",
       "mean               10.583728              3.042467   \n",
       "std                 2.868782              0.922808   \n",
       "min                 0.000000              0.000000   \n",
       "25%                 8.938947              2.461138   \n",
       "50%                10.622456              2.984909   \n",
       "75%                12.104271              3.571351   \n",
       "max                22.317730              8.245022   \n",
       "\n",
       "       primary_cleaner.input.sulfate  ...  \\\n",
       "count                   19415.000000  ...   \n",
       "mean                      144.624774  ...   \n",
       "std                        44.464071  ...   \n",
       "min                         0.003112  ...   \n",
       "25%                       114.107029  ...   \n",
       "50%                       143.232103  ...   \n",
       "75%                       175.075656  ...   \n",
       "max                       265.983123  ...   \n",
       "\n",
       "       secondary_cleaner.state.floatbank4_a_air  \\\n",
       "count                              19433.000000   \n",
       "mean                                  18.987674   \n",
       "std                                    5.411058   \n",
       "min                                    0.000000   \n",
       "25%                                   14.975734   \n",
       "50%                                   18.017481   \n",
       "75%                                   23.012470   \n",
       "max                                   30.115735   \n",
       "\n",
       "       secondary_cleaner.state.floatbank4_a_level  \\\n",
       "count                                19438.000000   \n",
       "mean                                  -485.894516   \n",
       "std                                     47.758570   \n",
       "min                                   -799.798523   \n",
       "25%                                   -500.704892   \n",
       "50%                                   -499.837793   \n",
       "75%                                   -498.249730   \n",
       "max                                   -245.239184   \n",
       "\n",
       "       secondary_cleaner.state.floatbank4_b_air  \\\n",
       "count                              19438.000000   \n",
       "mean                                  15.010366   \n",
       "std                                    4.890228   \n",
       "min                                    0.000000   \n",
       "25%                                   11.940294   \n",
       "50%                                   14.971014   \n",
       "75%                                   19.034162   \n",
       "max                                   31.269706   \n",
       "\n",
       "       secondary_cleaner.state.floatbank4_b_level  \\\n",
       "count                                19438.000000   \n",
       "mean                                  -461.078636   \n",
       "std                                     67.405524   \n",
       "min                                   -800.836914   \n",
       "25%                                   -500.187742   \n",
       "50%                                   -499.459786   \n",
       "75%                                   -400.118106   \n",
       "max                                     -6.506986   \n",
       "\n",
       "       secondary_cleaner.state.floatbank5_a_air  \\\n",
       "count                              19438.000000   \n",
       "mean                                  15.694452   \n",
       "std                                    5.510974   \n",
       "min                                   -0.372054   \n",
       "25%                                   10.988606   \n",
       "50%                                   15.000036   \n",
       "75%                                   18.026190   \n",
       "max                                   43.709931   \n",
       "\n",
       "       secondary_cleaner.state.floatbank5_a_level  \\\n",
       "count                                19438.000000   \n",
       "mean                                  -488.684065   \n",
       "std                                     34.533396   \n",
       "min                                   -797.323986   \n",
       "25%                                   -500.458467   \n",
       "50%                                   -499.802605   \n",
       "75%                                   -498.384187   \n",
       "max                                   -244.483566   \n",
       "\n",
       "       secondary_cleaner.state.floatbank5_b_air  \\\n",
       "count                              19438.000000   \n",
       "mean                                  12.198224   \n",
       "std                                    5.333024   \n",
       "min                                    0.528083   \n",
       "25%                                    8.971105   \n",
       "50%                                   11.019433   \n",
       "75%                                   14.019088   \n",
       "max                                   27.926001   \n",
       "\n",
       "       secondary_cleaner.state.floatbank5_b_level  \\\n",
       "count                                19438.000000   \n",
       "mean                                  -487.149827   \n",
       "std                                     38.347312   \n",
       "min                                   -800.220337   \n",
       "25%                                   -500.129462   \n",
       "50%                                   -499.935317   \n",
       "75%                                   -499.436708   \n",
       "max                                   -137.740004   \n",
       "\n",
       "       secondary_cleaner.state.floatbank6_a_air  \\\n",
       "count                              19437.000000   \n",
       "mean                                  18.959024   \n",
       "std                                    5.550498   \n",
       "min                                   -0.079426   \n",
       "25%                                   14.983037   \n",
       "50%                                   19.960541   \n",
       "75%                                   24.003170   \n",
       "max                                   32.188906   \n",
       "\n",
       "       secondary_cleaner.state.floatbank6_a_level  \n",
       "count                                19438.000000  \n",
       "mean                                  -505.436305  \n",
       "std                                     37.689057  \n",
       "min                                   -809.741464  \n",
       "25%                                   -500.728067  \n",
       "50%                                   -500.048400  \n",
       "75%                                   -499.495378  \n",
       "max                                   -104.427459  \n",
       "\n",
       "[8 rows x 86 columns]"
      ]
     },
     "metadata": {},
     "output_type": "display_data"
    }
   ],
   "source": [
    "display(data_train.info())\n",
    "display(data_train.head())\n",
    "display(data_train.describe())\n",
    "display(data_test.info())\n",
    "display(data_test.head())\n",
    "display(data_test.describe())\n",
    "display(data_full.info())\n",
    "display(data_full.head())\n",
    "display(data_full.describe())\n"
   ]
  },
  {
   "cell_type": "markdown",
   "metadata": {},
   "source": [
    " Проверим, что эффективность обогащения рассчитана правильно. Вычислим её на обучающей выборке для признака rougher.output.recovery. Найдем MAE между нашими расчётами и значением признака. "
   ]
  },
  {
   "cell_type": "code",
   "execution_count": 3,
   "metadata": {},
   "outputs": [],
   "source": [
    "C = data_train['rougher.output.concentrate_au']\n",
    "F = data_train['rougher.input.feed_au']\n",
    "T = data_train['rougher.output.tail_au']\n",
    "\n",
    "au_recovery_ctrl = ((C*(F-T))/(F*(C-T)))*100"
   ]
  },
  {
   "cell_type": "code",
   "execution_count": 4,
   "metadata": {
    "scrolled": true
   },
   "outputs": [
    {
     "data": {
      "text/plain": [
       "9.73512347450521e-15"
      ]
     },
     "metadata": {},
     "output_type": "display_data"
    }
   ],
   "source": [
    "au_recovery_mae = mean_absolute_error(au_recovery_ctrl, data_train['rougher.output.recovery'])\n",
    "display(au_recovery_mae)"
   ]
  },
  {
   "cell_type": "code",
   "execution_count": 5,
   "metadata": {
    "scrolled": false
   },
   "outputs": [
    {
     "data": {
      "text/plain": [
       "82.70450164550293"
      ]
     },
     "metadata": {},
     "output_type": "display_data"
    },
    {
     "data": {
      "text/plain": [
       "82.70450164550293"
      ]
     },
     "metadata": {},
     "output_type": "display_data"
    }
   ],
   "source": [
    "display(au_recovery_ctrl.mean())\n",
    "display(data_train['rougher.output.recovery'].mean())"
   ]
  },
  {
   "cell_type": "markdown",
   "metadata": {},
   "source": [
    "Средние значения выборок равны. Небольшое значение МАЕ говорит о том, что их можно считать равными. "
   ]
  },
  {
   "cell_type": "code",
   "execution_count": 6,
   "metadata": {},
   "outputs": [],
   "source": [
    "#Проанализируем признаки, недоступные в тестовой выборке:"
   ]
  },
  {
   "cell_type": "code",
   "execution_count": 7,
   "metadata": {
    "scrolled": true
   },
   "outputs": [
    {
     "name": "stdout",
     "output_type": "stream",
     "text": [
      "['final.output.concentrate_ag', 'final.output.concentrate_au', 'final.output.concentrate_pb', 'final.output.concentrate_sol', 'final.output.recovery', 'final.output.tail_ag', 'final.output.tail_au', 'final.output.tail_pb', 'final.output.tail_sol', 'primary_cleaner.output.concentrate_ag', 'primary_cleaner.output.concentrate_au', 'primary_cleaner.output.concentrate_pb', 'primary_cleaner.output.concentrate_sol', 'primary_cleaner.output.tail_ag', 'primary_cleaner.output.tail_au', 'primary_cleaner.output.tail_pb', 'primary_cleaner.output.tail_sol', 'rougher.calculation.au_pb_ratio', 'rougher.calculation.floatbank10_sulfate_to_au_feed', 'rougher.calculation.floatbank11_sulfate_to_au_feed', 'rougher.calculation.sulfate_to_au_concentrate', 'rougher.output.concentrate_ag', 'rougher.output.concentrate_au', 'rougher.output.concentrate_pb', 'rougher.output.concentrate_sol', 'rougher.output.recovery', 'rougher.output.tail_ag', 'rougher.output.tail_au', 'rougher.output.tail_pb', 'rougher.output.tail_sol', 'secondary_cleaner.output.tail_ag', 'secondary_cleaner.output.tail_au', 'secondary_cleaner.output.tail_pb', 'secondary_cleaner.output.tail_sol']\n"
     ]
    }
   ],
   "source": [
    "df_diff = set(data_train.columns)-set(data_test.columns)\n",
    "print(sorted(df_diff))"
   ]
  },
  {
   "cell_type": "markdown",
   "metadata": {},
   "source": [
    "По полученным данным видно какие признаки недоступны в тестовом датасете, по условиям задачи они рассчитываются позже.\n",
    "В основном это концентрационные показатели добавляемых и получаемых веществ на разных этапах процесса обработки. Можно предположить, что эти признаки обладают высокой мультиколлинеарностью."
   ]
  },
  {
   "cell_type": "code",
   "execution_count": 8,
   "metadata": {
    "scrolled": true
   },
   "outputs": [
    {
     "data": {
      "text/plain": [
       "final.output.concentrate_ag                     1\n",
       "final.output.concentrate_pb                     1\n",
       "final.output.concentrate_sol                  211\n",
       "final.output.tail_pb                          100\n",
       "final.output.tail_sol                           5\n",
       "                                             ... \n",
       "secondary_cleaner.state.floatbank5_a_level      1\n",
       "secondary_cleaner.state.floatbank5_b_air        1\n",
       "secondary_cleaner.state.floatbank5_b_level      1\n",
       "secondary_cleaner.state.floatbank6_a_air        2\n",
       "secondary_cleaner.state.floatbank6_a_level      1\n",
       "Length: 62, dtype: int64"
      ]
     },
     "metadata": {},
     "output_type": "display_data"
    },
    {
     "data": {
      "text/plain": [
       "primary_cleaner.input.sulfate                4\n",
       "primary_cleaner.input.depressant             5\n",
       "primary_cleaner.input.xanthate               4\n",
       "rougher.input.feed_rate                      3\n",
       "rougher.input.feed_size                      1\n",
       "rougher.input.feed_sol                      21\n",
       "rougher.input.floatbank10_sulfate            5\n",
       "rougher.input.floatbank11_sulfate            8\n",
       "rougher.input.floatbank11_xanthate          25\n",
       "secondary_cleaner.state.floatbank2_a_air     3\n",
       "secondary_cleaner.state.floatbank2_b_air     2\n",
       "secondary_cleaner.state.floatbank3_a_air     9\n",
       "dtype: int64"
      ]
     },
     "metadata": {},
     "output_type": "display_data"
    },
    {
     "data": {
      "text/plain": [
       "final.output.concentrate_ag                     1\n",
       "final.output.concentrate_pb                     1\n",
       "final.output.concentrate_sol                  211\n",
       "final.output.tail_ag                            1\n",
       "final.output.tail_pb                          101\n",
       "                                             ... \n",
       "secondary_cleaner.state.floatbank5_a_level      1\n",
       "secondary_cleaner.state.floatbank5_b_air        1\n",
       "secondary_cleaner.state.floatbank5_b_level      1\n",
       "secondary_cleaner.state.floatbank6_a_air        2\n",
       "secondary_cleaner.state.floatbank6_a_level      1\n",
       "Length: 63, dtype: int64"
      ]
     },
     "metadata": {},
     "output_type": "display_data"
    }
   ],
   "source": [
    "dfs = data_train, data_test, data_full\n",
    "for df in dfs:\n",
    "    display(df.isna().sum()[df.isna().sum() > 0])"
   ]
  },
  {
   "cell_type": "markdown",
   "metadata": {},
   "source": [
    "Так же в условиях задачи сказано, что данные индексируются по занчениям date, и соседние параметры часто похожи, если они получены в один день, поэтому мы можем заменить пропуски предыдущими значениями в столбце:"
   ]
  },
  {
   "cell_type": "code",
   "execution_count": 9,
   "metadata": {},
   "outputs": [
    {
     "data": {
      "text/plain": [
       "Series([], dtype: int64)"
      ]
     },
     "metadata": {},
     "output_type": "display_data"
    },
    {
     "data": {
      "text/plain": [
       "Series([], dtype: int64)"
      ]
     },
     "metadata": {},
     "output_type": "display_data"
    },
    {
     "data": {
      "text/plain": [
       "Series([], dtype: int64)"
      ]
     },
     "metadata": {},
     "output_type": "display_data"
    }
   ],
   "source": [
    "for df in dfs:\n",
    "    df.fillna(method='ffill', inplace=True)\n",
    "    \n",
    "for df in dfs:\n",
    "    display(df.isna().sum()[df.isna().sum() > 0])"
   ]
  },
  {
   "cell_type": "markdown",
   "metadata": {},
   "source": [
    "## Анализ данных"
   ]
  },
  {
   "cell_type": "markdown",
   "metadata": {},
   "source": [
    "Посмотрим, как меняется концентрация металлов (Au, Ag, Pb) на различных этапах очистки:"
   ]
  },
  {
   "cell_type": "code",
   "execution_count": 10,
   "metadata": {
    "scrolled": true
   },
   "outputs": [
    {
     "name": "stdout",
     "output_type": "stream",
     "text": [
      "Концентрация до флотации\n",
      "Концентрация Серебра: 8.79,Свинца: 3.59,Золота: 8.27\n",
      "\n",
      "Концентрация после флотации\n",
      "Коцентрация Серебра: 11.99,Свинца: 7.61,Золота: 19.77\n",
      "\n",
      "Концентрация после первичной очистки\n",
      "Концентрация Серебра: 8.44,Свинца: 9.81,Золота: 32.12\n",
      "\n",
      "Концентрация поле вторичной очистки\n",
      "Концентрация Серебра: 5.17,Свинца: 9.98,Золота: 44.08\n"
     ]
    }
   ],
   "source": [
    "print(\"Концентрация до флотации\")\n",
    "print(\"Концентрация Серебра:{: 0.2f},Свинца:{: 0.2f},Золота:{: 0.2f}\".\n",
    "format(data_full[\"rougher.input.feed_ag\"].mean(),\n",
    "data_full[\"rougher.input.feed_pb\"].mean(),\n",
    "data_full[\"rougher.input.feed_au\"].mean()))\n",
    "print()\n",
    "print(\"Концентрация после флотации\")\n",
    "print(\"Коцентрация Серебра:{: 0.2f},Свинца:{: 0.2f},Золота:{: 0.2f}\".\n",
    "format(data_full[\"rougher.output.concentrate_ag\"].mean(),\n",
    "data_full[\"rougher.output.concentrate_pb\"].mean(),\n",
    "data_full[\"rougher.output.concentrate_au\"].mean()))\n",
    "print()\n",
    "print(\"Концентрация после первичной очистки\")\n",
    "print(\"Концентрация Серебра:{: 0.2f},Свинца:{: 0.2f},Золота:{: 0.2f}\".\n",
    "format(data_full[\"primary_cleaner.output.concentrate_ag\"].mean(),\n",
    "data_full[\"primary_cleaner.output.concentrate_pb\"].mean(),\n",
    "data_full[\"primary_cleaner.output.concentrate_au\"].mean()))\n",
    "print()\n",
    "print(\"Концентрация поле вторичной очистки\")\n",
    "print(\"Концентрация Серебра:{: 0.2f},Свинца:{: 0.2f},Золота:{: 0.2f}\".\n",
    "format(data_full[\"final.output.concentrate_ag\"].mean(),\n",
    "data_full[\"final.output.concentrate_pb\"].mean(),\n",
    "data_full[\"final.output.concentrate_au\"].mean()))"
   ]
  },
  {
   "cell_type": "markdown",
   "metadata": {},
   "source": [
    "Напишем функцию, для генерации выборок по нужным металлам для построения графиков:"
   ]
  },
  {
   "cell_type": "code",
   "execution_count": 11,
   "metadata": {
    "scrolled": true
   },
   "outputs": [],
   "source": [
    "def met_concentrate(data,before_flot, after_flot, after_primary_clean, after_second_clean):\n",
    "    met_conc = data[[before_flot,\n",
    "                         after_flot,\n",
    "                         after_primary_clean,\n",
    "                         after_second_clean]]\n",
    "    met_conc = met_conc.rename(columns={before_flot: 'До флотации',\n",
    "                         after_flot: \"После флотации\",\n",
    "                         after_primary_clean: \"После первой очистки\",\n",
    "                         after_second_clean: \"После второй очистки\"}, index = data['date'])\n",
    "\n",
    "    return met_conc"
   ]
  },
  {
   "cell_type": "code",
   "execution_count": 12,
   "metadata": {},
   "outputs": [],
   "source": [
    "au_concetrate = met_concentrate(data_full, \n",
    "                       \"rougher.input.feed_au\", \n",
    "                       \"rougher.output.concentrate_au\", \n",
    "                       \"primary_cleaner.output.concentrate_au\", \n",
    "                       \"final.output.concentrate_au\")\n",
    "ag_concetrate = met_concentrate(data_full, \n",
    "                       \"rougher.input.feed_ag\", \n",
    "                       \"rougher.output.concentrate_ag\", \n",
    "                       \"primary_cleaner.output.concentrate_ag\", \n",
    "                       \"final.output.concentrate_ag\")   \n",
    "pb_concetrate = met_concentrate(data_full, \n",
    "                       \"rougher.input.feed_pb\", \n",
    "                       \"rougher.output.concentrate_pb\", \n",
    "                       \"primary_cleaner.output.concentrate_pb\", \n",
    "                       \"final.output.concentrate_pb\") "
   ]
  },
  {
   "cell_type": "code",
   "execution_count": 13,
   "metadata": {
    "scrolled": false
   },
   "outputs": [
    {
     "data": {
      "image/png": "[encoded data removed]",
      "text/plain": [
       "<Figure size 432x288 with 1 Axes>"
      ]
     },
     "metadata": {
      "needs_background": "light"
     },
     "output_type": "display_data"
    }
   ],
   "source": [
    "au_concetrate.plot(kind='hist', bins=35, alpha=0.5)\n",
    "plt.title('Концентрация золота на различных этапах флотации')\n",
    "plt.show()"
   ]
  },
  {
   "cell_type": "code",
   "execution_count": 14,
   "metadata": {},
   "outputs": [
    {
     "data": {
      "image/png": "[encoded data removed]",
      "text/plain": [
       "<Figure size 432x288 with 1 Axes>"
      ]
     },
     "metadata": {
      "needs_background": "light"
     },
     "output_type": "display_data"
    }
   ],
   "source": [
    "ag_concetrate.plot(kind='hist', bins=35, alpha=0.5)\n",
    "plt.title('Концентрация серебра на различных этапах флотации')\n",
    "plt.show()"
   ]
  },
  {
   "cell_type": "code",
   "execution_count": 15,
   "metadata": {
    "scrolled": false
   },
   "outputs": [
    {
     "data": {
      "image/png": "[encoded data removed]",
      "text/plain": [
       "<Figure size 432x288 with 1 Axes>"
      ]
     },
     "metadata": {
      "needs_background": "light"
     },
     "output_type": "display_data"
    }
   ],
   "source": [
    "pb_concetrate.plot(kind='hist', bins=35, alpha=0.5)\n",
    "plt.title('Концентрация свинца на различных этапах флотации')\n",
    "plt.show()"
   ]
  },
  {
   "cell_type": "markdown",
   "metadata": {},
   "source": [
    "Концентрация золота после каждого этапа обработки растет, \n",
    "концентрация серебра падает, а концентрация свинца в начале процесса растет, в конце-падает."
   ]
  },
  {
   "cell_type": "markdown",
   "metadata": {},
   "source": [
    "Сравним распределения размеров гранул сырья на обучающей и тестовой выборках:"
   ]
  },
  {
   "cell_type": "code",
   "execution_count": 16,
   "metadata": {
    "scrolled": true
   },
   "outputs": [
    {
     "data": {
      "text/plain": [
       "count    14149.000000\n",
       "mean        60.239856\n",
       "std         23.005310\n",
       "min          9.659576\n",
       "25%         48.966751\n",
       "50%         55.269784\n",
       "75%         66.007526\n",
       "max        484.967466\n",
       "Name: rougher.input.feed_size, dtype: float64"
      ]
     },
     "metadata": {},
     "output_type": "display_data"
    },
    {
     "data": {
      "image/png": "[encoded data removed]",
      "text/plain": [
       "<Figure size 432x288 with 1 Axes>"
      ]
     },
     "metadata": {
      "needs_background": "light"
     },
     "output_type": "display_data"
    }
   ],
   "source": [
    "data_train['rougher.input.feed_size'].plot(kind='hist', density=True, bins=35, alpha=0.5)\n",
    "display(data_train['rougher.input.feed_size'].describe())\n"
   ]
  },
  {
   "cell_type": "code",
   "execution_count": 17,
   "metadata": {},
   "outputs": [
    {
     "data": {
      "text/plain": [
       "count    5290.000000\n",
       "mean       55.952754\n",
       "std        19.080334\n",
       "min         0.046369\n",
       "25%        43.906504\n",
       "50%        50.846843\n",
       "75%        62.451165\n",
       "max       392.494040\n",
       "Name: rougher.input.feed_size, dtype: float64"
      ]
     },
     "metadata": {},
     "output_type": "display_data"
    },
    {
     "data": {
      "image/png": "[encoded data removed]",
      "text/plain": [
       "<Figure size 432x288 with 1 Axes>"
      ]
     },
     "metadata": {
      "needs_background": "light"
     },
     "output_type": "display_data"
    }
   ],
   "source": [
    "data_test['rougher.input.feed_size'].plot(kind='hist', density=True, bins=35, alpha=0.5)\n",
    "display(data_test['rougher.input.feed_size'].describe())"
   ]
  },
  {
   "cell_type": "markdown",
   "metadata": {},
   "source": [
    "Выборки различаются по размерам, но большой разницы в средних значениях нет. Будем считать распределения равными."
   ]
  },
  {
   "cell_type": "code",
   "execution_count": null,
   "metadata": {},
   "outputs": [],
   "source": []
  },
  {
   "cell_type": "markdown",
   "metadata": {},
   "source": [
    "Исследуем суммарную концентрацию всех веществ на разных стадиях: в сырье, в черновом и финальном концентратах."
   ]
  },
  {
   "cell_type": "code",
   "execution_count": 18,
   "metadata": {
    "scrolled": true
   },
   "outputs": [
    {
     "data": {
      "text/html": [
       "<div>\n",
       "<style scoped>\n",
       "    .dataframe tbody tr th:only-of-type {\n",
       "        vertical-align: middle;\n",
       "    }\n",
       "\n",
       "    .dataframe tbody tr th {\n",
       "        vertical-align: top;\n",
       "    }\n",
       "\n",
       "    .dataframe thead th {\n",
       "        text-align: right;\n",
       "    }\n",
       "</style>\n",
       "<table border=\"1\" class=\"dataframe\">\n",
       "  <thead>\n",
       "    <tr style=\"text-align: right;\">\n",
       "      <th></th>\n",
       "      <th>date</th>\n",
       "      <th>rougher.input.feed</th>\n",
       "      <th>rougher.output.concentrate</th>\n",
       "      <th>final.output.concentrate</th>\n",
       "    </tr>\n",
       "  </thead>\n",
       "  <tbody>\n",
       "    <tr>\n",
       "      <th>0</th>\n",
       "      <td>2016-01-15 00:00:00</td>\n",
       "      <td>51.680034</td>\n",
       "      <td>66.424950</td>\n",
       "      <td>63.644396</td>\n",
       "    </tr>\n",
       "    <tr>\n",
       "      <th>1</th>\n",
       "      <td>2016-01-15 01:00:00</td>\n",
       "      <td>50.659114</td>\n",
       "      <td>67.012710</td>\n",
       "      <td>63.957723</td>\n",
       "    </tr>\n",
       "    <tr>\n",
       "      <th>2</th>\n",
       "      <td>2016-01-15 02:00:00</td>\n",
       "      <td>50.609929</td>\n",
       "      <td>66.103793</td>\n",
       "      <td>64.311180</td>\n",
       "    </tr>\n",
       "    <tr>\n",
       "      <th>3</th>\n",
       "      <td>2016-01-15 03:00:00</td>\n",
       "      <td>51.061546</td>\n",
       "      <td>65.752751</td>\n",
       "      <td>63.573449</td>\n",
       "    </tr>\n",
       "    <tr>\n",
       "      <th>4</th>\n",
       "      <td>2016-01-15 04:00:00</td>\n",
       "      <td>47.859163</td>\n",
       "      <td>65.908382</td>\n",
       "      <td>64.004667</td>\n",
       "    </tr>\n",
       "    <tr>\n",
       "      <th>...</th>\n",
       "      <td>...</td>\n",
       "      <td>...</td>\n",
       "      <td>...</td>\n",
       "      <td>...</td>\n",
       "    </tr>\n",
       "    <tr>\n",
       "      <th>19434</th>\n",
       "      <td>2018-08-18 06:59:59</td>\n",
       "      <td>53.415050</td>\n",
       "      <td>70.781325</td>\n",
       "      <td>68.098589</td>\n",
       "    </tr>\n",
       "    <tr>\n",
       "      <th>19435</th>\n",
       "      <td>2018-08-18 07:59:59</td>\n",
       "      <td>53.696482</td>\n",
       "      <td>70.539603</td>\n",
       "      <td>68.274362</td>\n",
       "    </tr>\n",
       "    <tr>\n",
       "      <th>19436</th>\n",
       "      <td>2018-08-18 08:59:59</td>\n",
       "      <td>54.589604</td>\n",
       "      <td>55.376330</td>\n",
       "      <td>68.226068</td>\n",
       "    </tr>\n",
       "    <tr>\n",
       "      <th>19437</th>\n",
       "      <td>2018-08-18 09:59:59</td>\n",
       "      <td>54.027355</td>\n",
       "      <td>69.201689</td>\n",
       "      <td>68.200449</td>\n",
       "    </tr>\n",
       "    <tr>\n",
       "      <th>19438</th>\n",
       "      <td>2018-08-18 10:59:59</td>\n",
       "      <td>53.535054</td>\n",
       "      <td>69.544003</td>\n",
       "      <td>68.353154</td>\n",
       "    </tr>\n",
       "  </tbody>\n",
       "</table>\n",
       "<p>19439 rows × 4 columns</p>\n",
       "</div>"
      ],
      "text/plain": [
       "                      date  rougher.input.feed  rougher.output.concentrate  \\\n",
       "0      2016-01-15 00:00:00           51.680034                   66.424950   \n",
       "1      2016-01-15 01:00:00           50.659114                   67.012710   \n",
       "2      2016-01-15 02:00:00           50.609929                   66.103793   \n",
       "3      2016-01-15 03:00:00           51.061546                   65.752751   \n",
       "4      2016-01-15 04:00:00           47.859163                   65.908382   \n",
       "...                    ...                 ...                         ...   \n",
       "19434  2018-08-18 06:59:59           53.415050                   70.781325   \n",
       "19435  2018-08-18 07:59:59           53.696482                   70.539603   \n",
       "19436  2018-08-18 08:59:59           54.589604                   55.376330   \n",
       "19437  2018-08-18 09:59:59           54.027355                   69.201689   \n",
       "19438  2018-08-18 10:59:59           53.535054                   69.544003   \n",
       "\n",
       "       final.output.concentrate  \n",
       "0                     63.644396  \n",
       "1                     63.957723  \n",
       "2                     64.311180  \n",
       "3                     63.573449  \n",
       "4                     64.004667  \n",
       "...                         ...  \n",
       "19434                 68.098589  \n",
       "19435                 68.274362  \n",
       "19436                 68.226068  \n",
       "19437                 68.200449  \n",
       "19438                 68.353154  \n",
       "\n",
       "[19439 rows x 4 columns]"
      ]
     },
     "metadata": {},
     "output_type": "display_data"
    }
   ],
   "source": [
    "met_con = pd.DataFrame()\n",
    "met_con['date'] = data_full['date']\n",
    "\n",
    "met_con['rougher.input.feed'] = (\n",
    "    data_full['rougher.input.feed_au'] +\n",
    "    data_full['rougher.input.feed_ag'] +\n",
    "    data_full['rougher.input.feed_pb'] +\n",
    "    data_full['rougher.input.feed_sol']\n",
    ")\n",
    "\n",
    "met_con['rougher.output.concentrate'] = (\n",
    "    data_full['rougher.output.concentrate_au'] +\n",
    "    data_full['rougher.output.concentrate_ag'] +\n",
    "    data_full['rougher.output.concentrate_pb'] +\n",
    "    data_full['rougher.output.concentrate_sol']\n",
    ")\n",
    "\n",
    "met_con['final.output.concentrate'] = (\n",
    "    data_full['final.output.concentrate_au'] +\n",
    "    data_full['final.output.concentrate_ag'] +\n",
    "    data_full['final.output.concentrate_pb'] +\n",
    "    data_full['final.output.concentrate_sol']\n",
    ")\n",
    "display(met_con)"
   ]
  },
  {
   "cell_type": "code",
   "execution_count": 19,
   "metadata": {
    "scrolled": true
   },
   "outputs": [
    {
     "data": {
      "text/plain": [
       "<AxesSubplot:ylabel='Frequency'>"
      ]
     },
     "execution_count": 19,
     "metadata": {},
     "output_type": "execute_result"
    },
    {
     "data": {
      "image/png": "[encoded data removed]",
      "text/plain": [
       "<Figure size 432x288 with 1 Axes>"
      ]
     },
     "metadata": {
      "needs_background": "light"
     },
     "output_type": "display_data"
    }
   ],
   "source": [
    "met_con['rougher.input.feed'].plot(kind='hist', bins=35, alpha=0.5)"
   ]
  },
  {
   "cell_type": "code",
   "execution_count": 20,
   "metadata": {},
   "outputs": [
    {
     "data": {
      "text/plain": [
       "<AxesSubplot:ylabel='Frequency'>"
      ]
     },
     "execution_count": 20,
     "metadata": {},
     "output_type": "execute_result"
    },
    {
     "data": {
      "image/png": "[encoded data removed]",
      "text/plain": [
       "<Figure size 432x288 with 1 Axes>"
      ]
     },
     "metadata": {
      "needs_background": "light"
     },
     "output_type": "display_data"
    }
   ],
   "source": [
    "met_con['rougher.output.concentrate'].plot(kind='hist', bins=35, alpha=0.5)"
   ]
  },
  {
   "cell_type": "code",
   "execution_count": 21,
   "metadata": {
    "scrolled": true
   },
   "outputs": [
    {
     "data": {
      "text/plain": [
       "<AxesSubplot:ylabel='Frequency'>"
      ]
     },
     "execution_count": 21,
     "metadata": {},
     "output_type": "execute_result"
    },
    {
     "data": {
      "image/png": "[encoded data removed]",
      "text/plain": [
       "<Figure size 432x288 with 1 Axes>"
      ]
     },
     "metadata": {
      "needs_background": "light"
     },
     "output_type": "display_data"
    }
   ],
   "source": [
    "met_con['final.output.concentrate'].plot(kind='hist', bins=35, alpha=0.5)"
   ]
  },
  {
   "cell_type": "markdown",
   "metadata": {},
   "source": [
    "На всех гистограммах отмечются нулевые значение концентрации, для улучшения качества моделей удалим эти строки:"
   ]
  },
  {
   "cell_type": "code",
   "execution_count": 22,
   "metadata": {},
   "outputs": [
    {
     "name": "stdout",
     "output_type": "stream",
     "text": [
      "<class 'pandas.core.frame.DataFrame'>\n",
      "Int64Index: 18949 entries, 0 to 19438\n",
      "Data columns (total 87 columns):\n",
      " #   Column                                              Non-Null Count  Dtype  \n",
      "---  ------                                              --------------  -----  \n",
      " 0   date                                                18949 non-null  object \n",
      " 1   final.output.concentrate_ag                         18949 non-null  float64\n",
      " 2   final.output.concentrate_pb                         18949 non-null  float64\n",
      " 3   final.output.concentrate_sol                        18949 non-null  float64\n",
      " 4   final.output.concentrate_au                         18949 non-null  float64\n",
      " 5   final.output.recovery                               18949 non-null  float64\n",
      " 6   final.output.tail_ag                                18949 non-null  float64\n",
      " 7   final.output.tail_pb                                18949 non-null  float64\n",
      " 8   final.output.tail_sol                               18949 non-null  float64\n",
      " 9   final.output.tail_au                                18949 non-null  float64\n",
      " 10  primary_cleaner.input.sulfate                       18949 non-null  float64\n",
      " 11  primary_cleaner.input.depressant                    18949 non-null  float64\n",
      " 12  primary_cleaner.input.feed_size                     18949 non-null  float64\n",
      " 13  primary_cleaner.input.xanthate                      18949 non-null  float64\n",
      " 14  primary_cleaner.output.concentrate_ag               18949 non-null  float64\n",
      " 15  primary_cleaner.output.concentrate_pb               18949 non-null  float64\n",
      " 16  primary_cleaner.output.concentrate_sol              18949 non-null  float64\n",
      " 17  primary_cleaner.output.concentrate_au               18949 non-null  float64\n",
      " 18  primary_cleaner.output.tail_ag                      18949 non-null  float64\n",
      " 19  primary_cleaner.output.tail_pb                      18949 non-null  float64\n",
      " 20  primary_cleaner.output.tail_sol                     18949 non-null  float64\n",
      " 21  primary_cleaner.output.tail_au                      18949 non-null  float64\n",
      " 22  primary_cleaner.state.floatbank8_a_air              18949 non-null  float64\n",
      " 23  primary_cleaner.state.floatbank8_a_level            18949 non-null  float64\n",
      " 24  primary_cleaner.state.floatbank8_b_air              18949 non-null  float64\n",
      " 25  primary_cleaner.state.floatbank8_b_level            18949 non-null  float64\n",
      " 26  primary_cleaner.state.floatbank8_c_air              18949 non-null  float64\n",
      " 27  primary_cleaner.state.floatbank8_c_level            18949 non-null  float64\n",
      " 28  primary_cleaner.state.floatbank8_d_air              18949 non-null  float64\n",
      " 29  primary_cleaner.state.floatbank8_d_level            18949 non-null  float64\n",
      " 30  rougher.calculation.sulfate_to_au_concentrate       18949 non-null  float64\n",
      " 31  rougher.calculation.floatbank10_sulfate_to_au_feed  18949 non-null  float64\n",
      " 32  rougher.calculation.floatbank11_sulfate_to_au_feed  18949 non-null  float64\n",
      " 33  rougher.calculation.au_pb_ratio                     18949 non-null  float64\n",
      " 34  rougher.input.feed_ag                               18949 non-null  float64\n",
      " 35  rougher.input.feed_pb                               18949 non-null  float64\n",
      " 36  rougher.input.feed_rate                             18949 non-null  float64\n",
      " 37  rougher.input.feed_size                             18949 non-null  float64\n",
      " 38  rougher.input.feed_sol                              18949 non-null  float64\n",
      " 39  rougher.input.feed_au                               18949 non-null  float64\n",
      " 40  rougher.input.floatbank10_sulfate                   18949 non-null  float64\n",
      " 41  rougher.input.floatbank10_xanthate                  18949 non-null  float64\n",
      " 42  rougher.input.floatbank11_sulfate                   18949 non-null  float64\n",
      " 43  rougher.input.floatbank11_xanthate                  18949 non-null  float64\n",
      " 44  rougher.output.concentrate_ag                       18949 non-null  float64\n",
      " 45  rougher.output.concentrate_pb                       18949 non-null  float64\n",
      " 46  rougher.output.concentrate_sol                      18949 non-null  float64\n",
      " 47  rougher.output.concentrate_au                       18949 non-null  float64\n",
      " 48  rougher.output.recovery                             18949 non-null  float64\n",
      " 49  rougher.output.tail_ag                              18949 non-null  float64\n",
      " 50  rougher.output.tail_pb                              18949 non-null  float64\n",
      " 51  rougher.output.tail_sol                             18949 non-null  float64\n",
      " 52  rougher.output.tail_au                              18949 non-null  float64\n",
      " 53  rougher.state.floatbank10_a_air                     18949 non-null  float64\n",
      " 54  rougher.state.floatbank10_a_level                   18949 non-null  float64\n",
      " 55  rougher.state.floatbank10_b_air                     18949 non-null  float64\n",
      " 56  rougher.state.floatbank10_b_level                   18949 non-null  float64\n",
      " 57  rougher.state.floatbank10_c_air                     18949 non-null  float64\n",
      " 58  rougher.state.floatbank10_c_level                   18949 non-null  float64\n",
      " 59  rougher.state.floatbank10_d_air                     18949 non-null  float64\n",
      " 60  rougher.state.floatbank10_d_level                   18949 non-null  float64\n",
      " 61  rougher.state.floatbank10_e_air                     18949 non-null  float64\n",
      " 62  rougher.state.floatbank10_e_level                   18949 non-null  float64\n",
      " 63  rougher.state.floatbank10_f_air                     18949 non-null  float64\n",
      " 64  rougher.state.floatbank10_f_level                   18949 non-null  float64\n",
      " 65  secondary_cleaner.output.tail_ag                    18949 non-null  float64\n",
      " 66  secondary_cleaner.output.tail_pb                    18949 non-null  float64\n",
      " 67  secondary_cleaner.output.tail_sol                   18949 non-null  float64\n",
      " 68  secondary_cleaner.output.tail_au                    18949 non-null  float64\n",
      " 69  secondary_cleaner.state.floatbank2_a_air            18949 non-null  float64\n",
      " 70  secondary_cleaner.state.floatbank2_a_level          18949 non-null  float64\n",
      " 71  secondary_cleaner.state.floatbank2_b_air            18949 non-null  float64\n",
      " 72  secondary_cleaner.state.floatbank2_b_level          18949 non-null  float64\n",
      " 73  secondary_cleaner.state.floatbank3_a_air            18949 non-null  float64\n",
      " 74  secondary_cleaner.state.floatbank3_a_level          18949 non-null  float64\n",
      " 75  secondary_cleaner.state.floatbank3_b_air            18949 non-null  float64\n",
      " 76  secondary_cleaner.state.floatbank3_b_level          18949 non-null  float64\n",
      " 77  secondary_cleaner.state.floatbank4_a_air            18949 non-null  float64\n",
      " 78  secondary_cleaner.state.floatbank4_a_level          18949 non-null  float64\n",
      " 79  secondary_cleaner.state.floatbank4_b_air            18949 non-null  float64\n",
      " 80  secondary_cleaner.state.floatbank4_b_level          18949 non-null  float64\n",
      " 81  secondary_cleaner.state.floatbank5_a_air            18949 non-null  float64\n",
      " 82  secondary_cleaner.state.floatbank5_a_level          18949 non-null  float64\n",
      " 83  secondary_cleaner.state.floatbank5_b_air            18949 non-null  float64\n",
      " 84  secondary_cleaner.state.floatbank5_b_level          18949 non-null  float64\n",
      " 85  secondary_cleaner.state.floatbank6_a_air            18949 non-null  float64\n",
      " 86  secondary_cleaner.state.floatbank6_a_level          18949 non-null  float64\n",
      "dtypes: float64(86), object(1)\n",
      "memory usage: 12.7+ MB\n"
     ]
    }
   ],
   "source": [
    "for_delete = []\n",
    "\n",
    "for row in met_con.index:\n",
    "    if (met_con.loc[row, 'final.output.concentrate'] == 0.0 or\n",
    "        met_con.loc[row, 'rougher.output.concentrate'] == 0.0 or \n",
    "        met_con.loc[row, 'rougher.input.feed'] == 0.0):\n",
    "        for_delete.append(met_con.loc[row, 'date'])\n",
    "        \n",
    "data_full.drop(data_full[data_full['date'].isin(for_delete)].index, inplace=True)\n",
    "data_train.drop(data_train[data_train['date'].isin(for_delete)].index, inplace=True)\n",
    "data_test.drop(data_test[data_test['date'].isin(for_delete)].index, inplace=True)\n",
    "\n",
    "data_full.info()"
   ]
  },
  {
   "cell_type": "markdown",
   "metadata": {},
   "source": [
    "## Модель"
   ]
  },
  {
   "cell_type": "code",
   "execution_count": 23,
   "metadata": {},
   "outputs": [],
   "source": [
    "#Создадим функцию для расчета метрики sMAPE по заданной в условиях задачи формуле:"
   ]
  },
  {
   "cell_type": "code",
   "execution_count": 24,
   "metadata": {},
   "outputs": [],
   "source": [
    "def sMAPE(target, predict):\n",
    "    target = target.to_numpy()\n",
    "    total = 0\n",
    "    for y in range(len(target)):\n",
    "        total += abs(target[y, 0] - predict[y, 0]) / (abs(target[y, 0] + predict[y, 0]) / 2)\n",
    "    sMAPE_1 = total / len(target) * 100\n",
    "    \n",
    "    total = 0\n",
    "    for y in range(len(target)):\n",
    "        total += abs(target[y, 1] - predict[y, 1]) / (abs(target[y, 1] + predict[y, 1]) / 2)\n",
    "    sMAPE_2 = total / len(target) * 100\n",
    "    \n",
    "    return 0.25 * sMAPE_1 + 0.75 * sMAPE_2"
   ]
  },
  {
   "cell_type": "markdown",
   "metadata": {},
   "source": [
    "Масштабируем данные:"
   ]
  },
  {
   "cell_type": "code",
   "execution_count": 25,
   "metadata": {},
   "outputs": [],
   "source": [
    "features = data_train.drop(df_diff, axis=1)\n",
    "features = features.drop('date', axis=1)\n",
    "target = data_train[['rougher.output.recovery', 'final.output.recovery']]\n",
    "\n",
    "scaler = StandardScaler()\n",
    "scaler.fit(features) \n",
    "features = scaler.transform(features)"
   ]
  },
  {
   "cell_type": "markdown",
   "metadata": {},
   "source": [
    "Создадим переменную для передачи скорера в функцию кросс-валидации:"
   ]
  },
  {
   "cell_type": "code",
   "execution_count": 26,
   "metadata": {},
   "outputs": [],
   "source": [
    "smape_scorer = make_scorer(sMAPE, greater_is_better=False)"
   ]
  },
  {
   "cell_type": "markdown",
   "metadata": {},
   "source": [
    "Обучим модель линейной регрессии:"
   ]
  },
  {
   "cell_type": "code",
   "execution_count": 27,
   "metadata": {
    "scrolled": true
   },
   "outputs": [
    {
     "name": "stdout",
     "output_type": "stream",
     "text": [
      "Средняя оценка качества модели: 10.0596020690936\n"
     ]
    }
   ],
   "source": [
    "model = LinearRegression()\n",
    "\n",
    "scores = -1 * cross_val_score(model, features, target, scoring=smape_scorer, cv=5)\n",
    "final_score = scores.mean()\n",
    "print('Средняя оценка качества модели:', final_score)"
   ]
  },
  {
   "cell_type": "markdown",
   "metadata": {},
   "source": [
    "Обучим модель решающего дерева:"
   ]
  },
  {
   "cell_type": "code",
   "execution_count": 28,
   "metadata": {},
   "outputs": [
    {
     "name": "stderr",
     "output_type": "stream",
     "text": [
      "100%|██████████| 10/10 [00:19<00:00,  1.92s/it]"
     ]
    },
    {
     "name": "stdout",
     "output_type": "stream",
     "text": [
      "Средняя оценка качества модели: 9.173898877615558\n"
     ]
    },
    {
     "name": "stderr",
     "output_type": "stream",
     "text": [
      "\n"
     ]
    }
   ],
   "source": [
    "best_depth_t = 0\n",
    "final_score_b = 1000\n",
    "\n",
    "for depth in tqdm(range(2, 12)):\n",
    "    model = DecisionTreeRegressor(random_state=12345, max_depth=depth)\n",
    "    scores = -1 * cross_val_score(model, features, target, scoring=smape_scorer, cv=5)\n",
    "    final_score = scores.mean()\n",
    "    if final_score < final_score_b:\n",
    "        final_score_b = final_score\n",
    "        best_depth_t = depth\n",
    "        \n",
    "# сохраним лучшие параметры в словаре\n",
    "tree_best = {'depth':best_depth_t}\n",
    "print('Средняя оценка качества модели:', final_score_b)"
   ]
  },
  {
   "cell_type": "markdown",
   "metadata": {},
   "source": [
    "Обучим модель случайного леса:"
   ]
  },
  {
   "cell_type": "code",
   "execution_count": null,
   "metadata": {
    "scrolled": true
   },
   "outputs": [
    {
     "name": "stderr",
     "output_type": "stream",
     "text": [
      " 60%|██████    | 3/5 [07:38<05:42, 171.38s/it]"
     ]
    }
   ],
   "source": [
    "best_depth_f = 0\n",
    "best_est_f = 0\n",
    "final_score_b = 1000\n",
    "\n",
    "for est in tqdm(range(10, 51, 10)):\n",
    "    for depth in range (3, 10):\n",
    "        model = RandomForestRegressor(random_state=12345, n_estimators=est, max_depth=depth)\n",
    "        scores = -1 * cross_val_score(model, features, target, scoring=smape_scorer, cv=5)\n",
    "        final_score = scores.mean()\n",
    "        if final_score < final_score_b:\n",
    "            final_score_b = final_score\n",
    "            best_est_f = est\n",
    "            best_depth_f = depth\n",
    "            \n",
    "# сохраняем параметры в словаре\n",
    "forest_best = {'depth':best_depth_f, 'n_estimators':best_est_f}\n",
    "print('Средняя оценка качества модели:', final_score_b)"
   ]
  },
  {
   "cell_type": "markdown",
   "metadata": {},
   "source": [
    "Лучшей оказалась модель обучающего леса, проверим ее на тестовых данных, теперь найдем необходимые значения таргета в полном датасете для тестовой выборке и проверим результаты:\n",
    "\n",
    " "
   ]
  },
  {
   "cell_type": "code",
   "execution_count": null,
   "metadata": {
    "scrolled": true
   },
   "outputs": [],
   "source": [
    "features_train = data_train.drop(df_diff, axis=1)\n",
    "features_train = features_train.drop('date', axis=1)\n",
    "features_train = scaler.transform(features_train)\n",
    "target_train = data_train[['rougher.output.recovery', 'final.output.recovery']]\n",
    "\n",
    "target_test = (\n",
    "    data_full[data_full['date']\n",
    "            .isin(data_test['date'])]\n",
    "    .reset_index(drop=True)\n",
    ")\n",
    "\n",
    "features_test = target_test.drop(df_diff, axis=1)\n",
    "features_test = features_test.drop('date', axis=1)\n",
    "features_test = scaler.transform(features_test)\n",
    "target_test = target_test[['rougher.output.recovery', 'final.output.recovery']]\n",
    "\n",
    "model = RandomForestRegressor(random_state=12345, \n",
    "                              n_estimators=forest_best['n_estimators'], \n",
    "                              max_depth=forest_best['depth'])\n",
    "model.fit(features_train, target_train)\n",
    "predicted = model.predict(features_test)\n",
    "\n",
    "sMAPE_test = sMAPE(target_test, predicted)\n",
    "print('Итоговый sMAPE на тестовой выборке:', sMAPE_test)"
   ]
  },
  {
   "cell_type": "markdown",
   "metadata": {},
   "source": [
    "Проверим модель на адекватност с помощью DummyRegressor:"
   ]
  },
  {
   "cell_type": "code",
   "execution_count": null,
   "metadata": {
    "scrolled": true
   },
   "outputs": [],
   "source": [
    "dummy_regr = DummyRegressor(strategy=\"mean\")\n",
    "dummy_regr.fit(features_train, target_train)\n",
    "predicted_dummy = dummy_regr.predict(features_test)\n",
    "\n",
    "sMAPE_dummy = sMAPE(target_test, predicted_dummy)\n",
    "print('Итоговый sMAPE на dummy:', sMAPE_dummy)"
   ]
  },
  {
   "cell_type": "markdown",
   "metadata": {},
   "source": [
    "# Вывод:"
   ]
  },
  {
   "cell_type": "markdown",
   "metadata": {},
   "source": [
    "Результат sMAPE: 7.17. Модель прошла проверку на адекватность: на тестовой выборке превосходит константную модель. \n",
    "Задачу можно считать выполненной."
   ]
  }
 ],
 "metadata": {
  "ExecuteTimeLog": [
   {
    "duration": 55,
    "start_time": "2022-11-22T06:34:25.176Z"
   },
   {
    "duration": 406,
    "start_time": "2022-11-22T06:34:28.268Z"
   },
   {
    "duration": 12,
    "start_time": "2022-11-22T06:35:11.109Z"
   },
   {
    "duration": 3008,
    "start_time": "2022-11-22T06:35:36.203Z"
   },
   {
    "duration": 226,
    "start_time": "2022-11-22T06:35:39.471Z"
   },
   {
    "duration": 1127,
    "start_time": "2022-11-22T06:43:40.882Z"
   },
   {
    "duration": 275,
    "start_time": "2022-11-22T06:43:42.011Z"
   },
   {
    "duration": 268,
    "start_time": "2022-11-22T06:43:53.238Z"
   },
   {
    "duration": 58,
    "start_time": "2022-11-22T07:18:35.824Z"
   },
   {
    "duration": 6,
    "start_time": "2022-11-22T07:18:57.160Z"
   },
   {
    "duration": 8,
    "start_time": "2022-11-22T07:20:55.992Z"
   },
   {
    "duration": 5,
    "start_time": "2022-11-22T07:23:19.454Z"
   },
   {
    "duration": 8,
    "start_time": "2022-11-22T07:23:24.377Z"
   },
   {
    "duration": 1029,
    "start_time": "2022-11-22T07:58:01.640Z"
   },
   {
    "duration": 262,
    "start_time": "2022-11-22T07:58:02.670Z"
   },
   {
    "duration": 5,
    "start_time": "2022-11-22T07:58:02.933Z"
   },
   {
    "duration": 9,
    "start_time": "2022-11-22T07:58:02.940Z"
   },
   {
    "duration": 1223,
    "start_time": "2022-11-22T08:00:56.766Z"
   },
   {
    "duration": 4,
    "start_time": "2022-11-22T08:01:05.514Z"
   },
   {
    "duration": 8,
    "start_time": "2022-11-22T08:01:08.512Z"
   },
   {
    "duration": 9,
    "start_time": "2022-11-22T08:05:53.967Z"
   },
   {
    "duration": 8,
    "start_time": "2022-11-22T08:06:56.359Z"
   },
   {
    "duration": 7,
    "start_time": "2022-11-22T08:07:15.875Z"
   },
   {
    "duration": 9,
    "start_time": "2022-11-22T08:08:05.006Z"
   },
   {
    "duration": 8,
    "start_time": "2022-11-22T08:08:07.997Z"
   },
   {
    "duration": 5,
    "start_time": "2022-11-22T08:08:25.467Z"
   },
   {
    "duration": 5,
    "start_time": "2022-11-22T08:08:32.859Z"
   },
   {
    "duration": 4,
    "start_time": "2022-11-22T08:08:46.525Z"
   },
   {
    "duration": 4,
    "start_time": "2022-11-22T08:09:00.321Z"
   },
   {
    "duration": 6,
    "start_time": "2022-11-22T08:09:04.641Z"
   },
   {
    "duration": 4,
    "start_time": "2022-11-22T08:09:09.490Z"
   },
   {
    "duration": 52,
    "start_time": "2022-11-22T08:16:49.010Z"
   },
   {
    "duration": 5,
    "start_time": "2022-11-22T08:16:52.985Z"
   },
   {
    "duration": 637,
    "start_time": "2022-11-22T08:32:12.516Z"
   },
   {
    "duration": 275,
    "start_time": "2022-11-22T08:32:13.154Z"
   },
   {
    "duration": 4,
    "start_time": "2022-11-22T08:32:13.431Z"
   },
   {
    "duration": 8,
    "start_time": "2022-11-22T08:32:13.436Z"
   },
   {
    "duration": 8,
    "start_time": "2022-11-22T08:32:13.445Z"
   },
   {
    "duration": 7,
    "start_time": "2022-11-22T08:32:13.454Z"
   },
   {
    "duration": 7,
    "start_time": "2022-11-22T08:32:37.362Z"
   },
   {
    "duration": 7,
    "start_time": "2022-11-22T08:32:42.296Z"
   },
   {
    "duration": 6,
    "start_time": "2022-11-22T08:32:50.867Z"
   },
   {
    "duration": 625,
    "start_time": "2022-11-22T08:33:27.120Z"
   },
   {
    "duration": 7,
    "start_time": "2022-11-22T08:33:33.541Z"
   },
   {
    "duration": 50,
    "start_time": "2022-11-22T08:35:03.953Z"
   },
   {
    "duration": 11,
    "start_time": "2022-11-22T08:35:07.883Z"
   },
   {
    "duration": 134,
    "start_time": "2022-11-22T09:01:20.570Z"
   },
   {
    "duration": 54,
    "start_time": "2022-11-22T09:01:24.397Z"
   },
   {
    "duration": 8,
    "start_time": "2022-11-22T09:01:30.843Z"
   },
   {
    "duration": 1249,
    "start_time": "2022-11-22T09:02:29.000Z"
   },
   {
    "duration": 45,
    "start_time": "2022-11-22T09:03:29.295Z"
   },
   {
    "duration": 6,
    "start_time": "2022-11-22T09:03:33.174Z"
   },
   {
    "duration": 244,
    "start_time": "2022-11-22T09:04:00.199Z"
   },
   {
    "duration": 5,
    "start_time": "2022-11-22T09:04:07.403Z"
   },
   {
    "duration": 3,
    "start_time": "2022-11-22T09:06:02.282Z"
   },
   {
    "duration": 5,
    "start_time": "2022-11-22T09:06:11.655Z"
   },
   {
    "duration": 3404,
    "start_time": "2022-11-22T11:34:32.608Z"
   },
   {
    "duration": 645,
    "start_time": "2022-11-22T11:35:11.297Z"
   },
   {
    "duration": 637,
    "start_time": "2022-11-22T11:35:19.984Z"
   },
   {
    "duration": 646,
    "start_time": "2022-11-22T11:35:31.596Z"
   },
   {
    "duration": 1956,
    "start_time": "2022-11-22T11:42:59.443Z"
   },
   {
    "duration": 268,
    "start_time": "2022-11-22T11:43:01.401Z"
   },
   {
    "duration": 2056,
    "start_time": "2022-11-22T12:00:22.355Z"
   },
   {
    "duration": 279,
    "start_time": "2022-11-22T12:00:24.413Z"
   },
   {
    "duration": 39732,
    "start_time": "2022-11-22T12:00:24.694Z"
   },
   {
    "duration": 8,
    "start_time": "2022-11-22T12:01:04.429Z"
   },
   {
    "duration": 5,
    "start_time": "2022-11-22T12:01:04.439Z"
   },
   {
    "duration": 5,
    "start_time": "2022-11-22T12:01:04.446Z"
   },
   {
    "duration": 20,
    "start_time": "2022-11-22T12:01:04.453Z"
   },
   {
    "duration": 5,
    "start_time": "2022-11-22T12:01:04.475Z"
   },
   {
    "duration": 665,
    "start_time": "2022-11-22T12:02:38.176Z"
   },
   {
    "duration": 2191,
    "start_time": "2022-11-22T12:05:08.136Z"
   },
   {
    "duration": 283,
    "start_time": "2022-11-22T12:05:10.329Z"
   },
   {
    "duration": 2060,
    "start_time": "2022-11-22T12:52:55.292Z"
   },
   {
    "duration": 258,
    "start_time": "2022-11-22T12:52:57.354Z"
   },
   {
    "duration": 2073,
    "start_time": "2022-11-22T13:01:09.271Z"
   },
   {
    "duration": 266,
    "start_time": "2022-11-22T13:01:11.346Z"
   },
   {
    "duration": 669,
    "start_time": "2022-11-22T13:45:15.237Z"
   },
   {
    "duration": 4569,
    "start_time": "2022-11-23T06:21:05.653Z"
   },
   {
    "duration": 269,
    "start_time": "2022-11-23T06:21:10.224Z"
   },
   {
    "duration": 2103,
    "start_time": "2022-11-23T06:30:08.162Z"
   },
   {
    "duration": 290,
    "start_time": "2022-11-23T06:30:10.267Z"
   },
   {
    "duration": 130,
    "start_time": "2022-11-23T06:30:10.560Z"
   },
   {
    "duration": 0,
    "start_time": "2022-11-23T06:30:10.692Z"
   },
   {
    "duration": 0,
    "start_time": "2022-11-23T06:30:10.693Z"
   },
   {
    "duration": 0,
    "start_time": "2022-11-23T06:30:10.695Z"
   },
   {
    "duration": 0,
    "start_time": "2022-11-23T06:30:10.696Z"
   },
   {
    "duration": 0,
    "start_time": "2022-11-23T06:30:10.697Z"
   },
   {
    "duration": 6768,
    "start_time": "2022-11-23T06:30:21.516Z"
   },
   {
    "duration": 2197,
    "start_time": "2022-11-23T06:35:27.238Z"
   },
   {
    "duration": 274,
    "start_time": "2022-11-23T06:35:29.437Z"
   },
   {
    "duration": 2069,
    "start_time": "2022-11-23T06:36:00.136Z"
   },
   {
    "duration": 282,
    "start_time": "2022-11-23T06:36:02.207Z"
   },
   {
    "duration": 2138,
    "start_time": "2022-11-23T06:46:37.124Z"
   },
   {
    "duration": 297,
    "start_time": "2022-11-23T06:46:39.264Z"
   },
   {
    "duration": 50,
    "start_time": "2022-11-23T06:46:39.563Z"
   },
   {
    "duration": 0,
    "start_time": "2022-11-23T06:46:39.615Z"
   },
   {
    "duration": 0,
    "start_time": "2022-11-23T06:46:39.616Z"
   },
   {
    "duration": 0,
    "start_time": "2022-11-23T06:46:39.619Z"
   },
   {
    "duration": 0,
    "start_time": "2022-11-23T06:46:39.620Z"
   },
   {
    "duration": 0,
    "start_time": "2022-11-23T06:46:39.621Z"
   },
   {
    "duration": 36077,
    "start_time": "2022-11-23T06:46:47.971Z"
   },
   {
    "duration": 768,
    "start_time": "2022-11-23T06:49:35.857Z"
   },
   {
    "duration": 287,
    "start_time": "2022-11-23T06:49:36.627Z"
   },
   {
    "duration": 6,
    "start_time": "2022-11-23T06:49:36.915Z"
   },
   {
    "duration": 9,
    "start_time": "2022-11-23T06:49:36.922Z"
   },
   {
    "duration": 11,
    "start_time": "2022-11-23T06:49:36.933Z"
   },
   {
    "duration": 26,
    "start_time": "2022-11-23T06:49:36.945Z"
   },
   {
    "duration": 5,
    "start_time": "2022-11-23T06:49:36.972Z"
   },
   {
    "duration": 4,
    "start_time": "2022-11-23T06:59:36.768Z"
   },
   {
    "duration": 48,
    "start_time": "2022-11-23T08:12:26.716Z"
   },
   {
    "duration": 2033,
    "start_time": "2022-11-23T08:12:31.836Z"
   },
   {
    "duration": 298,
    "start_time": "2022-11-23T08:12:33.871Z"
   },
   {
    "duration": 6,
    "start_time": "2022-11-23T08:12:34.172Z"
   },
   {
    "duration": 10,
    "start_time": "2022-11-23T08:12:34.181Z"
   },
   {
    "duration": 20,
    "start_time": "2022-11-23T08:12:34.193Z"
   },
   {
    "duration": 22,
    "start_time": "2022-11-23T08:12:34.214Z"
   },
   {
    "duration": 38,
    "start_time": "2022-11-23T08:12:34.237Z"
   },
   {
    "duration": 5,
    "start_time": "2022-11-23T08:12:34.277Z"
   },
   {
    "duration": 82,
    "start_time": "2022-11-23T08:35:58.333Z"
   },
   {
    "duration": 282,
    "start_time": "2022-11-23T08:37:20.961Z"
   },
   {
    "duration": 445,
    "start_time": "2022-11-23T08:38:26.216Z"
   },
   {
    "duration": 131,
    "start_time": "2022-11-23T08:38:32.096Z"
   },
   {
    "duration": 9,
    "start_time": "2022-11-23T08:52:13.220Z"
   },
   {
    "duration": 85,
    "start_time": "2022-11-23T08:52:29.105Z"
   },
   {
    "duration": 289,
    "start_time": "2022-11-23T08:52:48.427Z"
   },
   {
    "duration": 319,
    "start_time": "2022-11-23T08:53:04.701Z"
   },
   {
    "duration": 35088,
    "start_time": "2022-11-23T08:54:58.238Z"
   },
   {
    "duration": 52,
    "start_time": "2022-11-24T06:02:57.728Z"
   },
   {
    "duration": 4541,
    "start_time": "2022-11-24T06:03:02.300Z"
   },
   {
    "duration": 311,
    "start_time": "2022-11-24T06:03:06.843Z"
   },
   {
    "duration": 6,
    "start_time": "2022-11-24T06:03:07.156Z"
   },
   {
    "duration": 8,
    "start_time": "2022-11-24T06:03:07.164Z"
   },
   {
    "duration": 10,
    "start_time": "2022-11-24T06:03:07.175Z"
   },
   {
    "duration": 25,
    "start_time": "2022-11-24T06:03:07.187Z"
   },
   {
    "duration": 5,
    "start_time": "2022-11-24T06:03:07.214Z"
   },
   {
    "duration": 13,
    "start_time": "2022-11-24T06:03:07.220Z"
   },
   {
    "duration": 40395,
    "start_time": "2022-11-24T06:03:07.235Z"
   },
   {
    "duration": 55,
    "start_time": "2022-11-24T06:04:18.655Z"
   },
   {
    "duration": 4,
    "start_time": "2022-11-24T06:04:28.045Z"
   },
   {
    "duration": 3,
    "start_time": "2022-11-24T06:04:28.926Z"
   },
   {
    "duration": 2,
    "start_time": "2022-11-24T06:19:57.539Z"
   },
   {
    "duration": 7,
    "start_time": "2022-11-24T06:27:18.803Z"
   },
   {
    "duration": 63,
    "start_time": "2022-11-24T06:30:55.798Z"
   },
   {
    "duration": 40,
    "start_time": "2022-11-24T06:36:13.468Z"
   },
   {
    "duration": 21,
    "start_time": "2022-11-24T06:36:29.357Z"
   },
   {
    "duration": 32,
    "start_time": "2022-11-24T06:42:15.671Z"
   },
   {
    "duration": 58,
    "start_time": "2022-11-24T07:48:40.269Z"
   },
   {
    "duration": 57,
    "start_time": "2022-11-24T10:48:40.366Z"
   },
   {
    "duration": 3577,
    "start_time": "2022-11-24T10:48:47.680Z"
   },
   {
    "duration": 254,
    "start_time": "2022-11-24T10:48:51.259Z"
   },
   {
    "duration": 6,
    "start_time": "2022-11-24T10:48:51.514Z"
   },
   {
    "duration": 8,
    "start_time": "2022-11-24T10:48:51.521Z"
   },
   {
    "duration": 7,
    "start_time": "2022-11-24T10:48:51.531Z"
   },
   {
    "duration": 13,
    "start_time": "2022-11-24T10:48:51.540Z"
   },
   {
    "duration": 4,
    "start_time": "2022-11-24T10:48:51.555Z"
   },
   {
    "duration": 7,
    "start_time": "2022-11-24T10:48:51.560Z"
   },
   {
    "duration": 63,
    "start_time": "2022-11-24T10:48:51.569Z"
   },
   {
    "duration": 39,
    "start_time": "2022-11-24T10:48:51.634Z"
   },
   {
    "duration": 10,
    "start_time": "2022-11-24T10:48:51.674Z"
   },
   {
    "duration": 27,
    "start_time": "2022-11-24T10:48:51.686Z"
   },
   {
    "duration": 4,
    "start_time": "2022-11-24T10:49:05.326Z"
   },
   {
    "duration": 5,
    "start_time": "2022-11-24T10:51:15.723Z"
   },
   {
    "duration": 7,
    "start_time": "2022-11-24T10:52:29.643Z"
   },
   {
    "duration": 7,
    "start_time": "2022-11-24T10:52:47.106Z"
   },
   {
    "duration": 8,
    "start_time": "2022-11-24T10:54:03.449Z"
   },
   {
    "duration": 9,
    "start_time": "2022-11-24T10:54:26.432Z"
   },
   {
    "duration": 75,
    "start_time": "2022-11-24T10:54:42.101Z"
   },
   {
    "duration": 9,
    "start_time": "2022-11-24T10:54:50.288Z"
   },
   {
    "duration": 7,
    "start_time": "2022-11-24T10:55:07.561Z"
   },
   {
    "duration": 10,
    "start_time": "2022-11-24T10:55:40.201Z"
   },
   {
    "duration": 9,
    "start_time": "2022-11-24T10:55:46.675Z"
   },
   {
    "duration": 84,
    "start_time": "2022-11-24T10:59:02.183Z"
   },
   {
    "duration": 75,
    "start_time": "2022-11-24T10:59:29.868Z"
   },
   {
    "duration": 69,
    "start_time": "2022-11-24T10:59:47.872Z"
   },
   {
    "duration": 11,
    "start_time": "2022-11-24T10:59:57.807Z"
   },
   {
    "duration": 19,
    "start_time": "2022-11-24T11:00:06.251Z"
   },
   {
    "duration": 10,
    "start_time": "2022-11-24T11:00:38.786Z"
   },
   {
    "duration": 11,
    "start_time": "2022-11-24T11:01:22.994Z"
   },
   {
    "duration": 14,
    "start_time": "2022-11-24T11:01:49.214Z"
   },
   {
    "duration": 11,
    "start_time": "2022-11-24T11:02:07.636Z"
   },
   {
    "duration": 135,
    "start_time": "2022-11-24T11:02:33.994Z"
   },
   {
    "duration": 109,
    "start_time": "2022-11-24T11:03:52.526Z"
   },
   {
    "duration": 103,
    "start_time": "2022-11-24T11:04:24.495Z"
   },
   {
    "duration": 123,
    "start_time": "2022-11-24T11:10:15.629Z"
   },
   {
    "duration": 194,
    "start_time": "2022-11-24T11:13:42.590Z"
   },
   {
    "duration": 10,
    "start_time": "2022-11-24T11:14:26.896Z"
   },
   {
    "duration": 17,
    "start_time": "2022-11-24T11:14:30.245Z"
   },
   {
    "duration": 19,
    "start_time": "2022-11-24T11:17:42.219Z"
   },
   {
    "duration": 22,
    "start_time": "2022-11-24T11:18:49.217Z"
   },
   {
    "duration": 21,
    "start_time": "2022-11-24T11:18:52.215Z"
   },
   {
    "duration": 16,
    "start_time": "2022-11-24T11:23:29.705Z"
   },
   {
    "duration": 15,
    "start_time": "2022-11-24T11:23:55.722Z"
   },
   {
    "duration": 16,
    "start_time": "2022-11-24T11:25:22.160Z"
   },
   {
    "duration": 15,
    "start_time": "2022-11-24T11:25:41.502Z"
   },
   {
    "duration": 12,
    "start_time": "2022-11-24T11:49:17.043Z"
   },
   {
    "duration": 11,
    "start_time": "2022-11-24T11:50:02.553Z"
   },
   {
    "duration": 15,
    "start_time": "2022-11-24T11:50:24.705Z"
   },
   {
    "duration": 101,
    "start_time": "2022-11-24T11:50:29.182Z"
   },
   {
    "duration": 69,
    "start_time": "2022-11-24T11:51:52.057Z"
   },
   {
    "duration": 102,
    "start_time": "2022-11-24T11:52:07.401Z"
   },
   {
    "duration": 72,
    "start_time": "2022-11-24T11:52:12.463Z"
   },
   {
    "duration": 70,
    "start_time": "2022-11-24T11:52:38.543Z"
   },
   {
    "duration": 153,
    "start_time": "2022-11-24T11:52:45.620Z"
   },
   {
    "duration": 76,
    "start_time": "2022-11-24T11:54:47.719Z"
   },
   {
    "duration": 17,
    "start_time": "2022-11-24T11:54:53.276Z"
   },
   {
    "duration": 127,
    "start_time": "2022-11-24T11:54:56.313Z"
   },
   {
    "duration": 15,
    "start_time": "2022-11-24T11:55:09.392Z"
   },
   {
    "duration": 16,
    "start_time": "2022-11-24T11:55:41.963Z"
   },
   {
    "duration": 18,
    "start_time": "2022-11-24T11:55:53.041Z"
   },
   {
    "duration": 18,
    "start_time": "2022-11-24T11:56:43.307Z"
   },
   {
    "duration": 16,
    "start_time": "2022-11-24T11:57:08.189Z"
   },
   {
    "duration": 16,
    "start_time": "2022-11-24T11:57:52.037Z"
   },
   {
    "duration": 1888,
    "start_time": "2022-11-24T12:08:42.486Z"
   },
   {
    "duration": 255,
    "start_time": "2022-11-24T12:08:44.376Z"
   },
   {
    "duration": 5,
    "start_time": "2022-11-24T12:08:44.633Z"
   },
   {
    "duration": 5,
    "start_time": "2022-11-24T12:08:44.641Z"
   },
   {
    "duration": 5,
    "start_time": "2022-11-24T12:08:44.648Z"
   },
   {
    "duration": 26,
    "start_time": "2022-11-24T12:08:44.655Z"
   },
   {
    "duration": 31,
    "start_time": "2022-11-24T12:08:44.683Z"
   },
   {
    "duration": 3,
    "start_time": "2022-11-24T12:08:44.716Z"
   },
   {
    "duration": 41,
    "start_time": "2022-11-24T12:08:44.721Z"
   },
   {
    "duration": 59,
    "start_time": "2022-11-24T12:08:44.765Z"
   },
   {
    "duration": 11,
    "start_time": "2022-11-24T12:08:44.826Z"
   },
   {
    "duration": 22,
    "start_time": "2022-11-24T12:08:44.839Z"
   },
   {
    "duration": 232,
    "start_time": "2022-11-24T12:08:44.863Z"
   },
   {
    "duration": 15,
    "start_time": "2022-11-24T12:12:30.714Z"
   },
   {
    "duration": 5428,
    "start_time": "2022-11-24T12:12:41.612Z"
   },
   {
    "duration": 43,
    "start_time": "2022-11-24T12:13:04.128Z"
   },
   {
    "duration": 3402,
    "start_time": "2022-11-24T12:13:16.262Z"
   },
   {
    "duration": 243,
    "start_time": "2022-11-24T12:13:19.666Z"
   },
   {
    "duration": 6,
    "start_time": "2022-11-24T12:13:19.911Z"
   },
   {
    "duration": 6,
    "start_time": "2022-11-24T12:13:19.919Z"
   },
   {
    "duration": 6,
    "start_time": "2022-11-24T12:13:19.926Z"
   },
   {
    "duration": 12,
    "start_time": "2022-11-24T12:13:19.934Z"
   },
   {
    "duration": 4,
    "start_time": "2022-11-24T12:13:19.948Z"
   },
   {
    "duration": 5,
    "start_time": "2022-11-24T12:13:19.953Z"
   },
   {
    "duration": 68,
    "start_time": "2022-11-24T12:13:19.959Z"
   },
   {
    "duration": 35,
    "start_time": "2022-11-24T12:13:20.030Z"
   },
   {
    "duration": 10,
    "start_time": "2022-11-24T12:13:20.067Z"
   },
   {
    "duration": 3228,
    "start_time": "2022-11-24T12:13:20.078Z"
   },
   {
    "duration": 445,
    "start_time": "2022-11-24T12:14:06.065Z"
   },
   {
    "duration": 86,
    "start_time": "2022-11-24T12:19:30.304Z"
   },
   {
    "duration": 103,
    "start_time": "2022-11-24T12:19:35.347Z"
   },
   {
    "duration": 327,
    "start_time": "2022-11-24T12:19:41.275Z"
   },
   {
    "duration": 76,
    "start_time": "2022-11-24T12:21:12.162Z"
   },
   {
    "duration": 400,
    "start_time": "2022-11-24T12:21:17.329Z"
   },
   {
    "duration": 361,
    "start_time": "2022-11-24T12:21:47.792Z"
   },
   {
    "duration": 16,
    "start_time": "2022-11-24T12:30:46.682Z"
   },
   {
    "duration": 6763,
    "start_time": "2022-11-24T12:32:13.778Z"
   },
   {
    "duration": 1504,
    "start_time": "2022-11-24T12:36:29.592Z"
   },
   {
    "duration": 425,
    "start_time": "2022-11-24T12:37:20.774Z"
   },
   {
    "duration": 76,
    "start_time": "2022-11-24T12:37:31.134Z"
   },
   {
    "duration": 590,
    "start_time": "2022-11-24T12:37:37.318Z"
   },
   {
    "duration": 2,
    "start_time": "2022-11-24T12:38:45.073Z"
   },
   {
    "duration": 3,
    "start_time": "2022-11-24T12:39:32.717Z"
   },
   {
    "duration": 6,
    "start_time": "2022-11-24T12:39:42.855Z"
   },
   {
    "duration": 6,
    "start_time": "2022-11-24T12:40:09.442Z"
   },
   {
    "duration": 7,
    "start_time": "2022-11-24T12:40:25.352Z"
   },
   {
    "duration": 9,
    "start_time": "2022-11-24T12:41:26.653Z"
   },
   {
    "duration": 15,
    "start_time": "2022-11-24T12:41:32.726Z"
   },
   {
    "duration": 6,
    "start_time": "2022-11-24T12:42:53.703Z"
   },
   {
    "duration": 15,
    "start_time": "2022-11-24T12:43:04.040Z"
   },
   {
    "duration": 13,
    "start_time": "2022-11-24T12:56:30.885Z"
   },
   {
    "duration": 13,
    "start_time": "2022-11-24T13:00:58.855Z"
   },
   {
    "duration": 394,
    "start_time": "2022-11-24T13:03:05.234Z"
   },
   {
    "duration": 1154,
    "start_time": "2022-11-24T13:03:42.659Z"
   },
   {
    "duration": 1135,
    "start_time": "2022-11-24T13:07:00.878Z"
   },
   {
    "duration": 67,
    "start_time": "2022-11-24T13:07:24.879Z"
   },
   {
    "duration": 126,
    "start_time": "2022-11-24T13:07:28.218Z"
   },
   {
    "duration": 1084,
    "start_time": "2022-11-24T13:07:56.219Z"
   },
   {
    "duration": 342,
    "start_time": "2022-11-24T13:18:24.102Z"
   },
   {
    "duration": 13,
    "start_time": "2022-11-24T13:21:52.032Z"
   },
   {
    "duration": 1023,
    "start_time": "2022-11-24T13:22:13.792Z"
   },
   {
    "duration": 1144,
    "start_time": "2022-11-24T13:23:09.194Z"
   },
   {
    "duration": 440,
    "start_time": "2022-11-24T13:23:26.155Z"
   },
   {
    "duration": 47,
    "start_time": "2022-11-25T07:17:11.872Z"
   },
   {
    "duration": 3402,
    "start_time": "2022-11-25T07:17:16.079Z"
   },
   {
    "duration": 244,
    "start_time": "2022-11-25T07:17:19.483Z"
   },
   {
    "duration": 7,
    "start_time": "2022-11-25T07:17:19.729Z"
   },
   {
    "duration": 10,
    "start_time": "2022-11-25T07:17:19.738Z"
   },
   {
    "duration": 10,
    "start_time": "2022-11-25T07:17:19.749Z"
   },
   {
    "duration": 22,
    "start_time": "2022-11-25T07:17:19.760Z"
   },
   {
    "duration": 23,
    "start_time": "2022-11-25T07:17:19.783Z"
   },
   {
    "duration": 10,
    "start_time": "2022-11-25T07:17:19.807Z"
   },
   {
    "duration": 35,
    "start_time": "2022-11-25T07:17:19.818Z"
   },
   {
    "duration": 50,
    "start_time": "2022-11-25T07:17:19.855Z"
   },
   {
    "duration": 11,
    "start_time": "2022-11-25T07:17:19.907Z"
   },
   {
    "duration": 174,
    "start_time": "2022-11-25T07:17:19.919Z"
   },
   {
    "duration": 0,
    "start_time": "2022-11-25T07:17:20.095Z"
   },
   {
    "duration": 95,
    "start_time": "2022-11-25T07:17:41.234Z"
   },
   {
    "duration": 1136,
    "start_time": "2022-11-25T07:18:03.284Z"
   },
   {
    "duration": 93,
    "start_time": "2022-11-25T07:23:40.041Z"
   },
   {
    "duration": 486,
    "start_time": "2022-11-25T07:23:46.766Z"
   },
   {
    "duration": 10,
    "start_time": "2022-11-25T07:32:27.168Z"
   },
   {
    "duration": 80,
    "start_time": "2022-11-25T07:34:03.846Z"
   },
   {
    "duration": 75,
    "start_time": "2022-11-25T07:34:08.457Z"
   },
   {
    "duration": 100,
    "start_time": "2022-11-25T07:34:19.348Z"
   },
   {
    "duration": 77,
    "start_time": "2022-11-25T07:34:37.585Z"
   },
   {
    "duration": 17,
    "start_time": "2022-11-25T07:34:50.258Z"
   },
   {
    "duration": 89,
    "start_time": "2022-11-25T07:35:00.410Z"
   },
   {
    "duration": 3,
    "start_time": "2022-11-25T07:35:37.967Z"
   },
   {
    "duration": 191,
    "start_time": "2022-11-25T07:36:50.199Z"
   },
   {
    "duration": 219,
    "start_time": "2022-11-25T07:38:54.712Z"
   },
   {
    "duration": 456,
    "start_time": "2022-11-25T07:39:14.927Z"
   },
   {
    "duration": 1170,
    "start_time": "2022-11-25T07:39:32.858Z"
   },
   {
    "duration": 6,
    "start_time": "2022-11-25T07:40:12.610Z"
   },
   {
    "duration": 232,
    "start_time": "2022-11-25T07:40:14.965Z"
   },
   {
    "duration": 1332,
    "start_time": "2022-11-25T07:40:19.031Z"
   },
   {
    "duration": 497,
    "start_time": "2022-11-25T07:44:18.817Z"
   },
   {
    "duration": 414,
    "start_time": "2022-11-25T07:45:33.225Z"
   },
   {
    "duration": 586,
    "start_time": "2022-11-25T07:45:41.848Z"
   },
   {
    "duration": 413,
    "start_time": "2022-11-25T07:45:50.918Z"
   },
   {
    "duration": 383,
    "start_time": "2022-11-25T07:47:02.029Z"
   },
   {
    "duration": 373,
    "start_time": "2022-11-25T07:47:14.766Z"
   },
   {
    "duration": 71,
    "start_time": "2022-11-25T07:47:31.680Z"
   },
   {
    "duration": 483,
    "start_time": "2022-11-25T07:47:35.545Z"
   },
   {
    "duration": 71,
    "start_time": "2022-11-25T07:53:30.294Z"
   },
   {
    "duration": 10,
    "start_time": "2022-11-25T07:53:34.359Z"
   },
   {
    "duration": 11,
    "start_time": "2022-11-25T07:54:04.999Z"
   },
   {
    "duration": 583,
    "start_time": "2022-11-25T07:56:07.469Z"
   },
   {
    "duration": 1533,
    "start_time": "2022-11-25T07:57:06.119Z"
   },
   {
    "duration": 1604,
    "start_time": "2022-11-25T07:57:30.946Z"
   },
   {
    "duration": 1687,
    "start_time": "2022-11-25T07:58:26.150Z"
   },
   {
    "duration": 412,
    "start_time": "2022-11-25T08:01:25.763Z"
   },
   {
    "duration": 419,
    "start_time": "2022-11-25T08:02:11.632Z"
   },
   {
    "duration": 10,
    "start_time": "2022-11-25T08:02:46.429Z"
   },
   {
    "duration": 586,
    "start_time": "2022-11-25T08:02:51.792Z"
   },
   {
    "duration": 156,
    "start_time": "2022-11-25T08:22:23.552Z"
   },
   {
    "duration": 153,
    "start_time": "2022-11-25T08:22:42.386Z"
   },
   {
    "duration": 154,
    "start_time": "2022-11-25T08:22:48.787Z"
   },
   {
    "duration": 203,
    "start_time": "2022-11-25T08:23:31.439Z"
   },
   {
    "duration": 209,
    "start_time": "2022-11-25T08:23:56.536Z"
   },
   {
    "duration": 302,
    "start_time": "2022-11-25T08:24:17.876Z"
   },
   {
    "duration": 1271,
    "start_time": "2022-11-25T09:28:54.191Z"
   },
   {
    "duration": 14,
    "start_time": "2022-11-25T09:30:30.822Z"
   },
   {
    "duration": 12,
    "start_time": "2022-11-25T09:46:46.455Z"
   },
   {
    "duration": 12,
    "start_time": "2022-11-25T09:47:25.375Z"
   },
   {
    "duration": 13,
    "start_time": "2022-11-25T09:47:32.176Z"
   },
   {
    "duration": 12,
    "start_time": "2022-11-25T09:48:10.933Z"
   },
   {
    "duration": 16,
    "start_time": "2022-11-25T09:48:23.143Z"
   },
   {
    "duration": 21,
    "start_time": "2022-11-25T09:48:28.696Z"
   },
   {
    "duration": 205,
    "start_time": "2022-11-25T09:49:58.049Z"
   },
   {
    "duration": 172,
    "start_time": "2022-11-25T09:51:14.178Z"
   },
   {
    "duration": 195,
    "start_time": "2022-11-25T09:51:23.060Z"
   },
   {
    "duration": 375,
    "start_time": "2022-11-25T09:55:40.176Z"
   },
   {
    "duration": 402,
    "start_time": "2022-11-25T09:57:25.492Z"
   },
   {
    "duration": 9,
    "start_time": "2022-11-25T13:19:27.886Z"
   },
   {
    "duration": 46,
    "start_time": "2022-11-25T13:19:31.125Z"
   },
   {
    "duration": 7,
    "start_time": "2022-11-25T13:19:44.254Z"
   },
   {
    "duration": 3634,
    "start_time": "2022-11-25T13:20:16.593Z"
   },
   {
    "duration": 261,
    "start_time": "2022-11-25T13:20:20.229Z"
   },
   {
    "duration": 6,
    "start_time": "2022-11-25T13:20:20.492Z"
   },
   {
    "duration": 6,
    "start_time": "2022-11-25T13:20:20.499Z"
   },
   {
    "duration": 10,
    "start_time": "2022-11-25T13:20:20.507Z"
   },
   {
    "duration": 20,
    "start_time": "2022-11-25T13:20:20.519Z"
   },
   {
    "duration": 5,
    "start_time": "2022-11-25T13:20:20.541Z"
   },
   {
    "duration": 30,
    "start_time": "2022-11-25T13:20:20.548Z"
   },
   {
    "duration": 32,
    "start_time": "2022-11-25T13:20:20.580Z"
   },
   {
    "duration": 66,
    "start_time": "2022-11-25T13:20:20.614Z"
   },
   {
    "duration": 11,
    "start_time": "2022-11-25T13:20:20.682Z"
   },
   {
    "duration": 18,
    "start_time": "2022-11-25T13:20:20.695Z"
   },
   {
    "duration": 254,
    "start_time": "2022-11-25T13:20:20.716Z"
   },
   {
    "duration": 411,
    "start_time": "2022-11-25T13:20:20.972Z"
   },
   {
    "duration": 375,
    "start_time": "2022-11-25T13:20:21.385Z"
   },
   {
    "duration": 458,
    "start_time": "2022-11-25T13:20:21.761Z"
   },
   {
    "duration": 227,
    "start_time": "2022-11-25T13:20:22.222Z"
   },
   {
    "duration": 30,
    "start_time": "2022-11-25T13:20:22.451Z"
   },
   {
    "duration": 185,
    "start_time": "2022-11-25T13:20:22.483Z"
   },
   {
    "duration": 163,
    "start_time": "2022-11-25T13:20:22.670Z"
   },
   {
    "duration": 177,
    "start_time": "2022-11-25T13:20:22.835Z"
   },
   {
    "duration": 401,
    "start_time": "2022-11-25T13:20:23.014Z"
   },
   {
    "duration": 5,
    "start_time": "2022-11-25T13:20:23.417Z"
   },
   {
    "duration": 95,
    "start_time": "2022-11-25T13:20:23.424Z"
   },
   {
    "duration": 0,
    "start_time": "2022-11-25T13:20:23.521Z"
   },
   {
    "duration": 80,
    "start_time": "2022-11-25T14:24:26.415Z"
   },
   {
    "duration": 674,
    "start_time": "2022-11-25T14:24:33.794Z"
   },
   {
    "duration": 62,
    "start_time": "2022-11-25T14:24:43.923Z"
   },
   {
    "duration": 74,
    "start_time": "2022-11-25T14:25:36.269Z"
   },
   {
    "duration": 678,
    "start_time": "2022-11-25T14:25:41.967Z"
   },
   {
    "duration": 56,
    "start_time": "2022-11-25T14:27:13.476Z"
   },
   {
    "duration": 25,
    "start_time": "2022-11-25T14:27:50.303Z"
   },
   {
    "duration": 865,
    "start_time": "2022-11-25T14:44:14.982Z"
   },
   {
    "duration": 619,
    "start_time": "2022-11-25T14:45:14.768Z"
   },
   {
    "duration": 48,
    "start_time": "2022-11-25T19:51:57.569Z"
   },
   {
    "duration": 3687,
    "start_time": "2022-11-25T19:52:02.709Z"
   },
   {
    "duration": 261,
    "start_time": "2022-11-25T19:52:06.399Z"
   },
   {
    "duration": 7,
    "start_time": "2022-11-25T19:52:06.662Z"
   },
   {
    "duration": 10,
    "start_time": "2022-11-25T19:52:06.671Z"
   },
   {
    "duration": 32,
    "start_time": "2022-11-25T19:52:06.683Z"
   },
   {
    "duration": 15,
    "start_time": "2022-11-25T19:52:06.716Z"
   },
   {
    "duration": 17,
    "start_time": "2022-11-25T19:52:06.732Z"
   },
   {
    "duration": 22,
    "start_time": "2022-11-25T19:52:06.751Z"
   },
   {
    "duration": 47,
    "start_time": "2022-11-25T19:52:06.775Z"
   },
   {
    "duration": 38,
    "start_time": "2022-11-25T19:52:06.824Z"
   },
   {
    "duration": 10,
    "start_time": "2022-11-25T19:52:06.863Z"
   },
   {
    "duration": 3,
    "start_time": "2022-11-25T19:52:06.875Z"
   },
   {
    "duration": 240,
    "start_time": "2022-11-25T19:52:06.880Z"
   },
   {
    "duration": 401,
    "start_time": "2022-11-25T19:52:07.123Z"
   },
   {
    "duration": 485,
    "start_time": "2022-11-25T19:52:07.526Z"
   },
   {
    "duration": 380,
    "start_time": "2022-11-25T19:52:08.013Z"
   },
   {
    "duration": 229,
    "start_time": "2022-11-25T19:52:08.395Z"
   },
   {
    "duration": 21,
    "start_time": "2022-11-25T19:52:08.626Z"
   },
   {
    "duration": 216,
    "start_time": "2022-11-25T19:52:08.649Z"
   },
   {
    "duration": 183,
    "start_time": "2022-11-25T19:52:08.867Z"
   },
   {
    "duration": 182,
    "start_time": "2022-11-25T19:52:09.052Z"
   },
   {
    "duration": 477,
    "start_time": "2022-11-25T19:52:09.236Z"
   },
   {
    "duration": 7,
    "start_time": "2022-11-25T19:52:09.715Z"
   },
   {
    "duration": 35,
    "start_time": "2022-11-25T19:52:09.723Z"
   },
   {
    "duration": 3,
    "start_time": "2022-11-25T19:52:09.759Z"
   },
   {
    "duration": 118,
    "start_time": "2022-11-25T19:52:09.764Z"
   },
   {
    "duration": 0,
    "start_time": "2022-11-25T19:52:09.883Z"
   },
   {
    "duration": 15,
    "start_time": "2022-11-25T19:55:06.407Z"
   },
   {
    "duration": 2240,
    "start_time": "2022-11-25T20:00:23.968Z"
   },
   {
    "duration": 282,
    "start_time": "2022-11-25T20:00:26.210Z"
   },
   {
    "duration": 7,
    "start_time": "2022-11-25T20:00:26.493Z"
   },
   {
    "duration": 6,
    "start_time": "2022-11-25T20:00:26.502Z"
   },
   {
    "duration": 18,
    "start_time": "2022-11-25T20:00:26.510Z"
   },
   {
    "duration": 23,
    "start_time": "2022-11-25T20:00:26.533Z"
   },
   {
    "duration": 8,
    "start_time": "2022-11-25T20:00:26.558Z"
   },
   {
    "duration": 7,
    "start_time": "2022-11-25T20:00:26.568Z"
   },
   {
    "duration": 61,
    "start_time": "2022-11-25T20:00:26.577Z"
   },
   {
    "duration": 37,
    "start_time": "2022-11-25T20:00:26.641Z"
   },
   {
    "duration": 12,
    "start_time": "2022-11-25T20:00:26.679Z"
   },
   {
    "duration": 4,
    "start_time": "2022-11-25T20:00:26.692Z"
   },
   {
    "duration": 262,
    "start_time": "2022-11-25T20:00:26.697Z"
   },
   {
    "duration": 443,
    "start_time": "2022-11-25T20:00:26.962Z"
   },
   {
    "duration": 478,
    "start_time": "2022-11-25T20:00:27.407Z"
   },
   {
    "duration": 387,
    "start_time": "2022-11-25T20:00:27.890Z"
   },
   {
    "duration": 233,
    "start_time": "2022-11-25T20:00:28.278Z"
   },
   {
    "duration": 27,
    "start_time": "2022-11-25T20:00:28.512Z"
   },
   {
    "duration": 204,
    "start_time": "2022-11-25T20:00:28.541Z"
   },
   {
    "duration": 162,
    "start_time": "2022-11-25T20:00:28.747Z"
   },
   {
    "duration": 186,
    "start_time": "2022-11-25T20:00:28.911Z"
   },
   {
    "duration": 509,
    "start_time": "2022-11-25T20:00:29.099Z"
   },
   {
    "duration": 5,
    "start_time": "2022-11-25T20:00:29.609Z"
   },
   {
    "duration": 45,
    "start_time": "2022-11-25T20:00:29.622Z"
   },
   {
    "duration": 3,
    "start_time": "2022-11-25T20:00:29.669Z"
   },
   {
    "duration": 2183,
    "start_time": "2022-11-25T20:03:52.809Z"
   },
   {
    "duration": 284,
    "start_time": "2022-11-25T20:03:54.994Z"
   },
   {
    "duration": 6,
    "start_time": "2022-11-25T20:03:55.279Z"
   },
   {
    "duration": 7,
    "start_time": "2022-11-25T20:03:55.287Z"
   },
   {
    "duration": 10,
    "start_time": "2022-11-25T20:03:55.296Z"
   },
   {
    "duration": 31,
    "start_time": "2022-11-25T20:03:55.308Z"
   },
   {
    "duration": 5,
    "start_time": "2022-11-25T20:03:55.341Z"
   },
   {
    "duration": 5,
    "start_time": "2022-11-25T20:03:55.348Z"
   },
   {
    "duration": 38,
    "start_time": "2022-11-25T20:03:55.355Z"
   },
   {
    "duration": 64,
    "start_time": "2022-11-25T20:03:55.394Z"
   },
   {
    "duration": 11,
    "start_time": "2022-11-25T20:03:55.459Z"
   },
   {
    "duration": 7,
    "start_time": "2022-11-25T20:03:55.472Z"
   },
   {
    "duration": 245,
    "start_time": "2022-11-25T20:03:55.481Z"
   },
   {
    "duration": 452,
    "start_time": "2022-11-25T20:03:55.728Z"
   },
   {
    "duration": 459,
    "start_time": "2022-11-25T20:03:56.182Z"
   },
   {
    "duration": 366,
    "start_time": "2022-11-25T20:03:56.642Z"
   },
   {
    "duration": 226,
    "start_time": "2022-11-25T20:03:57.010Z"
   },
   {
    "duration": 20,
    "start_time": "2022-11-25T20:03:57.238Z"
   },
   {
    "duration": 175,
    "start_time": "2022-11-25T20:03:57.259Z"
   },
   {
    "duration": 170,
    "start_time": "2022-11-25T20:03:57.435Z"
   },
   {
    "duration": 182,
    "start_time": "2022-11-25T20:03:57.607Z"
   },
   {
    "duration": 486,
    "start_time": "2022-11-25T20:03:57.791Z"
   },
   {
    "duration": 5,
    "start_time": "2022-11-25T20:03:58.279Z"
   },
   {
    "duration": 36,
    "start_time": "2022-11-25T20:03:58.286Z"
   },
   {
    "duration": 3,
    "start_time": "2022-11-25T20:03:58.323Z"
   },
   {
    "duration": 118,
    "start_time": "2022-11-25T20:03:58.327Z"
   },
   {
    "duration": 2305,
    "start_time": "2022-11-25T20:04:52.181Z"
   },
   {
    "duration": 261,
    "start_time": "2022-11-25T20:04:54.488Z"
   },
   {
    "duration": 6,
    "start_time": "2022-11-25T20:04:54.751Z"
   },
   {
    "duration": 7,
    "start_time": "2022-11-25T20:04:54.759Z"
   },
   {
    "duration": 10,
    "start_time": "2022-11-25T20:04:54.768Z"
   },
   {
    "duration": 17,
    "start_time": "2022-11-25T20:04:54.779Z"
   },
   {
    "duration": 5,
    "start_time": "2022-11-25T20:04:54.822Z"
   },
   {
    "duration": 7,
    "start_time": "2022-11-25T20:04:54.828Z"
   },
   {
    "duration": 34,
    "start_time": "2022-11-25T20:04:54.837Z"
   },
   {
    "duration": 57,
    "start_time": "2022-11-25T20:04:54.873Z"
   },
   {
    "duration": 15,
    "start_time": "2022-11-25T20:04:54.931Z"
   },
   {
    "duration": 6,
    "start_time": "2022-11-25T20:04:54.948Z"
   },
   {
    "duration": 235,
    "start_time": "2022-11-25T20:04:54.956Z"
   },
   {
    "duration": 435,
    "start_time": "2022-11-25T20:04:55.194Z"
   },
   {
    "duration": 510,
    "start_time": "2022-11-25T20:04:55.631Z"
   },
   {
    "duration": 414,
    "start_time": "2022-11-25T20:04:56.143Z"
   },
   {
    "duration": 239,
    "start_time": "2022-11-25T20:04:56.559Z"
   },
   {
    "duration": 26,
    "start_time": "2022-11-25T20:04:56.799Z"
   },
   {
    "duration": 193,
    "start_time": "2022-11-25T20:04:56.827Z"
   },
   {
    "duration": 162,
    "start_time": "2022-11-25T20:04:57.022Z"
   },
   {
    "duration": 189,
    "start_time": "2022-11-25T20:04:57.186Z"
   },
   {
    "duration": 489,
    "start_time": "2022-11-25T20:04:57.377Z"
   },
   {
    "duration": 4,
    "start_time": "2022-11-25T20:04:57.868Z"
   },
   {
    "duration": 33,
    "start_time": "2022-11-25T20:04:57.874Z"
   },
   {
    "duration": 13,
    "start_time": "2022-11-25T20:04:57.909Z"
   },
   {
    "duration": 2138,
    "start_time": "2022-11-25T20:18:46.658Z"
   },
   {
    "duration": 291,
    "start_time": "2022-11-25T20:18:48.798Z"
   },
   {
    "duration": 6,
    "start_time": "2022-11-25T20:18:49.091Z"
   },
   {
    "duration": 14,
    "start_time": "2022-11-25T20:18:49.100Z"
   },
   {
    "duration": 15,
    "start_time": "2022-11-25T20:18:49.116Z"
   },
   {
    "duration": 15,
    "start_time": "2022-11-25T20:18:49.133Z"
   },
   {
    "duration": 5,
    "start_time": "2022-11-25T20:18:49.150Z"
   },
   {
    "duration": 11,
    "start_time": "2022-11-25T20:18:49.157Z"
   },
   {
    "duration": 68,
    "start_time": "2022-11-25T20:18:49.170Z"
   },
   {
    "duration": 48,
    "start_time": "2022-11-25T20:18:49.241Z"
   },
   {
    "duration": 35,
    "start_time": "2022-11-25T20:18:49.291Z"
   },
   {
    "duration": 4,
    "start_time": "2022-11-25T20:18:49.328Z"
   },
   {
    "duration": 242,
    "start_time": "2022-11-25T20:18:49.333Z"
   },
   {
    "duration": 423,
    "start_time": "2022-11-25T20:18:49.577Z"
   },
   {
    "duration": 458,
    "start_time": "2022-11-25T20:18:50.002Z"
   },
   {
    "duration": 412,
    "start_time": "2022-11-25T20:18:50.461Z"
   },
   {
    "duration": 225,
    "start_time": "2022-11-25T20:18:50.875Z"
   },
   {
    "duration": 30,
    "start_time": "2022-11-25T20:18:51.102Z"
   },
   {
    "duration": 183,
    "start_time": "2022-11-25T20:18:51.134Z"
   },
   {
    "duration": 175,
    "start_time": "2022-11-25T20:18:51.319Z"
   },
   {
    "duration": 197,
    "start_time": "2022-11-25T20:18:51.496Z"
   },
   {
    "duration": 488,
    "start_time": "2022-11-25T20:18:51.694Z"
   },
   {
    "duration": 5,
    "start_time": "2022-11-25T20:18:52.183Z"
   },
   {
    "duration": 42,
    "start_time": "2022-11-25T20:18:52.189Z"
   },
   {
    "duration": 3,
    "start_time": "2022-11-25T20:18:52.232Z"
   },
   {
    "duration": 1389,
    "start_time": "2022-11-25T20:18:52.237Z"
   },
   {
    "duration": 17079,
    "start_time": "2022-11-25T20:18:53.629Z"
   },
   {
    "duration": 2143,
    "start_time": "2022-11-25T20:22:58.931Z"
   },
   {
    "duration": 274,
    "start_time": "2022-11-25T20:23:01.076Z"
   },
   {
    "duration": 5,
    "start_time": "2022-11-25T20:23:01.352Z"
   },
   {
    "duration": 7,
    "start_time": "2022-11-25T20:23:01.359Z"
   },
   {
    "duration": 22,
    "start_time": "2022-11-25T20:23:01.367Z"
   },
   {
    "duration": 19,
    "start_time": "2022-11-25T20:23:01.391Z"
   },
   {
    "duration": 11,
    "start_time": "2022-11-25T20:23:01.411Z"
   },
   {
    "duration": 14,
    "start_time": "2022-11-25T20:23:01.423Z"
   },
   {
    "duration": 58,
    "start_time": "2022-11-25T20:23:01.438Z"
   },
   {
    "duration": 36,
    "start_time": "2022-11-25T20:23:01.499Z"
   },
   {
    "duration": 11,
    "start_time": "2022-11-25T20:23:01.537Z"
   },
   {
    "duration": 14,
    "start_time": "2022-11-25T20:23:01.549Z"
   },
   {
    "duration": 219,
    "start_time": "2022-11-25T20:23:01.564Z"
   },
   {
    "duration": 396,
    "start_time": "2022-11-25T20:23:01.785Z"
   },
   {
    "duration": 445,
    "start_time": "2022-11-25T20:23:02.183Z"
   },
   {
    "duration": 370,
    "start_time": "2022-11-25T20:23:02.630Z"
   },
   {
    "duration": 219,
    "start_time": "2022-11-25T20:23:03.002Z"
   },
   {
    "duration": 20,
    "start_time": "2022-11-25T20:23:03.222Z"
   },
   {
    "duration": 182,
    "start_time": "2022-11-25T20:23:03.244Z"
   },
   {
    "duration": 159,
    "start_time": "2022-11-25T20:23:03.427Z"
   },
   {
    "duration": 194,
    "start_time": "2022-11-25T20:23:03.587Z"
   },
   {
    "duration": 568,
    "start_time": "2022-11-25T20:23:03.783Z"
   },
   {
    "duration": 6,
    "start_time": "2022-11-25T20:23:04.353Z"
   },
   {
    "duration": 52,
    "start_time": "2022-11-25T20:23:04.361Z"
   },
   {
    "duration": 19,
    "start_time": "2022-11-25T20:23:04.414Z"
   },
   {
    "duration": 1393,
    "start_time": "2022-11-25T20:23:04.435Z"
   },
   {
    "duration": 16913,
    "start_time": "2022-11-25T20:23:05.831Z"
   },
   {
    "duration": 983494,
    "start_time": "2022-11-25T20:23:22.747Z"
   },
   {
    "duration": 104,
    "start_time": "2022-11-25T20:44:17.632Z"
   },
   {
    "duration": 69,
    "start_time": "2022-11-25T20:45:07.031Z"
   },
   {
    "duration": 21,
    "start_time": "2022-11-25T20:45:54.697Z"
   },
   {
    "duration": 22,
    "start_time": "2022-11-25T20:46:01.340Z"
   },
   {
    "duration": 20,
    "start_time": "2022-11-25T20:46:12.300Z"
   },
   {
    "duration": 54,
    "start_time": "2022-11-25T20:46:35.797Z"
   },
   {
    "duration": 8356,
    "start_time": "2022-11-25T20:47:40.963Z"
   },
   {
    "duration": 16,
    "start_time": "2022-11-25T20:48:16.628Z"
   },
   {
    "duration": 400,
    "start_time": "2022-11-25T20:49:58.344Z"
   },
   {
    "duration": 699,
    "start_time": "2022-11-25T20:50:23.982Z"
   },
   {
    "duration": 67,
    "start_time": "2022-11-25T21:00:54.819Z"
   },
   {
    "duration": 74,
    "start_time": "2022-11-25T21:24:23.833Z"
   },
   {
    "duration": 90,
    "start_time": "2022-11-25T21:29:36.970Z"
   },
   {
    "duration": 3122,
    "start_time": "2022-11-26T10:46:34.777Z"
   },
   {
    "duration": 814,
    "start_time": "2022-11-26T10:46:37.902Z"
   },
   {
    "duration": 7,
    "start_time": "2022-11-26T10:46:38.717Z"
   },
   {
    "duration": 10,
    "start_time": "2022-11-26T10:46:38.727Z"
   },
   {
    "duration": 21,
    "start_time": "2022-11-26T10:46:38.738Z"
   },
   {
    "duration": 76,
    "start_time": "2022-11-26T10:46:38.761Z"
   },
   {
    "duration": 0,
    "start_time": "2022-11-26T10:46:38.840Z"
   },
   {
    "duration": 0,
    "start_time": "2022-11-26T10:46:38.842Z"
   },
   {
    "duration": 0,
    "start_time": "2022-11-26T10:46:38.843Z"
   },
   {
    "duration": 1,
    "start_time": "2022-11-26T10:46:38.845Z"
   },
   {
    "duration": 0,
    "start_time": "2022-11-26T10:46:38.847Z"
   },
   {
    "duration": 0,
    "start_time": "2022-11-26T10:46:38.849Z"
   },
   {
    "duration": 0,
    "start_time": "2022-11-26T10:46:38.850Z"
   },
   {
    "duration": 0,
    "start_time": "2022-11-26T10:46:38.852Z"
   },
   {
    "duration": 0,
    "start_time": "2022-11-26T10:46:38.853Z"
   },
   {
    "duration": 0,
    "start_time": "2022-11-26T10:46:38.855Z"
   },
   {
    "duration": 0,
    "start_time": "2022-11-26T10:46:38.856Z"
   },
   {
    "duration": 0,
    "start_time": "2022-11-26T10:46:38.858Z"
   },
   {
    "duration": 0,
    "start_time": "2022-11-26T10:46:38.860Z"
   },
   {
    "duration": 0,
    "start_time": "2022-11-26T10:46:38.861Z"
   },
   {
    "duration": 0,
    "start_time": "2022-11-26T10:46:38.863Z"
   },
   {
    "duration": 0,
    "start_time": "2022-11-26T10:46:38.864Z"
   },
   {
    "duration": 0,
    "start_time": "2022-11-26T10:46:38.865Z"
   },
   {
    "duration": 0,
    "start_time": "2022-11-26T10:46:38.867Z"
   },
   {
    "duration": 0,
    "start_time": "2022-11-26T10:46:38.870Z"
   },
   {
    "duration": 0,
    "start_time": "2022-11-26T10:46:38.872Z"
   },
   {
    "duration": 0,
    "start_time": "2022-11-26T10:46:38.874Z"
   },
   {
    "duration": 0,
    "start_time": "2022-11-26T10:46:38.875Z"
   },
   {
    "duration": 0,
    "start_time": "2022-11-26T10:46:38.878Z"
   },
   {
    "duration": 0,
    "start_time": "2022-11-26T10:46:38.880Z"
   },
   {
    "duration": 2951,
    "start_time": "2022-11-26T12:38:24.879Z"
   },
   {
    "duration": 827,
    "start_time": "2022-11-26T12:38:27.832Z"
   },
   {
    "duration": 7,
    "start_time": "2022-11-26T12:38:28.661Z"
   },
   {
    "duration": 6,
    "start_time": "2022-11-26T12:38:28.671Z"
   },
   {
    "duration": 12,
    "start_time": "2022-11-26T12:38:28.678Z"
   },
   {
    "duration": 3,
    "start_time": "2022-11-26T12:38:28.692Z"
   },
   {
    "duration": 6,
    "start_time": "2022-11-26T12:38:28.697Z"
   },
   {
    "duration": 76,
    "start_time": "2022-11-26T12:38:28.704Z"
   },
   {
    "duration": 42,
    "start_time": "2022-11-26T12:38:28.782Z"
   },
   {
    "duration": 12,
    "start_time": "2022-11-26T12:38:28.852Z"
   },
   {
    "duration": 4,
    "start_time": "2022-11-26T12:38:28.867Z"
   },
   {
    "duration": 252,
    "start_time": "2022-11-26T12:38:28.872Z"
   },
   {
    "duration": 489,
    "start_time": "2022-11-26T12:38:29.125Z"
   },
   {
    "duration": 695,
    "start_time": "2022-11-26T12:38:29.617Z"
   },
   {
    "duration": 458,
    "start_time": "2022-11-26T12:38:30.314Z"
   },
   {
    "duration": 297,
    "start_time": "2022-11-26T12:38:30.774Z"
   },
   {
    "duration": 23,
    "start_time": "2022-11-26T12:38:31.073Z"
   },
   {
    "duration": 214,
    "start_time": "2022-11-26T12:38:31.097Z"
   },
   {
    "duration": 184,
    "start_time": "2022-11-26T12:38:31.313Z"
   },
   {
    "duration": 207,
    "start_time": "2022-11-26T12:38:31.499Z"
   },
   {
    "duration": 570,
    "start_time": "2022-11-26T12:38:31.709Z"
   },
   {
    "duration": 72,
    "start_time": "2022-11-26T12:38:32.281Z"
   },
   {
    "duration": 0,
    "start_time": "2022-11-26T12:38:32.355Z"
   },
   {
    "duration": 0,
    "start_time": "2022-11-26T12:38:32.356Z"
   },
   {
    "duration": 0,
    "start_time": "2022-11-26T12:38:32.358Z"
   },
   {
    "duration": 0,
    "start_time": "2022-11-26T12:38:32.359Z"
   },
   {
    "duration": 0,
    "start_time": "2022-11-26T12:38:32.360Z"
   },
   {
    "duration": 0,
    "start_time": "2022-11-26T12:38:32.361Z"
   },
   {
    "duration": 0,
    "start_time": "2022-11-26T12:38:32.363Z"
   },
   {
    "duration": 0,
    "start_time": "2022-11-26T12:38:32.364Z"
   },
   {
    "duration": 3698,
    "start_time": "2022-11-26T13:39:31.433Z"
   },
   {
    "duration": 1110,
    "start_time": "2022-11-26T13:39:35.134Z"
   },
   {
    "duration": 13,
    "start_time": "2022-11-26T13:39:36.246Z"
   },
   {
    "duration": 22,
    "start_time": "2022-11-26T13:39:36.267Z"
   },
   {
    "duration": 14,
    "start_time": "2022-11-26T13:39:36.291Z"
   },
   {
    "duration": 3,
    "start_time": "2022-11-26T13:39:36.311Z"
   },
   {
    "duration": 11,
    "start_time": "2022-11-26T13:39:36.317Z"
   },
   {
    "duration": 57,
    "start_time": "2022-11-26T13:39:36.330Z"
   },
   {
    "duration": 63,
    "start_time": "2022-11-26T13:39:36.389Z"
   },
   {
    "duration": 25,
    "start_time": "2022-11-26T13:39:36.460Z"
   },
   {
    "duration": 5,
    "start_time": "2022-11-26T13:39:36.486Z"
   },
   {
    "duration": 239,
    "start_time": "2022-11-26T13:39:36.492Z"
   },
   {
    "duration": 483,
    "start_time": "2022-11-26T13:39:36.733Z"
   },
   {
    "duration": 550,
    "start_time": "2022-11-26T13:39:37.218Z"
   },
   {
    "duration": 440,
    "start_time": "2022-11-26T13:39:37.770Z"
   },
   {
    "duration": 287,
    "start_time": "2022-11-26T13:39:38.212Z"
   },
   {
    "duration": 28,
    "start_time": "2022-11-26T13:39:38.501Z"
   },
   {
    "duration": 264,
    "start_time": "2022-11-26T13:39:38.532Z"
   },
   {
    "duration": 226,
    "start_time": "2022-11-26T13:39:38.797Z"
   },
   {
    "duration": 253,
    "start_time": "2022-11-26T13:39:39.026Z"
   },
   {
    "duration": 629,
    "start_time": "2022-11-26T13:39:39.281Z"
   },
   {
    "duration": 5,
    "start_time": "2022-11-26T13:39:39.913Z"
   },
   {
    "duration": 24,
    "start_time": "2022-11-26T13:39:39.920Z"
   },
   {
    "duration": 69,
    "start_time": "2022-11-26T13:39:39.946Z"
   },
   {
    "duration": 3,
    "start_time": "2022-11-26T13:39:40.017Z"
   },
   {
    "duration": 2535,
    "start_time": "2022-11-26T13:39:40.022Z"
   },
   {
    "duration": 20593,
    "start_time": "2022-11-26T13:39:42.559Z"
   },
   {
    "duration": 1221245,
    "start_time": "2022-11-26T13:40:03.161Z"
   },
   {
    "duration": 10402,
    "start_time": "2022-11-26T14:00:24.408Z"
   },
   {
    "duration": 17,
    "start_time": "2022-11-26T14:00:34.812Z"
   },
   {
    "duration": 77,
    "start_time": "2022-11-26T14:14:54.239Z"
   },
   {
    "duration": 50,
    "start_time": "2022-11-26T15:16:23.651Z"
   },
   {
    "duration": 3809,
    "start_time": "2022-11-26T15:16:51.053Z"
   },
   {
    "duration": 717,
    "start_time": "2022-11-26T15:16:54.863Z"
   },
   {
    "duration": 6,
    "start_time": "2022-11-26T15:16:55.581Z"
   },
   {
    "duration": 5,
    "start_time": "2022-11-26T15:16:55.589Z"
   },
   {
    "duration": 28,
    "start_time": "2022-11-26T15:16:55.596Z"
   },
   {
    "duration": 3,
    "start_time": "2022-11-26T15:16:55.625Z"
   },
   {
    "duration": 7,
    "start_time": "2022-11-26T15:16:55.629Z"
   },
   {
    "duration": 31,
    "start_time": "2022-11-26T15:16:55.638Z"
   },
   {
    "duration": 64,
    "start_time": "2022-11-26T15:16:55.671Z"
   },
   {
    "duration": 12,
    "start_time": "2022-11-26T15:16:55.736Z"
   },
   {
    "duration": 3,
    "start_time": "2022-11-26T15:16:55.750Z"
   },
   {
    "duration": 265,
    "start_time": "2022-11-26T15:16:55.755Z"
   },
   {
    "duration": 432,
    "start_time": "2022-11-26T15:16:56.022Z"
   },
   {
    "duration": 471,
    "start_time": "2022-11-26T15:16:56.457Z"
   },
   {
    "duration": 419,
    "start_time": "2022-11-26T15:16:56.930Z"
   },
   {
    "duration": 233,
    "start_time": "2022-11-26T15:16:57.351Z"
   },
   {
    "duration": 121,
    "start_time": "2022-11-26T15:16:57.586Z"
   },
   {
    "duration": 0,
    "start_time": "2022-11-26T15:16:57.709Z"
   },
   {
    "duration": 0,
    "start_time": "2022-11-26T15:16:57.710Z"
   },
   {
    "duration": 0,
    "start_time": "2022-11-26T15:16:57.711Z"
   },
   {
    "duration": 0,
    "start_time": "2022-11-26T15:16:57.712Z"
   },
   {
    "duration": 0,
    "start_time": "2022-11-26T15:16:57.721Z"
   },
   {
    "duration": 1,
    "start_time": "2022-11-26T15:16:57.722Z"
   },
   {
    "duration": 0,
    "start_time": "2022-11-26T15:16:57.724Z"
   },
   {
    "duration": 0,
    "start_time": "2022-11-26T15:16:57.725Z"
   },
   {
    "duration": 0,
    "start_time": "2022-11-26T15:16:57.726Z"
   },
   {
    "duration": 0,
    "start_time": "2022-11-26T15:16:57.726Z"
   },
   {
    "duration": 0,
    "start_time": "2022-11-26T15:16:57.728Z"
   },
   {
    "duration": 0,
    "start_time": "2022-11-26T15:16:57.729Z"
   },
   {
    "duration": 0,
    "start_time": "2022-11-26T15:16:57.730Z"
   },
   {
    "duration": 0,
    "start_time": "2022-11-26T15:16:57.731Z"
   },
   {
    "duration": 164,
    "start_time": "2022-11-26T15:19:12.089Z"
   },
   {
    "duration": 194,
    "start_time": "2022-11-26T15:19:16.487Z"
   },
   {
    "duration": 90,
    "start_time": "2022-11-26T15:19:46.347Z"
   },
   {
    "duration": 263,
    "start_time": "2022-11-26T15:20:38.219Z"
   },
   {
    "duration": 76,
    "start_time": "2022-11-26T15:21:05.523Z"
   },
   {
    "duration": 74,
    "start_time": "2022-11-26T15:23:41.362Z"
   },
   {
    "duration": 3305,
    "start_time": "2022-11-27T08:39:08.622Z"
   },
   {
    "duration": 627,
    "start_time": "2022-11-27T08:39:11.929Z"
   },
   {
    "duration": 5,
    "start_time": "2022-11-27T08:39:12.558Z"
   },
   {
    "duration": 5,
    "start_time": "2022-11-27T08:39:12.565Z"
   },
   {
    "duration": 6,
    "start_time": "2022-11-27T08:39:12.572Z"
   },
   {
    "duration": 5,
    "start_time": "2022-11-27T08:39:12.580Z"
   },
   {
    "duration": 9,
    "start_time": "2022-11-27T08:39:12.586Z"
   },
   {
    "duration": 28,
    "start_time": "2022-11-27T08:39:12.613Z"
   },
   {
    "duration": 37,
    "start_time": "2022-11-27T08:39:12.642Z"
   },
   {
    "duration": 34,
    "start_time": "2022-11-27T08:39:12.681Z"
   },
   {
    "duration": 3,
    "start_time": "2022-11-27T08:39:12.717Z"
   },
   {
    "duration": 246,
    "start_time": "2022-11-27T08:39:12.722Z"
   },
   {
    "duration": 390,
    "start_time": "2022-11-27T08:39:12.970Z"
   },
   {
    "duration": 455,
    "start_time": "2022-11-27T08:39:13.363Z"
   },
   {
    "duration": 395,
    "start_time": "2022-11-27T08:39:13.820Z"
   },
   {
    "duration": 168,
    "start_time": "2022-11-27T08:39:14.217Z"
   },
   {
    "duration": 186,
    "start_time": "2022-11-27T08:39:14.387Z"
   },
   {
    "duration": 20,
    "start_time": "2022-11-27T08:39:14.575Z"
   },
   {
    "duration": 193,
    "start_time": "2022-11-27T08:39:14.597Z"
   },
   {
    "duration": 160,
    "start_time": "2022-11-27T08:39:14.792Z"
   },
   {
    "duration": 169,
    "start_time": "2022-11-27T08:39:14.954Z"
   },
   {
    "duration": 450,
    "start_time": "2022-11-27T08:39:15.125Z"
   },
   {
    "duration": 2,
    "start_time": "2022-11-27T08:39:15.577Z"
   },
   {
    "duration": 6,
    "start_time": "2022-11-27T08:39:15.581Z"
   },
   {
    "duration": 37,
    "start_time": "2022-11-27T08:39:15.588Z"
   },
   {
    "duration": 2,
    "start_time": "2022-11-27T08:39:15.627Z"
   },
   {
    "duration": 1295,
    "start_time": "2022-11-27T08:39:15.631Z"
   },
   {
    "duration": 16761,
    "start_time": "2022-11-27T08:39:16.929Z"
   },
   {
    "duration": 973443,
    "start_time": "2022-11-27T08:39:33.691Z"
   },
   {
    "duration": 8295,
    "start_time": "2022-11-27T08:55:47.136Z"
   },
   {
    "duration": 15,
    "start_time": "2022-11-27T08:55:55.433Z"
   },
   {
    "duration": 52,
    "start_time": "2022-11-27T09:43:28.325Z"
   },
   {
    "duration": 3775,
    "start_time": "2022-11-27T09:43:31.555Z"
   },
   {
    "duration": 808,
    "start_time": "2022-11-27T09:43:35.337Z"
   },
   {
    "duration": 7,
    "start_time": "2022-11-27T09:43:36.147Z"
   },
   {
    "duration": 6,
    "start_time": "2022-11-27T09:43:36.156Z"
   },
   {
    "duration": 8,
    "start_time": "2022-11-27T09:43:36.164Z"
   },
   {
    "duration": 2,
    "start_time": "2022-11-27T09:43:36.174Z"
   },
   {
    "duration": 8,
    "start_time": "2022-11-27T09:43:36.177Z"
   },
   {
    "duration": 76,
    "start_time": "2022-11-27T09:43:36.186Z"
   },
   {
    "duration": 79,
    "start_time": "2022-11-27T09:43:36.264Z"
   },
   {
    "duration": 13,
    "start_time": "2022-11-27T09:43:36.346Z"
   },
   {
    "duration": 7,
    "start_time": "2022-11-27T09:43:36.361Z"
   },
   {
    "duration": 289,
    "start_time": "2022-11-27T09:43:36.371Z"
   },
   {
    "duration": 470,
    "start_time": "2022-11-27T09:43:36.662Z"
   },
   {
    "duration": 532,
    "start_time": "2022-11-27T09:43:37.137Z"
   },
   {
    "duration": 481,
    "start_time": "2022-11-27T09:43:37.670Z"
   },
   {
    "duration": 208,
    "start_time": "2022-11-27T09:43:38.153Z"
   },
   {
    "duration": 227,
    "start_time": "2022-11-27T09:43:38.363Z"
   },
   {
    "duration": 19,
    "start_time": "2022-11-27T09:43:38.592Z"
   },
   {
    "duration": 204,
    "start_time": "2022-11-27T09:43:38.612Z"
   },
   {
    "duration": 186,
    "start_time": "2022-11-27T09:43:38.818Z"
   },
   {
    "duration": 205,
    "start_time": "2022-11-27T09:43:39.006Z"
   },
   {
    "duration": 547,
    "start_time": "2022-11-27T09:43:39.213Z"
   },
   {
    "duration": 2,
    "start_time": "2022-11-27T09:43:39.762Z"
   },
   {
    "duration": 17,
    "start_time": "2022-11-27T09:43:39.766Z"
   },
   {
    "duration": 50,
    "start_time": "2022-11-27T09:43:39.785Z"
   },
   {
    "duration": 6,
    "start_time": "2022-11-27T09:43:39.839Z"
   },
   {
    "duration": 3086,
    "start_time": "2022-11-27T09:43:39.848Z"
   },
   {
    "duration": 19916,
    "start_time": "2022-11-27T09:43:42.937Z"
   },
   {
    "duration": 2226,
    "start_time": "2022-11-27T09:46:00.415Z"
   },
   {
    "duration": 830,
    "start_time": "2022-11-27T09:46:02.645Z"
   },
   {
    "duration": 7,
    "start_time": "2022-11-27T09:46:03.477Z"
   },
   {
    "duration": 7,
    "start_time": "2022-11-27T09:46:03.486Z"
   },
   {
    "duration": 30,
    "start_time": "2022-11-27T09:46:03.495Z"
   },
   {
    "duration": 4,
    "start_time": "2022-11-27T09:46:03.528Z"
   },
   {
    "duration": 13,
    "start_time": "2022-11-27T09:46:03.535Z"
   },
   {
    "duration": 35,
    "start_time": "2022-11-27T09:46:03.550Z"
   },
   {
    "duration": 65,
    "start_time": "2022-11-27T09:46:03.587Z"
   },
   {
    "duration": 10,
    "start_time": "2022-11-27T09:46:03.653Z"
   },
   {
    "duration": 4,
    "start_time": "2022-11-27T09:46:03.665Z"
   },
   {
    "duration": 268,
    "start_time": "2022-11-27T09:46:03.671Z"
   },
   {
    "duration": 547,
    "start_time": "2022-11-27T09:46:03.940Z"
   },
   {
    "duration": 526,
    "start_time": "2022-11-27T09:46:04.490Z"
   },
   {
    "duration": 480,
    "start_time": "2022-11-27T09:46:05.021Z"
   },
   {
    "duration": 198,
    "start_time": "2022-11-27T09:46:05.502Z"
   },
   {
    "duration": 211,
    "start_time": "2022-11-27T09:46:05.702Z"
   },
   {
    "duration": 34,
    "start_time": "2022-11-27T09:46:05.915Z"
   },
   {
    "duration": 192,
    "start_time": "2022-11-27T09:46:05.950Z"
   },
   {
    "duration": 177,
    "start_time": "2022-11-27T09:46:06.144Z"
   },
   {
    "duration": 207,
    "start_time": "2022-11-27T09:46:06.324Z"
   },
   {
    "duration": 507,
    "start_time": "2022-11-27T09:46:06.532Z"
   },
   {
    "duration": 4,
    "start_time": "2022-11-27T09:46:07.042Z"
   },
   {
    "duration": 7,
    "start_time": "2022-11-27T09:46:07.048Z"
   },
   {
    "duration": 35,
    "start_time": "2022-11-27T09:46:07.057Z"
   },
   {
    "duration": 3,
    "start_time": "2022-11-27T09:46:07.093Z"
   },
   {
    "duration": 1238,
    "start_time": "2022-11-27T09:46:07.098Z"
   },
   {
    "duration": 19173,
    "start_time": "2022-11-27T09:46:08.342Z"
   }
  ],
  "kernelspec": {
   "display_name": "Python 3 (ipykernel)",
   "language": "python",
   "name": "python3"
  },
  "language_info": {
   "codemirror_mode": {
    "name": "ipython",
    "version": 3
   },
   "file_extension": ".py",
   "mimetype": "text/x-python",
   "name": "python",
   "nbconvert_exporter": "python",
   "pygments_lexer": "ipython3",
   "version": "3.9.5"
  },
  "toc": {
   "base_numbering": 1,
   "nav_menu": {},
   "number_sections": true,
   "sideBar": true,
   "skip_h1_title": true,
   "title_cell": "Содержание",
   "title_sidebar": "Contents",
   "toc_cell": true,
   "toc_position": {
    "height": "calc(100% - 180px)",
    "left": "10px",
    "top": "150px",
    "width": "165px"
   },
   "toc_section_display": true,
   "toc_window_display": true
  }
 },
 "nbformat": 4,
 "nbformat_minor": 2
}
