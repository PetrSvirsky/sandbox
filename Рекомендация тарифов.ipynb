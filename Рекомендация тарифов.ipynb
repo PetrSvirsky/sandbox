{
 "cells": [
  {
   "cell_type": "markdown",
   "metadata": {},
   "source": [
    "# Рекомендация тарифов"
   ]
  },
  {
   "cell_type": "markdown",
   "metadata": {},
   "source": [
    "В вашем распоряжении данные о поведении клиентов, которые уже перешли на эти тарифы (из проекта курса «Статистический анализ данных»). Нужно построить модель для задачи классификации, которая выберет подходящий тариф. Предобработка данных не понадобится — вы её уже сделали.\n",
    "\n",
    "Постройте модель с максимально большим значением *accuracy*. Чтобы сдать проект успешно, нужно довести долю правильных ответов по крайней мере до 0.75. Проверьте *accuracy* на тестовой выборке самостоятельно."
   ]
  },
  {
   "cell_type": "markdown",
   "metadata": {},
   "source": [
    "## Откройте и изучите файл"
   ]
  },
  {
   "cell_type": "code",
   "execution_count": 1,
   "metadata": {
    "scrolled": true
   },
   "outputs": [
    {
     "name": "stdout",
     "output_type": "stream",
     "text": [
      "<class 'pandas.core.frame.DataFrame'>\n",
      "RangeIndex: 3214 entries, 0 to 3213\n",
      "Data columns (total 5 columns):\n",
      " #   Column    Non-Null Count  Dtype  \n",
      "---  ------    --------------  -----  \n",
      " 0   calls     3214 non-null   float64\n",
      " 1   minutes   3214 non-null   float64\n",
      " 2   messages  3214 non-null   float64\n",
      " 3   mb_used   3214 non-null   float64\n",
      " 4   is_ultra  3214 non-null   int64  \n",
      "dtypes: float64(4), int64(1)\n",
      "memory usage: 125.7 KB\n"
     ]
    },
    {
     "data": {
      "text/plain": [
       "None"
      ]
     },
     "metadata": {},
     "output_type": "display_data"
    },
    {
     "data": {
      "text/html": [
       "<div>\n",
       "<style scoped>\n",
       "    .dataframe tbody tr th:only-of-type {\n",
       "        vertical-align: middle;\n",
       "    }\n",
       "\n",
       "    .dataframe tbody tr th {\n",
       "        vertical-align: top;\n",
       "    }\n",
       "\n",
       "    .dataframe thead th {\n",
       "        text-align: right;\n",
       "    }\n",
       "</style>\n",
       "<table border=\"1\" class=\"dataframe\">\n",
       "  <thead>\n",
       "    <tr style=\"text-align: right;\">\n",
       "      <th></th>\n",
       "      <th>calls</th>\n",
       "      <th>minutes</th>\n",
       "      <th>messages</th>\n",
       "      <th>mb_used</th>\n",
       "      <th>is_ultra</th>\n",
       "    </tr>\n",
       "  </thead>\n",
       "  <tbody>\n",
       "    <tr>\n",
       "      <th>0</th>\n",
       "      <td>40.0</td>\n",
       "      <td>311.90</td>\n",
       "      <td>83.0</td>\n",
       "      <td>19915.42</td>\n",
       "      <td>0</td>\n",
       "    </tr>\n",
       "    <tr>\n",
       "      <th>1</th>\n",
       "      <td>85.0</td>\n",
       "      <td>516.75</td>\n",
       "      <td>56.0</td>\n",
       "      <td>22696.96</td>\n",
       "      <td>0</td>\n",
       "    </tr>\n",
       "    <tr>\n",
       "      <th>2</th>\n",
       "      <td>77.0</td>\n",
       "      <td>467.66</td>\n",
       "      <td>86.0</td>\n",
       "      <td>21060.45</td>\n",
       "      <td>0</td>\n",
       "    </tr>\n",
       "    <tr>\n",
       "      <th>3</th>\n",
       "      <td>106.0</td>\n",
       "      <td>745.53</td>\n",
       "      <td>81.0</td>\n",
       "      <td>8437.39</td>\n",
       "      <td>1</td>\n",
       "    </tr>\n",
       "    <tr>\n",
       "      <th>4</th>\n",
       "      <td>66.0</td>\n",
       "      <td>418.74</td>\n",
       "      <td>1.0</td>\n",
       "      <td>14502.75</td>\n",
       "      <td>0</td>\n",
       "    </tr>\n",
       "  </tbody>\n",
       "</table>\n",
       "</div>"
      ],
      "text/plain": [
       "   calls  minutes  messages   mb_used  is_ultra\n",
       "0   40.0   311.90      83.0  19915.42         0\n",
       "1   85.0   516.75      56.0  22696.96         0\n",
       "2   77.0   467.66      86.0  21060.45         0\n",
       "3  106.0   745.53      81.0   8437.39         1\n",
       "4   66.0   418.74       1.0  14502.75         0"
      ]
     },
     "metadata": {},
     "output_type": "display_data"
    }
   ],
   "source": [
    "import pandas as pd\n",
    "from sklearn.model_selection import train_test_split\n",
    "from sklearn.tree import DecisionTreeClassifier\n",
    "from sklearn.metrics import accuracy_score\n",
    "from sklearn.ensemble import RandomForestClassifier\n",
    "from sklearn.linear_model import LogisticRegression \n",
    "from sklearn.dummy import DummyClassifier\n",
    "\n",
    "df = pd.read_csv('/datasets/users_behavior.csv')\n",
    "display(df.info())\n",
    "display(df.head())"
   ]
  },
  {
   "cell_type": "markdown",
   "metadata": {},
   "source": [
    "Изучим данные. Для целевого признака выбираем столбец с названием тарифа, остальной дата сет для обучающих признаков."
   ]
  },
  {
   "cell_type": "markdown",
   "metadata": {},
   "source": [
    "## Разбейте данные на выборки"
   ]
  },
  {
   "cell_type": "code",
   "execution_count": 2,
   "metadata": {},
   "outputs": [
    {
     "data": {
      "text/plain": [
       "(2410, 4)"
      ]
     },
     "metadata": {},
     "output_type": "display_data"
    },
    {
     "data": {
      "text/plain": [
       "(804, 4)"
      ]
     },
     "metadata": {},
     "output_type": "display_data"
    },
    {
     "data": {
      "text/plain": [
       "(2410,)"
      ]
     },
     "metadata": {},
     "output_type": "display_data"
    },
    {
     "data": {
      "text/plain": [
       "(804,)"
      ]
     },
     "metadata": {},
     "output_type": "display_data"
    },
    {
     "data": {
      "text/plain": [
       "(723, 4)"
      ]
     },
     "metadata": {},
     "output_type": "display_data"
    },
    {
     "data": {
      "text/plain": [
       "(723,)"
      ]
     },
     "metadata": {},
     "output_type": "display_data"
    }
   ],
   "source": [
    "features = df.drop(['is_ultra'], axis=1)\n",
    "target = df['is_ultra']\n",
    "\n",
    "features, features_test, target, target_test = train_test_split(\n",
    "    features, target, test_size=0.25, random_state=12345, stratify=target)\n",
    "features_train, features_valid, target_train, target_valid = train_test_split(\n",
    "    features, target, test_size=0.3, random_state=12345, stratify=target)\n",
    "\n",
    "display(features.shape)\n",
    "display(features_test.shape)\n",
    "display(target.shape)\n",
    "display(target_test.shape)\n",
    "display(features_valid.shape)\n",
    "display(target_valid.shape)\n"
   ]
  },
  {
   "cell_type": "markdown",
   "metadata": {},
   "source": [
    "Как я понял, таким образом лучше вообще не поступать и лучше использовать gridsearch, но по заданию делим на 3 выборки. Сначала датасет делим на тестовую и тренировочную выборки 3:1, далее тренировочную разбиваем в таком же соотношении на тренировочную и валидационную (0.3 что бы валидационная выборка составляла примерно 1\\4 от всего датасета)."
   ]
  },
  {
   "cell_type": "markdown",
   "metadata": {},
   "source": [
    "## Исследуйте модели"
   ]
  },
  {
   "cell_type": "markdown",
   "metadata": {},
   "source": [
    "### Начнем исследование моделей с  обучающего дерева"
   ]
  },
  {
   "cell_type": "code",
   "execution_count": 3,
   "metadata": {},
   "outputs": [
    {
     "name": "stdout",
     "output_type": "stream",
     "text": [
      "Accuracy наилучшей модели на валидационной выборке: 0.8063623789764869\n",
      "Лучшая модель: DecisionTreeClassifier(max_depth=8, random_state=12345)\n"
     ]
    }
   ],
   "source": [
    "best_model = None\n",
    "best_result = 0\n",
    "\n",
    "for i in range(1,20):\n",
    "    model = DecisionTreeClassifier(random_state=12345, max_depth=i)\n",
    "    model.fit(features_train, target_train)\n",
    "    predictions_valid = model.predict(features_valid)\n",
    "    model.fit(features_train, target_train) \n",
    "    result = model.score(features_valid, target_valid) \n",
    "    if result > best_result:\n",
    "        best_model = model\n",
    "        best_result = model.score(features_valid, target_valid) \n",
    "print(\"Accuracy наилучшей модели на валидационной выборке:\", best_result)\n",
    "print('Лучшая модель:', best_model)"
   ]
  },
  {
   "cell_type": "markdown",
   "metadata": {},
   "source": [
    "В цикле обучаем модель на тренировочной выборке, проверяем результат на валидационной, получаем неплохой результат."
   ]
  },
  {
   "cell_type": "markdown",
   "metadata": {},
   "source": [
    "### Исследование модели: случайный лес"
   ]
  },
  {
   "cell_type": "code",
   "execution_count": 4,
   "metadata": {
    "scrolled": true
   },
   "outputs": [
    {
     "name": "stdout",
     "output_type": "stream",
     "text": [
      "Accuracy наилучшей модели на валидационной выборке: 0.8105117565698479 RandomForestClassifier(max_depth=8, n_estimators=22, random_state=12345)\n",
      "CPU times: user 6.36 s, sys: 36.3 ms, total: 6.4 s\n",
      "Wall time: 6.41 s\n"
     ]
    }
   ],
   "source": [
    "%%time\n",
    "best_model_forest = None\n",
    "best_result_forest = 0\n",
    "for est in range(1, 25):\n",
    "    for depth in range(1,10):\n",
    "        model = RandomForestClassifier(random_state=12345, n_estimators=est, max_depth=depth) \n",
    "        model.fit(features_train, target_train) \n",
    "        result = model.score(features_valid, target_valid) \n",
    "        if result > best_result_forest:\n",
    "            best_model_forest = model \n",
    "            best_result_forest = model.score(features_valid, target_valid)  \n",
    "\n",
    "print(\"Accuracy наилучшей модели на валидационной выборке:\", best_result_forest, best_model_forest)"
   ]
  },
  {
   "cell_type": "markdown",
   "metadata": {},
   "source": [
    "Во вложенном цикле обучаем лес, перебирая 2 гиперпараметра est & depth, получаем так же неплохой результат. "
   ]
  },
  {
   "cell_type": "markdown",
   "metadata": {},
   "source": [
    "### Исследование модели: логистическая регрессия"
   ]
  },
  {
   "cell_type": "code",
   "execution_count": 5,
   "metadata": {},
   "outputs": [
    {
     "name": "stdout",
     "output_type": "stream",
     "text": [
      "0.7496542185338866\n"
     ]
    }
   ],
   "source": [
    "model = LogisticRegression(random_state=12345, solver='lbfgs', max_iter=1000)\n",
    "model.fit(features_train, target_train)\n",
    "model.predict(features_valid)\n",
    "print(model.score(features_valid, target_valid))"
   ]
  },
  {
   "cell_type": "markdown",
   "metadata": {},
   "source": [
    "Обучаем модель на тренировочных данных, проверяем на валидационных - получаем быструю, но некачественную модель.\n",
    "Соответственно для дальнейшей работы с тестовыми данными выбираем наиболее результативную модель обучающего леса."
   ]
  },
  {
   "cell_type": "markdown",
   "metadata": {},
   "source": [
    "## Проверьте модель на тестовой выборке"
   ]
  },
  {
   "cell_type": "code",
   "execution_count": 6,
   "metadata": {},
   "outputs": [
    {
     "name": "stdout",
     "output_type": "stream",
     "text": [
      "Accuracy наилучшей модели на тестовой выборке: 0.8171641791044776 RandomForestClassifier(max_depth=8, n_estimators=11, random_state=12345)\n"
     ]
    }
   ],
   "source": [
    "best_model_forest_test = None\n",
    "best_result_forest_test = 0\n",
    "for est in range(1, 25):\n",
    "    for depth in range(1,10):\n",
    "        model = RandomForestClassifier(random_state=12345, n_estimators=est, max_depth=depth) \n",
    "        model.fit(features_train, target_train) \n",
    "        result = model.score(features_test, target_test) \n",
    "        if result > best_result_forest_test:\n",
    "            best_model_forest_test = model \n",
    "            best_result_forest_test = model.score(features_test, target_test)  \n",
    "\n",
    "print(\"Accuracy наилучшей модели на тестовой выборке:\", best_result_forest_test, best_model_forest_test)"
   ]
  },
  {
   "cell_type": "code",
   "execution_count": 7,
   "metadata": {},
   "outputs": [
    {
     "name": "stdout",
     "output_type": "stream",
     "text": [
      "0.8121890547263682\n"
     ]
    }
   ],
   "source": [
    "test_result = best_model_forest.score(features_test, target_test)\n",
    "print(test_result)"
   ]
  },
  {
   "cell_type": "markdown",
   "metadata": {},
   "source": [
    "## (бонус) Проверьте модели на адекватность"
   ]
  },
  {
   "cell_type": "markdown",
   "metadata": {},
   "source": [
    "Попробуем проверить на адекватность путем сравнения результатов работы модели со случайностью."
   ]
  },
  {
   "cell_type": "code",
   "execution_count": 8,
   "metadata": {},
   "outputs": [
    {
     "data": {
      "text/plain": [
       "0    2229\n",
       "1     985\n",
       "Name: is_ultra, dtype: int64"
      ]
     },
     "execution_count": 8,
     "metadata": {},
     "output_type": "execute_result"
    }
   ],
   "source": [
    "df['is_ultra'].value_counts()"
   ]
  },
  {
   "cell_type": "markdown",
   "metadata": {},
   "source": [
    "данные распределены примерно 2 к 1 в пользу тарифа смарт, то есть при случайном распределении класса вероятность допустить ошибку будет около 30%, что приведет к точности примерно в 70%. \n"
   ]
  },
  {
   "cell_type": "markdown",
   "metadata": {},
   "source": [
    "Как вариант можно использовать Dummy-модель, которая всегда предсказывает наиболее часто встречающийся класс, результат тот же."
   ]
  },
  {
   "cell_type": "code",
   "execution_count": 9,
   "metadata": {},
   "outputs": [
    {
     "name": "stdout",
     "output_type": "stream",
     "text": [
      "The baseline accurancy: 69.40%\n"
     ]
    }
   ],
   "source": [
    "model_bl = DummyClassifier()\n",
    "model_bl.fit(features_train, target_train)\n",
    "score = model_bl.score(features_test, target_test)\n",
    "print(f\"The baseline accurancy: {score:.2%}\")"
   ]
  },
  {
   "cell_type": "code",
   "execution_count": null,
   "metadata": {},
   "outputs": [],
   "source": []
  }
 ],
 "metadata": {
  "ExecuteTimeLog": [
   {
    "duration": 527,
    "start_time": "2022-10-11T11:04:57.563Z"
   },
   {
    "duration": 39,
    "start_time": "2022-10-11T11:05:16.470Z"
   },
   {
    "duration": 43,
    "start_time": "2022-10-11T11:06:29.703Z"
   },
   {
    "duration": 1123,
    "start_time": "2022-10-12T08:46:37.341Z"
   },
   {
    "duration": 6,
    "start_time": "2022-10-12T08:46:38.465Z"
   },
   {
    "duration": 87,
    "start_time": "2022-10-12T08:48:40.615Z"
   },
   {
    "duration": 249,
    "start_time": "2022-10-12T08:48:48.330Z"
   },
   {
    "duration": 266,
    "start_time": "2022-10-12T08:51:06.216Z"
   },
   {
    "duration": 246,
    "start_time": "2022-10-12T08:51:56.486Z"
   },
   {
    "duration": 240,
    "start_time": "2022-10-12T08:52:21.396Z"
   },
   {
    "duration": 108,
    "start_time": "2022-10-12T09:05:31.341Z"
   },
   {
    "duration": 17,
    "start_time": "2022-10-12T09:05:46.132Z"
   },
   {
    "duration": 6,
    "start_time": "2022-10-12T09:06:11.323Z"
   },
   {
    "duration": 22,
    "start_time": "2022-10-12T09:06:14.525Z"
   },
   {
    "duration": 186,
    "start_time": "2022-10-12T09:06:50.799Z"
   },
   {
    "duration": 217,
    "start_time": "2022-10-12T09:08:14.323Z"
   },
   {
    "duration": 194,
    "start_time": "2022-10-12T09:08:23.355Z"
   },
   {
    "duration": 191,
    "start_time": "2022-10-12T09:08:56.774Z"
   },
   {
    "duration": 354,
    "start_time": "2022-10-12T09:16:24.396Z"
   },
   {
    "duration": 353,
    "start_time": "2022-10-12T09:18:20.375Z"
   },
   {
    "duration": 312,
    "start_time": "2022-10-12T09:18:28.175Z"
   },
   {
    "duration": 320,
    "start_time": "2022-10-12T09:18:45.096Z"
   },
   {
    "duration": 327,
    "start_time": "2022-10-12T09:19:41.042Z"
   },
   {
    "duration": 331,
    "start_time": "2022-10-12T09:59:50.734Z"
   },
   {
    "duration": 48,
    "start_time": "2022-10-12T10:00:05.043Z"
   },
   {
    "duration": 7,
    "start_time": "2022-10-12T10:00:05.195Z"
   },
   {
    "duration": 334,
    "start_time": "2022-10-12T10:00:05.723Z"
   },
   {
    "duration": 123,
    "start_time": "2022-10-12T10:37:02.791Z"
   },
   {
    "duration": 493,
    "start_time": "2022-10-12T10:37:57.815Z"
   },
   {
    "duration": 34,
    "start_time": "2022-10-12T10:48:05.399Z"
   },
   {
    "duration": 92,
    "start_time": "2022-10-12T10:48:17.069Z"
   },
   {
    "duration": 1017,
    "start_time": "2022-10-12T10:48:40.089Z"
   },
   {
    "duration": 6327,
    "start_time": "2022-10-12T10:48:58.400Z"
   },
   {
    "duration": 677,
    "start_time": "2022-10-12T10:49:22.600Z"
   },
   {
    "duration": 253,
    "start_time": "2022-10-12T10:49:42.239Z"
   },
   {
    "duration": 1009,
    "start_time": "2022-10-12T13:23:11.232Z"
   },
   {
    "duration": 8,
    "start_time": "2022-10-12T13:23:26.102Z"
   },
   {
    "duration": 305,
    "start_time": "2022-10-12T13:23:32.609Z"
   },
   {
    "duration": 7,
    "start_time": "2022-10-12T13:23:36.724Z"
   },
   {
    "duration": 36,
    "start_time": "2022-10-12T13:23:42.014Z"
   },
   {
    "duration": 378,
    "start_time": "2022-10-12T13:23:51.281Z"
   },
   {
    "duration": 378,
    "start_time": "2022-10-12T13:24:41.121Z"
   },
   {
    "duration": 6398,
    "start_time": "2022-10-12T13:24:49.054Z"
   },
   {
    "duration": 524,
    "start_time": "2022-10-12T13:25:14.318Z"
   },
   {
    "duration": 675,
    "start_time": "2022-10-12T13:25:19.569Z"
   },
   {
    "duration": 528,
    "start_time": "2022-10-12T13:25:24.912Z"
   },
   {
    "duration": 554,
    "start_time": "2022-10-12T13:25:28.886Z"
   },
   {
    "duration": 1295,
    "start_time": "2022-10-13T05:46:18.265Z"
   },
   {
    "duration": 5,
    "start_time": "2022-10-13T05:46:19.562Z"
   },
   {
    "duration": 417,
    "start_time": "2022-10-13T05:46:19.569Z"
   },
   {
    "duration": 78,
    "start_time": "2022-10-13T05:46:19.988Z"
   },
   {
    "duration": 0,
    "start_time": "2022-10-13T05:46:20.068Z"
   },
   {
    "duration": 59,
    "start_time": "2022-10-13T05:46:39.692Z"
   },
   {
    "duration": 5,
    "start_time": "2022-10-13T05:46:39.753Z"
   },
   {
    "duration": 387,
    "start_time": "2022-10-13T05:46:39.760Z"
   },
   {
    "duration": 122,
    "start_time": "2022-10-13T05:46:40.149Z"
   },
   {
    "duration": 0,
    "start_time": "2022-10-13T05:46:40.272Z"
   },
   {
    "duration": 45,
    "start_time": "2022-10-13T05:48:10.928Z"
   },
   {
    "duration": 6,
    "start_time": "2022-10-13T05:48:10.974Z"
   },
   {
    "duration": 371,
    "start_time": "2022-10-13T05:48:10.982Z"
   },
   {
    "duration": 31906,
    "start_time": "2022-10-13T05:48:11.355Z"
   },
   {
    "duration": 726,
    "start_time": "2022-10-13T05:48:43.263Z"
   },
   {
    "duration": 18,
    "start_time": "2022-10-13T07:02:10.948Z"
   },
   {
    "duration": 10,
    "start_time": "2022-10-13T07:04:11.815Z"
   },
   {
    "duration": 377,
    "start_time": "2022-10-13T07:04:19.145Z"
   },
   {
    "duration": 30439,
    "start_time": "2022-10-13T07:04:29.062Z"
   },
   {
    "duration": 147,
    "start_time": "2022-10-13T07:05:17.048Z"
   },
   {
    "duration": 74,
    "start_time": "2022-10-13T07:05:22.028Z"
   },
   {
    "duration": 29151,
    "start_time": "2022-10-13T07:06:50.459Z"
   },
   {
    "duration": 194,
    "start_time": "2022-10-13T07:07:43.499Z"
   },
   {
    "duration": 213,
    "start_time": "2022-10-13T07:07:51.478Z"
   },
   {
    "duration": 182,
    "start_time": "2022-10-13T07:07:58.418Z"
   },
   {
    "duration": 29023,
    "start_time": "2022-10-13T07:08:38.419Z"
   },
   {
    "duration": 29046,
    "start_time": "2022-10-13T07:10:46.999Z"
   },
   {
    "duration": 343,
    "start_time": "2022-10-13T07:16:22.049Z"
   },
   {
    "duration": 313,
    "start_time": "2022-10-13T07:16:25.699Z"
   },
   {
    "duration": 29811,
    "start_time": "2022-10-13T07:16:59.078Z"
   },
   {
    "duration": 29349,
    "start_time": "2022-10-13T07:17:47.960Z"
   },
   {
    "duration": 152,
    "start_time": "2022-10-13T07:57:47.045Z"
   },
   {
    "duration": 189,
    "start_time": "2022-10-13T07:57:50.605Z"
   },
   {
    "duration": 156,
    "start_time": "2022-10-13T07:57:57.335Z"
   },
   {
    "duration": 179,
    "start_time": "2022-10-13T07:58:02.215Z"
   },
   {
    "duration": 47,
    "start_time": "2022-10-13T07:58:08.556Z"
   },
   {
    "duration": 1189,
    "start_time": "2022-10-13T08:03:59.802Z"
   },
   {
    "duration": 47,
    "start_time": "2022-10-13T08:04:06.812Z"
   },
   {
    "duration": 14,
    "start_time": "2022-10-13T08:04:06.871Z"
   },
   {
    "duration": 335,
    "start_time": "2022-10-13T08:04:06.942Z"
   },
   {
    "duration": 7284,
    "start_time": "2022-10-13T08:04:07.279Z"
   },
   {
    "duration": 232,
    "start_time": "2022-10-13T08:04:14.566Z"
   },
   {
    "duration": 29041,
    "start_time": "2022-10-13T08:04:14.896Z"
   },
   {
    "duration": 37,
    "start_time": "2022-10-13T08:06:03.472Z"
   },
   {
    "duration": 7380,
    "start_time": "2022-10-13T08:09:16.493Z"
   },
   {
    "duration": 556,
    "start_time": "2022-10-13T08:39:27.900Z"
   },
   {
    "duration": 117,
    "start_time": "2022-10-13T08:44:56.666Z"
   },
   {
    "duration": 12,
    "start_time": "2022-10-13T08:45:02.306Z"
   },
   {
    "duration": 11,
    "start_time": "2022-10-13T08:45:19.068Z"
   },
   {
    "duration": 10,
    "start_time": "2022-10-13T08:45:54.666Z"
   },
   {
    "duration": 10,
    "start_time": "2022-10-13T08:46:00.936Z"
   },
   {
    "duration": 12,
    "start_time": "2022-10-13T08:46:15.346Z"
   },
   {
    "duration": 11,
    "start_time": "2022-10-13T08:46:20.686Z"
   },
   {
    "duration": 24,
    "start_time": "2022-10-13T08:47:11.286Z"
   },
   {
    "duration": 6,
    "start_time": "2022-10-13T08:47:21.076Z"
   },
   {
    "duration": 6,
    "start_time": "2022-10-13T09:18:45.444Z"
   },
   {
    "duration": 48,
    "start_time": "2022-10-13T09:26:23.512Z"
   },
   {
    "duration": 8,
    "start_time": "2022-10-13T09:26:23.564Z"
   },
   {
    "duration": 303,
    "start_time": "2022-10-13T09:26:23.574Z"
   },
   {
    "duration": 7230,
    "start_time": "2022-10-13T09:26:23.888Z"
   },
   {
    "duration": 39,
    "start_time": "2022-10-13T09:26:31.119Z"
   },
   {
    "duration": 7467,
    "start_time": "2022-10-13T09:26:31.160Z"
   },
   {
    "duration": 5,
    "start_time": "2022-10-13T09:26:38.629Z"
   },
   {
    "duration": 37,
    "start_time": "2022-10-13T09:26:38.636Z"
   },
   {
    "duration": 1864,
    "start_time": "2022-10-13T09:46:39.346Z"
   },
   {
    "duration": 8,
    "start_time": "2022-10-13T09:46:41.212Z"
   },
   {
    "duration": 357,
    "start_time": "2022-10-13T09:46:41.222Z"
   },
   {
    "duration": 7308,
    "start_time": "2022-10-13T09:46:41.581Z"
   },
   {
    "duration": 34,
    "start_time": "2022-10-13T09:46:48.891Z"
   },
   {
    "duration": 7350,
    "start_time": "2022-10-13T09:46:48.927Z"
   },
   {
    "duration": 16,
    "start_time": "2022-10-13T09:46:56.278Z"
   },
   {
    "duration": 23,
    "start_time": "2022-10-13T09:46:56.296Z"
   },
   {
    "duration": 43,
    "start_time": "2022-10-13T12:04:54.940Z"
   },
   {
    "duration": 1712,
    "start_time": "2022-10-13T12:04:59.526Z"
   },
   {
    "duration": 76,
    "start_time": "2022-10-13T12:05:01.240Z"
   },
   {
    "duration": 0,
    "start_time": "2022-10-13T12:05:01.318Z"
   },
   {
    "duration": 0,
    "start_time": "2022-10-13T12:05:01.319Z"
   },
   {
    "duration": 0,
    "start_time": "2022-10-13T12:05:01.320Z"
   },
   {
    "duration": 1,
    "start_time": "2022-10-13T12:05:01.321Z"
   },
   {
    "duration": 0,
    "start_time": "2022-10-13T12:05:01.323Z"
   },
   {
    "duration": 0,
    "start_time": "2022-10-13T12:05:01.324Z"
   },
   {
    "duration": 68,
    "start_time": "2022-10-13T12:05:27.774Z"
   },
   {
    "duration": 85,
    "start_time": "2022-10-13T12:11:04.797Z"
   },
   {
    "duration": 8,
    "start_time": "2022-10-13T12:11:16.354Z"
   },
   {
    "duration": 16,
    "start_time": "2022-10-13T12:11:52.903Z"
   },
   {
    "duration": 8,
    "start_time": "2022-10-13T12:12:01.903Z"
   },
   {
    "duration": 18,
    "start_time": "2022-10-13T12:12:26.104Z"
   },
   {
    "duration": 31,
    "start_time": "2022-10-13T12:12:57.274Z"
   },
   {
    "duration": 25,
    "start_time": "2022-10-13T12:13:08.974Z"
   },
   {
    "duration": 16,
    "start_time": "2022-10-13T12:13:24.864Z"
   },
   {
    "duration": 21,
    "start_time": "2022-10-13T12:13:30.883Z"
   },
   {
    "duration": 11,
    "start_time": "2022-10-13T12:13:34.035Z"
   },
   {
    "duration": 12,
    "start_time": "2022-10-13T12:13:59.603Z"
   },
   {
    "duration": 21,
    "start_time": "2022-10-13T12:15:34.044Z"
   },
   {
    "duration": 60,
    "start_time": "2022-10-13T13:36:51.876Z"
   },
   {
    "duration": 20,
    "start_time": "2022-10-13T13:36:51.991Z"
   },
   {
    "duration": 293,
    "start_time": "2022-10-13T13:36:52.070Z"
   },
   {
    "duration": 6577,
    "start_time": "2022-10-13T13:36:52.364Z"
   },
   {
    "duration": 31,
    "start_time": "2022-10-13T13:36:58.942Z"
   },
   {
    "duration": 6573,
    "start_time": "2022-10-13T13:36:58.987Z"
   },
   {
    "duration": 5,
    "start_time": "2022-10-13T13:37:05.562Z"
   },
   {
    "duration": 24,
    "start_time": "2022-10-13T13:37:05.568Z"
   },
   {
    "duration": 6714,
    "start_time": "2022-10-13T13:37:15.033Z"
   },
   {
    "duration": 3,
    "start_time": "2022-10-13T13:38:13.625Z"
   },
   {
    "duration": 90,
    "start_time": "2022-10-13T13:38:21.348Z"
   },
   {
    "duration": 4,
    "start_time": "2022-10-13T13:38:27.952Z"
   },
   {
    "duration": 6380,
    "start_time": "2022-10-13T13:38:38.275Z"
   },
   {
    "duration": 6505,
    "start_time": "2022-10-13T13:54:59.912Z"
   },
   {
    "duration": 94,
    "start_time": "2022-10-13T14:55:34.807Z"
   },
   {
    "duration": 80,
    "start_time": "2022-10-13T14:55:39.486Z"
   },
   {
    "duration": 9,
    "start_time": "2022-10-13T14:57:56.663Z"
   },
   {
    "duration": 11,
    "start_time": "2022-10-13T14:58:10.574Z"
   },
   {
    "duration": 1521,
    "start_time": "2022-10-13T16:46:31.363Z"
   },
   {
    "duration": 18,
    "start_time": "2022-10-13T16:46:32.887Z"
   },
   {
    "duration": 297,
    "start_time": "2022-10-13T16:46:32.907Z"
   },
   {
    "duration": 6413,
    "start_time": "2022-10-13T16:46:33.207Z"
   },
   {
    "duration": 30,
    "start_time": "2022-10-13T16:46:39.621Z"
   },
   {
    "duration": 6063,
    "start_time": "2022-10-13T16:46:39.652Z"
   },
   {
    "duration": 9,
    "start_time": "2022-10-13T16:46:45.716Z"
   },
   {
    "duration": 4,
    "start_time": "2022-10-13T16:46:45.727Z"
   },
   {
    "duration": 6,
    "start_time": "2022-10-13T16:46:45.733Z"
   }
  ],
  "kernelspec": {
   "display_name": "Python 3 (ipykernel)",
   "language": "python",
   "name": "python3"
  },
  "language_info": {
   "codemirror_mode": {
    "name": "ipython",
    "version": 3
   },
   "file_extension": ".py",
   "mimetype": "text/x-python",
   "name": "python",
   "nbconvert_exporter": "python",
   "pygments_lexer": "ipython3",
   "version": "3.9.5"
  },
  "toc": {
   "base_numbering": 1,
   "nav_menu": {},
   "number_sections": true,
   "sideBar": true,
   "skip_h1_title": true,
   "title_cell": "Table of Contents",
   "title_sidebar": "Contents",
   "toc_cell": false,
   "toc_position": {},
   "toc_section_display": true,
   "toc_window_display": false
  }
 },
 "nbformat": 4,
 "nbformat_minor": 2
}
