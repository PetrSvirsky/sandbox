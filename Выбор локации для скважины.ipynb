{
 "cells": [
  {
   "cell_type": "markdown",
   "metadata": {},
   "source": [
    "# Выбор локации для скважины"
   ]
  },
  {
   "cell_type": "markdown",
   "metadata": {},
   "source": [
    "Выбор локации для скважины добывающей компании «ГлавРосГосНефть». \n",
    "\n",
    "Предоставлены пробы нефти в трёх регионах: в каждом 10 000 месторождений, где измерили качество нефти и объём её запасов. Нам предстоит модель машинного обучения, которая поможет определить регион, где добыча принесёт наибольшую прибыль. А также проанализировать возможную прибыль и риски техникой *Bootstrap.*\n",
    "\n",
    "Шаги для выбора локации:\n",
    "\n",
    "- В избранном регионе найдем месторождения, для каждого определим значения признаков;\n",
    "- Постороим модель и оценим объём запасов;\n",
    "- Выбирем месторождения с самыми высокими оценками значений. Количество месторождений зависит от бюджета компании и стоимости разработки одной скважины;\n",
    "- Прибыль равна суммарной прибыли отобранных месторождений."
   ]
  },
  {
   "cell_type": "markdown",
   "metadata": {},
   "source": [
    "## Загрузка и подготовка данных"
   ]
  },
  {
   "cell_type": "markdown",
   "metadata": {},
   "source": [
    "Загружаем библиотеки, сохраняем данные в переменных, знакомимся с данными"
   ]
  },
  {
   "cell_type": "code",
   "execution_count": 26,
   "metadata": {
    "scrolled": true
   },
   "outputs": [
    {
     "data": {
      "text/html": [
       "<div>\n",
       "<style scoped>\n",
       "    .dataframe tbody tr th:only-of-type {\n",
       "        vertical-align: middle;\n",
       "    }\n",
       "\n",
       "    .dataframe tbody tr th {\n",
       "        vertical-align: top;\n",
       "    }\n",
       "\n",
       "    .dataframe thead th {\n",
       "        text-align: right;\n",
       "    }\n",
       "</style>\n",
       "<table border=\"1\" class=\"dataframe\">\n",
       "  <thead>\n",
       "    <tr style=\"text-align: right;\">\n",
       "      <th></th>\n",
       "      <th>id</th>\n",
       "      <th>f0</th>\n",
       "      <th>f1</th>\n",
       "      <th>f2</th>\n",
       "      <th>product</th>\n",
       "    </tr>\n",
       "  </thead>\n",
       "  <tbody>\n",
       "    <tr>\n",
       "      <th>0</th>\n",
       "      <td>txEyH</td>\n",
       "      <td>0.705745</td>\n",
       "      <td>-0.497823</td>\n",
       "      <td>1.221170</td>\n",
       "      <td>105.280062</td>\n",
       "    </tr>\n",
       "    <tr>\n",
       "      <th>1</th>\n",
       "      <td>2acmU</td>\n",
       "      <td>1.334711</td>\n",
       "      <td>-0.340164</td>\n",
       "      <td>4.365080</td>\n",
       "      <td>73.037750</td>\n",
       "    </tr>\n",
       "    <tr>\n",
       "      <th>2</th>\n",
       "      <td>409Wp</td>\n",
       "      <td>1.022732</td>\n",
       "      <td>0.151990</td>\n",
       "      <td>1.419926</td>\n",
       "      <td>85.265647</td>\n",
       "    </tr>\n",
       "    <tr>\n",
       "      <th>3</th>\n",
       "      <td>iJLyR</td>\n",
       "      <td>-0.032172</td>\n",
       "      <td>0.139033</td>\n",
       "      <td>2.978566</td>\n",
       "      <td>168.620776</td>\n",
       "    </tr>\n",
       "    <tr>\n",
       "      <th>4</th>\n",
       "      <td>Xdl7t</td>\n",
       "      <td>1.988431</td>\n",
       "      <td>0.155413</td>\n",
       "      <td>4.751769</td>\n",
       "      <td>154.036647</td>\n",
       "    </tr>\n",
       "  </tbody>\n",
       "</table>\n",
       "</div>"
      ],
      "text/plain": [
       "      id        f0        f1        f2     product\n",
       "0  txEyH  0.705745 -0.497823  1.221170  105.280062\n",
       "1  2acmU  1.334711 -0.340164  4.365080   73.037750\n",
       "2  409Wp  1.022732  0.151990  1.419926   85.265647\n",
       "3  iJLyR -0.032172  0.139033  2.978566  168.620776\n",
       "4  Xdl7t  1.988431  0.155413  4.751769  154.036647"
      ]
     },
     "metadata": {},
     "output_type": "display_data"
    },
    {
     "data": {
      "text/html": [
       "<div>\n",
       "<style scoped>\n",
       "    .dataframe tbody tr th:only-of-type {\n",
       "        vertical-align: middle;\n",
       "    }\n",
       "\n",
       "    .dataframe tbody tr th {\n",
       "        vertical-align: top;\n",
       "    }\n",
       "\n",
       "    .dataframe thead th {\n",
       "        text-align: right;\n",
       "    }\n",
       "</style>\n",
       "<table border=\"1\" class=\"dataframe\">\n",
       "  <thead>\n",
       "    <tr style=\"text-align: right;\">\n",
       "      <th></th>\n",
       "      <th>id</th>\n",
       "      <th>f0</th>\n",
       "      <th>f1</th>\n",
       "      <th>f2</th>\n",
       "      <th>product</th>\n",
       "    </tr>\n",
       "  </thead>\n",
       "  <tbody>\n",
       "    <tr>\n",
       "      <th>0</th>\n",
       "      <td>kBEdx</td>\n",
       "      <td>-15.001348</td>\n",
       "      <td>-8.276000</td>\n",
       "      <td>-0.005876</td>\n",
       "      <td>3.179103</td>\n",
       "    </tr>\n",
       "    <tr>\n",
       "      <th>1</th>\n",
       "      <td>62mP7</td>\n",
       "      <td>14.272088</td>\n",
       "      <td>-3.475083</td>\n",
       "      <td>0.999183</td>\n",
       "      <td>26.953261</td>\n",
       "    </tr>\n",
       "    <tr>\n",
       "      <th>2</th>\n",
       "      <td>vyE1P</td>\n",
       "      <td>6.263187</td>\n",
       "      <td>-5.948386</td>\n",
       "      <td>5.001160</td>\n",
       "      <td>134.766305</td>\n",
       "    </tr>\n",
       "    <tr>\n",
       "      <th>3</th>\n",
       "      <td>KcrkZ</td>\n",
       "      <td>-13.081196</td>\n",
       "      <td>-11.506057</td>\n",
       "      <td>4.999415</td>\n",
       "      <td>137.945408</td>\n",
       "    </tr>\n",
       "    <tr>\n",
       "      <th>4</th>\n",
       "      <td>AHL4O</td>\n",
       "      <td>12.702195</td>\n",
       "      <td>-8.147433</td>\n",
       "      <td>5.004363</td>\n",
       "      <td>134.766305</td>\n",
       "    </tr>\n",
       "  </tbody>\n",
       "</table>\n",
       "</div>"
      ],
      "text/plain": [
       "      id         f0         f1        f2     product\n",
       "0  kBEdx -15.001348  -8.276000 -0.005876    3.179103\n",
       "1  62mP7  14.272088  -3.475083  0.999183   26.953261\n",
       "2  vyE1P   6.263187  -5.948386  5.001160  134.766305\n",
       "3  KcrkZ -13.081196 -11.506057  4.999415  137.945408\n",
       "4  AHL4O  12.702195  -8.147433  5.004363  134.766305"
      ]
     },
     "metadata": {},
     "output_type": "display_data"
    },
    {
     "data": {
      "text/html": [
       "<div>\n",
       "<style scoped>\n",
       "    .dataframe tbody tr th:only-of-type {\n",
       "        vertical-align: middle;\n",
       "    }\n",
       "\n",
       "    .dataframe tbody tr th {\n",
       "        vertical-align: top;\n",
       "    }\n",
       "\n",
       "    .dataframe thead th {\n",
       "        text-align: right;\n",
       "    }\n",
       "</style>\n",
       "<table border=\"1\" class=\"dataframe\">\n",
       "  <thead>\n",
       "    <tr style=\"text-align: right;\">\n",
       "      <th></th>\n",
       "      <th>id</th>\n",
       "      <th>f0</th>\n",
       "      <th>f1</th>\n",
       "      <th>f2</th>\n",
       "      <th>product</th>\n",
       "    </tr>\n",
       "  </thead>\n",
       "  <tbody>\n",
       "    <tr>\n",
       "      <th>0</th>\n",
       "      <td>fwXo0</td>\n",
       "      <td>-1.146987</td>\n",
       "      <td>0.963328</td>\n",
       "      <td>-0.828965</td>\n",
       "      <td>27.758673</td>\n",
       "    </tr>\n",
       "    <tr>\n",
       "      <th>1</th>\n",
       "      <td>WJtFt</td>\n",
       "      <td>0.262778</td>\n",
       "      <td>0.269839</td>\n",
       "      <td>-2.530187</td>\n",
       "      <td>56.069697</td>\n",
       "    </tr>\n",
       "    <tr>\n",
       "      <th>2</th>\n",
       "      <td>ovLUW</td>\n",
       "      <td>0.194587</td>\n",
       "      <td>0.289035</td>\n",
       "      <td>-5.586433</td>\n",
       "      <td>62.871910</td>\n",
       "    </tr>\n",
       "    <tr>\n",
       "      <th>3</th>\n",
       "      <td>q6cA6</td>\n",
       "      <td>2.236060</td>\n",
       "      <td>-0.553760</td>\n",
       "      <td>0.930038</td>\n",
       "      <td>114.572842</td>\n",
       "    </tr>\n",
       "    <tr>\n",
       "      <th>4</th>\n",
       "      <td>WPMUX</td>\n",
       "      <td>-0.515993</td>\n",
       "      <td>1.716266</td>\n",
       "      <td>5.899011</td>\n",
       "      <td>149.600746</td>\n",
       "    </tr>\n",
       "  </tbody>\n",
       "</table>\n",
       "</div>"
      ],
      "text/plain": [
       "      id        f0        f1        f2     product\n",
       "0  fwXo0 -1.146987  0.963328 -0.828965   27.758673\n",
       "1  WJtFt  0.262778  0.269839 -2.530187   56.069697\n",
       "2  ovLUW  0.194587  0.289035 -5.586433   62.871910\n",
       "3  q6cA6  2.236060 -0.553760  0.930038  114.572842\n",
       "4  WPMUX -0.515993  1.716266  5.899011  149.600746"
      ]
     },
     "metadata": {},
     "output_type": "display_data"
    }
   ],
   "source": [
    "import pandas as pd\n",
    "import numpy as np\n",
    "from sklearn.model_selection import train_test_split\n",
    "from sklearn.linear_model import LinearRegression\n",
    "from sklearn.metrics import mean_squared_error\n",
    "\n",
    "state = np.random.RandomState(42)\n",
    "\n",
    "data_0 = pd.read_csv('/datasets/geo_data_0.csv')\n",
    "data_1 = pd.read_csv('/datasets/geo_data_1.csv')\n",
    "data_2 = pd.read_csv('/datasets/geo_data_2.csv')\n",
    "\n",
    "display(data_0.head())\n",
    "display(data_1.head())\n",
    "display(data_2.head())"
   ]
  },
  {
   "cell_type": "markdown",
   "metadata": {},
   "source": [
    "Проверяем на наличие пропусков."
   ]
  },
  {
   "cell_type": "code",
   "execution_count": 27,
   "metadata": {
    "scrolled": true
   },
   "outputs": [
    {
     "data": {
      "text/plain": [
       "id         0\n",
       "f0         0\n",
       "f1         0\n",
       "f2         0\n",
       "product    0\n",
       "dtype: int64"
      ]
     },
     "metadata": {},
     "output_type": "display_data"
    },
    {
     "data": {
      "text/plain": [
       "id         0\n",
       "f0         0\n",
       "f1         0\n",
       "f2         0\n",
       "product    0\n",
       "dtype: int64"
      ]
     },
     "metadata": {},
     "output_type": "display_data"
    },
    {
     "data": {
      "text/plain": [
       "id         0\n",
       "f0         0\n",
       "f1         0\n",
       "f2         0\n",
       "product    0\n",
       "dtype: int64"
      ]
     },
     "metadata": {},
     "output_type": "display_data"
    }
   ],
   "source": [
    "display(data_0.isna().sum())\n",
    "display(data_1.isna().sum())\n",
    "display(data_2.isna().sum())\n"
   ]
  },
  {
   "cell_type": "markdown",
   "metadata": {},
   "source": [
    "Разделим данные на обучающие и валидационные выборки:"
   ]
  },
  {
   "cell_type": "code",
   "execution_count": 28,
   "metadata": {},
   "outputs": [
    {
     "data": {
      "text/plain": [
       "(100000, 3)"
      ]
     },
     "metadata": {},
     "output_type": "display_data"
    },
    {
     "data": {
      "text/plain": [
       "(100000,)"
      ]
     },
     "metadata": {},
     "output_type": "display_data"
    },
    {
     "data": {
      "text/plain": [
       "(100000, 3)"
      ]
     },
     "metadata": {},
     "output_type": "display_data"
    },
    {
     "data": {
      "text/plain": [
       "(100000,)"
      ]
     },
     "metadata": {},
     "output_type": "display_data"
    },
    {
     "data": {
      "text/plain": [
       "(100000, 3)"
      ]
     },
     "metadata": {},
     "output_type": "display_data"
    },
    {
     "data": {
      "text/plain": [
       "(100000,)"
      ]
     },
     "metadata": {},
     "output_type": "display_data"
    }
   ],
   "source": [
    "features_0, features_1, features_2 = (\n",
    "    data_0.drop(['id', 'product'], axis=1),\n",
    "    data_1.drop(['id', 'product'], axis=1),\n",
    "    data_2.drop(['id', 'product'], axis=1)\n",
    ")\n",
    "target_0, target_1, target_2 = data_0['product'], data_1['product'], data_2['product']\n",
    "\n",
    "display(features_0.shape)\n",
    "display(target_0.shape)\n",
    "display(features_1.shape)\n",
    "display(target_1.shape)\n",
    "display(features_2.shape)\n",
    "display(target_2.shape)"
   ]
  },
  {
   "cell_type": "markdown",
   "metadata": {},
   "source": [
    "Так как столбец id не поможет нам улучшить качество моделей - исключим его из обучающих данных."
   ]
  },
  {
   "cell_type": "code",
   "execution_count": 29,
   "metadata": {
    "scrolled": true
   },
   "outputs": [
    {
     "data": {
      "text/plain": [
       "(75000, 3)"
      ]
     },
     "metadata": {},
     "output_type": "display_data"
    },
    {
     "data": {
      "text/plain": [
       "(25000, 3)"
      ]
     },
     "metadata": {},
     "output_type": "display_data"
    },
    {
     "data": {
      "text/plain": [
       "(75000,)"
      ]
     },
     "metadata": {},
     "output_type": "display_data"
    },
    {
     "data": {
      "text/plain": [
       "(25000,)"
      ]
     },
     "metadata": {},
     "output_type": "display_data"
    },
    {
     "data": {
      "text/plain": [
       "(75000, 3)"
      ]
     },
     "metadata": {},
     "output_type": "display_data"
    },
    {
     "data": {
      "text/plain": [
       "(25000, 3)"
      ]
     },
     "metadata": {},
     "output_type": "display_data"
    },
    {
     "data": {
      "text/plain": [
       "(75000,)"
      ]
     },
     "metadata": {},
     "output_type": "display_data"
    },
    {
     "data": {
      "text/plain": [
       "(25000,)"
      ]
     },
     "metadata": {},
     "output_type": "display_data"
    },
    {
     "data": {
      "text/plain": [
       "(75000, 3)"
      ]
     },
     "metadata": {},
     "output_type": "display_data"
    },
    {
     "data": {
      "text/plain": [
       "(25000, 3)"
      ]
     },
     "metadata": {},
     "output_type": "display_data"
    },
    {
     "data": {
      "text/plain": [
       "(75000,)"
      ]
     },
     "metadata": {},
     "output_type": "display_data"
    },
    {
     "data": {
      "text/plain": [
       "(25000,)"
      ]
     },
     "metadata": {},
     "output_type": "display_data"
    }
   ],
   "source": [
    "features_train_0, features_valid_0, target_train_0, target_valid_0 = train_test_split(\n",
    "    features_0, target_0, test_size=0.25, random_state=state)\n",
    "\n",
    "features_train_1, features_valid_1, target_train_1, target_valid_1 = train_test_split(\n",
    "    features_1, target_1, test_size=0.25, random_state=state)\n",
    "\n",
    "features_train_2, features_valid_2, target_train_2, target_valid_2 = train_test_split(\n",
    "    features_2, target_2, test_size=0.25, random_state=state)\n",
    "\n",
    "display(features_train_0.shape)\n",
    "display(features_valid_0.shape)\n",
    "display(target_train_0.shape)\n",
    "display(target_valid_0.shape)\n",
    "display(features_train_1.shape)\n",
    "display(features_valid_1.shape)\n",
    "display(target_train_1.shape)\n",
    "display(target_valid_1.shape)\n",
    "display(features_train_2.shape)\n",
    "display(features_valid_2.shape)\n",
    "display(target_train_2.shape)\n",
    "display(target_valid_2.shape)\n"
   ]
  },
  {
   "cell_type": "markdown",
   "metadata": {},
   "source": [
    "Разобьем данные на обучающие и валидационные выборки, проверим с помощью функции shape."
   ]
  },
  {
   "cell_type": "code",
   "execution_count": 30,
   "metadata": {
    "scrolled": true
   },
   "outputs": [
    {
     "data": {
      "text/html": [
       "<div>\n",
       "<style scoped>\n",
       "    .dataframe tbody tr th:only-of-type {\n",
       "        vertical-align: middle;\n",
       "    }\n",
       "\n",
       "    .dataframe tbody tr th {\n",
       "        vertical-align: top;\n",
       "    }\n",
       "\n",
       "    .dataframe thead th {\n",
       "        text-align: right;\n",
       "    }\n",
       "</style>\n",
       "<table border=\"1\" class=\"dataframe\">\n",
       "  <thead>\n",
       "    <tr style=\"text-align: right;\">\n",
       "      <th></th>\n",
       "      <th>f0</th>\n",
       "      <th>f1</th>\n",
       "      <th>f2</th>\n",
       "    </tr>\n",
       "  </thead>\n",
       "  <tbody>\n",
       "    <tr>\n",
       "      <th>98980</th>\n",
       "      <td>1.274786</td>\n",
       "      <td>-0.799739</td>\n",
       "      <td>-0.396677</td>\n",
       "    </tr>\n",
       "    <tr>\n",
       "      <th>69824</th>\n",
       "      <td>-1.600689</td>\n",
       "      <td>0.234678</td>\n",
       "      <td>-2.169283</td>\n",
       "    </tr>\n",
       "    <tr>\n",
       "      <th>9928</th>\n",
       "      <td>-0.323791</td>\n",
       "      <td>1.436297</td>\n",
       "      <td>1.495425</td>\n",
       "    </tr>\n",
       "    <tr>\n",
       "      <th>75599</th>\n",
       "      <td>0.439038</td>\n",
       "      <td>0.830679</td>\n",
       "      <td>0.185881</td>\n",
       "    </tr>\n",
       "    <tr>\n",
       "      <th>95621</th>\n",
       "      <td>-1.652805</td>\n",
       "      <td>0.761012</td>\n",
       "      <td>0.111734</td>\n",
       "    </tr>\n",
       "  </tbody>\n",
       "</table>\n",
       "</div>"
      ],
      "text/plain": [
       "             f0        f1        f2\n",
       "98980  1.274786 -0.799739 -0.396677\n",
       "69824 -1.600689  0.234678 -2.169283\n",
       "9928  -0.323791  1.436297  1.495425\n",
       "75599  0.439038  0.830679  0.185881\n",
       "95621 -1.652805  0.761012  0.111734"
      ]
     },
     "execution_count": 30,
     "metadata": {},
     "output_type": "execute_result"
    }
   ],
   "source": [
    "pd.options.mode.chained_assignment = None\n",
    "\n",
    "from sklearn.preprocessing import StandardScaler\n",
    "\n",
    "def super_scaler(data_train, data_valid):\n",
    "    numeric = data_train.columns\n",
    "\n",
    "    scaler = StandardScaler()\n",
    "    scaler.fit(data_train[numeric])\n",
    "    data_train[numeric] = scaler.transform(data_train[numeric])\n",
    "    data_valid[numeric] = scaler.transform(data_valid[numeric])\n",
    "    return data_train, data_valid\n",
    "\n",
    "features_train_0, features_valid_0 = super_scaler(features_train_0, features_valid_0)\n",
    "features_train_1, features_valid_1 = super_scaler(features_train_1, features_valid_1)\n",
    "features_train_2, features_valid_2 = super_scaler(features_train_2, features_valid_2)\n",
    "\n",
    "features_train_0.head()\n"
   ]
  },
  {
   "cell_type": "markdown",
   "metadata": {},
   "source": [
    "Создал функцию для масштабирования обучающих данных. Качество предсказаний моделей это не улучшило. Для линейной регрессии этого не надо делать?"
   ]
  },
  {
   "cell_type": "markdown",
   "metadata": {},
   "source": [
    "## Обучение и проверка модели"
   ]
  },
  {
   "cell_type": "markdown",
   "metadata": {},
   "source": [
    "Создадим функцию для обучения модели логистической регрессии с расчетеом RMSE и среднего запаса сырья в регионе, предсказания и ответы сохраним в переменных. \n",
    "Вопрос: почему по условиям задачи именно логистическая регрессия (я почитал еще про Ridge и ElasticNet), и почему рассчитываем именно RMSE? Так как это первый проект, где надо применять методы регресии, не очень понимаю метрик регрессии, может есть какие-нибудь статьи по выбору метрик и их интерпретации?"
   ]
  },
  {
   "cell_type": "code",
   "execution_count": 31,
   "metadata": {},
   "outputs": [],
   "source": [
    "def model_predict(features_train, target_train, features_valid, target_valid):\n",
    "    model = LinearRegression()\n",
    "    model.fit(features_train, target_train)\n",
    "    predictions_valid = model.predict(features_valid)\n",
    "    mean = predictions_valid.mean()\n",
    "    rmse = (mean_squared_error(target_valid, predictions_valid))**0.5\n",
    "    print('Средний запас =', round(mean, 2))\n",
    "    print('RMSE модели  =', round(rmse, 2))\n",
    "    return predictions_valid, target_valid\n",
    "\n"
   ]
  },
  {
   "cell_type": "code",
   "execution_count": 32,
   "metadata": {
    "scrolled": true
   },
   "outputs": [
    {
     "name": "stdout",
     "output_type": "stream",
     "text": [
      "Средний запас = 92.4\n",
      "RMSE модели  = 37.76\n"
     ]
    }
   ],
   "source": [
    "predictions_valid_0, target_valid_0 = model_predict(features_train_0, target_train_0, features_valid_0, target_valid_0)"
   ]
  },
  {
   "cell_type": "code",
   "execution_count": 33,
   "metadata": {},
   "outputs": [
    {
     "name": "stdout",
     "output_type": "stream",
     "text": [
      "Средний запас = 68.59\n",
      "RMSE модели  = 0.89\n"
     ]
    }
   ],
   "source": [
    "predictions_valid_1, target_valid_1 = model_predict(features_train_1, target_train_1, features_valid_1, target_valid_1)"
   ]
  },
  {
   "cell_type": "code",
   "execution_count": 34,
   "metadata": {
    "scrolled": true
   },
   "outputs": [
    {
     "name": "stdout",
     "output_type": "stream",
     "text": [
      "Средний запас = 95.09\n",
      "RMSE модели  = 40.24\n"
     ]
    }
   ],
   "source": [
    "predictions_valid_2, target_valid_2 = model_predict(features_train_2, target_train_2, features_valid_2, target_valid_2)"
   ]
  },
  {
   "cell_type": "markdown",
   "metadata": {},
   "source": [
    "Самый низкий запас сырья в регионе 1, качество предсказаний самое лучшее так же в 1 регионе."
   ]
  },
  {
   "cell_type": "markdown",
   "metadata": {},
   "source": [
    "Попытался применить GridSearch и кроссвалидацию на линейной регресии, протратил много времени, результат хуже, чем без них.\n",
    "Для линейной регресии в этом нет смысла? или я что-то не так сделал? и почему у меня RMSE получися отрицательным в обоих случаях?"
   ]
  },
  {
   "cell_type": "code",
   "execution_count": 35,
   "metadata": {},
   "outputs": [
    {
     "name": "stdout",
     "output_type": "stream",
     "text": [
      "('rmse : ', -37.67200536313506)\n"
     ]
    }
   ],
   "source": [
    "from sklearn.model_selection import GridSearchCV\n",
    "\n",
    "\n",
    "def models_rmse(features_train, target_train):\n",
    "\n",
    "    model = LinearRegression()\n",
    "    parameters = {'fit_intercept':[True,False], 'normalize':[True,False], 'copy_X':[True, False]}\n",
    "    grid = GridSearchCV(model,parameters, scoring = 'neg_root_mean_squared_error', cv=5)\n",
    "    grid.fit(features_train, target_train)\n",
    "    return \"rmse : \", grid.best_score_\n",
    "\n",
    "print(models_rmse(features_train_0, target_train_0))    "
   ]
  },
  {
   "cell_type": "code",
   "execution_count": 36,
   "metadata": {},
   "outputs": [
    {
     "name": "stdout",
     "output_type": "stream",
     "text": [
      "rmse  -37.67200536313506\n"
     ]
    }
   ],
   "source": [
    "from sklearn.model_selection import cross_val_score\n",
    "\n",
    "def get_cv_scores(model, features_train, target_train): \n",
    "    scores = cross_val_score(model, \n",
    "                             features_train, \n",
    "                             target_train, \n",
    "                             cv=5, \n",
    "                             scoring='neg_root_mean_squared_error') \n",
    "    \n",
    "    model.fit(features_train, target_train)\n",
    "    print('rmse ', np.mean(scores)) \n",
    "\n",
    "lr = LinearRegression()\n",
    "get_cv_scores(lr, features_train_0, target_train_0)\n",
    " "
   ]
  },
  {
   "cell_type": "markdown",
   "metadata": {},
   "source": [
    "## Подготовка к расчёту прибыли"
   ]
  },
  {
   "cell_type": "markdown",
   "metadata": {},
   "source": [
    "Рассчитаем достаточный объём сырья для безубыточной разработки новой скважины. Для этого бюджет разделим на произведение кол-ва точек добычи и ценой за баррель."
   ]
  },
  {
   "cell_type": "code",
   "execution_count": 37,
   "metadata": {
    "scrolled": true
   },
   "outputs": [
    {
     "name": "stdout",
     "output_type": "stream",
     "text": [
      "Достаточный объем сырья = 111.11\n"
     ]
    }
   ],
   "source": [
    "budget = 10_000_000_000\n",
    "best_points = 200\n",
    "barrels_price = 450_000\n",
    "print('Достаточный объем сырья =', round(budget/(best_points*barrels_price), 2))"
   ]
  },
  {
   "cell_type": "markdown",
   "metadata": {},
   "source": [
    "## Расчёт прибыли и рисков "
   ]
  },
  {
   "cell_type": "markdown",
   "metadata": {},
   "source": [
    "Напишем функцию для расчёта прибыли по выбранным скважинам и предсказаниям модели:\n",
    "-отсортируем предсказания по убыванию.\n",
    "-выберем заданное количество ответов с наивысшим показателем сырья\n",
    "-вычтем из бюджета сумму валовой прибыли для оценки чистой прибыли"
   ]
  },
  {
   "cell_type": "code",
   "execution_count": 38,
   "metadata": {},
   "outputs": [],
   "source": [
    "def profit(target_valid, predictions_valid, count):\n",
    "    predictions = pd.Series(predictions_valid, index=target_valid.index)\n",
    "    probs_sorted = predictions.sort_values(ascending=False)\n",
    "    selected = target_valid[probs_sorted.index][:count]\n",
    "    return barrels_price * selected.sum() - budget"
   ]
  },
  {
   "cell_type": "code",
   "execution_count": null,
   "metadata": {},
   "outputs": [],
   "source": []
  },
  {
   "cell_type": "code",
   "execution_count": 39,
   "metadata": {},
   "outputs": [
    {
     "name": "stdout",
     "output_type": "stream",
     "text": [
      "Прибыль в регионе 0 = 3.36 млрд\n"
     ]
    }
   ],
   "source": [
    "print('Прибыль в регионе 0 =',round(profit(target_valid_0, predictions_valid_0, 200)/1000000000, 2), 'млрд')"
   ]
  },
  {
   "cell_type": "code",
   "execution_count": 40,
   "metadata": {},
   "outputs": [
    {
     "name": "stdout",
     "output_type": "stream",
     "text": [
      "Прибыль в регионе 1 = 2.42 млрд\n"
     ]
    }
   ],
   "source": [
    "print('Прибыль в регионе 1 =',round(profit(target_valid_1, predictions_valid_1, 200)/1000000000, 2), 'млрд')"
   ]
  },
  {
   "cell_type": "code",
   "execution_count": 41,
   "metadata": {
    "scrolled": true
   },
   "outputs": [
    {
     "name": "stdout",
     "output_type": "stream",
     "text": [
      "Прибыль в регионе 2 = 2.58 млрд\n"
     ]
    }
   ],
   "source": [
    "print('Прибыль в регионе 2 =',round(profit(target_valid_2, predictions_valid_2, 200)/1000000000, 2), 'млрд')"
   ]
  },
  {
   "cell_type": "markdown",
   "metadata": {},
   "source": [
    "Далее напишем функцию для расчета средней прибыли для региона, 95% доберительного интервала и риска убытков:\n",
    "-для лучшей визуализации удем делить результаты на миллион и округлять до 2 знаков после запятой.\n",
    "-с помощью бутстрепа 1000 раз выборем случайные 500 точек добычи, из них выберем 200 наибольших по запасу сырья с помощью сортировки.\n",
    "-Расчитаем среднюю прибыли=ь для региона, 95% доберительный интервал(по 2.5% с каждой стороны) и риск убытков, т.е. pvalue:"
   ]
  },
  {
   "cell_type": "code",
   "execution_count": 42,
   "metadata": {},
   "outputs": [],
   "source": [
    "million = 1000000\n",
    "def risk_profit(target_valid, predictions_valid, name):\n",
    "    values = []\n",
    "    for i in range(1000):\n",
    "        target_subsample = target_valid.sample(500, replace=True, random_state=state)\n",
    "        probabilities = pd.Series(predictions_valid, index=target_valid.index)\n",
    "        probs_subsample = probabilities[target_subsample.index]\n",
    "        target_subsample = target_subsample.reset_index(drop = True)\n",
    "        probs_subsample = probs_subsample.reset_index(drop = True)\n",
    "        values.append(profit(target_subsample, probs_subsample, 200))\n",
    "    values = pd.Series(values)\n",
    "    mean = values.mean()/million\n",
    "    lower = values.quantile(0.025)/million\n",
    "    upper = values.quantile(0.975)/million\n",
    "    print('Средняя прибыль для региона', name, '=', mean, 'млн')\n",
    "    print('95%-й доверительный интервал для региона', name, '=', 'от', round(lower, 2), 'млн',\n",
    "          'до', round(upper, 2), 'млн')\n",
    "    print('Риск убытков =', (values < 0).mean())"
   ]
  },
  {
   "cell_type": "markdown",
   "metadata": {},
   "source": [
    "Далее сохраним в регионы, целевые значения и предсказания в списки для визуализации через функции через цикл:"
   ]
  },
  {
   "cell_type": "code",
   "execution_count": 43,
   "metadata": {
    "scrolled": true
   },
   "outputs": [
    {
     "name": "stdout",
     "output_type": "stream",
     "text": [
      "Средняя прибыль для региона 0 = 415.6606390640568 млн\n",
      "95%-й доверительный интервал для региона 0 = от -136.33 млн до 932.34 млн\n",
      "Риск убытков = 0.062\n",
      "\n",
      "Средняя прибыль для региона 1 = 429.5446180738954 млн\n",
      "95%-й доверительный интервал для региона 1 = от 37.48 млн до 813.8 млн\n",
      "Риск убытков = 0.015\n",
      "\n",
      "Средняя прибыль для региона 2 = 318.1530922311814 млн\n",
      "95%-й доверительный интервал для региона 2 = от -227.79 млн до 813.88 млн\n",
      "Риск убытков = 0.123\n",
      "\n"
     ]
    }
   ],
   "source": [
    "region = ['0', '1', '2']\n",
    "target = [target_valid_0,  target_valid_1, target_valid_2]\n",
    "predictions = [predictions_valid_0, predictions_valid_1, predictions_valid_2]\n",
    "for region, target, predictions in zip(region, target, predictions):\n",
    "    risk_profit(target, predictions, region)\n",
    "    print()"
   ]
  },
  {
   "cell_type": "markdown",
   "metadata": {},
   "source": [
    "# Вывод:"
   ]
  },
  {
   "cell_type": "markdown",
   "metadata": {},
   "source": [
    "Так как в регионе под номером 1  наивысший показатель средней прибыли, наименьший риск убытков,\n",
    "а максимальная прибыль не сильно ниже чем в регионе под номером 0- рекомендовано разрабатывать регион под номером 1."
   ]
  },
  {
   "cell_type": "code",
   "execution_count": null,
   "metadata": {},
   "outputs": [],
   "source": []
  }
 ],
 "metadata": {
  "ExecuteTimeLog": [
   {
    "duration": 1952,
    "start_time": "2022-11-16T08:59:38.577Z"
   },
   {
    "duration": 52,
    "start_time": "2022-11-16T11:25:56.340Z"
   },
   {
    "duration": 1363,
    "start_time": "2022-11-16T11:26:03.190Z"
   },
   {
    "duration": 11,
    "start_time": "2022-11-16T11:26:04.555Z"
   },
   {
    "duration": 17,
    "start_time": "2022-11-16T11:26:20.691Z"
   },
   {
    "duration": 23,
    "start_time": "2022-11-16T11:26:33.032Z"
   },
   {
    "duration": 45,
    "start_time": "2022-11-18T06:43:32.037Z"
   },
   {
    "duration": 1896,
    "start_time": "2022-11-18T06:43:39.715Z"
   },
   {
    "duration": 13,
    "start_time": "2022-11-18T06:43:41.613Z"
   },
   {
    "duration": 8,
    "start_time": "2022-11-18T06:43:41.627Z"
   },
   {
    "duration": 12,
    "start_time": "2022-11-18T06:44:43.941Z"
   },
   {
    "duration": 11,
    "start_time": "2022-11-18T06:45:10.759Z"
   },
   {
    "duration": 16,
    "start_time": "2022-11-18T06:50:09.848Z"
   },
   {
    "duration": 15,
    "start_time": "2022-11-18T06:51:44.878Z"
   },
   {
    "duration": 27,
    "start_time": "2022-11-18T06:57:04.287Z"
   },
   {
    "duration": 45,
    "start_time": "2022-11-18T06:58:52.591Z"
   },
   {
    "duration": 2367,
    "start_time": "2022-11-18T08:40:35.817Z"
   },
   {
    "duration": 76,
    "start_time": "2022-11-18T08:40:38.186Z"
   },
   {
    "duration": 21,
    "start_time": "2022-11-18T08:40:38.265Z"
   },
   {
    "duration": 173,
    "start_time": "2022-11-18T08:40:38.288Z"
   },
   {
    "duration": 379,
    "start_time": "2022-11-18T08:56:47.128Z"
   },
   {
    "duration": 389,
    "start_time": "2022-11-18T08:59:22.541Z"
   },
   {
    "duration": 26,
    "start_time": "2022-11-18T08:59:22.932Z"
   },
   {
    "duration": 34,
    "start_time": "2022-11-18T08:59:22.961Z"
   },
   {
    "duration": 60,
    "start_time": "2022-11-18T08:59:22.998Z"
   },
   {
    "duration": 13,
    "start_time": "2022-11-18T10:00:18.960Z"
   },
   {
    "duration": 98,
    "start_time": "2022-11-18T10:00:39.319Z"
   },
   {
    "duration": 7850,
    "start_time": "2022-11-18T10:03:08.903Z"
   },
   {
    "duration": 4032,
    "start_time": "2022-11-18T10:03:38.121Z"
   },
   {
    "duration": 2957,
    "start_time": "2022-11-18T10:03:47.596Z"
   },
   {
    "duration": 7466,
    "start_time": "2022-11-18T10:03:55.687Z"
   },
   {
    "duration": 21,
    "start_time": "2022-11-18T10:08:52.906Z"
   },
   {
    "duration": 7797,
    "start_time": "2022-11-18T10:09:10.556Z"
   },
   {
    "duration": 7401,
    "start_time": "2022-11-18T10:09:29.352Z"
   },
   {
    "duration": 17,
    "start_time": "2022-11-18T10:09:39.686Z"
   },
   {
    "duration": 7962,
    "start_time": "2022-11-18T10:13:09.991Z"
   },
   {
    "duration": 7659,
    "start_time": "2022-11-18T10:13:43.494Z"
   },
   {
    "duration": 4,
    "start_time": "2022-11-18T10:28:32.775Z"
   },
   {
    "duration": 523,
    "start_time": "2022-11-18T10:29:38.829Z"
   },
   {
    "duration": 322,
    "start_time": "2022-11-18T10:31:15.233Z"
   },
   {
    "duration": 7698,
    "start_time": "2022-11-18T10:32:02.955Z"
   },
   {
    "duration": 15,
    "start_time": "2022-11-18T10:57:09.219Z"
   },
   {
    "duration": 7581,
    "start_time": "2022-11-18T11:46:35.583Z"
   },
   {
    "duration": 7191,
    "start_time": "2022-11-18T11:47:23.361Z"
   },
   {
    "duration": 8195,
    "start_time": "2022-11-18T12:04:44.958Z"
   },
   {
    "duration": 7702,
    "start_time": "2022-11-18T12:05:02.960Z"
   },
   {
    "duration": 7862,
    "start_time": "2022-11-18T12:05:55.691Z"
   },
   {
    "duration": 18,
    "start_time": "2022-11-18T12:06:53.637Z"
   },
   {
    "duration": 7856,
    "start_time": "2022-11-18T12:06:59.105Z"
   },
   {
    "duration": 9,
    "start_time": "2022-11-18T12:08:09.136Z"
   },
   {
    "duration": 5,
    "start_time": "2022-11-18T12:08:23.726Z"
   },
   {
    "duration": 5,
    "start_time": "2022-11-18T12:08:42.087Z"
   },
   {
    "duration": 5,
    "start_time": "2022-11-18T12:11:24.051Z"
   },
   {
    "duration": 5,
    "start_time": "2022-11-18T13:04:36.223Z"
   },
   {
    "duration": 5,
    "start_time": "2022-11-18T13:04:50.972Z"
   },
   {
    "duration": 13,
    "start_time": "2022-11-18T13:07:46.182Z"
   },
   {
    "duration": 45,
    "start_time": "2022-11-18T13:08:19.640Z"
   },
   {
    "duration": 17,
    "start_time": "2022-11-18T13:13:40.456Z"
   },
   {
    "duration": 16,
    "start_time": "2022-11-18T13:14:06.563Z"
   },
   {
    "duration": 20,
    "start_time": "2022-11-18T13:14:29.938Z"
   },
   {
    "duration": 13,
    "start_time": "2022-11-18T13:14:44.598Z"
   },
   {
    "duration": 7426,
    "start_time": "2022-11-18T13:14:52.336Z"
   },
   {
    "duration": 644,
    "start_time": "2022-11-18T13:15:05.014Z"
   },
   {
    "duration": 7394,
    "start_time": "2022-11-18T13:15:10.560Z"
   },
   {
    "duration": 13,
    "start_time": "2022-11-18T13:15:37.415Z"
   },
   {
    "duration": 371,
    "start_time": "2022-11-18T13:16:35.327Z"
   },
   {
    "duration": 12,
    "start_time": "2022-11-18T13:16:35.700Z"
   },
   {
    "duration": 17,
    "start_time": "2022-11-18T13:16:35.714Z"
   },
   {
    "duration": 56,
    "start_time": "2022-11-18T13:16:35.733Z"
   },
   {
    "duration": 19,
    "start_time": "2022-11-18T13:16:35.790Z"
   },
   {
    "duration": 46,
    "start_time": "2022-11-18T13:16:35.810Z"
   },
   {
    "duration": 8002,
    "start_time": "2022-11-18T13:16:35.857Z"
   },
   {
    "duration": 496,
    "start_time": "2022-11-18T13:16:43.861Z"
   },
   {
    "duration": 14,
    "start_time": "2022-11-18T13:17:09.526Z"
   },
   {
    "duration": 372,
    "start_time": "2022-11-18T13:17:13.053Z"
   },
   {
    "duration": 26,
    "start_time": "2022-11-18T13:17:13.427Z"
   },
   {
    "duration": 17,
    "start_time": "2022-11-18T13:17:13.455Z"
   },
   {
    "duration": 79,
    "start_time": "2022-11-18T13:17:13.474Z"
   },
   {
    "duration": 23,
    "start_time": "2022-11-18T13:17:13.556Z"
   },
   {
    "duration": 7973,
    "start_time": "2022-11-18T13:17:13.580Z"
   },
   {
    "duration": 500,
    "start_time": "2022-11-18T13:17:21.555Z"
   },
   {
    "duration": 21,
    "start_time": "2022-11-18T13:17:30.648Z"
   },
   {
    "duration": 12,
    "start_time": "2022-11-18T13:17:35.730Z"
   },
   {
    "duration": 7592,
    "start_time": "2022-11-18T13:17:59.361Z"
   },
   {
    "duration": 7932,
    "start_time": "2022-11-18T13:19:29.921Z"
   },
   {
    "duration": 314,
    "start_time": "2022-11-18T13:23:46.845Z"
   },
   {
    "duration": 15,
    "start_time": "2022-11-18T13:29:18.038Z"
   },
   {
    "duration": 19,
    "start_time": "2022-11-18T13:30:05.911Z"
   },
   {
    "duration": 13,
    "start_time": "2022-11-18T13:30:13.212Z"
   },
   {
    "duration": 16,
    "start_time": "2022-11-18T13:31:46.327Z"
   },
   {
    "duration": 12,
    "start_time": "2022-11-18T13:31:59.791Z"
   },
   {
    "duration": 353,
    "start_time": "2022-11-18T13:32:03.517Z"
   },
   {
    "duration": 13,
    "start_time": "2022-11-18T13:32:03.872Z"
   },
   {
    "duration": 14,
    "start_time": "2022-11-18T13:32:03.887Z"
   },
   {
    "duration": 61,
    "start_time": "2022-11-18T13:32:03.903Z"
   },
   {
    "duration": 13,
    "start_time": "2022-11-18T13:32:03.966Z"
   },
   {
    "duration": 6973,
    "start_time": "2022-11-18T13:32:03.980Z"
   },
   {
    "duration": 598,
    "start_time": "2022-11-18T13:32:10.955Z"
   },
   {
    "duration": 22,
    "start_time": "2022-11-18T13:40:22.880Z"
   },
   {
    "duration": 14,
    "start_time": "2022-11-18T13:40:25.447Z"
   },
   {
    "duration": 352,
    "start_time": "2022-11-18T13:40:39.907Z"
   },
   {
    "duration": 14,
    "start_time": "2022-11-18T13:40:40.261Z"
   },
   {
    "duration": 15,
    "start_time": "2022-11-18T13:40:40.277Z"
   },
   {
    "duration": 74,
    "start_time": "2022-11-18T13:40:40.294Z"
   },
   {
    "duration": 88,
    "start_time": "2022-11-18T13:40:40.370Z"
   },
   {
    "duration": 6704,
    "start_time": "2022-11-18T13:40:40.460Z"
   },
   {
    "duration": 585,
    "start_time": "2022-11-18T13:40:47.168Z"
   },
   {
    "duration": 3626,
    "start_time": "2022-11-18T13:41:38.827Z"
   },
   {
    "duration": 7899,
    "start_time": "2022-11-18T13:41:54.154Z"
   },
   {
    "duration": 330,
    "start_time": "2022-11-18T13:42:25.025Z"
   },
   {
    "duration": 229,
    "start_time": "2022-11-18T13:45:04.626Z"
   },
   {
    "duration": 20,
    "start_time": "2022-11-18T13:46:18.123Z"
   },
   {
    "duration": 14,
    "start_time": "2022-11-18T13:46:26.244Z"
   },
   {
    "duration": 4,
    "start_time": "2022-11-18T13:53:18.971Z"
   },
   {
    "duration": 75,
    "start_time": "2022-11-18T13:58:32.659Z"
   },
   {
    "duration": 4,
    "start_time": "2022-11-18T13:58:41.025Z"
   },
   {
    "duration": 19,
    "start_time": "2022-11-18T13:59:18.210Z"
   },
   {
    "duration": 88,
    "start_time": "2022-11-18T14:00:48.367Z"
   },
   {
    "duration": 17,
    "start_time": "2022-11-18T14:01:13.980Z"
   },
   {
    "duration": 4,
    "start_time": "2022-11-18T14:01:52.501Z"
   },
   {
    "duration": 12,
    "start_time": "2022-11-18T14:01:56.844Z"
   },
   {
    "duration": 16,
    "start_time": "2022-11-18T14:02:45.321Z"
   },
   {
    "duration": 12,
    "start_time": "2022-11-18T14:02:49.315Z"
   },
   {
    "duration": 52,
    "start_time": "2022-11-19T06:36:21.084Z"
   },
   {
    "duration": 3544,
    "start_time": "2022-11-19T06:36:41.244Z"
   },
   {
    "duration": 27,
    "start_time": "2022-11-19T06:36:44.791Z"
   },
   {
    "duration": 42,
    "start_time": "2022-11-19T06:36:44.820Z"
   },
   {
    "duration": 108,
    "start_time": "2022-11-19T06:36:44.865Z"
   },
   {
    "duration": 39,
    "start_time": "2022-11-19T06:36:44.978Z"
   },
   {
    "duration": 5,
    "start_time": "2022-11-19T06:36:45.020Z"
   },
   {
    "duration": 52,
    "start_time": "2022-11-19T06:36:45.028Z"
   },
   {
    "duration": 193,
    "start_time": "2022-11-19T06:36:45.082Z"
   },
   {
    "duration": 121,
    "start_time": "2022-11-19T06:36:45.291Z"
   },
   {
    "duration": 7243,
    "start_time": "2022-11-19T06:36:45.424Z"
   },
   {
    "duration": 296,
    "start_time": "2022-11-19T06:36:52.676Z"
   },
   {
    "duration": 58,
    "start_time": "2022-11-19T06:41:59.004Z"
   },
   {
    "duration": 4,
    "start_time": "2022-11-19T06:50:34.638Z"
   },
   {
    "duration": 45,
    "start_time": "2022-11-19T06:50:53.211Z"
   },
   {
    "duration": 67,
    "start_time": "2022-11-19T06:50:58.984Z"
   },
   {
    "duration": 29,
    "start_time": "2022-11-19T06:51:05.843Z"
   },
   {
    "duration": 15,
    "start_time": "2022-11-19T06:51:22.874Z"
   },
   {
    "duration": 8449,
    "start_time": "2022-11-19T06:51:54.316Z"
   },
   {
    "duration": 8238,
    "start_time": "2022-11-19T06:52:10.413Z"
   },
   {
    "duration": 3755,
    "start_time": "2022-11-19T06:52:35.121Z"
   },
   {
    "duration": 4,
    "start_time": "2022-11-19T07:00:42.945Z"
   },
   {
    "duration": 93,
    "start_time": "2022-11-19T07:08:38.546Z"
   },
   {
    "duration": 11,
    "start_time": "2022-11-19T07:09:49.116Z"
   },
   {
    "duration": 4,
    "start_time": "2022-11-19T07:10:12.078Z"
   },
   {
    "duration": 12,
    "start_time": "2022-11-19T07:10:14.485Z"
   },
   {
    "duration": 15,
    "start_time": "2022-11-19T07:10:19.199Z"
   },
   {
    "duration": 12,
    "start_time": "2022-11-19T07:10:21.326Z"
   },
   {
    "duration": 1843,
    "start_time": "2022-11-20T10:42:53.703Z"
   },
   {
    "duration": 14,
    "start_time": "2022-11-20T10:42:55.547Z"
   },
   {
    "duration": 16,
    "start_time": "2022-11-20T10:42:55.562Z"
   },
   {
    "duration": 56,
    "start_time": "2022-11-20T10:42:55.580Z"
   },
   {
    "duration": 80,
    "start_time": "2022-11-20T10:42:55.638Z"
   },
   {
    "duration": 5,
    "start_time": "2022-11-20T10:42:55.720Z"
   },
   {
    "duration": 72,
    "start_time": "2022-11-20T10:42:55.726Z"
   },
   {
    "duration": 112,
    "start_time": "2022-11-20T10:42:55.799Z"
   },
   {
    "duration": 186,
    "start_time": "2022-11-20T10:42:55.913Z"
   },
   {
    "duration": 4295,
    "start_time": "2022-11-20T10:42:56.102Z"
   },
   {
    "duration": 507,
    "start_time": "2022-11-20T10:43:00.400Z"
   },
   {
    "duration": 11,
    "start_time": "2022-11-20T10:43:00.997Z"
   },
   {
    "duration": 104,
    "start_time": "2022-11-20T10:43:01.010Z"
   },
   {
    "duration": 64,
    "start_time": "2022-11-20T10:43:01.116Z"
   },
   {
    "duration": 40,
    "start_time": "2022-11-20T10:43:01.182Z"
   },
   {
    "duration": 34,
    "start_time": "2022-11-20T10:43:01.224Z"
   },
   {
    "duration": 5,
    "start_time": "2022-11-20T10:49:12.989Z"
   },
   {
    "duration": 4808,
    "start_time": "2022-11-20T10:51:26.037Z"
   },
   {
    "duration": 5,
    "start_time": "2022-11-20T10:52:38.337Z"
   },
   {
    "duration": 4323,
    "start_time": "2022-11-20T10:52:40.034Z"
   },
   {
    "duration": 6,
    "start_time": "2022-11-20T10:53:59.412Z"
   },
   {
    "duration": 4309,
    "start_time": "2022-11-20T10:54:04.274Z"
   },
   {
    "duration": 98,
    "start_time": "2022-11-20T10:55:24.142Z"
   },
   {
    "duration": 10,
    "start_time": "2022-11-20T10:55:32.982Z"
   },
   {
    "duration": 7,
    "start_time": "2022-11-20T10:55:45.205Z"
   },
   {
    "duration": 4307,
    "start_time": "2022-11-20T10:55:47.234Z"
   },
   {
    "duration": 22,
    "start_time": "2022-11-20T11:00:43.319Z"
   },
   {
    "duration": 47,
    "start_time": "2022-11-20T11:18:35.519Z"
   },
   {
    "duration": 3645,
    "start_time": "2022-11-20T11:18:49.254Z"
   },
   {
    "duration": 324,
    "start_time": "2022-11-20T11:18:56.284Z"
   },
   {
    "duration": 4020,
    "start_time": "2022-11-20T11:26:11.178Z"
   },
   {
    "duration": 20,
    "start_time": "2022-11-20T11:26:50.167Z"
   },
   {
    "duration": 21,
    "start_time": "2022-11-20T11:29:02.065Z"
   },
   {
    "duration": 48,
    "start_time": "2022-11-20T11:33:55.284Z"
   },
   {
    "duration": 502,
    "start_time": "2022-11-20T11:33:59.497Z"
   },
   {
    "duration": 4191,
    "start_time": "2022-11-20T11:35:05.608Z"
   },
   {
    "duration": 4127,
    "start_time": "2022-11-20T11:35:57.770Z"
   },
   {
    "duration": 544,
    "start_time": "2022-11-20T11:36:26.153Z"
   },
   {
    "duration": 4,
    "start_time": "2022-11-20T11:49:26.674Z"
   },
   {
    "duration": 10,
    "start_time": "2022-11-20T11:49:32.393Z"
   },
   {
    "duration": 9,
    "start_time": "2022-11-20T11:49:34.827Z"
   },
   {
    "duration": 9,
    "start_time": "2022-11-20T11:49:36.683Z"
   },
   {
    "duration": 5,
    "start_time": "2022-11-20T12:28:39.489Z"
   },
   {
    "duration": 4350,
    "start_time": "2022-11-20T12:28:41.902Z"
   },
   {
    "duration": 54,
    "start_time": "2022-11-20T12:41:37.569Z"
   },
   {
    "duration": 374,
    "start_time": "2022-11-20T12:42:24.006Z"
   },
   {
    "duration": 31,
    "start_time": "2022-11-20T12:42:24.382Z"
   },
   {
    "duration": 20,
    "start_time": "2022-11-20T12:42:24.415Z"
   },
   {
    "duration": 65,
    "start_time": "2022-11-20T12:42:24.436Z"
   },
   {
    "duration": 40,
    "start_time": "2022-11-20T12:42:24.503Z"
   },
   {
    "duration": 3,
    "start_time": "2022-11-20T12:42:24.545Z"
   },
   {
    "duration": 48,
    "start_time": "2022-11-20T12:42:24.550Z"
   },
   {
    "duration": 102,
    "start_time": "2022-11-20T12:42:24.599Z"
   },
   {
    "duration": 197,
    "start_time": "2022-11-20T12:42:24.702Z"
   },
   {
    "duration": 4097,
    "start_time": "2022-11-20T12:42:24.901Z"
   },
   {
    "duration": 499,
    "start_time": "2022-11-20T12:42:29.000Z"
   },
   {
    "duration": 93,
    "start_time": "2022-11-20T12:42:29.504Z"
   },
   {
    "duration": 7,
    "start_time": "2022-11-20T12:42:29.599Z"
   },
   {
    "duration": 10,
    "start_time": "2022-11-20T12:42:29.608Z"
   },
   {
    "duration": 9,
    "start_time": "2022-11-20T12:42:29.620Z"
   },
   {
    "duration": 8,
    "start_time": "2022-11-20T12:42:29.631Z"
   },
   {
    "duration": 7,
    "start_time": "2022-11-20T12:42:29.640Z"
   },
   {
    "duration": 4199,
    "start_time": "2022-11-20T12:42:29.648Z"
   },
   {
    "duration": 7942,
    "start_time": "2022-11-21T10:35:37.054Z"
   },
   {
    "duration": 21,
    "start_time": "2022-11-21T10:35:44.998Z"
   },
   {
    "duration": 34,
    "start_time": "2022-11-21T10:35:45.020Z"
   },
   {
    "duration": 101,
    "start_time": "2022-11-21T10:35:45.056Z"
   },
   {
    "duration": 0,
    "start_time": "2022-11-21T10:35:45.159Z"
   },
   {
    "duration": 4,
    "start_time": "2022-11-21T10:35:47.435Z"
   },
   {
    "duration": 9,
    "start_time": "2022-11-21T10:35:50.015Z"
   },
   {
    "duration": 2977,
    "start_time": "2022-11-21T10:37:13.924Z"
   },
   {
    "duration": 21,
    "start_time": "2022-11-21T10:37:16.902Z"
   },
   {
    "duration": 34,
    "start_time": "2022-11-21T10:37:16.924Z"
   },
   {
    "duration": 50,
    "start_time": "2022-11-21T10:37:18.900Z"
   },
   {
    "duration": 50,
    "start_time": "2022-11-21T10:37:20.258Z"
   },
   {
    "duration": 4,
    "start_time": "2022-11-21T10:37:23.822Z"
   },
   {
    "duration": 23,
    "start_time": "2022-11-21T10:37:26.345Z"
   },
   {
    "duration": 15,
    "start_time": "2022-11-21T10:37:27.056Z"
   },
   {
    "duration": 15,
    "start_time": "2022-11-21T10:37:27.686Z"
   },
   {
    "duration": 4216,
    "start_time": "2022-11-21T10:37:53.439Z"
   },
   {
    "duration": 4228,
    "start_time": "2022-11-21T10:38:18.338Z"
   },
   {
    "duration": 3953,
    "start_time": "2022-11-21T10:38:25.800Z"
   },
   {
    "duration": 4077,
    "start_time": "2022-11-21T10:38:34.278Z"
   },
   {
    "duration": 3985,
    "start_time": "2022-11-21T10:39:55.768Z"
   },
   {
    "duration": 90,
    "start_time": "2022-11-21T10:40:06.525Z"
   },
   {
    "duration": 3989,
    "start_time": "2022-11-21T10:40:28.167Z"
   },
   {
    "duration": 4012,
    "start_time": "2022-11-21T10:40:42.248Z"
   },
   {
    "duration": 3243,
    "start_time": "2022-11-21T11:49:59.827Z"
   },
   {
    "duration": 26,
    "start_time": "2022-11-21T11:50:03.072Z"
   },
   {
    "duration": 18,
    "start_time": "2022-11-21T11:50:03.099Z"
   },
   {
    "duration": 86,
    "start_time": "2022-11-21T11:50:03.119Z"
   },
   {
    "duration": 99,
    "start_time": "2022-11-21T11:50:03.207Z"
   },
   {
    "duration": 5,
    "start_time": "2022-11-21T11:50:03.308Z"
   },
   {
    "duration": 60,
    "start_time": "2022-11-21T11:50:03.315Z"
   },
   {
    "duration": 197,
    "start_time": "2022-11-21T11:50:03.377Z"
   },
   {
    "duration": 87,
    "start_time": "2022-11-21T11:50:03.576Z"
   },
   {
    "duration": 4602,
    "start_time": "2022-11-21T11:50:03.753Z"
   },
   {
    "duration": 699,
    "start_time": "2022-11-21T11:50:08.361Z"
   },
   {
    "duration": 91,
    "start_time": "2022-11-21T11:50:09.063Z"
   },
   {
    "duration": 26,
    "start_time": "2022-11-21T11:50:09.156Z"
   },
   {
    "duration": 30,
    "start_time": "2022-11-21T11:50:09.185Z"
   },
   {
    "duration": 18,
    "start_time": "2022-11-21T11:50:09.217Z"
   },
   {
    "duration": 33,
    "start_time": "2022-11-21T11:50:09.236Z"
   },
   {
    "duration": 19,
    "start_time": "2022-11-21T11:50:09.271Z"
   },
   {
    "duration": 4862,
    "start_time": "2022-11-21T11:50:09.292Z"
   },
   {
    "duration": 2741,
    "start_time": "2022-11-21T11:51:17.525Z"
   },
   {
    "duration": 0,
    "start_time": "2022-11-21T11:51:20.268Z"
   },
   {
    "duration": 0,
    "start_time": "2022-11-21T11:51:20.270Z"
   },
   {
    "duration": 0,
    "start_time": "2022-11-21T11:51:20.271Z"
   },
   {
    "duration": 0,
    "start_time": "2022-11-21T11:51:20.273Z"
   },
   {
    "duration": 0,
    "start_time": "2022-11-21T11:51:20.274Z"
   },
   {
    "duration": 0,
    "start_time": "2022-11-21T11:51:20.275Z"
   },
   {
    "duration": 0,
    "start_time": "2022-11-21T11:51:20.276Z"
   },
   {
    "duration": 0,
    "start_time": "2022-11-21T11:51:20.277Z"
   },
   {
    "duration": 0,
    "start_time": "2022-11-21T11:51:20.279Z"
   },
   {
    "duration": 0,
    "start_time": "2022-11-21T11:51:20.280Z"
   },
   {
    "duration": 0,
    "start_time": "2022-11-21T11:51:20.281Z"
   },
   {
    "duration": 0,
    "start_time": "2022-11-21T11:51:20.283Z"
   },
   {
    "duration": 0,
    "start_time": "2022-11-21T11:51:20.284Z"
   },
   {
    "duration": 0,
    "start_time": "2022-11-21T11:51:20.285Z"
   },
   {
    "duration": 0,
    "start_time": "2022-11-21T11:51:20.287Z"
   },
   {
    "duration": 0,
    "start_time": "2022-11-21T11:51:20.288Z"
   },
   {
    "duration": 0,
    "start_time": "2022-11-21T11:51:20.290Z"
   },
   {
    "duration": 2894,
    "start_time": "2022-11-21T11:51:49.367Z"
   },
   {
    "duration": 21,
    "start_time": "2022-11-21T11:51:52.263Z"
   },
   {
    "duration": 17,
    "start_time": "2022-11-21T11:51:52.286Z"
   },
   {
    "duration": 94,
    "start_time": "2022-11-21T11:51:52.306Z"
   },
   {
    "duration": 84,
    "start_time": "2022-11-21T11:51:52.402Z"
   },
   {
    "duration": 4,
    "start_time": "2022-11-21T11:51:52.489Z"
   },
   {
    "duration": 67,
    "start_time": "2022-11-21T11:51:52.495Z"
   },
   {
    "duration": 112,
    "start_time": "2022-11-21T11:51:52.563Z"
   },
   {
    "duration": 176,
    "start_time": "2022-11-21T11:51:52.676Z"
   },
   {
    "duration": 4298,
    "start_time": "2022-11-21T11:51:52.855Z"
   },
   {
    "duration": 797,
    "start_time": "2022-11-21T11:51:57.156Z"
   },
   {
    "duration": 5,
    "start_time": "2022-11-21T11:51:57.955Z"
   },
   {
    "duration": 101,
    "start_time": "2022-11-21T11:51:57.966Z"
   },
   {
    "duration": 14,
    "start_time": "2022-11-21T11:51:58.068Z"
   },
   {
    "duration": 9,
    "start_time": "2022-11-21T11:51:58.083Z"
   },
   {
    "duration": 10,
    "start_time": "2022-11-21T11:51:58.094Z"
   },
   {
    "duration": 6,
    "start_time": "2022-11-21T11:51:58.106Z"
   },
   {
    "duration": 4044,
    "start_time": "2022-11-21T11:51:58.114Z"
   },
   {
    "duration": 76,
    "start_time": "2022-11-21T14:05:47.456Z"
   },
   {
    "duration": 108,
    "start_time": "2022-11-21T14:26:34.021Z"
   },
   {
    "duration": 7,
    "start_time": "2022-11-21T15:19:19.827Z"
   },
   {
    "duration": 5,
    "start_time": "2022-11-21T15:32:37.934Z"
   },
   {
    "duration": 46,
    "start_time": "2022-11-21T15:33:13.306Z"
   },
   {
    "duration": 2799,
    "start_time": "2022-11-21T15:33:25.089Z"
   },
   {
    "duration": 26,
    "start_time": "2022-11-21T15:33:27.890Z"
   },
   {
    "duration": 24,
    "start_time": "2022-11-21T15:33:27.917Z"
   },
   {
    "duration": 45,
    "start_time": "2022-11-21T15:33:27.944Z"
   },
   {
    "duration": 86,
    "start_time": "2022-11-21T15:33:27.991Z"
   },
   {
    "duration": 4,
    "start_time": "2022-11-21T15:33:28.079Z"
   },
   {
    "duration": 54,
    "start_time": "2022-11-21T15:33:28.084Z"
   },
   {
    "duration": 103,
    "start_time": "2022-11-21T15:33:28.140Z"
   },
   {
    "duration": 195,
    "start_time": "2022-11-21T15:33:28.245Z"
   },
   {
    "duration": 4704,
    "start_time": "2022-11-21T15:33:28.444Z"
   },
   {
    "duration": 903,
    "start_time": "2022-11-21T15:33:33.238Z"
   },
   {
    "duration": 12,
    "start_time": "2022-11-21T15:33:34.143Z"
   },
   {
    "duration": 23,
    "start_time": "2022-11-21T15:33:34.156Z"
   },
   {
    "duration": 38,
    "start_time": "2022-11-21T15:33:34.181Z"
   },
   {
    "duration": 36,
    "start_time": "2022-11-21T15:33:34.221Z"
   },
   {
    "duration": 21,
    "start_time": "2022-11-21T15:33:34.258Z"
   },
   {
    "duration": 24,
    "start_time": "2022-11-21T15:33:34.280Z"
   },
   {
    "duration": 3661,
    "start_time": "2022-11-21T15:33:34.305Z"
   },
   {
    "duration": 5,
    "start_time": "2022-11-21T15:37:06.536Z"
   },
   {
    "duration": 3797,
    "start_time": "2022-11-21T15:37:11.509Z"
   },
   {
    "duration": 400,
    "start_time": "2022-11-21T15:39:10.257Z"
   },
   {
    "duration": 23,
    "start_time": "2022-11-21T15:39:10.658Z"
   },
   {
    "duration": 18,
    "start_time": "2022-11-21T15:39:10.683Z"
   },
   {
    "duration": 67,
    "start_time": "2022-11-21T15:39:10.703Z"
   },
   {
    "duration": 39,
    "start_time": "2022-11-21T15:39:10.771Z"
   },
   {
    "duration": 29,
    "start_time": "2022-11-21T15:39:10.811Z"
   },
   {
    "duration": 96,
    "start_time": "2022-11-21T15:39:10.842Z"
   },
   {
    "duration": 102,
    "start_time": "2022-11-21T15:39:10.941Z"
   },
   {
    "duration": 198,
    "start_time": "2022-11-21T15:39:11.045Z"
   },
   {
    "duration": 4391,
    "start_time": "2022-11-21T15:39:11.249Z"
   },
   {
    "duration": 594,
    "start_time": "2022-11-21T15:39:15.646Z"
   },
   {
    "duration": 5,
    "start_time": "2022-11-21T15:39:16.243Z"
   },
   {
    "duration": 6,
    "start_time": "2022-11-21T15:39:16.338Z"
   },
   {
    "duration": 12,
    "start_time": "2022-11-21T15:39:16.345Z"
   },
   {
    "duration": 9,
    "start_time": "2022-11-21T15:39:16.358Z"
   },
   {
    "duration": 9,
    "start_time": "2022-11-21T15:39:16.369Z"
   },
   {
    "duration": 5,
    "start_time": "2022-11-21T15:39:16.379Z"
   },
   {
    "duration": 3686,
    "start_time": "2022-11-21T15:39:16.386Z"
   }
  ],
  "kernelspec": {
   "display_name": "Python 3 (ipykernel)",
   "language": "python",
   "name": "python3"
  },
  "language_info": {
   "codemirror_mode": {
    "name": "ipython",
    "version": 3
   },
   "file_extension": ".py",
   "mimetype": "text/x-python",
   "name": "python",
   "nbconvert_exporter": "python",
   "pygments_lexer": "ipython3",
   "version": "3.9.5"
  },
  "toc": {
   "base_numbering": 1,
   "nav_menu": {},
   "number_sections": true,
   "sideBar": true,
   "skip_h1_title": true,
   "title_cell": "Table of Contents",
   "title_sidebar": "Contents",
   "toc_cell": false,
   "toc_position": {},
   "toc_section_display": true,
   "toc_window_display": false
  }
 },
 "nbformat": 4,
 "nbformat_minor": 2
}
