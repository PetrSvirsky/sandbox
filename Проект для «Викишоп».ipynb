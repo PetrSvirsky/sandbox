{
 "cells": [
  {
   "cell_type": "markdown",
   "metadata": {
    "toc": true
   },
   "source": [
    "<h1>Содержание<span class=\"tocSkip\"></span></h1>\n",
    "<div class=\"toc\"><ul class=\"toc-item\"><li><span><a href=\"#без-BERT\" data-toc-modified-id=\"без-BERT-1\"><span class=\"toc-item-num\">1&nbsp;&nbsp;</span>без BERT</a></span></li><li><span><a href=\"#Подготовка\" data-toc-modified-id=\"Подготовка-2\"><span class=\"toc-item-num\">2&nbsp;&nbsp;</span>Подготовка</a></span></li><li><span><a href=\"#Обучение\" data-toc-modified-id=\"Обучение-3\"><span class=\"toc-item-num\">3&nbsp;&nbsp;</span>Обучение</a></span></li><li><span><a href=\"#тестирование-модели\" data-toc-modified-id=\"тестирование-модели-4\"><span class=\"toc-item-num\">4&nbsp;&nbsp;</span>тестирование модели</a></span></li><li><span><a href=\"#Выводы\" data-toc-modified-id=\"Выводы-5\"><span class=\"toc-item-num\">5&nbsp;&nbsp;</span>Выводы</a></span></li><li><span><a href=\"#Чек-лист-проверки\" data-toc-modified-id=\"Чек-лист-проверки-6\"><span class=\"toc-item-num\">6&nbsp;&nbsp;</span>Чек-лист проверки</a></span></li></ul></div>"
   ]
  },
  {
   "cell_type": "markdown",
   "metadata": {},
   "source": [
    "# Проект для «Викишоп»"
   ]
  },
  {
   "cell_type": "markdown",
   "metadata": {},
   "source": [
    "Интернет-магазин «Викишоп» запускает новый сервис. Теперь пользователи могут редактировать и дополнять описания товаров, как в вики-сообществах. То есть клиенты предлагают свои правки и комментируют изменения других. Магазину нужен инструмент, который будет искать токсичные комментарии и отправлять их на модерацию. \n",
    "\n",
    "Обучим модель классифицировать комментарии на позитивные и негативные. В нашем распоряжении набор данных с разметкой о токсичности правок.\n",
    "\n",
    "Задача построить модель со значением метрики качества *F1* не меньше 0.75. \n",
    "\n",
    "\n",
    "Данные находятся в файле `toxic_comments.csv`. Столбец *text* в нём содержит текст комментария, а *toxic* — целевой признак."
   ]
  },
  {
   "cell_type": "markdown",
   "metadata": {},
   "source": [
    "## без BERT"
   ]
  },
  {
   "cell_type": "markdown",
   "metadata": {},
   "source": [
    "## Подготовка"
   ]
  },
  {
   "cell_type": "markdown",
   "metadata": {},
   "source": [
    "Импортируем нужные библиотеки и зафиксируем случайность"
   ]
  },
  {
   "cell_type": "code",
   "execution_count": 1,
   "metadata": {},
   "outputs": [
    {
     "name": "stderr",
     "output_type": "stream",
     "text": [
      "[nltk_data] Downloading package wordnet to /home/jovyan/nltk_data...\n",
      "[nltk_data]   Package wordnet is already up-to-date!\n",
      "[nltk_data] Downloading package averaged_perceptron_tagger to\n",
      "[nltk_data]     /home/jovyan/nltk_data...\n",
      "[nltk_data]   Package averaged_perceptron_tagger is already up-to-\n",
      "[nltk_data]       date!\n",
      "[nltk_data] Downloading package stopwords to /home/jovyan/nltk_data...\n",
      "[nltk_data]   Package stopwords is already up-to-date!\n"
     ]
    }
   ],
   "source": [
    "import pandas as pd\n",
    "import numpy as np\n",
    "import seaborn as sns\n",
    "\n",
    "state = np.random.RandomState(12345)\n",
    "\n",
    "from sklearn.utils import shuffle\n",
    "from sklearn.model_selection import train_test_split\n",
    "from sklearn.metrics import f1_score\n",
    "from sklearn.feature_extraction.text import TfidfVectorizer\n",
    "from sklearn.model_selection import GridSearchCV\n",
    "\n",
    "import re\n",
    "import nltk\n",
    "from nltk.stem import WordNetLemmatizer \n",
    "nltk.download('wordnet')\n",
    "nltk.download('averaged_perceptron_tagger')\n",
    "from nltk.corpus import wordnet\n",
    "\n",
    "from nltk.corpus import stopwords\n",
    "nltk.download('stopwords')\n",
    "stop_words = set(stopwords.words('english'))\n",
    "\n",
    "from xgboost import XGBClassifier\n",
    "from lightgbm import LGBMClassifier\n",
    "\n",
    "import warnings\n",
    "warnings.filterwarnings('ignore')"
   ]
  },
  {
   "cell_type": "code",
   "execution_count": 2,
   "metadata": {},
   "outputs": [
    {
     "data": {
      "text/html": [
       "<div>\n",
       "<style scoped>\n",
       "    .dataframe tbody tr th:only-of-type {\n",
       "        vertical-align: middle;\n",
       "    }\n",
       "\n",
       "    .dataframe tbody tr th {\n",
       "        vertical-align: top;\n",
       "    }\n",
       "\n",
       "    .dataframe thead th {\n",
       "        text-align: right;\n",
       "    }\n",
       "</style>\n",
       "<table border=\"1\" class=\"dataframe\">\n",
       "  <thead>\n",
       "    <tr style=\"text-align: right;\">\n",
       "      <th></th>\n",
       "      <th>Unnamed: 0</th>\n",
       "      <th>text</th>\n",
       "      <th>toxic</th>\n",
       "    </tr>\n",
       "  </thead>\n",
       "  <tbody>\n",
       "    <tr>\n",
       "      <th>0</th>\n",
       "      <td>0</td>\n",
       "      <td>Explanation\\nWhy the edits made under my usern...</td>\n",
       "      <td>0</td>\n",
       "    </tr>\n",
       "    <tr>\n",
       "      <th>1</th>\n",
       "      <td>1</td>\n",
       "      <td>D'aww! He matches this background colour I'm s...</td>\n",
       "      <td>0</td>\n",
       "    </tr>\n",
       "    <tr>\n",
       "      <th>2</th>\n",
       "      <td>2</td>\n",
       "      <td>Hey man, I'm really not trying to edit war. It...</td>\n",
       "      <td>0</td>\n",
       "    </tr>\n",
       "    <tr>\n",
       "      <th>3</th>\n",
       "      <td>3</td>\n",
       "      <td>\"\\nMore\\nI can't make any real suggestions on ...</td>\n",
       "      <td>0</td>\n",
       "    </tr>\n",
       "    <tr>\n",
       "      <th>4</th>\n",
       "      <td>4</td>\n",
       "      <td>You, sir, are my hero. Any chance you remember...</td>\n",
       "      <td>0</td>\n",
       "    </tr>\n",
       "    <tr>\n",
       "      <th>...</th>\n",
       "      <td>...</td>\n",
       "      <td>...</td>\n",
       "      <td>...</td>\n",
       "    </tr>\n",
       "    <tr>\n",
       "      <th>159287</th>\n",
       "      <td>159446</td>\n",
       "      <td>\":::::And for the second time of asking, when ...</td>\n",
       "      <td>0</td>\n",
       "    </tr>\n",
       "    <tr>\n",
       "      <th>159288</th>\n",
       "      <td>159447</td>\n",
       "      <td>You should be ashamed of yourself \\n\\nThat is ...</td>\n",
       "      <td>0</td>\n",
       "    </tr>\n",
       "    <tr>\n",
       "      <th>159289</th>\n",
       "      <td>159448</td>\n",
       "      <td>Spitzer \\n\\nUmm, theres no actual article for ...</td>\n",
       "      <td>0</td>\n",
       "    </tr>\n",
       "    <tr>\n",
       "      <th>159290</th>\n",
       "      <td>159449</td>\n",
       "      <td>And it looks like it was actually you who put ...</td>\n",
       "      <td>0</td>\n",
       "    </tr>\n",
       "    <tr>\n",
       "      <th>159291</th>\n",
       "      <td>159450</td>\n",
       "      <td>\"\\nAnd ... I really don't think you understand...</td>\n",
       "      <td>0</td>\n",
       "    </tr>\n",
       "  </tbody>\n",
       "</table>\n",
       "<p>159292 rows × 3 columns</p>\n",
       "</div>"
      ],
      "text/plain": [
       "        Unnamed: 0                                               text  toxic\n",
       "0                0  Explanation\\nWhy the edits made under my usern...      0\n",
       "1                1  D'aww! He matches this background colour I'm s...      0\n",
       "2                2  Hey man, I'm really not trying to edit war. It...      0\n",
       "3                3  \"\\nMore\\nI can't make any real suggestions on ...      0\n",
       "4                4  You, sir, are my hero. Any chance you remember...      0\n",
       "...            ...                                                ...    ...\n",
       "159287      159446  \":::::And for the second time of asking, when ...      0\n",
       "159288      159447  You should be ashamed of yourself \\n\\nThat is ...      0\n",
       "159289      159448  Spitzer \\n\\nUmm, theres no actual article for ...      0\n",
       "159290      159449  And it looks like it was actually you who put ...      0\n",
       "159291      159450  \"\\nAnd ... I really don't think you understand...      0\n",
       "\n",
       "[159292 rows x 3 columns]"
      ]
     },
     "execution_count": 2,
     "metadata": {},
     "output_type": "execute_result"
    }
   ],
   "source": [
    "data = pd.read_csv('/datasets/toxic_comments.csv')\n",
    "data"
   ]
  },
  {
   "cell_type": "code",
   "execution_count": 3,
   "metadata": {
    "scrolled": true
   },
   "outputs": [
    {
     "name": "stdout",
     "output_type": "stream",
     "text": [
      "<class 'pandas.core.frame.DataFrame'>\n",
      "RangeIndex: 159292 entries, 0 to 159291\n",
      "Data columns (total 3 columns):\n",
      " #   Column      Non-Null Count   Dtype \n",
      "---  ------      --------------   ----- \n",
      " 0   Unnamed: 0  159292 non-null  int64 \n",
      " 1   text        159292 non-null  object\n",
      " 2   toxic       159292 non-null  int64 \n",
      "dtypes: int64(2), object(1)\n",
      "memory usage: 3.6+ MB\n"
     ]
    }
   ],
   "source": [
    "data.info()"
   ]
  },
  {
   "cell_type": "markdown",
   "metadata": {},
   "source": [
    "перед нами задача бинарной классификации, посмотрим на распределение целевого признака"
   ]
  },
  {
   "cell_type": "code",
   "execution_count": 4,
   "metadata": {
    "scrolled": false
   },
   "outputs": [
    {
     "data": {
      "image/png": "[encoded data removed]",
      "text/plain": [
       "<Figure size 432x288 with 1 Axes>"
      ]
     },
     "metadata": {
      "needs_background": "light"
     },
     "output_type": "display_data"
    }
   ],
   "source": [
    "sns.countplot(x='toxic', data=data, palette='coolwarm');"
   ]
  },
  {
   "cell_type": "markdown",
   "metadata": {},
   "source": [
    "Имеется дисбаланс признаков, при делении на обучающую и тестовую выборки будем стратифицировать по целевому признаку"
   ]
  },
  {
   "cell_type": "markdown",
   "metadata": {},
   "source": [
    "Напишем функции для оперделения POS тэга, лемматизации и очистки текста:"
   ]
  },
  {
   "cell_type": "code",
   "execution_count": 5,
   "metadata": {},
   "outputs": [],
   "source": [
    "def get_wordnet_pos(word):\n",
    "    tag = nltk.pos_tag([word])[0][1][0].upper()\n",
    "    tag_dict = {\"J\": wordnet.ADJ,\n",
    "                \"N\": wordnet.NOUN,\n",
    "                \"V\": wordnet.VERB,\n",
    "                \"R\": wordnet.ADV}\n",
    "    return tag_dict.get(tag, wordnet.NOUN)"
   ]
  },
  {
   "cell_type": "code",
   "execution_count": 6,
   "metadata": {},
   "outputs": [],
   "source": [
    "def lemmatize(text):\n",
    "    lemmatizer = WordNetLemmatizer()\n",
    "    lemm_list = nltk.word_tokenize(text)\n",
    "    lemm_text = ' '.join([lemmatizer.lemmatize(w, get_wordnet_pos(w)) for w in lemm_list])      \n",
    "    return lemm_text"
   ]
  },
  {
   "cell_type": "code",
   "execution_count": 7,
   "metadata": {},
   "outputs": [],
   "source": [
    "def clear_text(text):\n",
    "    clear_text = re.sub(r'[^a-zA-Z]', ' ', text)\n",
    "    clear_text = clear_text.lower().split()\n",
    "    return ' '.join(clear_text)"
   ]
  },
  {
   "cell_type": "markdown",
   "metadata": {},
   "source": [
    "Применим наши функции для создания нового столбца."
   ]
  },
  {
   "cell_type": "code",
   "execution_count": 8,
   "metadata": {},
   "outputs": [
    {
     "name": "stdout",
     "output_type": "stream",
     "text": [
      "CPU times: user 16min, sys: 1min 34s, total: 17min 35s\n",
      "Wall time: 17min 36s\n"
     ]
    }
   ],
   "source": [
    "%%time\n",
    "data['lemm_text'] = data['text'].apply(lambda text: lemmatize(clear_text(text)))"
   ]
  },
  {
   "cell_type": "code",
   "execution_count": 9,
   "metadata": {
    "scrolled": true
   },
   "outputs": [
    {
     "data": {
      "text/html": [
       "<div>\n",
       "<style scoped>\n",
       "    .dataframe tbody tr th:only-of-type {\n",
       "        vertical-align: middle;\n",
       "    }\n",
       "\n",
       "    .dataframe tbody tr th {\n",
       "        vertical-align: top;\n",
       "    }\n",
       "\n",
       "    .dataframe thead th {\n",
       "        text-align: right;\n",
       "    }\n",
       "</style>\n",
       "<table border=\"1\" class=\"dataframe\">\n",
       "  <thead>\n",
       "    <tr style=\"text-align: right;\">\n",
       "      <th></th>\n",
       "      <th>Unnamed: 0</th>\n",
       "      <th>text</th>\n",
       "      <th>toxic</th>\n",
       "      <th>lemm_text</th>\n",
       "    </tr>\n",
       "  </thead>\n",
       "  <tbody>\n",
       "    <tr>\n",
       "      <th>0</th>\n",
       "      <td>0</td>\n",
       "      <td>Explanation\\nWhy the edits made under my usern...</td>\n",
       "      <td>0</td>\n",
       "      <td>explanation why the edits make under my userna...</td>\n",
       "    </tr>\n",
       "    <tr>\n",
       "      <th>1</th>\n",
       "      <td>1</td>\n",
       "      <td>D'aww! He matches this background colour I'm s...</td>\n",
       "      <td>0</td>\n",
       "      <td>d aww he match this background colour i m seem...</td>\n",
       "    </tr>\n",
       "    <tr>\n",
       "      <th>2</th>\n",
       "      <td>2</td>\n",
       "      <td>Hey man, I'm really not trying to edit war. It...</td>\n",
       "      <td>0</td>\n",
       "      <td>hey man i m really not try to edit war it s ju...</td>\n",
       "    </tr>\n",
       "    <tr>\n",
       "      <th>3</th>\n",
       "      <td>3</td>\n",
       "      <td>\"\\nMore\\nI can't make any real suggestions on ...</td>\n",
       "      <td>0</td>\n",
       "      <td>more i can t make any real suggestion on impro...</td>\n",
       "    </tr>\n",
       "    <tr>\n",
       "      <th>4</th>\n",
       "      <td>4</td>\n",
       "      <td>You, sir, are my hero. Any chance you remember...</td>\n",
       "      <td>0</td>\n",
       "      <td>you sir be my hero any chance you remember wha...</td>\n",
       "    </tr>\n",
       "  </tbody>\n",
       "</table>\n",
       "</div>"
      ],
      "text/plain": [
       "   Unnamed: 0                                               text  toxic  \\\n",
       "0           0  Explanation\\nWhy the edits made under my usern...      0   \n",
       "1           1  D'aww! He matches this background colour I'm s...      0   \n",
       "2           2  Hey man, I'm really not trying to edit war. It...      0   \n",
       "3           3  \"\\nMore\\nI can't make any real suggestions on ...      0   \n",
       "4           4  You, sir, are my hero. Any chance you remember...      0   \n",
       "\n",
       "                                           lemm_text  \n",
       "0  explanation why the edits make under my userna...  \n",
       "1  d aww he match this background colour i m seem...  \n",
       "2  hey man i m really not try to edit war it s ju...  \n",
       "3  more i can t make any real suggestion on impro...  \n",
       "4  you sir be my hero any chance you remember wha...  "
      ]
     },
     "execution_count": 9,
     "metadata": {},
     "output_type": "execute_result"
    }
   ],
   "source": [
    "data.head()"
   ]
  },
  {
   "cell_type": "markdown",
   "metadata": {},
   "source": [
    "Как говорилось ранее, поделим на выборки стратифицируя по целевому признаку"
   ]
  },
  {
   "cell_type": "code",
   "execution_count": 10,
   "metadata": {},
   "outputs": [],
   "source": [
    "X_train, X_test, y_train, y_test = train_test_split(\n",
    "    data['lemm_text'], data['toxic'], test_size=0.25, random_state=state, stratify=data['toxic'])"
   ]
  },
  {
   "cell_type": "code",
   "execution_count": 11,
   "metadata": {
    "scrolled": true
   },
   "outputs": [
    {
     "data": {
      "text/plain": [
       "((119469,), (39823,), (119469,), (39823,))"
      ]
     },
     "execution_count": 11,
     "metadata": {},
     "output_type": "execute_result"
    }
   ],
   "source": [
    "X_train.shape, X_test.shape, y_train.shape, y_test.shape"
   ]
  },
  {
   "cell_type": "markdown",
   "metadata": {},
   "source": [
    "Создадим корпуса для выборок"
   ]
  },
  {
   "cell_type": "code",
   "execution_count": 12,
   "metadata": {},
   "outputs": [],
   "source": [
    "#train_corpus = X_train.values.astype('U')\n",
    "#test_corpus = X_test.values.astype('U')"
   ]
  },
  {
   "cell_type": "markdown",
   "metadata": {},
   "source": [
    "для очистки корпусов используем стоп-слова, далее вычислим TF-IDF"
   ]
  },
  {
   "cell_type": "code",
   "execution_count": 13,
   "metadata": {},
   "outputs": [],
   "source": [
    "\n",
    "count_tf_idf = TfidfVectorizer(stop_words=stop_words)\n",
    "train_tf_idf = count_tf_idf.fit_transform(X_train)\n",
    "test_tf_idf = count_tf_idf.transform(X_test)"
   ]
  },
  {
   "cell_type": "code",
   "execution_count": 14,
   "metadata": {},
   "outputs": [
    {
     "data": {
      "text/plain": [
       "(119469, 127488)"
      ]
     },
     "metadata": {},
     "output_type": "display_data"
    },
    {
     "data": {
      "text/plain": [
       "(39823, 127488)"
      ]
     },
     "metadata": {},
     "output_type": "display_data"
    }
   ],
   "source": [
    "display(train_tf_idf.shape, test_tf_idf.shape)"
   ]
  },
  {
   "cell_type": "markdown",
   "metadata": {},
   "source": [
    "## Обучение"
   ]
  },
  {
   "cell_type": "markdown",
   "metadata": {},
   "source": [
    "Обучим модели XGB и LGB с помощью подбора параметров по сетке."
   ]
  },
  {
   "cell_type": "code",
   "execution_count": null,
   "metadata": {},
   "outputs": [],
   "source": []
  },
  {
   "cell_type": "code",
   "execution_count": 15,
   "metadata": {},
   "outputs": [
    {
     "name": "stdout",
     "output_type": "stream",
     "text": [
      "[19:26:03] WARNING: ../src/learner.cc:1115: Starting in XGBoost 1.3.0, the default evaluation metric used with the objective 'binary:logistic' was changed from 'error' to 'logloss'. Explicitly set eval_metric if you'd like to restore the old behavior.\n",
      "[19:28:42] WARNING: ../src/learner.cc:1115: Starting in XGBoost 1.3.0, the default evaluation metric used with the objective 'binary:logistic' was changed from 'error' to 'logloss'. Explicitly set eval_metric if you'd like to restore the old behavior.\n",
      "[19:31:21] WARNING: ../src/learner.cc:1115: Starting in XGBoost 1.3.0, the default evaluation metric used with the objective 'binary:logistic' was changed from 'error' to 'logloss'. Explicitly set eval_metric if you'd like to restore the old behavior.\n",
      "[19:34:07] WARNING: ../src/learner.cc:1115: Starting in XGBoost 1.3.0, the default evaluation metric used with the objective 'binary:logistic' was changed from 'error' to 'logloss'. Explicitly set eval_metric if you'd like to restore the old behavior.\n",
      "[19:36:58] WARNING: ../src/learner.cc:1115: Starting in XGBoost 1.3.0, the default evaluation metric used with the objective 'binary:logistic' was changed from 'error' to 'logloss'. Explicitly set eval_metric if you'd like to restore the old behavior.\n",
      "[19:39:52] WARNING: ../src/learner.cc:1115: Starting in XGBoost 1.3.0, the default evaluation metric used with the objective 'binary:logistic' was changed from 'error' to 'logloss'. Explicitly set eval_metric if you'd like to restore the old behavior.\n",
      "[19:53:28] WARNING: ../src/learner.cc:1115: Starting in XGBoost 1.3.0, the default evaluation metric used with the objective 'binary:logistic' was changed from 'error' to 'logloss'. Explicitly set eval_metric if you'd like to restore the old behavior.\n",
      "[20:07:01] WARNING: ../src/learner.cc:1115: Starting in XGBoost 1.3.0, the default evaluation metric used with the objective 'binary:logistic' was changed from 'error' to 'logloss'. Explicitly set eval_metric if you'd like to restore the old behavior.\n",
      "[20:20:43] WARNING: ../src/learner.cc:1115: Starting in XGBoost 1.3.0, the default evaluation metric used with the objective 'binary:logistic' was changed from 'error' to 'logloss'. Explicitly set eval_metric if you'd like to restore the old behavior.\n",
      "[20:34:17] WARNING: ../src/learner.cc:1115: Starting in XGBoost 1.3.0, the default evaluation metric used with the objective 'binary:logistic' was changed from 'error' to 'logloss'. Explicitly set eval_metric if you'd like to restore the old behavior.\n",
      "[20:48:10] WARNING: ../src/learner.cc:1115: Starting in XGBoost 1.3.0, the default evaluation metric used with the objective 'binary:logistic' was changed from 'error' to 'logloss'. Explicitly set eval_metric if you'd like to restore the old behavior.\n",
      "[20:54:25] WARNING: ../src/learner.cc:1115: Starting in XGBoost 1.3.0, the default evaluation metric used with the objective 'binary:logistic' was changed from 'error' to 'logloss'. Explicitly set eval_metric if you'd like to restore the old behavior.\n",
      "[21:00:35] WARNING: ../src/learner.cc:1115: Starting in XGBoost 1.3.0, the default evaluation metric used with the objective 'binary:logistic' was changed from 'error' to 'logloss'. Explicitly set eval_metric if you'd like to restore the old behavior.\n",
      "[21:06:50] WARNING: ../src/learner.cc:1115: Starting in XGBoost 1.3.0, the default evaluation metric used with the objective 'binary:logistic' was changed from 'error' to 'logloss'. Explicitly set eval_metric if you'd like to restore the old behavior.\n",
      "[21:13:02] WARNING: ../src/learner.cc:1115: Starting in XGBoost 1.3.0, the default evaluation metric used with the objective 'binary:logistic' was changed from 'error' to 'logloss'. Explicitly set eval_metric if you'd like to restore the old behavior.\n",
      "[21:19:10] WARNING: ../src/learner.cc:1115: Starting in XGBoost 1.3.0, the default evaluation metric used with the objective 'binary:logistic' was changed from 'error' to 'logloss'. Explicitly set eval_metric if you'd like to restore the old behavior.\n",
      "[21:45:46] WARNING: ../src/learner.cc:1115: Starting in XGBoost 1.3.0, the default evaluation metric used with the objective 'binary:logistic' was changed from 'error' to 'logloss'. Explicitly set eval_metric if you'd like to restore the old behavior.\n",
      "[22:09:40] WARNING: ../src/learner.cc:1115: Starting in XGBoost 1.3.0, the default evaluation metric used with the objective 'binary:logistic' was changed from 'error' to 'logloss'. Explicitly set eval_metric if you'd like to restore the old behavior.\n",
      "[22:34:34] WARNING: ../src/learner.cc:1115: Starting in XGBoost 1.3.0, the default evaluation metric used with the objective 'binary:logistic' was changed from 'error' to 'logloss'. Explicitly set eval_metric if you'd like to restore the old behavior.\n",
      "[23:00:25] WARNING: ../src/learner.cc:1115: Starting in XGBoost 1.3.0, the default evaluation metric used with the objective 'binary:logistic' was changed from 'error' to 'logloss'. Explicitly set eval_metric if you'd like to restore the old behavior.\n",
      "[23:25:48] WARNING: ../src/learner.cc:1115: Starting in XGBoost 1.3.0, the default evaluation metric used with the objective 'binary:logistic' was changed from 'error' to 'logloss'. Explicitly set eval_metric if you'd like to restore the old behavior.\n",
      "best parameters:  {'max_depth': 10, 'n_estimators': 500}\n",
      "best scores:  0.7705221480591085\n",
      "CPU times: user 4h 25min 22s, sys: 1min 14s, total: 4h 26min 37s\n",
      "Wall time: 4h 27min 18s\n"
     ]
    }
   ],
   "source": [
    "%%time\n",
    "\n",
    "xgb_clf = XGBClassifier(objective= 'binary:logistic', random_state=state, n_jobs=-1)\n",
    "\n",
    "xgb_clf_params = {'max_depth' :[ 5, 10 ],\n",
    "              'n_estimators': [100, 500]\n",
    "}\n",
    "\n",
    "xgb_clf_grid = GridSearchCV(xgb_clf, xgb_clf_params, scoring='f1')\n",
    "xgb_clf_grid.fit(train_tf_idf, y_train)\n",
    "\n",
    "xgb_clf_grid_best_params = xgb_clf_grid.best_params_\n",
    "\n",
    "print('best parameters: ', xgb_clf_grid.best_params_)\n",
    "print('best scores: ', xgb_clf_grid.best_score_)"
   ]
  },
  {
   "cell_type": "code",
   "execution_count": 16,
   "metadata": {},
   "outputs": [],
   "source": [
    "lgbm_clf = LGBMClassifier(n_jobs=-1, random_state=state, class_weight='balanced')"
   ]
  },
  {
   "cell_type": "code",
   "execution_count": 17,
   "metadata": {},
   "outputs": [
    {
     "name": "stdout",
     "output_type": "stream",
     "text": [
      "best parameters:  {'max_depth': 10, 'n_estimators': 500}\n",
      "best scores:  0.7605232279770694\n",
      "CPU times: user 1h 37min 38s, sys: 30.5 s, total: 1h 38min 8s\n",
      "Wall time: 1h 38min 48s\n"
     ]
    }
   ],
   "source": [
    "%%time\n",
    "\n",
    "\n",
    "lgbm_clf_params = {'n_estimators': [100, 500],\n",
    "                   'max_depth' :[ 5, 10 ]}\n",
    "\n",
    "lgbm_clf_grid = GridSearchCV(lgbm_clf, lgbm_clf_params, scoring='f1')\n",
    "lgbm_clf_grid.fit(train_tf_idf, y_train)\n",
    "\n",
    "lgbm_clf_grid_best_model = lgbm_clf_grid.best_params_\n",
    "\n",
    "print('best parameters: ', lgbm_clf_grid.best_params_)\n",
    "print('best scores: ', lgbm_clf_grid.best_score_)\n"
   ]
  },
  {
   "cell_type": "markdown",
   "metadata": {},
   "source": [
    "## тестирование модели"
   ]
  },
  {
   "cell_type": "markdown",
   "metadata": {},
   "source": [
    "Тестировать будем модель XGB,т.к. она показала лучшие результаты на обучении."
   ]
  },
  {
   "cell_type": "code",
   "execution_count": 25,
   "metadata": {},
   "outputs": [],
   "source": [
    "def scoring(fitted_model):\n",
    "    test_pred = fitted_model.predict(test_tf_idf)\n",
    "    test_f1 = f1_score(y_test, test_pred)\n",
    "    \n",
    "    print('F1 на тестовой выборке: {:.3f}'.format(test_f1))"
   ]
  },
  {
   "cell_type": "code",
   "execution_count": 26,
   "metadata": {},
   "outputs": [
    {
     "name": "stdout",
     "output_type": "stream",
     "text": [
      "F1 на тестовой выборке: 0.767\n",
      "CPU times: user 1.51 s, sys: 32.9 ms, total: 1.54 s\n",
      "Wall time: 1.52 s\n"
     ]
    }
   ],
   "source": [
    "%%time\n",
    "scoring(xgb_clf_grid.best_estimator_)"
   ]
  },
  {
   "cell_type": "markdown",
   "metadata": {},
   "source": [
    "## Выводы"
   ]
  },
  {
   "cell_type": "markdown",
   "metadata": {},
   "source": [
    "Мы подготовили данные путем оперделения POS тэга, лемматизации и очистки текста, расчета TF-IDF. \n",
    "Обучили 2 модели XGB и LGB, при обучении лучшие результаты показала модель XGB.\n",
    "При тестировании модель XGB показала F1 равный 0.767, задача выполнена."
   ]
  }
 ],
 "metadata": {
  "ExecuteTimeLog": [
   {
    "duration": 1407,
    "start_time": "2023-01-26T12:35:27.814Z"
   },
   {
    "duration": 131,
    "start_time": "2023-01-26T12:35:29.935Z"
   },
   {
    "duration": 2498,
    "start_time": "2023-01-26T12:35:53.416Z"
   },
   {
    "duration": 785,
    "start_time": "2023-01-26T12:35:57.746Z"
   },
   {
    "duration": 9,
    "start_time": "2023-01-26T13:31:10.127Z"
   },
   {
    "duration": 37,
    "start_time": "2023-01-26T13:31:16.646Z"
   },
   {
    "duration": 158,
    "start_time": "2023-01-26T13:31:30.885Z"
   },
   {
    "duration": 128,
    "start_time": "2023-01-26T13:31:46.463Z"
   },
   {
    "duration": 10,
    "start_time": "2023-01-26T13:33:01.582Z"
   },
   {
    "duration": 10,
    "start_time": "2023-01-26T13:33:07.181Z"
   },
   {
    "duration": 11,
    "start_time": "2023-01-26T13:33:25.698Z"
   },
   {
    "duration": 724,
    "start_time": "2023-01-26T13:36:39.194Z"
   },
   {
    "duration": 925,
    "start_time": "2023-01-26T13:36:39.921Z"
   },
   {
    "duration": 28,
    "start_time": "2023-01-26T13:36:40.847Z"
   },
   {
    "duration": 174,
    "start_time": "2023-01-26T13:36:40.877Z"
   },
   {
    "duration": 4,
    "start_time": "2023-01-26T13:36:41.053Z"
   },
   {
    "duration": 5,
    "start_time": "2023-01-26T13:36:41.059Z"
   },
   {
    "duration": 470,
    "start_time": "2023-01-26T13:36:41.066Z"
   },
   {
    "duration": 2010,
    "start_time": "2023-01-27T05:45:16.148Z"
   },
   {
    "duration": 2420,
    "start_time": "2023-01-27T05:45:18.161Z"
   },
   {
    "duration": 33,
    "start_time": "2023-01-27T05:45:20.582Z"
   },
   {
    "duration": 162,
    "start_time": "2023-01-27T05:45:20.618Z"
   },
   {
    "duration": 4,
    "start_time": "2023-01-27T05:45:20.781Z"
   },
   {
    "duration": 10,
    "start_time": "2023-01-27T05:45:20.787Z"
   },
   {
    "duration": 10968,
    "start_time": "2023-01-27T12:29:33.354Z"
   },
   {
    "duration": 1427,
    "start_time": "2023-01-27T12:29:44.325Z"
   },
   {
    "duration": 34,
    "start_time": "2023-01-27T12:29:45.754Z"
   },
   {
    "duration": 128,
    "start_time": "2023-01-27T12:29:45.790Z"
   },
   {
    "duration": 3,
    "start_time": "2023-01-27T12:29:45.919Z"
   },
   {
    "duration": 19,
    "start_time": "2023-01-27T12:29:45.924Z"
   },
   {
    "duration": 4616262,
    "start_time": "2023-01-27T12:29:45.945Z"
   },
   {
    "duration": 11,
    "start_time": "2023-01-27T13:46:42.210Z"
   },
   {
    "duration": 1583,
    "start_time": "2023-01-27T13:46:42.224Z"
   },
   {
    "duration": 0,
    "start_time": "2023-01-27T13:46:43.810Z"
   },
   {
    "duration": 0,
    "start_time": "2023-01-27T13:46:43.811Z"
   },
   {
    "duration": 0,
    "start_time": "2023-01-27T13:46:43.813Z"
   },
   {
    "duration": 0,
    "start_time": "2023-01-27T13:46:43.814Z"
   },
   {
    "duration": 733,
    "start_time": "2023-01-27T13:49:28.537Z"
   },
   {
    "duration": 12,
    "start_time": "2023-01-27T13:50:12.220Z"
   },
   {
    "duration": 1055,
    "start_time": "2023-01-27T13:50:12.234Z"
   },
   {
    "duration": 33,
    "start_time": "2023-01-27T13:50:13.291Z"
   },
   {
    "duration": 208,
    "start_time": "2023-01-27T13:50:13.345Z"
   },
   {
    "duration": 5,
    "start_time": "2023-01-27T13:50:13.560Z"
   },
   {
    "duration": 54,
    "start_time": "2023-01-27T13:50:13.567Z"
   },
   {
    "duration": 63,
    "start_time": "2023-01-27T13:50:13.623Z"
   },
   {
    "duration": 9,
    "start_time": "2023-01-27T14:16:36.519Z"
   },
   {
    "duration": 57,
    "start_time": "2023-01-27T14:16:36.539Z"
   },
   {
    "duration": 0,
    "start_time": "2023-01-27T14:16:36.598Z"
   },
   {
    "duration": 0,
    "start_time": "2023-01-27T14:16:36.599Z"
   },
   {
    "duration": 0,
    "start_time": "2023-01-27T14:16:36.601Z"
   },
   {
    "duration": 0,
    "start_time": "2023-01-27T14:16:36.602Z"
   },
   {
    "duration": 0,
    "start_time": "2023-01-27T14:16:36.607Z"
   },
   {
    "duration": 10,
    "start_time": "2023-01-27T14:17:57.125Z"
   },
   {
    "duration": 94,
    "start_time": "2023-01-27T14:18:03.212Z"
   },
   {
    "duration": 17,
    "start_time": "2023-01-27T14:18:05.459Z"
   },
   {
    "duration": 2489,
    "start_time": "2023-01-27T14:18:07.631Z"
   },
   {
    "duration": 0,
    "start_time": "2023-01-27T14:18:10.122Z"
   },
   {
    "duration": 104,
    "start_time": "2023-01-27T14:18:25.847Z"
   },
   {
    "duration": 17,
    "start_time": "2023-01-27T14:19:12.833Z"
   },
   {
    "duration": 1969,
    "start_time": "2023-01-27T14:19:36.709Z"
   },
   {
    "duration": 1308,
    "start_time": "2023-01-27T14:20:12.705Z"
   },
   {
    "duration": 241,
    "start_time": "2023-01-27T14:20:28.888Z"
   },
   {
    "duration": 9,
    "start_time": "2023-01-27T14:20:42.186Z"
   },
   {
    "duration": 2574,
    "start_time": "2023-01-27T14:21:06.853Z"
   },
   {
    "duration": 3699,
    "start_time": "2023-01-27T14:21:09.429Z"
   },
   {
    "duration": 49,
    "start_time": "2023-01-27T14:21:13.130Z"
   },
   {
    "duration": 202,
    "start_time": "2023-01-27T14:21:13.182Z"
   },
   {
    "duration": 5,
    "start_time": "2023-01-27T14:21:13.388Z"
   },
   {
    "duration": 35,
    "start_time": "2023-01-27T14:21:13.394Z"
   },
   {
    "duration": 70,
    "start_time": "2023-01-27T14:21:13.431Z"
   },
   {
    "duration": 1573122,
    "start_time": "2023-01-27T14:21:13.503Z"
   },
   {
    "duration": 27,
    "start_time": "2023-01-27T14:47:26.627Z"
   },
   {
    "duration": 201,
    "start_time": "2023-01-27T14:47:26.660Z"
   },
   {
    "duration": 10,
    "start_time": "2023-01-27T14:47:26.866Z"
   },
   {
    "duration": 2443,
    "start_time": "2023-01-27T14:47:26.878Z"
   },
   {
    "duration": 12994,
    "start_time": "2023-01-27T14:47:29.323Z"
   },
   {
    "duration": 6,
    "start_time": "2023-01-27T14:47:42.320Z"
   },
   {
    "duration": 94,
    "start_time": "2023-01-27T16:26:12.655Z"
   },
   {
    "duration": 96,
    "start_time": "2023-01-27T16:29:33.645Z"
   },
   {
    "duration": 2337,
    "start_time": "2023-01-27T16:40:55.818Z"
   },
   {
    "duration": 4073,
    "start_time": "2023-01-27T16:40:58.158Z"
   },
   {
    "duration": 28,
    "start_time": "2023-01-27T16:41:02.232Z"
   },
   {
    "duration": 130,
    "start_time": "2023-01-27T16:41:02.262Z"
   },
   {
    "duration": 4,
    "start_time": "2023-01-27T16:41:02.394Z"
   },
   {
    "duration": 36,
    "start_time": "2023-01-27T16:41:02.399Z"
   },
   {
    "duration": 38,
    "start_time": "2023-01-27T16:41:02.437Z"
   },
   {
    "duration": 2006,
    "start_time": "2023-01-27T16:57:37.140Z"
   },
   {
    "duration": 7933,
    "start_time": "2023-01-27T16:57:39.147Z"
   },
   {
    "duration": 5,
    "start_time": "2023-01-27T16:57:47.082Z"
   },
   {
    "duration": 347,
    "start_time": "2023-01-27T16:57:47.088Z"
   },
   {
    "duration": 180,
    "start_time": "2023-01-27T16:57:47.437Z"
   },
   {
    "duration": 3,
    "start_time": "2023-01-27T16:57:47.618Z"
   },
   {
    "duration": 94,
    "start_time": "2023-01-27T16:57:47.622Z"
   },
   {
    "duration": 2012,
    "start_time": "2023-01-27T17:13:47.719Z"
   },
   {
    "duration": 1430,
    "start_time": "2023-01-27T17:13:49.733Z"
   },
   {
    "duration": 31,
    "start_time": "2023-01-27T17:13:51.164Z"
   },
   {
    "duration": 108,
    "start_time": "2023-01-27T17:13:51.197Z"
   },
   {
    "duration": 4,
    "start_time": "2023-01-27T17:13:51.308Z"
   },
   {
    "duration": 7,
    "start_time": "2023-01-27T17:13:51.314Z"
   },
   {
    "duration": 16,
    "start_time": "2023-01-27T17:13:51.322Z"
   },
   {
    "duration": 1057243,
    "start_time": "2023-01-27T17:13:51.339Z"
   },
   {
    "duration": 8,
    "start_time": "2023-01-27T17:31:28.584Z"
   },
   {
    "duration": 77,
    "start_time": "2023-01-27T17:31:28.593Z"
   },
   {
    "duration": 4,
    "start_time": "2023-01-27T17:31:28.671Z"
   },
   {
    "duration": 1844,
    "start_time": "2023-01-27T17:31:28.676Z"
   },
   {
    "duration": 8247,
    "start_time": "2023-01-27T17:31:30.522Z"
   },
   {
    "duration": 5,
    "start_time": "2023-01-27T17:31:38.771Z"
   },
   {
    "duration": 202,
    "start_time": "2023-01-27T17:31:38.777Z"
   },
   {
    "duration": 1193,
    "start_time": "2023-01-27T18:11:03.632Z"
   },
   {
    "duration": 150,
    "start_time": "2023-01-27T18:11:07.295Z"
   },
   {
    "duration": 935,
    "start_time": "2023-01-27T18:11:20.625Z"
   },
   {
    "duration": 1386,
    "start_time": "2023-01-27T18:11:21.562Z"
   },
   {
    "duration": 28,
    "start_time": "2023-01-27T18:11:22.949Z"
   },
   {
    "duration": 108,
    "start_time": "2023-01-27T18:11:22.978Z"
   },
   {
    "duration": 4,
    "start_time": "2023-01-27T18:11:23.088Z"
   },
   {
    "duration": 11,
    "start_time": "2023-01-27T18:11:23.093Z"
   },
   {
    "duration": 6,
    "start_time": "2023-01-27T18:11:23.106Z"
   },
   {
    "duration": 115384,
    "start_time": "2023-01-27T18:11:23.113Z"
   },
   {
    "duration": 7,
    "start_time": "2023-01-27T18:13:18.498Z"
   },
   {
    "duration": 1102,
    "start_time": "2023-01-27T18:13:18.506Z"
   },
   {
    "duration": 0,
    "start_time": "2023-01-27T18:13:19.610Z"
   },
   {
    "duration": 0,
    "start_time": "2023-01-27T18:13:19.611Z"
   },
   {
    "duration": 0,
    "start_time": "2023-01-27T18:13:19.612Z"
   },
   {
    "duration": 0,
    "start_time": "2023-01-27T18:13:19.613Z"
   },
   {
    "duration": 0,
    "start_time": "2023-01-27T18:13:19.615Z"
   },
   {
    "duration": 0,
    "start_time": "2023-01-27T18:13:19.616Z"
   },
   {
    "duration": 0,
    "start_time": "2023-01-27T18:13:19.617Z"
   },
   {
    "duration": 0,
    "start_time": "2023-01-27T18:13:19.618Z"
   },
   {
    "duration": 5,
    "start_time": "2023-01-27T18:13:45.948Z"
   },
   {
    "duration": 689,
    "start_time": "2023-01-27T18:13:45.955Z"
   },
   {
    "duration": 24,
    "start_time": "2023-01-27T18:13:46.646Z"
   },
   {
    "duration": 106,
    "start_time": "2023-01-27T18:13:46.671Z"
   },
   {
    "duration": 3,
    "start_time": "2023-01-27T18:13:46.779Z"
   },
   {
    "duration": 10,
    "start_time": "2023-01-27T18:13:46.783Z"
   },
   {
    "duration": 8,
    "start_time": "2023-01-27T18:13:46.794Z"
   },
   {
    "duration": 1015725,
    "start_time": "2023-01-27T18:13:46.803Z"
   },
   {
    "duration": 14,
    "start_time": "2023-01-27T18:30:42.530Z"
   },
   {
    "duration": 93,
    "start_time": "2023-01-27T18:30:42.546Z"
   },
   {
    "duration": 5,
    "start_time": "2023-01-27T18:30:42.641Z"
   },
   {
    "duration": 1807,
    "start_time": "2023-01-27T18:30:42.648Z"
   },
   {
    "duration": 8357,
    "start_time": "2023-01-27T18:30:44.457Z"
   },
   {
    "duration": 5,
    "start_time": "2023-01-27T18:30:52.816Z"
   },
   {
    "duration": 6,
    "start_time": "2023-01-27T18:30:52.823Z"
   },
   {
    "duration": 13920395,
    "start_time": "2023-01-27T18:30:52.837Z"
   },
   {
    "duration": 2,
    "start_time": "2023-01-27T22:22:53.237Z"
   },
   {
    "duration": 128,
    "start_time": "2023-01-27T22:44:11.776Z"
   },
   {
    "duration": 42,
    "start_time": "2023-01-27T22:45:18.484Z"
   },
   {
    "duration": 3054,
    "start_time": "2023-01-28T08:53:49.927Z"
   },
   {
    "duration": 3768,
    "start_time": "2023-01-28T08:53:52.983Z"
   },
   {
    "duration": 39,
    "start_time": "2023-01-28T08:53:56.757Z"
   },
   {
    "duration": 118,
    "start_time": "2023-01-28T08:53:56.798Z"
   },
   {
    "duration": 3,
    "start_time": "2023-01-28T08:53:56.918Z"
   },
   {
    "duration": 7,
    "start_time": "2023-01-28T08:53:56.922Z"
   },
   {
    "duration": 7,
    "start_time": "2023-01-28T08:53:56.931Z"
   },
   {
    "duration": 1217193,
    "start_time": "2023-01-28T08:53:56.939Z"
   },
   {
    "duration": 19,
    "start_time": "2023-01-28T09:14:14.134Z"
   },
   {
    "duration": 66,
    "start_time": "2023-01-28T09:14:14.156Z"
   },
   {
    "duration": 5,
    "start_time": "2023-01-28T09:14:14.224Z"
   },
   {
    "duration": 49,
    "start_time": "2023-01-28T11:21:10.410Z"
   },
   {
    "duration": 5440,
    "start_time": "2023-01-28T11:21:14.272Z"
   },
   {
    "duration": 3357,
    "start_time": "2023-01-28T11:21:19.714Z"
   },
   {
    "duration": 31,
    "start_time": "2023-01-28T11:21:23.072Z"
   },
   {
    "duration": 123,
    "start_time": "2023-01-28T11:21:23.106Z"
   },
   {
    "duration": 4,
    "start_time": "2023-01-28T11:21:23.230Z"
   },
   {
    "duration": 31,
    "start_time": "2023-01-28T11:21:23.236Z"
   },
   {
    "duration": 11,
    "start_time": "2023-01-28T11:21:23.269Z"
   },
   {
    "duration": 605502,
    "start_time": "2023-01-28T11:21:23.282Z"
   },
   {
    "duration": 7,
    "start_time": "2023-01-28T11:31:28.786Z"
   },
   {
    "duration": 1355,
    "start_time": "2023-01-28T11:31:28.796Z"
   },
   {
    "duration": 0,
    "start_time": "2023-01-28T11:31:30.153Z"
   },
   {
    "duration": 0,
    "start_time": "2023-01-28T11:31:30.154Z"
   },
   {
    "duration": 0,
    "start_time": "2023-01-28T11:31:30.155Z"
   },
   {
    "duration": 0,
    "start_time": "2023-01-28T11:31:30.157Z"
   },
   {
    "duration": 0,
    "start_time": "2023-01-28T11:31:30.158Z"
   },
   {
    "duration": 2555,
    "start_time": "2023-01-28T18:57:27.401Z"
   },
   {
    "duration": 3473,
    "start_time": "2023-01-28T18:57:29.958Z"
   },
   {
    "duration": 28,
    "start_time": "2023-01-28T18:57:33.433Z"
   },
   {
    "duration": 112,
    "start_time": "2023-01-28T18:57:33.462Z"
   },
   {
    "duration": 3,
    "start_time": "2023-01-28T18:57:33.576Z"
   },
   {
    "duration": 26,
    "start_time": "2023-01-28T18:57:33.580Z"
   },
   {
    "duration": 23,
    "start_time": "2023-01-28T18:57:33.608Z"
   },
   {
    "duration": 550500,
    "start_time": "2023-01-28T18:57:33.633Z"
   },
   {
    "duration": 16,
    "start_time": "2023-01-28T19:06:44.134Z"
   },
   {
    "duration": 1229,
    "start_time": "2023-01-28T19:06:44.152Z"
   },
   {
    "duration": 0,
    "start_time": "2023-01-28T19:06:45.382Z"
   },
   {
    "duration": 0,
    "start_time": "2023-01-28T19:06:45.384Z"
   },
   {
    "duration": 0,
    "start_time": "2023-01-28T19:06:45.385Z"
   },
   {
    "duration": 0,
    "start_time": "2023-01-28T19:06:45.386Z"
   },
   {
    "duration": 0,
    "start_time": "2023-01-28T19:06:45.387Z"
   },
   {
    "duration": 0,
    "start_time": "2023-01-28T19:06:45.388Z"
   },
   {
    "duration": 0,
    "start_time": "2023-01-28T19:06:45.389Z"
   },
   {
    "duration": 11,
    "start_time": "2023-01-28T19:07:14.958Z"
   },
   {
    "duration": 699,
    "start_time": "2023-01-28T19:07:14.970Z"
   },
   {
    "duration": 27,
    "start_time": "2023-01-28T19:07:15.671Z"
   },
   {
    "duration": 105,
    "start_time": "2023-01-28T19:07:15.700Z"
   },
   {
    "duration": 3,
    "start_time": "2023-01-28T19:07:15.807Z"
   },
   {
    "duration": 4,
    "start_time": "2023-01-28T19:07:15.813Z"
   },
   {
    "duration": 7,
    "start_time": "2023-01-28T19:07:15.818Z"
   },
   {
    "duration": 100,
    "start_time": "2023-01-28T19:07:15.826Z"
   },
   {
    "duration": 7,
    "start_time": "2023-01-28T19:07:15.928Z"
   },
   {
    "duration": 1189,
    "start_time": "2023-01-28T19:07:15.937Z"
   },
   {
    "duration": 0,
    "start_time": "2023-01-28T19:07:17.127Z"
   },
   {
    "duration": 0,
    "start_time": "2023-01-28T19:07:17.128Z"
   },
   {
    "duration": 0,
    "start_time": "2023-01-28T19:07:17.129Z"
   },
   {
    "duration": 0,
    "start_time": "2023-01-28T19:07:17.130Z"
   },
   {
    "duration": 0,
    "start_time": "2023-01-28T19:07:17.131Z"
   },
   {
    "duration": 0,
    "start_time": "2023-01-28T19:07:17.132Z"
   },
   {
    "duration": 0,
    "start_time": "2023-01-28T19:07:17.133Z"
   },
   {
    "duration": 1847,
    "start_time": "2023-01-28T19:07:35.432Z"
   },
   {
    "duration": 688,
    "start_time": "2023-01-28T19:07:37.281Z"
   },
   {
    "duration": 25,
    "start_time": "2023-01-28T19:07:37.971Z"
   },
   {
    "duration": 115,
    "start_time": "2023-01-28T19:07:37.998Z"
   },
   {
    "duration": 4,
    "start_time": "2023-01-28T19:07:38.114Z"
   },
   {
    "duration": 19,
    "start_time": "2023-01-28T19:07:38.119Z"
   },
   {
    "duration": 9,
    "start_time": "2023-01-28T19:07:38.146Z"
   },
   {
    "duration": 203,
    "start_time": "2023-01-28T19:07:38.156Z"
   },
   {
    "duration": 7,
    "start_time": "2023-01-28T19:07:38.360Z"
   },
   {
    "duration": 1165,
    "start_time": "2023-01-28T19:07:38.369Z"
   },
   {
    "duration": 0,
    "start_time": "2023-01-28T19:07:39.535Z"
   },
   {
    "duration": 0,
    "start_time": "2023-01-28T19:07:39.538Z"
   },
   {
    "duration": 0,
    "start_time": "2023-01-28T19:07:39.539Z"
   },
   {
    "duration": 0,
    "start_time": "2023-01-28T19:07:39.540Z"
   },
   {
    "duration": 0,
    "start_time": "2023-01-28T19:07:39.540Z"
   },
   {
    "duration": 0,
    "start_time": "2023-01-28T19:07:39.541Z"
   },
   {
    "duration": 0,
    "start_time": "2023-01-28T19:07:39.545Z"
   },
   {
    "duration": 1828,
    "start_time": "2023-01-28T19:08:16.155Z"
   },
   {
    "duration": 706,
    "start_time": "2023-01-28T19:08:17.985Z"
   },
   {
    "duration": 32,
    "start_time": "2023-01-28T19:08:18.693Z"
   },
   {
    "duration": 115,
    "start_time": "2023-01-28T19:08:18.743Z"
   },
   {
    "duration": 4,
    "start_time": "2023-01-28T19:08:18.859Z"
   },
   {
    "duration": 10,
    "start_time": "2023-01-28T19:08:18.865Z"
   },
   {
    "duration": 14,
    "start_time": "2023-01-28T19:08:18.876Z"
   },
   {
    "duration": 1056468,
    "start_time": "2023-01-28T19:08:18.891Z"
   },
   {
    "duration": 7,
    "start_time": "2023-01-28T19:25:55.361Z"
   },
   {
    "duration": 72,
    "start_time": "2023-01-28T19:25:55.370Z"
   },
   {
    "duration": 8,
    "start_time": "2023-01-28T19:25:55.444Z"
   },
   {
    "duration": 6,
    "start_time": "2023-01-28T19:25:55.453Z"
   },
   {
    "duration": 6143,
    "start_time": "2023-01-28T19:25:55.461Z"
   },
   {
    "duration": 5,
    "start_time": "2023-01-28T19:26:01.606Z"
   },
   {
    "duration": 16038528,
    "start_time": "2023-01-28T19:26:01.613Z"
   },
   {
    "duration": 7,
    "start_time": "2023-01-28T23:53:20.143Z"
   },
   {
    "duration": 5929004,
    "start_time": "2023-01-28T23:53:20.152Z"
   },
   {
    "duration": 113,
    "start_time": "2023-01-29T06:19:41.451Z"
   },
   {
    "duration": 34,
    "start_time": "2023-01-29T06:20:23.847Z"
   },
   {
    "duration": 22,
    "start_time": "2023-01-29T06:21:47.276Z"
   },
   {
    "duration": 3,
    "start_time": "2023-01-29T06:24:39.784Z"
   },
   {
    "duration": 1577,
    "start_time": "2023-01-29T06:25:31.961Z"
   },
   {
    "duration": 3,
    "start_time": "2023-01-29T06:25:59.263Z"
   },
   {
    "duration": 87,
    "start_time": "2023-01-29T06:26:02.135Z"
   },
   {
    "duration": 2,
    "start_time": "2023-01-29T06:27:18.494Z"
   },
   {
    "duration": 1520,
    "start_time": "2023-01-29T06:27:21.037Z"
   }
  ],
  "kernelspec": {
   "display_name": "Python 3 (ipykernel)",
   "language": "python",
   "name": "python3"
  },
  "language_info": {
   "codemirror_mode": {
    "name": "ipython",
    "version": 3
   },
   "file_extension": ".py",
   "mimetype": "text/x-python",
   "name": "python",
   "nbconvert_exporter": "python",
   "pygments_lexer": "ipython3",
   "version": "3.9.5"
  },
  "toc": {
   "base_numbering": 1,
   "nav_menu": {},
   "number_sections": true,
   "sideBar": true,
   "skip_h1_title": true,
   "title_cell": "Содержание",
   "title_sidebar": "Contents",
   "toc_cell": true,
   "toc_position": {
    "height": "calc(100% - 180px)",
    "left": "10px",
    "top": "150px",
    "width": "302.391px"
   },
   "toc_section_display": true,
   "toc_window_display": false
  }
 },
 "nbformat": 4,
 "nbformat_minor": 2
}
